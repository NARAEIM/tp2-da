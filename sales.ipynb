{
  "nbformat": 4,
  "nbformat_minor": 0,
  "metadata": {
    "colab": {
      "provenance": [],
      "authorship_tag": "ABX9TyNUr6YGwNPIwF3tJ+3MmL57",
      "include_colab_link": true
    },
    "kernelspec": {
      "name": "python3",
      "display_name": "Python 3"
    },
    "language_info": {
      "name": "python"
    }
  },
  "cells": [
    {
      "cell_type": "markdown",
      "metadata": {
        "id": "view-in-github",
        "colab_type": "text"
      },
      "source": [
        "<a href=\"https://colab.research.google.com/github/NARAEIM/tp2-da/blob/jennlee/sales.ipynb\" target=\"_parent\"><img src=\"https://colab.research.google.com/assets/colab-badge.svg\" alt=\"Open In Colab\"/></a>"
      ]
    },
    {
      "cell_type": "code",
      "execution_count": 52,
      "metadata": {
        "colab": {
          "base_uri": "https://localhost:8080/"
        },
        "id": "AXYU-C2_hhSC",
        "outputId": "fa7d32d4-5eb3-45cd-9cda-411e339ec447"
      },
      "outputs": [
        {
          "output_type": "stream",
          "name": "stdout",
          "text": [
            "Drive already mounted at /content/drive; to attempt to forcibly remount, call drive.mount(\"/content/drive\", force_remount=True).\n"
          ]
        }
      ],
      "source": [
        "from google.colab import drive\n",
        "\n",
        "# Mount Google Drive\n",
        "drive.mount('/content/drive')\n",
        "\n",
        "import numpy as np\n",
        "import pandas as pd\n",
        "import matplotlib.pyplot as plt\n",
        "import seaborn as sns\n",
        "\n",
        "import sklearn\n",
        "from sklearn.preprocessing import StandardScaler\n",
        "from sklearn.cluster import KMeans\n",
        "\n",
        "plt.style.use(\"default\")\n",
        "\n",
        "sales = pd.read_csv('/content/drive/MyDrive/co_note/project/data/sales.csv')"
      ]
    },
    {
      "cell_type": "markdown",
      "source": [
        "# sales dataset 생성"
      ],
      "metadata": {
        "id": "EArjnlhvD3kN"
      }
    },
    {
      "cell_type": "code",
      "source": [
        "customer.columns"
      ],
      "metadata": {
        "colab": {
          "base_uri": "https://localhost:8080/"
        },
        "id": "DKz-W15O_v28",
        "outputId": "501e53f3-4fc1-4685-f8c6-36fb1c22c0c4"
      },
      "execution_count": 47,
      "outputs": [
        {
          "output_type": "execute_result",
          "data": {
            "text/plain": [
              "Index(['customer_id', 'gender', 'birthdate', 'home_location',\n",
              "       'first_join_date', 'age_join', 'age_now'],\n",
              "      dtype='object')"
            ]
          },
          "metadata": {},
          "execution_count": 47
        }
      ]
    },
    {
      "cell_type": "code",
      "source": [
        "transaction = pd.read_csv('/content/drive/MyDrive/co_note/project/data/transaction_final.csv')\n",
        "customer = pd.read_csv('/content/drive/MyDrive/co_note/project/data/customer_final.csv')"
      ],
      "metadata": {
        "id": "Ss6suij-9rpz"
      },
      "execution_count": 6,
      "outputs": []
    },
    {
      "cell_type": "code",
      "source": [
        "# Sort the transaction dataframe by customer_id and created_at\n",
        "transaction.sort_values(by=['customer_id', 'created_at'], inplace=True)\n",
        "\n",
        "# Calculate the 'sales' column\n",
        "sales = pd.DataFrame(transaction.groupby(['customer_id', 'booking_id']).total_amount.unique() - transaction.groupby(['customer_id', 'booking_id']).shipment_fee.unique())\n",
        "\n",
        "# Reset index to get 'customer_id' and 'booking_id' as columns\n",
        "sales = sales.reset_index()\n",
        "\n",
        "# Merge with the original transaction dataframe to include additional columns\n",
        "sales = pd.merge(sales, transaction[['customer_id', 'booking_id', 'created_at', 'total_amount', 'promo_amount', 'shipment_fee']], on=['customer_id', 'booking_id'], how='left')\n",
        "\n",
        "# Display the resulting dataset\n",
        "sales.head()"
      ],
      "metadata": {
        "id": "-HOqwnhr-IFG"
      },
      "execution_count": null,
      "outputs": []
    },
    {
      "cell_type": "code",
      "source": [
        "# Merge with the original transaction dataframe to include additional columns\n",
        "sales = pd.merge(sales, customer[['customer_id', 'gender', 'age_now', 'first_join_date']], on=['customer_id'], how='left')"
      ],
      "metadata": {
        "id": "IFuPFASv_mpZ"
      },
      "execution_count": 53,
      "outputs": []
    },
    {
      "cell_type": "code",
      "source": [
        "sales.drop_duplicates(subset='booking_id', inplace=True)"
      ],
      "metadata": {
        "id": "LE--NNVbCs9c"
      },
      "execution_count": 56,
      "outputs": []
    },
    {
      "cell_type": "code",
      "source": [
        "sales.head()"
      ],
      "metadata": {
        "colab": {
          "base_uri": "https://localhost:8080/",
          "height": 206
        },
        "id": "fz-BfJnaCwom",
        "outputId": "470c5f77-60fb-4177-ffe7-03392c62d4e9"
      },
      "execution_count": 54,
      "outputs": [
        {
          "output_type": "execute_result",
          "data": {
            "text/plain": [
              "   customer_id                            booking_id  \\\n",
              "0            3  0b3f17a4-f733-4eac-b9e9-37c039746e95   \n",
              "1            3  0fb5a9e6-f306-4c37-b7f0-992bc78064a7   \n",
              "2            3  1229bd35-7747-447a-a60b-02860bf7da7e   \n",
              "3            3  163e447d-f2c2-4fac-b8a1-015eb01afd41   \n",
              "4            3  182774df-3cde-46cf-b302-4d93e0d94288   \n",
              "\n",
              "                         created_at  total_amount  promo_amount  shipment_fee  \\\n",
              "0  2020-05-31 05:45:52.844494+00:00        174717          3791             0   \n",
              "1  2022-06-26 15:41:52.844494+00:00        189939          4240             0   \n",
              "2  2021-07-25 10:24:57.844494+00:00        287523             0             0   \n",
              "3  2020-06-28 06:31:43.844494+00:00        359032          1472             0   \n",
              "4  2021-01-10 07:56:16.844494+00:00        205436          4746          5000   \n",
              "\n",
              "    sales gender  age_now first_join_date  \n",
              "0  170926      M       36      2018-08-25  \n",
              "1  185699      M       36      2018-08-25  \n",
              "2  287523      M       36      2018-08-25  \n",
              "3  357560      M       36      2018-08-25  \n",
              "4  195690      M       36      2018-08-25  "
            ],
            "text/html": [
              "\n",
              "  <div id=\"df-e08736a6-3ba9-4fdc-baeb-2f801f8ace79\">\n",
              "    <div class=\"colab-df-container\">\n",
              "      <div>\n",
              "<style scoped>\n",
              "    .dataframe tbody tr th:only-of-type {\n",
              "        vertical-align: middle;\n",
              "    }\n",
              "\n",
              "    .dataframe tbody tr th {\n",
              "        vertical-align: top;\n",
              "    }\n",
              "\n",
              "    .dataframe thead th {\n",
              "        text-align: right;\n",
              "    }\n",
              "</style>\n",
              "<table border=\"1\" class=\"dataframe\">\n",
              "  <thead>\n",
              "    <tr style=\"text-align: right;\">\n",
              "      <th></th>\n",
              "      <th>customer_id</th>\n",
              "      <th>booking_id</th>\n",
              "      <th>created_at</th>\n",
              "      <th>total_amount</th>\n",
              "      <th>promo_amount</th>\n",
              "      <th>shipment_fee</th>\n",
              "      <th>sales</th>\n",
              "      <th>gender</th>\n",
              "      <th>age_now</th>\n",
              "      <th>first_join_date</th>\n",
              "    </tr>\n",
              "  </thead>\n",
              "  <tbody>\n",
              "    <tr>\n",
              "      <th>0</th>\n",
              "      <td>3</td>\n",
              "      <td>0b3f17a4-f733-4eac-b9e9-37c039746e95</td>\n",
              "      <td>2020-05-31 05:45:52.844494+00:00</td>\n",
              "      <td>174717</td>\n",
              "      <td>3791</td>\n",
              "      <td>0</td>\n",
              "      <td>170926</td>\n",
              "      <td>M</td>\n",
              "      <td>36</td>\n",
              "      <td>2018-08-25</td>\n",
              "    </tr>\n",
              "    <tr>\n",
              "      <th>1</th>\n",
              "      <td>3</td>\n",
              "      <td>0fb5a9e6-f306-4c37-b7f0-992bc78064a7</td>\n",
              "      <td>2022-06-26 15:41:52.844494+00:00</td>\n",
              "      <td>189939</td>\n",
              "      <td>4240</td>\n",
              "      <td>0</td>\n",
              "      <td>185699</td>\n",
              "      <td>M</td>\n",
              "      <td>36</td>\n",
              "      <td>2018-08-25</td>\n",
              "    </tr>\n",
              "    <tr>\n",
              "      <th>2</th>\n",
              "      <td>3</td>\n",
              "      <td>1229bd35-7747-447a-a60b-02860bf7da7e</td>\n",
              "      <td>2021-07-25 10:24:57.844494+00:00</td>\n",
              "      <td>287523</td>\n",
              "      <td>0</td>\n",
              "      <td>0</td>\n",
              "      <td>287523</td>\n",
              "      <td>M</td>\n",
              "      <td>36</td>\n",
              "      <td>2018-08-25</td>\n",
              "    </tr>\n",
              "    <tr>\n",
              "      <th>3</th>\n",
              "      <td>3</td>\n",
              "      <td>163e447d-f2c2-4fac-b8a1-015eb01afd41</td>\n",
              "      <td>2020-06-28 06:31:43.844494+00:00</td>\n",
              "      <td>359032</td>\n",
              "      <td>1472</td>\n",
              "      <td>0</td>\n",
              "      <td>357560</td>\n",
              "      <td>M</td>\n",
              "      <td>36</td>\n",
              "      <td>2018-08-25</td>\n",
              "    </tr>\n",
              "    <tr>\n",
              "      <th>4</th>\n",
              "      <td>3</td>\n",
              "      <td>182774df-3cde-46cf-b302-4d93e0d94288</td>\n",
              "      <td>2021-01-10 07:56:16.844494+00:00</td>\n",
              "      <td>205436</td>\n",
              "      <td>4746</td>\n",
              "      <td>5000</td>\n",
              "      <td>195690</td>\n",
              "      <td>M</td>\n",
              "      <td>36</td>\n",
              "      <td>2018-08-25</td>\n",
              "    </tr>\n",
              "  </tbody>\n",
              "</table>\n",
              "</div>\n",
              "      <button class=\"colab-df-convert\" onclick=\"convertToInteractive('df-e08736a6-3ba9-4fdc-baeb-2f801f8ace79')\"\n",
              "              title=\"Convert this dataframe to an interactive table.\"\n",
              "              style=\"display:none;\">\n",
              "        \n",
              "  <svg xmlns=\"http://www.w3.org/2000/svg\" height=\"24px\"viewBox=\"0 0 24 24\"\n",
              "       width=\"24px\">\n",
              "    <path d=\"M0 0h24v24H0V0z\" fill=\"none\"/>\n",
              "    <path d=\"M18.56 5.44l.94 2.06.94-2.06 2.06-.94-2.06-.94-.94-2.06-.94 2.06-2.06.94zm-11 1L8.5 8.5l.94-2.06 2.06-.94-2.06-.94L8.5 2.5l-.94 2.06-2.06.94zm10 10l.94 2.06.94-2.06 2.06-.94-2.06-.94-.94-2.06-.94 2.06-2.06.94z\"/><path d=\"M17.41 7.96l-1.37-1.37c-.4-.4-.92-.59-1.43-.59-.52 0-1.04.2-1.43.59L10.3 9.45l-7.72 7.72c-.78.78-.78 2.05 0 2.83L4 21.41c.39.39.9.59 1.41.59.51 0 1.02-.2 1.41-.59l7.78-7.78 2.81-2.81c.8-.78.8-2.07 0-2.86zM5.41 20L4 18.59l7.72-7.72 1.47 1.35L5.41 20z\"/>\n",
              "  </svg>\n",
              "      </button>\n",
              "      \n",
              "  <style>\n",
              "    .colab-df-container {\n",
              "      display:flex;\n",
              "      flex-wrap:wrap;\n",
              "      gap: 12px;\n",
              "    }\n",
              "\n",
              "    .colab-df-convert {\n",
              "      background-color: #E8F0FE;\n",
              "      border: none;\n",
              "      border-radius: 50%;\n",
              "      cursor: pointer;\n",
              "      display: none;\n",
              "      fill: #1967D2;\n",
              "      height: 32px;\n",
              "      padding: 0 0 0 0;\n",
              "      width: 32px;\n",
              "    }\n",
              "\n",
              "    .colab-df-convert:hover {\n",
              "      background-color: #E2EBFA;\n",
              "      box-shadow: 0px 1px 2px rgba(60, 64, 67, 0.3), 0px 1px 3px 1px rgba(60, 64, 67, 0.15);\n",
              "      fill: #174EA6;\n",
              "    }\n",
              "\n",
              "    [theme=dark] .colab-df-convert {\n",
              "      background-color: #3B4455;\n",
              "      fill: #D2E3FC;\n",
              "    }\n",
              "\n",
              "    [theme=dark] .colab-df-convert:hover {\n",
              "      background-color: #434B5C;\n",
              "      box-shadow: 0px 1px 3px 1px rgba(0, 0, 0, 0.15);\n",
              "      filter: drop-shadow(0px 1px 2px rgba(0, 0, 0, 0.3));\n",
              "      fill: #FFFFFF;\n",
              "    }\n",
              "  </style>\n",
              "\n",
              "      <script>\n",
              "        const buttonEl =\n",
              "          document.querySelector('#df-e08736a6-3ba9-4fdc-baeb-2f801f8ace79 button.colab-df-convert');\n",
              "        buttonEl.style.display =\n",
              "          google.colab.kernel.accessAllowed ? 'block' : 'none';\n",
              "\n",
              "        async function convertToInteractive(key) {\n",
              "          const element = document.querySelector('#df-e08736a6-3ba9-4fdc-baeb-2f801f8ace79');\n",
              "          const dataTable =\n",
              "            await google.colab.kernel.invokeFunction('convertToInteractive',\n",
              "                                                     [key], {});\n",
              "          if (!dataTable) return;\n",
              "\n",
              "          const docLinkHtml = 'Like what you see? Visit the ' +\n",
              "            '<a target=\"_blank\" href=https://colab.research.google.com/notebooks/data_table.ipynb>data table notebook</a>'\n",
              "            + ' to learn more about interactive tables.';\n",
              "          element.innerHTML = '';\n",
              "          dataTable['output_type'] = 'display_data';\n",
              "          await google.colab.output.renderOutput(dataTable, element);\n",
              "          const docLink = document.createElement('div');\n",
              "          docLink.innerHTML = docLinkHtml;\n",
              "          element.appendChild(docLink);\n",
              "        }\n",
              "      </script>\n",
              "    </div>\n",
              "  </div>\n",
              "  "
            ]
          },
          "metadata": {},
          "execution_count": 54
        }
      ]
    },
    {
      "cell_type": "code",
      "source": [
        "sales.shape"
      ],
      "metadata": {
        "colab": {
          "base_uri": "https://localhost:8080/"
        },
        "id": "uxa7Bx3lBRIU",
        "outputId": "7861563a-a7cd-4143-d6f1-31acbb69773e"
      },
      "execution_count": 57,
      "outputs": [
        {
          "output_type": "execute_result",
          "data": {
            "text/plain": [
              "(852582, 10)"
            ]
          },
          "metadata": {},
          "execution_count": 57
        }
      ]
    },
    {
      "cell_type": "code",
      "source": [
        "sales.booking_id.duplicated().sum()"
      ],
      "metadata": {
        "colab": {
          "base_uri": "https://localhost:8080/"
        },
        "id": "rLsyL2_NCP31",
        "outputId": "a3eedd5b-b0a0-4661-8043-ce1da03307a1"
      },
      "execution_count": 46,
      "outputs": [
        {
          "output_type": "execute_result",
          "data": {
            "text/plain": [
              "0"
            ]
          },
          "metadata": {},
          "execution_count": 46
        }
      ]
    },
    {
      "cell_type": "code",
      "source": [
        "1254578-401996"
      ],
      "metadata": {
        "colab": {
          "base_uri": "https://localhost:8080/"
        },
        "id": "pa05I-soCjG_",
        "outputId": "e3b36d0b-4d16-47cd-d231-b9ad7795fb90"
      },
      "execution_count": 14,
      "outputs": [
        {
          "output_type": "execute_result",
          "data": {
            "text/plain": [
              "852582"
            ]
          },
          "metadata": {},
          "execution_count": 14
        }
      ]
    },
    {
      "cell_type": "code",
      "source": [
        "sales['sales'] = sales['total_amount'] - sales['promo_amount'] - sales['shipment_fee']"
      ],
      "metadata": {
        "id": "hKNHzKhKEcRS"
      },
      "execution_count": null,
      "outputs": []
    },
    {
      "cell_type": "code",
      "source": [
        "sales.drop(axis=0, index=None, columns='0', inplace=True, errors='raise')"
      ],
      "metadata": {
        "id": "43W0f3DT-yBJ"
      },
      "execution_count": null,
      "outputs": []
    },
    {
      "cell_type": "code",
      "source": [
        "sales.info()"
      ],
      "metadata": {
        "id": "c7XZXnTs-z1T"
      },
      "execution_count": null,
      "outputs": []
    },
    {
      "cell_type": "code",
      "source": [
        "# sale dataset 저장\n",
        "file_path = '/content/drive/MyDrive/co_note/project/data/sales.csv'\n",
        "sales.to_csv(file_path, index=False)"
      ],
      "metadata": {
        "id": "iRpFEOPeC74Q"
      },
      "execution_count": 58,
      "outputs": []
    },
    {
      "cell_type": "markdown",
      "source": [
        "# sales 분석"
      ],
      "metadata": {
        "id": "cT162Em7D9B9"
      }
    },
    {
      "cell_type": "code",
      "source": [
        "display(sales.head(), sales.info())"
      ],
      "metadata": {
        "colab": {
          "base_uri": "https://localhost:8080/",
          "height": 528
        },
        "id": "FrzLuDduDdT_",
        "outputId": "09367ea0-630e-4ce2-e643-7839cf0023fb"
      },
      "execution_count": 59,
      "outputs": [
        {
          "output_type": "stream",
          "name": "stdout",
          "text": [
            "<class 'pandas.core.frame.DataFrame'>\n",
            "Int64Index: 852582 entries, 0 to 852581\n",
            "Data columns (total 10 columns):\n",
            " #   Column           Non-Null Count   Dtype \n",
            "---  ------           --------------   ----- \n",
            " 0   customer_id      852582 non-null  int64 \n",
            " 1   booking_id       852582 non-null  object\n",
            " 2   created_at       852582 non-null  object\n",
            " 3   total_amount     852582 non-null  int64 \n",
            " 4   promo_amount     852582 non-null  int64 \n",
            " 5   shipment_fee     852582 non-null  int64 \n",
            " 6   sales            852582 non-null  int64 \n",
            " 7   gender           852582 non-null  object\n",
            " 8   age_now          852582 non-null  int64 \n",
            " 9   first_join_date  852582 non-null  object\n",
            "dtypes: int64(6), object(4)\n",
            "memory usage: 71.6+ MB\n"
          ]
        },
        {
          "output_type": "display_data",
          "data": {
            "text/plain": [
              "   customer_id                            booking_id  \\\n",
              "0            3  0b3f17a4-f733-4eac-b9e9-37c039746e95   \n",
              "1            3  0fb5a9e6-f306-4c37-b7f0-992bc78064a7   \n",
              "2            3  1229bd35-7747-447a-a60b-02860bf7da7e   \n",
              "3            3  163e447d-f2c2-4fac-b8a1-015eb01afd41   \n",
              "4            3  182774df-3cde-46cf-b302-4d93e0d94288   \n",
              "\n",
              "                         created_at  total_amount  promo_amount  shipment_fee  \\\n",
              "0  2020-05-31 05:45:52.844494+00:00        174717          3791             0   \n",
              "1  2022-06-26 15:41:52.844494+00:00        189939          4240             0   \n",
              "2  2021-07-25 10:24:57.844494+00:00        287523             0             0   \n",
              "3  2020-06-28 06:31:43.844494+00:00        359032          1472             0   \n",
              "4  2021-01-10 07:56:16.844494+00:00        205436          4746          5000   \n",
              "\n",
              "    sales gender  age_now first_join_date  \n",
              "0  170926      M       36      2018-08-25  \n",
              "1  185699      M       36      2018-08-25  \n",
              "2  287523      M       36      2018-08-25  \n",
              "3  357560      M       36      2018-08-25  \n",
              "4  195690      M       36      2018-08-25  "
            ],
            "text/html": [
              "\n",
              "  <div id=\"df-a05fc7b8-33a8-4728-a9d4-94610e0f4a78\">\n",
              "    <div class=\"colab-df-container\">\n",
              "      <div>\n",
              "<style scoped>\n",
              "    .dataframe tbody tr th:only-of-type {\n",
              "        vertical-align: middle;\n",
              "    }\n",
              "\n",
              "    .dataframe tbody tr th {\n",
              "        vertical-align: top;\n",
              "    }\n",
              "\n",
              "    .dataframe thead th {\n",
              "        text-align: right;\n",
              "    }\n",
              "</style>\n",
              "<table border=\"1\" class=\"dataframe\">\n",
              "  <thead>\n",
              "    <tr style=\"text-align: right;\">\n",
              "      <th></th>\n",
              "      <th>customer_id</th>\n",
              "      <th>booking_id</th>\n",
              "      <th>created_at</th>\n",
              "      <th>total_amount</th>\n",
              "      <th>promo_amount</th>\n",
              "      <th>shipment_fee</th>\n",
              "      <th>sales</th>\n",
              "      <th>gender</th>\n",
              "      <th>age_now</th>\n",
              "      <th>first_join_date</th>\n",
              "    </tr>\n",
              "  </thead>\n",
              "  <tbody>\n",
              "    <tr>\n",
              "      <th>0</th>\n",
              "      <td>3</td>\n",
              "      <td>0b3f17a4-f733-4eac-b9e9-37c039746e95</td>\n",
              "      <td>2020-05-31 05:45:52.844494+00:00</td>\n",
              "      <td>174717</td>\n",
              "      <td>3791</td>\n",
              "      <td>0</td>\n",
              "      <td>170926</td>\n",
              "      <td>M</td>\n",
              "      <td>36</td>\n",
              "      <td>2018-08-25</td>\n",
              "    </tr>\n",
              "    <tr>\n",
              "      <th>1</th>\n",
              "      <td>3</td>\n",
              "      <td>0fb5a9e6-f306-4c37-b7f0-992bc78064a7</td>\n",
              "      <td>2022-06-26 15:41:52.844494+00:00</td>\n",
              "      <td>189939</td>\n",
              "      <td>4240</td>\n",
              "      <td>0</td>\n",
              "      <td>185699</td>\n",
              "      <td>M</td>\n",
              "      <td>36</td>\n",
              "      <td>2018-08-25</td>\n",
              "    </tr>\n",
              "    <tr>\n",
              "      <th>2</th>\n",
              "      <td>3</td>\n",
              "      <td>1229bd35-7747-447a-a60b-02860bf7da7e</td>\n",
              "      <td>2021-07-25 10:24:57.844494+00:00</td>\n",
              "      <td>287523</td>\n",
              "      <td>0</td>\n",
              "      <td>0</td>\n",
              "      <td>287523</td>\n",
              "      <td>M</td>\n",
              "      <td>36</td>\n",
              "      <td>2018-08-25</td>\n",
              "    </tr>\n",
              "    <tr>\n",
              "      <th>3</th>\n",
              "      <td>3</td>\n",
              "      <td>163e447d-f2c2-4fac-b8a1-015eb01afd41</td>\n",
              "      <td>2020-06-28 06:31:43.844494+00:00</td>\n",
              "      <td>359032</td>\n",
              "      <td>1472</td>\n",
              "      <td>0</td>\n",
              "      <td>357560</td>\n",
              "      <td>M</td>\n",
              "      <td>36</td>\n",
              "      <td>2018-08-25</td>\n",
              "    </tr>\n",
              "    <tr>\n",
              "      <th>4</th>\n",
              "      <td>3</td>\n",
              "      <td>182774df-3cde-46cf-b302-4d93e0d94288</td>\n",
              "      <td>2021-01-10 07:56:16.844494+00:00</td>\n",
              "      <td>205436</td>\n",
              "      <td>4746</td>\n",
              "      <td>5000</td>\n",
              "      <td>195690</td>\n",
              "      <td>M</td>\n",
              "      <td>36</td>\n",
              "      <td>2018-08-25</td>\n",
              "    </tr>\n",
              "  </tbody>\n",
              "</table>\n",
              "</div>\n",
              "      <button class=\"colab-df-convert\" onclick=\"convertToInteractive('df-a05fc7b8-33a8-4728-a9d4-94610e0f4a78')\"\n",
              "              title=\"Convert this dataframe to an interactive table.\"\n",
              "              style=\"display:none;\">\n",
              "        \n",
              "  <svg xmlns=\"http://www.w3.org/2000/svg\" height=\"24px\"viewBox=\"0 0 24 24\"\n",
              "       width=\"24px\">\n",
              "    <path d=\"M0 0h24v24H0V0z\" fill=\"none\"/>\n",
              "    <path d=\"M18.56 5.44l.94 2.06.94-2.06 2.06-.94-2.06-.94-.94-2.06-.94 2.06-2.06.94zm-11 1L8.5 8.5l.94-2.06 2.06-.94-2.06-.94L8.5 2.5l-.94 2.06-2.06.94zm10 10l.94 2.06.94-2.06 2.06-.94-2.06-.94-.94-2.06-.94 2.06-2.06.94z\"/><path d=\"M17.41 7.96l-1.37-1.37c-.4-.4-.92-.59-1.43-.59-.52 0-1.04.2-1.43.59L10.3 9.45l-7.72 7.72c-.78.78-.78 2.05 0 2.83L4 21.41c.39.39.9.59 1.41.59.51 0 1.02-.2 1.41-.59l7.78-7.78 2.81-2.81c.8-.78.8-2.07 0-2.86zM5.41 20L4 18.59l7.72-7.72 1.47 1.35L5.41 20z\"/>\n",
              "  </svg>\n",
              "      </button>\n",
              "      \n",
              "  <style>\n",
              "    .colab-df-container {\n",
              "      display:flex;\n",
              "      flex-wrap:wrap;\n",
              "      gap: 12px;\n",
              "    }\n",
              "\n",
              "    .colab-df-convert {\n",
              "      background-color: #E8F0FE;\n",
              "      border: none;\n",
              "      border-radius: 50%;\n",
              "      cursor: pointer;\n",
              "      display: none;\n",
              "      fill: #1967D2;\n",
              "      height: 32px;\n",
              "      padding: 0 0 0 0;\n",
              "      width: 32px;\n",
              "    }\n",
              "\n",
              "    .colab-df-convert:hover {\n",
              "      background-color: #E2EBFA;\n",
              "      box-shadow: 0px 1px 2px rgba(60, 64, 67, 0.3), 0px 1px 3px 1px rgba(60, 64, 67, 0.15);\n",
              "      fill: #174EA6;\n",
              "    }\n",
              "\n",
              "    [theme=dark] .colab-df-convert {\n",
              "      background-color: #3B4455;\n",
              "      fill: #D2E3FC;\n",
              "    }\n",
              "\n",
              "    [theme=dark] .colab-df-convert:hover {\n",
              "      background-color: #434B5C;\n",
              "      box-shadow: 0px 1px 3px 1px rgba(0, 0, 0, 0.15);\n",
              "      filter: drop-shadow(0px 1px 2px rgba(0, 0, 0, 0.3));\n",
              "      fill: #FFFFFF;\n",
              "    }\n",
              "  </style>\n",
              "\n",
              "      <script>\n",
              "        const buttonEl =\n",
              "          document.querySelector('#df-a05fc7b8-33a8-4728-a9d4-94610e0f4a78 button.colab-df-convert');\n",
              "        buttonEl.style.display =\n",
              "          google.colab.kernel.accessAllowed ? 'block' : 'none';\n",
              "\n",
              "        async function convertToInteractive(key) {\n",
              "          const element = document.querySelector('#df-a05fc7b8-33a8-4728-a9d4-94610e0f4a78');\n",
              "          const dataTable =\n",
              "            await google.colab.kernel.invokeFunction('convertToInteractive',\n",
              "                                                     [key], {});\n",
              "          if (!dataTable) return;\n",
              "\n",
              "          const docLinkHtml = 'Like what you see? Visit the ' +\n",
              "            '<a target=\"_blank\" href=https://colab.research.google.com/notebooks/data_table.ipynb>data table notebook</a>'\n",
              "            + ' to learn more about interactive tables.';\n",
              "          element.innerHTML = '';\n",
              "          dataTable['output_type'] = 'display_data';\n",
              "          await google.colab.output.renderOutput(dataTable, element);\n",
              "          const docLink = document.createElement('div');\n",
              "          docLink.innerHTML = docLinkHtml;\n",
              "          element.appendChild(docLink);\n",
              "        }\n",
              "      </script>\n",
              "    </div>\n",
              "  </div>\n",
              "  "
            ]
          },
          "metadata": {}
        },
        {
          "output_type": "display_data",
          "data": {
            "text/plain": [
              "None"
            ]
          },
          "metadata": {}
        }
      ]
    },
    {
      "cell_type": "code",
      "source": [
        "sales['created_at'] = pd.to_datetime(sales['created_at'])\n",
        "sales['y_m'] = sales['created_at'].dt.to_period('M')"
      ],
      "metadata": {
        "colab": {
          "base_uri": "https://localhost:8080/"
        },
        "id": "WTVsJXdQECUe",
        "outputId": "5571ce27-a724-4cb9-852f-5fa4677d6b5d"
      },
      "execution_count": 60,
      "outputs": [
        {
          "output_type": "stream",
          "name": "stderr",
          "text": [
            "<ipython-input-60-3c8275dc2cd7>:2: UserWarning: Converting to PeriodArray/Index representation will drop timezone information.\n",
            "  sales['y_m'] = sales['created_at'].dt.to_period('M')\n"
          ]
        }
      ]
    },
    {
      "cell_type": "code",
      "source": [
        "sales.info()"
      ],
      "metadata": {
        "colab": {
          "base_uri": "https://localhost:8080/"
        },
        "id": "w2XsSF384Yni",
        "outputId": "101ddf66-3c95-4a2c-f5b9-e05885d4fbc1"
      },
      "execution_count": 64,
      "outputs": [
        {
          "output_type": "stream",
          "name": "stdout",
          "text": [
            "<class 'pandas.core.frame.DataFrame'>\n",
            "Int64Index: 852582 entries, 0 to 852581\n",
            "Data columns (total 11 columns):\n",
            " #   Column           Non-Null Count   Dtype              \n",
            "---  ------           --------------   -----              \n",
            " 0   customer_id      852582 non-null  int64              \n",
            " 1   booking_id       852582 non-null  object             \n",
            " 2   created_at       852582 non-null  datetime64[ns, UTC]\n",
            " 3   total_amount     852582 non-null  int64              \n",
            " 4   promo_amount     852582 non-null  int64              \n",
            " 5   shipment_fee     852582 non-null  int64              \n",
            " 6   sales            852582 non-null  int64              \n",
            " 7   gender           852582 non-null  object             \n",
            " 8   age_now          852582 non-null  int64              \n",
            " 9   first_join_date  852582 non-null  object             \n",
            " 10  y_m              852582 non-null  period[M]          \n",
            "dtypes: datetime64[ns, UTC](1), int64(6), object(3), period[M](1)\n",
            "memory usage: 78.1+ MB\n"
          ]
        }
      ]
    },
    {
      "cell_type": "code",
      "source": [
        "그래프 그리기: 월별로 그리되 연도 라인 6개로 각자."
      ],
      "metadata": {
        "colab": {
          "base_uri": "https://localhost:8080/",
          "height": 206
        },
        "id": "PR9FJ-hfFhV9",
        "outputId": "3fb8aee8-cf19-4552-e647-68eb6c8f0966"
      },
      "execution_count": 38,
      "outputs": [
        {
          "output_type": "execute_result",
          "data": {
            "text/plain": [
              "   customer_id                            booking_id created_at  total_amount  \\\n",
              "0            3  0b3f17a4-f733-4eac-b9e9-37c039746e95 2020-05-31        174717   \n",
              "1            3  0fb5a9e6-f306-4c37-b7f0-992bc78064a7 2022-06-26        189939   \n",
              "2            3  1229bd35-7747-447a-a60b-02860bf7da7e 2021-07-25        287523   \n",
              "3            3  163e447d-f2c2-4fac-b8a1-015eb01afd41 2020-06-28        359032   \n",
              "4            3  182774df-3cde-46cf-b302-4d93e0d94288 2021-01-10        205436   \n",
              "\n",
              "   promo_amount  shipment_fee   sales      y_m  \n",
              "0          3791             0  170926  2020-05  \n",
              "1          4240             0  185699  2022-06  \n",
              "2             0             0  287523  2021-07  \n",
              "3          1472             0  357560  2020-06  \n",
              "4          4746          5000  195690  2021-01  "
            ],
            "text/html": [
              "\n",
              "  <div id=\"df-796ebb9b-087f-4ece-b7e8-d48fd200c891\">\n",
              "    <div class=\"colab-df-container\">\n",
              "      <div>\n",
              "<style scoped>\n",
              "    .dataframe tbody tr th:only-of-type {\n",
              "        vertical-align: middle;\n",
              "    }\n",
              "\n",
              "    .dataframe tbody tr th {\n",
              "        vertical-align: top;\n",
              "    }\n",
              "\n",
              "    .dataframe thead th {\n",
              "        text-align: right;\n",
              "    }\n",
              "</style>\n",
              "<table border=\"1\" class=\"dataframe\">\n",
              "  <thead>\n",
              "    <tr style=\"text-align: right;\">\n",
              "      <th></th>\n",
              "      <th>customer_id</th>\n",
              "      <th>booking_id</th>\n",
              "      <th>created_at</th>\n",
              "      <th>total_amount</th>\n",
              "      <th>promo_amount</th>\n",
              "      <th>shipment_fee</th>\n",
              "      <th>sales</th>\n",
              "      <th>y_m</th>\n",
              "    </tr>\n",
              "  </thead>\n",
              "  <tbody>\n",
              "    <tr>\n",
              "      <th>0</th>\n",
              "      <td>3</td>\n",
              "      <td>0b3f17a4-f733-4eac-b9e9-37c039746e95</td>\n",
              "      <td>2020-05-31</td>\n",
              "      <td>174717</td>\n",
              "      <td>3791</td>\n",
              "      <td>0</td>\n",
              "      <td>170926</td>\n",
              "      <td>2020-05</td>\n",
              "    </tr>\n",
              "    <tr>\n",
              "      <th>1</th>\n",
              "      <td>3</td>\n",
              "      <td>0fb5a9e6-f306-4c37-b7f0-992bc78064a7</td>\n",
              "      <td>2022-06-26</td>\n",
              "      <td>189939</td>\n",
              "      <td>4240</td>\n",
              "      <td>0</td>\n",
              "      <td>185699</td>\n",
              "      <td>2022-06</td>\n",
              "    </tr>\n",
              "    <tr>\n",
              "      <th>2</th>\n",
              "      <td>3</td>\n",
              "      <td>1229bd35-7747-447a-a60b-02860bf7da7e</td>\n",
              "      <td>2021-07-25</td>\n",
              "      <td>287523</td>\n",
              "      <td>0</td>\n",
              "      <td>0</td>\n",
              "      <td>287523</td>\n",
              "      <td>2021-07</td>\n",
              "    </tr>\n",
              "    <tr>\n",
              "      <th>3</th>\n",
              "      <td>3</td>\n",
              "      <td>163e447d-f2c2-4fac-b8a1-015eb01afd41</td>\n",
              "      <td>2020-06-28</td>\n",
              "      <td>359032</td>\n",
              "      <td>1472</td>\n",
              "      <td>0</td>\n",
              "      <td>357560</td>\n",
              "      <td>2020-06</td>\n",
              "    </tr>\n",
              "    <tr>\n",
              "      <th>4</th>\n",
              "      <td>3</td>\n",
              "      <td>182774df-3cde-46cf-b302-4d93e0d94288</td>\n",
              "      <td>2021-01-10</td>\n",
              "      <td>205436</td>\n",
              "      <td>4746</td>\n",
              "      <td>5000</td>\n",
              "      <td>195690</td>\n",
              "      <td>2021-01</td>\n",
              "    </tr>\n",
              "  </tbody>\n",
              "</table>\n",
              "</div>\n",
              "      <button class=\"colab-df-convert\" onclick=\"convertToInteractive('df-796ebb9b-087f-4ece-b7e8-d48fd200c891')\"\n",
              "              title=\"Convert this dataframe to an interactive table.\"\n",
              "              style=\"display:none;\">\n",
              "        \n",
              "  <svg xmlns=\"http://www.w3.org/2000/svg\" height=\"24px\"viewBox=\"0 0 24 24\"\n",
              "       width=\"24px\">\n",
              "    <path d=\"M0 0h24v24H0V0z\" fill=\"none\"/>\n",
              "    <path d=\"M18.56 5.44l.94 2.06.94-2.06 2.06-.94-2.06-.94-.94-2.06-.94 2.06-2.06.94zm-11 1L8.5 8.5l.94-2.06 2.06-.94-2.06-.94L8.5 2.5l-.94 2.06-2.06.94zm10 10l.94 2.06.94-2.06 2.06-.94-2.06-.94-.94-2.06-.94 2.06-2.06.94z\"/><path d=\"M17.41 7.96l-1.37-1.37c-.4-.4-.92-.59-1.43-.59-.52 0-1.04.2-1.43.59L10.3 9.45l-7.72 7.72c-.78.78-.78 2.05 0 2.83L4 21.41c.39.39.9.59 1.41.59.51 0 1.02-.2 1.41-.59l7.78-7.78 2.81-2.81c.8-.78.8-2.07 0-2.86zM5.41 20L4 18.59l7.72-7.72 1.47 1.35L5.41 20z\"/>\n",
              "  </svg>\n",
              "      </button>\n",
              "      \n",
              "  <style>\n",
              "    .colab-df-container {\n",
              "      display:flex;\n",
              "      flex-wrap:wrap;\n",
              "      gap: 12px;\n",
              "    }\n",
              "\n",
              "    .colab-df-convert {\n",
              "      background-color: #E8F0FE;\n",
              "      border: none;\n",
              "      border-radius: 50%;\n",
              "      cursor: pointer;\n",
              "      display: none;\n",
              "      fill: #1967D2;\n",
              "      height: 32px;\n",
              "      padding: 0 0 0 0;\n",
              "      width: 32px;\n",
              "    }\n",
              "\n",
              "    .colab-df-convert:hover {\n",
              "      background-color: #E2EBFA;\n",
              "      box-shadow: 0px 1px 2px rgba(60, 64, 67, 0.3), 0px 1px 3px 1px rgba(60, 64, 67, 0.15);\n",
              "      fill: #174EA6;\n",
              "    }\n",
              "\n",
              "    [theme=dark] .colab-df-convert {\n",
              "      background-color: #3B4455;\n",
              "      fill: #D2E3FC;\n",
              "    }\n",
              "\n",
              "    [theme=dark] .colab-df-convert:hover {\n",
              "      background-color: #434B5C;\n",
              "      box-shadow: 0px 1px 3px 1px rgba(0, 0, 0, 0.15);\n",
              "      filter: drop-shadow(0px 1px 2px rgba(0, 0, 0, 0.3));\n",
              "      fill: #FFFFFF;\n",
              "    }\n",
              "  </style>\n",
              "\n",
              "      <script>\n",
              "        const buttonEl =\n",
              "          document.querySelector('#df-796ebb9b-087f-4ece-b7e8-d48fd200c891 button.colab-df-convert');\n",
              "        buttonEl.style.display =\n",
              "          google.colab.kernel.accessAllowed ? 'block' : 'none';\n",
              "\n",
              "        async function convertToInteractive(key) {\n",
              "          const element = document.querySelector('#df-796ebb9b-087f-4ece-b7e8-d48fd200c891');\n",
              "          const dataTable =\n",
              "            await google.colab.kernel.invokeFunction('convertToInteractive',\n",
              "                                                     [key], {});\n",
              "          if (!dataTable) return;\n",
              "\n",
              "          const docLinkHtml = 'Like what you see? Visit the ' +\n",
              "            '<a target=\"_blank\" href=https://colab.research.google.com/notebooks/data_table.ipynb>data table notebook</a>'\n",
              "            + ' to learn more about interactive tables.';\n",
              "          element.innerHTML = '';\n",
              "          dataTable['output_type'] = 'display_data';\n",
              "          await google.colab.output.renderOutput(dataTable, element);\n",
              "          const docLink = document.createElement('div');\n",
              "          docLink.innerHTML = docLinkHtml;\n",
              "          element.appendChild(docLink);\n",
              "        }\n",
              "      </script>\n",
              "    </div>\n",
              "  </div>\n",
              "  "
            ]
          },
          "metadata": {},
          "execution_count": 38
        }
      ]
    },
    {
      "cell_type": "code",
      "source": [
        "monthly_sales = sales.groupby(sales['y_m'])['sales'].sum()\n",
        "monthly_sales"
      ],
      "metadata": {
        "colab": {
          "base_uri": "https://localhost:8080/"
        },
        "id": "b6PrxTCSGso8",
        "outputId": "3db5fdf6-c597-463e-d1be-1645fff32ffb"
      },
      "execution_count": 66,
      "outputs": [
        {
          "output_type": "execute_result",
          "data": {
            "text/plain": [
              "y_m\n",
              "2016-06         630795\n",
              "2016-07      152067080\n",
              "2016-08      300527207\n",
              "2016-09      424014477\n",
              "2016-10      540388728\n",
              "              ...     \n",
              "2022-03    15546610108\n",
              "2022-04    15817357632\n",
              "2022-05    16125996954\n",
              "2022-06    15391398000\n",
              "2022-07    13618235309\n",
              "Freq: M, Name: sales, Length: 74, dtype: int64"
            ]
          },
          "metadata": {},
          "execution_count": 66
        }
      ]
    },
    {
      "cell_type": "code",
      "source": [
        "sales.booking_id.duplicated().sum()"
      ],
      "metadata": {
        "colab": {
          "base_uri": "https://localhost:8080/"
        },
        "id": "CePmLqiAIOeh",
        "outputId": "2c622fce-2d08-49c1-d75e-57490a91fe2f"
      },
      "execution_count": 71,
      "outputs": [
        {
          "output_type": "execute_result",
          "data": {
            "text/plain": [
              "0"
            ]
          },
          "metadata": {},
          "execution_count": 71
        }
      ]
    },
    {
      "cell_type": "code",
      "source": [
        "sales['year'] = sales['y_m'].dt.year\n",
        "sales['month'] = sales['y_m'].dt.month\n",
        "\n",
        "monthly_sales = sales.groupby(['year', 'month'])['sales'].sum().reset_index()\n",
        "\n",
        "years = monthly_sales['year'].unique()\n",
        "\n",
        "fig, ax = plt.subplots(figsize=(8, 6))\n",
        "\n",
        "for year in years:\n",
        "    year_data = monthly_sales[monthly_sales['year'] == year]\n",
        "    ax.plot(year_data['month'], year_data['sales'], label=str(year))\n",
        "\n",
        "ax.set_xlabel('Month')\n",
        "ax.set_ylabel('Sales')\n",
        "ax.set_title('Monthly Sales by Year')\n",
        "ax.legend(title='Year')\n",
        "plt.show()"
      ],
      "metadata": {
        "colab": {
          "base_uri": "https://localhost:8080/",
          "height": 564
        },
        "id": "p2eni9pJGSIB",
        "outputId": "8aecd515-b80f-45c8-e19c-e955f84fa85d"
      },
      "execution_count": 69,
      "outputs": [
        {
          "output_type": "display_data",
          "data": {
            "text/plain": [
              "<Figure size 800x600 with 1 Axes>"
            ],
            "image/png": "[encoded data removed]"
          },
          "metadata": {}
        }
      ]
    },
    {
      "cell_type": "code",
      "source": [],
      "metadata": {
        "id": "Y_xboPdTGigl"
      },
      "execution_count": null,
      "outputs": []
    }
  ]
}