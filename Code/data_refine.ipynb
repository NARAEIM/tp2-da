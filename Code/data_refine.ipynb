{
  "nbformat": 4,
  "nbformat_minor": 0,
  "metadata": {
    "colab": {
      "provenance": [],
      "collapsed_sections": [
        "MtCi_nKnpKzY",
        "2-clfA_2OEo1"
      ],
      "authorship_tag": "ABX9TyPMT/b/3VgvLYVHmde5x738",
      "include_colab_link": true
    },
    "kernelspec": {
      "name": "python3",
      "display_name": "Python 3"
    },
    "language_info": {
      "name": "python"
    }
  },
  "cells": [
    {
      "cell_type": "markdown",
      "metadata": {
        "id": "view-in-github",
        "colab_type": "text"
      },
      "source": [
        "<a href=\"https://colab.research.google.com/github/NARAEIM/tp2-da/blob/hm98112/data_refine.ipynb\" target=\"_parent\"><img src=\"https://colab.research.google.com/assets/colab-badge.svg\" alt=\"Open In Colab\"/></a>"
      ]
    },
    {
      "cell_type": "markdown",
      "source": [
        "# 데이터 전처리\n",
        "\n"
      ],
      "metadata": {
        "id": "s37dEnipcjbe"
      }
    },
    {
      "cell_type": "code",
      "execution_count": 1,
      "metadata": {
        "colab": {
          "base_uri": "https://localhost:8080/"
        },
        "id": "OIeO_6tRiUGw",
        "outputId": "9474dfcb-cce9-4b77-b8b3-e8f8c2ce728f"
      },
      "outputs": [
        {
          "output_type": "stream",
          "name": "stdout",
          "text": [
            "Mounted at da\n"
          ]
        }
      ],
      "source": [
        "from google.colab import drive\n",
        "import seaborn\n",
        "import pandas as pd\n",
        "drive.mount('da')\n",
        "\n"
      ]
    },
    {
      "cell_type": "code",
      "source": [
        "# #데이터 불러오기\n",
        "# click_stream_new = pd.read_csv('/content/da/MyDrive/data/click_stream_new.csv')\n",
        "# customer = pd.read_csv('/content/da/MyDrive/data/customer.csv', usecols = ['customer_id', 'gender', 'birthdate', 'home_location', 'first_join_date'])\n",
        "\n",
        "# #데이터 불러오기\n",
        "# product = pd.read_csv('/content/da/MyDrive/data/product.csv')\n",
        "# transaction_new = pd.read_csv('/content/da/MyDrive/data/transaction_new.csv')"
      ],
      "metadata": {
        "id": "g93p0uxuibVz"
      },
      "execution_count": 2,
      "outputs": []
    },
    {
      "cell_type": "markdown",
      "source": [
        "### product 데이터 전처리 통합"
      ],
      "metadata": {
        "id": "gljVMd6NdKjz"
      }
    },
    {
      "cell_type": "code",
      "source": [
        "#데이터 불러오기\n",
        "product = pd.read_csv('/content/da/MyDrive/data/product.csv')\n",
        "\n",
        "#null 값 삭제하지 않는 것으로 결정\n",
        "product.isnull().sum()"
      ],
      "metadata": {
        "colab": {
          "base_uri": "https://localhost:8080/"
        },
        "id": "C4UzDQbPAFkQ",
        "outputId": "bdee6c32-195a-4b0f-e50f-b1ccc9f4c324"
      },
      "execution_count": 3,
      "outputs": [
        {
          "output_type": "execute_result",
          "data": {
            "text/plain": [
              "id                      0\n",
              "gender                  0\n",
              "masterCategory          0\n",
              "subCategory             0\n",
              "articleType             0\n",
              "baseColour             15\n",
              "season                 21\n",
              "year                    1\n",
              "usage                 317\n",
              "productDisplayName      7\n",
              "dtype: int64"
            ]
          },
          "metadata": {},
          "execution_count": 3
        }
      ]
    },
    {
      "cell_type": "code",
      "source": [
        "#중복 없음\n",
        "product.duplicated().sum()"
      ],
      "metadata": {
        "colab": {
          "base_uri": "https://localhost:8080/"
        },
        "id": "LqxHIF-FAgV4",
        "outputId": "2b2e7045-d952-4c79-e645-dc7d9ec0b50e"
      },
      "execution_count": 4,
      "outputs": [
        {
          "output_type": "execute_result",
          "data": {
            "text/plain": [
              "0"
            ]
          },
          "metadata": {},
          "execution_count": 4
        }
      ]
    },
    {
      "cell_type": "code",
      "source": [
        "product.info()"
      ],
      "metadata": {
        "colab": {
          "base_uri": "https://localhost:8080/"
        },
        "id": "nASdI4K_AmcM",
        "outputId": "c106fe7d-d806-4d57-e7b1-26b9946c60e1"
      },
      "execution_count": 5,
      "outputs": [
        {
          "output_type": "stream",
          "name": "stdout",
          "text": [
            "<class 'pandas.core.frame.DataFrame'>\n",
            "RangeIndex: 44446 entries, 0 to 44445\n",
            "Data columns (total 10 columns):\n",
            " #   Column              Non-Null Count  Dtype  \n",
            "---  ------              --------------  -----  \n",
            " 0   id                  44446 non-null  int64  \n",
            " 1   gender              44446 non-null  object \n",
            " 2   masterCategory      44446 non-null  object \n",
            " 3   subCategory         44446 non-null  object \n",
            " 4   articleType         44446 non-null  object \n",
            " 5   baseColour          44431 non-null  object \n",
            " 6   season              44425 non-null  object \n",
            " 7   year                44445 non-null  float64\n",
            " 8   usage               44129 non-null  object \n",
            " 9   productDisplayName  44439 non-null  object \n",
            "dtypes: float64(1), int64(1), object(8)\n",
            "memory usage: 3.4+ MB\n"
          ]
        }
      ]
    },
    {
      "cell_type": "code",
      "source": [
        "# 특성 이름 transaction_new 테이블과 통일\n",
        "product.rename(columns = {'id' : 'product_id'})"
      ],
      "metadata": {
        "colab": {
          "base_uri": "https://localhost:8080/",
          "height": 423
        },
        "id": "wcbRH-zxog5E",
        "outputId": "5340fcf0-7bb9-45a9-9601-cf11de3d1736"
      },
      "execution_count": 6,
      "outputs": [
        {
          "output_type": "execute_result",
          "data": {
            "text/plain": [
              "       product_id gender masterCategory subCategory            articleType  \\\n",
              "0           15970    Men        Apparel     Topwear                 Shirts   \n",
              "1           39386    Men        Apparel  Bottomwear                  Jeans   \n",
              "2           59263  Women    Accessories     Watches                Watches   \n",
              "3           21379    Men        Apparel  Bottomwear            Track Pants   \n",
              "4           53759    Men        Apparel     Topwear                Tshirts   \n",
              "...           ...    ...            ...         ...                    ...   \n",
              "44441       17036    Men       Footwear       Shoes           Casual Shoes   \n",
              "44442        6461    Men       Footwear  Flip Flops             Flip Flops   \n",
              "44443       18842    Men        Apparel     Topwear                Tshirts   \n",
              "44444       46694  Women  Personal Care   Fragrance  Perfume and Body Mist   \n",
              "44445       51623  Women    Accessories     Watches                Watches   \n",
              "\n",
              "      baseColour  season    year   usage  \\\n",
              "0      Navy Blue    Fall  2011.0  Casual   \n",
              "1           Blue  Summer  2012.0  Casual   \n",
              "2         Silver  Winter  2016.0  Casual   \n",
              "3          Black    Fall  2011.0  Casual   \n",
              "4           Grey  Summer  2012.0  Casual   \n",
              "...          ...     ...     ...     ...   \n",
              "44441      White  Summer  2013.0  Casual   \n",
              "44442        Red  Summer  2011.0  Casual   \n",
              "44443       Blue    Fall  2011.0  Casual   \n",
              "44444       Blue  Spring  2017.0  Casual   \n",
              "44445       Pink  Winter  2016.0  Casual   \n",
              "\n",
              "                                    productDisplayName  \n",
              "0                     Turtle Check Men Navy Blue Shirt  \n",
              "1                   Peter England Men Party Blue Jeans  \n",
              "2                             Titan Women Silver Watch  \n",
              "3        Manchester United Men Solid Black Track Pants  \n",
              "4                                Puma Men Grey T-shirt  \n",
              "...                                                ...  \n",
              "44441                        Gas Men Caddy Casual Shoe  \n",
              "44442               Lotto Men's Soccer Track Flip Flop  \n",
              "44443             Puma Men Graphic Stellar Blue Tshirt  \n",
              "44444                   Rasasi Women Blue Lady Perfume  \n",
              "44445  Fossil Women Pink Dial Chronograph Watch ES3050  \n",
              "\n",
              "[44446 rows x 10 columns]"
            ],
            "text/html": [
              "\n",
              "  <div id=\"df-e1334d03-4b01-48bc-963c-e4c9ac32ec2a\">\n",
              "    <div class=\"colab-df-container\">\n",
              "      <div>\n",
              "<style scoped>\n",
              "    .dataframe tbody tr th:only-of-type {\n",
              "        vertical-align: middle;\n",
              "    }\n",
              "\n",
              "    .dataframe tbody tr th {\n",
              "        vertical-align: top;\n",
              "    }\n",
              "\n",
              "    .dataframe thead th {\n",
              "        text-align: right;\n",
              "    }\n",
              "</style>\n",
              "<table border=\"1\" class=\"dataframe\">\n",
              "  <thead>\n",
              "    <tr style=\"text-align: right;\">\n",
              "      <th></th>\n",
              "      <th>product_id</th>\n",
              "      <th>gender</th>\n",
              "      <th>masterCategory</th>\n",
              "      <th>subCategory</th>\n",
              "      <th>articleType</th>\n",
              "      <th>baseColour</th>\n",
              "      <th>season</th>\n",
              "      <th>year</th>\n",
              "      <th>usage</th>\n",
              "      <th>productDisplayName</th>\n",
              "    </tr>\n",
              "  </thead>\n",
              "  <tbody>\n",
              "    <tr>\n",
              "      <th>0</th>\n",
              "      <td>15970</td>\n",
              "      <td>Men</td>\n",
              "      <td>Apparel</td>\n",
              "      <td>Topwear</td>\n",
              "      <td>Shirts</td>\n",
              "      <td>Navy Blue</td>\n",
              "      <td>Fall</td>\n",
              "      <td>2011.0</td>\n",
              "      <td>Casual</td>\n",
              "      <td>Turtle Check Men Navy Blue Shirt</td>\n",
              "    </tr>\n",
              "    <tr>\n",
              "      <th>1</th>\n",
              "      <td>39386</td>\n",
              "      <td>Men</td>\n",
              "      <td>Apparel</td>\n",
              "      <td>Bottomwear</td>\n",
              "      <td>Jeans</td>\n",
              "      <td>Blue</td>\n",
              "      <td>Summer</td>\n",
              "      <td>2012.0</td>\n",
              "      <td>Casual</td>\n",
              "      <td>Peter England Men Party Blue Jeans</td>\n",
              "    </tr>\n",
              "    <tr>\n",
              "      <th>2</th>\n",
              "      <td>59263</td>\n",
              "      <td>Women</td>\n",
              "      <td>Accessories</td>\n",
              "      <td>Watches</td>\n",
              "      <td>Watches</td>\n",
              "      <td>Silver</td>\n",
              "      <td>Winter</td>\n",
              "      <td>2016.0</td>\n",
              "      <td>Casual</td>\n",
              "      <td>Titan Women Silver Watch</td>\n",
              "    </tr>\n",
              "    <tr>\n",
              "      <th>3</th>\n",
              "      <td>21379</td>\n",
              "      <td>Men</td>\n",
              "      <td>Apparel</td>\n",
              "      <td>Bottomwear</td>\n",
              "      <td>Track Pants</td>\n",
              "      <td>Black</td>\n",
              "      <td>Fall</td>\n",
              "      <td>2011.0</td>\n",
              "      <td>Casual</td>\n",
              "      <td>Manchester United Men Solid Black Track Pants</td>\n",
              "    </tr>\n",
              "    <tr>\n",
              "      <th>4</th>\n",
              "      <td>53759</td>\n",
              "      <td>Men</td>\n",
              "      <td>Apparel</td>\n",
              "      <td>Topwear</td>\n",
              "      <td>Tshirts</td>\n",
              "      <td>Grey</td>\n",
              "      <td>Summer</td>\n",
              "      <td>2012.0</td>\n",
              "      <td>Casual</td>\n",
              "      <td>Puma Men Grey T-shirt</td>\n",
              "    </tr>\n",
              "    <tr>\n",
              "      <th>...</th>\n",
              "      <td>...</td>\n",
              "      <td>...</td>\n",
              "      <td>...</td>\n",
              "      <td>...</td>\n",
              "      <td>...</td>\n",
              "      <td>...</td>\n",
              "      <td>...</td>\n",
              "      <td>...</td>\n",
              "      <td>...</td>\n",
              "      <td>...</td>\n",
              "    </tr>\n",
              "    <tr>\n",
              "      <th>44441</th>\n",
              "      <td>17036</td>\n",
              "      <td>Men</td>\n",
              "      <td>Footwear</td>\n",
              "      <td>Shoes</td>\n",
              "      <td>Casual Shoes</td>\n",
              "      <td>White</td>\n",
              "      <td>Summer</td>\n",
              "      <td>2013.0</td>\n",
              "      <td>Casual</td>\n",
              "      <td>Gas Men Caddy Casual Shoe</td>\n",
              "    </tr>\n",
              "    <tr>\n",
              "      <th>44442</th>\n",
              "      <td>6461</td>\n",
              "      <td>Men</td>\n",
              "      <td>Footwear</td>\n",
              "      <td>Flip Flops</td>\n",
              "      <td>Flip Flops</td>\n",
              "      <td>Red</td>\n",
              "      <td>Summer</td>\n",
              "      <td>2011.0</td>\n",
              "      <td>Casual</td>\n",
              "      <td>Lotto Men's Soccer Track Flip Flop</td>\n",
              "    </tr>\n",
              "    <tr>\n",
              "      <th>44443</th>\n",
              "      <td>18842</td>\n",
              "      <td>Men</td>\n",
              "      <td>Apparel</td>\n",
              "      <td>Topwear</td>\n",
              "      <td>Tshirts</td>\n",
              "      <td>Blue</td>\n",
              "      <td>Fall</td>\n",
              "      <td>2011.0</td>\n",
              "      <td>Casual</td>\n",
              "      <td>Puma Men Graphic Stellar Blue Tshirt</td>\n",
              "    </tr>\n",
              "    <tr>\n",
              "      <th>44444</th>\n",
              "      <td>46694</td>\n",
              "      <td>Women</td>\n",
              "      <td>Personal Care</td>\n",
              "      <td>Fragrance</td>\n",
              "      <td>Perfume and Body Mist</td>\n",
              "      <td>Blue</td>\n",
              "      <td>Spring</td>\n",
              "      <td>2017.0</td>\n",
              "      <td>Casual</td>\n",
              "      <td>Rasasi Women Blue Lady Perfume</td>\n",
              "    </tr>\n",
              "    <tr>\n",
              "      <th>44445</th>\n",
              "      <td>51623</td>\n",
              "      <td>Women</td>\n",
              "      <td>Accessories</td>\n",
              "      <td>Watches</td>\n",
              "      <td>Watches</td>\n",
              "      <td>Pink</td>\n",
              "      <td>Winter</td>\n",
              "      <td>2016.0</td>\n",
              "      <td>Casual</td>\n",
              "      <td>Fossil Women Pink Dial Chronograph Watch ES3050</td>\n",
              "    </tr>\n",
              "  </tbody>\n",
              "</table>\n",
              "<p>44446 rows × 10 columns</p>\n",
              "</div>\n",
              "      <button class=\"colab-df-convert\" onclick=\"convertToInteractive('df-e1334d03-4b01-48bc-963c-e4c9ac32ec2a')\"\n",
              "              title=\"Convert this dataframe to an interactive table.\"\n",
              "              style=\"display:none;\">\n",
              "        \n",
              "  <svg xmlns=\"http://www.w3.org/2000/svg\" height=\"24px\"viewBox=\"0 0 24 24\"\n",
              "       width=\"24px\">\n",
              "    <path d=\"M0 0h24v24H0V0z\" fill=\"none\"/>\n",
              "    <path d=\"M18.56 5.44l.94 2.06.94-2.06 2.06-.94-2.06-.94-.94-2.06-.94 2.06-2.06.94zm-11 1L8.5 8.5l.94-2.06 2.06-.94-2.06-.94L8.5 2.5l-.94 2.06-2.06.94zm10 10l.94 2.06.94-2.06 2.06-.94-2.06-.94-.94-2.06-.94 2.06-2.06.94z\"/><path d=\"M17.41 7.96l-1.37-1.37c-.4-.4-.92-.59-1.43-.59-.52 0-1.04.2-1.43.59L10.3 9.45l-7.72 7.72c-.78.78-.78 2.05 0 2.83L4 21.41c.39.39.9.59 1.41.59.51 0 1.02-.2 1.41-.59l7.78-7.78 2.81-2.81c.8-.78.8-2.07 0-2.86zM5.41 20L4 18.59l7.72-7.72 1.47 1.35L5.41 20z\"/>\n",
              "  </svg>\n",
              "      </button>\n",
              "      \n",
              "  <style>\n",
              "    .colab-df-container {\n",
              "      display:flex;\n",
              "      flex-wrap:wrap;\n",
              "      gap: 12px;\n",
              "    }\n",
              "\n",
              "    .colab-df-convert {\n",
              "      background-color: #E8F0FE;\n",
              "      border: none;\n",
              "      border-radius: 50%;\n",
              "      cursor: pointer;\n",
              "      display: none;\n",
              "      fill: #1967D2;\n",
              "      height: 32px;\n",
              "      padding: 0 0 0 0;\n",
              "      width: 32px;\n",
              "    }\n",
              "\n",
              "    .colab-df-convert:hover {\n",
              "      background-color: #E2EBFA;\n",
              "      box-shadow: 0px 1px 2px rgba(60, 64, 67, 0.3), 0px 1px 3px 1px rgba(60, 64, 67, 0.15);\n",
              "      fill: #174EA6;\n",
              "    }\n",
              "\n",
              "    [theme=dark] .colab-df-convert {\n",
              "      background-color: #3B4455;\n",
              "      fill: #D2E3FC;\n",
              "    }\n",
              "\n",
              "    [theme=dark] .colab-df-convert:hover {\n",
              "      background-color: #434B5C;\n",
              "      box-shadow: 0px 1px 3px 1px rgba(0, 0, 0, 0.15);\n",
              "      filter: drop-shadow(0px 1px 2px rgba(0, 0, 0, 0.3));\n",
              "      fill: #FFFFFF;\n",
              "    }\n",
              "  </style>\n",
              "\n",
              "      <script>\n",
              "        const buttonEl =\n",
              "          document.querySelector('#df-e1334d03-4b01-48bc-963c-e4c9ac32ec2a button.colab-df-convert');\n",
              "        buttonEl.style.display =\n",
              "          google.colab.kernel.accessAllowed ? 'block' : 'none';\n",
              "\n",
              "        async function convertToInteractive(key) {\n",
              "          const element = document.querySelector('#df-e1334d03-4b01-48bc-963c-e4c9ac32ec2a');\n",
              "          const dataTable =\n",
              "            await google.colab.kernel.invokeFunction('convertToInteractive',\n",
              "                                                     [key], {});\n",
              "          if (!dataTable) return;\n",
              "\n",
              "          const docLinkHtml = 'Like what you see? Visit the ' +\n",
              "            '<a target=\"_blank\" href=https://colab.research.google.com/notebooks/data_table.ipynb>data table notebook</a>'\n",
              "            + ' to learn more about interactive tables.';\n",
              "          element.innerHTML = '';\n",
              "          dataTable['output_type'] = 'display_data';\n",
              "          await google.colab.output.renderOutput(dataTable, element);\n",
              "          const docLink = document.createElement('div');\n",
              "          docLink.innerHTML = docLinkHtml;\n",
              "          element.appendChild(docLink);\n",
              "        }\n",
              "      </script>\n",
              "    </div>\n",
              "  </div>\n",
              "  "
            ]
          },
          "metadata": {},
          "execution_count": 6
        }
      ]
    },
    {
      "cell_type": "code",
      "source": [
        "# 브랜드명 추출하여 특성 생성\n",
        "brand = product.productDisplayName.str.split().str[0]\n",
        "brand.head()\n",
        "product['brand'] = brand.str.lower()"
      ],
      "metadata": {
        "id": "HOe_pcwTA5zA"
      },
      "execution_count": 7,
      "outputs": []
    },
    {
      "cell_type": "code",
      "source": [
        "#데이터 타입 설정\n",
        "product['gender'] = product['gender'].astype('category')\n",
        "product['masterCategory'] = product['masterCategory'].astype('category')\n",
        "product['subCategory'] = product['subCategory'].astype('category')\n",
        "product['baseColour'] = product['baseColour'].astype('category')\n",
        "product['season'] = product['season'].astype('category')\n",
        "product['usage'] = product['usage'].astype('category')\n",
        "#사용하지 않는 특성 제거\n",
        "product.drop(columns = 'year', inplace = True)"
      ],
      "metadata": {
        "id": "KUPHq6LoB0-T"
      },
      "execution_count": 8,
      "outputs": []
    },
    {
      "cell_type": "code",
      "source": [
        "product.info()"
      ],
      "metadata": {
        "id": "GKhr24n2Cmey",
        "colab": {
          "base_uri": "https://localhost:8080/"
        },
        "outputId": "e095a17f-5958-4bce-f858-3a01b7275e49"
      },
      "execution_count": 9,
      "outputs": [
        {
          "output_type": "stream",
          "name": "stdout",
          "text": [
            "<class 'pandas.core.frame.DataFrame'>\n",
            "RangeIndex: 44446 entries, 0 to 44445\n",
            "Data columns (total 10 columns):\n",
            " #   Column              Non-Null Count  Dtype   \n",
            "---  ------              --------------  -----   \n",
            " 0   id                  44446 non-null  int64   \n",
            " 1   gender              44446 non-null  category\n",
            " 2   masterCategory      44446 non-null  category\n",
            " 3   subCategory         44446 non-null  category\n",
            " 4   articleType         44446 non-null  object  \n",
            " 5   baseColour          44431 non-null  category\n",
            " 6   season              44425 non-null  category\n",
            " 7   usage               44129 non-null  category\n",
            " 8   productDisplayName  44439 non-null  object  \n",
            " 9   brand               44439 non-null  object  \n",
            "dtypes: category(6), int64(1), object(3)\n",
            "memory usage: 1.6+ MB\n"
          ]
        }
      ]
    },
    {
      "cell_type": "code",
      "source": [
        "product.to_csv('product_final.csv', index = False)"
      ],
      "metadata": {
        "id": "-VVPk0JVCtMR"
      },
      "execution_count": 10,
      "outputs": []
    },
    {
      "cell_type": "markdown",
      "source": [
        "### click_stream_new 데이터 전처리 통합"
      ],
      "metadata": {
        "id": "6FKWw3-ueHca"
      }
    },
    {
      "cell_type": "code",
      "source": [
        "click_stream_new = pd.read_csv('/content/da/MyDrive/data/click_stream_new.csv')\n",
        "click_stream_new.info()"
      ],
      "metadata": {
        "colab": {
          "base_uri": "https://localhost:8080/"
        },
        "id": "ZapCO2SCajI-",
        "outputId": "f966f0ae-2a67-4a6b-e54f-de54386429e9"
      },
      "execution_count": 11,
      "outputs": [
        {
          "output_type": "stream",
          "name": "stdout",
          "text": [
            "<class 'pandas.core.frame.DataFrame'>\n",
            "RangeIndex: 12833602 entries, 0 to 12833601\n",
            "Data columns (total 12 columns):\n",
            " #   Column           Dtype  \n",
            "---  ------           -----  \n",
            " 0   session_id       object \n",
            " 1   event_name       object \n",
            " 2   event_time       object \n",
            " 3   event_id         object \n",
            " 4   traffic_source   object \n",
            " 5   product_id       float64\n",
            " 6   quantity         float64\n",
            " 7   item_price       float64\n",
            " 8   payment_status   object \n",
            " 9   search_keywords  object \n",
            " 10  promo_code       object \n",
            " 11  promo_amount     float64\n",
            "dtypes: float64(4), object(8)\n",
            "memory usage: 1.1+ GB\n"
          ]
        }
      ]
    },
    {
      "cell_type": "code",
      "source": [
        "#중복값 없음\n",
        "click_stream_new.duplicated().sum()"
      ],
      "metadata": {
        "colab": {
          "base_uri": "https://localhost:8080/"
        },
        "id": "bWIMm3vDF3cx",
        "outputId": "e101f014-911f-402a-9135-44bd807da0da"
      },
      "execution_count": 12,
      "outputs": [
        {
          "output_type": "execute_result",
          "data": {
            "text/plain": [
              "0"
            ]
          },
          "metadata": {},
          "execution_count": 12
        }
      ]
    },
    {
      "cell_type": "code",
      "source": [
        "click_stream_new['event_name'] = click_stream_new['event_name'].astype('category')\n",
        "click_stream_new['traffic_source'] = click_stream_new['traffic_source'].astype('category')\n",
        "click_stream_new['product_id'] = click_stream_new['product_id'].astype('object')\n",
        "\n",
        "#null값 0으로 대체\n",
        "click_stream_new['quantity'] = click_stream_new['quantity'].fillna(0).astype('int32')\n",
        "\n",
        "#null값 0으로 대체\n",
        "click_stream_new['item_price'] = click_stream_new['item_price'].fillna(0).astype('int')\n",
        "\n",
        "click_stream_new['payment_status'] = click_stream_new['payment_status'].astype('category')\n",
        "click_stream_new['search_keywords'] = click_stream_new['search_keywords'].astype('category')\n",
        "\n",
        "#promo code 변환 / 0 : promo_code를 사용하지 않은 경우\n",
        "promo_code_mapping = {'AZ2022': 1, 'BUYMORE': 2, 'WEEKENDSERU': 3, 'XX2022': 4, 'LIBURDONG': 5, 'WEEKENDMANTAP': 6, 'SC2022': 7, 'STARTUP': 8}\n",
        "click_stream_new['promo_code'] = click_stream_new['promo_code'].map(promo_code_mapping).fillna(0).astype('category')\n",
        "\n",
        "#Success :1 / Failed :0 으로 변환 후 카테고리로 변환\n",
        "click_stream_new['payment_status'] = click_stream_new['payment_status'].map({'Success' : 1, 'Failed' : 0}).astype('category')\n",
        "\n",
        "click_stream_new['event_time'] = pd.to_datetime(click_stream_new['event_time'])\n",
        "\n",
        "#null값 0으로 대체\n",
        "click_stream_new['promo_amount'] = click_stream_new['promo_amount'].fillna(0).astype('int')\n",
        "click_stream_new.info()\n",
        "\n",
        "#사용하지 않는 컬럼 제거\n",
        "click_stream_new.drop(columns = ['event_id'] , inplace = True)\n"
      ],
      "metadata": {
        "colab": {
          "base_uri": "https://localhost:8080/"
        },
        "id": "eSk2Ppn_HTZL",
        "outputId": "499cf460-8d40-43db-deaa-f1e01019e6e8"
      },
      "execution_count": 13,
      "outputs": [
        {
          "output_type": "stream",
          "name": "stdout",
          "text": [
            "<class 'pandas.core.frame.DataFrame'>\n",
            "RangeIndex: 12833602 entries, 0 to 12833601\n",
            "Data columns (total 12 columns):\n",
            " #   Column           Dtype              \n",
            "---  ------           -----              \n",
            " 0   session_id       object             \n",
            " 1   event_name       category           \n",
            " 2   event_time       datetime64[ns, UTC]\n",
            " 3   event_id         object             \n",
            " 4   traffic_source   category           \n",
            " 5   product_id       object             \n",
            " 6   quantity         int32              \n",
            " 7   item_price       int64              \n",
            " 8   payment_status   category           \n",
            " 9   search_keywords  category           \n",
            " 10  promo_code       category           \n",
            " 11  promo_amount     int64              \n",
            "dtypes: category(5), datetime64[ns, UTC](1), int32(1), int64(2), object(3)\n",
            "memory usage: 697.6+ MB\n"
          ]
        }
      ]
    },
    {
      "cell_type": "code",
      "source": [
        "click_stream_new.info()"
      ],
      "metadata": {
        "colab": {
          "base_uri": "https://localhost:8080/"
        },
        "id": "xJBCg5H4tFAN",
        "outputId": "b51bc5c3-762b-45fa-cb34-a75d035ae1f6"
      },
      "execution_count": 14,
      "outputs": [
        {
          "output_type": "stream",
          "name": "stdout",
          "text": [
            "<class 'pandas.core.frame.DataFrame'>\n",
            "RangeIndex: 12833602 entries, 0 to 12833601\n",
            "Data columns (total 11 columns):\n",
            " #   Column           Dtype              \n",
            "---  ------           -----              \n",
            " 0   session_id       object             \n",
            " 1   event_name       category           \n",
            " 2   event_time       datetime64[ns, UTC]\n",
            " 3   traffic_source   category           \n",
            " 4   product_id       object             \n",
            " 5   quantity         int32              \n",
            " 6   item_price       int64              \n",
            " 7   payment_status   category           \n",
            " 8   search_keywords  category           \n",
            " 9   promo_code       category           \n",
            " 10  promo_amount     int64              \n",
            "dtypes: category(5), datetime64[ns, UTC](1), int32(1), int64(2), object(2)\n",
            "memory usage: 599.7+ MB\n"
          ]
        }
      ]
    },
    {
      "cell_type": "code",
      "source": [
        "click_stream_new.to_csv('click_stream_final.csv', index = False)"
      ],
      "metadata": {
        "id": "6KGR0YYeJb_s"
      },
      "execution_count": 15,
      "outputs": []
    },
    {
      "cell_type": "markdown",
      "source": [
        "### customer 데이터 전처리 통합"
      ],
      "metadata": {
        "id": "eh5KdunyqDiX"
      }
    },
    {
      "cell_type": "code",
      "source": [
        "# 데이터 로드\n",
        "customer = pd.read_csv('/content/da/MyDrive/data/customer.csv', usecols = ['customer_id', 'gender', 'birthdate', 'home_location', 'first_join_date'])"
      ],
      "metadata": {
        "id": "V-aP92lSKyNO"
      },
      "execution_count": 16,
      "outputs": []
    },
    {
      "cell_type": "code",
      "source": [
        "customer.info()"
      ],
      "metadata": {
        "colab": {
          "base_uri": "https://localhost:8080/"
        },
        "id": "sAYs_sgFLP8Q",
        "outputId": "d255346f-c40d-4d89-9f1b-76144ef29ccf"
      },
      "execution_count": 17,
      "outputs": [
        {
          "output_type": "stream",
          "name": "stdout",
          "text": [
            "<class 'pandas.core.frame.DataFrame'>\n",
            "RangeIndex: 100000 entries, 0 to 99999\n",
            "Data columns (total 5 columns):\n",
            " #   Column           Non-Null Count   Dtype \n",
            "---  ------           --------------   ----- \n",
            " 0   customer_id      100000 non-null  int64 \n",
            " 1   gender           100000 non-null  object\n",
            " 2   birthdate        100000 non-null  object\n",
            " 3   home_location    100000 non-null  object\n",
            " 4   first_join_date  100000 non-null  object\n",
            "dtypes: int64(1), object(4)\n",
            "memory usage: 3.8+ MB\n"
          ]
        }
      ]
    },
    {
      "cell_type": "code",
      "source": [
        "# null값 없음\n",
        "customer.isnull().sum()"
      ],
      "metadata": {
        "colab": {
          "base_uri": "https://localhost:8080/"
        },
        "id": "qz10WF1nLeC0",
        "outputId": "94a0bb46-79a0-466f-b435-508b9985bf22"
      },
      "execution_count": 18,
      "outputs": [
        {
          "output_type": "execute_result",
          "data": {
            "text/plain": [
              "customer_id        0\n",
              "gender             0\n",
              "birthdate          0\n",
              "home_location      0\n",
              "first_join_date    0\n",
              "dtype: int64"
            ]
          },
          "metadata": {},
          "execution_count": 18
        }
      ]
    },
    {
      "cell_type": "code",
      "source": [
        "# 중복값 없음\n",
        "customer.duplicated().sum()"
      ],
      "metadata": {
        "colab": {
          "base_uri": "https://localhost:8080/"
        },
        "id": "LkTy17H9LjoG",
        "outputId": "29980dcf-b5e7-4d4d-d48c-847f256a2976"
      },
      "execution_count": 19,
      "outputs": [
        {
          "output_type": "execute_result",
          "data": {
            "text/plain": [
              "0"
            ]
          },
          "metadata": {},
          "execution_count": 19
        }
      ]
    },
    {
      "cell_type": "code",
      "source": [
        "# 데이터 타입 변경\n",
        "customer['gender'] = customer['gender'].astype('category')\n",
        "customer['home_location'] = customer['home_location'].astype('category')\n",
        "customer['first_join_date'] = pd.to_datetime(customer['first_join_date'])\n",
        "customer['birthdate'] = pd.to_datetime(customer['birthdate'])"
      ],
      "metadata": {
        "id": "9g7lfU0WLE6M"
      },
      "execution_count": 20,
      "outputs": []
    },
    {
      "cell_type": "code",
      "source": [
        "#가입 일자 기준 나이 & 현재 기준 나이 컬럼 생성\n",
        "customer['age_join'] = (customer['first_join_date'].dt.year - customer['birthdate'].dt.year).astype('int32')\n",
        "customer['age_now'] = (2022 - customer['birthdate'].dt.year).astype('int32')\n"
      ],
      "metadata": {
        "id": "FhuefDAK6bZm"
      },
      "execution_count": 21,
      "outputs": []
    },
    {
      "cell_type": "code",
      "source": [
        "customer.info()"
      ],
      "metadata": {
        "colab": {
          "base_uri": "https://localhost:8080/"
        },
        "id": "nODDYMDV6Cga",
        "outputId": "288756b6-78f6-409e-b2cb-67b75aa9cac5"
      },
      "execution_count": 22,
      "outputs": [
        {
          "output_type": "stream",
          "name": "stdout",
          "text": [
            "<class 'pandas.core.frame.DataFrame'>\n",
            "RangeIndex: 100000 entries, 0 to 99999\n",
            "Data columns (total 7 columns):\n",
            " #   Column           Non-Null Count   Dtype         \n",
            "---  ------           --------------   -----         \n",
            " 0   customer_id      100000 non-null  int64         \n",
            " 1   gender           100000 non-null  category      \n",
            " 2   birthdate        100000 non-null  datetime64[ns]\n",
            " 3   home_location    100000 non-null  category      \n",
            " 4   first_join_date  100000 non-null  datetime64[ns]\n",
            " 5   age_join         100000 non-null  int32         \n",
            " 6   age_now          100000 non-null  int32         \n",
            "dtypes: category(2), datetime64[ns](2), int32(2), int64(1)\n",
            "memory usage: 3.2 MB\n"
          ]
        }
      ]
    },
    {
      "cell_type": "code",
      "source": [
        "customer.to_csv('customer_final.csv', index = False)"
      ],
      "metadata": {
        "id": "4-5rnnyw1Iaa"
      },
      "execution_count": 23,
      "outputs": []
    },
    {
      "cell_type": "markdown",
      "source": [
        "### transaction_new 데이터 전처리 통합"
      ],
      "metadata": {
        "id": "o-SEViBXuSgG"
      }
    },
    {
      "cell_type": "code",
      "source": [
        "transaction_new = pd.read_csv('/content/da/MyDrive/data/transaction_new.csv')"
      ],
      "metadata": {
        "id": "E10OOmlwuQ8J"
      },
      "execution_count": 33,
      "outputs": []
    },
    {
      "cell_type": "code",
      "source": [
        "transaction_new.info()"
      ],
      "metadata": {
        "colab": {
          "base_uri": "https://localhost:8080/"
        },
        "id": "y15fpKiUOdFS",
        "outputId": "3541a3b9-3eed-41fd-c95b-1f5283865cbd"
      },
      "execution_count": 34,
      "outputs": [
        {
          "output_type": "stream",
          "name": "stdout",
          "text": [
            "<class 'pandas.core.frame.DataFrame'>\n",
            "RangeIndex: 1254585 entries, 0 to 1254584\n",
            "Data columns (total 16 columns):\n",
            " #   Column                  Non-Null Count    Dtype  \n",
            "---  ------                  --------------    -----  \n",
            " 0   created_at              1254585 non-null  object \n",
            " 1   customer_id             1254585 non-null  int64  \n",
            " 2   booking_id              1254585 non-null  object \n",
            " 3   session_id              1254585 non-null  object \n",
            " 4   payment_method          1254585 non-null  object \n",
            " 5   payment_status          1254585 non-null  object \n",
            " 6   promo_amount            1254585 non-null  int64  \n",
            " 7   promo_code              481139 non-null   object \n",
            " 8   shipment_fee            1254585 non-null  int64  \n",
            " 9   shipment_date_limit     1254585 non-null  object \n",
            " 10  shipment_location_lat   1254585 non-null  float64\n",
            " 11  shipment_location_long  1254585 non-null  float64\n",
            " 12  total_amount            1254585 non-null  int64  \n",
            " 13  product_id              1254585 non-null  int64  \n",
            " 14  quantity                1254585 non-null  int64  \n",
            " 15  item_price              1254585 non-null  int64  \n",
            "dtypes: float64(2), int64(7), object(7)\n",
            "memory usage: 153.1+ MB\n"
          ]
        }
      ]
    },
    {
      "cell_type": "code",
      "source": [
        "# promo_code에만 결측치 / 0으로 대체\n",
        "transaction_new.isnull().sum()"
      ],
      "metadata": {
        "colab": {
          "base_uri": "https://localhost:8080/"
        },
        "id": "A8266VhTOERx",
        "outputId": "2a41f406-f7d9-48f8-f104-76b6fe8263f6"
      },
      "execution_count": 35,
      "outputs": [
        {
          "output_type": "execute_result",
          "data": {
            "text/plain": [
              "created_at                     0\n",
              "customer_id                    0\n",
              "booking_id                     0\n",
              "session_id                     0\n",
              "payment_method                 0\n",
              "payment_status                 0\n",
              "promo_amount                   0\n",
              "promo_code                773446\n",
              "shipment_fee                   0\n",
              "shipment_date_limit            0\n",
              "shipment_location_lat          0\n",
              "shipment_location_long         0\n",
              "total_amount                   0\n",
              "product_id                     0\n",
              "quantity                       0\n",
              "item_price                     0\n",
              "dtype: int64"
            ]
          },
          "metadata": {},
          "execution_count": 35
        }
      ]
    },
    {
      "cell_type": "code",
      "source": [
        "# 중복값 없음\n",
        "transaction_new.duplicated().sum()"
      ],
      "metadata": {
        "colab": {
          "base_uri": "https://localhost:8080/"
        },
        "id": "9WVSo48wOOMB",
        "outputId": "d5321c84-b6bf-4eab-c3ce-d3afa74c566a"
      },
      "execution_count": 36,
      "outputs": [
        {
          "output_type": "execute_result",
          "data": {
            "text/plain": [
              "0"
            ]
          },
          "metadata": {},
          "execution_count": 36
        }
      ]
    },
    {
      "cell_type": "code",
      "source": [
        "transaction_new['created_at'] = pd.to_datetime(transaction_new['created_at'])\n",
        "transaction_new['payment_method'] = transaction_new['payment_method'].astype('category')\n",
        "\n",
        "#Success :1 / Failed :0 으로 변환 후 카테고리로 변환\n",
        "transaction_new['payment_status'] = transaction_new['payment_status'].map({'Success' : 1, 'Failed' : 0}).astype('category')\n",
        "\n",
        "#promo code 변환 / 0 : promo_code를 사용하지 않은 경우\n",
        "#promo_code_mapping = {'AZ2022': 1, 'BUYMORE': 2, 'WEEKENDSERU': 3, 'XX2022': 4, 'LIBURDONG': 5, 'WEEKENDMANTAP': 6, 'SC2022': 7, 'STARTUP': 8}\n",
        "transaction_new['promo_code'] = transaction_new['promo_code'].map(promo_code_mapping).fillna(0).astype('category')\n",
        "\n",
        "#promocode 사용 여부\n",
        "transaction_new['with_promo'] = transaction_new['promo_code'].apply(lambda x: 1 if x != 0 else 0).astype('category')\n",
        "\n",
        "#사용하지 않는 컬럼 제거\n",
        "transaction_new.drop(columns = ['shipment_date_limit', 'shipment_location_lat', 'shipment_location_long'], inplace = True)\n",
        "\n",
        "transaction_new['quantity'] = transaction_new['quantity'].astype('int32')\n"
      ],
      "metadata": {
        "id": "qK-1YK7uOHLG"
      },
      "execution_count": 37,
      "outputs": []
    },
    {
      "cell_type": "code",
      "source": [
        "transaction_new.info()"
      ],
      "metadata": {
        "colab": {
          "base_uri": "https://localhost:8080/"
        },
        "id": "XkFg0u4wOnt9",
        "outputId": "c807bb81-6ce4-4f3b-9ec5-3e46283a47be"
      },
      "execution_count": 38,
      "outputs": [
        {
          "output_type": "stream",
          "name": "stdout",
          "text": [
            "<class 'pandas.core.frame.DataFrame'>\n",
            "RangeIndex: 1254585 entries, 0 to 1254584\n",
            "Data columns (total 14 columns):\n",
            " #   Column          Non-Null Count    Dtype              \n",
            "---  ------          --------------    -----              \n",
            " 0   created_at      1254585 non-null  datetime64[ns, UTC]\n",
            " 1   customer_id     1254585 non-null  int64              \n",
            " 2   booking_id      1254585 non-null  object             \n",
            " 3   session_id      1254585 non-null  object             \n",
            " 4   payment_method  1254585 non-null  category           \n",
            " 5   payment_status  1254585 non-null  category           \n",
            " 6   promo_amount    1254585 non-null  int64              \n",
            " 7   promo_code      1254585 non-null  category           \n",
            " 8   shipment_fee    1254585 non-null  int64              \n",
            " 9   total_amount    1254585 non-null  int64              \n",
            " 10  product_id      1254585 non-null  int64              \n",
            " 11  quantity        1254585 non-null  int32              \n",
            " 12  item_price      1254585 non-null  int64              \n",
            " 13  with_promo      1254585 non-null  category           \n",
            "dtypes: category(4), datetime64[ns, UTC](1), int32(1), int64(6), object(2)\n",
            "memory usage: 95.7+ MB\n"
          ]
        }
      ]
    },
    {
      "cell_type": "code",
      "source": [
        "transaction_new.to_csv('transaction_final.csv', index = False)"
      ],
      "metadata": {
        "id": "52lRNjSATv23"
      },
      "execution_count": 39,
      "outputs": []
    }
  ]
}
