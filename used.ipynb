{
  "nbformat": 4,
  "nbformat_minor": 0,
  "metadata": {
    "colab": {
      "provenance": [],
      "toc_visible": true,
      "authorship_tag": "ABX9TyPSR1ycJ894wMHAYC1qh60s",
      "include_colab_link": true
    },
    "kernelspec": {
      "name": "python3",
      "display_name": "Python 3"
    },
    "language_info": {
      "name": "python"
    }
  },
  "cells": [
    {
      "cell_type": "markdown",
      "metadata": {
        "id": "view-in-github",
        "colab_type": "text"
      },
      "source": [
        "<a href=\"https://colab.research.google.com/github/NARAEIM/tp2-da/blob/jennlee/used.ipynb\" target=\"_parent\"><img src=\"https://colab.research.google.com/assets/colab-badge.svg\" alt=\"Open In Colab\"/></a>"
      ]
    },
    {
      "cell_type": "code",
      "execution_count": null,
      "metadata": {
        "colab": {
          "base_uri": "https://localhost:8080/",
          "height": 389
        },
        "id": "UWEswliCsJ-x",
        "outputId": "d520728a-12c9-4ec9-e404-b1d75320202c"
      },
      "outputs": [
        {
          "output_type": "error",
          "ename": "MessageError",
          "evalue": "ignored",
          "traceback": [
            "\u001b[0;31m---------------------------------------------------------------------------\u001b[0m",
            "\u001b[0;31mMessageError\u001b[0m                              Traceback (most recent call last)",
            "\u001b[0;32m<ipython-input-1-8bfb45c239bf>\u001b[0m in \u001b[0;36m<cell line: 4>\u001b[0;34m()\u001b[0m\n\u001b[1;32m      2\u001b[0m \u001b[0;34m\u001b[0m\u001b[0m\n\u001b[1;32m      3\u001b[0m \u001b[0;31m# Mount Google Drive\u001b[0m\u001b[0;34m\u001b[0m\u001b[0;34m\u001b[0m\u001b[0m\n\u001b[0;32m----> 4\u001b[0;31m \u001b[0mdrive\u001b[0m\u001b[0;34m.\u001b[0m\u001b[0mmount\u001b[0m\u001b[0;34m(\u001b[0m\u001b[0;34m'/content/drive'\u001b[0m\u001b[0;34m)\u001b[0m\u001b[0;34m\u001b[0m\u001b[0;34m\u001b[0m\u001b[0m\n\u001b[0m\u001b[1;32m      5\u001b[0m \u001b[0;34m\u001b[0m\u001b[0m\n\u001b[1;32m      6\u001b[0m \u001b[0;32mimport\u001b[0m \u001b[0mnumpy\u001b[0m \u001b[0;32mas\u001b[0m \u001b[0mnp\u001b[0m\u001b[0;34m\u001b[0m\u001b[0;34m\u001b[0m\u001b[0m\n",
            "\u001b[0;32m/usr/local/lib/python3.10/dist-packages/google/colab/drive.py\u001b[0m in \u001b[0;36mmount\u001b[0;34m(mountpoint, force_remount, timeout_ms, readonly)\u001b[0m\n\u001b[1;32m    101\u001b[0m \u001b[0;32mdef\u001b[0m \u001b[0mmount\u001b[0m\u001b[0;34m(\u001b[0m\u001b[0mmountpoint\u001b[0m\u001b[0;34m,\u001b[0m \u001b[0mforce_remount\u001b[0m\u001b[0;34m=\u001b[0m\u001b[0;32mFalse\u001b[0m\u001b[0;34m,\u001b[0m \u001b[0mtimeout_ms\u001b[0m\u001b[0;34m=\u001b[0m\u001b[0;36m120000\u001b[0m\u001b[0;34m,\u001b[0m \u001b[0mreadonly\u001b[0m\u001b[0;34m=\u001b[0m\u001b[0;32mFalse\u001b[0m\u001b[0;34m)\u001b[0m\u001b[0;34m:\u001b[0m\u001b[0;34m\u001b[0m\u001b[0;34m\u001b[0m\u001b[0m\n\u001b[1;32m    102\u001b[0m   \u001b[0;34m\"\"\"Mount your Google Drive at the specified mountpoint path.\"\"\"\u001b[0m\u001b[0;34m\u001b[0m\u001b[0;34m\u001b[0m\u001b[0m\n\u001b[0;32m--> 103\u001b[0;31m   return _mount(\n\u001b[0m\u001b[1;32m    104\u001b[0m       \u001b[0mmountpoint\u001b[0m\u001b[0;34m,\u001b[0m\u001b[0;34m\u001b[0m\u001b[0;34m\u001b[0m\u001b[0m\n\u001b[1;32m    105\u001b[0m       \u001b[0mforce_remount\u001b[0m\u001b[0;34m=\u001b[0m\u001b[0mforce_remount\u001b[0m\u001b[0;34m,\u001b[0m\u001b[0;34m\u001b[0m\u001b[0;34m\u001b[0m\u001b[0m\n",
            "\u001b[0;32m/usr/local/lib/python3.10/dist-packages/google/colab/drive.py\u001b[0m in \u001b[0;36m_mount\u001b[0;34m(mountpoint, force_remount, timeout_ms, ephemeral, readonly)\u001b[0m\n\u001b[1;32m    130\u001b[0m   )\n\u001b[1;32m    131\u001b[0m   \u001b[0;32mif\u001b[0m \u001b[0mephemeral\u001b[0m\u001b[0;34m:\u001b[0m\u001b[0;34m\u001b[0m\u001b[0;34m\u001b[0m\u001b[0m\n\u001b[0;32m--> 132\u001b[0;31m     _message.blocking_request(\n\u001b[0m\u001b[1;32m    133\u001b[0m         \u001b[0;34m'request_auth'\u001b[0m\u001b[0;34m,\u001b[0m \u001b[0mrequest\u001b[0m\u001b[0;34m=\u001b[0m\u001b[0;34m{\u001b[0m\u001b[0;34m'authType'\u001b[0m\u001b[0;34m:\u001b[0m \u001b[0;34m'dfs_ephemeral'\u001b[0m\u001b[0;34m}\u001b[0m\u001b[0;34m,\u001b[0m \u001b[0mtimeout_sec\u001b[0m\u001b[0;34m=\u001b[0m\u001b[0;32mNone\u001b[0m\u001b[0;34m\u001b[0m\u001b[0;34m\u001b[0m\u001b[0m\n\u001b[1;32m    134\u001b[0m     )\n",
            "\u001b[0;32m/usr/local/lib/python3.10/dist-packages/google/colab/_message.py\u001b[0m in \u001b[0;36mblocking_request\u001b[0;34m(request_type, request, timeout_sec, parent)\u001b[0m\n\u001b[1;32m    174\u001b[0m       \u001b[0mrequest_type\u001b[0m\u001b[0;34m,\u001b[0m \u001b[0mrequest\u001b[0m\u001b[0;34m,\u001b[0m \u001b[0mparent\u001b[0m\u001b[0;34m=\u001b[0m\u001b[0mparent\u001b[0m\u001b[0;34m,\u001b[0m \u001b[0mexpect_reply\u001b[0m\u001b[0;34m=\u001b[0m\u001b[0;32mTrue\u001b[0m\u001b[0;34m\u001b[0m\u001b[0;34m\u001b[0m\u001b[0m\n\u001b[1;32m    175\u001b[0m   )\n\u001b[0;32m--> 176\u001b[0;31m   \u001b[0;32mreturn\u001b[0m \u001b[0mread_reply_from_input\u001b[0m\u001b[0;34m(\u001b[0m\u001b[0mrequest_id\u001b[0m\u001b[0;34m,\u001b[0m \u001b[0mtimeout_sec\u001b[0m\u001b[0;34m)\u001b[0m\u001b[0;34m\u001b[0m\u001b[0;34m\u001b[0m\u001b[0m\n\u001b[0m",
            "\u001b[0;32m/usr/local/lib/python3.10/dist-packages/google/colab/_message.py\u001b[0m in \u001b[0;36mread_reply_from_input\u001b[0;34m(message_id, timeout_sec)\u001b[0m\n\u001b[1;32m    101\u001b[0m     ):\n\u001b[1;32m    102\u001b[0m       \u001b[0;32mif\u001b[0m \u001b[0;34m'error'\u001b[0m \u001b[0;32min\u001b[0m \u001b[0mreply\u001b[0m\u001b[0;34m:\u001b[0m\u001b[0;34m\u001b[0m\u001b[0;34m\u001b[0m\u001b[0m\n\u001b[0;32m--> 103\u001b[0;31m         \u001b[0;32mraise\u001b[0m \u001b[0mMessageError\u001b[0m\u001b[0;34m(\u001b[0m\u001b[0mreply\u001b[0m\u001b[0;34m[\u001b[0m\u001b[0;34m'error'\u001b[0m\u001b[0;34m]\u001b[0m\u001b[0;34m)\u001b[0m\u001b[0;34m\u001b[0m\u001b[0;34m\u001b[0m\u001b[0m\n\u001b[0m\u001b[1;32m    104\u001b[0m       \u001b[0;32mreturn\u001b[0m \u001b[0mreply\u001b[0m\u001b[0;34m.\u001b[0m\u001b[0mget\u001b[0m\u001b[0;34m(\u001b[0m\u001b[0;34m'data'\u001b[0m\u001b[0;34m,\u001b[0m \u001b[0;32mNone\u001b[0m\u001b[0;34m)\u001b[0m\u001b[0;34m\u001b[0m\u001b[0;34m\u001b[0m\u001b[0m\n\u001b[1;32m    105\u001b[0m \u001b[0;34m\u001b[0m\u001b[0m\n",
            "\u001b[0;31mMessageError\u001b[0m: Error: credential propagation was unsuccessful"
          ]
        }
      ],
      "source": [
        "from google.colab import drive\n",
        "\n",
        "# Mount Google Drive\n",
        "drive.mount('/content/drive')\n",
        "\n",
        "import numpy as np\n",
        "import pandas as pd\n",
        "import matplotlib.pyplot as plt\n",
        "import seaborn as sns\n",
        "\n",
        "import sklearn\n",
        "from sklearn.preprocessing import StandardScaler\n",
        "from sklearn.cluster import KMeans\n",
        "\n",
        "plt.style.use(\"default\")"
      ]
    },
    {
      "cell_type": "code",
      "source": [
        "product = pd.read_csv('/content/drive/MyDrive/co_note/project/data/product_final.csv')\n",
        "\n",
        "click_stream = pd.read_csv('/content/drive/MyDrive/co_note/project/data/buy_split.csv')\n",
        "\n",
        "customer = pd.read_csv('/content/drive/MyDrive/co_note/project/data/customer_final.csv')\n",
        "\n",
        "transaction = pd.read_csv('/content/drive/MyDrive/co_note/project/data/transaction_final.csv')"
      ],
      "metadata": {
        "id": "QdBeifNBum6H"
      },
      "execution_count": null,
      "outputs": []
    },
    {
      "cell_type": "markdown",
      "source": [
        "목적: 중고 물품에 대한 preference를 충족시키고 있는지<br>\n",
        "> - product: 중고 product 확인할수 없음 <br>\n",
        "1. click_stream: search 에서 중고에 대한 검색을 했는지<br>\n",
        "2. transaction: 중고 검색 후 add_to_cart 로 간 경우, 그 상품이 어떤 상품인지 상관없이 중고에대한 만족을 했다고 이해해도 되지 않을까?\n",
        "\n"
      ],
      "metadata": {
        "id": "x_qjSfcmvr9h"
      }
    },
    {
      "cell_type": "code",
      "source": [
        "click_stream.head()"
      ],
      "metadata": {
        "colab": {
          "base_uri": "https://localhost:8080/",
          "height": 531
        },
        "id": "rHrZvINvvplN",
        "outputId": "90b8160b-08d4-45c2-df03-fee94090f0e5"
      },
      "execution_count": null,
      "outputs": [
        {
          "output_type": "execute_result",
          "data": {
            "text/plain": [
              "                               session_id   event_name  \\\n",
              "0  44122af0-0bf5-407b-b3ff-22c082c61426_0     HOMEPAGE   \n",
              "1  44122af0-0bf5-407b-b3ff-22c082c61426_0  ADD_TO_CART   \n",
              "2  44122af0-0bf5-407b-b3ff-22c082c61426_0     HOMEPAGE   \n",
              "3  44122af0-0bf5-407b-b3ff-22c082c61426_0     HOMEPAGE   \n",
              "4  44122af0-0bf5-407b-b3ff-22c082c61426_0  ITEM_DETAIL   \n",
              "\n",
              "                         event_time traffic_source  product_id  quantity  \\\n",
              "0  2016-10-09 21:17:34.380487+00:00         MOBILE         NaN         0   \n",
              "1  2016-10-09 21:28:40.380487+00:00         MOBILE     24639.0         1   \n",
              "2  2016-10-09 21:30:22.380487+00:00         MOBILE         NaN         0   \n",
              "3  2016-10-09 21:42:14.380487+00:00         MOBILE         NaN         0   \n",
              "4  2016-10-09 21:54:20.380487+00:00         MOBILE         NaN         0   \n",
              "\n",
              "   item_price  payment_status search_keywords  promo_code  promo_amount  \\\n",
              "0           0             NaN             NaN         0.0             0   \n",
              "1      255356             NaN             NaN         0.0             0   \n",
              "2           0             NaN             NaN         0.0             0   \n",
              "3           0             NaN             NaN         0.0             0   \n",
              "4           0             NaN             NaN         0.0             0   \n",
              "\n",
              "   customer_id                            booking_id  quarter  \n",
              "0         50.0  097c5406-68c5-4ecc-8399-8745cb3ff0ca      NaN  \n",
              "1         50.0  097c5406-68c5-4ecc-8399-8745cb3ff0ca      NaN  \n",
              "2         50.0  097c5406-68c5-4ecc-8399-8745cb3ff0ca      NaN  \n",
              "3         50.0  097c5406-68c5-4ecc-8399-8745cb3ff0ca      NaN  \n",
              "4         50.0  097c5406-68c5-4ecc-8399-8745cb3ff0ca      NaN  "
            ],
            "text/html": [
              "\n",
              "  <div id=\"df-d0a7d1fd-d6c9-4497-b54a-84cf49a57fd2\">\n",
              "    <div class=\"colab-df-container\">\n",
              "      <div>\n",
              "<style scoped>\n",
              "    .dataframe tbody tr th:only-of-type {\n",
              "        vertical-align: middle;\n",
              "    }\n",
              "\n",
              "    .dataframe tbody tr th {\n",
              "        vertical-align: top;\n",
              "    }\n",
              "\n",
              "    .dataframe thead th {\n",
              "        text-align: right;\n",
              "    }\n",
              "</style>\n",
              "<table border=\"1\" class=\"dataframe\">\n",
              "  <thead>\n",
              "    <tr style=\"text-align: right;\">\n",
              "      <th></th>\n",
              "      <th>session_id</th>\n",
              "      <th>event_name</th>\n",
              "      <th>event_time</th>\n",
              "      <th>traffic_source</th>\n",
              "      <th>product_id</th>\n",
              "      <th>quantity</th>\n",
              "      <th>item_price</th>\n",
              "      <th>payment_status</th>\n",
              "      <th>search_keywords</th>\n",
              "      <th>promo_code</th>\n",
              "      <th>promo_amount</th>\n",
              "      <th>customer_id</th>\n",
              "      <th>booking_id</th>\n",
              "      <th>quarter</th>\n",
              "    </tr>\n",
              "  </thead>\n",
              "  <tbody>\n",
              "    <tr>\n",
              "      <th>0</th>\n",
              "      <td>44122af0-0bf5-407b-b3ff-22c082c61426_0</td>\n",
              "      <td>HOMEPAGE</td>\n",
              "      <td>2016-10-09 21:17:34.380487+00:00</td>\n",
              "      <td>MOBILE</td>\n",
              "      <td>NaN</td>\n",
              "      <td>0</td>\n",
              "      <td>0</td>\n",
              "      <td>NaN</td>\n",
              "      <td>NaN</td>\n",
              "      <td>0.0</td>\n",
              "      <td>0</td>\n",
              "      <td>50.0</td>\n",
              "      <td>097c5406-68c5-4ecc-8399-8745cb3ff0ca</td>\n",
              "      <td>NaN</td>\n",
              "    </tr>\n",
              "    <tr>\n",
              "      <th>1</th>\n",
              "      <td>44122af0-0bf5-407b-b3ff-22c082c61426_0</td>\n",
              "      <td>ADD_TO_CART</td>\n",
              "      <td>2016-10-09 21:28:40.380487+00:00</td>\n",
              "      <td>MOBILE</td>\n",
              "      <td>24639.0</td>\n",
              "      <td>1</td>\n",
              "      <td>255356</td>\n",
              "      <td>NaN</td>\n",
              "      <td>NaN</td>\n",
              "      <td>0.0</td>\n",
              "      <td>0</td>\n",
              "      <td>50.0</td>\n",
              "      <td>097c5406-68c5-4ecc-8399-8745cb3ff0ca</td>\n",
              "      <td>NaN</td>\n",
              "    </tr>\n",
              "    <tr>\n",
              "      <th>2</th>\n",
              "      <td>44122af0-0bf5-407b-b3ff-22c082c61426_0</td>\n",
              "      <td>HOMEPAGE</td>\n",
              "      <td>2016-10-09 21:30:22.380487+00:00</td>\n",
              "      <td>MOBILE</td>\n",
              "      <td>NaN</td>\n",
              "      <td>0</td>\n",
              "      <td>0</td>\n",
              "      <td>NaN</td>\n",
              "      <td>NaN</td>\n",
              "      <td>0.0</td>\n",
              "      <td>0</td>\n",
              "      <td>50.0</td>\n",
              "      <td>097c5406-68c5-4ecc-8399-8745cb3ff0ca</td>\n",
              "      <td>NaN</td>\n",
              "    </tr>\n",
              "    <tr>\n",
              "      <th>3</th>\n",
              "      <td>44122af0-0bf5-407b-b3ff-22c082c61426_0</td>\n",
              "      <td>HOMEPAGE</td>\n",
              "      <td>2016-10-09 21:42:14.380487+00:00</td>\n",
              "      <td>MOBILE</td>\n",
              "      <td>NaN</td>\n",
              "      <td>0</td>\n",
              "      <td>0</td>\n",
              "      <td>NaN</td>\n",
              "      <td>NaN</td>\n",
              "      <td>0.0</td>\n",
              "      <td>0</td>\n",
              "      <td>50.0</td>\n",
              "      <td>097c5406-68c5-4ecc-8399-8745cb3ff0ca</td>\n",
              "      <td>NaN</td>\n",
              "    </tr>\n",
              "    <tr>\n",
              "      <th>4</th>\n",
              "      <td>44122af0-0bf5-407b-b3ff-22c082c61426_0</td>\n",
              "      <td>ITEM_DETAIL</td>\n",
              "      <td>2016-10-09 21:54:20.380487+00:00</td>\n",
              "      <td>MOBILE</td>\n",
              "      <td>NaN</td>\n",
              "      <td>0</td>\n",
              "      <td>0</td>\n",
              "      <td>NaN</td>\n",
              "      <td>NaN</td>\n",
              "      <td>0.0</td>\n",
              "      <td>0</td>\n",
              "      <td>50.0</td>\n",
              "      <td>097c5406-68c5-4ecc-8399-8745cb3ff0ca</td>\n",
              "      <td>NaN</td>\n",
              "    </tr>\n",
              "  </tbody>\n",
              "</table>\n",
              "</div>\n",
              "      <button class=\"colab-df-convert\" onclick=\"convertToInteractive('df-d0a7d1fd-d6c9-4497-b54a-84cf49a57fd2')\"\n",
              "              title=\"Convert this dataframe to an interactive table.\"\n",
              "              style=\"display:none;\">\n",
              "        \n",
              "  <svg xmlns=\"http://www.w3.org/2000/svg\" height=\"24px\"viewBox=\"0 0 24 24\"\n",
              "       width=\"24px\">\n",
              "    <path d=\"M0 0h24v24H0V0z\" fill=\"none\"/>\n",
              "    <path d=\"M18.56 5.44l.94 2.06.94-2.06 2.06-.94-2.06-.94-.94-2.06-.94 2.06-2.06.94zm-11 1L8.5 8.5l.94-2.06 2.06-.94-2.06-.94L8.5 2.5l-.94 2.06-2.06.94zm10 10l.94 2.06.94-2.06 2.06-.94-2.06-.94-.94-2.06-.94 2.06-2.06.94z\"/><path d=\"M17.41 7.96l-1.37-1.37c-.4-.4-.92-.59-1.43-.59-.52 0-1.04.2-1.43.59L10.3 9.45l-7.72 7.72c-.78.78-.78 2.05 0 2.83L4 21.41c.39.39.9.59 1.41.59.51 0 1.02-.2 1.41-.59l7.78-7.78 2.81-2.81c.8-.78.8-2.07 0-2.86zM5.41 20L4 18.59l7.72-7.72 1.47 1.35L5.41 20z\"/>\n",
              "  </svg>\n",
              "      </button>\n",
              "      \n",
              "  <style>\n",
              "    .colab-df-container {\n",
              "      display:flex;\n",
              "      flex-wrap:wrap;\n",
              "      gap: 12px;\n",
              "    }\n",
              "\n",
              "    .colab-df-convert {\n",
              "      background-color: #E8F0FE;\n",
              "      border: none;\n",
              "      border-radius: 50%;\n",
              "      cursor: pointer;\n",
              "      display: none;\n",
              "      fill: #1967D2;\n",
              "      height: 32px;\n",
              "      padding: 0 0 0 0;\n",
              "      width: 32px;\n",
              "    }\n",
              "\n",
              "    .colab-df-convert:hover {\n",
              "      background-color: #E2EBFA;\n",
              "      box-shadow: 0px 1px 2px rgba(60, 64, 67, 0.3), 0px 1px 3px 1px rgba(60, 64, 67, 0.15);\n",
              "      fill: #174EA6;\n",
              "    }\n",
              "\n",
              "    [theme=dark] .colab-df-convert {\n",
              "      background-color: #3B4455;\n",
              "      fill: #D2E3FC;\n",
              "    }\n",
              "\n",
              "    [theme=dark] .colab-df-convert:hover {\n",
              "      background-color: #434B5C;\n",
              "      box-shadow: 0px 1px 3px 1px rgba(0, 0, 0, 0.15);\n",
              "      filter: drop-shadow(0px 1px 2px rgba(0, 0, 0, 0.3));\n",
              "      fill: #FFFFFF;\n",
              "    }\n",
              "  </style>\n",
              "\n",
              "      <script>\n",
              "        const buttonEl =\n",
              "          document.querySelector('#df-d0a7d1fd-d6c9-4497-b54a-84cf49a57fd2 button.colab-df-convert');\n",
              "        buttonEl.style.display =\n",
              "          google.colab.kernel.accessAllowed ? 'block' : 'none';\n",
              "\n",
              "        async function convertToInteractive(key) {\n",
              "          const element = document.querySelector('#df-d0a7d1fd-d6c9-4497-b54a-84cf49a57fd2');\n",
              "          const dataTable =\n",
              "            await google.colab.kernel.invokeFunction('convertToInteractive',\n",
              "                                                     [key], {});\n",
              "          if (!dataTable) return;\n",
              "\n",
              "          const docLinkHtml = 'Like what you see? Visit the ' +\n",
              "            '<a target=\"_blank\" href=https://colab.research.google.com/notebooks/data_table.ipynb>data table notebook</a>'\n",
              "            + ' to learn more about interactive tables.';\n",
              "          element.innerHTML = '';\n",
              "          dataTable['output_type'] = 'display_data';\n",
              "          await google.colab.output.renderOutput(dataTable, element);\n",
              "          const docLink = document.createElement('div');\n",
              "          docLink.innerHTML = docLinkHtml;\n",
              "          element.appendChild(docLink);\n",
              "        }\n",
              "      </script>\n",
              "    </div>\n",
              "  </div>\n",
              "  "
            ]
          },
          "metadata": {},
          "execution_count": 16
        }
      ]
    },
    {
      "cell_type": "code",
      "source": [
        "# search_keywords 가 없는 데이터는 drop\n",
        "click_stream.dropna(subset=['search_keywords'],inplace=True)\n",
        "click_stream.shape"
      ],
      "metadata": {
        "colab": {
          "base_uri": "https://localhost:8080/"
        },
        "id": "0W1D8vspw55E",
        "outputId": "3bba0d5a-728a-4754-cb0e-1da72e22aa97"
      },
      "execution_count": null,
      "outputs": [
        {
          "output_type": "execute_result",
          "data": {
            "text/plain": [
              "(1134598, 14)"
            ]
          },
          "metadata": {},
          "execution_count": 21
        }
      ]
    },
    {
      "cell_type": "code",
      "source": [
        "session_data = click_stream[click_stream['session_id'].str.contains('316ee816-b672-4d8f-a91a-c87803c0aa3c')]\n",
        "session_data"
      ],
      "metadata": {
        "colab": {
          "base_uri": "https://localhost:8080/",
          "height": 447
        },
        "id": "INKCvfXa16PN",
        "outputId": "69fb10f8-3901-4a6a-93b2-0d9b40bb856c"
      },
      "execution_count": null,
      "outputs": [
        {
          "output_type": "execute_result",
          "data": {
            "text/plain": [
              "                                  session_id event_name  \\\n",
              "137   316ee816-b672-4d8f-a91a-c87803c0aa3c_2     SEARCH   \n",
              "143   316ee816-b672-4d8f-a91a-c87803c0aa3c_5     SEARCH   \n",
              "146   316ee816-b672-4d8f-a91a-c87803c0aa3c_8     SEARCH   \n",
              "151  316ee816-b672-4d8f-a91a-c87803c0aa3c_13     SEARCH   \n",
              "\n",
              "                           event_time traffic_source  product_id  quantity  \\\n",
              "137  2016-12-08 05:52:08.807044+00:00         MOBILE         NaN         0   \n",
              "143  2016-12-08 12:59:33.807044+00:00         MOBILE         NaN         0   \n",
              "146  2016-12-08 20:08:27.807044+00:00         MOBILE         NaN         0   \n",
              "151  2016-12-09 08:09:14.807044+00:00         MOBILE         NaN         0   \n",
              "\n",
              "     item_price  payment_status search_keywords  promo_code  promo_amount  \\\n",
              "137           0             NaN     Second Hand         0.0             0   \n",
              "143           0             NaN     Second Hand         0.0             0   \n",
              "146           0             NaN     Second Hand         0.0             0   \n",
              "151           0             NaN         T-Shirt         0.0             0   \n",
              "\n",
              "     customer_id                            booking_id  quarter  \n",
              "137        429.0  839b59bb-38c2-4a7a-95dc-c08cef238ef2      NaN  \n",
              "143        429.0  839b59bb-38c2-4a7a-95dc-c08cef238ef2      NaN  \n",
              "146        429.0  839b59bb-38c2-4a7a-95dc-c08cef238ef2      NaN  \n",
              "151        429.0  839b59bb-38c2-4a7a-95dc-c08cef238ef2      NaN  "
            ],
            "text/html": [
              "\n",
              "  <div id=\"df-4db5cbc7-fd35-4f72-99a8-4bf6ab9934cc\">\n",
              "    <div class=\"colab-df-container\">\n",
              "      <div>\n",
              "<style scoped>\n",
              "    .dataframe tbody tr th:only-of-type {\n",
              "        vertical-align: middle;\n",
              "    }\n",
              "\n",
              "    .dataframe tbody tr th {\n",
              "        vertical-align: top;\n",
              "    }\n",
              "\n",
              "    .dataframe thead th {\n",
              "        text-align: right;\n",
              "    }\n",
              "</style>\n",
              "<table border=\"1\" class=\"dataframe\">\n",
              "  <thead>\n",
              "    <tr style=\"text-align: right;\">\n",
              "      <th></th>\n",
              "      <th>session_id</th>\n",
              "      <th>event_name</th>\n",
              "      <th>event_time</th>\n",
              "      <th>traffic_source</th>\n",
              "      <th>product_id</th>\n",
              "      <th>quantity</th>\n",
              "      <th>item_price</th>\n",
              "      <th>payment_status</th>\n",
              "      <th>search_keywords</th>\n",
              "      <th>promo_code</th>\n",
              "      <th>promo_amount</th>\n",
              "      <th>customer_id</th>\n",
              "      <th>booking_id</th>\n",
              "      <th>quarter</th>\n",
              "    </tr>\n",
              "  </thead>\n",
              "  <tbody>\n",
              "    <tr>\n",
              "      <th>137</th>\n",
              "      <td>316ee816-b672-4d8f-a91a-c87803c0aa3c_2</td>\n",
              "      <td>SEARCH</td>\n",
              "      <td>2016-12-08 05:52:08.807044+00:00</td>\n",
              "      <td>MOBILE</td>\n",
              "      <td>NaN</td>\n",
              "      <td>0</td>\n",
              "      <td>0</td>\n",
              "      <td>NaN</td>\n",
              "      <td>Second Hand</td>\n",
              "      <td>0.0</td>\n",
              "      <td>0</td>\n",
              "      <td>429.0</td>\n",
              "      <td>839b59bb-38c2-4a7a-95dc-c08cef238ef2</td>\n",
              "      <td>NaN</td>\n",
              "    </tr>\n",
              "    <tr>\n",
              "      <th>143</th>\n",
              "      <td>316ee816-b672-4d8f-a91a-c87803c0aa3c_5</td>\n",
              "      <td>SEARCH</td>\n",
              "      <td>2016-12-08 12:59:33.807044+00:00</td>\n",
              "      <td>MOBILE</td>\n",
              "      <td>NaN</td>\n",
              "      <td>0</td>\n",
              "      <td>0</td>\n",
              "      <td>NaN</td>\n",
              "      <td>Second Hand</td>\n",
              "      <td>0.0</td>\n",
              "      <td>0</td>\n",
              "      <td>429.0</td>\n",
              "      <td>839b59bb-38c2-4a7a-95dc-c08cef238ef2</td>\n",
              "      <td>NaN</td>\n",
              "    </tr>\n",
              "    <tr>\n",
              "      <th>146</th>\n",
              "      <td>316ee816-b672-4d8f-a91a-c87803c0aa3c_8</td>\n",
              "      <td>SEARCH</td>\n",
              "      <td>2016-12-08 20:08:27.807044+00:00</td>\n",
              "      <td>MOBILE</td>\n",
              "      <td>NaN</td>\n",
              "      <td>0</td>\n",
              "      <td>0</td>\n",
              "      <td>NaN</td>\n",
              "      <td>Second Hand</td>\n",
              "      <td>0.0</td>\n",
              "      <td>0</td>\n",
              "      <td>429.0</td>\n",
              "      <td>839b59bb-38c2-4a7a-95dc-c08cef238ef2</td>\n",
              "      <td>NaN</td>\n",
              "    </tr>\n",
              "    <tr>\n",
              "      <th>151</th>\n",
              "      <td>316ee816-b672-4d8f-a91a-c87803c0aa3c_13</td>\n",
              "      <td>SEARCH</td>\n",
              "      <td>2016-12-09 08:09:14.807044+00:00</td>\n",
              "      <td>MOBILE</td>\n",
              "      <td>NaN</td>\n",
              "      <td>0</td>\n",
              "      <td>0</td>\n",
              "      <td>NaN</td>\n",
              "      <td>T-Shirt</td>\n",
              "      <td>0.0</td>\n",
              "      <td>0</td>\n",
              "      <td>429.0</td>\n",
              "      <td>839b59bb-38c2-4a7a-95dc-c08cef238ef2</td>\n",
              "      <td>NaN</td>\n",
              "    </tr>\n",
              "  </tbody>\n",
              "</table>\n",
              "</div>\n",
              "      <button class=\"colab-df-convert\" onclick=\"convertToInteractive('df-4db5cbc7-fd35-4f72-99a8-4bf6ab9934cc')\"\n",
              "              title=\"Convert this dataframe to an interactive table.\"\n",
              "              style=\"display:none;\">\n",
              "        \n",
              "  <svg xmlns=\"http://www.w3.org/2000/svg\" height=\"24px\"viewBox=\"0 0 24 24\"\n",
              "       width=\"24px\">\n",
              "    <path d=\"M0 0h24v24H0V0z\" fill=\"none\"/>\n",
              "    <path d=\"M18.56 5.44l.94 2.06.94-2.06 2.06-.94-2.06-.94-.94-2.06-.94 2.06-2.06.94zm-11 1L8.5 8.5l.94-2.06 2.06-.94-2.06-.94L8.5 2.5l-.94 2.06-2.06.94zm10 10l.94 2.06.94-2.06 2.06-.94-2.06-.94-.94-2.06-.94 2.06-2.06.94z\"/><path d=\"M17.41 7.96l-1.37-1.37c-.4-.4-.92-.59-1.43-.59-.52 0-1.04.2-1.43.59L10.3 9.45l-7.72 7.72c-.78.78-.78 2.05 0 2.83L4 21.41c.39.39.9.59 1.41.59.51 0 1.02-.2 1.41-.59l7.78-7.78 2.81-2.81c.8-.78.8-2.07 0-2.86zM5.41 20L4 18.59l7.72-7.72 1.47 1.35L5.41 20z\"/>\n",
              "  </svg>\n",
              "      </button>\n",
              "      \n",
              "  <style>\n",
              "    .colab-df-container {\n",
              "      display:flex;\n",
              "      flex-wrap:wrap;\n",
              "      gap: 12px;\n",
              "    }\n",
              "\n",
              "    .colab-df-convert {\n",
              "      background-color: #E8F0FE;\n",
              "      border: none;\n",
              "      border-radius: 50%;\n",
              "      cursor: pointer;\n",
              "      display: none;\n",
              "      fill: #1967D2;\n",
              "      height: 32px;\n",
              "      padding: 0 0 0 0;\n",
              "      width: 32px;\n",
              "    }\n",
              "\n",
              "    .colab-df-convert:hover {\n",
              "      background-color: #E2EBFA;\n",
              "      box-shadow: 0px 1px 2px rgba(60, 64, 67, 0.3), 0px 1px 3px 1px rgba(60, 64, 67, 0.15);\n",
              "      fill: #174EA6;\n",
              "    }\n",
              "\n",
              "    [theme=dark] .colab-df-convert {\n",
              "      background-color: #3B4455;\n",
              "      fill: #D2E3FC;\n",
              "    }\n",
              "\n",
              "    [theme=dark] .colab-df-convert:hover {\n",
              "      background-color: #434B5C;\n",
              "      box-shadow: 0px 1px 3px 1px rgba(0, 0, 0, 0.15);\n",
              "      filter: drop-shadow(0px 1px 2px rgba(0, 0, 0, 0.3));\n",
              "      fill: #FFFFFF;\n",
              "    }\n",
              "  </style>\n",
              "\n",
              "      <script>\n",
              "        const buttonEl =\n",
              "          document.querySelector('#df-4db5cbc7-fd35-4f72-99a8-4bf6ab9934cc button.colab-df-convert');\n",
              "        buttonEl.style.display =\n",
              "          google.colab.kernel.accessAllowed ? 'block' : 'none';\n",
              "\n",
              "        async function convertToInteractive(key) {\n",
              "          const element = document.querySelector('#df-4db5cbc7-fd35-4f72-99a8-4bf6ab9934cc');\n",
              "          const dataTable =\n",
              "            await google.colab.kernel.invokeFunction('convertToInteractive',\n",
              "                                                     [key], {});\n",
              "          if (!dataTable) return;\n",
              "\n",
              "          const docLinkHtml = 'Like what you see? Visit the ' +\n",
              "            '<a target=\"_blank\" href=https://colab.research.google.com/notebooks/data_table.ipynb>data table notebook</a>'\n",
              "            + ' to learn more about interactive tables.';\n",
              "          element.innerHTML = '';\n",
              "          dataTable['output_type'] = 'display_data';\n",
              "          await google.colab.output.renderOutput(dataTable, element);\n",
              "          const docLink = document.createElement('div');\n",
              "          docLink.innerHTML = docLinkHtml;\n",
              "          element.appendChild(docLink);\n",
              "        }\n",
              "      </script>\n",
              "    </div>\n",
              "  </div>\n",
              "  "
            ]
          },
          "metadata": {},
          "execution_count": 31
        }
      ]
    },
    {
      "cell_type": "code",
      "source": [
        "click_stream.search_keywords.isna().sum()"
      ],
      "metadata": {
        "colab": {
          "base_uri": "https://localhost:8080/"
        },
        "id": "DryI-o3izsaI",
        "outputId": "3640d455-bcca-4735-cfc3-60b4987dc23f"
      },
      "execution_count": null,
      "outputs": [
        {
          "output_type": "execute_result",
          "data": {
            "text/plain": [
              "11328406"
            ]
          },
          "metadata": {},
          "execution_count": 18
        }
      ]
    },
    {
      "cell_type": "code",
      "source": [
        "12463004 - 11328406"
      ],
      "metadata": {
        "colab": {
          "base_uri": "https://localhost:8080/"
        },
        "id": "I_vbe__t0L7-",
        "outputId": "41745c94-12c3-4a32-cca8-dffd3bff0caa"
      },
      "execution_count": null,
      "outputs": [
        {
          "output_type": "execute_result",
          "data": {
            "text/plain": [
              "1134598"
            ]
          },
          "metadata": {},
          "execution_count": 19
        }
      ]
    },
    {
      "cell_type": "code",
      "source": [
        "click_stream.search_keywords.unique()"
      ],
      "metadata": {
        "colab": {
          "base_uri": "https://localhost:8080/"
        },
        "id": "KJigstpizm9V",
        "outputId": "fb470faf-be5a-4c4c-e36d-6305dd4a036e"
      },
      "execution_count": null,
      "outputs": [
        {
          "output_type": "execute_result",
          "data": {
            "text/plain": [
              "array(['Shirts', \"Woman's Bag\", 'Dress', 'Second Hand', 'T-Shirt',\n",
              "       'Shoes', 'Adidas Shoes', 'Work Bag', 'Nike Shoes', 'Trousers',\n",
              "       'Sandal', 'Watch', 'Hat', 'House dress', 'Pajamas'], dtype=object)"
            ]
          },
          "metadata": {},
          "execution_count": 23
        }
      ]
    },
    {
      "cell_type": "code",
      "source": [
        "used_cs = click_stream[click_stream.search_keywords == 'Second Hand']\n",
        "used_cs.head()"
      ],
      "metadata": {
        "colab": {
          "base_uri": "https://localhost:8080/",
          "height": 531
        },
        "id": "u6biFTIq0X4a",
        "outputId": "4214f8d3-8833-43c9-9707-3ce937fc35a4"
      },
      "execution_count": null,
      "outputs": [
        {
          "output_type": "execute_result",
          "data": {
            "text/plain": [
              "                                 session_id event_name  \\\n",
              "111  a77907da-645a-4f7e-a685-d99232b733de_0     SEARCH   \n",
              "137  316ee816-b672-4d8f-a91a-c87803c0aa3c_2     SEARCH   \n",
              "143  316ee816-b672-4d8f-a91a-c87803c0aa3c_5     SEARCH   \n",
              "146  316ee816-b672-4d8f-a91a-c87803c0aa3c_8     SEARCH   \n",
              "375  f794b5cb-1c0f-4246-b724-1ac1be07de1e_0     SEARCH   \n",
              "\n",
              "                           event_time traffic_source  product_id  quantity  \\\n",
              "111  2016-10-11 04:11:45.752206+00:00         MOBILE         NaN         0   \n",
              "137  2016-12-08 05:52:08.807044+00:00         MOBILE         NaN         0   \n",
              "143  2016-12-08 12:59:33.807044+00:00         MOBILE         NaN         0   \n",
              "146  2016-12-08 20:08:27.807044+00:00         MOBILE         NaN         0   \n",
              "375  2016-10-02 10:07:15.824834+00:00         MOBILE         NaN         0   \n",
              "\n",
              "     item_price  payment_status search_keywords  promo_code  promo_amount  \\\n",
              "111           0             NaN     Second Hand         0.0             0   \n",
              "137           0             NaN     Second Hand         0.0             0   \n",
              "143           0             NaN     Second Hand         0.0             0   \n",
              "146           0             NaN     Second Hand         0.0             0   \n",
              "375           0             NaN     Second Hand         0.0             0   \n",
              "\n",
              "     customer_id                            booking_id  quarter  \n",
              "111        302.0  14e77d56-9bec-4d6e-8cc4-d56251581d02      NaN  \n",
              "137        429.0  839b59bb-38c2-4a7a-95dc-c08cef238ef2      NaN  \n",
              "143        429.0  839b59bb-38c2-4a7a-95dc-c08cef238ef2      NaN  \n",
              "146        429.0  839b59bb-38c2-4a7a-95dc-c08cef238ef2      NaN  \n",
              "375       1065.0  3045e8a7-3252-48f9-8a75-8c7e6a76ca33      NaN  "
            ],
            "text/html": [
              "\n",
              "  <div id=\"df-f0cc707d-9d06-428d-a6ee-9d04368e2e86\">\n",
              "    <div class=\"colab-df-container\">\n",
              "      <div>\n",
              "<style scoped>\n",
              "    .dataframe tbody tr th:only-of-type {\n",
              "        vertical-align: middle;\n",
              "    }\n",
              "\n",
              "    .dataframe tbody tr th {\n",
              "        vertical-align: top;\n",
              "    }\n",
              "\n",
              "    .dataframe thead th {\n",
              "        text-align: right;\n",
              "    }\n",
              "</style>\n",
              "<table border=\"1\" class=\"dataframe\">\n",
              "  <thead>\n",
              "    <tr style=\"text-align: right;\">\n",
              "      <th></th>\n",
              "      <th>session_id</th>\n",
              "      <th>event_name</th>\n",
              "      <th>event_time</th>\n",
              "      <th>traffic_source</th>\n",
              "      <th>product_id</th>\n",
              "      <th>quantity</th>\n",
              "      <th>item_price</th>\n",
              "      <th>payment_status</th>\n",
              "      <th>search_keywords</th>\n",
              "      <th>promo_code</th>\n",
              "      <th>promo_amount</th>\n",
              "      <th>customer_id</th>\n",
              "      <th>booking_id</th>\n",
              "      <th>quarter</th>\n",
              "    </tr>\n",
              "  </thead>\n",
              "  <tbody>\n",
              "    <tr>\n",
              "      <th>111</th>\n",
              "      <td>a77907da-645a-4f7e-a685-d99232b733de_0</td>\n",
              "      <td>SEARCH</td>\n",
              "      <td>2016-10-11 04:11:45.752206+00:00</td>\n",
              "      <td>MOBILE</td>\n",
              "      <td>NaN</td>\n",
              "      <td>0</td>\n",
              "      <td>0</td>\n",
              "      <td>NaN</td>\n",
              "      <td>Second Hand</td>\n",
              "      <td>0.0</td>\n",
              "      <td>0</td>\n",
              "      <td>302.0</td>\n",
              "      <td>14e77d56-9bec-4d6e-8cc4-d56251581d02</td>\n",
              "      <td>NaN</td>\n",
              "    </tr>\n",
              "    <tr>\n",
              "      <th>137</th>\n",
              "      <td>316ee816-b672-4d8f-a91a-c87803c0aa3c_2</td>\n",
              "      <td>SEARCH</td>\n",
              "      <td>2016-12-08 05:52:08.807044+00:00</td>\n",
              "      <td>MOBILE</td>\n",
              "      <td>NaN</td>\n",
              "      <td>0</td>\n",
              "      <td>0</td>\n",
              "      <td>NaN</td>\n",
              "      <td>Second Hand</td>\n",
              "      <td>0.0</td>\n",
              "      <td>0</td>\n",
              "      <td>429.0</td>\n",
              "      <td>839b59bb-38c2-4a7a-95dc-c08cef238ef2</td>\n",
              "      <td>NaN</td>\n",
              "    </tr>\n",
              "    <tr>\n",
              "      <th>143</th>\n",
              "      <td>316ee816-b672-4d8f-a91a-c87803c0aa3c_5</td>\n",
              "      <td>SEARCH</td>\n",
              "      <td>2016-12-08 12:59:33.807044+00:00</td>\n",
              "      <td>MOBILE</td>\n",
              "      <td>NaN</td>\n",
              "      <td>0</td>\n",
              "      <td>0</td>\n",
              "      <td>NaN</td>\n",
              "      <td>Second Hand</td>\n",
              "      <td>0.0</td>\n",
              "      <td>0</td>\n",
              "      <td>429.0</td>\n",
              "      <td>839b59bb-38c2-4a7a-95dc-c08cef238ef2</td>\n",
              "      <td>NaN</td>\n",
              "    </tr>\n",
              "    <tr>\n",
              "      <th>146</th>\n",
              "      <td>316ee816-b672-4d8f-a91a-c87803c0aa3c_8</td>\n",
              "      <td>SEARCH</td>\n",
              "      <td>2016-12-08 20:08:27.807044+00:00</td>\n",
              "      <td>MOBILE</td>\n",
              "      <td>NaN</td>\n",
              "      <td>0</td>\n",
              "      <td>0</td>\n",
              "      <td>NaN</td>\n",
              "      <td>Second Hand</td>\n",
              "      <td>0.0</td>\n",
              "      <td>0</td>\n",
              "      <td>429.0</td>\n",
              "      <td>839b59bb-38c2-4a7a-95dc-c08cef238ef2</td>\n",
              "      <td>NaN</td>\n",
              "    </tr>\n",
              "    <tr>\n",
              "      <th>375</th>\n",
              "      <td>f794b5cb-1c0f-4246-b724-1ac1be07de1e_0</td>\n",
              "      <td>SEARCH</td>\n",
              "      <td>2016-10-02 10:07:15.824834+00:00</td>\n",
              "      <td>MOBILE</td>\n",
              "      <td>NaN</td>\n",
              "      <td>0</td>\n",
              "      <td>0</td>\n",
              "      <td>NaN</td>\n",
              "      <td>Second Hand</td>\n",
              "      <td>0.0</td>\n",
              "      <td>0</td>\n",
              "      <td>1065.0</td>\n",
              "      <td>3045e8a7-3252-48f9-8a75-8c7e6a76ca33</td>\n",
              "      <td>NaN</td>\n",
              "    </tr>\n",
              "  </tbody>\n",
              "</table>\n",
              "</div>\n",
              "      <button class=\"colab-df-convert\" onclick=\"convertToInteractive('df-f0cc707d-9d06-428d-a6ee-9d04368e2e86')\"\n",
              "              title=\"Convert this dataframe to an interactive table.\"\n",
              "              style=\"display:none;\">\n",
              "        \n",
              "  <svg xmlns=\"http://www.w3.org/2000/svg\" height=\"24px\"viewBox=\"0 0 24 24\"\n",
              "       width=\"24px\">\n",
              "    <path d=\"M0 0h24v24H0V0z\" fill=\"none\"/>\n",
              "    <path d=\"M18.56 5.44l.94 2.06.94-2.06 2.06-.94-2.06-.94-.94-2.06-.94 2.06-2.06.94zm-11 1L8.5 8.5l.94-2.06 2.06-.94-2.06-.94L8.5 2.5l-.94 2.06-2.06.94zm10 10l.94 2.06.94-2.06 2.06-.94-2.06-.94-.94-2.06-.94 2.06-2.06.94z\"/><path d=\"M17.41 7.96l-1.37-1.37c-.4-.4-.92-.59-1.43-.59-.52 0-1.04.2-1.43.59L10.3 9.45l-7.72 7.72c-.78.78-.78 2.05 0 2.83L4 21.41c.39.39.9.59 1.41.59.51 0 1.02-.2 1.41-.59l7.78-7.78 2.81-2.81c.8-.78.8-2.07 0-2.86zM5.41 20L4 18.59l7.72-7.72 1.47 1.35L5.41 20z\"/>\n",
              "  </svg>\n",
              "      </button>\n",
              "      \n",
              "  <style>\n",
              "    .colab-df-container {\n",
              "      display:flex;\n",
              "      flex-wrap:wrap;\n",
              "      gap: 12px;\n",
              "    }\n",
              "\n",
              "    .colab-df-convert {\n",
              "      background-color: #E8F0FE;\n",
              "      border: none;\n",
              "      border-radius: 50%;\n",
              "      cursor: pointer;\n",
              "      display: none;\n",
              "      fill: #1967D2;\n",
              "      height: 32px;\n",
              "      padding: 0 0 0 0;\n",
              "      width: 32px;\n",
              "    }\n",
              "\n",
              "    .colab-df-convert:hover {\n",
              "      background-color: #E2EBFA;\n",
              "      box-shadow: 0px 1px 2px rgba(60, 64, 67, 0.3), 0px 1px 3px 1px rgba(60, 64, 67, 0.15);\n",
              "      fill: #174EA6;\n",
              "    }\n",
              "\n",
              "    [theme=dark] .colab-df-convert {\n",
              "      background-color: #3B4455;\n",
              "      fill: #D2E3FC;\n",
              "    }\n",
              "\n",
              "    [theme=dark] .colab-df-convert:hover {\n",
              "      background-color: #434B5C;\n",
              "      box-shadow: 0px 1px 3px 1px rgba(0, 0, 0, 0.15);\n",
              "      filter: drop-shadow(0px 1px 2px rgba(0, 0, 0, 0.3));\n",
              "      fill: #FFFFFF;\n",
              "    }\n",
              "  </style>\n",
              "\n",
              "      <script>\n",
              "        const buttonEl =\n",
              "          document.querySelector('#df-f0cc707d-9d06-428d-a6ee-9d04368e2e86 button.colab-df-convert');\n",
              "        buttonEl.style.display =\n",
              "          google.colab.kernel.accessAllowed ? 'block' : 'none';\n",
              "\n",
              "        async function convertToInteractive(key) {\n",
              "          const element = document.querySelector('#df-f0cc707d-9d06-428d-a6ee-9d04368e2e86');\n",
              "          const dataTable =\n",
              "            await google.colab.kernel.invokeFunction('convertToInteractive',\n",
              "                                                     [key], {});\n",
              "          if (!dataTable) return;\n",
              "\n",
              "          const docLinkHtml = 'Like what you see? Visit the ' +\n",
              "            '<a target=\"_blank\" href=https://colab.research.google.com/notebooks/data_table.ipynb>data table notebook</a>'\n",
              "            + ' to learn more about interactive tables.';\n",
              "          element.innerHTML = '';\n",
              "          dataTable['output_type'] = 'display_data';\n",
              "          await google.colab.output.renderOutput(dataTable, element);\n",
              "          const docLink = document.createElement('div');\n",
              "          docLink.innerHTML = docLinkHtml;\n",
              "          element.appendChild(docLink);\n",
              "        }\n",
              "      </script>\n",
              "    </div>\n",
              "  </div>\n",
              "  "
            ]
          },
          "metadata": {},
          "execution_count": 25
        }
      ]
    },
    {
      "cell_type": "code",
      "source": [
        "len(used_cs) / len(click_stream)"
      ],
      "metadata": {
        "colab": {
          "base_uri": "https://localhost:8080/"
        },
        "id": "9zF_bBkH1LrC",
        "outputId": "b806596c-aa58-4931-c1ba-b9a6b4e1dcdb"
      },
      "execution_count": null,
      "outputs": [
        {
          "output_type": "execute_result",
          "data": {
            "text/plain": [
              "0.19163615659467054"
            ]
          },
          "metadata": {},
          "execution_count": 30
        }
      ]
    },
    {
      "cell_type": "markdown",
      "source": [
        "search 중 used 제품에 대한 검색이 차지하는 데이터 = 19% <br>\n",
        "현준님 그래프 보면 중고에 대한 검색량 상승 -> 2020-08월부터 날짜로 확인해보기"
      ],
      "metadata": {
        "id": "qudH-cv41bGQ"
      }
    },
    {
      "cell_type": "code",
      "source": [
        "click_stream['event_time'] = pd.to_datetime(click_stream['event_time']).dt.to_period('M')\n",
        "click_stream = click_stream[click_stream['event_time'] >= '2020-08']\n",
        "\n",
        "used_cs['event_time'] = pd.to_datetime(used_cs['event_time']).dt.to_period('M')\n",
        "used_cs = used_cs[used_cs['event_time'] >= '2020-08']\n",
        "\n",
        "print(click_stream.shape, used_cs.shape)"
      ],
      "metadata": {
        "colab": {
          "base_uri": "https://localhost:8080/"
        },
        "id": "QQ-aFEBkCNO1",
        "outputId": "84cba72a-b388-4eec-9827-f5448a5272cc"
      },
      "execution_count": null,
      "outputs": [
        {
          "output_type": "stream",
          "name": "stderr",
          "text": [
            "<ipython-input-33-f6be86eca333>:1: UserWarning: Converting to PeriodArray/Index representation will drop timezone information.\n",
            "  click_stream['event_time'] = pd.to_datetime(click_stream['event_time']).dt.to_period('M')\n"
          ]
        },
        {
          "output_type": "stream",
          "name": "stdout",
          "text": [
            "(735162, 14) (140852, 14)\n"
          ]
        },
        {
          "output_type": "stream",
          "name": "stderr",
          "text": [
            "<ipython-input-33-f6be86eca333>:4: UserWarning: Converting to PeriodArray/Index representation will drop timezone information.\n",
            "  used_cs['event_time'] = pd.to_datetime(used_cs['event_time']).dt.to_period('M')\n"
          ]
        }
      ]
    },
    {
      "cell_type": "code",
      "source": [
        "len(used_cs) / len(click_stream)"
      ],
      "metadata": {
        "colab": {
          "base_uri": "https://localhost:8080/"
        },
        "id": "59ORAFRHDWBP",
        "outputId": "cba4ad35-9fd3-4356-ebf6-977767fd9f4d"
      },
      "execution_count": null,
      "outputs": [
        {
          "output_type": "execute_result",
          "data": {
            "text/plain": [
              "0.1915931454563756"
            ]
          },
          "metadata": {},
          "execution_count": 34
        }
      ]
    },
    {
      "cell_type": "markdown",
      "source": [
        "2020-08월부터 날짜로 확인했을 때도 중고에 대한 검색이 전체 검색의 약 19% 차지"
      ],
      "metadata": {
        "id": "JAAa3K_gDbQU"
      }
    },
    {
      "cell_type": "code",
      "source": [
        "used_cs.booking_id.isna().sum()"
      ],
      "metadata": {
        "colab": {
          "base_uri": "https://localhost:8080/"
        },
        "id": "Cfa_P9E0BjEa",
        "outputId": "21bd5070-bf84-4c21-d085-50172f8cf161"
      },
      "execution_count": null,
      "outputs": [
        {
          "output_type": "execute_result",
          "data": {
            "text/plain": [
              "0"
            ]
          },
          "metadata": {},
          "execution_count": 32
        }
      ]
    },
    {
      "cell_type": "markdown",
      "source": [
        "## segment별 중고 검색어 비율\n",
        "\n",
        "재은!"
      ],
      "metadata": {
        "id": "nW8-icgCNJHl"
      }
    },
    {
      "cell_type": "markdown",
      "source": [
        "## (필요없음)미구매자 포함 전체 중고 search keywords확인해봄"
      ],
      "metadata": {
        "id": "iHBbdRDgP3DQ"
      }
    },
    {
      "cell_type": "code",
      "source": [
        "# 미구매자 포함된 click_stream 에서 검색어 비율\n",
        "click_old = pd.read_csv('/content/drive/MyDrive/co_note/project/data/original_data/click_stream_new.csv')"
      ],
      "metadata": {
        "id": "i_2EX16f0-Jk"
      },
      "execution_count": null,
      "outputs": []
    },
    {
      "cell_type": "code",
      "source": [
        "click_old.dropna(subset=['search_keywords'],inplace=True)\n",
        "click_old.shape\n",
        "\n",
        "used_cs_old = click_old[click_old.search_keywords == 'Second Hand']\n",
        "\n",
        "len(used_cs_old) / len(click_old)"
      ],
      "metadata": {
        "colab": {
          "base_uri": "https://localhost:8080/"
        },
        "id": "JjvjEjTyKETq",
        "outputId": "1b45ab49-2956-44a1-c9e5-8631ddbb7861"
      },
      "execution_count": null,
      "outputs": [
        {
          "output_type": "execute_result",
          "data": {
            "text/plain": [
              "0.024230651872635872"
            ]
          },
          "metadata": {},
          "execution_count": 38
        }
      ]
    },
    {
      "cell_type": "code",
      "source": [
        "click_old['event_time'] = pd.to_datetime(click_old['event_time']).dt.to_period('M')\n",
        "click_old = click_old[click_old['event_time'] >= '2020-08']\n",
        "\n",
        "used_cs_old['event_time'] = pd.to_datetime(used_cs_old['event_time']).dt.to_period('M')\n",
        "used_cs_old = used_cs_old[used_cs_old['event_time'] >= '2020-08']"
      ],
      "metadata": {
        "colab": {
          "base_uri": "https://localhost:8080/"
        },
        "id": "PvM73c1QKilo",
        "outputId": "4ddf4e51-669f-484c-8fb3-09b368411e04"
      },
      "execution_count": null,
      "outputs": [
        {
          "output_type": "stream",
          "name": "stderr",
          "text": [
            "<ipython-input-41-4f9b4de7c5f1>:1: UserWarning: Converting to PeriodArray/Index representation will drop timezone information.\n",
            "  click_old['event_time'] = pd.to_datetime(click_old['event_time']).dt.to_period('M')\n",
            "<ipython-input-41-4f9b4de7c5f1>:4: UserWarning: Converting to PeriodArray/Index representation will drop timezone information.\n",
            "  used_cs_old['event_time'] = pd.to_datetime(used_cs_old['event_time']).dt.to_period('M')\n"
          ]
        }
      ]
    },
    {
      "cell_type": "code",
      "source": [
        "len(used_cs_old) / len(click_old)"
      ],
      "metadata": {
        "colab": {
          "base_uri": "https://localhost:8080/"
        },
        "id": "liVy5SIuLH-a",
        "outputId": "a46a7708-08be-4db4-8ac8-ef03ce329a0b"
      },
      "execution_count": null,
      "outputs": [
        {
          "output_type": "execute_result",
          "data": {
            "text/plain": [
              "0.02420918002573839"
            ]
          },
          "metadata": {},
          "execution_count": 42
        }
      ]
    }
  ]
}