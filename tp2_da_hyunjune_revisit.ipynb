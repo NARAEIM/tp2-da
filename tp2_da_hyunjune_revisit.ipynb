{
 "cells": [
  {
   "cell_type": "code",
   "execution_count": 1,
   "metadata": {},
   "outputs": [],
   "source": [
    "import pandas as pd\n",
    "import numpy as np\n",
    "import seaborn as sns\n",
    "import matplotlib.pyplot as plt\n",
    "import datetime\n",
    "import os"
   ]
  },
  {
   "cell_type": "code",
   "execution_count": 37,
   "metadata": {},
   "outputs": [],
   "source": [
    "base_path = os.getcwd()\n",
    "df_buy_split = pd.read_csv(base_path + '/df_buy_split_final.csv')"
   ]
  },
  {
   "cell_type": "code",
   "execution_count": 38,
   "metadata": {},
   "outputs": [],
   "source": [
    "df_n_buy_split = pd.read_csv(base_path + '/df_n_buy_split.csv')"
   ]
  },
  {
   "cell_type": "code",
   "execution_count": 39,
   "metadata": {},
   "outputs": [],
   "source": [
    "df_buy_split = pd.concat([df_buy_split, df_n_buy_split])"
   ]
  },
  {
   "cell_type": "code",
   "execution_count": 5,
   "metadata": {},
   "outputs": [],
   "source": [
    "transaction_new = pd.read_csv(base_path + '/transaction_final.csv')"
   ]
  },
  {
   "cell_type": "code",
   "execution_count": 6,
   "metadata": {},
   "outputs": [],
   "source": [
    "product = pd.read_csv(base_path + '/product_final.csv', skiprows = [6043, 6568, 7398, 7938, 9025, 10263, 10426, 10904, 11372, 11944, 14111, 14531, 15075, 29905, 31624, 33019, 35747, 35961, 37769, 38104, 38274, 38403])"
   ]
  },
  {
   "cell_type": "code",
   "execution_count": 7,
   "metadata": {},
   "outputs": [
    {
     "data": {
      "text/html": [
       "<div>\n",
       "<style scoped>\n",
       "    .dataframe tbody tr th:only-of-type {\n",
       "        vertical-align: middle;\n",
       "    }\n",
       "\n",
       "    .dataframe tbody tr th {\n",
       "        vertical-align: top;\n",
       "    }\n",
       "\n",
       "    .dataframe thead th {\n",
       "        text-align: right;\n",
       "    }\n",
       "</style>\n",
       "<table border=\"1\" class=\"dataframe\">\n",
       "  <thead>\n",
       "    <tr style=\"text-align: right;\">\n",
       "      <th></th>\n",
       "      <th>customer_id</th>\n",
       "      <th>booking_id</th>\n",
       "      <th>sales</th>\n",
       "    </tr>\n",
       "  </thead>\n",
       "  <tbody>\n",
       "    <tr>\n",
       "      <th>0</th>\n",
       "      <td>3</td>\n",
       "      <td>0b3f17a4-f733-4eac-b9e9-37c039746e95</td>\n",
       "      <td>174717</td>\n",
       "    </tr>\n",
       "    <tr>\n",
       "      <th>1</th>\n",
       "      <td>3</td>\n",
       "      <td>0fb5a9e6-f306-4c37-b7f0-992bc78064a7</td>\n",
       "      <td>189939</td>\n",
       "    </tr>\n",
       "    <tr>\n",
       "      <th>2</th>\n",
       "      <td>3</td>\n",
       "      <td>1229bd35-7747-447a-a60b-02860bf7da7e</td>\n",
       "      <td>287523</td>\n",
       "    </tr>\n",
       "    <tr>\n",
       "      <th>3</th>\n",
       "      <td>3</td>\n",
       "      <td>163e447d-f2c2-4fac-b8a1-015eb01afd41</td>\n",
       "      <td>359032</td>\n",
       "    </tr>\n",
       "    <tr>\n",
       "      <th>4</th>\n",
       "      <td>3</td>\n",
       "      <td>182774df-3cde-46cf-b302-4d93e0d94288</td>\n",
       "      <td>200436</td>\n",
       "    </tr>\n",
       "  </tbody>\n",
       "</table>\n",
       "</div>"
      ],
      "text/plain": [
       "   customer_id                            booking_id   sales\n",
       "0            3  0b3f17a4-f733-4eac-b9e9-37c039746e95  174717\n",
       "1            3  0fb5a9e6-f306-4c37-b7f0-992bc78064a7  189939\n",
       "2            3  1229bd35-7747-447a-a60b-02860bf7da7e  287523\n",
       "3            3  163e447d-f2c2-4fac-b8a1-015eb01afd41  359032\n",
       "4            3  182774df-3cde-46cf-b302-4d93e0d94288  200436"
      ]
     },
     "execution_count": 7,
     "metadata": {},
     "output_type": "execute_result"
    }
   ],
   "source": [
    "sales = pd.read_csv(base_path + '/sales.csv')\n",
    "sales.head()"
   ]
  },
  {
   "cell_type": "code",
   "execution_count": 8,
   "metadata": {},
   "outputs": [
    {
     "name": "stdout",
     "output_type": "stream",
     "text": [
      "<class 'pandas.core.frame.DataFrame'>\n",
      "Int64Index: 12833602 entries, 0 to 370597\n",
      "Data columns (total 17 columns):\n",
      " #   Column           Dtype  \n",
      "---  ------           -----  \n",
      " 0   session_id       object \n",
      " 1   event_name       object \n",
      " 2   event_time       object \n",
      " 3   traffic_source   object \n",
      " 4   product_id       float64\n",
      " 5   quantity         int64  \n",
      " 6   item_price       int64  \n",
      " 7   payment_status   float64\n",
      " 8   search_keywords  object \n",
      " 9   promo_code       float64\n",
      " 10  promo_amount     float64\n",
      " 11  customer_id      float64\n",
      " 12  quarter          float64\n",
      " 13  old_session      object \n",
      " 14  booking_id       object \n",
      " 15  sales            float64\n",
      " 16  month            object \n",
      "dtypes: float64(7), int64(2), object(8)\n",
      "memory usage: 1.7+ GB\n"
     ]
    }
   ],
   "source": [
    "df_buy_split.info()"
   ]
  },
  {
   "cell_type": "code",
   "execution_count": 9,
   "metadata": {},
   "outputs": [
    {
     "data": {
      "text/plain": [
       "session_id                0\n",
       "event_name                0\n",
       "event_time                0\n",
       "traffic_source            0\n",
       "product_id         10896445\n",
       "quantity                  0\n",
       "item_price                0\n",
       "payment_status     11981020\n",
       "search_keywords    11660336\n",
       "promo_code           370598\n",
       "promo_amount         370598\n",
       "customer_id          370598\n",
       "quarter             1980696\n",
       "old_session          370598\n",
       "booking_id         10763683\n",
       "sales                370598\n",
       "month                370598\n",
       "dtype: int64"
      ]
     },
     "execution_count": 9,
     "metadata": {},
     "output_type": "execute_result"
    }
   ],
   "source": [
    "df_buy_split.isnull().sum()"
   ]
  },
  {
   "cell_type": "code",
   "execution_count": 10,
   "metadata": {},
   "outputs": [
    {
     "data": {
      "text/html": [
       "<div>\n",
       "<style scoped>\n",
       "    .dataframe tbody tr th:only-of-type {\n",
       "        vertical-align: middle;\n",
       "    }\n",
       "\n",
       "    .dataframe tbody tr th {\n",
       "        vertical-align: top;\n",
       "    }\n",
       "\n",
       "    .dataframe thead th {\n",
       "        text-align: right;\n",
       "    }\n",
       "</style>\n",
       "<table border=\"1\" class=\"dataframe\">\n",
       "  <thead>\n",
       "    <tr style=\"text-align: right;\">\n",
       "      <th></th>\n",
       "      <th>session_id</th>\n",
       "      <th>event_name</th>\n",
       "      <th>event_time</th>\n",
       "      <th>traffic_source</th>\n",
       "      <th>product_id</th>\n",
       "      <th>quantity</th>\n",
       "      <th>item_price</th>\n",
       "      <th>payment_status</th>\n",
       "      <th>search_keywords</th>\n",
       "      <th>promo_code</th>\n",
       "      <th>promo_amount</th>\n",
       "      <th>customer_id</th>\n",
       "      <th>quarter</th>\n",
       "      <th>old_session</th>\n",
       "      <th>booking_id</th>\n",
       "      <th>sales</th>\n",
       "      <th>month</th>\n",
       "    </tr>\n",
       "  </thead>\n",
       "  <tbody>\n",
       "    <tr>\n",
       "      <th>0</th>\n",
       "      <td>f03b6825-1e6e-4916-bf71-f94ecbcbaee5</td>\n",
       "      <td>HOMEPAGE</td>\n",
       "      <td>2018-08-25 18:53:48.906490+00:00</td>\n",
       "      <td>MOBILE</td>\n",
       "      <td>NaN</td>\n",
       "      <td>0</td>\n",
       "      <td>0</td>\n",
       "      <td>NaN</td>\n",
       "      <td>NaN</td>\n",
       "      <td>0.0</td>\n",
       "      <td>0.0</td>\n",
       "      <td>3.0</td>\n",
       "      <td>NaN</td>\n",
       "      <td>f03b6825-1e6e-4916-bf71-f94ecbcbaee5</td>\n",
       "      <td>856b0c3d-b076-406b-be11-3dfee762e9be</td>\n",
       "      <td>826597.0</td>\n",
       "      <td>2018-08</td>\n",
       "    </tr>\n",
       "    <tr>\n",
       "      <th>1</th>\n",
       "      <td>f03b6825-1e6e-4916-bf71-f94ecbcbaee5</td>\n",
       "      <td>CLICK</td>\n",
       "      <td>2018-08-25 18:53:51.906490+00:00</td>\n",
       "      <td>MOBILE</td>\n",
       "      <td>NaN</td>\n",
       "      <td>0</td>\n",
       "      <td>0</td>\n",
       "      <td>NaN</td>\n",
       "      <td>NaN</td>\n",
       "      <td>0.0</td>\n",
       "      <td>0.0</td>\n",
       "      <td>3.0</td>\n",
       "      <td>NaN</td>\n",
       "      <td>f03b6825-1e6e-4916-bf71-f94ecbcbaee5</td>\n",
       "      <td>856b0c3d-b076-406b-be11-3dfee762e9be</td>\n",
       "      <td>826597.0</td>\n",
       "      <td>2018-08</td>\n",
       "    </tr>\n",
       "    <tr>\n",
       "      <th>2</th>\n",
       "      <td>f03b6825-1e6e-4916-bf71-f94ecbcbaee5</td>\n",
       "      <td>ADD_TO_CART</td>\n",
       "      <td>2018-08-25 18:53:53.906490+00:00</td>\n",
       "      <td>MOBILE</td>\n",
       "      <td>33350.0</td>\n",
       "      <td>1</td>\n",
       "      <td>318832</td>\n",
       "      <td>NaN</td>\n",
       "      <td>NaN</td>\n",
       "      <td>0.0</td>\n",
       "      <td>0.0</td>\n",
       "      <td>3.0</td>\n",
       "      <td>NaN</td>\n",
       "      <td>f03b6825-1e6e-4916-bf71-f94ecbcbaee5</td>\n",
       "      <td>856b0c3d-b076-406b-be11-3dfee762e9be</td>\n",
       "      <td>826597.0</td>\n",
       "      <td>2018-08</td>\n",
       "    </tr>\n",
       "    <tr>\n",
       "      <th>3</th>\n",
       "      <td>f03b6825-1e6e-4916-bf71-f94ecbcbaee5</td>\n",
       "      <td>ADD_TO_CART</td>\n",
       "      <td>2018-08-25 18:53:54.906490+00:00</td>\n",
       "      <td>MOBILE</td>\n",
       "      <td>56019.0</td>\n",
       "      <td>5</td>\n",
       "      <td>166934</td>\n",
       "      <td>NaN</td>\n",
       "      <td>NaN</td>\n",
       "      <td>0.0</td>\n",
       "      <td>0.0</td>\n",
       "      <td>3.0</td>\n",
       "      <td>NaN</td>\n",
       "      <td>f03b6825-1e6e-4916-bf71-f94ecbcbaee5</td>\n",
       "      <td>856b0c3d-b076-406b-be11-3dfee762e9be</td>\n",
       "      <td>826597.0</td>\n",
       "      <td>2018-08</td>\n",
       "    </tr>\n",
       "    <tr>\n",
       "      <th>4</th>\n",
       "      <td>f03b6825-1e6e-4916-bf71-f94ecbcbaee5</td>\n",
       "      <td>CLICK</td>\n",
       "      <td>2018-08-25 18:53:55.906490+00:00</td>\n",
       "      <td>MOBILE</td>\n",
       "      <td>NaN</td>\n",
       "      <td>0</td>\n",
       "      <td>0</td>\n",
       "      <td>NaN</td>\n",
       "      <td>NaN</td>\n",
       "      <td>0.0</td>\n",
       "      <td>0.0</td>\n",
       "      <td>3.0</td>\n",
       "      <td>NaN</td>\n",
       "      <td>f03b6825-1e6e-4916-bf71-f94ecbcbaee5</td>\n",
       "      <td>856b0c3d-b076-406b-be11-3dfee762e9be</td>\n",
       "      <td>826597.0</td>\n",
       "      <td>2018-08</td>\n",
       "    </tr>\n",
       "  </tbody>\n",
       "</table>\n",
       "</div>"
      ],
      "text/plain": [
       "                             session_id   event_name  \\\n",
       "0  f03b6825-1e6e-4916-bf71-f94ecbcbaee5     HOMEPAGE   \n",
       "1  f03b6825-1e6e-4916-bf71-f94ecbcbaee5        CLICK   \n",
       "2  f03b6825-1e6e-4916-bf71-f94ecbcbaee5  ADD_TO_CART   \n",
       "3  f03b6825-1e6e-4916-bf71-f94ecbcbaee5  ADD_TO_CART   \n",
       "4  f03b6825-1e6e-4916-bf71-f94ecbcbaee5        CLICK   \n",
       "\n",
       "                         event_time traffic_source  product_id  quantity  \\\n",
       "0  2018-08-25 18:53:48.906490+00:00         MOBILE         NaN         0   \n",
       "1  2018-08-25 18:53:51.906490+00:00         MOBILE         NaN         0   \n",
       "2  2018-08-25 18:53:53.906490+00:00         MOBILE     33350.0         1   \n",
       "3  2018-08-25 18:53:54.906490+00:00         MOBILE     56019.0         5   \n",
       "4  2018-08-25 18:53:55.906490+00:00         MOBILE         NaN         0   \n",
       "\n",
       "   item_price  payment_status search_keywords  promo_code  promo_amount  \\\n",
       "0           0             NaN             NaN         0.0           0.0   \n",
       "1           0             NaN             NaN         0.0           0.0   \n",
       "2      318832             NaN             NaN         0.0           0.0   \n",
       "3      166934             NaN             NaN         0.0           0.0   \n",
       "4           0             NaN             NaN         0.0           0.0   \n",
       "\n",
       "   customer_id  quarter                           old_session  \\\n",
       "0          3.0      NaN  f03b6825-1e6e-4916-bf71-f94ecbcbaee5   \n",
       "1          3.0      NaN  f03b6825-1e6e-4916-bf71-f94ecbcbaee5   \n",
       "2          3.0      NaN  f03b6825-1e6e-4916-bf71-f94ecbcbaee5   \n",
       "3          3.0      NaN  f03b6825-1e6e-4916-bf71-f94ecbcbaee5   \n",
       "4          3.0      NaN  f03b6825-1e6e-4916-bf71-f94ecbcbaee5   \n",
       "\n",
       "                             booking_id     sales    month  \n",
       "0  856b0c3d-b076-406b-be11-3dfee762e9be  826597.0  2018-08  \n",
       "1  856b0c3d-b076-406b-be11-3dfee762e9be  826597.0  2018-08  \n",
       "2  856b0c3d-b076-406b-be11-3dfee762e9be  826597.0  2018-08  \n",
       "3  856b0c3d-b076-406b-be11-3dfee762e9be  826597.0  2018-08  \n",
       "4  856b0c3d-b076-406b-be11-3dfee762e9be  826597.0  2018-08  "
      ]
     },
     "execution_count": 10,
     "metadata": {},
     "output_type": "execute_result"
    }
   ],
   "source": [
    "df_buy_split.head()"
   ]
  },
  {
   "cell_type": "code",
   "execution_count": 12,
   "metadata": {},
   "outputs": [
    {
     "data": {
      "text/html": [
       "<div>\n",
       "<style scoped>\n",
       "    .dataframe tbody tr th:only-of-type {\n",
       "        vertical-align: middle;\n",
       "    }\n",
       "\n",
       "    .dataframe tbody tr th {\n",
       "        vertical-align: top;\n",
       "    }\n",
       "\n",
       "    .dataframe thead th {\n",
       "        text-align: right;\n",
       "    }\n",
       "</style>\n",
       "<table border=\"1\" class=\"dataframe\">\n",
       "  <thead>\n",
       "    <tr style=\"text-align: right;\">\n",
       "      <th></th>\n",
       "      <th>session_id</th>\n",
       "      <th>event_name</th>\n",
       "      <th>event_time</th>\n",
       "      <th>traffic_source</th>\n",
       "      <th>product_id</th>\n",
       "      <th>quantity</th>\n",
       "      <th>item_price</th>\n",
       "      <th>payment_status</th>\n",
       "      <th>search_keywords</th>\n",
       "      <th>promo_code</th>\n",
       "      <th>promo_amount</th>\n",
       "      <th>customer_id</th>\n",
       "      <th>quarter</th>\n",
       "      <th>old_session</th>\n",
       "      <th>booking_id</th>\n",
       "      <th>sales_x</th>\n",
       "      <th>month</th>\n",
       "      <th>sales_y</th>\n",
       "    </tr>\n",
       "  </thead>\n",
       "  <tbody>\n",
       "    <tr>\n",
       "      <th>0</th>\n",
       "      <td>f03b6825-1e6e-4916-bf71-f94ecbcbaee5</td>\n",
       "      <td>HOMEPAGE</td>\n",
       "      <td>2018-08-25 18:53:48.906490+00:00</td>\n",
       "      <td>MOBILE</td>\n",
       "      <td>NaN</td>\n",
       "      <td>0</td>\n",
       "      <td>0</td>\n",
       "      <td>NaN</td>\n",
       "      <td>NaN</td>\n",
       "      <td>0.0</td>\n",
       "      <td>0.0</td>\n",
       "      <td>3.0</td>\n",
       "      <td>NaN</td>\n",
       "      <td>f03b6825-1e6e-4916-bf71-f94ecbcbaee5</td>\n",
       "      <td>856b0c3d-b076-406b-be11-3dfee762e9be</td>\n",
       "      <td>826597.0</td>\n",
       "      <td>2018-08</td>\n",
       "      <td>826597.0</td>\n",
       "    </tr>\n",
       "    <tr>\n",
       "      <th>1</th>\n",
       "      <td>f03b6825-1e6e-4916-bf71-f94ecbcbaee5</td>\n",
       "      <td>CLICK</td>\n",
       "      <td>2018-08-25 18:53:51.906490+00:00</td>\n",
       "      <td>MOBILE</td>\n",
       "      <td>NaN</td>\n",
       "      <td>0</td>\n",
       "      <td>0</td>\n",
       "      <td>NaN</td>\n",
       "      <td>NaN</td>\n",
       "      <td>0.0</td>\n",
       "      <td>0.0</td>\n",
       "      <td>3.0</td>\n",
       "      <td>NaN</td>\n",
       "      <td>f03b6825-1e6e-4916-bf71-f94ecbcbaee5</td>\n",
       "      <td>856b0c3d-b076-406b-be11-3dfee762e9be</td>\n",
       "      <td>826597.0</td>\n",
       "      <td>2018-08</td>\n",
       "      <td>826597.0</td>\n",
       "    </tr>\n",
       "    <tr>\n",
       "      <th>2</th>\n",
       "      <td>f03b6825-1e6e-4916-bf71-f94ecbcbaee5</td>\n",
       "      <td>ADD_TO_CART</td>\n",
       "      <td>2018-08-25 18:53:53.906490+00:00</td>\n",
       "      <td>MOBILE</td>\n",
       "      <td>33350.0</td>\n",
       "      <td>1</td>\n",
       "      <td>318832</td>\n",
       "      <td>NaN</td>\n",
       "      <td>NaN</td>\n",
       "      <td>0.0</td>\n",
       "      <td>0.0</td>\n",
       "      <td>3.0</td>\n",
       "      <td>NaN</td>\n",
       "      <td>f03b6825-1e6e-4916-bf71-f94ecbcbaee5</td>\n",
       "      <td>856b0c3d-b076-406b-be11-3dfee762e9be</td>\n",
       "      <td>826597.0</td>\n",
       "      <td>2018-08</td>\n",
       "      <td>826597.0</td>\n",
       "    </tr>\n",
       "    <tr>\n",
       "      <th>3</th>\n",
       "      <td>f03b6825-1e6e-4916-bf71-f94ecbcbaee5</td>\n",
       "      <td>ADD_TO_CART</td>\n",
       "      <td>2018-08-25 18:53:54.906490+00:00</td>\n",
       "      <td>MOBILE</td>\n",
       "      <td>56019.0</td>\n",
       "      <td>5</td>\n",
       "      <td>166934</td>\n",
       "      <td>NaN</td>\n",
       "      <td>NaN</td>\n",
       "      <td>0.0</td>\n",
       "      <td>0.0</td>\n",
       "      <td>3.0</td>\n",
       "      <td>NaN</td>\n",
       "      <td>f03b6825-1e6e-4916-bf71-f94ecbcbaee5</td>\n",
       "      <td>856b0c3d-b076-406b-be11-3dfee762e9be</td>\n",
       "      <td>826597.0</td>\n",
       "      <td>2018-08</td>\n",
       "      <td>826597.0</td>\n",
       "    </tr>\n",
       "    <tr>\n",
       "      <th>4</th>\n",
       "      <td>f03b6825-1e6e-4916-bf71-f94ecbcbaee5</td>\n",
       "      <td>CLICK</td>\n",
       "      <td>2018-08-25 18:53:55.906490+00:00</td>\n",
       "      <td>MOBILE</td>\n",
       "      <td>NaN</td>\n",
       "      <td>0</td>\n",
       "      <td>0</td>\n",
       "      <td>NaN</td>\n",
       "      <td>NaN</td>\n",
       "      <td>0.0</td>\n",
       "      <td>0.0</td>\n",
       "      <td>3.0</td>\n",
       "      <td>NaN</td>\n",
       "      <td>f03b6825-1e6e-4916-bf71-f94ecbcbaee5</td>\n",
       "      <td>856b0c3d-b076-406b-be11-3dfee762e9be</td>\n",
       "      <td>826597.0</td>\n",
       "      <td>2018-08</td>\n",
       "      <td>826597.0</td>\n",
       "    </tr>\n",
       "  </tbody>\n",
       "</table>\n",
       "</div>"
      ],
      "text/plain": [
       "                             session_id   event_name  \\\n",
       "0  f03b6825-1e6e-4916-bf71-f94ecbcbaee5     HOMEPAGE   \n",
       "1  f03b6825-1e6e-4916-bf71-f94ecbcbaee5        CLICK   \n",
       "2  f03b6825-1e6e-4916-bf71-f94ecbcbaee5  ADD_TO_CART   \n",
       "3  f03b6825-1e6e-4916-bf71-f94ecbcbaee5  ADD_TO_CART   \n",
       "4  f03b6825-1e6e-4916-bf71-f94ecbcbaee5        CLICK   \n",
       "\n",
       "                         event_time traffic_source  product_id  quantity  \\\n",
       "0  2018-08-25 18:53:48.906490+00:00         MOBILE         NaN         0   \n",
       "1  2018-08-25 18:53:51.906490+00:00         MOBILE         NaN         0   \n",
       "2  2018-08-25 18:53:53.906490+00:00         MOBILE     33350.0         1   \n",
       "3  2018-08-25 18:53:54.906490+00:00         MOBILE     56019.0         5   \n",
       "4  2018-08-25 18:53:55.906490+00:00         MOBILE         NaN         0   \n",
       "\n",
       "   item_price  payment_status search_keywords  promo_code  promo_amount  \\\n",
       "0           0             NaN             NaN         0.0           0.0   \n",
       "1           0             NaN             NaN         0.0           0.0   \n",
       "2      318832             NaN             NaN         0.0           0.0   \n",
       "3      166934             NaN             NaN         0.0           0.0   \n",
       "4           0             NaN             NaN         0.0           0.0   \n",
       "\n",
       "   customer_id  quarter                           old_session  \\\n",
       "0          3.0      NaN  f03b6825-1e6e-4916-bf71-f94ecbcbaee5   \n",
       "1          3.0      NaN  f03b6825-1e6e-4916-bf71-f94ecbcbaee5   \n",
       "2          3.0      NaN  f03b6825-1e6e-4916-bf71-f94ecbcbaee5   \n",
       "3          3.0      NaN  f03b6825-1e6e-4916-bf71-f94ecbcbaee5   \n",
       "4          3.0      NaN  f03b6825-1e6e-4916-bf71-f94ecbcbaee5   \n",
       "\n",
       "                             booking_id   sales_x    month   sales_y  \n",
       "0  856b0c3d-b076-406b-be11-3dfee762e9be  826597.0  2018-08  826597.0  \n",
       "1  856b0c3d-b076-406b-be11-3dfee762e9be  826597.0  2018-08  826597.0  \n",
       "2  856b0c3d-b076-406b-be11-3dfee762e9be  826597.0  2018-08  826597.0  \n",
       "3  856b0c3d-b076-406b-be11-3dfee762e9be  826597.0  2018-08  826597.0  \n",
       "4  856b0c3d-b076-406b-be11-3dfee762e9be  826597.0  2018-08  826597.0  "
      ]
     },
     "execution_count": 12,
     "metadata": {},
     "output_type": "execute_result"
    }
   ],
   "source": [
    "df_buy_split.sort_values(by=['customer_id', 'event_time'], inplace=True)\n",
    "df_buy_split.head()"
   ]
  },
  {
   "cell_type": "code",
   "execution_count": 13,
   "metadata": {},
   "outputs": [
    {
     "data": {
      "text/plain": [
       "array(['36673b2f-940a-42b5-994d-1cce4796b55f',\n",
       "       '36673b2f-940a-42b5-994d-1cce4796b55f_0',\n",
       "       '36673b2f-940a-42b5-994d-1cce4796b55f_1', ...,\n",
       "       'f49a7504-1ae0-4a92-abf6-dfd4488b4956',\n",
       "       '2b485a58-f1df-4f84-9875-86fad901e79b',\n",
       "       '3df21989-09b7-46da-9421-67d774bd9adf_1'], dtype=object)"
      ]
     },
     "execution_count": 13,
     "metadata": {},
     "output_type": "execute_result"
    }
   ],
   "source": [
    "booking_session_id = df_buy_split[df_buy_split.event_name == 'BOOKING'].session_id.unique()\n",
    "no_booking_session_id = df_buy_split[~df_buy_split.session_id.isin(booking_session_id)].session_id.unique()\n",
    "no_booking_session_id"
   ]
  },
  {
   "cell_type": "code",
   "execution_count": 14,
   "metadata": {},
   "outputs": [],
   "source": [
    "df_buy_split.loc[df_buy_split.session_id.isin(no_booking_session_id), 'booking_id'] = np.NaN"
   ]
  },
  {
   "cell_type": "code",
   "execution_count": 15,
   "metadata": {},
   "outputs": [
    {
     "data": {
      "text/plain": [
       "10763683"
      ]
     },
     "execution_count": 15,
     "metadata": {},
     "output_type": "execute_result"
    }
   ],
   "source": [
    "df_buy_split.booking_id.isnull().sum()"
   ]
  },
  {
   "attachments": {},
   "cell_type": "markdown",
   "metadata": {},
   "source": [
    "# 방문의 영향력 파악"
   ]
  },
  {
   "attachments": {},
   "cell_type": "markdown",
   "metadata": {},
   "source": [
    "## 1. 구매자 중 첫 방문 구매 비율"
   ]
  },
  {
   "cell_type": "code",
   "execution_count": 16,
   "metadata": {},
   "outputs": [
    {
     "data": {
      "text/plain": [
       "customer_id\n",
       "3.0       f03b6825-1e6e-4916-bf71-f94ecbcbaee5\n",
       "8.0     cb2e3df3-6342-43e2-be2b-f19c79e92a1e-1\n",
       "9.0     f23e77b3-d85c-4468-ada0-9f7fb9defe1e-2\n",
       "11.0    5f20fb20-8e35-4e30-a9d9-fc6a07d7835c-1\n",
       "15.0    fe015013-09fd-4218-ab69-cb18706e63a7-3\n",
       "Name: session_id, dtype: object"
      ]
     },
     "execution_count": 16,
     "metadata": {},
     "output_type": "execute_result"
    }
   ],
   "source": [
    "# df_buy_split.groupby(['customer_id', 'session_id'])\n",
    "first_session_id = df_buy_split.groupby('customer_id').first()['session_id']\n",
    "first_session_id.head()"
   ]
  },
  {
   "cell_type": "code",
   "execution_count": 17,
   "metadata": {},
   "outputs": [
    {
     "data": {
      "text/html": [
       "<div>\n",
       "<style scoped>\n",
       "    .dataframe tbody tr th:only-of-type {\n",
       "        vertical-align: middle;\n",
       "    }\n",
       "\n",
       "    .dataframe tbody tr th {\n",
       "        vertical-align: top;\n",
       "    }\n",
       "\n",
       "    .dataframe thead th {\n",
       "        text-align: right;\n",
       "    }\n",
       "</style>\n",
       "<table border=\"1\" class=\"dataframe\">\n",
       "  <thead>\n",
       "    <tr style=\"text-align: right;\">\n",
       "      <th></th>\n",
       "      <th>session_id</th>\n",
       "      <th>event_name</th>\n",
       "    </tr>\n",
       "  </thead>\n",
       "  <tbody>\n",
       "    <tr>\n",
       "      <th>0</th>\n",
       "      <td>f03b6825-1e6e-4916-bf71-f94ecbcbaee5</td>\n",
       "      <td>HOMEPAGE</td>\n",
       "    </tr>\n",
       "    <tr>\n",
       "      <th>1</th>\n",
       "      <td>f03b6825-1e6e-4916-bf71-f94ecbcbaee5</td>\n",
       "      <td>CLICK</td>\n",
       "    </tr>\n",
       "    <tr>\n",
       "      <th>2</th>\n",
       "      <td>f03b6825-1e6e-4916-bf71-f94ecbcbaee5</td>\n",
       "      <td>ADD_TO_CART</td>\n",
       "    </tr>\n",
       "    <tr>\n",
       "      <th>3</th>\n",
       "      <td>f03b6825-1e6e-4916-bf71-f94ecbcbaee5</td>\n",
       "      <td>ADD_TO_CART</td>\n",
       "    </tr>\n",
       "    <tr>\n",
       "      <th>4</th>\n",
       "      <td>f03b6825-1e6e-4916-bf71-f94ecbcbaee5</td>\n",
       "      <td>CLICK</td>\n",
       "    </tr>\n",
       "  </tbody>\n",
       "</table>\n",
       "</div>"
      ],
      "text/plain": [
       "                             session_id   event_name\n",
       "0  f03b6825-1e6e-4916-bf71-f94ecbcbaee5     HOMEPAGE\n",
       "1  f03b6825-1e6e-4916-bf71-f94ecbcbaee5        CLICK\n",
       "2  f03b6825-1e6e-4916-bf71-f94ecbcbaee5  ADD_TO_CART\n",
       "3  f03b6825-1e6e-4916-bf71-f94ecbcbaee5  ADD_TO_CART\n",
       "4  f03b6825-1e6e-4916-bf71-f94ecbcbaee5        CLICK"
      ]
     },
     "execution_count": 17,
     "metadata": {},
     "output_type": "execute_result"
    }
   ],
   "source": [
    "# 구매회원 첫 session_id에서 한 행동 모음\n",
    "first_session = df_buy_split[df_buy_split['session_id'].isin(first_session_id)][['session_id', 'event_name']]\n",
    "first_session.head()"
   ]
  },
  {
   "cell_type": "code",
   "execution_count": 18,
   "metadata": {},
   "outputs": [],
   "source": [
    "# 구매회원이 첫 session_id에서 구매했는지 여부\n",
    "first_buy_session = first_session.groupby('session_id').apply(lambda x: x.isin(['BOOKING']).any())"
   ]
  },
  {
   "cell_type": "code",
   "execution_count": 19,
   "metadata": {},
   "outputs": [],
   "source": [
    "num_first_buy_session = first_session.groupby('session_id')['event_name'].apply(lambda x: x.isin(['BOOKING']).any()).sum()\n",
    "num_first_add_to_cart_session = first_session.groupby('session_id')['event_name'].apply(lambda x: x.isin(['ADD_TO_CART']).any()).sum()"
   ]
  },
  {
   "cell_type": "code",
   "execution_count": 20,
   "metadata": {},
   "outputs": [
    {
     "name": "stdout",
     "output_type": "stream",
     "text": [
      "구매자 중 첫 세션에서 구매를 한 비율: 95.07%\n",
      "구매자 중 첫 세션에서 장바구니까지 넣은 비율: 99.92%\n"
     ]
    }
   ],
   "source": [
    "print(f'구매자 중 첫 세션에서 구매를 한 비율: {round(num_first_buy_session / df_buy_split.customer_id.nunique() * 100, 2)}%')\n",
    "print(f'구매자 중 첫 세션에서 장바구니까지 넣은 비율: {round(num_first_add_to_cart_session / df_buy_split.customer_id.nunique() * 100, 2)}%')"
   ]
  },
  {
   "attachments": {},
   "cell_type": "markdown",
   "metadata": {},
   "source": [
    "## 2. 방문횟수별 그룹 분석"
   ]
  },
  {
   "attachments": {},
   "cell_type": "markdown",
   "metadata": {},
   "source": [
    "### 결론 : 방문횟수가 많은 그룹일수록 구매 전환률이 낮다."
   ]
  },
  {
   "cell_type": "code",
   "execution_count": 21,
   "metadata": {},
   "outputs": [
    {
     "data": {
      "text/plain": [
       "customer_id\n",
       "3.0        566\n",
       "8.0        188\n",
       "9.0         41\n",
       "11.0         1\n",
       "15.0        40\n",
       "          ... \n",
       "99992.0     63\n",
       "99995.0    727\n",
       "99997.0      1\n",
       "99998.0    329\n",
       "99999.0      1\n",
       "Name: session_id, Length: 50704, dtype: int64"
      ]
     },
     "execution_count": 21,
     "metadata": {},
     "output_type": "execute_result"
    }
   ],
   "source": [
    "# 방문횟수별 그룹 나누기\n",
    "customer_session = df_buy_split.groupby('customer_id')['session_id'].nunique()\n",
    "customer_session"
   ]
  },
  {
   "cell_type": "code",
   "execution_count": 22,
   "metadata": {},
   "outputs": [
    {
     "data": {
      "text/plain": [
       "count    50704.000000\n",
       "mean       183.786388\n",
       "std        351.879678\n",
       "min          1.000000\n",
       "25%          8.000000\n",
       "50%         49.000000\n",
       "75%        190.000000\n",
       "max       6456.000000\n",
       "Name: session_id, dtype: float64"
      ]
     },
     "execution_count": 22,
     "metadata": {},
     "output_type": "execute_result"
    }
   ],
   "source": [
    "customer_session.describe()"
   ]
  },
  {
   "cell_type": "code",
   "execution_count": 23,
   "metadata": {},
   "outputs": [
    {
     "data": {
      "text/plain": [
       "0.3079421260933131"
      ]
     },
     "execution_count": 23,
     "metadata": {},
     "output_type": "execute_result"
    }
   ],
   "source": [
    "(df_buy_split.groupby('customer_id').booking_id.nunique() / df_buy_split.groupby('customer_id').session_id.nunique()).mean()"
   ]
  },
  {
   "cell_type": "code",
   "execution_count": 25,
   "metadata": {},
   "outputs": [],
   "source": [
    "visit_CVR_dict = {'num_visit':[], 'CVR_mean':[]}\n",
    "for num_visit in sorted(customer_session.unique()):\n",
    "    target_id = customer_session[customer_session == num_visit].index\n",
    "    target_info = df_buy_split[df_buy_split.customer_id.isin(target_id)].groupby('customer_id')\n",
    "\n",
    "    # 방문 횟수\n",
    "    visit_CVR_dict['num_visit'].append(num_visit)\n",
    "\n",
    "    # 구매전환율 평균\n",
    "    visit_CVR_dict['CVR_mean'].append((target_info.booking_id.nunique() / target_info.session_id.nunique()).mean())"
   ]
  },
  {
   "cell_type": "code",
   "execution_count": 26,
   "metadata": {},
   "outputs": [
    {
     "data": {
      "text/html": [
       "<div>\n",
       "<style scoped>\n",
       "    .dataframe tbody tr th:only-of-type {\n",
       "        vertical-align: middle;\n",
       "    }\n",
       "\n",
       "    .dataframe tbody tr th {\n",
       "        vertical-align: top;\n",
       "    }\n",
       "\n",
       "    .dataframe thead th {\n",
       "        text-align: right;\n",
       "    }\n",
       "</style>\n",
       "<table border=\"1\" class=\"dataframe\">\n",
       "  <thead>\n",
       "    <tr style=\"text-align: right;\">\n",
       "      <th></th>\n",
       "      <th>num_visit</th>\n",
       "      <th>CVR_mean</th>\n",
       "    </tr>\n",
       "  </thead>\n",
       "  <tbody>\n",
       "    <tr>\n",
       "      <th>1</th>\n",
       "      <td>2</td>\n",
       "      <td>0.524660</td>\n",
       "    </tr>\n",
       "    <tr>\n",
       "      <th>2</th>\n",
       "      <td>3</td>\n",
       "      <td>0.615385</td>\n",
       "    </tr>\n",
       "    <tr>\n",
       "      <th>3</th>\n",
       "      <td>4</td>\n",
       "      <td>0.504945</td>\n",
       "    </tr>\n",
       "    <tr>\n",
       "      <th>4</th>\n",
       "      <td>5</td>\n",
       "      <td>0.402789</td>\n",
       "    </tr>\n",
       "    <tr>\n",
       "      <th>5</th>\n",
       "      <td>6</td>\n",
       "      <td>0.345622</td>\n",
       "    </tr>\n",
       "    <tr>\n",
       "      <th>...</th>\n",
       "      <td>...</td>\n",
       "      <td>...</td>\n",
       "    </tr>\n",
       "    <tr>\n",
       "      <th>2001</th>\n",
       "      <td>4579</td>\n",
       "      <td>0.095217</td>\n",
       "    </tr>\n",
       "    <tr>\n",
       "      <th>2002</th>\n",
       "      <td>4749</td>\n",
       "      <td>0.083597</td>\n",
       "    </tr>\n",
       "    <tr>\n",
       "      <th>2003</th>\n",
       "      <td>5041</td>\n",
       "      <td>0.093831</td>\n",
       "    </tr>\n",
       "    <tr>\n",
       "      <th>2004</th>\n",
       "      <td>5516</td>\n",
       "      <td>0.091189</td>\n",
       "    </tr>\n",
       "    <tr>\n",
       "      <th>2005</th>\n",
       "      <td>6456</td>\n",
       "      <td>0.085192</td>\n",
       "    </tr>\n",
       "  </tbody>\n",
       "</table>\n",
       "<p>2005 rows × 2 columns</p>\n",
       "</div>"
      ],
      "text/plain": [
       "      num_visit  CVR_mean\n",
       "1             2  0.524660\n",
       "2             3  0.615385\n",
       "3             4  0.504945\n",
       "4             5  0.402789\n",
       "5             6  0.345622\n",
       "...         ...       ...\n",
       "2001       4579  0.095217\n",
       "2002       4749  0.083597\n",
       "2003       5041  0.093831\n",
       "2004       5516  0.091189\n",
       "2005       6456  0.085192\n",
       "\n",
       "[2005 rows x 2 columns]"
      ]
     },
     "execution_count": 26,
     "metadata": {},
     "output_type": "execute_result"
    }
   ],
   "source": [
    "visit_CVR = pd.DataFrame(visit_CVR_dict)\n",
    "visit_CVR.reset_index(drop = True, inplace = True)\n",
    "visit_CVR = visit_CVR[visit_CVR.num_visit >= 2]\n",
    "visit_CVR\n"
   ]
  },
  {
   "cell_type": "code",
   "execution_count": 27,
   "metadata": {},
   "outputs": [
    {
     "data": {
      "text/plain": [
       "<Axes: xlabel='num_visit', ylabel='CVR_mean'>"
      ]
     },
     "execution_count": 27,
     "metadata": {},
     "output_type": "execute_result"
    },
    {
     "data": {
      "image/png": "[encoded data removed]",
      "text/plain": [
       "<Figure size 640x480 with 1 Axes>"
      ]
     },
     "metadata": {},
     "output_type": "display_data"
    }
   ],
   "source": [
    "sns.lineplot(visit_CVR, x='num_visit', y='CVR_mean')"
   ]
  },
  {
   "cell_type": "code",
   "execution_count": 28,
   "metadata": {},
   "outputs": [
    {
     "data": {
      "text/plain": [
       "count    50704.000000\n",
       "mean       183.786388\n",
       "std        351.879678\n",
       "min          1.000000\n",
       "25%          8.000000\n",
       "50%         49.000000\n",
       "75%        190.000000\n",
       "max       6456.000000\n",
       "Name: session_id, dtype: float64"
      ]
     },
     "execution_count": 28,
     "metadata": {},
     "output_type": "execute_result"
    }
   ],
   "source": [
    "customer_session.describe()"
   ]
  },
  {
   "cell_type": "code",
   "execution_count": 29,
   "metadata": {},
   "outputs": [
    {
     "data": {
      "text/plain": [
       "0.42676456570337606"
      ]
     },
     "execution_count": 29,
     "metadata": {},
     "output_type": "execute_result"
    }
   ],
   "source": [
    "visit_CVR[visit_CVR.num_visit <= 8].CVR_mean.mean()"
   ]
  },
  {
   "cell_type": "code",
   "execution_count": 30,
   "metadata": {},
   "outputs": [
    {
     "data": {
      "text/plain": [
       "0.1600960713755304"
      ]
     },
     "execution_count": 30,
     "metadata": {},
     "output_type": "execute_result"
    }
   ],
   "source": [
    "visit_CVR[(visit_CVR.num_visit > 8) & (visit_CVR.num_visit <= 49)].CVR_mean.mean()"
   ]
  },
  {
   "cell_type": "code",
   "execution_count": 31,
   "metadata": {},
   "outputs": [
    {
     "data": {
      "text/plain": [
       "0.10618329838866539"
      ]
     },
     "execution_count": 31,
     "metadata": {},
     "output_type": "execute_result"
    }
   ],
   "source": [
    "visit_CVR[(visit_CVR.num_visit > 49) & (visit_CVR.num_visit <= 190)].CVR_mean.mean()"
   ]
  },
  {
   "cell_type": "code",
   "execution_count": 32,
   "metadata": {},
   "outputs": [
    {
     "data": {
      "text/plain": [
       "0.08347601959463719"
      ]
     },
     "execution_count": 32,
     "metadata": {},
     "output_type": "execute_result"
    }
   ],
   "source": [
    "visit_CVR[(visit_CVR.num_visit > 190)].CVR_mean.mean()"
   ]
  },
  {
   "cell_type": "code",
   "execution_count": 33,
   "metadata": {},
   "outputs": [
    {
     "data": {
      "text/plain": [
       "customer_id\n",
       "3.0        51\n",
       "8.0         7\n",
       "9.0         6\n",
       "11.0        1\n",
       "15.0        5\n",
       "           ..\n",
       "99992.0    12\n",
       "99995.0    60\n",
       "99997.0     1\n",
       "99998.0     8\n",
       "99999.0     1\n",
       "Name: booking_id, Length: 50704, dtype: int64"
      ]
     },
     "execution_count": 33,
     "metadata": {},
     "output_type": "execute_result"
    }
   ],
   "source": [
    "customer_booking = df_buy_split.groupby('customer_id')['booking_id'].nunique()\n",
    "customer_booking"
   ]
  },
  {
   "attachments": {},
   "cell_type": "markdown",
   "metadata": {},
   "source": [
    "# 기간별 구매전환율 "
   ]
  },
  {
   "cell_type": "code",
   "execution_count": 43,
   "metadata": {},
   "outputs": [
    {
     "name": "stderr",
     "output_type": "stream",
     "text": [
      "/var/folders/72/sf0gd2_15c7bv2klzkjcqt580000gn/T/ipykernel_33466/1604012600.py:1: UserWarning: Converting to PeriodArray/Index representation will drop timezone information.\n",
      "  df_buy_split.month = pd.to_datetime(df_buy_split.event_time).dt.to_period('M')\n"
     ]
    },
    {
     "data": {
      "text/plain": [
       "0"
      ]
     },
     "execution_count": 43,
     "metadata": {},
     "output_type": "execute_result"
    }
   ],
   "source": [
    "df_buy_split.month = pd.to_datetime(df_buy_split.event_time).dt.to_period('M')"
   ]
  },
  {
   "cell_type": "code",
   "execution_count": 58,
   "metadata": {},
   "outputs": [
    {
     "data": {
      "text/html": [
       "<div>\n",
       "<style scoped>\n",
       "    .dataframe tbody tr th:only-of-type {\n",
       "        vertical-align: middle;\n",
       "    }\n",
       "\n",
       "    .dataframe tbody tr th {\n",
       "        vertical-align: top;\n",
       "    }\n",
       "\n",
       "    .dataframe thead th {\n",
       "        text-align: right;\n",
       "    }\n",
       "</style>\n",
       "<table border=\"1\" class=\"dataframe\">\n",
       "  <thead>\n",
       "    <tr style=\"text-align: right;\">\n",
       "      <th></th>\n",
       "      <th>month</th>\n",
       "      <th>session_id</th>\n",
       "      <th>diff_sessionpct</th>\n",
       "    </tr>\n",
       "  </thead>\n",
       "  <tbody>\n",
       "    <tr>\n",
       "      <th>0</th>\n",
       "      <td>2016-06</td>\n",
       "      <td>1</td>\n",
       "      <td>NaN</td>\n",
       "    </tr>\n",
       "    <tr>\n",
       "      <th>1</th>\n",
       "      <td>2016-07</td>\n",
       "      <td>773</td>\n",
       "      <td>77200.000000</td>\n",
       "    </tr>\n",
       "    <tr>\n",
       "      <th>2</th>\n",
       "      <td>2016-08</td>\n",
       "      <td>2281</td>\n",
       "      <td>195.084088</td>\n",
       "    </tr>\n",
       "    <tr>\n",
       "      <th>3</th>\n",
       "      <td>2016-09</td>\n",
       "      <td>4925</td>\n",
       "      <td>115.914073</td>\n",
       "    </tr>\n",
       "    <tr>\n",
       "      <th>4</th>\n",
       "      <td>2016-10</td>\n",
       "      <td>7050</td>\n",
       "      <td>43.147208</td>\n",
       "    </tr>\n",
       "    <tr>\n",
       "      <th>...</th>\n",
       "      <td>...</td>\n",
       "      <td>...</td>\n",
       "      <td>...</td>\n",
       "    </tr>\n",
       "    <tr>\n",
       "      <th>70</th>\n",
       "      <td>2022-04</td>\n",
       "      <td>329894</td>\n",
       "      <td>0.759605</td>\n",
       "    </tr>\n",
       "    <tr>\n",
       "      <th>71</th>\n",
       "      <td>2022-05</td>\n",
       "      <td>340612</td>\n",
       "      <td>3.248922</td>\n",
       "    </tr>\n",
       "    <tr>\n",
       "      <th>72</th>\n",
       "      <td>2022-06</td>\n",
       "      <td>313952</td>\n",
       "      <td>-7.827088</td>\n",
       "    </tr>\n",
       "    <tr>\n",
       "      <th>73</th>\n",
       "      <td>2022-07</td>\n",
       "      <td>230988</td>\n",
       "      <td>-26.425696</td>\n",
       "    </tr>\n",
       "    <tr>\n",
       "      <th>74</th>\n",
       "      <td>2022-08</td>\n",
       "      <td>11</td>\n",
       "      <td>-99.995238</td>\n",
       "    </tr>\n",
       "  </tbody>\n",
       "</table>\n",
       "<p>75 rows × 3 columns</p>\n",
       "</div>"
      ],
      "text/plain": [
       "      month  session_id  diff_sessionpct\n",
       "0   2016-06           1              NaN\n",
       "1   2016-07         773     77200.000000\n",
       "2   2016-08        2281       195.084088\n",
       "3   2016-09        4925       115.914073\n",
       "4   2016-10        7050        43.147208\n",
       "..      ...         ...              ...\n",
       "70  2022-04      329894         0.759605\n",
       "71  2022-05      340612         3.248922\n",
       "72  2022-06      313952        -7.827088\n",
       "73  2022-07      230988       -26.425696\n",
       "74  2022-08          11       -99.995238\n",
       "\n",
       "[75 rows x 3 columns]"
      ]
     },
     "execution_count": 58,
     "metadata": {},
     "output_type": "execute_result"
    }
   ],
   "source": [
    "session_info = df_buy_split.groupby('month')[['session_id']].nunique()\n",
    "session_info.reset_index(inplace=True)\n",
    "session_info['diff_sessionpct'] = session_info.session_id.pct_change() *100\n",
    "session_info"
   ]
  },
  {
   "cell_type": "code",
   "execution_count": null,
   "metadata": {},
   "outputs": [
    {
     "data": {
      "text/plain": [
       "74"
      ]
     },
     "execution_count": 30,
     "metadata": {},
     "output_type": "execute_result"
    }
   ],
   "source": [
    "# session_id 별로 한번에 BOOKING만 있었던 것을 확인\n",
    "# 월별 BOOKING을 한 session_id의 unique값 수 = 월별 BOOKING을 한 BOOKING 이벤트 수\n",
    "(df_buy_split[df_buy_split.event_name == 'BOOKING'].groupby(['month'])['session_id'].nunique() == df_buy_split[df_buy_split.event_name == 'BOOKING'].groupby(['month']).count()['event_name']).sum()"
   ]
  },
  {
   "cell_type": "code",
   "execution_count": 59,
   "metadata": {},
   "outputs": [
    {
     "data": {
      "text/plain": [
       "month\n",
       "2016-06        1\n",
       "2016-07      334\n",
       "2016-08      741\n",
       "2016-09     1142\n",
       "2016-10     1714\n",
       "           ...  \n",
       "2022-03    52083\n",
       "2022-04    51554\n",
       "2022-05    51733\n",
       "2022-06    43697\n",
       "2022-07    28428\n",
       "Freq: M, Name: session_id, Length: 74, dtype: int64"
      ]
     },
     "execution_count": 59,
     "metadata": {},
     "output_type": "execute_result"
    }
   ],
   "source": [
    "df_buy_split[df_buy_split.event_name == 'ADD_TO_CART'].groupby('month').session_id.nunique()"
   ]
  },
  {
   "cell_type": "code",
   "execution_count": 61,
   "metadata": {},
   "outputs": [],
   "source": [
    "# 장바구니 세션 수(Micro CVR)\n",
    "session_info = pd.merge(session_info, df_buy_split[df_buy_split.event_name == 'ADD_TO_CART'].groupby('month').session_id.nunique(), how='left', on='month')\n",
    "\n",
    "# 구매 세션 수(Macro CVR)\n",
    "session_info = pd.merge(session_info, df_buy_split[df_buy_split.event_name == 'BOOKING'].groupby(['month']).count()['event_name'], on='month', how='left')"
   ]
  },
  {
   "cell_type": "code",
   "execution_count": 62,
   "metadata": {},
   "outputs": [],
   "source": [
    "session_info.rename(columns = {'session_id_x':'num_session_id', 'session_id_y':'num_add_to_cart', 'event_name':'num_booking'}, inplace = True)"
   ]
  },
  {
   "cell_type": "code",
   "execution_count": 63,
   "metadata": {},
   "outputs": [],
   "source": [
    "session_info['micro_cvr'] = session_info.num_add_to_cart / session_info.num_session_id\n",
    "session_info['macro_cvr'] = session_info.num_booking / session_info.num_session_id"
   ]
  },
  {
   "cell_type": "code",
   "execution_count": 64,
   "metadata": {},
   "outputs": [],
   "source": [
    "session_info['cart_buy_cvr'] = session_info.num_booking / session_info.num_add_to_cart"
   ]
  },
  {
   "cell_type": "code",
   "execution_count": 65,
   "metadata": {},
   "outputs": [
    {
     "name": "stderr",
     "output_type": "stream",
     "text": [
      "/var/folders/72/sf0gd2_15c7bv2klzkjcqt580000gn/T/ipykernel_33466/3969820811.py:3: SettingWithCopyWarning: \n",
      "A value is trying to be set on a copy of a slice from a DataFrame.\n",
      "Try using .loc[row_indexer,col_indexer] = value instead\n",
      "\n",
      "See the caveats in the documentation: https://pandas.pydata.org/pandas-docs/stable/user_guide/indexing.html#returning-a-view-versus-a-copy\n",
      "  session_info_all.month = session_info_all.month.astype('str')\n",
      "/var/folders/72/sf0gd2_15c7bv2klzkjcqt580000gn/T/ipykernel_33466/3969820811.py:4: SettingWithCopyWarning: \n",
      "A value is trying to be set on a copy of a slice from a DataFrame.\n",
      "Try using .loc[row_indexer,col_indexer] = value instead\n",
      "\n",
      "See the caveats in the documentation: https://pandas.pydata.org/pandas-docs/stable/user_guide/indexing.html#returning-a-view-versus-a-copy\n",
      "  session_info_part.month = session_info_part.month.astype('str')\n"
     ]
    }
   ],
   "source": [
    "session_info_all = session_info[(session_info.month >= '2016-07') & (session_info.month <= '2022-07')]\n",
    "session_info_part = session_info[(session_info.month >= '2020-08') & (session_info.month <= '2022-07')]\n",
    "session_info_all.month = session_info_all.month.astype('str')\n",
    "session_info_part.month = session_info_part.month.astype('str')"
   ]
  },
  {
   "cell_type": "code",
   "execution_count": 67,
   "metadata": {},
   "outputs": [
    {
     "name": "stderr",
     "output_type": "stream",
     "text": [
      "/var/folders/72/sf0gd2_15c7bv2klzkjcqt580000gn/T/ipykernel_33466/3299412220.py:2: SettingWithCopyWarning: \n",
      "A value is trying to be set on a copy of a slice from a DataFrame.\n",
      "Try using .loc[row_indexer,col_indexer] = value instead\n",
      "\n",
      "See the caveats in the documentation: https://pandas.pydata.org/pandas-docs/stable/user_guide/indexing.html#returning-a-view-versus-a-copy\n",
      "  session_info_all.month = session_info_all.month.astype('str')\n"
     ]
    },
    {
     "data": {
      "image/png": "[encoded data removed]",
      "text/plain": [
       "<Figure size 1500x600 with 1 Axes>"
      ]
     },
     "metadata": {},
     "output_type": "display_data"
    }
   ],
   "source": [
    "# 전체기간 방문 수\n",
    "session_info_all.month = session_info_all.month.astype('str')\n",
    "plt.figure(figsize=(15,6))\n",
    "sns.lineplot(data = session_info_all, x = 'month', y = 'num_session_id')\n",
    "plt.xticks(rotation=90)\n",
    "plt.title('Number of Visitors')\n",
    "plt.show()"
   ]
  },
  {
   "cell_type": "code",
   "execution_count": 69,
   "metadata": {},
   "outputs": [
    {
     "name": "stderr",
     "output_type": "stream",
     "text": [
      "/var/folders/72/sf0gd2_15c7bv2klzkjcqt580000gn/T/ipykernel_33466/1975785233.py:5: SettingWithCopyWarning: \n",
      "A value is trying to be set on a copy of a slice from a DataFrame.\n",
      "Try using .loc[row_indexer,col_indexer] = value instead\n",
      "\n",
      "See the caveats in the documentation: https://pandas.pydata.org/pandas-docs/stable/user_guide/indexing.html#returning-a-view-versus-a-copy\n",
      "  session_info_part.month = session_info_part.month.astype('str')\n"
     ]
    },
    {
     "data": {
      "image/png": "[encoded data removed]",
      "text/plain": [
       "<Figure size 1500x600 with 1 Axes>"
      ]
     },
     "metadata": {},
     "output_type": "display_data"
    }
   ],
   "source": [
    "# 최근 2년 간(2020-06 ~ 2022-07) 구매방문 수\n",
    "# 2022월 6월, 7월에 session 수(방문 수) 감소 - 6월에는 -7.9%, 7월에는 -27.1%\n",
    "\n",
    "session_info_part.month = session_info_part.month.astype('str')\n",
    "plt.figure(figsize=(15,6))\n",
    "sns.lineplot(data = session_info_part, x = 'month', y = 'num_session_id')\n",
    "plt.xticks(rotation=90)\n",
    "plt.title('Number of Visitors (2020-06 ~ 2022-07)')\n",
    "plt.show()"
   ]
  },
  {
   "cell_type": "code",
   "execution_count": 71,
   "metadata": {},
   "outputs": [
    {
     "data": {
      "text/html": [
       "<div>\n",
       "<style scoped>\n",
       "    .dataframe tbody tr th:only-of-type {\n",
       "        vertical-align: middle;\n",
       "    }\n",
       "\n",
       "    .dataframe tbody tr th {\n",
       "        vertical-align: top;\n",
       "    }\n",
       "\n",
       "    .dataframe thead th {\n",
       "        text-align: right;\n",
       "    }\n",
       "</style>\n",
       "<table border=\"1\" class=\"dataframe\">\n",
       "  <thead>\n",
       "    <tr style=\"text-align: right;\">\n",
       "      <th></th>\n",
       "      <th>month</th>\n",
       "      <th>num_session_id</th>\n",
       "      <th>diff_sessionpct</th>\n",
       "      <th>num_add_to_cart</th>\n",
       "      <th>num_booking</th>\n",
       "      <th>micro_cvr</th>\n",
       "      <th>macro_cvr</th>\n",
       "      <th>cart_buy_cvr</th>\n",
       "    </tr>\n",
       "  </thead>\n",
       "  <tbody>\n",
       "    <tr>\n",
       "      <th>0</th>\n",
       "      <td>2016-06</td>\n",
       "      <td>1</td>\n",
       "      <td>NaN</td>\n",
       "      <td>1.0</td>\n",
       "      <td>1.0</td>\n",
       "      <td>1.000000</td>\n",
       "      <td>1.000000</td>\n",
       "      <td>1.000000</td>\n",
       "    </tr>\n",
       "    <tr>\n",
       "      <th>1</th>\n",
       "      <td>2016-07</td>\n",
       "      <td>773</td>\n",
       "      <td>77200.000000</td>\n",
       "      <td>334.0</td>\n",
       "      <td>296.0</td>\n",
       "      <td>0.432083</td>\n",
       "      <td>0.382924</td>\n",
       "      <td>0.886228</td>\n",
       "    </tr>\n",
       "    <tr>\n",
       "      <th>2</th>\n",
       "      <td>2016-08</td>\n",
       "      <td>2281</td>\n",
       "      <td>195.084088</td>\n",
       "      <td>741.0</td>\n",
       "      <td>547.0</td>\n",
       "      <td>0.324858</td>\n",
       "      <td>0.239807</td>\n",
       "      <td>0.738192</td>\n",
       "    </tr>\n",
       "    <tr>\n",
       "      <th>3</th>\n",
       "      <td>2016-09</td>\n",
       "      <td>4925</td>\n",
       "      <td>115.914073</td>\n",
       "      <td>1142.0</td>\n",
       "      <td>717.0</td>\n",
       "      <td>0.231878</td>\n",
       "      <td>0.145584</td>\n",
       "      <td>0.627846</td>\n",
       "    </tr>\n",
       "    <tr>\n",
       "      <th>4</th>\n",
       "      <td>2016-10</td>\n",
       "      <td>7050</td>\n",
       "      <td>43.147208</td>\n",
       "      <td>1714.0</td>\n",
       "      <td>989.0</td>\n",
       "      <td>0.243121</td>\n",
       "      <td>0.140284</td>\n",
       "      <td>0.577013</td>\n",
       "    </tr>\n",
       "    <tr>\n",
       "      <th>...</th>\n",
       "      <td>...</td>\n",
       "      <td>...</td>\n",
       "      <td>...</td>\n",
       "      <td>...</td>\n",
       "      <td>...</td>\n",
       "      <td>...</td>\n",
       "      <td>...</td>\n",
       "      <td>...</td>\n",
       "    </tr>\n",
       "    <tr>\n",
       "      <th>70</th>\n",
       "      <td>2022-04</td>\n",
       "      <td>329894</td>\n",
       "      <td>0.759605</td>\n",
       "      <td>51554.0</td>\n",
       "      <td>29237.0</td>\n",
       "      <td>0.156274</td>\n",
       "      <td>0.088625</td>\n",
       "      <td>0.567114</td>\n",
       "    </tr>\n",
       "    <tr>\n",
       "      <th>71</th>\n",
       "      <td>2022-05</td>\n",
       "      <td>340612</td>\n",
       "      <td>3.248922</td>\n",
       "      <td>51733.0</td>\n",
       "      <td>30084.0</td>\n",
       "      <td>0.151882</td>\n",
       "      <td>0.088323</td>\n",
       "      <td>0.581524</td>\n",
       "    </tr>\n",
       "    <tr>\n",
       "      <th>72</th>\n",
       "      <td>2022-06</td>\n",
       "      <td>313952</td>\n",
       "      <td>-7.827088</td>\n",
       "      <td>43697.0</td>\n",
       "      <td>28587.0</td>\n",
       "      <td>0.139184</td>\n",
       "      <td>0.091055</td>\n",
       "      <td>0.654210</td>\n",
       "    </tr>\n",
       "    <tr>\n",
       "      <th>73</th>\n",
       "      <td>2022-07</td>\n",
       "      <td>230988</td>\n",
       "      <td>-26.425696</td>\n",
       "      <td>28428.0</td>\n",
       "      <td>25162.0</td>\n",
       "      <td>0.123071</td>\n",
       "      <td>0.108932</td>\n",
       "      <td>0.885113</td>\n",
       "    </tr>\n",
       "    <tr>\n",
       "      <th>74</th>\n",
       "      <td>2022-08</td>\n",
       "      <td>11</td>\n",
       "      <td>-99.995238</td>\n",
       "      <td>NaN</td>\n",
       "      <td>NaN</td>\n",
       "      <td>NaN</td>\n",
       "      <td>NaN</td>\n",
       "      <td>NaN</td>\n",
       "    </tr>\n",
       "  </tbody>\n",
       "</table>\n",
       "<p>75 rows × 8 columns</p>\n",
       "</div>"
      ],
      "text/plain": [
       "      month  num_session_id  diff_sessionpct  num_add_to_cart  num_booking  \\\n",
       "0   2016-06               1              NaN              1.0          1.0   \n",
       "1   2016-07             773     77200.000000            334.0        296.0   \n",
       "2   2016-08            2281       195.084088            741.0        547.0   \n",
       "3   2016-09            4925       115.914073           1142.0        717.0   \n",
       "4   2016-10            7050        43.147208           1714.0        989.0   \n",
       "..      ...             ...              ...              ...          ...   \n",
       "70  2022-04          329894         0.759605          51554.0      29237.0   \n",
       "71  2022-05          340612         3.248922          51733.0      30084.0   \n",
       "72  2022-06          313952        -7.827088          43697.0      28587.0   \n",
       "73  2022-07          230988       -26.425696          28428.0      25162.0   \n",
       "74  2022-08              11       -99.995238              NaN          NaN   \n",
       "\n",
       "    micro_cvr  macro_cvr  cart_buy_cvr  \n",
       "0    1.000000   1.000000      1.000000  \n",
       "1    0.432083   0.382924      0.886228  \n",
       "2    0.324858   0.239807      0.738192  \n",
       "3    0.231878   0.145584      0.627846  \n",
       "4    0.243121   0.140284      0.577013  \n",
       "..        ...        ...           ...  \n",
       "70   0.156274   0.088625      0.567114  \n",
       "71   0.151882   0.088323      0.581524  \n",
       "72   0.139184   0.091055      0.654210  \n",
       "73   0.123071   0.108932      0.885113  \n",
       "74        NaN        NaN           NaN  \n",
       "\n",
       "[75 rows x 8 columns]"
      ]
     },
     "execution_count": 71,
     "metadata": {},
     "output_type": "execute_result"
    }
   ],
   "source": [
    "session_info"
   ]
  },
  {
   "cell_type": "code",
   "execution_count": 72,
   "metadata": {},
   "outputs": [
    {
     "name": "stdout",
     "output_type": "stream",
     "text": [
      "micro_cvr: 0.1920677251070656\n",
      "macro_cvr: 0.10070649086355316\n"
     ]
    }
   ],
   "source": [
    "# 기간 전체 평균 CVR (2016년 6월 제외 (거래가 1건밖에 없었음))\n",
    "print(f'micro_cvr: {session_info_all.micro_cvr.mean()}')\n",
    "print(f'macro_cvr: {session_info_all.macro_cvr.mean()}')"
   ]
  },
  {
   "cell_type": "code",
   "execution_count": 73,
   "metadata": {},
   "outputs": [
    {
     "name": "stdout",
     "output_type": "stream",
     "text": [
      "micro_cvr of recent 2 years: 0.1680717814447511\n",
      "macro_cvr of recent 2 years: 0.08997542736860174\n"
     ]
    }
   ],
   "source": [
    "# 최근 2년 평균 구매전환율\n",
    "print(f'micro_cvr of recent 2 years: {session_info_part.micro_cvr.mean()}')\n",
    "print(f'macro_cvr of recent 2 years: {session_info_part.macro_cvr.mean()}')"
   ]
  },
  {
   "cell_type": "code",
   "execution_count": 74,
   "metadata": {},
   "outputs": [
    {
     "data": {
      "image/png": "[encoded data removed]",
      "text/plain": [
       "<Figure size 1500x600 with 1 Axes>"
      ]
     },
     "metadata": {},
     "output_type": "display_data"
    }
   ],
   "source": [
    "plt.figure(figsize=(15,6))\n",
    "sns.lineplot(data = session_info_all, x = 'month', y='micro_cvr', label='Micro CVR')\n",
    "sns.lineplot(data = session_info_all, x = 'month', y='macro_cvr', label='Macro CVR')\n",
    "plt.xticks(rotation=90)\n",
    "plt.title('Conversion Rate')\n",
    "plt.legend()\n",
    "plt.show()"
   ]
  },
  {
   "cell_type": "code",
   "execution_count": 75,
   "metadata": {},
   "outputs": [
    {
     "data": {
      "image/png": "[encoded data removed]",
      "text/plain": [
       "<Figure size 1500x600 with 1 Axes>"
      ]
     },
     "metadata": {},
     "output_type": "display_data"
    }
   ],
   "source": [
    "plt.figure(figsize=(15,6))\n",
    "sns.lineplot(data = session_info_part, x = 'month', y='micro_cvr', label='Micro CVR')\n",
    "sns.lineplot(data = session_info_part, x = 'month', y='macro_cvr', label='Macro CVR')\n",
    "plt.xticks(rotation=90)\n",
    "plt.title('Conversion Rate (2020-08 ~ 2022-07)')\n",
    "plt.legend()\n",
    "plt.show()"
   ]
  },
  {
   "cell_type": "code",
   "execution_count": 77,
   "metadata": {},
   "outputs": [
    {
     "name": "stderr",
     "output_type": "stream",
     "text": [
      "No artists with labels found to put in legend.  Note that artists whose label start with an underscore are ignored when legend() is called with no argument.\n"
     ]
    },
    {
     "data": {
      "image/png": "[encoded data removed]",
      "text/plain": [
       "<Figure size 1500x600 with 1 Axes>"
      ]
     },
     "metadata": {},
     "output_type": "display_data"
    }
   ],
   "source": [
    "plt.figure(figsize=(15,6))\n",
    "sns.lineplot(data = session_info_all, x = 'month', y='cart_buy_cvr')\n",
    "plt.xticks(rotation=90)\n",
    "plt.title('Cart_to_Pay Conversion Rate (2020-08 ~ 2022-07)')\n",
    "plt.legend()\n",
    "plt.show()"
   ]
  },
  {
   "cell_type": "code",
   "execution_count": 83,
   "metadata": {},
   "outputs": [
    {
     "data": {
      "text/plain": [
       "852582"
      ]
     },
     "execution_count": 83,
     "metadata": {},
     "output_type": "execute_result"
    }
   ],
   "source": [
    "len(df_buy_split[df_buy_split['event_name'] == 'BOOKING'].session_id.unique())"
   ]
  },
  {
   "cell_type": "code",
   "execution_count": 91,
   "metadata": {},
   "outputs": [
    {
     "data": {
      "text/plain": [
       "array(['f03b6825-1e6e-4916-bf71-f94ecbcbaee5',\n",
       "       '36673b2f-940a-42b5-994d-1cce4796b55f_0',\n",
       "       '36673b2f-940a-42b5-994d-1cce4796b55f', ...,\n",
       "       'fff55bcc-4d59-46e1-8e48-7c7f585121ce',\n",
       "       'fffa75c4-da76-42d7-b53e-2bbf79f2a4a9',\n",
       "       'fffe9f81-7737-47de-9468-8b7b7f93c25d'], dtype=object)"
      ]
     },
     "execution_count": 91,
     "metadata": {},
     "output_type": "execute_result"
    }
   ],
   "source": [
    "df_buy_split[df_buy_split['event_name'] == 'ADD_TO_CART'].session_id.unique()"
   ]
  },
  {
   "cell_type": "code",
   "execution_count": 127,
   "metadata": {},
   "outputs": [],
   "source": [
    "add_to_cart_session_ids = df_buy_split[df_buy_split['event_name'] == 'ADD_TO_CART'].session_id.unique()\n",
    "booking_session_ids = df_buy_split[df_buy_split['event_name'] == 'BOOKING'].session_id.unique()\n",
    "\n",
    "missing_add_to_cart = df_buy_split[~df_buy_split['session_id'].isin(df_buy_split[df_buy_split['event_name'] == 'ADD_TO_CART'].session_id.unique()) & (df_buy_split['event_name'] == 'BOOKING')]"
   ]
  },
  {
   "cell_type": "code",
   "execution_count": 120,
   "metadata": {},
   "outputs": [],
   "source": [
    "missing_booking = df_buy_split[~df_buy_split['session_id'].isin(booking_session_ids) & (df_buy_split['event_name'] == 'ADD_TO_CART')]"
   ]
  },
  {
   "cell_type": "code",
   "execution_count": 131,
   "metadata": {},
   "outputs": [],
   "source": [
    "cart_pay = df_buy_split[df_buy_split['session_id'].isin(booking_session_ids) & (df_buy_split['event_name'] == 'ADD_TO_CART')]"
   ]
  },
  {
   "cell_type": "code",
   "execution_count": 129,
   "metadata": {},
   "outputs": [
    {
     "data": {
      "text/html": [
       "<div>\n",
       "<style scoped>\n",
       "    .dataframe tbody tr th:only-of-type {\n",
       "        vertical-align: middle;\n",
       "    }\n",
       "\n",
       "    .dataframe tbody tr th {\n",
       "        vertical-align: top;\n",
       "    }\n",
       "\n",
       "    .dataframe thead th {\n",
       "        text-align: right;\n",
       "    }\n",
       "</style>\n",
       "<table border=\"1\" class=\"dataframe\">\n",
       "  <thead>\n",
       "    <tr style=\"text-align: right;\">\n",
       "      <th></th>\n",
       "      <th>session_id</th>\n",
       "      <th>event_name</th>\n",
       "      <th>event_time</th>\n",
       "      <th>traffic_source</th>\n",
       "      <th>product_id</th>\n",
       "      <th>quantity</th>\n",
       "      <th>item_price</th>\n",
       "      <th>payment_status</th>\n",
       "      <th>search_keywords</th>\n",
       "      <th>promo_code</th>\n",
       "      <th>promo_amount</th>\n",
       "      <th>customer_id</th>\n",
       "      <th>quarter</th>\n",
       "      <th>old_session</th>\n",
       "      <th>booking_id</th>\n",
       "      <th>sales</th>\n",
       "      <th>month</th>\n",
       "    </tr>\n",
       "  </thead>\n",
       "  <tbody>\n",
       "    <tr>\n",
       "      <th>9</th>\n",
       "      <td>36673b2f-940a-42b5-994d-1cce4796b55f_0</td>\n",
       "      <td>ADD_TO_CART</td>\n",
       "      <td>2018-09-19 16:29:14.844494+00:00</td>\n",
       "      <td>MOBILE</td>\n",
       "      <td>16748.0</td>\n",
       "      <td>1</td>\n",
       "      <td>578636</td>\n",
       "      <td>NaN</td>\n",
       "      <td>NaN</td>\n",
       "      <td>0.0</td>\n",
       "      <td>0.0</td>\n",
       "      <td>3.0</td>\n",
       "      <td>NaN</td>\n",
       "      <td>36673b2f-940a-42b5-994d-1cce4796b55f</td>\n",
       "      <td>NaN</td>\n",
       "      <td>153784.0</td>\n",
       "      <td>2018-09</td>\n",
       "    </tr>\n",
       "  </tbody>\n",
       "</table>\n",
       "</div>"
      ],
      "text/plain": [
       "                               session_id   event_name  \\\n",
       "9  36673b2f-940a-42b5-994d-1cce4796b55f_0  ADD_TO_CART   \n",
       "\n",
       "                         event_time traffic_source  product_id  quantity  \\\n",
       "9  2018-09-19 16:29:14.844494+00:00         MOBILE     16748.0         1   \n",
       "\n",
       "   item_price  payment_status search_keywords  promo_code  promo_amount  \\\n",
       "9      578636             NaN             NaN         0.0           0.0   \n",
       "\n",
       "   customer_id  quarter                           old_session booking_id  \\\n",
       "9          3.0      NaN  36673b2f-940a-42b5-994d-1cce4796b55f        NaN   \n",
       "\n",
       "      sales    month  \n",
       "9  153784.0  2018-09  "
      ]
     },
     "execution_count": 129,
     "metadata": {},
     "output_type": "execute_result"
    }
   ],
   "source": [
    "df_buy_split[df_buy_split.session_id == '36673b2f-940a-42b5-994d-1cce4796b55f_0']"
   ]
  },
  {
   "cell_type": "code",
   "execution_count": 132,
   "metadata": {},
   "outputs": [
    {
     "data": {
      "text/html": [
       "<div>\n",
       "<style scoped>\n",
       "    .dataframe tbody tr th:only-of-type {\n",
       "        vertical-align: middle;\n",
       "    }\n",
       "\n",
       "    .dataframe tbody tr th {\n",
       "        vertical-align: top;\n",
       "    }\n",
       "\n",
       "    .dataframe thead th {\n",
       "        text-align: right;\n",
       "    }\n",
       "</style>\n",
       "<table border=\"1\" class=\"dataframe\">\n",
       "  <thead>\n",
       "    <tr style=\"text-align: right;\">\n",
       "      <th></th>\n",
       "      <th>session_id</th>\n",
       "      <th>event_name</th>\n",
       "      <th>event_time</th>\n",
       "      <th>traffic_source</th>\n",
       "      <th>product_id</th>\n",
       "      <th>quantity</th>\n",
       "      <th>item_price</th>\n",
       "      <th>payment_status</th>\n",
       "      <th>search_keywords</th>\n",
       "      <th>promo_code</th>\n",
       "      <th>promo_amount</th>\n",
       "      <th>customer_id</th>\n",
       "      <th>quarter</th>\n",
       "      <th>old_session</th>\n",
       "      <th>booking_id</th>\n",
       "      <th>sales</th>\n",
       "      <th>month</th>\n",
       "    </tr>\n",
       "  </thead>\n",
       "  <tbody>\n",
       "    <tr>\n",
       "      <th>3</th>\n",
       "      <td>00038f48-10a2-4752-bdcf-4d12b5731f6e</td>\n",
       "      <td>ADD_TO_CART</td>\n",
       "      <td>2021-01-16 16:59:24.918402+00:00</td>\n",
       "      <td>MOBILE</td>\n",
       "      <td>20886.0</td>\n",
       "      <td>1</td>\n",
       "      <td>629485</td>\n",
       "      <td>NaN</td>\n",
       "      <td>NaN</td>\n",
       "      <td>NaN</td>\n",
       "      <td>NaN</td>\n",
       "      <td>NaN</td>\n",
       "      <td>NaN</td>\n",
       "      <td>NaN</td>\n",
       "      <td>NaN</td>\n",
       "      <td>NaN</td>\n",
       "      <td>2021-01</td>\n",
       "    </tr>\n",
       "    <tr>\n",
       "      <th>17</th>\n",
       "      <td>00051df2-4589-43ec-9ef7-d5527ad793a5</td>\n",
       "      <td>ADD_TO_CART</td>\n",
       "      <td>2021-07-04 23:46:25.236904+00:00</td>\n",
       "      <td>MOBILE</td>\n",
       "      <td>33822.0</td>\n",
       "      <td>1</td>\n",
       "      <td>195617</td>\n",
       "      <td>NaN</td>\n",
       "      <td>NaN</td>\n",
       "      <td>NaN</td>\n",
       "      <td>NaN</td>\n",
       "      <td>NaN</td>\n",
       "      <td>NaN</td>\n",
       "      <td>NaN</td>\n",
       "      <td>NaN</td>\n",
       "      <td>NaN</td>\n",
       "      <td>2021-07</td>\n",
       "    </tr>\n",
       "    <tr>\n",
       "      <th>18</th>\n",
       "      <td>00051df2-4589-43ec-9ef7-d5527ad793a5</td>\n",
       "      <td>ADD_TO_CART</td>\n",
       "      <td>2021-07-04 23:48:22.236904+00:00</td>\n",
       "      <td>MOBILE</td>\n",
       "      <td>50236.0</td>\n",
       "      <td>1</td>\n",
       "      <td>276080</td>\n",
       "      <td>NaN</td>\n",
       "      <td>NaN</td>\n",
       "      <td>NaN</td>\n",
       "      <td>NaN</td>\n",
       "      <td>NaN</td>\n",
       "      <td>NaN</td>\n",
       "      <td>NaN</td>\n",
       "      <td>NaN</td>\n",
       "      <td>NaN</td>\n",
       "      <td>2021-07</td>\n",
       "    </tr>\n",
       "    <tr>\n",
       "      <th>21</th>\n",
       "      <td>00051df2-4589-43ec-9ef7-d5527ad793a5</td>\n",
       "      <td>ADD_TO_CART</td>\n",
       "      <td>2021-07-04 23:53:48.236904+00:00</td>\n",
       "      <td>MOBILE</td>\n",
       "      <td>54144.0</td>\n",
       "      <td>2</td>\n",
       "      <td>183666</td>\n",
       "      <td>NaN</td>\n",
       "      <td>NaN</td>\n",
       "      <td>NaN</td>\n",
       "      <td>NaN</td>\n",
       "      <td>NaN</td>\n",
       "      <td>NaN</td>\n",
       "      <td>NaN</td>\n",
       "      <td>NaN</td>\n",
       "      <td>NaN</td>\n",
       "      <td>2021-07</td>\n",
       "    </tr>\n",
       "    <tr>\n",
       "      <th>23</th>\n",
       "      <td>00051df2-4589-43ec-9ef7-d5527ad793a5</td>\n",
       "      <td>ADD_TO_CART</td>\n",
       "      <td>2021-07-04 23:57:52.236904+00:00</td>\n",
       "      <td>MOBILE</td>\n",
       "      <td>4021.0</td>\n",
       "      <td>1</td>\n",
       "      <td>398842</td>\n",
       "      <td>NaN</td>\n",
       "      <td>NaN</td>\n",
       "      <td>NaN</td>\n",
       "      <td>NaN</td>\n",
       "      <td>NaN</td>\n",
       "      <td>NaN</td>\n",
       "      <td>NaN</td>\n",
       "      <td>NaN</td>\n",
       "      <td>NaN</td>\n",
       "      <td>2021-07</td>\n",
       "    </tr>\n",
       "    <tr>\n",
       "      <th>...</th>\n",
       "      <td>...</td>\n",
       "      <td>...</td>\n",
       "      <td>...</td>\n",
       "      <td>...</td>\n",
       "      <td>...</td>\n",
       "      <td>...</td>\n",
       "      <td>...</td>\n",
       "      <td>...</td>\n",
       "      <td>...</td>\n",
       "      <td>...</td>\n",
       "      <td>...</td>\n",
       "      <td>...</td>\n",
       "      <td>...</td>\n",
       "      <td>...</td>\n",
       "      <td>...</td>\n",
       "      <td>...</td>\n",
       "      <td>...</td>\n",
       "    </tr>\n",
       "    <tr>\n",
       "      <th>370570</th>\n",
       "      <td>fffa75c4-da76-42d7-b53e-2bbf79f2a4a9</td>\n",
       "      <td>ADD_TO_CART</td>\n",
       "      <td>2018-01-10 02:16:19.845153+00:00</td>\n",
       "      <td>MOBILE</td>\n",
       "      <td>36979.0</td>\n",
       "      <td>1</td>\n",
       "      <td>228468</td>\n",
       "      <td>NaN</td>\n",
       "      <td>NaN</td>\n",
       "      <td>NaN</td>\n",
       "      <td>NaN</td>\n",
       "      <td>NaN</td>\n",
       "      <td>NaN</td>\n",
       "      <td>NaN</td>\n",
       "      <td>NaN</td>\n",
       "      <td>NaN</td>\n",
       "      <td>2018-01</td>\n",
       "    </tr>\n",
       "    <tr>\n",
       "      <th>370576</th>\n",
       "      <td>fffa75c4-da76-42d7-b53e-2bbf79f2a4a9</td>\n",
       "      <td>ADD_TO_CART</td>\n",
       "      <td>2018-01-10 02:17:24.845153+00:00</td>\n",
       "      <td>MOBILE</td>\n",
       "      <td>27669.0</td>\n",
       "      <td>1</td>\n",
       "      <td>422820</td>\n",
       "      <td>NaN</td>\n",
       "      <td>NaN</td>\n",
       "      <td>NaN</td>\n",
       "      <td>NaN</td>\n",
       "      <td>NaN</td>\n",
       "      <td>NaN</td>\n",
       "      <td>NaN</td>\n",
       "      <td>NaN</td>\n",
       "      <td>NaN</td>\n",
       "      <td>2018-01</td>\n",
       "    </tr>\n",
       "    <tr>\n",
       "      <th>370586</th>\n",
       "      <td>fffa75c4-da76-42d7-b53e-2bbf79f2a4a9</td>\n",
       "      <td>ADD_TO_CART</td>\n",
       "      <td>2018-01-10 02:19:46.845153+00:00</td>\n",
       "      <td>MOBILE</td>\n",
       "      <td>12477.0</td>\n",
       "      <td>1</td>\n",
       "      <td>424877</td>\n",
       "      <td>NaN</td>\n",
       "      <td>NaN</td>\n",
       "      <td>NaN</td>\n",
       "      <td>NaN</td>\n",
       "      <td>NaN</td>\n",
       "      <td>NaN</td>\n",
       "      <td>NaN</td>\n",
       "      <td>NaN</td>\n",
       "      <td>NaN</td>\n",
       "      <td>2018-01</td>\n",
       "    </tr>\n",
       "    <tr>\n",
       "      <th>370588</th>\n",
       "      <td>fffa75c4-da76-42d7-b53e-2bbf79f2a4a9</td>\n",
       "      <td>ADD_TO_CART</td>\n",
       "      <td>2018-01-10 02:20:11.845153+00:00</td>\n",
       "      <td>MOBILE</td>\n",
       "      <td>48525.0</td>\n",
       "      <td>1</td>\n",
       "      <td>232597</td>\n",
       "      <td>NaN</td>\n",
       "      <td>NaN</td>\n",
       "      <td>NaN</td>\n",
       "      <td>NaN</td>\n",
       "      <td>NaN</td>\n",
       "      <td>NaN</td>\n",
       "      <td>NaN</td>\n",
       "      <td>NaN</td>\n",
       "      <td>NaN</td>\n",
       "      <td>2018-01</td>\n",
       "    </tr>\n",
       "    <tr>\n",
       "      <th>370593</th>\n",
       "      <td>fffe9f81-7737-47de-9468-8b7b7f93c25d</td>\n",
       "      <td>ADD_TO_CART</td>\n",
       "      <td>2018-05-24 17:35:57.717870+00:00</td>\n",
       "      <td>MOBILE</td>\n",
       "      <td>49510.0</td>\n",
       "      <td>1</td>\n",
       "      <td>246498</td>\n",
       "      <td>NaN</td>\n",
       "      <td>NaN</td>\n",
       "      <td>NaN</td>\n",
       "      <td>NaN</td>\n",
       "      <td>NaN</td>\n",
       "      <td>NaN</td>\n",
       "      <td>NaN</td>\n",
       "      <td>NaN</td>\n",
       "      <td>NaN</td>\n",
       "      <td>2018-05</td>\n",
       "    </tr>\n",
       "  </tbody>\n",
       "</table>\n",
       "<p>42626 rows × 17 columns</p>\n",
       "</div>"
      ],
      "text/plain": [
       "                                  session_id   event_name  \\\n",
       "3       00038f48-10a2-4752-bdcf-4d12b5731f6e  ADD_TO_CART   \n",
       "17      00051df2-4589-43ec-9ef7-d5527ad793a5  ADD_TO_CART   \n",
       "18      00051df2-4589-43ec-9ef7-d5527ad793a5  ADD_TO_CART   \n",
       "21      00051df2-4589-43ec-9ef7-d5527ad793a5  ADD_TO_CART   \n",
       "23      00051df2-4589-43ec-9ef7-d5527ad793a5  ADD_TO_CART   \n",
       "...                                      ...          ...   \n",
       "370570  fffa75c4-da76-42d7-b53e-2bbf79f2a4a9  ADD_TO_CART   \n",
       "370576  fffa75c4-da76-42d7-b53e-2bbf79f2a4a9  ADD_TO_CART   \n",
       "370586  fffa75c4-da76-42d7-b53e-2bbf79f2a4a9  ADD_TO_CART   \n",
       "370588  fffa75c4-da76-42d7-b53e-2bbf79f2a4a9  ADD_TO_CART   \n",
       "370593  fffe9f81-7737-47de-9468-8b7b7f93c25d  ADD_TO_CART   \n",
       "\n",
       "                              event_time traffic_source  product_id  quantity  \\\n",
       "3       2021-01-16 16:59:24.918402+00:00         MOBILE     20886.0         1   \n",
       "17      2021-07-04 23:46:25.236904+00:00         MOBILE     33822.0         1   \n",
       "18      2021-07-04 23:48:22.236904+00:00         MOBILE     50236.0         1   \n",
       "21      2021-07-04 23:53:48.236904+00:00         MOBILE     54144.0         2   \n",
       "23      2021-07-04 23:57:52.236904+00:00         MOBILE      4021.0         1   \n",
       "...                                  ...            ...         ...       ...   \n",
       "370570  2018-01-10 02:16:19.845153+00:00         MOBILE     36979.0         1   \n",
       "370576  2018-01-10 02:17:24.845153+00:00         MOBILE     27669.0         1   \n",
       "370586  2018-01-10 02:19:46.845153+00:00         MOBILE     12477.0         1   \n",
       "370588  2018-01-10 02:20:11.845153+00:00         MOBILE     48525.0         1   \n",
       "370593  2018-05-24 17:35:57.717870+00:00         MOBILE     49510.0         1   \n",
       "\n",
       "        item_price  payment_status search_keywords  promo_code  promo_amount  \\\n",
       "3           629485             NaN             NaN         NaN           NaN   \n",
       "17          195617             NaN             NaN         NaN           NaN   \n",
       "18          276080             NaN             NaN         NaN           NaN   \n",
       "21          183666             NaN             NaN         NaN           NaN   \n",
       "23          398842             NaN             NaN         NaN           NaN   \n",
       "...            ...             ...             ...         ...           ...   \n",
       "370570      228468             NaN             NaN         NaN           NaN   \n",
       "370576      422820             NaN             NaN         NaN           NaN   \n",
       "370586      424877             NaN             NaN         NaN           NaN   \n",
       "370588      232597             NaN             NaN         NaN           NaN   \n",
       "370593      246498             NaN             NaN         NaN           NaN   \n",
       "\n",
       "        customer_id  quarter old_session booking_id  sales    month  \n",
       "3               NaN      NaN         NaN        NaN    NaN  2021-01  \n",
       "17              NaN      NaN         NaN        NaN    NaN  2021-07  \n",
       "18              NaN      NaN         NaN        NaN    NaN  2021-07  \n",
       "21              NaN      NaN         NaN        NaN    NaN  2021-07  \n",
       "23              NaN      NaN         NaN        NaN    NaN  2021-07  \n",
       "...             ...      ...         ...        ...    ...      ...  \n",
       "370570          NaN      NaN         NaN        NaN    NaN  2018-01  \n",
       "370576          NaN      NaN         NaN        NaN    NaN  2018-01  \n",
       "370586          NaN      NaN         NaN        NaN    NaN  2018-01  \n",
       "370588          NaN      NaN         NaN        NaN    NaN  2018-01  \n",
       "370593          NaN      NaN         NaN        NaN    NaN  2018-05  \n",
       "\n",
       "[42626 rows x 17 columns]"
      ]
     },
     "execution_count": 132,
     "metadata": {},
     "output_type": "execute_result"
    }
   ],
   "source": [
    "missing_booking"
   ]
  }
 ],
 "metadata": {
  "kernelspec": {
   "display_name": "t2project",
   "language": "python",
   "name": "python3"
  },
  "language_info": {
   "codemirror_mode": {
    "name": "ipython",
    "version": 3
   },
   "file_extension": ".py",
   "mimetype": "text/x-python",
   "name": "python",
   "nbconvert_exporter": "python",
   "pygments_lexer": "ipython3",
   "version": "3.8.16"
  },
  "orig_nbformat": 4
 },
 "nbformat": 4,
 "nbformat_minor": 2
}
