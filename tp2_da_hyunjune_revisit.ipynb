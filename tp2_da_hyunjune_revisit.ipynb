{
 "cells": [
  {
   "cell_type": "code",
   "execution_count": 1,
   "metadata": {},
   "outputs": [],
   "source": [
    "import pandas as pd\n",
    "import numpy as np\n",
    "import seaborn as sns\n",
    "import matplotlib.pyplot as plt\n",
    "import datetime\n",
    "import os"
   ]
  },
  {
   "cell_type": "code",
   "execution_count": 2,
   "metadata": {},
   "outputs": [],
   "source": [
    "base_path = os.getcwd()\n",
    "df_buy_split = pd.read_csv(base_path + '/df_buy_split_final.csv')"
   ]
  },
  {
   "cell_type": "code",
   "execution_count": 3,
   "metadata": {},
   "outputs": [],
   "source": [
    "df_n_buy_split = pd.read_csv(base_path + '/df_n_buy_split.csv')"
   ]
  },
  {
   "cell_type": "code",
   "execution_count": 4,
   "metadata": {},
   "outputs": [],
   "source": [
    "df_buy_split = pd.concat([df_buy_split, df_n_buy_split])"
   ]
  },
  {
   "cell_type": "code",
   "execution_count": 5,
   "metadata": {},
   "outputs": [],
   "source": [
    "transaction_new = pd.read_csv(base_path + '/transaction_final.csv')"
   ]
  },
  {
   "cell_type": "code",
   "execution_count": 6,
   "metadata": {},
   "outputs": [],
   "source": [
    "product = pd.read_csv(base_path + '/product_final.csv', skiprows = [6043, 6568, 7398, 7938, 9025, 10263, 10426, 10904, 11372, 11944, 14111, 14531, 15075, 29905, 31624, 33019, 35747, 35961, 37769, 38104, 38274, 38403])"
   ]
  },
  {
   "cell_type": "code",
   "execution_count": 7,
   "metadata": {},
   "outputs": [
    {
     "data": {
      "text/html": [
       "<div>\n",
       "<style scoped>\n",
       "    .dataframe tbody tr th:only-of-type {\n",
       "        vertical-align: middle;\n",
       "    }\n",
       "\n",
       "    .dataframe tbody tr th {\n",
       "        vertical-align: top;\n",
       "    }\n",
       "\n",
       "    .dataframe thead th {\n",
       "        text-align: right;\n",
       "    }\n",
       "</style>\n",
       "<table border=\"1\" class=\"dataframe\">\n",
       "  <thead>\n",
       "    <tr style=\"text-align: right;\">\n",
       "      <th></th>\n",
       "      <th>customer_id</th>\n",
       "      <th>booking_id</th>\n",
       "      <th>sales</th>\n",
       "    </tr>\n",
       "  </thead>\n",
       "  <tbody>\n",
       "    <tr>\n",
       "      <th>0</th>\n",
       "      <td>3</td>\n",
       "      <td>0b3f17a4-f733-4eac-b9e9-37c039746e95</td>\n",
       "      <td>174717</td>\n",
       "    </tr>\n",
       "    <tr>\n",
       "      <th>1</th>\n",
       "      <td>3</td>\n",
       "      <td>0fb5a9e6-f306-4c37-b7f0-992bc78064a7</td>\n",
       "      <td>189939</td>\n",
       "    </tr>\n",
       "    <tr>\n",
       "      <th>2</th>\n",
       "      <td>3</td>\n",
       "      <td>1229bd35-7747-447a-a60b-02860bf7da7e</td>\n",
       "      <td>287523</td>\n",
       "    </tr>\n",
       "    <tr>\n",
       "      <th>3</th>\n",
       "      <td>3</td>\n",
       "      <td>163e447d-f2c2-4fac-b8a1-015eb01afd41</td>\n",
       "      <td>359032</td>\n",
       "    </tr>\n",
       "    <tr>\n",
       "      <th>4</th>\n",
       "      <td>3</td>\n",
       "      <td>182774df-3cde-46cf-b302-4d93e0d94288</td>\n",
       "      <td>200436</td>\n",
       "    </tr>\n",
       "  </tbody>\n",
       "</table>\n",
       "</div>"
      ],
      "text/plain": [
       "   customer_id                            booking_id   sales\n",
       "0            3  0b3f17a4-f733-4eac-b9e9-37c039746e95  174717\n",
       "1            3  0fb5a9e6-f306-4c37-b7f0-992bc78064a7  189939\n",
       "2            3  1229bd35-7747-447a-a60b-02860bf7da7e  287523\n",
       "3            3  163e447d-f2c2-4fac-b8a1-015eb01afd41  359032\n",
       "4            3  182774df-3cde-46cf-b302-4d93e0d94288  200436"
      ]
     },
     "execution_count": 7,
     "metadata": {},
     "output_type": "execute_result"
    }
   ],
   "source": [
    "sales = pd.read_csv(base_path + '/sales.csv')\n",
    "sales.head()"
   ]
  },
  {
   "cell_type": "code",
   "execution_count": 8,
   "metadata": {},
   "outputs": [
    {
     "name": "stdout",
     "output_type": "stream",
     "text": [
      "<class 'pandas.core.frame.DataFrame'>\n",
      "Int64Index: 12833602 entries, 0 to 370597\n",
      "Data columns (total 17 columns):\n",
      " #   Column           Dtype  \n",
      "---  ------           -----  \n",
      " 0   session_id       object \n",
      " 1   event_name       object \n",
      " 2   event_time       object \n",
      " 3   traffic_source   object \n",
      " 4   product_id       float64\n",
      " 5   quantity         int64  \n",
      " 6   item_price       int64  \n",
      " 7   payment_status   float64\n",
      " 8   search_keywords  object \n",
      " 9   promo_code       float64\n",
      " 10  promo_amount     float64\n",
      " 11  customer_id      float64\n",
      " 12  quarter          float64\n",
      " 13  old_session      object \n",
      " 14  booking_id       object \n",
      " 15  sales            float64\n",
      " 16  month            object \n",
      "dtypes: float64(7), int64(2), object(8)\n",
      "memory usage: 1.7+ GB\n"
     ]
    }
   ],
   "source": [
    "df_buy_split.info()"
   ]
  },
  {
   "cell_type": "code",
   "execution_count": 9,
   "metadata": {},
   "outputs": [
    {
     "data": {
      "text/plain": [
       "session_id                0\n",
       "event_name                0\n",
       "event_time                0\n",
       "traffic_source            0\n",
       "product_id         10896445\n",
       "quantity                  0\n",
       "item_price                0\n",
       "payment_status     11981020\n",
       "search_keywords    11660336\n",
       "promo_code           370598\n",
       "promo_amount         370598\n",
       "customer_id          370598\n",
       "quarter             1980696\n",
       "old_session          370598\n",
       "booking_id         10763683\n",
       "sales                370598\n",
       "month                370598\n",
       "dtype: int64"
      ]
     },
     "execution_count": 9,
     "metadata": {},
     "output_type": "execute_result"
    }
   ],
   "source": [
    "df_buy_split.isnull().sum()"
   ]
  },
  {
   "cell_type": "code",
   "execution_count": 10,
   "metadata": {},
   "outputs": [
    {
     "data": {
      "text/html": [
       "<div>\n",
       "<style scoped>\n",
       "    .dataframe tbody tr th:only-of-type {\n",
       "        vertical-align: middle;\n",
       "    }\n",
       "\n",
       "    .dataframe tbody tr th {\n",
       "        vertical-align: top;\n",
       "    }\n",
       "\n",
       "    .dataframe thead th {\n",
       "        text-align: right;\n",
       "    }\n",
       "</style>\n",
       "<table border=\"1\" class=\"dataframe\">\n",
       "  <thead>\n",
       "    <tr style=\"text-align: right;\">\n",
       "      <th></th>\n",
       "      <th>session_id</th>\n",
       "      <th>event_name</th>\n",
       "      <th>event_time</th>\n",
       "      <th>traffic_source</th>\n",
       "      <th>product_id</th>\n",
       "      <th>quantity</th>\n",
       "      <th>item_price</th>\n",
       "      <th>payment_status</th>\n",
       "      <th>search_keywords</th>\n",
       "      <th>promo_code</th>\n",
       "      <th>promo_amount</th>\n",
       "      <th>customer_id</th>\n",
       "      <th>quarter</th>\n",
       "      <th>old_session</th>\n",
       "      <th>booking_id</th>\n",
       "      <th>sales</th>\n",
       "      <th>month</th>\n",
       "    </tr>\n",
       "  </thead>\n",
       "  <tbody>\n",
       "    <tr>\n",
       "      <th>0</th>\n",
       "      <td>f03b6825-1e6e-4916-bf71-f94ecbcbaee5</td>\n",
       "      <td>HOMEPAGE</td>\n",
       "      <td>2018-08-25 18:53:48.906490+00:00</td>\n",
       "      <td>MOBILE</td>\n",
       "      <td>NaN</td>\n",
       "      <td>0</td>\n",
       "      <td>0</td>\n",
       "      <td>NaN</td>\n",
       "      <td>NaN</td>\n",
       "      <td>0.0</td>\n",
       "      <td>0.0</td>\n",
       "      <td>3.0</td>\n",
       "      <td>NaN</td>\n",
       "      <td>f03b6825-1e6e-4916-bf71-f94ecbcbaee5</td>\n",
       "      <td>856b0c3d-b076-406b-be11-3dfee762e9be</td>\n",
       "      <td>826597.0</td>\n",
       "      <td>2018-08</td>\n",
       "    </tr>\n",
       "    <tr>\n",
       "      <th>1</th>\n",
       "      <td>f03b6825-1e6e-4916-bf71-f94ecbcbaee5</td>\n",
       "      <td>CLICK</td>\n",
       "      <td>2018-08-25 18:53:51.906490+00:00</td>\n",
       "      <td>MOBILE</td>\n",
       "      <td>NaN</td>\n",
       "      <td>0</td>\n",
       "      <td>0</td>\n",
       "      <td>NaN</td>\n",
       "      <td>NaN</td>\n",
       "      <td>0.0</td>\n",
       "      <td>0.0</td>\n",
       "      <td>3.0</td>\n",
       "      <td>NaN</td>\n",
       "      <td>f03b6825-1e6e-4916-bf71-f94ecbcbaee5</td>\n",
       "      <td>856b0c3d-b076-406b-be11-3dfee762e9be</td>\n",
       "      <td>826597.0</td>\n",
       "      <td>2018-08</td>\n",
       "    </tr>\n",
       "    <tr>\n",
       "      <th>2</th>\n",
       "      <td>f03b6825-1e6e-4916-bf71-f94ecbcbaee5</td>\n",
       "      <td>ADD_TO_CART</td>\n",
       "      <td>2018-08-25 18:53:53.906490+00:00</td>\n",
       "      <td>MOBILE</td>\n",
       "      <td>33350.0</td>\n",
       "      <td>1</td>\n",
       "      <td>318832</td>\n",
       "      <td>NaN</td>\n",
       "      <td>NaN</td>\n",
       "      <td>0.0</td>\n",
       "      <td>0.0</td>\n",
       "      <td>3.0</td>\n",
       "      <td>NaN</td>\n",
       "      <td>f03b6825-1e6e-4916-bf71-f94ecbcbaee5</td>\n",
       "      <td>856b0c3d-b076-406b-be11-3dfee762e9be</td>\n",
       "      <td>826597.0</td>\n",
       "      <td>2018-08</td>\n",
       "    </tr>\n",
       "    <tr>\n",
       "      <th>3</th>\n",
       "      <td>f03b6825-1e6e-4916-bf71-f94ecbcbaee5</td>\n",
       "      <td>ADD_TO_CART</td>\n",
       "      <td>2018-08-25 18:53:54.906490+00:00</td>\n",
       "      <td>MOBILE</td>\n",
       "      <td>56019.0</td>\n",
       "      <td>5</td>\n",
       "      <td>166934</td>\n",
       "      <td>NaN</td>\n",
       "      <td>NaN</td>\n",
       "      <td>0.0</td>\n",
       "      <td>0.0</td>\n",
       "      <td>3.0</td>\n",
       "      <td>NaN</td>\n",
       "      <td>f03b6825-1e6e-4916-bf71-f94ecbcbaee5</td>\n",
       "      <td>856b0c3d-b076-406b-be11-3dfee762e9be</td>\n",
       "      <td>826597.0</td>\n",
       "      <td>2018-08</td>\n",
       "    </tr>\n",
       "    <tr>\n",
       "      <th>4</th>\n",
       "      <td>f03b6825-1e6e-4916-bf71-f94ecbcbaee5</td>\n",
       "      <td>CLICK</td>\n",
       "      <td>2018-08-25 18:53:55.906490+00:00</td>\n",
       "      <td>MOBILE</td>\n",
       "      <td>NaN</td>\n",
       "      <td>0</td>\n",
       "      <td>0</td>\n",
       "      <td>NaN</td>\n",
       "      <td>NaN</td>\n",
       "      <td>0.0</td>\n",
       "      <td>0.0</td>\n",
       "      <td>3.0</td>\n",
       "      <td>NaN</td>\n",
       "      <td>f03b6825-1e6e-4916-bf71-f94ecbcbaee5</td>\n",
       "      <td>856b0c3d-b076-406b-be11-3dfee762e9be</td>\n",
       "      <td>826597.0</td>\n",
       "      <td>2018-08</td>\n",
       "    </tr>\n",
       "  </tbody>\n",
       "</table>\n",
       "</div>"
      ],
      "text/plain": [
       "                             session_id   event_name  \\\n",
       "0  f03b6825-1e6e-4916-bf71-f94ecbcbaee5     HOMEPAGE   \n",
       "1  f03b6825-1e6e-4916-bf71-f94ecbcbaee5        CLICK   \n",
       "2  f03b6825-1e6e-4916-bf71-f94ecbcbaee5  ADD_TO_CART   \n",
       "3  f03b6825-1e6e-4916-bf71-f94ecbcbaee5  ADD_TO_CART   \n",
       "4  f03b6825-1e6e-4916-bf71-f94ecbcbaee5        CLICK   \n",
       "\n",
       "                         event_time traffic_source  product_id  quantity  \\\n",
       "0  2018-08-25 18:53:48.906490+00:00         MOBILE         NaN         0   \n",
       "1  2018-08-25 18:53:51.906490+00:00         MOBILE         NaN         0   \n",
       "2  2018-08-25 18:53:53.906490+00:00         MOBILE     33350.0         1   \n",
       "3  2018-08-25 18:53:54.906490+00:00         MOBILE     56019.0         5   \n",
       "4  2018-08-25 18:53:55.906490+00:00         MOBILE         NaN         0   \n",
       "\n",
       "   item_price  payment_status search_keywords  promo_code  promo_amount  \\\n",
       "0           0             NaN             NaN         0.0           0.0   \n",
       "1           0             NaN             NaN         0.0           0.0   \n",
       "2      318832             NaN             NaN         0.0           0.0   \n",
       "3      166934             NaN             NaN         0.0           0.0   \n",
       "4           0             NaN             NaN         0.0           0.0   \n",
       "\n",
       "   customer_id  quarter                           old_session  \\\n",
       "0          3.0      NaN  f03b6825-1e6e-4916-bf71-f94ecbcbaee5   \n",
       "1          3.0      NaN  f03b6825-1e6e-4916-bf71-f94ecbcbaee5   \n",
       "2          3.0      NaN  f03b6825-1e6e-4916-bf71-f94ecbcbaee5   \n",
       "3          3.0      NaN  f03b6825-1e6e-4916-bf71-f94ecbcbaee5   \n",
       "4          3.0      NaN  f03b6825-1e6e-4916-bf71-f94ecbcbaee5   \n",
       "\n",
       "                             booking_id     sales    month  \n",
       "0  856b0c3d-b076-406b-be11-3dfee762e9be  826597.0  2018-08  \n",
       "1  856b0c3d-b076-406b-be11-3dfee762e9be  826597.0  2018-08  \n",
       "2  856b0c3d-b076-406b-be11-3dfee762e9be  826597.0  2018-08  \n",
       "3  856b0c3d-b076-406b-be11-3dfee762e9be  826597.0  2018-08  \n",
       "4  856b0c3d-b076-406b-be11-3dfee762e9be  826597.0  2018-08  "
      ]
     },
     "execution_count": 10,
     "metadata": {},
     "output_type": "execute_result"
    }
   ],
   "source": [
    "df_buy_split.head()"
   ]
  },
  {
   "cell_type": "code",
   "execution_count": 11,
   "metadata": {},
   "outputs": [
    {
     "data": {
      "text/html": [
       "<div>\n",
       "<style scoped>\n",
       "    .dataframe tbody tr th:only-of-type {\n",
       "        vertical-align: middle;\n",
       "    }\n",
       "\n",
       "    .dataframe tbody tr th {\n",
       "        vertical-align: top;\n",
       "    }\n",
       "\n",
       "    .dataframe thead th {\n",
       "        text-align: right;\n",
       "    }\n",
       "</style>\n",
       "<table border=\"1\" class=\"dataframe\">\n",
       "  <thead>\n",
       "    <tr style=\"text-align: right;\">\n",
       "      <th></th>\n",
       "      <th>session_id</th>\n",
       "      <th>event_name</th>\n",
       "      <th>event_time</th>\n",
       "      <th>traffic_source</th>\n",
       "      <th>product_id</th>\n",
       "      <th>quantity</th>\n",
       "      <th>item_price</th>\n",
       "      <th>payment_status</th>\n",
       "      <th>search_keywords</th>\n",
       "      <th>promo_code</th>\n",
       "      <th>promo_amount</th>\n",
       "      <th>customer_id</th>\n",
       "      <th>quarter</th>\n",
       "      <th>old_session</th>\n",
       "      <th>booking_id</th>\n",
       "      <th>sales</th>\n",
       "      <th>month</th>\n",
       "    </tr>\n",
       "  </thead>\n",
       "  <tbody>\n",
       "    <tr>\n",
       "      <th>0</th>\n",
       "      <td>f03b6825-1e6e-4916-bf71-f94ecbcbaee5</td>\n",
       "      <td>HOMEPAGE</td>\n",
       "      <td>2018-08-25 18:53:48.906490+00:00</td>\n",
       "      <td>MOBILE</td>\n",
       "      <td>NaN</td>\n",
       "      <td>0</td>\n",
       "      <td>0</td>\n",
       "      <td>NaN</td>\n",
       "      <td>NaN</td>\n",
       "      <td>0.0</td>\n",
       "      <td>0.0</td>\n",
       "      <td>3.0</td>\n",
       "      <td>NaN</td>\n",
       "      <td>f03b6825-1e6e-4916-bf71-f94ecbcbaee5</td>\n",
       "      <td>856b0c3d-b076-406b-be11-3dfee762e9be</td>\n",
       "      <td>826597.0</td>\n",
       "      <td>2018-08</td>\n",
       "    </tr>\n",
       "    <tr>\n",
       "      <th>1</th>\n",
       "      <td>f03b6825-1e6e-4916-bf71-f94ecbcbaee5</td>\n",
       "      <td>CLICK</td>\n",
       "      <td>2018-08-25 18:53:51.906490+00:00</td>\n",
       "      <td>MOBILE</td>\n",
       "      <td>NaN</td>\n",
       "      <td>0</td>\n",
       "      <td>0</td>\n",
       "      <td>NaN</td>\n",
       "      <td>NaN</td>\n",
       "      <td>0.0</td>\n",
       "      <td>0.0</td>\n",
       "      <td>3.0</td>\n",
       "      <td>NaN</td>\n",
       "      <td>f03b6825-1e6e-4916-bf71-f94ecbcbaee5</td>\n",
       "      <td>856b0c3d-b076-406b-be11-3dfee762e9be</td>\n",
       "      <td>826597.0</td>\n",
       "      <td>2018-08</td>\n",
       "    </tr>\n",
       "    <tr>\n",
       "      <th>2</th>\n",
       "      <td>f03b6825-1e6e-4916-bf71-f94ecbcbaee5</td>\n",
       "      <td>ADD_TO_CART</td>\n",
       "      <td>2018-08-25 18:53:53.906490+00:00</td>\n",
       "      <td>MOBILE</td>\n",
       "      <td>33350.0</td>\n",
       "      <td>1</td>\n",
       "      <td>318832</td>\n",
       "      <td>NaN</td>\n",
       "      <td>NaN</td>\n",
       "      <td>0.0</td>\n",
       "      <td>0.0</td>\n",
       "      <td>3.0</td>\n",
       "      <td>NaN</td>\n",
       "      <td>f03b6825-1e6e-4916-bf71-f94ecbcbaee5</td>\n",
       "      <td>856b0c3d-b076-406b-be11-3dfee762e9be</td>\n",
       "      <td>826597.0</td>\n",
       "      <td>2018-08</td>\n",
       "    </tr>\n",
       "    <tr>\n",
       "      <th>3</th>\n",
       "      <td>f03b6825-1e6e-4916-bf71-f94ecbcbaee5</td>\n",
       "      <td>ADD_TO_CART</td>\n",
       "      <td>2018-08-25 18:53:54.906490+00:00</td>\n",
       "      <td>MOBILE</td>\n",
       "      <td>56019.0</td>\n",
       "      <td>5</td>\n",
       "      <td>166934</td>\n",
       "      <td>NaN</td>\n",
       "      <td>NaN</td>\n",
       "      <td>0.0</td>\n",
       "      <td>0.0</td>\n",
       "      <td>3.0</td>\n",
       "      <td>NaN</td>\n",
       "      <td>f03b6825-1e6e-4916-bf71-f94ecbcbaee5</td>\n",
       "      <td>856b0c3d-b076-406b-be11-3dfee762e9be</td>\n",
       "      <td>826597.0</td>\n",
       "      <td>2018-08</td>\n",
       "    </tr>\n",
       "    <tr>\n",
       "      <th>4</th>\n",
       "      <td>f03b6825-1e6e-4916-bf71-f94ecbcbaee5</td>\n",
       "      <td>CLICK</td>\n",
       "      <td>2018-08-25 18:53:55.906490+00:00</td>\n",
       "      <td>MOBILE</td>\n",
       "      <td>NaN</td>\n",
       "      <td>0</td>\n",
       "      <td>0</td>\n",
       "      <td>NaN</td>\n",
       "      <td>NaN</td>\n",
       "      <td>0.0</td>\n",
       "      <td>0.0</td>\n",
       "      <td>3.0</td>\n",
       "      <td>NaN</td>\n",
       "      <td>f03b6825-1e6e-4916-bf71-f94ecbcbaee5</td>\n",
       "      <td>856b0c3d-b076-406b-be11-3dfee762e9be</td>\n",
       "      <td>826597.0</td>\n",
       "      <td>2018-08</td>\n",
       "    </tr>\n",
       "  </tbody>\n",
       "</table>\n",
       "</div>"
      ],
      "text/plain": [
       "                             session_id   event_name  \\\n",
       "0  f03b6825-1e6e-4916-bf71-f94ecbcbaee5     HOMEPAGE   \n",
       "1  f03b6825-1e6e-4916-bf71-f94ecbcbaee5        CLICK   \n",
       "2  f03b6825-1e6e-4916-bf71-f94ecbcbaee5  ADD_TO_CART   \n",
       "3  f03b6825-1e6e-4916-bf71-f94ecbcbaee5  ADD_TO_CART   \n",
       "4  f03b6825-1e6e-4916-bf71-f94ecbcbaee5        CLICK   \n",
       "\n",
       "                         event_time traffic_source  product_id  quantity  \\\n",
       "0  2018-08-25 18:53:48.906490+00:00         MOBILE         NaN         0   \n",
       "1  2018-08-25 18:53:51.906490+00:00         MOBILE         NaN         0   \n",
       "2  2018-08-25 18:53:53.906490+00:00         MOBILE     33350.0         1   \n",
       "3  2018-08-25 18:53:54.906490+00:00         MOBILE     56019.0         5   \n",
       "4  2018-08-25 18:53:55.906490+00:00         MOBILE         NaN         0   \n",
       "\n",
       "   item_price  payment_status search_keywords  promo_code  promo_amount  \\\n",
       "0           0             NaN             NaN         0.0           0.0   \n",
       "1           0             NaN             NaN         0.0           0.0   \n",
       "2      318832             NaN             NaN         0.0           0.0   \n",
       "3      166934             NaN             NaN         0.0           0.0   \n",
       "4           0             NaN             NaN         0.0           0.0   \n",
       "\n",
       "   customer_id  quarter                           old_session  \\\n",
       "0          3.0      NaN  f03b6825-1e6e-4916-bf71-f94ecbcbaee5   \n",
       "1          3.0      NaN  f03b6825-1e6e-4916-bf71-f94ecbcbaee5   \n",
       "2          3.0      NaN  f03b6825-1e6e-4916-bf71-f94ecbcbaee5   \n",
       "3          3.0      NaN  f03b6825-1e6e-4916-bf71-f94ecbcbaee5   \n",
       "4          3.0      NaN  f03b6825-1e6e-4916-bf71-f94ecbcbaee5   \n",
       "\n",
       "                             booking_id     sales    month  \n",
       "0  856b0c3d-b076-406b-be11-3dfee762e9be  826597.0  2018-08  \n",
       "1  856b0c3d-b076-406b-be11-3dfee762e9be  826597.0  2018-08  \n",
       "2  856b0c3d-b076-406b-be11-3dfee762e9be  826597.0  2018-08  \n",
       "3  856b0c3d-b076-406b-be11-3dfee762e9be  826597.0  2018-08  \n",
       "4  856b0c3d-b076-406b-be11-3dfee762e9be  826597.0  2018-08  "
      ]
     },
     "execution_count": 11,
     "metadata": {},
     "output_type": "execute_result"
    }
   ],
   "source": [
    "df_buy_split.sort_values(by=['customer_id', 'event_time'], inplace=True)\n",
    "df_buy_split.head()"
   ]
  },
  {
   "cell_type": "code",
   "execution_count": 12,
   "metadata": {},
   "outputs": [
    {
     "data": {
      "text/plain": [
       "array(['36673b2f-940a-42b5-994d-1cce4796b55f',\n",
       "       '36673b2f-940a-42b5-994d-1cce4796b55f_0',\n",
       "       '36673b2f-940a-42b5-994d-1cce4796b55f_1', ...,\n",
       "       'f49a7504-1ae0-4a92-abf6-dfd4488b4956_0',\n",
       "       '2b485a58-f1df-4f84-9875-86fad901e79b_0',\n",
       "       '3df21989-09b7-46da-9421-67d774bd9adf_2'], dtype=object)"
      ]
     },
     "execution_count": 12,
     "metadata": {},
     "output_type": "execute_result"
    }
   ],
   "source": [
    "booking_session_id = df_buy_split[df_buy_split.event_name == 'BOOKING'].session_id.unique()\n",
    "no_booking_session_id = df_buy_split[~df_buy_split.session_id.isin(booking_session_id)].session_id.unique()\n",
    "no_booking_session_id"
   ]
  },
  {
   "cell_type": "code",
   "execution_count": 13,
   "metadata": {},
   "outputs": [],
   "source": [
    "df_buy_split.loc[df_buy_split.session_id.isin(no_booking_session_id), 'booking_id'] = np.NaN"
   ]
  },
  {
   "cell_type": "code",
   "execution_count": 14,
   "metadata": {},
   "outputs": [
    {
     "data": {
      "text/plain": [
       "10763683"
      ]
     },
     "execution_count": 14,
     "metadata": {},
     "output_type": "execute_result"
    }
   ],
   "source": [
    "df_buy_split.booking_id.isnull().sum()"
   ]
  },
  {
   "attachments": {},
   "cell_type": "markdown",
   "metadata": {},
   "source": [
    "# 방문의 영향력 파악"
   ]
  },
  {
   "attachments": {},
   "cell_type": "markdown",
   "metadata": {},
   "source": [
    "## 1. 구매자 중 첫 방문 구매 비율"
   ]
  },
  {
   "cell_type": "code",
   "execution_count": 15,
   "metadata": {},
   "outputs": [
    {
     "data": {
      "text/plain": [
       "customer_id\n",
       "3.0       f03b6825-1e6e-4916-bf71-f94ecbcbaee5\n",
       "8.0     cb2e3df3-6342-43e2-be2b-f19c79e92a1e-1\n",
       "9.0     f23e77b3-d85c-4468-ada0-9f7fb9defe1e-2\n",
       "11.0    5f20fb20-8e35-4e30-a9d9-fc6a07d7835c-1\n",
       "15.0    fe015013-09fd-4218-ab69-cb18706e63a7-3\n",
       "Name: session_id, dtype: object"
      ]
     },
     "execution_count": 15,
     "metadata": {},
     "output_type": "execute_result"
    }
   ],
   "source": [
    "# df_buy_split.groupby(['customer_id', 'session_id'])\n",
    "first_session_id = df_buy_split.groupby('customer_id').first()['session_id']\n",
    "first_session_id.head()"
   ]
  },
  {
   "cell_type": "code",
   "execution_count": 16,
   "metadata": {},
   "outputs": [
    {
     "data": {
      "text/html": [
       "<div>\n",
       "<style scoped>\n",
       "    .dataframe tbody tr th:only-of-type {\n",
       "        vertical-align: middle;\n",
       "    }\n",
       "\n",
       "    .dataframe tbody tr th {\n",
       "        vertical-align: top;\n",
       "    }\n",
       "\n",
       "    .dataframe thead th {\n",
       "        text-align: right;\n",
       "    }\n",
       "</style>\n",
       "<table border=\"1\" class=\"dataframe\">\n",
       "  <thead>\n",
       "    <tr style=\"text-align: right;\">\n",
       "      <th></th>\n",
       "      <th>session_id</th>\n",
       "      <th>event_name</th>\n",
       "    </tr>\n",
       "  </thead>\n",
       "  <tbody>\n",
       "    <tr>\n",
       "      <th>0</th>\n",
       "      <td>f03b6825-1e6e-4916-bf71-f94ecbcbaee5</td>\n",
       "      <td>HOMEPAGE</td>\n",
       "    </tr>\n",
       "    <tr>\n",
       "      <th>1</th>\n",
       "      <td>f03b6825-1e6e-4916-bf71-f94ecbcbaee5</td>\n",
       "      <td>CLICK</td>\n",
       "    </tr>\n",
       "    <tr>\n",
       "      <th>2</th>\n",
       "      <td>f03b6825-1e6e-4916-bf71-f94ecbcbaee5</td>\n",
       "      <td>ADD_TO_CART</td>\n",
       "    </tr>\n",
       "    <tr>\n",
       "      <th>3</th>\n",
       "      <td>f03b6825-1e6e-4916-bf71-f94ecbcbaee5</td>\n",
       "      <td>ADD_TO_CART</td>\n",
       "    </tr>\n",
       "    <tr>\n",
       "      <th>4</th>\n",
       "      <td>f03b6825-1e6e-4916-bf71-f94ecbcbaee5</td>\n",
       "      <td>CLICK</td>\n",
       "    </tr>\n",
       "  </tbody>\n",
       "</table>\n",
       "</div>"
      ],
      "text/plain": [
       "                             session_id   event_name\n",
       "0  f03b6825-1e6e-4916-bf71-f94ecbcbaee5     HOMEPAGE\n",
       "1  f03b6825-1e6e-4916-bf71-f94ecbcbaee5        CLICK\n",
       "2  f03b6825-1e6e-4916-bf71-f94ecbcbaee5  ADD_TO_CART\n",
       "3  f03b6825-1e6e-4916-bf71-f94ecbcbaee5  ADD_TO_CART\n",
       "4  f03b6825-1e6e-4916-bf71-f94ecbcbaee5        CLICK"
      ]
     },
     "execution_count": 16,
     "metadata": {},
     "output_type": "execute_result"
    }
   ],
   "source": [
    "# 구매회원 첫 session_id에서 한 행동 모음\n",
    "first_session = df_buy_split[df_buy_split['session_id'].isin(first_session_id)][['session_id', 'event_name']]\n",
    "first_session.head()"
   ]
  },
  {
   "cell_type": "code",
   "execution_count": 17,
   "metadata": {},
   "outputs": [],
   "source": [
    "# 구매회원이 첫 session_id에서 구매했는지 여부\n",
    "first_buy_session = first_session.groupby('session_id').apply(lambda x: x.isin(['BOOKING']).any())"
   ]
  },
  {
   "cell_type": "code",
   "execution_count": 18,
   "metadata": {},
   "outputs": [],
   "source": [
    "num_first_buy_session = first_session.groupby('session_id')['event_name'].apply(lambda x: x.isin(['BOOKING']).any()).sum()\n",
    "num_first_add_to_cart_session = first_session.groupby('session_id')['event_name'].apply(lambda x: x.isin(['ADD_TO_CART']).any()).sum()"
   ]
  },
  {
   "cell_type": "code",
   "execution_count": 19,
   "metadata": {},
   "outputs": [
    {
     "name": "stdout",
     "output_type": "stream",
     "text": [
      "구매자 중 첫 세션에서 구매를 한 비율: 95.07%\n",
      "구매자 중 첫 세션에서 장바구니까지 넣은 비율: 99.92%\n"
     ]
    }
   ],
   "source": [
    "print(f'구매자 중 첫 세션에서 구매를 한 비율: {round(num_first_buy_session / df_buy_split.customer_id.nunique() * 100, 2)}%')\n",
    "print(f'구매자 중 첫 세션에서 장바구니까지 넣은 비율: {round(num_first_add_to_cart_session / df_buy_split.customer_id.nunique() * 100, 2)}%')"
   ]
  },
  {
   "attachments": {},
   "cell_type": "markdown",
   "metadata": {},
   "source": [
    "## 2. 방문횟수별 그룹 분석"
   ]
  },
  {
   "attachments": {},
   "cell_type": "markdown",
   "metadata": {},
   "source": [
    "### 결론 : 방문횟수가 많은 그룹일수록 구매 전환률이 낮다."
   ]
  },
  {
   "cell_type": "code",
   "execution_count": 20,
   "metadata": {},
   "outputs": [
    {
     "data": {
      "text/plain": [
       "customer_id\n",
       "3.0        566\n",
       "8.0        188\n",
       "9.0         41\n",
       "11.0         1\n",
       "15.0        40\n",
       "          ... \n",
       "99992.0     63\n",
       "99995.0    727\n",
       "99997.0      1\n",
       "99998.0    329\n",
       "99999.0      1\n",
       "Name: session_id, Length: 50704, dtype: int64"
      ]
     },
     "execution_count": 20,
     "metadata": {},
     "output_type": "execute_result"
    }
   ],
   "source": [
    "# 방문횟수별 그룹 나누기\n",
    "customer_session = df_buy_split.groupby('customer_id')['session_id'].nunique()\n",
    "customer_session"
   ]
  },
  {
   "cell_type": "code",
   "execution_count": 21,
   "metadata": {},
   "outputs": [
    {
     "data": {
      "text/plain": [
       "count    50704.000000\n",
       "mean       183.786388\n",
       "std        351.879678\n",
       "min          1.000000\n",
       "25%          8.000000\n",
       "50%         49.000000\n",
       "75%        190.000000\n",
       "max       6456.000000\n",
       "Name: session_id, dtype: float64"
      ]
     },
     "execution_count": 21,
     "metadata": {},
     "output_type": "execute_result"
    }
   ],
   "source": [
    "customer_session.describe()"
   ]
  },
  {
   "cell_type": "code",
   "execution_count": 22,
   "metadata": {},
   "outputs": [
    {
     "data": {
      "text/plain": [
       "0.3079421260933131"
      ]
     },
     "execution_count": 22,
     "metadata": {},
     "output_type": "execute_result"
    }
   ],
   "source": [
    "(df_buy_split.groupby('customer_id').booking_id.nunique() / df_buy_split.groupby('customer_id').session_id.nunique()).mean()"
   ]
  },
  {
   "cell_type": "code",
   "execution_count": 23,
   "metadata": {},
   "outputs": [],
   "source": [
    "visit_CVR_dict = {'num_visit':[], 'CVR_mean':[]}\n",
    "for num_visit in sorted(customer_session.unique()):\n",
    "    target_id = customer_session[customer_session == num_visit].index\n",
    "    target_info = df_buy_split[df_buy_split.customer_id.isin(target_id)].groupby('customer_id')\n",
    "\n",
    "    # 방문 횟수\n",
    "    visit_CVR_dict['num_visit'].append(num_visit)\n",
    "\n",
    "    # 구매전환율 평균\n",
    "    visit_CVR_dict['CVR_mean'].append((target_info.booking_id.nunique() / target_info.session_id.nunique()).mean())"
   ]
  },
  {
   "cell_type": "code",
   "execution_count": 24,
   "metadata": {},
   "outputs": [
    {
     "data": {
      "text/html": [
       "<div>\n",
       "<style scoped>\n",
       "    .dataframe tbody tr th:only-of-type {\n",
       "        vertical-align: middle;\n",
       "    }\n",
       "\n",
       "    .dataframe tbody tr th {\n",
       "        vertical-align: top;\n",
       "    }\n",
       "\n",
       "    .dataframe thead th {\n",
       "        text-align: right;\n",
       "    }\n",
       "</style>\n",
       "<table border=\"1\" class=\"dataframe\">\n",
       "  <thead>\n",
       "    <tr style=\"text-align: right;\">\n",
       "      <th></th>\n",
       "      <th>num_visit</th>\n",
       "      <th>CVR_mean</th>\n",
       "    </tr>\n",
       "  </thead>\n",
       "  <tbody>\n",
       "    <tr>\n",
       "      <th>1</th>\n",
       "      <td>2</td>\n",
       "      <td>0.524660</td>\n",
       "    </tr>\n",
       "    <tr>\n",
       "      <th>2</th>\n",
       "      <td>3</td>\n",
       "      <td>0.615385</td>\n",
       "    </tr>\n",
       "    <tr>\n",
       "      <th>3</th>\n",
       "      <td>4</td>\n",
       "      <td>0.504945</td>\n",
       "    </tr>\n",
       "    <tr>\n",
       "      <th>4</th>\n",
       "      <td>5</td>\n",
       "      <td>0.402789</td>\n",
       "    </tr>\n",
       "    <tr>\n",
       "      <th>5</th>\n",
       "      <td>6</td>\n",
       "      <td>0.345622</td>\n",
       "    </tr>\n",
       "    <tr>\n",
       "      <th>...</th>\n",
       "      <td>...</td>\n",
       "      <td>...</td>\n",
       "    </tr>\n",
       "    <tr>\n",
       "      <th>2001</th>\n",
       "      <td>4579</td>\n",
       "      <td>0.095217</td>\n",
       "    </tr>\n",
       "    <tr>\n",
       "      <th>2002</th>\n",
       "      <td>4749</td>\n",
       "      <td>0.083597</td>\n",
       "    </tr>\n",
       "    <tr>\n",
       "      <th>2003</th>\n",
       "      <td>5041</td>\n",
       "      <td>0.093831</td>\n",
       "    </tr>\n",
       "    <tr>\n",
       "      <th>2004</th>\n",
       "      <td>5516</td>\n",
       "      <td>0.091189</td>\n",
       "    </tr>\n",
       "    <tr>\n",
       "      <th>2005</th>\n",
       "      <td>6456</td>\n",
       "      <td>0.085192</td>\n",
       "    </tr>\n",
       "  </tbody>\n",
       "</table>\n",
       "<p>2005 rows × 2 columns</p>\n",
       "</div>"
      ],
      "text/plain": [
       "      num_visit  CVR_mean\n",
       "1             2  0.524660\n",
       "2             3  0.615385\n",
       "3             4  0.504945\n",
       "4             5  0.402789\n",
       "5             6  0.345622\n",
       "...         ...       ...\n",
       "2001       4579  0.095217\n",
       "2002       4749  0.083597\n",
       "2003       5041  0.093831\n",
       "2004       5516  0.091189\n",
       "2005       6456  0.085192\n",
       "\n",
       "[2005 rows x 2 columns]"
      ]
     },
     "execution_count": 24,
     "metadata": {},
     "output_type": "execute_result"
    }
   ],
   "source": [
    "visit_CVR = pd.DataFrame(visit_CVR_dict)\n",
    "visit_CVR.reset_index(drop = True, inplace = True)\n",
    "visit_CVR = visit_CVR[visit_CVR.num_visit >= 2]\n",
    "visit_CVR\n"
   ]
  },
  {
   "cell_type": "code",
   "execution_count": 25,
   "metadata": {},
   "outputs": [
    {
     "data": {
      "text/plain": [
       "<Axes: xlabel='num_visit', ylabel='CVR_mean'>"
      ]
     },
     "execution_count": 25,
     "metadata": {},
     "output_type": "execute_result"
    },
    {
     "data": {
      "image/png": "[encoded data removed]",
      "text/plain": [
       "<Figure size 640x480 with 1 Axes>"
      ]
     },
     "metadata": {},
     "output_type": "display_data"
    }
   ],
   "source": [
    "sns.lineplot(visit_CVR, x='num_visit', y='CVR_mean')"
   ]
  },
  {
   "cell_type": "code",
   "execution_count": 26,
   "metadata": {},
   "outputs": [
    {
     "data": {
      "text/plain": [
       "count    50704.000000\n",
       "mean       183.786388\n",
       "std        351.879678\n",
       "min          1.000000\n",
       "25%          8.000000\n",
       "50%         49.000000\n",
       "75%        190.000000\n",
       "max       6456.000000\n",
       "Name: session_id, dtype: float64"
      ]
     },
     "execution_count": 26,
     "metadata": {},
     "output_type": "execute_result"
    }
   ],
   "source": [
    "customer_session.describe()"
   ]
  },
  {
   "cell_type": "code",
   "execution_count": 27,
   "metadata": {},
   "outputs": [
    {
     "data": {
      "text/plain": [
       "0.42676456570337606"
      ]
     },
     "execution_count": 27,
     "metadata": {},
     "output_type": "execute_result"
    }
   ],
   "source": [
    "visit_CVR[visit_CVR.num_visit <= 8].CVR_mean.mean()"
   ]
  },
  {
   "cell_type": "code",
   "execution_count": 28,
   "metadata": {},
   "outputs": [
    {
     "data": {
      "text/plain": [
       "0.1600960713755304"
      ]
     },
     "execution_count": 28,
     "metadata": {},
     "output_type": "execute_result"
    }
   ],
   "source": [
    "visit_CVR[(visit_CVR.num_visit > 8) & (visit_CVR.num_visit <= 49)].CVR_mean.mean()"
   ]
  },
  {
   "cell_type": "code",
   "execution_count": 29,
   "metadata": {},
   "outputs": [
    {
     "data": {
      "text/plain": [
       "0.10618329838866539"
      ]
     },
     "execution_count": 29,
     "metadata": {},
     "output_type": "execute_result"
    }
   ],
   "source": [
    "visit_CVR[(visit_CVR.num_visit > 49) & (visit_CVR.num_visit <= 190)].CVR_mean.mean()"
   ]
  },
  {
   "cell_type": "code",
   "execution_count": 30,
   "metadata": {},
   "outputs": [
    {
     "data": {
      "text/plain": [
       "0.08347601959463719"
      ]
     },
     "execution_count": 30,
     "metadata": {},
     "output_type": "execute_result"
    }
   ],
   "source": [
    "visit_CVR[(visit_CVR.num_visit > 190)].CVR_mean.mean()"
   ]
  },
  {
   "cell_type": "code",
   "execution_count": 31,
   "metadata": {},
   "outputs": [
    {
     "data": {
      "text/plain": [
       "customer_id\n",
       "3.0        51\n",
       "8.0         7\n",
       "9.0         6\n",
       "11.0        1\n",
       "15.0        5\n",
       "           ..\n",
       "99992.0    12\n",
       "99995.0    60\n",
       "99997.0     1\n",
       "99998.0     8\n",
       "99999.0     1\n",
       "Name: booking_id, Length: 50704, dtype: int64"
      ]
     },
     "execution_count": 31,
     "metadata": {},
     "output_type": "execute_result"
    }
   ],
   "source": [
    "customer_booking = df_buy_split.groupby('customer_id')['booking_id'].nunique()\n",
    "customer_booking"
   ]
  },
  {
   "cell_type": "code",
   "execution_count": 32,
   "metadata": {},
   "outputs": [],
   "source": [
    "# 방문 기간 별 매출"
   ]
  },
  {
   "attachments": {},
   "cell_type": "markdown",
   "metadata": {},
   "source": [
    "# 기간별 구매전환율 "
   ]
  },
  {
   "cell_type": "code",
   "execution_count": 33,
   "metadata": {},
   "outputs": [
    {
     "name": "stderr",
     "output_type": "stream",
     "text": [
      "/var/folders/72/sf0gd2_15c7bv2klzkjcqt580000gn/T/ipykernel_2711/2176225752.py:1: UserWarning: Converting to PeriodArray/Index representation will drop timezone information.\n",
      "  df_buy_split.month = pd.to_datetime(df_buy_split.event_time).dt.to_period('M')\n"
     ]
    }
   ],
   "source": [
    "df_buy_split.month = pd.to_datetime(df_buy_split.event_time).dt.to_period('M')"
   ]
  },
  {
   "cell_type": "code",
   "execution_count": 34,
   "metadata": {},
   "outputs": [
    {
     "data": {
      "text/html": [
       "<div>\n",
       "<style scoped>\n",
       "    .dataframe tbody tr th:only-of-type {\n",
       "        vertical-align: middle;\n",
       "    }\n",
       "\n",
       "    .dataframe tbody tr th {\n",
       "        vertical-align: top;\n",
       "    }\n",
       "\n",
       "    .dataframe thead th {\n",
       "        text-align: right;\n",
       "    }\n",
       "</style>\n",
       "<table border=\"1\" class=\"dataframe\">\n",
       "  <thead>\n",
       "    <tr style=\"text-align: right;\">\n",
       "      <th></th>\n",
       "      <th>month</th>\n",
       "      <th>session_id</th>\n",
       "      <th>diff_sessionpct</th>\n",
       "    </tr>\n",
       "  </thead>\n",
       "  <tbody>\n",
       "    <tr>\n",
       "      <th>0</th>\n",
       "      <td>2016-06</td>\n",
       "      <td>1</td>\n",
       "      <td>NaN</td>\n",
       "    </tr>\n",
       "    <tr>\n",
       "      <th>1</th>\n",
       "      <td>2016-07</td>\n",
       "      <td>774</td>\n",
       "      <td>77300.000000</td>\n",
       "    </tr>\n",
       "    <tr>\n",
       "      <th>2</th>\n",
       "      <td>2016-08</td>\n",
       "      <td>2283</td>\n",
       "      <td>194.961240</td>\n",
       "    </tr>\n",
       "    <tr>\n",
       "      <th>3</th>\n",
       "      <td>2016-09</td>\n",
       "      <td>4929</td>\n",
       "      <td>115.900131</td>\n",
       "    </tr>\n",
       "    <tr>\n",
       "      <th>4</th>\n",
       "      <td>2016-10</td>\n",
       "      <td>7055</td>\n",
       "      <td>43.132481</td>\n",
       "    </tr>\n",
       "    <tr>\n",
       "      <th>...</th>\n",
       "      <td>...</td>\n",
       "      <td>...</td>\n",
       "      <td>...</td>\n",
       "    </tr>\n",
       "    <tr>\n",
       "      <th>70</th>\n",
       "      <td>2022-04</td>\n",
       "      <td>329907</td>\n",
       "      <td>0.758344</td>\n",
       "    </tr>\n",
       "    <tr>\n",
       "      <th>71</th>\n",
       "      <td>2022-05</td>\n",
       "      <td>340625</td>\n",
       "      <td>3.248794</td>\n",
       "    </tr>\n",
       "    <tr>\n",
       "      <th>72</th>\n",
       "      <td>2022-06</td>\n",
       "      <td>313967</td>\n",
       "      <td>-7.826202</td>\n",
       "    </tr>\n",
       "    <tr>\n",
       "      <th>73</th>\n",
       "      <td>2022-07</td>\n",
       "      <td>231015</td>\n",
       "      <td>-26.420611</td>\n",
       "    </tr>\n",
       "    <tr>\n",
       "      <th>74</th>\n",
       "      <td>2022-08</td>\n",
       "      <td>11</td>\n",
       "      <td>-99.995238</td>\n",
       "    </tr>\n",
       "  </tbody>\n",
       "</table>\n",
       "<p>75 rows × 3 columns</p>\n",
       "</div>"
      ],
      "text/plain": [
       "      month  session_id  diff_sessionpct\n",
       "0   2016-06           1              NaN\n",
       "1   2016-07         774     77300.000000\n",
       "2   2016-08        2283       194.961240\n",
       "3   2016-09        4929       115.900131\n",
       "4   2016-10        7055        43.132481\n",
       "..      ...         ...              ...\n",
       "70  2022-04      329907         0.758344\n",
       "71  2022-05      340625         3.248794\n",
       "72  2022-06      313967        -7.826202\n",
       "73  2022-07      231015       -26.420611\n",
       "74  2022-08          11       -99.995238\n",
       "\n",
       "[75 rows x 3 columns]"
      ]
     },
     "execution_count": 34,
     "metadata": {},
     "output_type": "execute_result"
    }
   ],
   "source": [
    "session_info = df_buy_split.groupby('month')[['session_id']].nunique()\n",
    "session_info.reset_index(inplace=True)\n",
    "session_info['diff_sessionpct'] = session_info.session_id.pct_change() *100\n",
    "session_info"
   ]
  },
  {
   "cell_type": "code",
   "execution_count": 35,
   "metadata": {},
   "outputs": [
    {
     "data": {
      "text/plain": [
       "74"
      ]
     },
     "execution_count": 35,
     "metadata": {},
     "output_type": "execute_result"
    }
   ],
   "source": [
    "# session_id 별로 한번에 BOOKING만 있었던 것을 확인\n",
    "# 월별 BOOKING을 한 session_id의 unique값 수 = 월별 BOOKING을 한 BOOKING 이벤트 수\n",
    "(df_buy_split[df_buy_split.event_name == 'BOOKING'].groupby(['month'])['session_id'].nunique() == df_buy_split[df_buy_split.event_name == 'BOOKING'].groupby(['month']).count()['event_name']).sum()"
   ]
  },
  {
   "cell_type": "code",
   "execution_count": 36,
   "metadata": {},
   "outputs": [
    {
     "data": {
      "text/plain": [
       "month\n",
       "2016-06        1\n",
       "2016-07      334\n",
       "2016-08      741\n",
       "2016-09     1144\n",
       "2016-10     1714\n",
       "           ...  \n",
       "2022-03    52084\n",
       "2022-04    51554\n",
       "2022-05    51736\n",
       "2022-06    43698\n",
       "2022-07    28428\n",
       "Freq: M, Name: session_id, Length: 74, dtype: int64"
      ]
     },
     "execution_count": 36,
     "metadata": {},
     "output_type": "execute_result"
    }
   ],
   "source": [
    "df_buy_split[df_buy_split.event_name == 'ADD_TO_CART'].groupby('month').session_id.nunique()"
   ]
  },
  {
   "cell_type": "code",
   "execution_count": 37,
   "metadata": {},
   "outputs": [],
   "source": [
    "# 장바구니 세션 수(Micro CVR)\n",
    "session_info = pd.merge(session_info, df_buy_split[df_buy_split.event_name == 'ADD_TO_CART'].groupby('month').session_id.nunique(), how='left', on='month')\n",
    "\n",
    "# 구매 세션 수(Macro CVR)\n",
    "session_info = pd.merge(session_info, df_buy_split[df_buy_split.event_name == 'BOOKING'].groupby(['month']).count()['event_name'], on='month', how='left')"
   ]
  },
  {
   "cell_type": "code",
   "execution_count": 38,
   "metadata": {},
   "outputs": [],
   "source": [
    "session_info.rename(columns = {'session_id_x':'num_session_id', 'session_id_y':'num_add_to_cart', 'event_name':'num_booking'}, inplace = True)"
   ]
  },
  {
   "cell_type": "code",
   "execution_count": 39,
   "metadata": {},
   "outputs": [],
   "source": [
    "session_info['micro_cvr'] = session_info.num_add_to_cart / session_info.num_session_id\n",
    "session_info['macro_cvr'] = session_info.num_booking / session_info.num_session_id"
   ]
  },
  {
   "cell_type": "code",
   "execution_count": 40,
   "metadata": {},
   "outputs": [],
   "source": [
    "session_info['cart_buy_cvr'] = session_info.num_booking / session_info.num_add_to_cart"
   ]
  },
  {
   "cell_type": "code",
   "execution_count": 41,
   "metadata": {},
   "outputs": [
    {
     "name": "stderr",
     "output_type": "stream",
     "text": [
      "/var/folders/72/sf0gd2_15c7bv2klzkjcqt580000gn/T/ipykernel_2711/3969820811.py:3: SettingWithCopyWarning: \n",
      "A value is trying to be set on a copy of a slice from a DataFrame.\n",
      "Try using .loc[row_indexer,col_indexer] = value instead\n",
      "\n",
      "See the caveats in the documentation: https://pandas.pydata.org/pandas-docs/stable/user_guide/indexing.html#returning-a-view-versus-a-copy\n",
      "  session_info_all.month = session_info_all.month.astype('str')\n",
      "/var/folders/72/sf0gd2_15c7bv2klzkjcqt580000gn/T/ipykernel_2711/3969820811.py:4: SettingWithCopyWarning: \n",
      "A value is trying to be set on a copy of a slice from a DataFrame.\n",
      "Try using .loc[row_indexer,col_indexer] = value instead\n",
      "\n",
      "See the caveats in the documentation: https://pandas.pydata.org/pandas-docs/stable/user_guide/indexing.html#returning-a-view-versus-a-copy\n",
      "  session_info_part.month = session_info_part.month.astype('str')\n"
     ]
    }
   ],
   "source": [
    "session_info_all = session_info[(session_info.month >= '2016-07') & (session_info.month <= '2022-07')]\n",
    "session_info_part = session_info[(session_info.month >= '2020-08') & (session_info.month <= '2022-07')]\n",
    "session_info_all.month = session_info_all.month.astype('str')\n",
    "session_info_part.month = session_info_part.month.astype('str')"
   ]
  },
  {
   "cell_type": "code",
   "execution_count": 42,
   "metadata": {},
   "outputs": [
    {
     "name": "stderr",
     "output_type": "stream",
     "text": [
      "/var/folders/72/sf0gd2_15c7bv2klzkjcqt580000gn/T/ipykernel_2711/3299412220.py:2: SettingWithCopyWarning: \n",
      "A value is trying to be set on a copy of a slice from a DataFrame.\n",
      "Try using .loc[row_indexer,col_indexer] = value instead\n",
      "\n",
      "See the caveats in the documentation: https://pandas.pydata.org/pandas-docs/stable/user_guide/indexing.html#returning-a-view-versus-a-copy\n",
      "  session_info_all.month = session_info_all.month.astype('str')\n"
     ]
    },
    {
     "data": {
      "image/png": "[encoded data removed]",
      "text/plain": [
       "<Figure size 1500x600 with 1 Axes>"
      ]
     },
     "metadata": {},
     "output_type": "display_data"
    }
   ],
   "source": [
    "# 전체기간 방문 수\n",
    "session_info_all.month = session_info_all.month.astype('str')\n",
    "plt.figure(figsize=(15,6))\n",
    "sns.lineplot(data = session_info_all, x = 'month', y = 'num_session_id')\n",
    "plt.xticks(rotation=90)\n",
    "plt.title('Number of Visitors')\n",
    "plt.show()"
   ]
  },
  {
   "cell_type": "code",
   "execution_count": 43,
   "metadata": {},
   "outputs": [
    {
     "name": "stderr",
     "output_type": "stream",
     "text": [
      "/var/folders/72/sf0gd2_15c7bv2klzkjcqt580000gn/T/ipykernel_2711/3661870825.py:4: SettingWithCopyWarning: \n",
      "A value is trying to be set on a copy of a slice from a DataFrame.\n",
      "Try using .loc[row_indexer,col_indexer] = value instead\n",
      "\n",
      "See the caveats in the documentation: https://pandas.pydata.org/pandas-docs/stable/user_guide/indexing.html#returning-a-view-versus-a-copy\n",
      "  session_info_part.month = session_info_part.month.astype('str')\n"
     ]
    },
    {
     "data": {
      "image/png": "[encoded data removed]",
      "text/plain": [
       "<Figure size 1500x600 with 1 Axes>"
      ]
     },
     "metadata": {},
     "output_type": "display_data"
    }
   ],
   "source": [
    "# 최근 2년 간(2020-06 ~ 2022-07) 구매방문 수\n",
    "# 2022월 6월, 7월에 session 수(방문 수) 감소 - 6월에는 -7.9%, 7월에는 -27.1%\n",
    "\n",
    "session_info_part.month = session_info_part.month.astype('str')\n",
    "plt.figure(figsize=(15,6))\n",
    "sns.lineplot(data = session_info_part, x = 'month', y = 'num_session_id')\n",
    "plt.xticks(rotation=90)\n",
    "plt.title('Number of Visitors (2020-06 ~ 2022-07)')\n",
    "plt.show()"
   ]
  },
  {
   "cell_type": "code",
   "execution_count": 44,
   "metadata": {},
   "outputs": [
    {
     "data": {
      "text/html": [
       "<div>\n",
       "<style scoped>\n",
       "    .dataframe tbody tr th:only-of-type {\n",
       "        vertical-align: middle;\n",
       "    }\n",
       "\n",
       "    .dataframe tbody tr th {\n",
       "        vertical-align: top;\n",
       "    }\n",
       "\n",
       "    .dataframe thead th {\n",
       "        text-align: right;\n",
       "    }\n",
       "</style>\n",
       "<table border=\"1\" class=\"dataframe\">\n",
       "  <thead>\n",
       "    <tr style=\"text-align: right;\">\n",
       "      <th></th>\n",
       "      <th>month</th>\n",
       "      <th>num_session_id</th>\n",
       "      <th>diff_sessionpct</th>\n",
       "      <th>num_add_to_cart</th>\n",
       "      <th>num_booking</th>\n",
       "      <th>micro_cvr</th>\n",
       "      <th>macro_cvr</th>\n",
       "      <th>cart_buy_cvr</th>\n",
       "    </tr>\n",
       "  </thead>\n",
       "  <tbody>\n",
       "    <tr>\n",
       "      <th>0</th>\n",
       "      <td>2016-06</td>\n",
       "      <td>1</td>\n",
       "      <td>NaN</td>\n",
       "      <td>1.0</td>\n",
       "      <td>1.0</td>\n",
       "      <td>1.000000</td>\n",
       "      <td>1.000000</td>\n",
       "      <td>1.000000</td>\n",
       "    </tr>\n",
       "    <tr>\n",
       "      <th>1</th>\n",
       "      <td>2016-07</td>\n",
       "      <td>774</td>\n",
       "      <td>77300.000000</td>\n",
       "      <td>334.0</td>\n",
       "      <td>296.0</td>\n",
       "      <td>0.431525</td>\n",
       "      <td>0.382429</td>\n",
       "      <td>0.886228</td>\n",
       "    </tr>\n",
       "    <tr>\n",
       "      <th>2</th>\n",
       "      <td>2016-08</td>\n",
       "      <td>2283</td>\n",
       "      <td>194.961240</td>\n",
       "      <td>741.0</td>\n",
       "      <td>547.0</td>\n",
       "      <td>0.324573</td>\n",
       "      <td>0.239597</td>\n",
       "      <td>0.738192</td>\n",
       "    </tr>\n",
       "    <tr>\n",
       "      <th>3</th>\n",
       "      <td>2016-09</td>\n",
       "      <td>4929</td>\n",
       "      <td>115.900131</td>\n",
       "      <td>1144.0</td>\n",
       "      <td>717.0</td>\n",
       "      <td>0.232096</td>\n",
       "      <td>0.145466</td>\n",
       "      <td>0.626748</td>\n",
       "    </tr>\n",
       "    <tr>\n",
       "      <th>4</th>\n",
       "      <td>2016-10</td>\n",
       "      <td>7055</td>\n",
       "      <td>43.132481</td>\n",
       "      <td>1714.0</td>\n",
       "      <td>989.0</td>\n",
       "      <td>0.242948</td>\n",
       "      <td>0.140184</td>\n",
       "      <td>0.577013</td>\n",
       "    </tr>\n",
       "    <tr>\n",
       "      <th>...</th>\n",
       "      <td>...</td>\n",
       "      <td>...</td>\n",
       "      <td>...</td>\n",
       "      <td>...</td>\n",
       "      <td>...</td>\n",
       "      <td>...</td>\n",
       "      <td>...</td>\n",
       "      <td>...</td>\n",
       "    </tr>\n",
       "    <tr>\n",
       "      <th>70</th>\n",
       "      <td>2022-04</td>\n",
       "      <td>329907</td>\n",
       "      <td>0.758344</td>\n",
       "      <td>51554.0</td>\n",
       "      <td>29237.0</td>\n",
       "      <td>0.156268</td>\n",
       "      <td>0.088622</td>\n",
       "      <td>0.567114</td>\n",
       "    </tr>\n",
       "    <tr>\n",
       "      <th>71</th>\n",
       "      <td>2022-05</td>\n",
       "      <td>340625</td>\n",
       "      <td>3.248794</td>\n",
       "      <td>51736.0</td>\n",
       "      <td>30084.0</td>\n",
       "      <td>0.151886</td>\n",
       "      <td>0.088320</td>\n",
       "      <td>0.581491</td>\n",
       "    </tr>\n",
       "    <tr>\n",
       "      <th>72</th>\n",
       "      <td>2022-06</td>\n",
       "      <td>313967</td>\n",
       "      <td>-7.826202</td>\n",
       "      <td>43698.0</td>\n",
       "      <td>28587.0</td>\n",
       "      <td>0.139180</td>\n",
       "      <td>0.091051</td>\n",
       "      <td>0.654195</td>\n",
       "    </tr>\n",
       "    <tr>\n",
       "      <th>73</th>\n",
       "      <td>2022-07</td>\n",
       "      <td>231015</td>\n",
       "      <td>-26.420611</td>\n",
       "      <td>28428.0</td>\n",
       "      <td>25162.0</td>\n",
       "      <td>0.123057</td>\n",
       "      <td>0.108919</td>\n",
       "      <td>0.885113</td>\n",
       "    </tr>\n",
       "    <tr>\n",
       "      <th>74</th>\n",
       "      <td>2022-08</td>\n",
       "      <td>11</td>\n",
       "      <td>-99.995238</td>\n",
       "      <td>NaN</td>\n",
       "      <td>NaN</td>\n",
       "      <td>NaN</td>\n",
       "      <td>NaN</td>\n",
       "      <td>NaN</td>\n",
       "    </tr>\n",
       "  </tbody>\n",
       "</table>\n",
       "<p>75 rows × 8 columns</p>\n",
       "</div>"
      ],
      "text/plain": [
       "      month  num_session_id  diff_sessionpct  num_add_to_cart  num_booking  \\\n",
       "0   2016-06               1              NaN              1.0          1.0   \n",
       "1   2016-07             774     77300.000000            334.0        296.0   \n",
       "2   2016-08            2283       194.961240            741.0        547.0   \n",
       "3   2016-09            4929       115.900131           1144.0        717.0   \n",
       "4   2016-10            7055        43.132481           1714.0        989.0   \n",
       "..      ...             ...              ...              ...          ...   \n",
       "70  2022-04          329907         0.758344          51554.0      29237.0   \n",
       "71  2022-05          340625         3.248794          51736.0      30084.0   \n",
       "72  2022-06          313967        -7.826202          43698.0      28587.0   \n",
       "73  2022-07          231015       -26.420611          28428.0      25162.0   \n",
       "74  2022-08              11       -99.995238              NaN          NaN   \n",
       "\n",
       "    micro_cvr  macro_cvr  cart_buy_cvr  \n",
       "0    1.000000   1.000000      1.000000  \n",
       "1    0.431525   0.382429      0.886228  \n",
       "2    0.324573   0.239597      0.738192  \n",
       "3    0.232096   0.145466      0.626748  \n",
       "4    0.242948   0.140184      0.577013  \n",
       "..        ...        ...           ...  \n",
       "70   0.156268   0.088622      0.567114  \n",
       "71   0.151886   0.088320      0.581491  \n",
       "72   0.139180   0.091051      0.654195  \n",
       "73   0.123057   0.108919      0.885113  \n",
       "74        NaN        NaN           NaN  \n",
       "\n",
       "[75 rows x 8 columns]"
      ]
     },
     "execution_count": 44,
     "metadata": {},
     "output_type": "execute_result"
    }
   ],
   "source": [
    "session_info"
   ]
  },
  {
   "cell_type": "code",
   "execution_count": 45,
   "metadata": {},
   "outputs": [
    {
     "name": "stdout",
     "output_type": "stream",
     "text": [
      "micro_cvr: 0.19204856725589617\n",
      "macro_cvr: 0.10068030597110636\n"
     ]
    }
   ],
   "source": [
    "# 기간 전체 평균 CVR (2016년 6월 제외 (거래가 1건밖에 없었음))\n",
    "print(f'micro_cvr: {session_info_all.micro_cvr.mean()}')\n",
    "print(f'macro_cvr: {session_info_all.macro_cvr.mean()}')"
   ]
  },
  {
   "cell_type": "code",
   "execution_count": 46,
   "metadata": {},
   "outputs": [
    {
     "name": "stdout",
     "output_type": "stream",
     "text": [
      "micro_cvr of recent 2 years: 0.1680676058281778\n",
      "macro_cvr of recent 2 years: 0.08996993043661967\n"
     ]
    }
   ],
   "source": [
    "# 최근 2년 평균 구매전환율\n",
    "print(f'micro_cvr of recent 2 years: {session_info_part.micro_cvr.mean()}')\n",
    "print(f'macro_cvr of recent 2 years: {session_info_part.macro_cvr.mean()}')"
   ]
  },
  {
   "cell_type": "code",
   "execution_count": 47,
   "metadata": {},
   "outputs": [
    {
     "data": {
      "image/png": "[encoded data removed]",
      "text/plain": [
       "<Figure size 1500x600 with 1 Axes>"
      ]
     },
     "metadata": {},
     "output_type": "display_data"
    }
   ],
   "source": [
    "plt.figure(figsize=(15,6))\n",
    "sns.lineplot(data = session_info_all, x = 'month', y='micro_cvr', label='Micro CVR')\n",
    "sns.lineplot(data = session_info_all, x = 'month', y='macro_cvr', label='Macro CVR')\n",
    "plt.xticks(rotation=90)\n",
    "plt.title('Conversion Rate')\n",
    "plt.legend()\n",
    "plt.show()"
   ]
  },
  {
   "cell_type": "code",
   "execution_count": 48,
   "metadata": {},
   "outputs": [
    {
     "data": {
      "image/png": "[encoded data removed]",
      "text/plain": [
       "<Figure size 1500x600 with 1 Axes>"
      ]
     },
     "metadata": {},
     "output_type": "display_data"
    }
   ],
   "source": [
    "plt.figure(figsize=(15,6))\n",
    "sns.lineplot(data = session_info_part, x = 'month', y='micro_cvr', label='Micro CVR')\n",
    "sns.lineplot(data = session_info_part, x = 'month', y='macro_cvr', label='Macro CVR')\n",
    "plt.xticks(rotation=90)\n",
    "plt.title('Conversion Rate (2020-08 ~ 2022-07)')\n",
    "plt.legend()\n",
    "plt.show()"
   ]
  },
  {
   "cell_type": "code",
   "execution_count": 49,
   "metadata": {},
   "outputs": [
    {
     "name": "stderr",
     "output_type": "stream",
     "text": [
      "No artists with labels found to put in legend.  Note that artists whose label start with an underscore are ignored when legend() is called with no argument.\n"
     ]
    },
    {
     "data": {
      "image/png": "[encoded data removed]",
      "text/plain": [
       "<Figure size 1500x600 with 1 Axes>"
      ]
     },
     "metadata": {},
     "output_type": "display_data"
    }
   ],
   "source": [
    "plt.figure(figsize=(15,6))\n",
    "sns.lineplot(data = session_info_all, x = 'month', y='cart_buy_cvr')\n",
    "plt.xticks(rotation=90)\n",
    "plt.title('Cart_to_Pay Conversion Rate (2020-08 ~ 2022-07)')\n",
    "plt.legend()\n",
    "plt.show()"
   ]
  },
  {
   "cell_type": "code",
   "execution_count": 50,
   "metadata": {},
   "outputs": [
    {
     "data": {
      "text/plain": [
       "852582"
      ]
     },
     "execution_count": 50,
     "metadata": {},
     "output_type": "execute_result"
    }
   ],
   "source": [
    "len(df_buy_split[df_buy_split['event_name'] == 'BOOKING'].session_id.unique())"
   ]
  },
  {
   "cell_type": "code",
   "execution_count": 51,
   "metadata": {},
   "outputs": [
    {
     "data": {
      "text/plain": [
       "array(['f03b6825-1e6e-4916-bf71-f94ecbcbaee5',\n",
       "       '36673b2f-940a-42b5-994d-1cce4796b55f_0',\n",
       "       '36673b2f-940a-42b5-994d-1cce4796b55f', ...,\n",
       "       'f49a7504-1ae0-4a92-abf6-dfd4488b4956_0',\n",
       "       'bd7dac54-2612-41d6-b8c9-604cf58229bf_0',\n",
       "       'e5b4938f-1c97-451e-9baa-1d7d821af50c_0'], dtype=object)"
      ]
     },
     "execution_count": 51,
     "metadata": {},
     "output_type": "execute_result"
    }
   ],
   "source": [
    "df_buy_split[df_buy_split['event_name'] == 'ADD_TO_CART'].session_id.unique()"
   ]
  },
  {
   "cell_type": "code",
   "execution_count": 52,
   "metadata": {},
   "outputs": [],
   "source": [
    "add_to_cart_session_ids = df_buy_split[df_buy_split['event_name'] == 'ADD_TO_CART'].session_id.unique()\n",
    "booking_session_ids = df_buy_split[df_buy_split['event_name'] == 'BOOKING'].session_id.unique()\n",
    "\n",
    "missing_add_to_cart = df_buy_split[~df_buy_split['session_id'].isin(df_buy_split[df_buy_split['event_name'] == 'ADD_TO_CART'].session_id.unique()) & (df_buy_split['event_name'] == 'BOOKING')]"
   ]
  },
  {
   "cell_type": "code",
   "execution_count": 53,
   "metadata": {},
   "outputs": [],
   "source": [
    "missing_booking = df_buy_split[~df_buy_split['session_id'].isin(booking_session_ids) & (df_buy_split['event_name'] == 'ADD_TO_CART')]"
   ]
  },
  {
   "cell_type": "code",
   "execution_count": 54,
   "metadata": {},
   "outputs": [],
   "source": [
    "cart_pay = df_buy_split[df_buy_split['session_id'].isin(booking_session_ids) & (df_buy_split['event_name'] == 'ADD_TO_CART')]"
   ]
  },
  {
   "cell_type": "code",
   "execution_count": 55,
   "metadata": {},
   "outputs": [
    {
     "data": {
      "text/html": [
       "<div>\n",
       "<style scoped>\n",
       "    .dataframe tbody tr th:only-of-type {\n",
       "        vertical-align: middle;\n",
       "    }\n",
       "\n",
       "    .dataframe tbody tr th {\n",
       "        vertical-align: top;\n",
       "    }\n",
       "\n",
       "    .dataframe thead th {\n",
       "        text-align: right;\n",
       "    }\n",
       "</style>\n",
       "<table border=\"1\" class=\"dataframe\">\n",
       "  <thead>\n",
       "    <tr style=\"text-align: right;\">\n",
       "      <th></th>\n",
       "      <th>session_id</th>\n",
       "      <th>event_name</th>\n",
       "      <th>event_time</th>\n",
       "      <th>traffic_source</th>\n",
       "      <th>product_id</th>\n",
       "      <th>quantity</th>\n",
       "      <th>item_price</th>\n",
       "      <th>payment_status</th>\n",
       "      <th>search_keywords</th>\n",
       "      <th>promo_code</th>\n",
       "      <th>promo_amount</th>\n",
       "      <th>customer_id</th>\n",
       "      <th>quarter</th>\n",
       "      <th>old_session</th>\n",
       "      <th>booking_id</th>\n",
       "      <th>sales</th>\n",
       "      <th>month</th>\n",
       "    </tr>\n",
       "  </thead>\n",
       "  <tbody>\n",
       "    <tr>\n",
       "      <th>9</th>\n",
       "      <td>36673b2f-940a-42b5-994d-1cce4796b55f_0</td>\n",
       "      <td>ADD_TO_CART</td>\n",
       "      <td>2018-09-19 16:29:14.844494+00:00</td>\n",
       "      <td>MOBILE</td>\n",
       "      <td>16748.0</td>\n",
       "      <td>1</td>\n",
       "      <td>578636</td>\n",
       "      <td>NaN</td>\n",
       "      <td>NaN</td>\n",
       "      <td>0.0</td>\n",
       "      <td>0.0</td>\n",
       "      <td>3.0</td>\n",
       "      <td>NaN</td>\n",
       "      <td>36673b2f-940a-42b5-994d-1cce4796b55f</td>\n",
       "      <td>NaN</td>\n",
       "      <td>153784.0</td>\n",
       "      <td>2018-09</td>\n",
       "    </tr>\n",
       "  </tbody>\n",
       "</table>\n",
       "</div>"
      ],
      "text/plain": [
       "                               session_id   event_name  \\\n",
       "9  36673b2f-940a-42b5-994d-1cce4796b55f_0  ADD_TO_CART   \n",
       "\n",
       "                         event_time traffic_source  product_id  quantity  \\\n",
       "9  2018-09-19 16:29:14.844494+00:00         MOBILE     16748.0         1   \n",
       "\n",
       "   item_price  payment_status search_keywords  promo_code  promo_amount  \\\n",
       "9      578636             NaN             NaN         0.0           0.0   \n",
       "\n",
       "   customer_id  quarter                           old_session booking_id  \\\n",
       "9          3.0      NaN  36673b2f-940a-42b5-994d-1cce4796b55f        NaN   \n",
       "\n",
       "      sales    month  \n",
       "9  153784.0  2018-09  "
      ]
     },
     "execution_count": 55,
     "metadata": {},
     "output_type": "execute_result"
    }
   ],
   "source": [
    "df_buy_split[df_buy_split.session_id == '36673b2f-940a-42b5-994d-1cce4796b55f_0']"
   ]
  },
  {
   "cell_type": "code",
   "execution_count": 56,
   "metadata": {},
   "outputs": [
    {
     "data": {
      "text/html": [
       "<div>\n",
       "<style scoped>\n",
       "    .dataframe tbody tr th:only-of-type {\n",
       "        vertical-align: middle;\n",
       "    }\n",
       "\n",
       "    .dataframe tbody tr th {\n",
       "        vertical-align: top;\n",
       "    }\n",
       "\n",
       "    .dataframe thead th {\n",
       "        text-align: right;\n",
       "    }\n",
       "</style>\n",
       "<table border=\"1\" class=\"dataframe\">\n",
       "  <thead>\n",
       "    <tr style=\"text-align: right;\">\n",
       "      <th></th>\n",
       "      <th>session_id</th>\n",
       "      <th>event_name</th>\n",
       "      <th>event_time</th>\n",
       "      <th>traffic_source</th>\n",
       "      <th>product_id</th>\n",
       "      <th>quantity</th>\n",
       "      <th>item_price</th>\n",
       "      <th>payment_status</th>\n",
       "      <th>search_keywords</th>\n",
       "      <th>promo_code</th>\n",
       "      <th>promo_amount</th>\n",
       "      <th>customer_id</th>\n",
       "      <th>quarter</th>\n",
       "      <th>old_session</th>\n",
       "      <th>booking_id</th>\n",
       "      <th>sales</th>\n",
       "      <th>month</th>\n",
       "    </tr>\n",
       "  </thead>\n",
       "  <tbody>\n",
       "    <tr>\n",
       "      <th>9</th>\n",
       "      <td>36673b2f-940a-42b5-994d-1cce4796b55f_0</td>\n",
       "      <td>ADD_TO_CART</td>\n",
       "      <td>2018-09-19 16:29:14.844494+00:00</td>\n",
       "      <td>MOBILE</td>\n",
       "      <td>16748.0</td>\n",
       "      <td>1</td>\n",
       "      <td>578636</td>\n",
       "      <td>NaN</td>\n",
       "      <td>NaN</td>\n",
       "      <td>0.0</td>\n",
       "      <td>0.0</td>\n",
       "      <td>3.0</td>\n",
       "      <td>NaN</td>\n",
       "      <td>36673b2f-940a-42b5-994d-1cce4796b55f</td>\n",
       "      <td>NaN</td>\n",
       "      <td>153784.0</td>\n",
       "      <td>2018-09</td>\n",
       "    </tr>\n",
       "    <tr>\n",
       "      <th>10</th>\n",
       "      <td>36673b2f-940a-42b5-994d-1cce4796b55f</td>\n",
       "      <td>ADD_TO_CART</td>\n",
       "      <td>2018-09-19 16:39:50.844494+00:00</td>\n",
       "      <td>MOBILE</td>\n",
       "      <td>30235.0</td>\n",
       "      <td>1</td>\n",
       "      <td>153784</td>\n",
       "      <td>NaN</td>\n",
       "      <td>NaN</td>\n",
       "      <td>0.0</td>\n",
       "      <td>0.0</td>\n",
       "      <td>3.0</td>\n",
       "      <td>NaN</td>\n",
       "      <td>36673b2f-940a-42b5-994d-1cce4796b55f</td>\n",
       "      <td>NaN</td>\n",
       "      <td>153784.0</td>\n",
       "      <td>2018-09</td>\n",
       "    </tr>\n",
       "    <tr>\n",
       "      <th>11</th>\n",
       "      <td>36673b2f-940a-42b5-994d-1cce4796b55f_1</td>\n",
       "      <td>ADD_TO_CART</td>\n",
       "      <td>2018-09-20 17:14:39.844494+00:00</td>\n",
       "      <td>MOBILE</td>\n",
       "      <td>4994.0</td>\n",
       "      <td>1</td>\n",
       "      <td>197894</td>\n",
       "      <td>NaN</td>\n",
       "      <td>NaN</td>\n",
       "      <td>0.0</td>\n",
       "      <td>0.0</td>\n",
       "      <td>3.0</td>\n",
       "      <td>NaN</td>\n",
       "      <td>36673b2f-940a-42b5-994d-1cce4796b55f</td>\n",
       "      <td>NaN</td>\n",
       "      <td>153784.0</td>\n",
       "      <td>2018-09</td>\n",
       "    </tr>\n",
       "    <tr>\n",
       "      <th>15</th>\n",
       "      <td>93e1d3c4-bed1-4ef4-b79f-e24a79e905b7</td>\n",
       "      <td>ADD_TO_CART</td>\n",
       "      <td>2018-10-06 10:51:32.844494+00:00</td>\n",
       "      <td>MOBILE</td>\n",
       "      <td>7808.0</td>\n",
       "      <td>1</td>\n",
       "      <td>123760</td>\n",
       "      <td>NaN</td>\n",
       "      <td>NaN</td>\n",
       "      <td>0.0</td>\n",
       "      <td>0.0</td>\n",
       "      <td>3.0</td>\n",
       "      <td>NaN</td>\n",
       "      <td>93e1d3c4-bed1-4ef4-b79f-e24a79e905b7</td>\n",
       "      <td>NaN</td>\n",
       "      <td>114932.0</td>\n",
       "      <td>2018-10</td>\n",
       "    </tr>\n",
       "    <tr>\n",
       "      <th>16</th>\n",
       "      <td>93e1d3c4-bed1-4ef4-b79f-e24a79e905b7_1</td>\n",
       "      <td>ADD_TO_CART</td>\n",
       "      <td>2018-10-07 03:06:48.844494+00:00</td>\n",
       "      <td>MOBILE</td>\n",
       "      <td>13310.0</td>\n",
       "      <td>1</td>\n",
       "      <td>317599</td>\n",
       "      <td>NaN</td>\n",
       "      <td>NaN</td>\n",
       "      <td>0.0</td>\n",
       "      <td>0.0</td>\n",
       "      <td>3.0</td>\n",
       "      <td>NaN</td>\n",
       "      <td>93e1d3c4-bed1-4ef4-b79f-e24a79e905b7</td>\n",
       "      <td>NaN</td>\n",
       "      <td>114932.0</td>\n",
       "      <td>2018-10</td>\n",
       "    </tr>\n",
       "    <tr>\n",
       "      <th>...</th>\n",
       "      <td>...</td>\n",
       "      <td>...</td>\n",
       "      <td>...</td>\n",
       "      <td>...</td>\n",
       "      <td>...</td>\n",
       "      <td>...</td>\n",
       "      <td>...</td>\n",
       "      <td>...</td>\n",
       "      <td>...</td>\n",
       "      <td>...</td>\n",
       "      <td>...</td>\n",
       "      <td>...</td>\n",
       "      <td>...</td>\n",
       "      <td>...</td>\n",
       "      <td>...</td>\n",
       "      <td>...</td>\n",
       "      <td>...</td>\n",
       "    </tr>\n",
       "    <tr>\n",
       "      <th>272961</th>\n",
       "      <td>bca0d3a1-562f-4d91-a105-35612514b45b_0</td>\n",
       "      <td>ADD_TO_CART</td>\n",
       "      <td>2022-07-31 23:58:17.574897+00:00</td>\n",
       "      <td>MOBILE</td>\n",
       "      <td>5580.0</td>\n",
       "      <td>1</td>\n",
       "      <td>273758</td>\n",
       "      <td>NaN</td>\n",
       "      <td>NaN</td>\n",
       "      <td>NaN</td>\n",
       "      <td>NaN</td>\n",
       "      <td>NaN</td>\n",
       "      <td>NaN</td>\n",
       "      <td>NaN</td>\n",
       "      <td>NaN</td>\n",
       "      <td>NaN</td>\n",
       "      <td>2022-07</td>\n",
       "    </tr>\n",
       "    <tr>\n",
       "      <th>353464</th>\n",
       "      <td>f49a7504-1ae0-4a92-abf6-dfd4488b4956_0</td>\n",
       "      <td>ADD_TO_CART</td>\n",
       "      <td>2022-07-31 23:58:22.294682+00:00</td>\n",
       "      <td>WEB</td>\n",
       "      <td>22851.0</td>\n",
       "      <td>2</td>\n",
       "      <td>300437</td>\n",
       "      <td>NaN</td>\n",
       "      <td>NaN</td>\n",
       "      <td>NaN</td>\n",
       "      <td>NaN</td>\n",
       "      <td>NaN</td>\n",
       "      <td>NaN</td>\n",
       "      <td>NaN</td>\n",
       "      <td>NaN</td>\n",
       "      <td>NaN</td>\n",
       "      <td>2022-07</td>\n",
       "    </tr>\n",
       "    <tr>\n",
       "      <th>276185</th>\n",
       "      <td>bee9f986-e405-4a12-9144-e42e6c05a9c1_0</td>\n",
       "      <td>ADD_TO_CART</td>\n",
       "      <td>2022-07-31 23:58:24.816258+00:00</td>\n",
       "      <td>MOBILE</td>\n",
       "      <td>45372.0</td>\n",
       "      <td>1</td>\n",
       "      <td>388838</td>\n",
       "      <td>NaN</td>\n",
       "      <td>NaN</td>\n",
       "      <td>NaN</td>\n",
       "      <td>NaN</td>\n",
       "      <td>NaN</td>\n",
       "      <td>NaN</td>\n",
       "      <td>NaN</td>\n",
       "      <td>NaN</td>\n",
       "      <td>NaN</td>\n",
       "      <td>2022-07</td>\n",
       "    </tr>\n",
       "    <tr>\n",
       "      <th>332871</th>\n",
       "      <td>e5b4938f-1c97-451e-9baa-1d7d821af50c_0</td>\n",
       "      <td>ADD_TO_CART</td>\n",
       "      <td>2022-07-31 23:59:05.840805+00:00</td>\n",
       "      <td>MOBILE</td>\n",
       "      <td>28637.0</td>\n",
       "      <td>1</td>\n",
       "      <td>345393</td>\n",
       "      <td>NaN</td>\n",
       "      <td>NaN</td>\n",
       "      <td>NaN</td>\n",
       "      <td>NaN</td>\n",
       "      <td>NaN</td>\n",
       "      <td>NaN</td>\n",
       "      <td>NaN</td>\n",
       "      <td>NaN</td>\n",
       "      <td>NaN</td>\n",
       "      <td>2022-07</td>\n",
       "    </tr>\n",
       "    <tr>\n",
       "      <th>74987</th>\n",
       "      <td>32f53eb8-30ef-4e0c-b38c-eb567431e0fe_0</td>\n",
       "      <td>ADD_TO_CART</td>\n",
       "      <td>2022-07-31 23:59:29.804932+00:00</td>\n",
       "      <td>MOBILE</td>\n",
       "      <td>7858.0</td>\n",
       "      <td>3</td>\n",
       "      <td>342289</td>\n",
       "      <td>NaN</td>\n",
       "      <td>NaN</td>\n",
       "      <td>NaN</td>\n",
       "      <td>NaN</td>\n",
       "      <td>NaN</td>\n",
       "      <td>NaN</td>\n",
       "      <td>NaN</td>\n",
       "      <td>NaN</td>\n",
       "      <td>NaN</td>\n",
       "      <td>2022-07</td>\n",
       "    </tr>\n",
       "  </tbody>\n",
       "</table>\n",
       "<p>1745345 rows × 17 columns</p>\n",
       "</div>"
      ],
      "text/plain": [
       "                                    session_id   event_name  \\\n",
       "9       36673b2f-940a-42b5-994d-1cce4796b55f_0  ADD_TO_CART   \n",
       "10        36673b2f-940a-42b5-994d-1cce4796b55f  ADD_TO_CART   \n",
       "11      36673b2f-940a-42b5-994d-1cce4796b55f_1  ADD_TO_CART   \n",
       "15        93e1d3c4-bed1-4ef4-b79f-e24a79e905b7  ADD_TO_CART   \n",
       "16      93e1d3c4-bed1-4ef4-b79f-e24a79e905b7_1  ADD_TO_CART   \n",
       "...                                        ...          ...   \n",
       "272961  bca0d3a1-562f-4d91-a105-35612514b45b_0  ADD_TO_CART   \n",
       "353464  f49a7504-1ae0-4a92-abf6-dfd4488b4956_0  ADD_TO_CART   \n",
       "276185  bee9f986-e405-4a12-9144-e42e6c05a9c1_0  ADD_TO_CART   \n",
       "332871  e5b4938f-1c97-451e-9baa-1d7d821af50c_0  ADD_TO_CART   \n",
       "74987   32f53eb8-30ef-4e0c-b38c-eb567431e0fe_0  ADD_TO_CART   \n",
       "\n",
       "                              event_time traffic_source  product_id  quantity  \\\n",
       "9       2018-09-19 16:29:14.844494+00:00         MOBILE     16748.0         1   \n",
       "10      2018-09-19 16:39:50.844494+00:00         MOBILE     30235.0         1   \n",
       "11      2018-09-20 17:14:39.844494+00:00         MOBILE      4994.0         1   \n",
       "15      2018-10-06 10:51:32.844494+00:00         MOBILE      7808.0         1   \n",
       "16      2018-10-07 03:06:48.844494+00:00         MOBILE     13310.0         1   \n",
       "...                                  ...            ...         ...       ...   \n",
       "272961  2022-07-31 23:58:17.574897+00:00         MOBILE      5580.0         1   \n",
       "353464  2022-07-31 23:58:22.294682+00:00            WEB     22851.0         2   \n",
       "276185  2022-07-31 23:58:24.816258+00:00         MOBILE     45372.0         1   \n",
       "332871  2022-07-31 23:59:05.840805+00:00         MOBILE     28637.0         1   \n",
       "74987   2022-07-31 23:59:29.804932+00:00         MOBILE      7858.0         3   \n",
       "\n",
       "        item_price  payment_status search_keywords  promo_code  promo_amount  \\\n",
       "9           578636             NaN             NaN         0.0           0.0   \n",
       "10          153784             NaN             NaN         0.0           0.0   \n",
       "11          197894             NaN             NaN         0.0           0.0   \n",
       "15          123760             NaN             NaN         0.0           0.0   \n",
       "16          317599             NaN             NaN         0.0           0.0   \n",
       "...            ...             ...             ...         ...           ...   \n",
       "272961      273758             NaN             NaN         NaN           NaN   \n",
       "353464      300437             NaN             NaN         NaN           NaN   \n",
       "276185      388838             NaN             NaN         NaN           NaN   \n",
       "332871      345393             NaN             NaN         NaN           NaN   \n",
       "74987       342289             NaN             NaN         NaN           NaN   \n",
       "\n",
       "        customer_id  quarter                           old_session booking_id  \\\n",
       "9               3.0      NaN  36673b2f-940a-42b5-994d-1cce4796b55f        NaN   \n",
       "10              3.0      NaN  36673b2f-940a-42b5-994d-1cce4796b55f        NaN   \n",
       "11              3.0      NaN  36673b2f-940a-42b5-994d-1cce4796b55f        NaN   \n",
       "15              3.0      NaN  93e1d3c4-bed1-4ef4-b79f-e24a79e905b7        NaN   \n",
       "16              3.0      NaN  93e1d3c4-bed1-4ef4-b79f-e24a79e905b7        NaN   \n",
       "...             ...      ...                                   ...        ...   \n",
       "272961          NaN      NaN                                   NaN        NaN   \n",
       "353464          NaN      NaN                                   NaN        NaN   \n",
       "276185          NaN      NaN                                   NaN        NaN   \n",
       "332871          NaN      NaN                                   NaN        NaN   \n",
       "74987           NaN      NaN                                   NaN        NaN   \n",
       "\n",
       "           sales    month  \n",
       "9       153784.0  2018-09  \n",
       "10      153784.0  2018-09  \n",
       "11      153784.0  2018-09  \n",
       "15      114932.0  2018-10  \n",
       "16      114932.0  2018-10  \n",
       "...          ...      ...  \n",
       "272961       NaN  2022-07  \n",
       "353464       NaN  2022-07  \n",
       "276185       NaN  2022-07  \n",
       "332871       NaN  2022-07  \n",
       "74987        NaN  2022-07  \n",
       "\n",
       "[1745345 rows x 17 columns]"
      ]
     },
     "execution_count": 56,
     "metadata": {},
     "output_type": "execute_result"
    }
   ],
   "source": [
    "missing_booking"
   ]
  }
 ],
 "metadata": {
  "kernelspec": {
   "display_name": "t2project",
   "language": "python",
   "name": "python3"
  },
  "language_info": {
   "codemirror_mode": {
    "name": "ipython",
    "version": 3
   },
   "file_extension": ".py",
   "mimetype": "text/x-python",
   "name": "python",
   "nbconvert_exporter": "python",
   "pygments_lexer": "ipython3",
   "version": "3.8.16"
  },
  "orig_nbformat": 4
 },
 "nbformat": 4,
 "nbformat_minor": 2
}
