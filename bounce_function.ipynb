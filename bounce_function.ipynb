{
 "cells": [
  {
   "cell_type": "code",
   "execution_count": 1,
   "metadata": {},
   "outputs": [],
   "source": [
    "from datetime import datetime, timedelta\n",
    "import pandas as pd\n",
    "\n",
    "\n",
    "\n",
    "click_stream = pd.read_csv('C:/Users/hm981/OneDrive/바탕 화면/AI부트캠프/project/teamproject2/data_refine/click_stream_final.csv')\n",
    "transaction = pd.read_csv('C:/Users/hm981/OneDrive/바탕 화면/AI부트캠프/project/teamproject2/data_refine/transaction_final.csv')\n",
    "product = pd.read_csv('C:/Users/hm981/OneDrive/바탕 화면/AI부트캠프/project/teamproject2/data_refine/product_final.csv')\n",
    "customer = pd.read_csv('C:/Users/hm981/OneDrive/바탕 화면/AI부트캠프/project/teamproject2/data_refine/customer_final.csv')\n",
    "\n",
    "tem = pd.merge(click_stream[['session_id', 'event_time', 'event_name']], transaction[['session_id', 'customer_id']].drop_duplicates(), on = 'session_id', how = \"left\")\n",
    "tem2 = pd.merge(tem[tem.customer_id.notnull()], customer[['customer_id', 'first_join_date']], on = 'customer_id', how= 'left')\n",
    "\n",
    "\n"
   ]
  },
  {
   "cell_type": "code",
   "execution_count": 2,
   "metadata": {},
   "outputs": [],
   "source": [
    "# 시간 복잡도 개선 이전 함수\n",
    "# def bounce_judge(df):\n",
    "#     #측정 기간 설정\n",
    "#     start_date = pd.to_datetime('2020-07-01')\n",
    "#     end_date = pd.to_datetime('2022-06-30')\n",
    "    \n",
    "#     #측정 기간에 해당하는 월 수: 24개\n",
    "#     num_of_months = (end_date.year - start_date.year) * 12 + (end_date.month - start_date.month) + 1\n",
    "    \n",
    "#     #이탈 판단 기준(14일 = 60 * 60 * 24 * 14 = 1209600 초)\n",
    "#     criterion = 1209600\n",
    "\n",
    "#     # 월별 컬럼 이름 생성\n",
    "#     column_names = [(start_date + pd.DateOffset(months=i)).strftime('%Y-%m') for i in range(num_of_months)]\n",
    "\n",
    "#     #데이터의 시간 데이터 타입 초기화\n",
    "#     df.event_time = pd.to_datetime(df.event_time)\n",
    "\n",
    "#     # 빈 데이터프레임 생성\n",
    "#     res = pd.DataFrame(columns=column_names)\n",
    "\n",
    "#     #customer_id를 기준으로 반복\n",
    "#     for customer in df.customer_id.unique():\n",
    "        \n",
    "#         #베이스 딕셔너리 생성\n",
    "#         tem = {month : 0 for month in sorted(column_names)}\n",
    "\n",
    "#         #조건에 맞는 데이터로그 불러오기\n",
    "#         log = df[(df.customer_id == customer) & (df.event_name == 'HOMEPAGE') & (pd.to_datetime(df.event_time.dt.date) <= end_date) & (pd.to_datetime(df.event_time.dt.date) >= start_date)].sort_values('event_time').reset_index(drop = True)\n",
    "\n",
    "#         # 정해진 기간에 데이터가 없을 경우 log.loc[0, 'first_join_date'] 를 호출 하는 과정에서 오류 발생 함. 이를 방지하고자 데이터의 개수가 0개이면 넘어감\n",
    "#         if len(log) == 0:\n",
    "#             pass\n",
    "\n",
    "#         else:    # 2020-07월 이전에 계정을 생성한 경우\n",
    "#             if pd.to_datetime(log.loc[0, 'first_join_date']) < start_date:\n",
    "\n",
    "#                 #방문 기록이 없는 달 추출하여 집합으로 저장\n",
    "#                 date_set = set([date.strftime('%Y-%m') for date in log.event_time])\n",
    "#                 bounce_month = set(column_names) - date_set\n",
    "        \n",
    "#                 #homepage 재방문 시간 계산\n",
    "#                 log['diff'] = log.event_time.diff().dt.total_seconds()\n",
    "\n",
    "#                 #첫번째 인덱스에는 start_date 부터의 시간 간격 측정\n",
    "#                 log.iloc[0,4] = (pd.Timestamp(log.iloc[0,3], tz= 'UTC') - pd.Timestamp('2020-07-01 0:0:0', tz= 'UTC')).total_seconds()\n",
    "\n",
    "#                 #bounce_month 집합에 마지막 접속일 부터 10일 지난 시점의 달 추가(합집합)\n",
    "#                 bounce_month = bounce_month.union(set([date.strftime('%Y-%m') for date in log.loc[(log[log['diff'] > criterion].index - 1), 'event_time'] + timedelta(days=14)]))\n",
    "\n",
    "#             # 2020-07월 이후에 계정을 생성한 경우\n",
    "#             else:\n",
    "                \n",
    "#                 #start_date 이후 first_join_date 이전 월 추출(이탈 아닌것으로 확인해야하기 때문에)\n",
    "#                 date_range = pd.date_range(start=start_date, end=log.first_join_date.iloc[0], freq='M')\n",
    "#                 extracted_months = set(date.strftime('%Y-%m') for date in date_range)\n",
    "\n",
    "#                 #방문 기록이 없는 달 추출하여 집합으로 저장\n",
    "#                 date_set = set([date.strftime('%Y-%m') for date in log.event_time])\n",
    "#                 bounce_month = set(column_names) - date_set - extracted_months\n",
    "                    \n",
    "#                 #homepage 재방문 시간 계산\n",
    "#                 log['diff'] = log.event_time.diff().dt.total_seconds()\n",
    "\n",
    "#                 #첫번째 인덱스에는 first_join_date 부터의 시간 간격 측정\n",
    "#                 log.iloc[0,4] = (pd.Timestamp(log.iloc[0,3], tz= 'UTC') - pd.Timestamp(log.loc[0, 'first_join_date'], tz= 'UTC')).total_seconds()\n",
    "\n",
    "#                 #bounce_month 집합에 마지막 접속일 부터 10일 지난 시점의 달 추가(합집합)\n",
    "#                 bounce_month = bounce_month.union(set([date.strftime('%Y-%m') for date in log.loc[(log[log['diff'] > criterion].index - 1), 'event_time'] + timedelta(days=14)]))\n",
    "\n",
    "#         #이탈(1) 입력\n",
    "#         for month in bounce_month:\n",
    "#             tem[month] = 1\n",
    "    \n",
    "#         #customer_id 와 key에 대해 이탈여부 매칭하는 데이터프레임 만들기\n",
    "#         for key in tem:\n",
    "#             res.loc[customer, key] = int(tem[key])\n",
    "    \n",
    "#     return res"
   ]
  },
  {
   "cell_type": "code",
   "execution_count": 285,
   "metadata": {},
   "outputs": [],
   "source": [
    "#함수 사용에 필요한 특성\n",
    "#click_stream\n",
    "#   event_name: 'HOMEPAGE' 인 이벤트만 조회하기 때문에\n",
    "#   event_time: 재방문에 걸린 시간 조회하기 위해\n",
    "#   session_id: transaction 테이블과 병합하여 customer_id를 얻기 위해\n",
    "#transaction\n",
    "#   session_id: click_stream 테이블과 병합하여 customer_id를 얻기 위해\n",
    "#   customer_id: customer 테이블과 병합하여 first_join_date 를 얻기 위해\n",
    "#customer\n",
    "#   customer_id: click_stream 테이블과 병합하여 first_join_date 를 얻기 위해\n",
    "#   first_join_date: 가입 시기를 알기 위해\n",
    "\n",
    "\n",
    "\n",
    "def bounce_judge(df, days_cri = 10):\n",
    "    # 측정 기간 설정\n",
    "    start_date = pd.to_datetime('2020-08-01')\n",
    "    end_date = pd.to_datetime('2022-07-31')\n",
    "    \n",
    "    # 측정 기간에 해당하는 월 수: 24개\n",
    "    num_of_months = (end_date.year - start_date.year) * 12 + (end_date.month - start_date.month) + 1\n",
    "    \n",
    "    # 이탈 판단 기준(days_cir = 기준이 되는 일)\n",
    "    criterion = 60 * 60 * 24 * days_cri\n",
    "\n",
    "    # 월별 이름 생성\n",
    "    column_names = [(start_date + pd.DateOffset(months=i)).strftime('%Y-%m') for i in range(num_of_months)]\n",
    "\n",
    "    # 데이터의 시간 데이터 타입 초기화\n",
    "    df.event_time = pd.to_datetime(df.event_time)\n",
    "\n",
    "    # 빈 딕셔너리 생성\n",
    "    res = {}\n",
    "\n",
    "    # customer_id를 기준으로 그룹화\n",
    "    grouped = df[(df.event_name == 'HOMEPAGE') & (pd.to_datetime(df.event_time.dt.date) <= end_date) & (pd.to_datetime(df.event_time.dt.date) >= start_date)].groupby('customer_id')\n",
    "\n",
    "    #grouped 에 포함되지 않는 데이터 처리\n",
    "    excluded_ids_set = set(df[~df.customer_id.isin(grouped.groups.keys())]['customer_id']) #grouped 에 포함되지 않는 customer_id 집합\n",
    "    first_join_dates = df[df.customer_id.isin(excluded_ids_set)].groupby('customer_id').first_join_date.first() #위 집합에 포함된 customer_id의 first_join_dates\n",
    "    \n",
    "    \n",
    "    # excluded_ids를 순회하면서 이탈 여부 결정\n",
    "    for customer in excluded_ids_set:\n",
    "        f_j = pd.to_datetime(first_join_dates[customer])\n",
    "        \n",
    "        #start_date 이전에 가입했지만 2020/07~2022/06 기간동안 접속 안한 경우 이탈(1)\n",
    "        if f_j < start_date:\n",
    "            res[customer] = [1] * num_of_months\n",
    "\n",
    "        #start_date 이후에 가입하여 2020/07~2022/06 기간동안 데이터가 없는 경우 이탈X(0)            \n",
    "        elif f_j > end_date:\n",
    "            res[customer] = [0] * num_of_months\n",
    "\n",
    "\n",
    "    \n",
    "    # 각 그룹 별로 작업 수행\n",
    "    for customer, log in grouped:\n",
    "        tem = {month: 0 for month in sorted(column_names)}\n",
    "            \n",
    "        # 방문 기록이 없는 달 추출하여 집합으로 저장\n",
    "        date_set = set([date.strftime('%Y-%m') for date in log.event_time])\n",
    "        bounce_month = set(column_names) - date_set\n",
    "\n",
    "        # homepage 재방문 시간 계산\n",
    "        log['diff'] = log.event_time.diff().dt.total_seconds()\n",
    "        log.reset_index(drop = True, inplace = True)\n",
    "\n",
    "            \n",
    "        first_index = log.index[0]\n",
    "        log_index = log[log['diff'] > criterion].index\n",
    "            \n",
    "        # .diff() 함수 적용시 첫 행에 나오는 nan 값에 대한 처리\n",
    "        # fisrt_join date < start_date 일 경우 start_date ~ 첫번째 homepage event 발생 시점까지의 시간을 첫 행에 입력\n",
    "        if pd.to_datetime(log.loc[first_index, 'first_join_date']) < start_date:\n",
    "            log.at[first_index, 'diff'] = (log.at[first_index, 'event_time'] - pd.Timestamp('2020-08-01 0:0:0', tz='UTC')).total_seconds()\n",
    "\n",
    "            #위에서 계산한 값이 criterion 값보다 클 경우 아래 로직에서 (0 - 1)이 계산 되어 음수 인덱스로 인한 에러 발생 / 첫 행에 대해서는 기준 보다 클 때 첫번째 event_time 의 연/월에 이탈(1) 처리\n",
    "            if log.at[first_index, 'diff'] > criterion:\n",
    "                bounce_month.add(log.at[first_index, 'event_time'].strftime('%Y-%m'))\n",
    "                log_index = log[log['diff'] > criterion].index.drop(0) #아래 로직에서 오류 발생하지 않게 0번 인덱스 드랍(위에서 해당 행에 대해 이탈 여부를 처리함)\n",
    "\n",
    "        # fisrt_join date >= start_date 일 경우 start_date ~ fisrt_join_date 시점까지의 연/월에 대해 이탈X(0) 처리 / first_join_date ~ 첫번째 homepage event 발생 시점까지의 시간을 첫 행에 입력\n",
    "        else:\n",
    "            date_range = pd.date_range(start=start_date, end=log.first_join_date.iloc[0], freq='M')\n",
    "            extracted_months = set(date.strftime('%Y-%m') for date in date_range)\n",
    "            log.at[first_index, 'diff'] = (log.at[first_index, 'event_time'] - pd.Timestamp(log.at[first_index, 'first_join_date'], tz='UTC')).total_seconds()\n",
    "            bounce_month -= extracted_months\n",
    "        \n",
    "        # bounce_month 집합에 마지막 접속일 부터 10일 지난 시점의 달 추가(합집합)\n",
    "        bounce_month = bounce_month.union(set([date.strftime('%Y-%m') for date in log.loc[(log_index - 1), 'event_time'] + timedelta(days= days_cri)]))\n",
    "\n",
    "        # 이탈(1) 입력\n",
    "        for month in bounce_month:\n",
    "            tem[month] = 1\n",
    "\n",
    "        # customer_id와 key에 대해 이탈 여부 매칭하는 딕셔너리 만들기\n",
    "        res[customer] = [int(tem[key]) for key in sorted(tem.keys())]\n",
    "\n",
    "    # 딕셔너리를 데이터프레임으로 변환\n",
    "    res_df = pd.DataFrame.from_dict(res, orient='index', columns=column_names)\n",
    "    \n",
    "    return res_df\n"
   ]
  },
  {
   "cell_type": "code",
   "execution_count": 287,
   "metadata": {},
   "outputs": [],
   "source": [
    "bounce_10 = bounce_judge(tem2, 10)"
   ]
  },
  {
   "cell_type": "code",
   "execution_count": 294,
   "metadata": {},
   "outputs": [],
   "source": [
    "bounce_11 = bounce_judge(tem2, 11)"
   ]
  },
  {
   "cell_type": "code",
   "execution_count": null,
   "metadata": {},
   "outputs": [],
   "source": [
    "bounce_14 = bounce_judge(tem2, 14)"
   ]
  },
  {
   "cell_type": "code",
   "execution_count": null,
   "metadata": {},
   "outputs": [],
   "source": [
    "bounce_1_5 = bounce_judge(tem2, 1.5)"
   ]
  },
  {
   "cell_type": "code",
   "execution_count": 288,
   "metadata": {},
   "outputs": [
    {
     "data": {
      "text/plain": [
       "50704"
      ]
     },
     "execution_count": 288,
     "metadata": {},
     "output_type": "execute_result"
    }
   ],
   "source": [
    "len(bounce_10)"
   ]
  },
  {
   "cell_type": "code",
   "execution_count": 289,
   "metadata": {},
   "outputs": [
    {
     "data": {
      "text/plain": [
       "50704"
      ]
     },
     "execution_count": 289,
     "metadata": {},
     "output_type": "execute_result"
    }
   ],
   "source": [
    "tem2.customer_id.nunique()"
   ]
  },
  {
   "cell_type": "code",
   "execution_count": 290,
   "metadata": {},
   "outputs": [
    {
     "data": {
      "text/plain": [
       "0"
      ]
     },
     "execution_count": 290,
     "metadata": {},
     "output_type": "execute_result"
    }
   ],
   "source": [
    "result = list(set(tem2.customer_id.unique()).difference(bounce_10.index))\n",
    "len(result)"
   ]
  },
  {
   "cell_type": "code",
   "execution_count": 291,
   "metadata": {},
   "outputs": [
    {
     "data": {
      "text/plain": [
       "[]"
      ]
     },
     "execution_count": 291,
     "metadata": {},
     "output_type": "execute_result"
    }
   ],
   "source": [
    "result"
   ]
  },
  {
   "cell_type": "code",
   "execution_count": 293,
   "metadata": {},
   "outputs": [
    {
     "ename": "KeyError",
     "evalue": "\"None of [Index([18770.0, 18770.0, 18770.0, 18770.0, 18770.0, 18770.0, 18770.0, 18770.0,\\n       18770.0, 18770.0,\\n       ...\\n       64875.0, 64875.0, 44381.0, 44381.0, 44381.0, 44381.0, 83906.0, 83906.0,\\n       83906.0, 83906.0],\\n      dtype='float64', length=12463004)] are in the [columns]\"",
     "output_type": "error",
     "traceback": [
      "\u001b[1;31m---------------------------------------------------------------------------\u001b[0m",
      "\u001b[1;31mKeyError\u001b[0m                                  Traceback (most recent call last)",
      "Cell \u001b[1;32mIn[293], line 1\u001b[0m\n\u001b[1;32m----> 1\u001b[0m tem2[tem2[\u001b[39m'\u001b[39;49m\u001b[39mcustomer_id\u001b[39;49m\u001b[39m'\u001b[39;49m]]\n",
      "File \u001b[1;32mc:\\Users\\hm981\\anaconda3\\envs\\tp2\\lib\\site-packages\\pandas\\core\\frame.py:3767\u001b[0m, in \u001b[0;36mDataFrame.__getitem__\u001b[1;34m(self, key)\u001b[0m\n\u001b[0;32m   3765\u001b[0m     \u001b[39mif\u001b[39;00m is_iterator(key):\n\u001b[0;32m   3766\u001b[0m         key \u001b[39m=\u001b[39m \u001b[39mlist\u001b[39m(key)\n\u001b[1;32m-> 3767\u001b[0m     indexer \u001b[39m=\u001b[39m \u001b[39mself\u001b[39;49m\u001b[39m.\u001b[39;49mcolumns\u001b[39m.\u001b[39;49m_get_indexer_strict(key, \u001b[39m\"\u001b[39;49m\u001b[39mcolumns\u001b[39;49m\u001b[39m\"\u001b[39;49m)[\u001b[39m1\u001b[39m]\n\u001b[0;32m   3769\u001b[0m \u001b[39m# take() does not accept boolean indexers\u001b[39;00m\n\u001b[0;32m   3770\u001b[0m \u001b[39mif\u001b[39;00m \u001b[39mgetattr\u001b[39m(indexer, \u001b[39m\"\u001b[39m\u001b[39mdtype\u001b[39m\u001b[39m\"\u001b[39m, \u001b[39mNone\u001b[39;00m) \u001b[39m==\u001b[39m \u001b[39mbool\u001b[39m:\n",
      "File \u001b[1;32mc:\\Users\\hm981\\anaconda3\\envs\\tp2\\lib\\site-packages\\pandas\\core\\indexes\\base.py:5876\u001b[0m, in \u001b[0;36mIndex._get_indexer_strict\u001b[1;34m(self, key, axis_name)\u001b[0m\n\u001b[0;32m   5873\u001b[0m \u001b[39melse\u001b[39;00m:\n\u001b[0;32m   5874\u001b[0m     keyarr, indexer, new_indexer \u001b[39m=\u001b[39m \u001b[39mself\u001b[39m\u001b[39m.\u001b[39m_reindex_non_unique(keyarr)\n\u001b[1;32m-> 5876\u001b[0m \u001b[39mself\u001b[39;49m\u001b[39m.\u001b[39;49m_raise_if_missing(keyarr, indexer, axis_name)\n\u001b[0;32m   5878\u001b[0m keyarr \u001b[39m=\u001b[39m \u001b[39mself\u001b[39m\u001b[39m.\u001b[39mtake(indexer)\n\u001b[0;32m   5879\u001b[0m \u001b[39mif\u001b[39;00m \u001b[39misinstance\u001b[39m(key, Index):\n\u001b[0;32m   5880\u001b[0m     \u001b[39m# GH 42790 - Preserve name from an Index\u001b[39;00m\n",
      "File \u001b[1;32mc:\\Users\\hm981\\anaconda3\\envs\\tp2\\lib\\site-packages\\pandas\\core\\indexes\\base.py:5935\u001b[0m, in \u001b[0;36mIndex._raise_if_missing\u001b[1;34m(self, key, indexer, axis_name)\u001b[0m\n\u001b[0;32m   5933\u001b[0m     \u001b[39mif\u001b[39;00m use_interval_msg:\n\u001b[0;32m   5934\u001b[0m         key \u001b[39m=\u001b[39m \u001b[39mlist\u001b[39m(key)\n\u001b[1;32m-> 5935\u001b[0m     \u001b[39mraise\u001b[39;00m \u001b[39mKeyError\u001b[39;00m(\u001b[39mf\u001b[39m\u001b[39m\"\u001b[39m\u001b[39mNone of [\u001b[39m\u001b[39m{\u001b[39;00mkey\u001b[39m}\u001b[39;00m\u001b[39m] are in the [\u001b[39m\u001b[39m{\u001b[39;00maxis_name\u001b[39m}\u001b[39;00m\u001b[39m]\u001b[39m\u001b[39m\"\u001b[39m)\n\u001b[0;32m   5937\u001b[0m not_found \u001b[39m=\u001b[39m \u001b[39mlist\u001b[39m(ensure_index(key)[missing_mask\u001b[39m.\u001b[39mnonzero()[\u001b[39m0\u001b[39m]]\u001b[39m.\u001b[39munique())\n\u001b[0;32m   5938\u001b[0m \u001b[39mraise\u001b[39;00m \u001b[39mKeyError\u001b[39;00m(\u001b[39mf\u001b[39m\u001b[39m\"\u001b[39m\u001b[39m{\u001b[39;00mnot_found\u001b[39m}\u001b[39;00m\u001b[39m not in index\u001b[39m\u001b[39m\"\u001b[39m)\n",
      "\u001b[1;31mKeyError\u001b[0m: \"None of [Index([18770.0, 18770.0, 18770.0, 18770.0, 18770.0, 18770.0, 18770.0, 18770.0,\\n       18770.0, 18770.0,\\n       ...\\n       64875.0, 64875.0, 44381.0, 44381.0, 44381.0, 44381.0, 83906.0, 83906.0,\\n       83906.0, 83906.0],\\n      dtype='float64', length=12463004)] are in the [columns]\""
     ]
    }
   ],
   "source": [
    "tem2[tem2['customer_id']]"
   ]
  }
 ],
 "metadata": {
  "kernelspec": {
   "display_name": "tp2",
   "language": "python",
   "name": "python3"
  },
  "language_info": {
   "codemirror_mode": {
    "name": "ipython",
    "version": 3
   },
   "file_extension": ".py",
   "mimetype": "text/x-python",
   "name": "python",
   "nbconvert_exporter": "python",
   "pygments_lexer": "ipython3",
   "version": "3.10.11"
  },
  "orig_nbformat": 4
 },
 "nbformat": 4,
 "nbformat_minor": 2
}
