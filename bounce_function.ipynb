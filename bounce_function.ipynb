{
 "cells": [
  {
   "cell_type": "code",
   "execution_count": null,
   "metadata": {},
   "outputs": [],
   "source": [
    "from datetime import datetime, timedelta\n",
    "import pandas as pd\n",
    "\n",
    "\n",
    "\n",
    "click_stream = pd.read_csv('C:/Users/hm981/OneDrive/바탕 화면/AI부트캠프/project/teamproject2/data_refine/click_stream_final.csv')\n",
    "transaction = pd.read_csv('C:/Users/hm981/OneDrive/바탕 화면/AI부트캠프/project/teamproject2/data_refine/transaction_final.csv')\n",
    "product = pd.read_csv('C:/Users/hm981/OneDrive/바탕 화면/AI부트캠프/project/teamproject2/data_refine/product_final.csv')\n",
    "customer = pd.read_csv('C:/Users/hm981/OneDrive/바탕 화면/AI부트캠프/project/teamproject2/data_refine/customer_final.csv')\n",
    "\n",
    "tem = pd.merge(click_stream[['session_id', 'event_time', 'event_name']], transaction[['session_id', 'customer_id']].drop_duplicates(), on = 'session_id', how = \"left\")\n",
    "tem2 = pd.merge(tem[tem.customer_id.notnull()], customer[['customer_id', 'first_join_date']], on = 'customer_id', how= 'left')\n",
    "\n",
    "\n"
   ]
  },
  {
   "cell_type": "code",
   "execution_count": null,
   "metadata": {},
   "outputs": [],
   "source": [
    "# 시간 복잡도 개선 이전 함수\n",
    "# def bounce_judge(df):\n",
    "#     #측정 기간 설정\n",
    "#     start_date = pd.to_datetime('2020-07-01')\n",
    "#     end_date = pd.to_datetime('2022-06-30')\n",
    "    \n",
    "#     #측정 기간에 해당하는 월 수: 24개\n",
    "#     num_of_months = (end_date.year - start_date.year) * 12 + (end_date.month - start_date.month) + 1\n",
    "    \n",
    "#     #이탈 판단 기준(14일 = 60 * 60 * 24 * 14 = 1209600 초)\n",
    "#     criterion = 1209600\n",
    "\n",
    "#     # 월별 컬럼 이름 생성\n",
    "#     column_names = [(start_date + pd.DateOffset(months=i)).strftime('%Y-%m') for i in range(num_of_months)]\n",
    "\n",
    "#     #데이터의 시간 데이터 타입 초기화\n",
    "#     df.event_time = pd.to_datetime(df.event_time)\n",
    "\n",
    "#     # 빈 데이터프레임 생성\n",
    "#     res = pd.DataFrame(columns=column_names)\n",
    "\n",
    "#     #customer_id를 기준으로 반복\n",
    "#     for customer in df.customer_id.unique():\n",
    "        \n",
    "#         #베이스 딕셔너리 생성\n",
    "#         tem = {month : 0 for month in sorted(column_names)}\n",
    "\n",
    "#         #조건에 맞는 데이터로그 불러오기\n",
    "#         log = df[(df.customer_id == customer) & (df.event_name == 'HOMEPAGE') & (pd.to_datetime(df.event_time.dt.date) <= end_date) & (pd.to_datetime(df.event_time.dt.date) >= start_date)].sort_values('event_time').reset_index(drop = True)\n",
    "\n",
    "#         # 정해진 기간에 데이터가 없을 경우 log.loc[0, 'first_join_date'] 를 호출 하는 과정에서 오류 발생 함. 이를 방지하고자 데이터의 개수가 0개이면 넘어감\n",
    "#         if len(log) == 0:\n",
    "#             pass\n",
    "\n",
    "#         else:    # 2020-07월 이전에 계정을 생성한 경우\n",
    "#             if pd.to_datetime(log.loc[0, 'first_join_date']) < start_date:\n",
    "\n",
    "#                 #방문 기록이 없는 달 추출하여 집합으로 저장\n",
    "#                 date_set = set([date.strftime('%Y-%m') for date in log.event_time])\n",
    "#                 bounce_month = set(column_names) - date_set\n",
    "        \n",
    "#                 #homepage 재방문 시간 계산\n",
    "#                 log['diff'] = log.event_time.diff().dt.total_seconds()\n",
    "\n",
    "#                 #첫번째 인덱스에는 start_date 부터의 시간 간격 측정\n",
    "#                 log.iloc[0,4] = (pd.Timestamp(log.iloc[0,3], tz= 'UTC') - pd.Timestamp('2020-07-01 0:0:0', tz= 'UTC')).total_seconds()\n",
    "\n",
    "#                 #bounce_month 집합에 마지막 접속일 부터 10일 지난 시점의 달 추가(합집합)\n",
    "#                 bounce_month = bounce_month.union(set([date.strftime('%Y-%m') for date in log.loc[(log[log['diff'] > criterion].index - 1), 'event_time'] + timedelta(days=14)]))\n",
    "\n",
    "#             # 2020-07월 이후에 계정을 생성한 경우\n",
    "#             else:\n",
    "                \n",
    "#                 #start_date 이후 first_join_date 이전 월 추출(이탈 아닌것으로 확인해야하기 때문에)\n",
    "#                 date_range = pd.date_range(start=start_date, end=log.first_join_date.iloc[0], freq='M')\n",
    "#                 extracted_months = set(date.strftime('%Y-%m') for date in date_range)\n",
    "\n",
    "#                 #방문 기록이 없는 달 추출하여 집합으로 저장\n",
    "#                 date_set = set([date.strftime('%Y-%m') for date in log.event_time])\n",
    "#                 bounce_month = set(column_names) - date_set - extracted_months\n",
    "                    \n",
    "#                 #homepage 재방문 시간 계산\n",
    "#                 log['diff'] = log.event_time.diff().dt.total_seconds()\n",
    "\n",
    "#                 #첫번째 인덱스에는 first_join_date 부터의 시간 간격 측정\n",
    "#                 log.iloc[0,4] = (pd.Timestamp(log.iloc[0,3], tz= 'UTC') - pd.Timestamp(log.loc[0, 'first_join_date'], tz= 'UTC')).total_seconds()\n",
    "\n",
    "#                 #bounce_month 집합에 마지막 접속일 부터 10일 지난 시점의 달 추가(합집합)\n",
    "#                 bounce_month = bounce_month.union(set([date.strftime('%Y-%m') for date in log.loc[(log[log['diff'] > criterion].index - 1), 'event_time'] + timedelta(days=14)]))\n",
    "\n",
    "#         #이탈(1) 입력\n",
    "#         for month in bounce_month:\n",
    "#             tem[month] = 1\n",
    "    \n",
    "#         #customer_id 와 key에 대해 이탈여부 매칭하는 데이터프레임 만들기\n",
    "#         for key in tem:\n",
    "#             res.loc[customer, key] = int(tem[key])\n",
    "    \n",
    "#     return res"
   ]
  },
  {
   "attachments": {},
   "cell_type": "markdown",
   "metadata": {},
   "source": [
    "# homepage 페이지 방문 기준 이탈"
   ]
  },
  {
   "attachments": {},
   "cell_type": "markdown",
   "metadata": {},
   "source": [
    "## 이탈 함수"
   ]
  },
  {
   "cell_type": "code",
   "execution_count": null,
   "metadata": {},
   "outputs": [],
   "source": [
    "#함수 사용에 필요한 특성\n",
    "#click_stream\n",
    "#   event_name: 'HOMEPAGE' 인 이벤트만 조회하기 때문에\n",
    "#   event_time: 재방문에 걸린 시간 조회하기 위해\n",
    "#   session_id: transaction 테이블과 병합하여 customer_id를 얻기 위해\n",
    "#transaction\n",
    "#   session_id: click_stream 테이블과 병합하여 customer_id를 얻기 위해\n",
    "#   customer_id: customer 테이블과 병합하여 first_join_date 를 얻기 위해\n",
    "#customer\n",
    "#   customer_id: click_stream 테이블과 병합하여 first_join_date 를 얻기 위해\n",
    "#   first_join_date: 가입 시기를 알기 위해\n",
    "\n",
    "\n",
    "\n",
    "def bounce_judge(df, days_cri = 10):\n",
    "    # 측정 기간 설정\n",
    "    start_date = pd.to_datetime('2020-08-01')\n",
    "    end_date = pd.to_datetime('2022-07-31')\n",
    "    \n",
    "    # 측정 기간에 해당하는 월 수: 24개\n",
    "    num_of_months = (end_date.year - start_date.year) * 12 + (end_date.month - start_date.month) + 1\n",
    "    \n",
    "    # 이탈 판단 기준(days_cir = 기준이 되는 일)\n",
    "    criterion = 60 * 60 * 24 * days_cri\n",
    "\n",
    "    # 월별 이름 생성\n",
    "    column_names = [(start_date + pd.DateOffset(months=i)).strftime('%Y-%m') for i in range(num_of_months)]\n",
    "\n",
    "    # 데이터의 시간 데이터 타입 초기화\n",
    "    df.event_time = pd.to_datetime(df.event_time)\n",
    "\n",
    "    # 빈 딕셔너리 생성\n",
    "    res = {}\n",
    "\n",
    "    # customer_id를 기준으로 그룹화\n",
    "    grouped = df[(df.event_name == 'HOMEPAGE') & (pd.to_datetime(df.event_time.dt.date) <= end_date) & (pd.to_datetime(df.event_time.dt.date) >= start_date)].groupby('customer_id')\n",
    "\n",
    "    #grouped 에 포함되지 않는 데이터 처리\n",
    "    excluded_ids_set = set(df[~df.customer_id.isin(grouped.groups.keys())]['customer_id']) #grouped 에 포함되지 않는 customer_id 집합\n",
    "    first_join_dates = df[df.customer_id.isin(excluded_ids_set)].groupby('customer_id').first_join_date.first() #위 집합에 포함된 customer_id의 first_join_dates\n",
    "    \n",
    "    \n",
    "    # excluded_ids를 순회하면서 이탈 여부 결정\n",
    "    for customer in excluded_ids_set:\n",
    "        f_j = pd.to_datetime(first_join_dates[customer])\n",
    "        \n",
    "        #start_date 이전에 가입했지만 2020/07~2022/06 기간동안 접속 안한 경우 이탈(1)\n",
    "        if f_j < start_date:\n",
    "            res[customer] = [1] * num_of_months\n",
    "\n",
    "        #start_date 이후에 가입하여 2020/07~2022/06 기간동안 데이터가 없는 경우 이탈X(0)            \n",
    "        elif f_j > end_date:\n",
    "            res[customer] = [0] * num_of_months\n",
    "\n",
    "\n",
    "    \n",
    "    # 각 그룹 별로 작업 수행\n",
    "    for customer, log in grouped:\n",
    "        tem = {month: 0 for month in sorted(column_names)}\n",
    "            \n",
    "        # 방문 기록이 없는 달 추출하여 집합으로 저장\n",
    "        date_set = set([date.strftime('%Y-%m') for date in log.event_time])\n",
    "        bounce_month = set(column_names) - date_set\n",
    "\n",
    "        # homepage 재방문 시간 계산\n",
    "        log['diff'] = log.event_time.diff().dt.total_seconds()\n",
    "        log.reset_index(drop = True, inplace = True)\n",
    "\n",
    "            \n",
    "        first_index = log.index[0]\n",
    "        log_index = log[log['diff'] > criterion].index\n",
    "            \n",
    "        # .diff() 함수 적용시 첫 행에 나오는 nan 값에 대한 처리\n",
    "        # fisrt_join date < start_date 일 경우 start_date ~ 첫번째 homepage event 발생 시점까지의 시간을 첫 행에 입력\n",
    "        if pd.to_datetime(log.loc[first_index, 'first_join_date']) < start_date:\n",
    "            log.at[first_index, 'diff'] = (log.at[first_index, 'event_time'] - pd.Timestamp('2020-08-01 0:0:0', tz='UTC')).total_seconds()\n",
    "\n",
    "            #위에서 계산한 값이 criterion 값보다 클 경우 아래 로직에서 (0 - 1)이 계산 되어 음수 인덱스로 인한 에러 발생 / 첫 행에 대해서는 기준 보다 클 때 첫번째 event_time 의 연/월에 이탈(1) 처리\n",
    "            if log.at[first_index, 'diff'] > criterion:\n",
    "                bounce_month.add(log.at[first_index, 'event_time'].strftime('%Y-%m'))\n",
    "                log_index = log[log['diff'] > criterion].index.drop(0) #아래 로직에서 오류 발생하지 않게 0번 인덱스 드랍(위에서 해당 행에 대해 이탈 여부를 처리함)\n",
    "\n",
    "        # fisrt_join date >= start_date 일 경우 start_date ~ fisrt_join_date 시점까지의 연/월에 대해 이탈X(0) 처리 / first_join_date ~ 첫번째 homepage event 발생 시점까지의 시간을 첫 행에 입력\n",
    "        else:\n",
    "            date_range = pd.date_range(start=start_date, end=log.first_join_date.iloc[0], freq='M')\n",
    "            extracted_months = set(date.strftime('%Y-%m') for date in date_range)\n",
    "            log.at[first_index, 'diff'] = (log.at[first_index, 'event_time'] - pd.Timestamp(log.at[first_index, 'first_join_date'], tz='UTC')).total_seconds()\n",
    "            bounce_month -= extracted_months\n",
    "        \n",
    "        # bounce_month 집합에 마지막 접속일 부터 10일 지난 시점의 달 추가(합집합)\n",
    "        bounce_month = bounce_month.union(set([date.strftime('%Y-%m') for date in log.loc[(log_index - 1), 'event_time'] + timedelta(days= days_cri)]))\n",
    "\n",
    "        # 이탈(1) 입력\n",
    "        for month in bounce_month:\n",
    "            tem[month] = 1\n",
    "\n",
    "        # customer_id와 key에 대해 이탈 여부 매칭하는 딕셔너리 만들기\n",
    "        res[customer] = [int(tem[key]) for key in sorted(tem.keys())]\n",
    "\n",
    "    # 딕셔너리를 데이터프레임으로 변환\n",
    "    res_df = pd.DataFrame.from_dict(res, orient='index', columns=column_names)\n",
    "    \n",
    "    return res_df\n"
   ]
  },
  {
   "attachments": {},
   "cell_type": "markdown",
   "metadata": {},
   "source": [
    "## 함수 적용"
   ]
  },
  {
   "attachments": {},
   "cell_type": "markdown",
   "metadata": {},
   "source": [
    "### 누적"
   ]
  },
  {
   "cell_type": "code",
   "execution_count": null,
   "metadata": {},
   "outputs": [],
   "source": [
    "x_tick = ['2020/08', '2020/09', '2020/10', '2020/11', '2020/12',\n",
    "'2021/01', '2021/02', '2021/03', '2021/04', '2021/05', '2021/06', '2021/07', '2021/08', '2021/09', '2021/10', '2021/11', '2021/12',\n",
    "'2022/01', '2022/02', '2022/03', '2022/04', '2022/05', '2022/06', '2022/07']"
   ]
  },
  {
   "cell_type": "code",
   "execution_count": null,
   "metadata": {},
   "outputs": [],
   "source": [
    "#월간 신규 가입 고객 수 계산\n",
    "def monthly_join_user(df):\n",
    "    list = []\n",
    "    for i in range(1,13):\n",
    "        list.append(len(df[df.first_join_date.dt.month == i]))\n",
    "        year = df.first_join_date.dt.year.unique()[0]\n",
    "    return [list, year]\n",
    "\n",
    "#월간 신규 가입 고객 수 그래프 \n",
    "def plot_monthly_graph(df):\n",
    "    plt.figure(figsize=(10, 6))\n",
    "    plt.plot([1, 2, 3, 4, 5, 6, 7, 8, 9, 10, 11, 12], df[0])\n",
    "    plt.xticks(range(1, 13), ['Jan', 'Feb', 'Mar', 'Apr', 'May', 'Jun', 'Jul', 'Aug', 'Sep', 'Oct', 'Nov', 'Dec'])\n",
    "    plt.xlabel('Month')\n",
    "    plt.ylabel('User')\n",
    "    plt.title(f'{df[1]} MONTHLY JOIN USER')\n",
    "    return plt.show"
   ]
  },
  {
   "cell_type": "code",
   "execution_count": null,
   "metadata": {},
   "outputs": [],
   "source": [
    "#연도별 신규 가입 고객 수 계산\n",
    "\n",
    "customer.first_join_date = pd.to_datetime(customer.first_join_date)\n",
    "\n",
    "join_2016 = customer[customer.first_join_date.dt.year == 2016]\n",
    "join_2017 = customer[customer.first_join_date.dt.year == 2017]\n",
    "join_2018 = customer[customer.first_join_date.dt.year == 2018]\n",
    "join_2019 = customer[customer.first_join_date.dt.year == 2019]\n",
    "join_2020 = customer[customer.first_join_date.dt.year == 2020]\n",
    "join_2021 = customer[customer.first_join_date.dt.year == 2021]\n",
    "join_2022 = customer[customer.first_join_date.dt.year == 2022]\n",
    "\n",
    "join_count = pd.DataFrame([len(join_2016), len(join_2017), len(join_2018), len(join_2019), len(join_2020), len(join_2021), len(join_2022)])"
   ]
  },
  {
   "cell_type": "code",
   "execution_count": null,
   "metadata": {},
   "outputs": [],
   "source": [
    "# 전체 기간 누적 고객 수 구하기\n",
    "#concat 하기 위해 데이터 프레임으로 변경\n",
    "monthly_2016 = pd.DataFrame(monthly_join_user(join_2016)[0])\n",
    "monthly_2017 = pd.DataFrame(monthly_join_user(join_2017)[0])\n",
    "monthly_2018 = pd.DataFrame(monthly_join_user(join_2018)[0])\n",
    "monthly_2019 = pd.DataFrame(monthly_join_user(join_2019)[0])\n",
    "monthly_2020 = pd.DataFrame(monthly_join_user(join_2020)[0])\n",
    "monthly_2021 = pd.DataFrame(monthly_join_user(join_2021)[0])\n",
    "monthly_2022 = pd.DataFrame(monthly_join_user(join_2022)[0])\n",
    "\n",
    "#전체 기간 concat\n",
    "monthly_total = pd.concat([monthly_2016, monthly_2017, monthly_2018, monthly_2019, monthly_2020, monthly_2021, monthly_2022]).reset_index(drop = True)\n",
    "\n",
    "#전체 기간 누적 데이터 생성\n",
    "monthly_total['Cumulative People'] = monthly_total[0].cumsum()\n"
   ]
  },
  {
   "attachments": {},
   "cell_type": "markdown",
   "metadata": {},
   "source": [
    "### 10일 기준"
   ]
  },
  {
   "cell_type": "code",
   "execution_count": null,
   "metadata": {},
   "outputs": [],
   "source": [
    "bounce_10 = bounce_judge(tem2, 10)"
   ]
  },
  {
   "cell_type": "code",
   "execution_count": null,
   "metadata": {},
   "outputs": [],
   "source": [
    "import matplotlib.pyplot as plt\n",
    "\n",
    "b_10 = bounce_10.sum(axis = 0)\n",
    "\n",
    "bounce_rate_10 = []\n",
    "for i in range(len(b_10)):\n",
    "    bounce_rate_10.append(b_10.iloc[i] / monthly_total[54:78]['Cumulative People'].iloc[i])\n",
    "\n",
    "plt.figure(figsize=(10, 6))\n",
    "plt.plot(bounce_rate_10)\n",
    "plt.xticks(range(0, 24), x_tick, rotation= 45)\n",
    "plt.show;"
   ]
  },
  {
   "attachments": {},
   "cell_type": "markdown",
   "metadata": {},
   "source": [
    "### 11일 기준"
   ]
  },
  {
   "cell_type": "code",
   "execution_count": null,
   "metadata": {},
   "outputs": [],
   "source": [
    "bounce_11 = bounce_judge(tem2, 11)"
   ]
  },
  {
   "cell_type": "code",
   "execution_count": null,
   "metadata": {},
   "outputs": [],
   "source": [
    "import matplotlib.pyplot as plt\n",
    "\n",
    "b_11 = bounce_11.sum(axis = 0)\n",
    "\n",
    "bounce_rate_11 = []\n",
    "for i in range(len(b_11)):\n",
    "    bounce_rate_11.append(b_11.iloc[i] / monthly_total[54:78]['Cumulative People'].iloc[i])\n",
    "\n",
    "plt.figure(figsize=(10, 6))\n",
    "plt.plot(bounce_rate_11)\n",
    "plt.xticks(range(0, 24), x_tick, rotation= 45)\n",
    "plt.show;"
   ]
  },
  {
   "attachments": {},
   "cell_type": "markdown",
   "metadata": {},
   "source": [
    "### 14일 기준"
   ]
  },
  {
   "cell_type": "code",
   "execution_count": null,
   "metadata": {},
   "outputs": [],
   "source": [
    "bounce_14 = bounce_judge(tem2, 14)"
   ]
  },
  {
   "cell_type": "code",
   "execution_count": null,
   "metadata": {},
   "outputs": [],
   "source": [
    "import matplotlib.pyplot as plt\n",
    "\n",
    "b_14 = bounce_14.sum(axis = 0)\n",
    "\n",
    "bounce_rate_14 = []\n",
    "for i in range(len(b_14)):\n",
    "    bounce_rate_14.append(b_14.iloc[i] / monthly_total[54:78]['Cumulative People'].iloc[i])\n",
    "\n",
    "plt.figure(figsize=(10, 6))\n",
    "plt.plot(bounce_rate_14)\n",
    "plt.xticks(range(0, 24), x_tick, rotation= 45)\n",
    "plt.show;"
   ]
  },
  {
   "attachments": {},
   "cell_type": "markdown",
   "metadata": {},
   "source": [
    "### 1.5일 기준"
   ]
  },
  {
   "cell_type": "code",
   "execution_count": null,
   "metadata": {},
   "outputs": [],
   "source": [
    "bounce_1_5 = bounce_judge(tem2, 1.5)"
   ]
  },
  {
   "cell_type": "code",
   "execution_count": null,
   "metadata": {},
   "outputs": [],
   "source": [
    "import matplotlib.pyplot as plt\n",
    "\n",
    "b_1_5 = bounce_1_5.sum(axis = 0)\n",
    "\n",
    "bounce_rate_1_5 = []\n",
    "for i in range(len(b_1_5)):\n",
    "    bounce_rate_1_5.append(b_1_5.iloc[i] / monthly_total[54:78]['Cumulative People'].iloc[i])\n",
    "\n",
    "plt.figure(figsize=(10, 6))\n",
    "plt.plot(bounce_rate_1_5)\n",
    "plt.xticks(range(0, 24), x_tick, rotation= 45)\n",
    "plt.show;"
   ]
  },
  {
   "attachments": {},
   "cell_type": "markdown",
   "metadata": {},
   "source": [
    "# booking 페이지 방문 기준 이탈"
   ]
  },
  {
   "cell_type": "code",
   "execution_count": null,
   "metadata": {},
   "outputs": [],
   "source": [
    "#함수 사용에 필요한 특성\n",
    "#click_stream\n",
    "#   event_name: 'HOMEPAGE' 인 이벤트만 조회하기 때문에\n",
    "#   event_time: 재방문에 걸린 시간 조회하기 위해\n",
    "#   session_id: transaction 테이블과 병합하여 customer_id를 얻기 위해\n",
    "#transaction\n",
    "#   session_id: click_stream 테이블과 병합하여 customer_id를 얻기 위해\n",
    "#   customer_id: customer 테이블과 병합하여 first_join_date 를 얻기 위해\n",
    "#customer\n",
    "#   customer_id: click_stream 테이블과 병합하여 first_join_date 를 얻기 위해\n",
    "#   first_join_date: 가입 시기를 알기 위해\n",
    "\n",
    "\n",
    "\n",
    "def bounce_judge_book(df, days_cri = 25):\n",
    "    # 측정 기간 설정\n",
    "    start_date = pd.to_datetime('2020-08-01')\n",
    "    end_date = pd.to_datetime('2022-07-31')\n",
    "    \n",
    "    # 측정 기간에 해당하는 월 수: 24개\n",
    "    num_of_months = (end_date.year - start_date.year) * 12 + (end_date.month - start_date.month) + 1\n",
    "    \n",
    "    # 이탈 판단 기준(days_cir = 기준이 되는 일)\n",
    "    criterion = 60 * 60 * 24 * days_cri\n",
    "\n",
    "    # 월별 이름 생성\n",
    "    column_names = [(start_date + pd.DateOffset(months=i)).strftime('%Y-%m') for i in range(num_of_months)]\n",
    "\n",
    "    # 데이터의 시간 데이터 타입 초기화\n",
    "    df.event_time = pd.to_datetime(df.event_time)\n",
    "\n",
    "    # 빈 딕셔너리 생성\n",
    "    res = {}\n",
    "\n",
    "    # customer_id를 기준으로 그룹화\n",
    "    grouped = df[(df.event_name == 'BOOKING') & (pd.to_datetime(df.event_time.dt.date) <= end_date) & (pd.to_datetime(df.event_time.dt.date) >= start_date)].groupby('customer_id')\n",
    "\n",
    "    #grouped 에 포함되지 않는 데이터 처리\n",
    "    excluded_ids_set = set(df[~df.customer_id.isin(grouped.groups.keys())]['customer_id']) #grouped 에 포함되지 않는 customer_id 집합\n",
    "    first_join_dates = df[df.customer_id.isin(excluded_ids_set)].groupby('customer_id').first_join_date.first() #위 집합에 포함된 customer_id의 first_join_dates\n",
    "    \n",
    "    \n",
    "    # excluded_ids를 순회하면서 이탈 여부 결정\n",
    "    for customer in excluded_ids_set:\n",
    "        f_j = pd.to_datetime(first_join_dates[customer])\n",
    "        \n",
    "        #start_date 이전에 가입했지만 2020/07~2022/06 기간동안 접속 안한 경우 이탈(1)\n",
    "        if f_j < start_date:\n",
    "            res[customer] = [1] * num_of_months\n",
    "\n",
    "        #start_date 이후에 가입하여 2020/07~2022/06 기간동안 데이터가 없는 경우 이탈X(0)            \n",
    "        elif f_j > end_date:\n",
    "            res[customer] = [0] * num_of_months\n",
    "\n",
    "\n",
    "    \n",
    "    # 각 그룹 별로 작업 수행\n",
    "    for customer, log in grouped:\n",
    "        tem = {month: 0 for month in sorted(column_names)}\n",
    "            \n",
    "        # 방문 기록이 없는 달 추출하여 집합으로 저장\n",
    "        date_set = set([date.strftime('%Y-%m') for date in log.event_time])\n",
    "        bounce_month = set(column_names) - date_set\n",
    "\n",
    "        # homepage 재방문 시간 계산\n",
    "        log['diff'] = log.event_time.diff().dt.total_seconds()\n",
    "        log.reset_index(drop = True, inplace = True)\n",
    "\n",
    "            \n",
    "        first_index = log.index[0]\n",
    "        log_index = log[log['diff'] > criterion].index\n",
    "            \n",
    "        # .diff() 함수 적용시 첫 행에 나오는 nan 값에 대한 처리\n",
    "        # fisrt_join date < start_date 일 경우 start_date ~ 첫번째 homepage event 발생 시점까지의 시간을 첫 행에 입력\n",
    "        if pd.to_datetime(log.loc[first_index, 'first_join_date']) < start_date:\n",
    "            log.at[first_index, 'diff'] = (log.at[first_index, 'event_time'] - pd.Timestamp('2020-08-01 0:0:0', tz='UTC')).total_seconds()\n",
    "\n",
    "            #위에서 계산한 값이 criterion 값보다 클 경우 아래 로직에서 (0 - 1)이 계산 되어 음수 인덱스로 인한 에러 발생 / 첫 행에 대해서는 기준 보다 클 때 첫번째 event_time 의 연/월에 이탈(1) 처리\n",
    "            if log.at[first_index, 'diff'] > criterion:\n",
    "                bounce_month.add(log.at[first_index, 'event_time'].strftime('%Y-%m'))\n",
    "                log_index = log[log['diff'] > criterion].index.drop(0) #아래 로직에서 오류 발생하지 않게 0번 인덱스 드랍(위에서 해당 행에 대해 이탈 여부를 처리함)\n",
    "\n",
    "        # fisrt_join date >= start_date 일 경우 start_date ~ fisrt_join_date 시점까지의 연/월에 대해 이탈X(0) 처리 / first_join_date ~ 첫번째 homepage event 발생 시점까지의 시간을 첫 행에 입력\n",
    "        else:\n",
    "            date_range = pd.date_range(start=start_date, end=log.first_join_date.iloc[0], freq='M')\n",
    "            extracted_months = set(date.strftime('%Y-%m') for date in date_range)\n",
    "            log.at[first_index, 'diff'] = (log.at[first_index, 'event_time'] - pd.Timestamp(log.at[first_index, 'first_join_date'], tz='UTC')).total_seconds()\n",
    "            bounce_month -= extracted_months\n",
    "        \n",
    "        # bounce_month 집합에 마지막 접속일 부터 10일 지난 시점의 달 추가(합집합)\n",
    "        bounce_month = bounce_month.union(set([date.strftime('%Y-%m') for date in log.loc[(log_index - 1), 'event_time'] + timedelta(days= days_cri)]))\n",
    "\n",
    "        # 이탈(1) 입력\n",
    "        for month in bounce_month:\n",
    "            tem[month] = 1\n",
    "\n",
    "        # customer_id와 key에 대해 이탈 여부 매칭하는 딕셔너리 만들기\n",
    "        res[customer] = [int(tem[key]) for key in sorted(tem.keys())]\n",
    "\n",
    "    # 딕셔너리를 데이터프레임으로 변환\n",
    "    res_df = pd.DataFrame.from_dict(res, orient='index', columns=column_names)\n",
    "    \n",
    "    return res_df\n"
   ]
  },
  {
   "cell_type": "code",
   "execution_count": null,
   "metadata": {},
   "outputs": [],
   "source": [
    "bounce_21_book = bounce_judge_book(tem2, 21)\n",
    "bounce_43_book = bounce_judge_book(tem2, 43)\n",
    "bounce_44_book = bounce_judge_book(tem2, 44)\n"
   ]
  },
  {
   "attachments": {},
   "cell_type": "markdown",
   "metadata": {},
   "source": [
    "### MEAN 기준"
   ]
  },
  {
   "cell_type": "code",
   "execution_count": null,
   "metadata": {},
   "outputs": [],
   "source": [
    "import matplotlib.pyplot as plt\n",
    "\n",
    "b_43_book = bounce_43_book.sum(axis = 0)\n",
    "\n",
    "bounce_rate_43_book = []\n",
    "for i in range(len(b_43_book)):\n",
    "    bounce_rate_43_book.append(b_43_book.iloc[i] / monthly_total[54:78]['Cumulative People'].iloc[i])\n",
    "\n",
    "plt.figure(figsize=(10, 6))\n",
    "plt.plot(bounce_rate_43_book)\n",
    "plt.xticks(range(0, 24), x_tick, rotation= 45)\n",
    "plt.show;"
   ]
  },
  {
   "attachments": {},
   "cell_type": "markdown",
   "metadata": {},
   "source": [
    "### 75% 기준"
   ]
  },
  {
   "cell_type": "code",
   "execution_count": null,
   "metadata": {},
   "outputs": [],
   "source": [
    "import matplotlib.pyplot as plt\n",
    "\n",
    "b_44_book = bounce_44_book.sum(axis = 0)\n",
    "\n",
    "bounce_rate_44_book = []\n",
    "for i in range(len(b_44_book)):\n",
    "    bounce_rate_44_book.append(b_44_book.iloc[i] / monthly_total[54:78]['Cumulative People'].iloc[i])\n",
    "\n",
    "plt.figure(figsize=(10, 6))\n",
    "plt.plot(bounce_rate_44_book)\n",
    "plt.xticks(range(0, 24), x_tick, rotation= 45)\n",
    "plt.show;"
   ]
  },
  {
   "attachments": {},
   "cell_type": "markdown",
   "metadata": {},
   "source": [
    "### MEDIAN 기준"
   ]
  },
  {
   "cell_type": "code",
   "execution_count": null,
   "metadata": {},
   "outputs": [],
   "source": [
    "import matplotlib.pyplot as plt\n",
    "\n",
    "b_21_book = bounce_21_book.sum(axis = 0)\n",
    "\n",
    "bounce_rate_21_book = []\n",
    "for i in range(len(b_21_book)):\n",
    "    bounce_rate_21_book.append(b_21_book.iloc[i] / monthly_total[54:78]['Cumulative People'].iloc[i])\n",
    "\n",
    "plt.figure(figsize=(10, 6))\n",
    "plt.plot(bounce_rate_21_book)\n",
    "plt.xticks(range(0, 24), x_tick, rotation= 45)\n",
    "plt.show;"
   ]
  },
  {
   "cell_type": "code",
   "execution_count": null,
   "metadata": {},
   "outputs": [],
   "source": [
    "tem2[tem2.event_name == 'BOOKING']"
   ]
  },
  {
   "cell_type": "code",
   "execution_count": null,
   "metadata": {},
   "outputs": [],
   "source": [
    "tem2.session_id.nunique()"
   ]
  },
  {
   "cell_type": "code",
   "execution_count": null,
   "metadata": {},
   "outputs": [],
   "source": [
    "df_buy_split_book = pd.read_csv('C:/Users/hm981/OneDrive/바탕 화면/AI부트캠프/project/teamproject2/df_buy_split_book.csv')\n"
   ]
  },
  {
   "cell_type": "code",
   "execution_count": null,
   "metadata": {},
   "outputs": [],
   "source": [
    "df_buy_split_book.session_id.nunique()"
   ]
  },
  {
   "attachments": {},
   "cell_type": "markdown",
   "metadata": {},
   "source": [
    "# 최종 함수 (booking 기준 25일 구매)\n"
   ]
  },
  {
   "cell_type": "code",
   "execution_count": null,
   "metadata": {},
   "outputs": [],
   "source": [
    "bounce_25_book = bounce_judge_book(tem2, 25)\n"
   ]
  },
  {
   "cell_type": "code",
   "execution_count": null,
   "metadata": {},
   "outputs": [],
   "source": [
    "bounce_25_book"
   ]
  },
  {
   "cell_type": "code",
   "execution_count": null,
   "metadata": {},
   "outputs": [],
   "source": [
    "customer[customer[\"customer_id\"] == 87679]"
   ]
  }
 ],
 "metadata": {
  "kernelspec": {
   "display_name": "tp2",
   "language": "python",
   "name": "python3"
  },
  "language_info": {
   "codemirror_mode": {
    "name": "ipython",
    "version": 3
   },
   "file_extension": ".py",
   "mimetype": "text/x-python",
   "name": "python",
   "nbconvert_exporter": "python",
   "pygments_lexer": "ipython3",
   "version": "3.10.11"
  },
  "orig_nbformat": 4
 },
 "nbformat": 4,
 "nbformat_minor": 2
}
