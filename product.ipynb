{
  "nbformat": 4,
  "nbformat_minor": 0,
  "metadata": {
    "colab": {
      "provenance": [],
      "authorship_tag": "ABX9TyOGwNKlubHqeS2fVdQrL6In",
      "include_colab_link": true
    },
    "kernelspec": {
      "name": "python3",
      "display_name": "Python 3"
    },
    "language_info": {
      "name": "python"
    }
  },
  "cells": [
    {
      "cell_type": "markdown",
      "metadata": {
        "id": "view-in-github",
        "colab_type": "text"
      },
      "source": [
        "<a href=\"https://colab.research.google.com/github/NARAEIM/tp2-da/blob/jennlee/product.ipynb\" target=\"_parent\"><img src=\"https://colab.research.google.com/assets/colab-badge.svg\" alt=\"Open In Colab\"/></a>"
      ]
    },
    {
      "cell_type": "code",
      "execution_count": 14,
      "metadata": {
        "colab": {
          "base_uri": "https://localhost:8080/"
        },
        "id": "dy3-C-4GeKRA",
        "outputId": "6181420f-8c1e-48da-960e-a74303fa175a"
      },
      "outputs": [
        {
          "output_type": "stream",
          "name": "stdout",
          "text": [
            "Drive already mounted at /content/drive; to attempt to forcibly remount, call drive.mount(\"/content/drive\", force_remount=True).\n"
          ]
        }
      ],
      "source": [
        "from google.colab import drive\n",
        "\n",
        "# Mount Google Drive\n",
        "drive.mount('/content/drive')\n",
        "\n",
        "import os\n",
        "import numpy as np\n",
        "import pandas as pd\n",
        "import matplotlib.pyplot as plt\n",
        "import seaborn as sns\n",
        "\n",
        "plt.style.use(\"default\")"
      ]
    },
    {
      "cell_type": "code",
      "source": [
        "transaction = pd.read_csv('/content/drive/MyDrive/co_note/project/data/transaction_final.csv')\n",
        "customer = pd.read_csv('/content/drive/MyDrive/co_note/project/data/customer_final.csv')\n",
        "product = pd.read_csv('/content/drive/MyDrive/co_note/project/data/product_final.csv')"
      ],
      "metadata": {
        "id": "T63I90JVexZj"
      },
      "execution_count": 15,
      "outputs": []
    },
    {
      "cell_type": "code",
      "source": [
        "print(transaction.shape, customer.shape, product.shape)"
      ],
      "metadata": {
        "colab": {
          "base_uri": "https://localhost:8080/"
        },
        "id": "cOFel-2Te-f2",
        "outputId": "ac26b8be-9264-4b71-8fa4-c5acb3643e31"
      },
      "execution_count": 16,
      "outputs": [
        {
          "output_type": "stream",
          "name": "stdout",
          "text": [
            "(1254578, 14) (99999, 7) (44424, 10)\n"
          ]
        }
      ]
    },
    {
      "cell_type": "code",
      "source": [
        "display(transaction.columns, customer.columns, product.columns)"
      ],
      "metadata": {
        "colab": {
          "base_uri": "https://localhost:8080/",
          "height": 213
        },
        "id": "Kxj-HpFtfKBr",
        "outputId": "d0b7a5ee-d37c-4ee3-9cb0-94bc80e1792c"
      },
      "execution_count": 17,
      "outputs": [
        {
          "output_type": "display_data",
          "data": {
            "text/plain": [
              "Index(['created_at', 'customer_id', 'booking_id', 'session_id',\n",
              "       'payment_method', 'payment_status', 'promo_amount', 'promo_code',\n",
              "       'shipment_fee', 'total_amount', 'product_id', 'quantity', 'item_price',\n",
              "       'with_promo'],\n",
              "      dtype='object')"
            ]
          },
          "metadata": {}
        },
        {
          "output_type": "display_data",
          "data": {
            "text/plain": [
              "Index(['customer_id', 'gender', 'birthdate', 'home_location',\n",
              "       'first_join_date', 'age_join', 'age_now'],\n",
              "      dtype='object')"
            ]
          },
          "metadata": {}
        },
        {
          "output_type": "display_data",
          "data": {
            "text/plain": [
              "Index(['id', 'gender', 'masterCategory', 'subCategory', 'articleType',\n",
              "       'baseColour', 'season', 'usage', 'productDisplayName', 'brand'],\n",
              "      dtype='object')"
            ]
          },
          "metadata": {}
        }
      ]
    },
    {
      "cell_type": "code",
      "source": [
        "product.season.unique()"
      ],
      "metadata": {
        "colab": {
          "base_uri": "https://localhost:8080/"
        },
        "id": "8Hx9zHOZf5Vc",
        "outputId": "0a0cb609-48c4-484e-a62c-5c157d47c831"
      },
      "execution_count": 18,
      "outputs": [
        {
          "output_type": "execute_result",
          "data": {
            "text/plain": [
              "array(['Fall', 'Summer', 'Winter', 'Spring', nan], dtype=object)"
            ]
          },
          "metadata": {},
          "execution_count": 18
        }
      ]
    },
    {
      "cell_type": "code",
      "source": [
        "product.head()"
      ],
      "metadata": {
        "colab": {
          "base_uri": "https://localhost:8080/",
          "height": 206
        },
        "id": "KV14msyUgVZt",
        "outputId": "80a45837-537f-4268-85f6-bee4ded9479f"
      },
      "execution_count": 21,
      "outputs": [
        {
          "output_type": "execute_result",
          "data": {
            "text/plain": [
              "   product_id gender masterCategory subCategory  articleType baseColour  \\\n",
              "0       15970    Men        Apparel     Topwear       Shirts  Navy Blue   \n",
              "1       39386    Men        Apparel  Bottomwear        Jeans       Blue   \n",
              "2       59263  Women    Accessories     Watches      Watches     Silver   \n",
              "3       21379    Men        Apparel  Bottomwear  Track Pants      Black   \n",
              "4       53759    Men        Apparel     Topwear      Tshirts       Grey   \n",
              "\n",
              "                              productDisplayName       brand  \n",
              "0               Turtle Check Men Navy Blue Shirt      turtle  \n",
              "1             Peter England Men Party Blue Jeans       peter  \n",
              "2                       Titan Women Silver Watch       titan  \n",
              "3  Manchester United Men Solid Black Track Pants  manchester  \n",
              "4                          Puma Men Grey T-shirt        puma  "
            ],
            "text/html": [
              "\n",
              "  <div id=\"df-e57cb07b-6c9b-4166-9f68-28571adb5f25\">\n",
              "    <div class=\"colab-df-container\">\n",
              "      <div>\n",
              "<style scoped>\n",
              "    .dataframe tbody tr th:only-of-type {\n",
              "        vertical-align: middle;\n",
              "    }\n",
              "\n",
              "    .dataframe tbody tr th {\n",
              "        vertical-align: top;\n",
              "    }\n",
              "\n",
              "    .dataframe thead th {\n",
              "        text-align: right;\n",
              "    }\n",
              "</style>\n",
              "<table border=\"1\" class=\"dataframe\">\n",
              "  <thead>\n",
              "    <tr style=\"text-align: right;\">\n",
              "      <th></th>\n",
              "      <th>product_id</th>\n",
              "      <th>gender</th>\n",
              "      <th>masterCategory</th>\n",
              "      <th>subCategory</th>\n",
              "      <th>articleType</th>\n",
              "      <th>baseColour</th>\n",
              "      <th>productDisplayName</th>\n",
              "      <th>brand</th>\n",
              "    </tr>\n",
              "  </thead>\n",
              "  <tbody>\n",
              "    <tr>\n",
              "      <th>0</th>\n",
              "      <td>15970</td>\n",
              "      <td>Men</td>\n",
              "      <td>Apparel</td>\n",
              "      <td>Topwear</td>\n",
              "      <td>Shirts</td>\n",
              "      <td>Navy Blue</td>\n",
              "      <td>Turtle Check Men Navy Blue Shirt</td>\n",
              "      <td>turtle</td>\n",
              "    </tr>\n",
              "    <tr>\n",
              "      <th>1</th>\n",
              "      <td>39386</td>\n",
              "      <td>Men</td>\n",
              "      <td>Apparel</td>\n",
              "      <td>Bottomwear</td>\n",
              "      <td>Jeans</td>\n",
              "      <td>Blue</td>\n",
              "      <td>Peter England Men Party Blue Jeans</td>\n",
              "      <td>peter</td>\n",
              "    </tr>\n",
              "    <tr>\n",
              "      <th>2</th>\n",
              "      <td>59263</td>\n",
              "      <td>Women</td>\n",
              "      <td>Accessories</td>\n",
              "      <td>Watches</td>\n",
              "      <td>Watches</td>\n",
              "      <td>Silver</td>\n",
              "      <td>Titan Women Silver Watch</td>\n",
              "      <td>titan</td>\n",
              "    </tr>\n",
              "    <tr>\n",
              "      <th>3</th>\n",
              "      <td>21379</td>\n",
              "      <td>Men</td>\n",
              "      <td>Apparel</td>\n",
              "      <td>Bottomwear</td>\n",
              "      <td>Track Pants</td>\n",
              "      <td>Black</td>\n",
              "      <td>Manchester United Men Solid Black Track Pants</td>\n",
              "      <td>manchester</td>\n",
              "    </tr>\n",
              "    <tr>\n",
              "      <th>4</th>\n",
              "      <td>53759</td>\n",
              "      <td>Men</td>\n",
              "      <td>Apparel</td>\n",
              "      <td>Topwear</td>\n",
              "      <td>Tshirts</td>\n",
              "      <td>Grey</td>\n",
              "      <td>Puma Men Grey T-shirt</td>\n",
              "      <td>puma</td>\n",
              "    </tr>\n",
              "  </tbody>\n",
              "</table>\n",
              "</div>\n",
              "      <button class=\"colab-df-convert\" onclick=\"convertToInteractive('df-e57cb07b-6c9b-4166-9f68-28571adb5f25')\"\n",
              "              title=\"Convert this dataframe to an interactive table.\"\n",
              "              style=\"display:none;\">\n",
              "        \n",
              "  <svg xmlns=\"http://www.w3.org/2000/svg\" height=\"24px\"viewBox=\"0 0 24 24\"\n",
              "       width=\"24px\">\n",
              "    <path d=\"M0 0h24v24H0V0z\" fill=\"none\"/>\n",
              "    <path d=\"M18.56 5.44l.94 2.06.94-2.06 2.06-.94-2.06-.94-.94-2.06-.94 2.06-2.06.94zm-11 1L8.5 8.5l.94-2.06 2.06-.94-2.06-.94L8.5 2.5l-.94 2.06-2.06.94zm10 10l.94 2.06.94-2.06 2.06-.94-2.06-.94-.94-2.06-.94 2.06-2.06.94z\"/><path d=\"M17.41 7.96l-1.37-1.37c-.4-.4-.92-.59-1.43-.59-.52 0-1.04.2-1.43.59L10.3 9.45l-7.72 7.72c-.78.78-.78 2.05 0 2.83L4 21.41c.39.39.9.59 1.41.59.51 0 1.02-.2 1.41-.59l7.78-7.78 2.81-2.81c.8-.78.8-2.07 0-2.86zM5.41 20L4 18.59l7.72-7.72 1.47 1.35L5.41 20z\"/>\n",
              "  </svg>\n",
              "      </button>\n",
              "      \n",
              "  <style>\n",
              "    .colab-df-container {\n",
              "      display:flex;\n",
              "      flex-wrap:wrap;\n",
              "      gap: 12px;\n",
              "    }\n",
              "\n",
              "    .colab-df-convert {\n",
              "      background-color: #E8F0FE;\n",
              "      border: none;\n",
              "      border-radius: 50%;\n",
              "      cursor: pointer;\n",
              "      display: none;\n",
              "      fill: #1967D2;\n",
              "      height: 32px;\n",
              "      padding: 0 0 0 0;\n",
              "      width: 32px;\n",
              "    }\n",
              "\n",
              "    .colab-df-convert:hover {\n",
              "      background-color: #E2EBFA;\n",
              "      box-shadow: 0px 1px 2px rgba(60, 64, 67, 0.3), 0px 1px 3px 1px rgba(60, 64, 67, 0.15);\n",
              "      fill: #174EA6;\n",
              "    }\n",
              "\n",
              "    [theme=dark] .colab-df-convert {\n",
              "      background-color: #3B4455;\n",
              "      fill: #D2E3FC;\n",
              "    }\n",
              "\n",
              "    [theme=dark] .colab-df-convert:hover {\n",
              "      background-color: #434B5C;\n",
              "      box-shadow: 0px 1px 3px 1px rgba(0, 0, 0, 0.15);\n",
              "      filter: drop-shadow(0px 1px 2px rgba(0, 0, 0, 0.3));\n",
              "      fill: #FFFFFF;\n",
              "    }\n",
              "  </style>\n",
              "\n",
              "      <script>\n",
              "        const buttonEl =\n",
              "          document.querySelector('#df-e57cb07b-6c9b-4166-9f68-28571adb5f25 button.colab-df-convert');\n",
              "        buttonEl.style.display =\n",
              "          google.colab.kernel.accessAllowed ? 'block' : 'none';\n",
              "\n",
              "        async function convertToInteractive(key) {\n",
              "          const element = document.querySelector('#df-e57cb07b-6c9b-4166-9f68-28571adb5f25');\n",
              "          const dataTable =\n",
              "            await google.colab.kernel.invokeFunction('convertToInteractive',\n",
              "                                                     [key], {});\n",
              "          if (!dataTable) return;\n",
              "\n",
              "          const docLinkHtml = 'Like what you see? Visit the ' +\n",
              "            '<a target=\"_blank\" href=https://colab.research.google.com/notebooks/data_table.ipynb>data table notebook</a>'\n",
              "            + ' to learn more about interactive tables.';\n",
              "          element.innerHTML = '';\n",
              "          dataTable['output_type'] = 'display_data';\n",
              "          await google.colab.output.renderOutput(dataTable, element);\n",
              "          const docLink = document.createElement('div');\n",
              "          docLink.innerHTML = docLinkHtml;\n",
              "          element.appendChild(docLink);\n",
              "        }\n",
              "      </script>\n",
              "    </div>\n",
              "  </div>\n",
              "  "
            ]
          },
          "metadata": {},
          "execution_count": 21
        }
      ]
    },
    {
      "cell_type": "code",
      "source": [
        "product.rename(columns={'id':'product_id'}, inplace=True)\n",
        "product.drop(columns = {'season', 'usage'}, inplace=True)\n",
        "product.rename(columns={'gender':'product_gender'}, inplace=True)"
      ],
      "metadata": {
        "id": "ouJ_p2H4fqw4"
      },
      "execution_count": 22,
      "outputs": []
    },
    {
      "cell_type": "code",
      "source": [
        "customer.rename(columns={'gender':'customer_gender'}, inplace=True)"
      ],
      "metadata": {
        "id": "bgHp0CU5xL6u"
      },
      "execution_count": 23,
      "outputs": []
    },
    {
      "cell_type": "code",
      "source": [
        "transaction.payment_status.value_counts()"
      ],
      "metadata": {
        "colab": {
          "base_uri": "https://localhost:8080/"
        },
        "id": "koHQCsdNzPmJ",
        "outputId": "f4ce734f-f5b3-4c60-eee1-4fd021aeccc0"
      },
      "execution_count": 27,
      "outputs": [
        {
          "output_type": "execute_result",
          "data": {
            "text/plain": [
              "1    1201028\n",
              "0      53550\n",
              "Name: payment_status, dtype: int64"
            ]
          },
          "metadata": {},
          "execution_count": 27
        }
      ]
    },
    {
      "cell_type": "code",
      "source": [
        "transaction = transaction[transaction.payment_status == 1]"
      ],
      "metadata": {
        "id": "QKd7fQwnzFpC"
      },
      "execution_count": 29,
      "outputs": []
    },
    {
      "cell_type": "markdown",
      "source": [
        "## Female vs Male\n",
        "female 고객이 male 고객에 비해 약 1.8배 많은데, male 제품에 대한 sales 와 구매 횟수가 많다는 것은 female 고객을 잡지 못하고 있다는 의미가 될 수 있다.\n",
        "1. male 고객과 female 고객이 성별에 맞는 물품을 구매했는지 확인"
      ],
      "metadata": {
        "id": "yeQk1uUreRG0"
      }
    },
    {
      "cell_type": "code",
      "source": [
        "# 필요한 데이터\n",
        "# transaction: 'created_at', 'customer_id', 'booking_id', 'product_id'\n",
        "# customer: 'customer_id', 'customer_gender', 'home_location', 'age_now'\n",
        "# product: 'product_id', 'product_gender', 'masterCategory', 'subCategory', 'articleType'\n",
        "\n",
        "# print(tranx.shape, cust.shape, prod.shape)\n",
        "# (1201028, 14) (99999, 7) (44424, 8)\n",
        "\n",
        "tranx = transaction[['created_at', 'customer_id', 'booking_id', 'product_id']]\n",
        "cust = customer[['customer_id', 'customer_gender', 'home_location', 'age_now']]\n",
        "prod = product[['product_id', 'product_gender', 'masterCategory', 'subCategory', 'articleType']]"
      ],
      "metadata": {
        "id": "uTsI-iIHe7_e"
      },
      "execution_count": 32,
      "outputs": []
    },
    {
      "cell_type": "code",
      "source": [
        "print(tranx.shape, cust.shape, prod.shape)"
      ],
      "metadata": {
        "colab": {
          "base_uri": "https://localhost:8080/"
        },
        "id": "B8zdNwvqzYHY",
        "outputId": "e12fe460-11a2-4637-dfcd-23a554b99cc8"
      },
      "execution_count": 33,
      "outputs": [
        {
          "output_type": "stream",
          "name": "stdout",
          "text": [
            "(1201028, 4) (99999, 4) (44424, 5)\n"
          ]
        }
      ]
    },
    {
      "cell_type": "code",
      "source": [
        "# merged = [['customer_id', 'customer_gender', 'product_gender', 'product_id']]\n",
        "\n",
        "merged = pd.merge(tranx, cust, on='customer_id', how='left')\n",
        "merged = pd.merge(merged, prod, on='product_id', how='left')\n",
        "\n",
        "# Select the desired columns\n",
        "merged = merged[['customer_id', 'customer_gender', 'product_gender', 'product_id']]\n",
        "\n",
        "# Verify the shape\n",
        "print(merged.shape)"
      ],
      "metadata": {
        "colab": {
          "base_uri": "https://localhost:8080/"
        },
        "id": "yhJN6U2Eydol",
        "outputId": "c6c49a6c-7623-4ed7-fc0c-a7bf15f8487b"
      },
      "execution_count": 34,
      "outputs": [
        {
          "output_type": "stream",
          "name": "stdout",
          "text": [
            "(1201028, 4)\n"
          ]
        }
      ]
    },
    {
      "cell_type": "code",
      "source": [
        "merged.customer_gender.value_counts()"
      ],
      "metadata": {
        "colab": {
          "base_uri": "https://localhost:8080/"
        },
        "id": "2uF4g8Ne0Kg-",
        "outputId": "e3d2d30b-c207-4d80-b1ec-31afb175b69b"
      },
      "execution_count": 37,
      "outputs": [
        {
          "output_type": "execute_result",
          "data": {
            "text/plain": [
              "F    766036\n",
              "M    434992\n",
              "Name: customer_gender, dtype: int64"
            ]
          },
          "metadata": {},
          "execution_count": 37
        }
      ]
    },
    {
      "cell_type": "code",
      "source": [
        "merged.product_gender.value_counts()"
      ],
      "metadata": {
        "colab": {
          "base_uri": "https://localhost:8080/"
        },
        "id": "w3_p_Pb60O3F",
        "outputId": "ba2b8df5-b247-4f68-bcfd-742ba296a6eb"
      },
      "execution_count": 38,
      "outputs": [
        {
          "output_type": "execute_result",
          "data": {
            "text/plain": [
              "Men       598390\n",
              "Women     504095\n",
              "Unisex     57911\n",
              "Boys       22561\n",
              "Girls      17480\n",
              "Name: product_gender, dtype: int64"
            ]
          },
          "metadata": {},
          "execution_count": 38
        }
      ]
    },
    {
      "cell_type": "code",
      "source": [
        "uni = merged[merged.product_gender == 'Unisex']\n",
        "uni.customer_gender.value_counts()"
      ],
      "metadata": {
        "colab": {
          "base_uri": "https://localhost:8080/"
        },
        "id": "NAx3yhJn0j5b",
        "outputId": "6a8bbf9b-a4e0-4915-f8f1-7bbd74d5fc35"
      },
      "execution_count": 41,
      "outputs": [
        {
          "output_type": "execute_result",
          "data": {
            "text/plain": [
              "F    36903\n",
              "M    21008\n",
              "Name: customer_gender, dtype: int64"
            ]
          },
          "metadata": {},
          "execution_count": 41
        }
      ]
    },
    {
      "cell_type": "code",
      "source": [
        "# Unisex는 성별 판단할수 없고 Boys & Girls는 본인이 직접 사는 경우가 드물다고 생각 (보통은 엄마가 사주지 않나)\n",
        "# The Children's Apparel market covers apparel for boys and girls up to age 14. (https://www.statista.com/outlook/cmo/apparel/children-s-apparel/indonesia#sales-channels)\n",
        "gender_filter = merged[(merged['product_gender'] == 'Men') | (merged['product_gender'] == 'Women')]\n",
        "gender_filter.shape"
      ],
      "metadata": {
        "colab": {
          "base_uri": "https://localhost:8080/"
        },
        "id": "BOIDsIrd08I1",
        "outputId": "91a30edc-3d70-4502-b58a-c20da98fe78d"
      },
      "execution_count": 43,
      "outputs": [
        {
          "output_type": "execute_result",
          "data": {
            "text/plain": [
              "(1102485, 4)"
            ]
          },
          "metadata": {},
          "execution_count": 43
        }
      ]
    },
    {
      "cell_type": "code",
      "source": [
        "gender_filter.head()"
      ],
      "metadata": {
        "colab": {
          "base_uri": "https://localhost:8080/",
          "height": 206
        },
        "id": "oflcROfZ02Of",
        "outputId": "ccd605ff-c943-4bfa-8c00-20f332c33cd4"
      },
      "execution_count": 44,
      "outputs": [
        {
          "output_type": "execute_result",
          "data": {
            "text/plain": [
              "   customer_id customer_gender product_gender  product_id\n",
              "0         5868               F            Men       54728\n",
              "1         4774               F            Men       16193\n",
              "2         4774               F          Women       53686\n",
              "3         4774               F          Women       20228\n",
              "4         4774               F          Women       55220"
            ],
            "text/html": [
              "\n",
              "  <div id=\"df-d2739a21-949a-4665-a08a-56ecc4b0e802\">\n",
              "    <div class=\"colab-df-container\">\n",
              "      <div>\n",
              "<style scoped>\n",
              "    .dataframe tbody tr th:only-of-type {\n",
              "        vertical-align: middle;\n",
              "    }\n",
              "\n",
              "    .dataframe tbody tr th {\n",
              "        vertical-align: top;\n",
              "    }\n",
              "\n",
              "    .dataframe thead th {\n",
              "        text-align: right;\n",
              "    }\n",
              "</style>\n",
              "<table border=\"1\" class=\"dataframe\">\n",
              "  <thead>\n",
              "    <tr style=\"text-align: right;\">\n",
              "      <th></th>\n",
              "      <th>customer_id</th>\n",
              "      <th>customer_gender</th>\n",
              "      <th>product_gender</th>\n",
              "      <th>product_id</th>\n",
              "    </tr>\n",
              "  </thead>\n",
              "  <tbody>\n",
              "    <tr>\n",
              "      <th>0</th>\n",
              "      <td>5868</td>\n",
              "      <td>F</td>\n",
              "      <td>Men</td>\n",
              "      <td>54728</td>\n",
              "    </tr>\n",
              "    <tr>\n",
              "      <th>1</th>\n",
              "      <td>4774</td>\n",
              "      <td>F</td>\n",
              "      <td>Men</td>\n",
              "      <td>16193</td>\n",
              "    </tr>\n",
              "    <tr>\n",
              "      <th>2</th>\n",
              "      <td>4774</td>\n",
              "      <td>F</td>\n",
              "      <td>Women</td>\n",
              "      <td>53686</td>\n",
              "    </tr>\n",
              "    <tr>\n",
              "      <th>3</th>\n",
              "      <td>4774</td>\n",
              "      <td>F</td>\n",
              "      <td>Women</td>\n",
              "      <td>20228</td>\n",
              "    </tr>\n",
              "    <tr>\n",
              "      <th>4</th>\n",
              "      <td>4774</td>\n",
              "      <td>F</td>\n",
              "      <td>Women</td>\n",
              "      <td>55220</td>\n",
              "    </tr>\n",
              "  </tbody>\n",
              "</table>\n",
              "</div>\n",
              "      <button class=\"colab-df-convert\" onclick=\"convertToInteractive('df-d2739a21-949a-4665-a08a-56ecc4b0e802')\"\n",
              "              title=\"Convert this dataframe to an interactive table.\"\n",
              "              style=\"display:none;\">\n",
              "        \n",
              "  <svg xmlns=\"http://www.w3.org/2000/svg\" height=\"24px\"viewBox=\"0 0 24 24\"\n",
              "       width=\"24px\">\n",
              "    <path d=\"M0 0h24v24H0V0z\" fill=\"none\"/>\n",
              "    <path d=\"M18.56 5.44l.94 2.06.94-2.06 2.06-.94-2.06-.94-.94-2.06-.94 2.06-2.06.94zm-11 1L8.5 8.5l.94-2.06 2.06-.94-2.06-.94L8.5 2.5l-.94 2.06-2.06.94zm10 10l.94 2.06.94-2.06 2.06-.94-2.06-.94-.94-2.06-.94 2.06-2.06.94z\"/><path d=\"M17.41 7.96l-1.37-1.37c-.4-.4-.92-.59-1.43-.59-.52 0-1.04.2-1.43.59L10.3 9.45l-7.72 7.72c-.78.78-.78 2.05 0 2.83L4 21.41c.39.39.9.59 1.41.59.51 0 1.02-.2 1.41-.59l7.78-7.78 2.81-2.81c.8-.78.8-2.07 0-2.86zM5.41 20L4 18.59l7.72-7.72 1.47 1.35L5.41 20z\"/>\n",
              "  </svg>\n",
              "      </button>\n",
              "      \n",
              "  <style>\n",
              "    .colab-df-container {\n",
              "      display:flex;\n",
              "      flex-wrap:wrap;\n",
              "      gap: 12px;\n",
              "    }\n",
              "\n",
              "    .colab-df-convert {\n",
              "      background-color: #E8F0FE;\n",
              "      border: none;\n",
              "      border-radius: 50%;\n",
              "      cursor: pointer;\n",
              "      display: none;\n",
              "      fill: #1967D2;\n",
              "      height: 32px;\n",
              "      padding: 0 0 0 0;\n",
              "      width: 32px;\n",
              "    }\n",
              "\n",
              "    .colab-df-convert:hover {\n",
              "      background-color: #E2EBFA;\n",
              "      box-shadow: 0px 1px 2px rgba(60, 64, 67, 0.3), 0px 1px 3px 1px rgba(60, 64, 67, 0.15);\n",
              "      fill: #174EA6;\n",
              "    }\n",
              "\n",
              "    [theme=dark] .colab-df-convert {\n",
              "      background-color: #3B4455;\n",
              "      fill: #D2E3FC;\n",
              "    }\n",
              "\n",
              "    [theme=dark] .colab-df-convert:hover {\n",
              "      background-color: #434B5C;\n",
              "      box-shadow: 0px 1px 3px 1px rgba(0, 0, 0, 0.15);\n",
              "      filter: drop-shadow(0px 1px 2px rgba(0, 0, 0, 0.3));\n",
              "      fill: #FFFFFF;\n",
              "    }\n",
              "  </style>\n",
              "\n",
              "      <script>\n",
              "        const buttonEl =\n",
              "          document.querySelector('#df-d2739a21-949a-4665-a08a-56ecc4b0e802 button.colab-df-convert');\n",
              "        buttonEl.style.display =\n",
              "          google.colab.kernel.accessAllowed ? 'block' : 'none';\n",
              "\n",
              "        async function convertToInteractive(key) {\n",
              "          const element = document.querySelector('#df-d2739a21-949a-4665-a08a-56ecc4b0e802');\n",
              "          const dataTable =\n",
              "            await google.colab.kernel.invokeFunction('convertToInteractive',\n",
              "                                                     [key], {});\n",
              "          if (!dataTable) return;\n",
              "\n",
              "          const docLinkHtml = 'Like what you see? Visit the ' +\n",
              "            '<a target=\"_blank\" href=https://colab.research.google.com/notebooks/data_table.ipynb>data table notebook</a>'\n",
              "            + ' to learn more about interactive tables.';\n",
              "          element.innerHTML = '';\n",
              "          dataTable['output_type'] = 'display_data';\n",
              "          await google.colab.output.renderOutput(dataTable, element);\n",
              "          const docLink = document.createElement('div');\n",
              "          docLink.innerHTML = docLinkHtml;\n",
              "          element.appendChild(docLink);\n",
              "        }\n",
              "      </script>\n",
              "    </div>\n",
              "  </div>\n",
              "  "
            ]
          },
          "metadata": {},
          "execution_count": 44
        }
      ]
    },
    {
      "cell_type": "code",
      "source": [
        "gender_filter['product_gender'] = gender_filter['product_gender'].replace({'Women': 'F', 'Men': 'M'})\n",
        "gender_filter.info()"
      ],
      "metadata": {
        "colab": {
          "base_uri": "https://localhost:8080/"
        },
        "id": "3IVNH8iqyC3Q",
        "outputId": "61400429-df33-4589-c521-1e2a285089fc"
      },
      "execution_count": 47,
      "outputs": [
        {
          "output_type": "stream",
          "name": "stderr",
          "text": [
            "<ipython-input-47-189ccdee2c16>:1: SettingWithCopyWarning: \n",
            "A value is trying to be set on a copy of a slice from a DataFrame.\n",
            "Try using .loc[row_indexer,col_indexer] = value instead\n",
            "\n",
            "See the caveats in the documentation: https://pandas.pydata.org/pandas-docs/stable/user_guide/indexing.html#returning-a-view-versus-a-copy\n",
            "  gender_filter['product_gender'] = gender_filter['product_gender'].replace({'Women': 'F', 'Men': 'M'})\n"
          ]
        },
        {
          "output_type": "stream",
          "name": "stdout",
          "text": [
            "<class 'pandas.core.frame.DataFrame'>\n",
            "Int64Index: 1102485 entries, 0 to 1201027\n",
            "Data columns (total 4 columns):\n",
            " #   Column           Non-Null Count    Dtype \n",
            "---  ------           --------------    ----- \n",
            " 0   customer_id      1102485 non-null  int64 \n",
            " 1   customer_gender  1102485 non-null  object\n",
            " 2   product_gender   1102485 non-null  object\n",
            " 3   product_id       1102485 non-null  int64 \n",
            "dtypes: int64(2), object(2)\n",
            "memory usage: 42.1+ MB\n"
          ]
        }
      ]
    },
    {
      "cell_type": "code",
      "source": [
        "print(gender_filter.customer_gender.value_counts())\n",
        "print(gender_filter.product_gender.value_counts())"
      ],
      "metadata": {
        "colab": {
          "base_uri": "https://localhost:8080/"
        },
        "id": "71YRWg-U3yZQ",
        "outputId": "b8e0c96f-66e4-4fec-b3ea-6b920b17953b"
      },
      "execution_count": 49,
      "outputs": [
        {
          "output_type": "stream",
          "name": "stdout",
          "text": [
            "F    703238\n",
            "M    399247\n",
            "Name: customer_gender, dtype: int64\n",
            "M    598390\n",
            "F    504095\n",
            "Name: product_gender, dtype: int64\n"
          ]
        }
      ]
    },
    {
      "cell_type": "code",
      "source": [
        "gender_filter[(gender_filter.customer_gender == 'F') & (gender_filter.product_gender == 'M')]"
      ],
      "metadata": {
        "colab": {
          "base_uri": "https://localhost:8080/",
          "height": 424
        },
        "id": "qxK7mCfo4gqK",
        "outputId": "ccdd16fa-8cb9-4eb1-9e71-4a8f35557968"
      },
      "execution_count": 50,
      "outputs": [
        {
          "output_type": "execute_result",
          "data": {
            "text/plain": [
              "         customer_id customer_gender product_gender  product_id\n",
              "0               5868               F              M       54728\n",
              "1               4774               F              M       16193\n",
              "7               4774               F              M       14142\n",
              "8               4774               F              M       12282\n",
              "10              4774               F              M       46352\n",
              "...              ...             ...            ...         ...\n",
              "1201018        99675               F              M       15331\n",
              "1201022        77554               F              M       28377\n",
              "1201024        34829               F              M       19394\n",
              "1201025        99645               F              M       13079\n",
              "1201026        87319               F              M       11312\n",
              "\n",
              "[381504 rows x 4 columns]"
            ],
            "text/html": [
              "\n",
              "  <div id=\"df-af7ad6bb-794a-4f28-8757-ba5eb4cda296\">\n",
              "    <div class=\"colab-df-container\">\n",
              "      <div>\n",
              "<style scoped>\n",
              "    .dataframe tbody tr th:only-of-type {\n",
              "        vertical-align: middle;\n",
              "    }\n",
              "\n",
              "    .dataframe tbody tr th {\n",
              "        vertical-align: top;\n",
              "    }\n",
              "\n",
              "    .dataframe thead th {\n",
              "        text-align: right;\n",
              "    }\n",
              "</style>\n",
              "<table border=\"1\" class=\"dataframe\">\n",
              "  <thead>\n",
              "    <tr style=\"text-align: right;\">\n",
              "      <th></th>\n",
              "      <th>customer_id</th>\n",
              "      <th>customer_gender</th>\n",
              "      <th>product_gender</th>\n",
              "      <th>product_id</th>\n",
              "    </tr>\n",
              "  </thead>\n",
              "  <tbody>\n",
              "    <tr>\n",
              "      <th>0</th>\n",
              "      <td>5868</td>\n",
              "      <td>F</td>\n",
              "      <td>M</td>\n",
              "      <td>54728</td>\n",
              "    </tr>\n",
              "    <tr>\n",
              "      <th>1</th>\n",
              "      <td>4774</td>\n",
              "      <td>F</td>\n",
              "      <td>M</td>\n",
              "      <td>16193</td>\n",
              "    </tr>\n",
              "    <tr>\n",
              "      <th>7</th>\n",
              "      <td>4774</td>\n",
              "      <td>F</td>\n",
              "      <td>M</td>\n",
              "      <td>14142</td>\n",
              "    </tr>\n",
              "    <tr>\n",
              "      <th>8</th>\n",
              "      <td>4774</td>\n",
              "      <td>F</td>\n",
              "      <td>M</td>\n",
              "      <td>12282</td>\n",
              "    </tr>\n",
              "    <tr>\n",
              "      <th>10</th>\n",
              "      <td>4774</td>\n",
              "      <td>F</td>\n",
              "      <td>M</td>\n",
              "      <td>46352</td>\n",
              "    </tr>\n",
              "    <tr>\n",
              "      <th>...</th>\n",
              "      <td>...</td>\n",
              "      <td>...</td>\n",
              "      <td>...</td>\n",
              "      <td>...</td>\n",
              "    </tr>\n",
              "    <tr>\n",
              "      <th>1201018</th>\n",
              "      <td>99675</td>\n",
              "      <td>F</td>\n",
              "      <td>M</td>\n",
              "      <td>15331</td>\n",
              "    </tr>\n",
              "    <tr>\n",
              "      <th>1201022</th>\n",
              "      <td>77554</td>\n",
              "      <td>F</td>\n",
              "      <td>M</td>\n",
              "      <td>28377</td>\n",
              "    </tr>\n",
              "    <tr>\n",
              "      <th>1201024</th>\n",
              "      <td>34829</td>\n",
              "      <td>F</td>\n",
              "      <td>M</td>\n",
              "      <td>19394</td>\n",
              "    </tr>\n",
              "    <tr>\n",
              "      <th>1201025</th>\n",
              "      <td>99645</td>\n",
              "      <td>F</td>\n",
              "      <td>M</td>\n",
              "      <td>13079</td>\n",
              "    </tr>\n",
              "    <tr>\n",
              "      <th>1201026</th>\n",
              "      <td>87319</td>\n",
              "      <td>F</td>\n",
              "      <td>M</td>\n",
              "      <td>11312</td>\n",
              "    </tr>\n",
              "  </tbody>\n",
              "</table>\n",
              "<p>381504 rows × 4 columns</p>\n",
              "</div>\n",
              "      <button class=\"colab-df-convert\" onclick=\"convertToInteractive('df-af7ad6bb-794a-4f28-8757-ba5eb4cda296')\"\n",
              "              title=\"Convert this dataframe to an interactive table.\"\n",
              "              style=\"display:none;\">\n",
              "        \n",
              "  <svg xmlns=\"http://www.w3.org/2000/svg\" height=\"24px\"viewBox=\"0 0 24 24\"\n",
              "       width=\"24px\">\n",
              "    <path d=\"M0 0h24v24H0V0z\" fill=\"none\"/>\n",
              "    <path d=\"M18.56 5.44l.94 2.06.94-2.06 2.06-.94-2.06-.94-.94-2.06-.94 2.06-2.06.94zm-11 1L8.5 8.5l.94-2.06 2.06-.94-2.06-.94L8.5 2.5l-.94 2.06-2.06.94zm10 10l.94 2.06.94-2.06 2.06-.94-2.06-.94-.94-2.06-.94 2.06-2.06.94z\"/><path d=\"M17.41 7.96l-1.37-1.37c-.4-.4-.92-.59-1.43-.59-.52 0-1.04.2-1.43.59L10.3 9.45l-7.72 7.72c-.78.78-.78 2.05 0 2.83L4 21.41c.39.39.9.59 1.41.59.51 0 1.02-.2 1.41-.59l7.78-7.78 2.81-2.81c.8-.78.8-2.07 0-2.86zM5.41 20L4 18.59l7.72-7.72 1.47 1.35L5.41 20z\"/>\n",
              "  </svg>\n",
              "      </button>\n",
              "      \n",
              "  <style>\n",
              "    .colab-df-container {\n",
              "      display:flex;\n",
              "      flex-wrap:wrap;\n",
              "      gap: 12px;\n",
              "    }\n",
              "\n",
              "    .colab-df-convert {\n",
              "      background-color: #E8F0FE;\n",
              "      border: none;\n",
              "      border-radius: 50%;\n",
              "      cursor: pointer;\n",
              "      display: none;\n",
              "      fill: #1967D2;\n",
              "      height: 32px;\n",
              "      padding: 0 0 0 0;\n",
              "      width: 32px;\n",
              "    }\n",
              "\n",
              "    .colab-df-convert:hover {\n",
              "      background-color: #E2EBFA;\n",
              "      box-shadow: 0px 1px 2px rgba(60, 64, 67, 0.3), 0px 1px 3px 1px rgba(60, 64, 67, 0.15);\n",
              "      fill: #174EA6;\n",
              "    }\n",
              "\n",
              "    [theme=dark] .colab-df-convert {\n",
              "      background-color: #3B4455;\n",
              "      fill: #D2E3FC;\n",
              "    }\n",
              "\n",
              "    [theme=dark] .colab-df-convert:hover {\n",
              "      background-color: #434B5C;\n",
              "      box-shadow: 0px 1px 3px 1px rgba(0, 0, 0, 0.15);\n",
              "      filter: drop-shadow(0px 1px 2px rgba(0, 0, 0, 0.3));\n",
              "      fill: #FFFFFF;\n",
              "    }\n",
              "  </style>\n",
              "\n",
              "      <script>\n",
              "        const buttonEl =\n",
              "          document.querySelector('#df-af7ad6bb-794a-4f28-8757-ba5eb4cda296 button.colab-df-convert');\n",
              "        buttonEl.style.display =\n",
              "          google.colab.kernel.accessAllowed ? 'block' : 'none';\n",
              "\n",
              "        async function convertToInteractive(key) {\n",
              "          const element = document.querySelector('#df-af7ad6bb-794a-4f28-8757-ba5eb4cda296');\n",
              "          const dataTable =\n",
              "            await google.colab.kernel.invokeFunction('convertToInteractive',\n",
              "                                                     [key], {});\n",
              "          if (!dataTable) return;\n",
              "\n",
              "          const docLinkHtml = 'Like what you see? Visit the ' +\n",
              "            '<a target=\"_blank\" href=https://colab.research.google.com/notebooks/data_table.ipynb>data table notebook</a>'\n",
              "            + ' to learn more about interactive tables.';\n",
              "          element.innerHTML = '';\n",
              "          dataTable['output_type'] = 'display_data';\n",
              "          await google.colab.output.renderOutput(dataTable, element);\n",
              "          const docLink = document.createElement('div');\n",
              "          docLink.innerHTML = docLinkHtml;\n",
              "          element.appendChild(docLink);\n",
              "        }\n",
              "      </script>\n",
              "    </div>\n",
              "  </div>\n",
              "  "
            ]
          },
          "metadata": {},
          "execution_count": 50
        }
      ]
    },
    {
      "cell_type": "code",
      "source": [
        "gender_filter[(gender_filter.customer_gender == 'M') & (gender_filter.product_gender == 'F')]"
      ],
      "metadata": {
        "colab": {
          "base_uri": "https://localhost:8080/",
          "height": 424
        },
        "id": "eGTIJGwr4-Oe",
        "outputId": "06fd4ba1-f66b-44ae-87b1-3d4324be8593"
      },
      "execution_count": 51,
      "outputs": [
        {
          "output_type": "execute_result",
          "data": {
            "text/plain": [
              "         customer_id customer_gender product_gender  product_id\n",
              "44             58191               M              F       51799\n",
              "45             58191               M              F       37056\n",
              "46             58191               M              F       49520\n",
              "47             58191               M              F        6889\n",
              "50             58191               M              F       52906\n",
              "...              ...             ...            ...         ...\n",
              "1200994        37956               M              F       54587\n",
              "1200997        12282               M              F       39136\n",
              "1200998        12282               M              F       49616\n",
              "1201020        16528               M              F       20764\n",
              "1201023        25121               M              F       42915\n",
              "\n",
              "[182361 rows x 4 columns]"
            ],
            "text/html": [
              "\n",
              "  <div id=\"df-698ce00c-164b-4e21-b807-1ad521bb083d\">\n",
              "    <div class=\"colab-df-container\">\n",
              "      <div>\n",
              "<style scoped>\n",
              "    .dataframe tbody tr th:only-of-type {\n",
              "        vertical-align: middle;\n",
              "    }\n",
              "\n",
              "    .dataframe tbody tr th {\n",
              "        vertical-align: top;\n",
              "    }\n",
              "\n",
              "    .dataframe thead th {\n",
              "        text-align: right;\n",
              "    }\n",
              "</style>\n",
              "<table border=\"1\" class=\"dataframe\">\n",
              "  <thead>\n",
              "    <tr style=\"text-align: right;\">\n",
              "      <th></th>\n",
              "      <th>customer_id</th>\n",
              "      <th>customer_gender</th>\n",
              "      <th>product_gender</th>\n",
              "      <th>product_id</th>\n",
              "    </tr>\n",
              "  </thead>\n",
              "  <tbody>\n",
              "    <tr>\n",
              "      <th>44</th>\n",
              "      <td>58191</td>\n",
              "      <td>M</td>\n",
              "      <td>F</td>\n",
              "      <td>51799</td>\n",
              "    </tr>\n",
              "    <tr>\n",
              "      <th>45</th>\n",
              "      <td>58191</td>\n",
              "      <td>M</td>\n",
              "      <td>F</td>\n",
              "      <td>37056</td>\n",
              "    </tr>\n",
              "    <tr>\n",
              "      <th>46</th>\n",
              "      <td>58191</td>\n",
              "      <td>M</td>\n",
              "      <td>F</td>\n",
              "      <td>49520</td>\n",
              "    </tr>\n",
              "    <tr>\n",
              "      <th>47</th>\n",
              "      <td>58191</td>\n",
              "      <td>M</td>\n",
              "      <td>F</td>\n",
              "      <td>6889</td>\n",
              "    </tr>\n",
              "    <tr>\n",
              "      <th>50</th>\n",
              "      <td>58191</td>\n",
              "      <td>M</td>\n",
              "      <td>F</td>\n",
              "      <td>52906</td>\n",
              "    </tr>\n",
              "    <tr>\n",
              "      <th>...</th>\n",
              "      <td>...</td>\n",
              "      <td>...</td>\n",
              "      <td>...</td>\n",
              "      <td>...</td>\n",
              "    </tr>\n",
              "    <tr>\n",
              "      <th>1200994</th>\n",
              "      <td>37956</td>\n",
              "      <td>M</td>\n",
              "      <td>F</td>\n",
              "      <td>54587</td>\n",
              "    </tr>\n",
              "    <tr>\n",
              "      <th>1200997</th>\n",
              "      <td>12282</td>\n",
              "      <td>M</td>\n",
              "      <td>F</td>\n",
              "      <td>39136</td>\n",
              "    </tr>\n",
              "    <tr>\n",
              "      <th>1200998</th>\n",
              "      <td>12282</td>\n",
              "      <td>M</td>\n",
              "      <td>F</td>\n",
              "      <td>49616</td>\n",
              "    </tr>\n",
              "    <tr>\n",
              "      <th>1201020</th>\n",
              "      <td>16528</td>\n",
              "      <td>M</td>\n",
              "      <td>F</td>\n",
              "      <td>20764</td>\n",
              "    </tr>\n",
              "    <tr>\n",
              "      <th>1201023</th>\n",
              "      <td>25121</td>\n",
              "      <td>M</td>\n",
              "      <td>F</td>\n",
              "      <td>42915</td>\n",
              "    </tr>\n",
              "  </tbody>\n",
              "</table>\n",
              "<p>182361 rows × 4 columns</p>\n",
              "</div>\n",
              "      <button class=\"colab-df-convert\" onclick=\"convertToInteractive('df-698ce00c-164b-4e21-b807-1ad521bb083d')\"\n",
              "              title=\"Convert this dataframe to an interactive table.\"\n",
              "              style=\"display:none;\">\n",
              "        \n",
              "  <svg xmlns=\"http://www.w3.org/2000/svg\" height=\"24px\"viewBox=\"0 0 24 24\"\n",
              "       width=\"24px\">\n",
              "    <path d=\"M0 0h24v24H0V0z\" fill=\"none\"/>\n",
              "    <path d=\"M18.56 5.44l.94 2.06.94-2.06 2.06-.94-2.06-.94-.94-2.06-.94 2.06-2.06.94zm-11 1L8.5 8.5l.94-2.06 2.06-.94-2.06-.94L8.5 2.5l-.94 2.06-2.06.94zm10 10l.94 2.06.94-2.06 2.06-.94-2.06-.94-.94-2.06-.94 2.06-2.06.94z\"/><path d=\"M17.41 7.96l-1.37-1.37c-.4-.4-.92-.59-1.43-.59-.52 0-1.04.2-1.43.59L10.3 9.45l-7.72 7.72c-.78.78-.78 2.05 0 2.83L4 21.41c.39.39.9.59 1.41.59.51 0 1.02-.2 1.41-.59l7.78-7.78 2.81-2.81c.8-.78.8-2.07 0-2.86zM5.41 20L4 18.59l7.72-7.72 1.47 1.35L5.41 20z\"/>\n",
              "  </svg>\n",
              "      </button>\n",
              "      \n",
              "  <style>\n",
              "    .colab-df-container {\n",
              "      display:flex;\n",
              "      flex-wrap:wrap;\n",
              "      gap: 12px;\n",
              "    }\n",
              "\n",
              "    .colab-df-convert {\n",
              "      background-color: #E8F0FE;\n",
              "      border: none;\n",
              "      border-radius: 50%;\n",
              "      cursor: pointer;\n",
              "      display: none;\n",
              "      fill: #1967D2;\n",
              "      height: 32px;\n",
              "      padding: 0 0 0 0;\n",
              "      width: 32px;\n",
              "    }\n",
              "\n",
              "    .colab-df-convert:hover {\n",
              "      background-color: #E2EBFA;\n",
              "      box-shadow: 0px 1px 2px rgba(60, 64, 67, 0.3), 0px 1px 3px 1px rgba(60, 64, 67, 0.15);\n",
              "      fill: #174EA6;\n",
              "    }\n",
              "\n",
              "    [theme=dark] .colab-df-convert {\n",
              "      background-color: #3B4455;\n",
              "      fill: #D2E3FC;\n",
              "    }\n",
              "\n",
              "    [theme=dark] .colab-df-convert:hover {\n",
              "      background-color: #434B5C;\n",
              "      box-shadow: 0px 1px 3px 1px rgba(0, 0, 0, 0.15);\n",
              "      filter: drop-shadow(0px 1px 2px rgba(0, 0, 0, 0.3));\n",
              "      fill: #FFFFFF;\n",
              "    }\n",
              "  </style>\n",
              "\n",
              "      <script>\n",
              "        const buttonEl =\n",
              "          document.querySelector('#df-698ce00c-164b-4e21-b807-1ad521bb083d button.colab-df-convert');\n",
              "        buttonEl.style.display =\n",
              "          google.colab.kernel.accessAllowed ? 'block' : 'none';\n",
              "\n",
              "        async function convertToInteractive(key) {\n",
              "          const element = document.querySelector('#df-698ce00c-164b-4e21-b807-1ad521bb083d');\n",
              "          const dataTable =\n",
              "            await google.colab.kernel.invokeFunction('convertToInteractive',\n",
              "                                                     [key], {});\n",
              "          if (!dataTable) return;\n",
              "\n",
              "          const docLinkHtml = 'Like what you see? Visit the ' +\n",
              "            '<a target=\"_blank\" href=https://colab.research.google.com/notebooks/data_table.ipynb>data table notebook</a>'\n",
              "            + ' to learn more about interactive tables.';\n",
              "          element.innerHTML = '';\n",
              "          dataTable['output_type'] = 'display_data';\n",
              "          await google.colab.output.renderOutput(dataTable, element);\n",
              "          const docLink = document.createElement('div');\n",
              "          docLink.innerHTML = docLinkHtml;\n",
              "          element.appendChild(docLink);\n",
              "        }\n",
              "      </script>\n",
              "    </div>\n",
              "  </div>\n",
              "  "
            ]
          },
          "metadata": {},
          "execution_count": 51
        }
      ]
    },
    {
      "cell_type": "code",
      "source": [
        "print(f'M중에 F제품 산 경우: {182361/399247}')\n",
        "print(f'F중에 M제품 산 경우: {381504/703238}')"
      ],
      "metadata": {
        "colab": {
          "base_uri": "https://localhost:8080/"
        },
        "id": "XoRxJho35DM5",
        "outputId": "b774e6eb-6dab-4e8c-d8d4-4e3d1d915105"
      },
      "execution_count": 54,
      "outputs": [
        {
          "output_type": "stream",
          "name": "stdout",
          "text": [
            "M중에 F제품 산 경우: 0.4567623551335389\n",
            "F중에 M제품 산 경우: 0.5424962814864953\n"
          ]
        }
      ]
    },
    {
      "cell_type": "code",
      "source": [
        "labels = ['M buying F products', 'F buying M products']\n",
        "values = [182361/399247, 381504/703238]\n",
        "\n",
        "# Plot\n",
        "plt.pie(values, labels=labels, autopct='%1.1f%%')\n",
        "plt.axis('equal')\n",
        "plt.show()"
      ],
      "metadata": {
        "colab": {
          "base_uri": "https://localhost:8080/",
          "height": 417
        },
        "id": "AgmNDDC55htP",
        "outputId": "de2b6bc1-338e-4045-8925-3de5ca5b2b50"
      },
      "execution_count": 59,
      "outputs": [
        {
          "output_type": "display_data",
          "data": {
            "text/plain": [
              "<Figure size 640x480 with 1 Axes>"
            ],
            "image/png": "[encoded data removed]"
          },
          "metadata": {}
        }
      ]
    },
    {
      "cell_type": "code",
      "source": [],
      "metadata": {
        "id": "o-MtrNYL5zGR"
      },
      "execution_count": null,
      "outputs": []
    }
  ]
}