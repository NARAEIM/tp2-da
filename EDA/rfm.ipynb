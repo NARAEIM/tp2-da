{
 "cells": [
  {
   "cell_type": "code",
   "execution_count": 1,
   "metadata": {},
   "outputs": [],
   "source": [
    "import pandas as pd\n",
    "pd.set_option('display.float_format', '{:.2f}'.format)\n",
    "import numpy as np\n",
    "import seaborn as sns\n",
    "import matplotlib.pyplot as plt\n",
    "import datetime\n",
    "import os\n",
    "import plotly.express as px\n",
    "import plotly.graph_objects as go"
   ]
  },
  {
   "cell_type": "code",
   "execution_count": 2,
   "metadata": {},
   "outputs": [],
   "source": [
    "base_path = os.getcwd()\n",
    "customer_rfm = pd.read_csv(base_path + '/customer_add_rfm.csv')"
   ]
  },
  {
   "cell_type": "code",
   "execution_count": 3,
   "metadata": {},
   "outputs": [],
   "source": [
    "customer_rfm.drop('RFM_Segment_x', axis=1, inplace=True)\n",
    "customer_rfm.rename(columns={'RFM_Segment_y': 'RFM_Segment'}, inplace=True)"
   ]
  },
  {
   "cell_type": "code",
   "execution_count": 100,
   "metadata": {},
   "outputs": [],
   "source": [
    "customer = pd.read_csv(base_path + '/customer.csv')"
   ]
  },
  {
   "cell_type": "code",
   "execution_count": 4,
   "metadata": {},
   "outputs": [
    {
     "data": {
      "text/html": [
       "<div>\n",
       "<style scoped>\n",
       "    .dataframe tbody tr th:only-of-type {\n",
       "        vertical-align: middle;\n",
       "    }\n",
       "\n",
       "    .dataframe tbody tr th {\n",
       "        vertical-align: top;\n",
       "    }\n",
       "\n",
       "    .dataframe thead th {\n",
       "        text-align: right;\n",
       "    }\n",
       "</style>\n",
       "<table border=\"1\" class=\"dataframe\">\n",
       "  <thead>\n",
       "    <tr style=\"text-align: right;\">\n",
       "      <th></th>\n",
       "      <th>session_id</th>\n",
       "      <th>event_name</th>\n",
       "      <th>event_time</th>\n",
       "      <th>traffic_source</th>\n",
       "      <th>product_id</th>\n",
       "      <th>quantity</th>\n",
       "      <th>item_price</th>\n",
       "      <th>payment_status</th>\n",
       "      <th>search_keywords</th>\n",
       "      <th>promo_code</th>\n",
       "      <th>promo_amount</th>\n",
       "      <th>customer_id</th>\n",
       "      <th>booking_id</th>\n",
       "      <th>quarter</th>\n",
       "    </tr>\n",
       "  </thead>\n",
       "  <tbody>\n",
       "    <tr>\n",
       "      <th>0</th>\n",
       "      <td>44122af0-0bf5-407b-b3ff-22c082c61426_0</td>\n",
       "      <td>HOMEPAGE</td>\n",
       "      <td>2016-10-09 21:17:34.380487+00:00</td>\n",
       "      <td>MOBILE</td>\n",
       "      <td>NaN</td>\n",
       "      <td>0</td>\n",
       "      <td>0</td>\n",
       "      <td>NaN</td>\n",
       "      <td>NaN</td>\n",
       "      <td>0.00</td>\n",
       "      <td>0</td>\n",
       "      <td>50.00</td>\n",
       "      <td>097c5406-68c5-4ecc-8399-8745cb3ff0ca</td>\n",
       "      <td>NaN</td>\n",
       "    </tr>\n",
       "    <tr>\n",
       "      <th>1</th>\n",
       "      <td>44122af0-0bf5-407b-b3ff-22c082c61426_0</td>\n",
       "      <td>ADD_TO_CART</td>\n",
       "      <td>2016-10-09 21:28:40.380487+00:00</td>\n",
       "      <td>MOBILE</td>\n",
       "      <td>24639.00</td>\n",
       "      <td>1</td>\n",
       "      <td>255356</td>\n",
       "      <td>NaN</td>\n",
       "      <td>NaN</td>\n",
       "      <td>0.00</td>\n",
       "      <td>0</td>\n",
       "      <td>50.00</td>\n",
       "      <td>097c5406-68c5-4ecc-8399-8745cb3ff0ca</td>\n",
       "      <td>NaN</td>\n",
       "    </tr>\n",
       "    <tr>\n",
       "      <th>2</th>\n",
       "      <td>44122af0-0bf5-407b-b3ff-22c082c61426_0</td>\n",
       "      <td>HOMEPAGE</td>\n",
       "      <td>2016-10-09 21:30:22.380487+00:00</td>\n",
       "      <td>MOBILE</td>\n",
       "      <td>NaN</td>\n",
       "      <td>0</td>\n",
       "      <td>0</td>\n",
       "      <td>NaN</td>\n",
       "      <td>NaN</td>\n",
       "      <td>0.00</td>\n",
       "      <td>0</td>\n",
       "      <td>50.00</td>\n",
       "      <td>097c5406-68c5-4ecc-8399-8745cb3ff0ca</td>\n",
       "      <td>NaN</td>\n",
       "    </tr>\n",
       "    <tr>\n",
       "      <th>3</th>\n",
       "      <td>44122af0-0bf5-407b-b3ff-22c082c61426_0</td>\n",
       "      <td>HOMEPAGE</td>\n",
       "      <td>2016-10-09 21:42:14.380487+00:00</td>\n",
       "      <td>MOBILE</td>\n",
       "      <td>NaN</td>\n",
       "      <td>0</td>\n",
       "      <td>0</td>\n",
       "      <td>NaN</td>\n",
       "      <td>NaN</td>\n",
       "      <td>0.00</td>\n",
       "      <td>0</td>\n",
       "      <td>50.00</td>\n",
       "      <td>097c5406-68c5-4ecc-8399-8745cb3ff0ca</td>\n",
       "      <td>NaN</td>\n",
       "    </tr>\n",
       "    <tr>\n",
       "      <th>4</th>\n",
       "      <td>44122af0-0bf5-407b-b3ff-22c082c61426_0</td>\n",
       "      <td>ITEM_DETAIL</td>\n",
       "      <td>2016-10-09 21:54:20.380487+00:00</td>\n",
       "      <td>MOBILE</td>\n",
       "      <td>NaN</td>\n",
       "      <td>0</td>\n",
       "      <td>0</td>\n",
       "      <td>NaN</td>\n",
       "      <td>NaN</td>\n",
       "      <td>0.00</td>\n",
       "      <td>0</td>\n",
       "      <td>50.00</td>\n",
       "      <td>097c5406-68c5-4ecc-8399-8745cb3ff0ca</td>\n",
       "      <td>NaN</td>\n",
       "    </tr>\n",
       "  </tbody>\n",
       "</table>\n",
       "</div>"
      ],
      "text/plain": [
       "                               session_id   event_name  \\\n",
       "0  44122af0-0bf5-407b-b3ff-22c082c61426_0     HOMEPAGE   \n",
       "1  44122af0-0bf5-407b-b3ff-22c082c61426_0  ADD_TO_CART   \n",
       "2  44122af0-0bf5-407b-b3ff-22c082c61426_0     HOMEPAGE   \n",
       "3  44122af0-0bf5-407b-b3ff-22c082c61426_0     HOMEPAGE   \n",
       "4  44122af0-0bf5-407b-b3ff-22c082c61426_0  ITEM_DETAIL   \n",
       "\n",
       "                         event_time traffic_source  product_id  quantity  \\\n",
       "0  2016-10-09 21:17:34.380487+00:00         MOBILE         NaN         0   \n",
       "1  2016-10-09 21:28:40.380487+00:00         MOBILE    24639.00         1   \n",
       "2  2016-10-09 21:30:22.380487+00:00         MOBILE         NaN         0   \n",
       "3  2016-10-09 21:42:14.380487+00:00         MOBILE         NaN         0   \n",
       "4  2016-10-09 21:54:20.380487+00:00         MOBILE         NaN         0   \n",
       "\n",
       "   item_price  payment_status search_keywords  promo_code  promo_amount  \\\n",
       "0           0             NaN             NaN        0.00             0   \n",
       "1      255356             NaN             NaN        0.00             0   \n",
       "2           0             NaN             NaN        0.00             0   \n",
       "3           0             NaN             NaN        0.00             0   \n",
       "4           0             NaN             NaN        0.00             0   \n",
       "\n",
       "   customer_id                            booking_id  quarter  \n",
       "0        50.00  097c5406-68c5-4ecc-8399-8745cb3ff0ca      NaN  \n",
       "1        50.00  097c5406-68c5-4ecc-8399-8745cb3ff0ca      NaN  \n",
       "2        50.00  097c5406-68c5-4ecc-8399-8745cb3ff0ca      NaN  \n",
       "3        50.00  097c5406-68c5-4ecc-8399-8745cb3ff0ca      NaN  \n",
       "4        50.00  097c5406-68c5-4ecc-8399-8745cb3ff0ca      NaN  "
      ]
     },
     "execution_count": 4,
     "metadata": {},
     "output_type": "execute_result"
    }
   ],
   "source": [
    "df_buy_split = pd.read_csv(base_path + '/df_buy_split.csv')\n",
    "df_buy_split.head()"
   ]
  },
  {
   "cell_type": "code",
   "execution_count": 5,
   "metadata": {},
   "outputs": [
    {
     "data": {
      "text/html": [
       "<div>\n",
       "<style scoped>\n",
       "    .dataframe tbody tr th:only-of-type {\n",
       "        vertical-align: middle;\n",
       "    }\n",
       "\n",
       "    .dataframe tbody tr th {\n",
       "        vertical-align: top;\n",
       "    }\n",
       "\n",
       "    .dataframe thead th {\n",
       "        text-align: right;\n",
       "    }\n",
       "</style>\n",
       "<table border=\"1\" class=\"dataframe\">\n",
       "  <thead>\n",
       "    <tr style=\"text-align: right;\">\n",
       "      <th></th>\n",
       "      <th>session_id</th>\n",
       "      <th>event_name</th>\n",
       "      <th>event_time</th>\n",
       "      <th>traffic_source</th>\n",
       "      <th>product_id</th>\n",
       "      <th>quantity</th>\n",
       "      <th>item_price</th>\n",
       "      <th>search_keywords</th>\n",
       "    </tr>\n",
       "  </thead>\n",
       "  <tbody>\n",
       "    <tr>\n",
       "      <th>0</th>\n",
       "      <td>00038f48-10a2-4752-bdcf-4d12b5731f6e_0</td>\n",
       "      <td>HOMEPAGE</td>\n",
       "      <td>2021-01-16 16:36:26.918402+00:00</td>\n",
       "      <td>MOBILE</td>\n",
       "      <td>NaN</td>\n",
       "      <td>0</td>\n",
       "      <td>0</td>\n",
       "      <td>NaN</td>\n",
       "    </tr>\n",
       "    <tr>\n",
       "      <th>1</th>\n",
       "      <td>00038f48-10a2-4752-bdcf-4d12b5731f6e_0</td>\n",
       "      <td>ITEM_DETAIL</td>\n",
       "      <td>2021-01-16 16:44:18.918402+00:00</td>\n",
       "      <td>MOBILE</td>\n",
       "      <td>NaN</td>\n",
       "      <td>0</td>\n",
       "      <td>0</td>\n",
       "      <td>NaN</td>\n",
       "    </tr>\n",
       "    <tr>\n",
       "      <th>2</th>\n",
       "      <td>00038f48-10a2-4752-bdcf-4d12b5731f6e_0</td>\n",
       "      <td>ITEM_DETAIL</td>\n",
       "      <td>2021-01-16 16:51:45.918402+00:00</td>\n",
       "      <td>MOBILE</td>\n",
       "      <td>NaN</td>\n",
       "      <td>0</td>\n",
       "      <td>0</td>\n",
       "      <td>NaN</td>\n",
       "    </tr>\n",
       "    <tr>\n",
       "      <th>3</th>\n",
       "      <td>00038f48-10a2-4752-bdcf-4d12b5731f6e_0</td>\n",
       "      <td>ADD_TO_CART</td>\n",
       "      <td>2021-01-16 16:59:24.918402+00:00</td>\n",
       "      <td>MOBILE</td>\n",
       "      <td>20886.00</td>\n",
       "      <td>1</td>\n",
       "      <td>629485</td>\n",
       "      <td>NaN</td>\n",
       "    </tr>\n",
       "    <tr>\n",
       "      <th>4</th>\n",
       "      <td>00038f48-10a2-4752-bdcf-4d12b5731f6e_0</td>\n",
       "      <td>HOMEPAGE</td>\n",
       "      <td>2021-01-16 17:07:05.918402+00:00</td>\n",
       "      <td>MOBILE</td>\n",
       "      <td>NaN</td>\n",
       "      <td>0</td>\n",
       "      <td>0</td>\n",
       "      <td>NaN</td>\n",
       "    </tr>\n",
       "  </tbody>\n",
       "</table>\n",
       "</div>"
      ],
      "text/plain": [
       "                               session_id   event_name  \\\n",
       "0  00038f48-10a2-4752-bdcf-4d12b5731f6e_0     HOMEPAGE   \n",
       "1  00038f48-10a2-4752-bdcf-4d12b5731f6e_0  ITEM_DETAIL   \n",
       "2  00038f48-10a2-4752-bdcf-4d12b5731f6e_0  ITEM_DETAIL   \n",
       "3  00038f48-10a2-4752-bdcf-4d12b5731f6e_0  ADD_TO_CART   \n",
       "4  00038f48-10a2-4752-bdcf-4d12b5731f6e_0     HOMEPAGE   \n",
       "\n",
       "                         event_time traffic_source  product_id  quantity  \\\n",
       "0  2021-01-16 16:36:26.918402+00:00         MOBILE         NaN         0   \n",
       "1  2021-01-16 16:44:18.918402+00:00         MOBILE         NaN         0   \n",
       "2  2021-01-16 16:51:45.918402+00:00         MOBILE         NaN         0   \n",
       "3  2021-01-16 16:59:24.918402+00:00         MOBILE    20886.00         1   \n",
       "4  2021-01-16 17:07:05.918402+00:00         MOBILE         NaN         0   \n",
       "\n",
       "   item_price search_keywords  \n",
       "0           0             NaN  \n",
       "1           0             NaN  \n",
       "2           0             NaN  \n",
       "3      629485             NaN  \n",
       "4           0             NaN  "
      ]
     },
     "execution_count": 5,
     "metadata": {},
     "output_type": "execute_result"
    }
   ],
   "source": [
    "df_n_buy_split = pd.read_csv(base_path + '/df_n_buy_split.csv')\n",
    "df_n_buy_split.head()"
   ]
  },
  {
   "cell_type": "code",
   "execution_count": 6,
   "metadata": {},
   "outputs": [
    {
     "data": {
      "text/plain": [
       "array(['5d13b199-484c-468b-bad4-316d5c78b199_0',\n",
       "       '5d13b199-484c-468b-bad4-316d5c78b199_1',\n",
       "       '5d13b199-484c-468b-bad4-316d5c78b199_2', ...,\n",
       "       '77a7b8f9-b867-4180-a8d4-2b0f479c7dea_3_8',\n",
       "       'be458630-6c39-4cf7-931d-010194e350d0_3_0',\n",
       "       'be458630-6c39-4cf7-931d-010194e350d0_3_1'], dtype=object)"
      ]
     },
     "execution_count": 6,
     "metadata": {},
     "output_type": "execute_result"
    }
   ],
   "source": [
    "booking_session_id = df_buy_split[df_buy_split.event_name == 'BOOKING'].session_id.unique()\n",
    "no_booking_session_id = df_buy_split[~df_buy_split.session_id.isin(booking_session_id)].session_id.unique()\n",
    "no_booking_session_id"
   ]
  },
  {
   "cell_type": "code",
   "execution_count": 7,
   "metadata": {},
   "outputs": [],
   "source": [
    "df_buy_split.loc[df_buy_split.session_id.isin(no_booking_session_id), 'booking_id'] = np.NaN"
   ]
  },
  {
   "cell_type": "code",
   "execution_count": 8,
   "metadata": {},
   "outputs": [],
   "source": [
    "df_buy_split = pd.concat([df_buy_split, df_n_buy_split], axis=0)"
   ]
  },
  {
   "cell_type": "code",
   "execution_count": 9,
   "metadata": {},
   "outputs": [],
   "source": [
    "df_buy_split_old = pd.read_csv(base_path + '/df_buy_split_final.csv')"
   ]
  },
  {
   "cell_type": "code",
   "execution_count": 10,
   "metadata": {},
   "outputs": [
    {
     "data": {
      "text/html": [
       "<div>\n",
       "<style scoped>\n",
       "    .dataframe tbody tr th:only-of-type {\n",
       "        vertical-align: middle;\n",
       "    }\n",
       "\n",
       "    .dataframe tbody tr th {\n",
       "        vertical-align: top;\n",
       "    }\n",
       "\n",
       "    .dataframe thead th {\n",
       "        text-align: right;\n",
       "    }\n",
       "</style>\n",
       "<table border=\"1\" class=\"dataframe\">\n",
       "  <thead>\n",
       "    <tr style=\"text-align: right;\">\n",
       "      <th></th>\n",
       "      <th>session_id</th>\n",
       "      <th>event_name</th>\n",
       "      <th>event_time</th>\n",
       "      <th>traffic_source</th>\n",
       "      <th>product_id</th>\n",
       "      <th>quantity</th>\n",
       "      <th>item_price</th>\n",
       "      <th>payment_status</th>\n",
       "      <th>search_keywords</th>\n",
       "      <th>promo_code</th>\n",
       "      <th>promo_amount</th>\n",
       "      <th>customer_id</th>\n",
       "      <th>quarter</th>\n",
       "      <th>old_session</th>\n",
       "      <th>booking_id</th>\n",
       "      <th>sales</th>\n",
       "      <th>month</th>\n",
       "      <th>RFM_Segment</th>\n",
       "    </tr>\n",
       "  </thead>\n",
       "  <tbody>\n",
       "    <tr>\n",
       "      <th>0</th>\n",
       "      <td>f03b6825-1e6e-4916-bf71-f94ecbcbaee5</td>\n",
       "      <td>HOMEPAGE</td>\n",
       "      <td>2018-08-25 18:53:48.906490+00:00</td>\n",
       "      <td>MOBILE</td>\n",
       "      <td>NaN</td>\n",
       "      <td>0</td>\n",
       "      <td>0</td>\n",
       "      <td>NaN</td>\n",
       "      <td>NaN</td>\n",
       "      <td>0.00</td>\n",
       "      <td>0</td>\n",
       "      <td>3.00</td>\n",
       "      <td>NaN</td>\n",
       "      <td>f03b6825-1e6e-4916-bf71-f94ecbcbaee5</td>\n",
       "      <td>856b0c3d-b076-406b-be11-3dfee762e9be</td>\n",
       "      <td>826597</td>\n",
       "      <td>2018-08</td>\n",
       "      <td>322.00</td>\n",
       "    </tr>\n",
       "    <tr>\n",
       "      <th>1</th>\n",
       "      <td>f03b6825-1e6e-4916-bf71-f94ecbcbaee5</td>\n",
       "      <td>CLICK</td>\n",
       "      <td>2018-08-25 18:53:51.906490+00:00</td>\n",
       "      <td>MOBILE</td>\n",
       "      <td>NaN</td>\n",
       "      <td>0</td>\n",
       "      <td>0</td>\n",
       "      <td>NaN</td>\n",
       "      <td>NaN</td>\n",
       "      <td>0.00</td>\n",
       "      <td>0</td>\n",
       "      <td>3.00</td>\n",
       "      <td>NaN</td>\n",
       "      <td>f03b6825-1e6e-4916-bf71-f94ecbcbaee5</td>\n",
       "      <td>856b0c3d-b076-406b-be11-3dfee762e9be</td>\n",
       "      <td>826597</td>\n",
       "      <td>2018-08</td>\n",
       "      <td>322.00</td>\n",
       "    </tr>\n",
       "    <tr>\n",
       "      <th>2</th>\n",
       "      <td>f03b6825-1e6e-4916-bf71-f94ecbcbaee5</td>\n",
       "      <td>ADD_TO_CART</td>\n",
       "      <td>2018-08-25 18:53:53.906490+00:00</td>\n",
       "      <td>MOBILE</td>\n",
       "      <td>33350.00</td>\n",
       "      <td>1</td>\n",
       "      <td>318832</td>\n",
       "      <td>NaN</td>\n",
       "      <td>NaN</td>\n",
       "      <td>0.00</td>\n",
       "      <td>0</td>\n",
       "      <td>3.00</td>\n",
       "      <td>NaN</td>\n",
       "      <td>f03b6825-1e6e-4916-bf71-f94ecbcbaee5</td>\n",
       "      <td>856b0c3d-b076-406b-be11-3dfee762e9be</td>\n",
       "      <td>826597</td>\n",
       "      <td>2018-08</td>\n",
       "      <td>322.00</td>\n",
       "    </tr>\n",
       "    <tr>\n",
       "      <th>3</th>\n",
       "      <td>f03b6825-1e6e-4916-bf71-f94ecbcbaee5</td>\n",
       "      <td>ADD_TO_CART</td>\n",
       "      <td>2018-08-25 18:53:54.906490+00:00</td>\n",
       "      <td>MOBILE</td>\n",
       "      <td>56019.00</td>\n",
       "      <td>5</td>\n",
       "      <td>166934</td>\n",
       "      <td>NaN</td>\n",
       "      <td>NaN</td>\n",
       "      <td>0.00</td>\n",
       "      <td>0</td>\n",
       "      <td>3.00</td>\n",
       "      <td>NaN</td>\n",
       "      <td>f03b6825-1e6e-4916-bf71-f94ecbcbaee5</td>\n",
       "      <td>856b0c3d-b076-406b-be11-3dfee762e9be</td>\n",
       "      <td>826597</td>\n",
       "      <td>2018-08</td>\n",
       "      <td>322.00</td>\n",
       "    </tr>\n",
       "    <tr>\n",
       "      <th>4</th>\n",
       "      <td>f03b6825-1e6e-4916-bf71-f94ecbcbaee5</td>\n",
       "      <td>CLICK</td>\n",
       "      <td>2018-08-25 18:53:55.906490+00:00</td>\n",
       "      <td>MOBILE</td>\n",
       "      <td>NaN</td>\n",
       "      <td>0</td>\n",
       "      <td>0</td>\n",
       "      <td>NaN</td>\n",
       "      <td>NaN</td>\n",
       "      <td>0.00</td>\n",
       "      <td>0</td>\n",
       "      <td>3.00</td>\n",
       "      <td>NaN</td>\n",
       "      <td>f03b6825-1e6e-4916-bf71-f94ecbcbaee5</td>\n",
       "      <td>856b0c3d-b076-406b-be11-3dfee762e9be</td>\n",
       "      <td>826597</td>\n",
       "      <td>2018-08</td>\n",
       "      <td>322.00</td>\n",
       "    </tr>\n",
       "  </tbody>\n",
       "</table>\n",
       "</div>"
      ],
      "text/plain": [
       "                             session_id   event_name  \\\n",
       "0  f03b6825-1e6e-4916-bf71-f94ecbcbaee5     HOMEPAGE   \n",
       "1  f03b6825-1e6e-4916-bf71-f94ecbcbaee5        CLICK   \n",
       "2  f03b6825-1e6e-4916-bf71-f94ecbcbaee5  ADD_TO_CART   \n",
       "3  f03b6825-1e6e-4916-bf71-f94ecbcbaee5  ADD_TO_CART   \n",
       "4  f03b6825-1e6e-4916-bf71-f94ecbcbaee5        CLICK   \n",
       "\n",
       "                         event_time traffic_source  product_id  quantity  \\\n",
       "0  2018-08-25 18:53:48.906490+00:00         MOBILE         NaN         0   \n",
       "1  2018-08-25 18:53:51.906490+00:00         MOBILE         NaN         0   \n",
       "2  2018-08-25 18:53:53.906490+00:00         MOBILE    33350.00         1   \n",
       "3  2018-08-25 18:53:54.906490+00:00         MOBILE    56019.00         5   \n",
       "4  2018-08-25 18:53:55.906490+00:00         MOBILE         NaN         0   \n",
       "\n",
       "   item_price  payment_status search_keywords  promo_code  promo_amount  \\\n",
       "0           0             NaN             NaN        0.00             0   \n",
       "1           0             NaN             NaN        0.00             0   \n",
       "2      318832             NaN             NaN        0.00             0   \n",
       "3      166934             NaN             NaN        0.00             0   \n",
       "4           0             NaN             NaN        0.00             0   \n",
       "\n",
       "   customer_id  quarter                           old_session  \\\n",
       "0         3.00      NaN  f03b6825-1e6e-4916-bf71-f94ecbcbaee5   \n",
       "1         3.00      NaN  f03b6825-1e6e-4916-bf71-f94ecbcbaee5   \n",
       "2         3.00      NaN  f03b6825-1e6e-4916-bf71-f94ecbcbaee5   \n",
       "3         3.00      NaN  f03b6825-1e6e-4916-bf71-f94ecbcbaee5   \n",
       "4         3.00      NaN  f03b6825-1e6e-4916-bf71-f94ecbcbaee5   \n",
       "\n",
       "                             booking_id   sales    month  RFM_Segment  \n",
       "0  856b0c3d-b076-406b-be11-3dfee762e9be  826597  2018-08       322.00  \n",
       "1  856b0c3d-b076-406b-be11-3dfee762e9be  826597  2018-08       322.00  \n",
       "2  856b0c3d-b076-406b-be11-3dfee762e9be  826597  2018-08       322.00  \n",
       "3  856b0c3d-b076-406b-be11-3dfee762e9be  826597  2018-08       322.00  \n",
       "4  856b0c3d-b076-406b-be11-3dfee762e9be  826597  2018-08       322.00  "
      ]
     },
     "execution_count": 10,
     "metadata": {},
     "output_type": "execute_result"
    }
   ],
   "source": [
    "df_buy_split_old = pd.merge(df_buy_split_old, customer_rfm[['customer_id', 'RFM_Segment']], how='left', on='customer_id')\n",
    "df_buy_split_old.head()"
   ]
  },
  {
   "cell_type": "code",
   "execution_count": 11,
   "metadata": {},
   "outputs": [],
   "source": [
    "df_buy_split_old = df_buy_split_old[df_buy_split_old.RFM_Segment.isin([322, 222, 122])]"
   ]
  },
  {
   "cell_type": "code",
   "execution_count": 12,
   "metadata": {},
   "outputs": [],
   "source": [
    "transaction_new = pd.read_csv(base_path + '/transaction_final.csv')"
   ]
  },
  {
   "cell_type": "code",
   "execution_count": 13,
   "metadata": {},
   "outputs": [],
   "source": [
    "product = pd.read_csv(base_path + '/product_final.csv', skiprows = [6043, 6568, 7398, 7938, 9025, 10263, 10426, 10904, 11372, 11944, 14111, 14531, 15075, 29905, 31624, 33019, 35747, 35961, 37769, 38104, 38274, 38403])"
   ]
  },
  {
   "cell_type": "code",
   "execution_count": 14,
   "metadata": {},
   "outputs": [
    {
     "data": {
      "text/html": [
       "<div>\n",
       "<style scoped>\n",
       "    .dataframe tbody tr th:only-of-type {\n",
       "        vertical-align: middle;\n",
       "    }\n",
       "\n",
       "    .dataframe tbody tr th {\n",
       "        vertical-align: top;\n",
       "    }\n",
       "\n",
       "    .dataframe thead th {\n",
       "        text-align: right;\n",
       "    }\n",
       "</style>\n",
       "<table border=\"1\" class=\"dataframe\">\n",
       "  <thead>\n",
       "    <tr style=\"text-align: right;\">\n",
       "      <th></th>\n",
       "      <th>session_id</th>\n",
       "      <th>event_name</th>\n",
       "      <th>event_time</th>\n",
       "      <th>traffic_source</th>\n",
       "      <th>product_id</th>\n",
       "      <th>quantity</th>\n",
       "      <th>item_price</th>\n",
       "      <th>payment_status</th>\n",
       "      <th>search_keywords</th>\n",
       "      <th>promo_code</th>\n",
       "      <th>promo_amount</th>\n",
       "      <th>customer_id</th>\n",
       "      <th>booking_id</th>\n",
       "      <th>quarter</th>\n",
       "      <th>RFM_Segment</th>\n",
       "    </tr>\n",
       "  </thead>\n",
       "  <tbody>\n",
       "    <tr>\n",
       "      <th>0</th>\n",
       "      <td>44122af0-0bf5-407b-b3ff-22c082c61426_0</td>\n",
       "      <td>HOMEPAGE</td>\n",
       "      <td>2016-10-09 21:17:34.380487+00:00</td>\n",
       "      <td>MOBILE</td>\n",
       "      <td>NaN</td>\n",
       "      <td>0</td>\n",
       "      <td>0</td>\n",
       "      <td>NaN</td>\n",
       "      <td>NaN</td>\n",
       "      <td>0.00</td>\n",
       "      <td>0.00</td>\n",
       "      <td>50.00</td>\n",
       "      <td>097c5406-68c5-4ecc-8399-8745cb3ff0ca</td>\n",
       "      <td>NaN</td>\n",
       "      <td>112.00</td>\n",
       "    </tr>\n",
       "    <tr>\n",
       "      <th>1</th>\n",
       "      <td>44122af0-0bf5-407b-b3ff-22c082c61426_0</td>\n",
       "      <td>ADD_TO_CART</td>\n",
       "      <td>2016-10-09 21:28:40.380487+00:00</td>\n",
       "      <td>MOBILE</td>\n",
       "      <td>24639.00</td>\n",
       "      <td>1</td>\n",
       "      <td>255356</td>\n",
       "      <td>NaN</td>\n",
       "      <td>NaN</td>\n",
       "      <td>0.00</td>\n",
       "      <td>0.00</td>\n",
       "      <td>50.00</td>\n",
       "      <td>097c5406-68c5-4ecc-8399-8745cb3ff0ca</td>\n",
       "      <td>NaN</td>\n",
       "      <td>112.00</td>\n",
       "    </tr>\n",
       "    <tr>\n",
       "      <th>2</th>\n",
       "      <td>44122af0-0bf5-407b-b3ff-22c082c61426_0</td>\n",
       "      <td>HOMEPAGE</td>\n",
       "      <td>2016-10-09 21:30:22.380487+00:00</td>\n",
       "      <td>MOBILE</td>\n",
       "      <td>NaN</td>\n",
       "      <td>0</td>\n",
       "      <td>0</td>\n",
       "      <td>NaN</td>\n",
       "      <td>NaN</td>\n",
       "      <td>0.00</td>\n",
       "      <td>0.00</td>\n",
       "      <td>50.00</td>\n",
       "      <td>097c5406-68c5-4ecc-8399-8745cb3ff0ca</td>\n",
       "      <td>NaN</td>\n",
       "      <td>112.00</td>\n",
       "    </tr>\n",
       "    <tr>\n",
       "      <th>3</th>\n",
       "      <td>44122af0-0bf5-407b-b3ff-22c082c61426_0</td>\n",
       "      <td>HOMEPAGE</td>\n",
       "      <td>2016-10-09 21:42:14.380487+00:00</td>\n",
       "      <td>MOBILE</td>\n",
       "      <td>NaN</td>\n",
       "      <td>0</td>\n",
       "      <td>0</td>\n",
       "      <td>NaN</td>\n",
       "      <td>NaN</td>\n",
       "      <td>0.00</td>\n",
       "      <td>0.00</td>\n",
       "      <td>50.00</td>\n",
       "      <td>097c5406-68c5-4ecc-8399-8745cb3ff0ca</td>\n",
       "      <td>NaN</td>\n",
       "      <td>112.00</td>\n",
       "    </tr>\n",
       "    <tr>\n",
       "      <th>4</th>\n",
       "      <td>44122af0-0bf5-407b-b3ff-22c082c61426_0</td>\n",
       "      <td>ITEM_DETAIL</td>\n",
       "      <td>2016-10-09 21:54:20.380487+00:00</td>\n",
       "      <td>MOBILE</td>\n",
       "      <td>NaN</td>\n",
       "      <td>0</td>\n",
       "      <td>0</td>\n",
       "      <td>NaN</td>\n",
       "      <td>NaN</td>\n",
       "      <td>0.00</td>\n",
       "      <td>0.00</td>\n",
       "      <td>50.00</td>\n",
       "      <td>097c5406-68c5-4ecc-8399-8745cb3ff0ca</td>\n",
       "      <td>NaN</td>\n",
       "      <td>112.00</td>\n",
       "    </tr>\n",
       "  </tbody>\n",
       "</table>\n",
       "</div>"
      ],
      "text/plain": [
       "                               session_id   event_name  \\\n",
       "0  44122af0-0bf5-407b-b3ff-22c082c61426_0     HOMEPAGE   \n",
       "1  44122af0-0bf5-407b-b3ff-22c082c61426_0  ADD_TO_CART   \n",
       "2  44122af0-0bf5-407b-b3ff-22c082c61426_0     HOMEPAGE   \n",
       "3  44122af0-0bf5-407b-b3ff-22c082c61426_0     HOMEPAGE   \n",
       "4  44122af0-0bf5-407b-b3ff-22c082c61426_0  ITEM_DETAIL   \n",
       "\n",
       "                         event_time traffic_source  product_id  quantity  \\\n",
       "0  2016-10-09 21:17:34.380487+00:00         MOBILE         NaN         0   \n",
       "1  2016-10-09 21:28:40.380487+00:00         MOBILE    24639.00         1   \n",
       "2  2016-10-09 21:30:22.380487+00:00         MOBILE         NaN         0   \n",
       "3  2016-10-09 21:42:14.380487+00:00         MOBILE         NaN         0   \n",
       "4  2016-10-09 21:54:20.380487+00:00         MOBILE         NaN         0   \n",
       "\n",
       "   item_price  payment_status search_keywords  promo_code  promo_amount  \\\n",
       "0           0             NaN             NaN        0.00          0.00   \n",
       "1      255356             NaN             NaN        0.00          0.00   \n",
       "2           0             NaN             NaN        0.00          0.00   \n",
       "3           0             NaN             NaN        0.00          0.00   \n",
       "4           0             NaN             NaN        0.00          0.00   \n",
       "\n",
       "   customer_id                            booking_id  quarter  RFM_Segment  \n",
       "0        50.00  097c5406-68c5-4ecc-8399-8745cb3ff0ca      NaN       112.00  \n",
       "1        50.00  097c5406-68c5-4ecc-8399-8745cb3ff0ca      NaN       112.00  \n",
       "2        50.00  097c5406-68c5-4ecc-8399-8745cb3ff0ca      NaN       112.00  \n",
       "3        50.00  097c5406-68c5-4ecc-8399-8745cb3ff0ca      NaN       112.00  \n",
       "4        50.00  097c5406-68c5-4ecc-8399-8745cb3ff0ca      NaN       112.00  "
      ]
     },
     "execution_count": 14,
     "metadata": {},
     "output_type": "execute_result"
    }
   ],
   "source": [
    "df_buy_split = pd.merge(df_buy_split, customer_rfm[['customer_id', 'RFM_Segment']], how='left', on='customer_id')\n",
    "df_buy_split.head()"
   ]
  },
  {
   "cell_type": "code",
   "execution_count": 15,
   "metadata": {},
   "outputs": [
    {
     "name": "stderr",
     "output_type": "stream",
     "text": [
      "/var/folders/72/sf0gd2_15c7bv2klzkjcqt580000gn/T/ipykernel_1613/2641181585.py:1: UserWarning: Converting to PeriodArray/Index representation will drop timezone information.\n",
      "  df_buy_split['month'] = pd.to_datetime(df_buy_split.event_time).dt.to_period('M')\n"
     ]
    },
    {
     "data": {
      "text/html": [
       "<div>\n",
       "<style scoped>\n",
       "    .dataframe tbody tr th:only-of-type {\n",
       "        vertical-align: middle;\n",
       "    }\n",
       "\n",
       "    .dataframe tbody tr th {\n",
       "        vertical-align: top;\n",
       "    }\n",
       "\n",
       "    .dataframe thead th {\n",
       "        text-align: right;\n",
       "    }\n",
       "</style>\n",
       "<table border=\"1\" class=\"dataframe\">\n",
       "  <thead>\n",
       "    <tr style=\"text-align: right;\">\n",
       "      <th></th>\n",
       "      <th>session_id</th>\n",
       "      <th>event_name</th>\n",
       "      <th>event_time</th>\n",
       "      <th>traffic_source</th>\n",
       "      <th>product_id</th>\n",
       "      <th>quantity</th>\n",
       "      <th>item_price</th>\n",
       "      <th>payment_status</th>\n",
       "      <th>search_keywords</th>\n",
       "      <th>promo_code</th>\n",
       "      <th>promo_amount</th>\n",
       "      <th>customer_id</th>\n",
       "      <th>booking_id</th>\n",
       "      <th>quarter</th>\n",
       "      <th>RFM_Segment</th>\n",
       "      <th>month</th>\n",
       "    </tr>\n",
       "  </thead>\n",
       "  <tbody>\n",
       "    <tr>\n",
       "      <th>0</th>\n",
       "      <td>44122af0-0bf5-407b-b3ff-22c082c61426_0</td>\n",
       "      <td>HOMEPAGE</td>\n",
       "      <td>2016-10-09 21:17:34.380487+00:00</td>\n",
       "      <td>MOBILE</td>\n",
       "      <td>NaN</td>\n",
       "      <td>0</td>\n",
       "      <td>0</td>\n",
       "      <td>NaN</td>\n",
       "      <td>NaN</td>\n",
       "      <td>0.00</td>\n",
       "      <td>0.00</td>\n",
       "      <td>50.00</td>\n",
       "      <td>097c5406-68c5-4ecc-8399-8745cb3ff0ca</td>\n",
       "      <td>NaN</td>\n",
       "      <td>112.00</td>\n",
       "      <td>2016-10</td>\n",
       "    </tr>\n",
       "    <tr>\n",
       "      <th>1</th>\n",
       "      <td>44122af0-0bf5-407b-b3ff-22c082c61426_0</td>\n",
       "      <td>ADD_TO_CART</td>\n",
       "      <td>2016-10-09 21:28:40.380487+00:00</td>\n",
       "      <td>MOBILE</td>\n",
       "      <td>24639.00</td>\n",
       "      <td>1</td>\n",
       "      <td>255356</td>\n",
       "      <td>NaN</td>\n",
       "      <td>NaN</td>\n",
       "      <td>0.00</td>\n",
       "      <td>0.00</td>\n",
       "      <td>50.00</td>\n",
       "      <td>097c5406-68c5-4ecc-8399-8745cb3ff0ca</td>\n",
       "      <td>NaN</td>\n",
       "      <td>112.00</td>\n",
       "      <td>2016-10</td>\n",
       "    </tr>\n",
       "    <tr>\n",
       "      <th>2</th>\n",
       "      <td>44122af0-0bf5-407b-b3ff-22c082c61426_0</td>\n",
       "      <td>HOMEPAGE</td>\n",
       "      <td>2016-10-09 21:30:22.380487+00:00</td>\n",
       "      <td>MOBILE</td>\n",
       "      <td>NaN</td>\n",
       "      <td>0</td>\n",
       "      <td>0</td>\n",
       "      <td>NaN</td>\n",
       "      <td>NaN</td>\n",
       "      <td>0.00</td>\n",
       "      <td>0.00</td>\n",
       "      <td>50.00</td>\n",
       "      <td>097c5406-68c5-4ecc-8399-8745cb3ff0ca</td>\n",
       "      <td>NaN</td>\n",
       "      <td>112.00</td>\n",
       "      <td>2016-10</td>\n",
       "    </tr>\n",
       "    <tr>\n",
       "      <th>3</th>\n",
       "      <td>44122af0-0bf5-407b-b3ff-22c082c61426_0</td>\n",
       "      <td>HOMEPAGE</td>\n",
       "      <td>2016-10-09 21:42:14.380487+00:00</td>\n",
       "      <td>MOBILE</td>\n",
       "      <td>NaN</td>\n",
       "      <td>0</td>\n",
       "      <td>0</td>\n",
       "      <td>NaN</td>\n",
       "      <td>NaN</td>\n",
       "      <td>0.00</td>\n",
       "      <td>0.00</td>\n",
       "      <td>50.00</td>\n",
       "      <td>097c5406-68c5-4ecc-8399-8745cb3ff0ca</td>\n",
       "      <td>NaN</td>\n",
       "      <td>112.00</td>\n",
       "      <td>2016-10</td>\n",
       "    </tr>\n",
       "    <tr>\n",
       "      <th>4</th>\n",
       "      <td>44122af0-0bf5-407b-b3ff-22c082c61426_0</td>\n",
       "      <td>ITEM_DETAIL</td>\n",
       "      <td>2016-10-09 21:54:20.380487+00:00</td>\n",
       "      <td>MOBILE</td>\n",
       "      <td>NaN</td>\n",
       "      <td>0</td>\n",
       "      <td>0</td>\n",
       "      <td>NaN</td>\n",
       "      <td>NaN</td>\n",
       "      <td>0.00</td>\n",
       "      <td>0.00</td>\n",
       "      <td>50.00</td>\n",
       "      <td>097c5406-68c5-4ecc-8399-8745cb3ff0ca</td>\n",
       "      <td>NaN</td>\n",
       "      <td>112.00</td>\n",
       "      <td>2016-10</td>\n",
       "    </tr>\n",
       "  </tbody>\n",
       "</table>\n",
       "</div>"
      ],
      "text/plain": [
       "                               session_id   event_name  \\\n",
       "0  44122af0-0bf5-407b-b3ff-22c082c61426_0     HOMEPAGE   \n",
       "1  44122af0-0bf5-407b-b3ff-22c082c61426_0  ADD_TO_CART   \n",
       "2  44122af0-0bf5-407b-b3ff-22c082c61426_0     HOMEPAGE   \n",
       "3  44122af0-0bf5-407b-b3ff-22c082c61426_0     HOMEPAGE   \n",
       "4  44122af0-0bf5-407b-b3ff-22c082c61426_0  ITEM_DETAIL   \n",
       "\n",
       "                         event_time traffic_source  product_id  quantity  \\\n",
       "0  2016-10-09 21:17:34.380487+00:00         MOBILE         NaN         0   \n",
       "1  2016-10-09 21:28:40.380487+00:00         MOBILE    24639.00         1   \n",
       "2  2016-10-09 21:30:22.380487+00:00         MOBILE         NaN         0   \n",
       "3  2016-10-09 21:42:14.380487+00:00         MOBILE         NaN         0   \n",
       "4  2016-10-09 21:54:20.380487+00:00         MOBILE         NaN         0   \n",
       "\n",
       "   item_price  payment_status search_keywords  promo_code  promo_amount  \\\n",
       "0           0             NaN             NaN        0.00          0.00   \n",
       "1      255356             NaN             NaN        0.00          0.00   \n",
       "2           0             NaN             NaN        0.00          0.00   \n",
       "3           0             NaN             NaN        0.00          0.00   \n",
       "4           0             NaN             NaN        0.00          0.00   \n",
       "\n",
       "   customer_id                            booking_id  quarter  RFM_Segment  \\\n",
       "0        50.00  097c5406-68c5-4ecc-8399-8745cb3ff0ca      NaN       112.00   \n",
       "1        50.00  097c5406-68c5-4ecc-8399-8745cb3ff0ca      NaN       112.00   \n",
       "2        50.00  097c5406-68c5-4ecc-8399-8745cb3ff0ca      NaN       112.00   \n",
       "3        50.00  097c5406-68c5-4ecc-8399-8745cb3ff0ca      NaN       112.00   \n",
       "4        50.00  097c5406-68c5-4ecc-8399-8745cb3ff0ca      NaN       112.00   \n",
       "\n",
       "     month  \n",
       "0  2016-10  \n",
       "1  2016-10  \n",
       "2  2016-10  \n",
       "3  2016-10  \n",
       "4  2016-10  "
      ]
     },
     "execution_count": 15,
     "metadata": {},
     "output_type": "execute_result"
    }
   ],
   "source": [
    "df_buy_split['month'] = pd.to_datetime(df_buy_split.event_time).dt.to_period('M')\n",
    "df_buy_split.head()"
   ]
  },
  {
   "cell_type": "code",
   "execution_count": 16,
   "metadata": {},
   "outputs": [],
   "source": [
    "df_target_segment = df_buy_split[df_buy_split.RFM_Segment.isin([322, 222, 122])]"
   ]
  },
  {
   "cell_type": "code",
   "execution_count": 17,
   "metadata": {},
   "outputs": [],
   "source": [
    "# click_stream = pd.read_csv(base_path + '/click_stream_final.csv')"
   ]
  },
  {
   "attachments": {},
   "cell_type": "markdown",
   "metadata": {},
   "source": [
    "# Segment별 분석"
   ]
  },
  {
   "attachments": {},
   "cell_type": "markdown",
   "metadata": {},
   "source": [
    "## 1. Segment별 방문, 구매횟수"
   ]
  },
  {
   "attachments": {},
   "cell_type": "markdown",
   "metadata": {},
   "source": [
    "### Segment별 방문수"
   ]
  },
  {
   "cell_type": "code",
   "execution_count": 18,
   "metadata": {},
   "outputs": [
    {
     "data": {
      "text/html": [
       "<div>\n",
       "<style scoped>\n",
       "    .dataframe tbody tr th:only-of-type {\n",
       "        vertical-align: middle;\n",
       "    }\n",
       "\n",
       "    .dataframe tbody tr th {\n",
       "        vertical-align: top;\n",
       "    }\n",
       "\n",
       "    .dataframe thead th {\n",
       "        text-align: right;\n",
       "    }\n",
       "</style>\n",
       "<table border=\"1\" class=\"dataframe\">\n",
       "  <thead>\n",
       "    <tr style=\"text-align: right;\">\n",
       "      <th></th>\n",
       "      <th>month</th>\n",
       "      <th>RFM_Segment</th>\n",
       "      <th>session_id</th>\n",
       "    </tr>\n",
       "  </thead>\n",
       "  <tbody>\n",
       "    <tr>\n",
       "      <th>0</th>\n",
       "      <td>2016-06</td>\n",
       "      <td>111.00</td>\n",
       "      <td>1</td>\n",
       "    </tr>\n",
       "    <tr>\n",
       "      <th>1</th>\n",
       "      <td>2016-07</td>\n",
       "      <td>111.00</td>\n",
       "      <td>140</td>\n",
       "    </tr>\n",
       "    <tr>\n",
       "      <th>2</th>\n",
       "      <td>2016-07</td>\n",
       "      <td>112.00</td>\n",
       "      <td>5</td>\n",
       "    </tr>\n",
       "    <tr>\n",
       "      <th>3</th>\n",
       "      <td>2016-07</td>\n",
       "      <td>121.00</td>\n",
       "      <td>1</td>\n",
       "    </tr>\n",
       "    <tr>\n",
       "      <th>4</th>\n",
       "      <td>2016-07</td>\n",
       "      <td>122.00</td>\n",
       "      <td>23</td>\n",
       "    </tr>\n",
       "    <tr>\n",
       "      <th>...</th>\n",
       "      <td>...</td>\n",
       "      <td>...</td>\n",
       "      <td>...</td>\n",
       "    </tr>\n",
       "    <tr>\n",
       "      <th>652</th>\n",
       "      <td>2022-07</td>\n",
       "      <td>322.00</td>\n",
       "      <td>198620</td>\n",
       "    </tr>\n",
       "    <tr>\n",
       "      <th>653</th>\n",
       "      <td>2022-08</td>\n",
       "      <td>311.00</td>\n",
       "      <td>3</td>\n",
       "    </tr>\n",
       "    <tr>\n",
       "      <th>654</th>\n",
       "      <td>2022-08</td>\n",
       "      <td>312.00</td>\n",
       "      <td>1</td>\n",
       "    </tr>\n",
       "    <tr>\n",
       "      <th>655</th>\n",
       "      <td>2022-08</td>\n",
       "      <td>321.00</td>\n",
       "      <td>1</td>\n",
       "    </tr>\n",
       "    <tr>\n",
       "      <th>656</th>\n",
       "      <td>2022-08</td>\n",
       "      <td>322.00</td>\n",
       "      <td>6</td>\n",
       "    </tr>\n",
       "  </tbody>\n",
       "</table>\n",
       "<p>657 rows × 3 columns</p>\n",
       "</div>"
      ],
      "text/plain": [
       "       month  RFM_Segment  session_id\n",
       "0    2016-06       111.00           1\n",
       "1    2016-07       111.00         140\n",
       "2    2016-07       112.00           5\n",
       "3    2016-07       121.00           1\n",
       "4    2016-07       122.00          23\n",
       "..       ...          ...         ...\n",
       "652  2022-07       322.00      198620\n",
       "653  2022-08       311.00           3\n",
       "654  2022-08       312.00           1\n",
       "655  2022-08       321.00           1\n",
       "656  2022-08       322.00           6\n",
       "\n",
       "[657 rows x 3 columns]"
      ]
     },
     "execution_count": 18,
     "metadata": {},
     "output_type": "execute_result"
    }
   ],
   "source": [
    "# 세그먼트별 방문수\n",
    "num_session_id_rfm = df_buy_split.groupby(['month','RFM_Segment']).session_id.nunique()\n",
    "num_session_id_rfm = pd.DataFrame(num_session_id_rfm)\n",
    "num_session_id_rfm.reset_index(inplace=True)\n",
    "num_session_id_rfm"
   ]
  },
  {
   "cell_type": "code",
   "execution_count": null,
   "metadata": {},
   "outputs": [],
   "source": []
  },
  {
   "cell_type": "code",
   "execution_count": 19,
   "metadata": {},
   "outputs": [
    {
     "name": "stderr",
     "output_type": "stream",
     "text": [
      "/var/folders/72/sf0gd2_15c7bv2klzkjcqt580000gn/T/ipykernel_1613/3033006661.py:4: SettingWithCopyWarning: \n",
      "A value is trying to be set on a copy of a slice from a DataFrame.\n",
      "Try using .loc[row_indexer,col_indexer] = value instead\n",
      "\n",
      "See the caveats in the documentation: https://pandas.pydata.org/pandas-docs/stable/user_guide/indexing.html#returning-a-view-versus-a-copy\n",
      "  num_session_id_rfm.month = num_session_id_rfm.month.astype('str')\n"
     ]
    }
   ],
   "source": [
    "# 2020-08 ~ 2022-07월 데이터 필터링\n",
    "num_session_id_rfm.RFM_Segment = num_session_id_rfm.RFM_Segment.astype('int').astype('str')\n",
    "num_session_id_rfm = num_session_id_rfm[(num_session_id_rfm.month >= '2020-08') & (num_session_id_rfm.month <= '2022-07')]\n",
    "num_session_id_rfm.month = num_session_id_rfm.month.astype('str')"
   ]
  },
  {
   "cell_type": "code",
   "execution_count": 167,
   "metadata": {},
   "outputs": [
    {
     "data": {
      "text/plain": [
       "637     NaN\n",
       "638     NaN\n",
       "639     NaN\n",
       "645    0.60\n",
       "646    0.43\n",
       "647    0.19\n",
       "649    0.17\n",
       "650   -0.01\n",
       "651   -0.05\n",
       "Name: session_id, dtype: float64"
      ]
     },
     "execution_count": 167,
     "metadata": {},
     "output_type": "execute_result"
    }
   ],
   "source": [
    "num_session_id_rfm[(num_session_id_rfm.month>='2022-05') & (num_session_id_rfm.RFM_Segment.isin(['321', '311', '312']))].groupby('RFM_Segment').session_id.pct_change()"
   ]
  },
  {
   "cell_type": "code",
   "execution_count": 168,
   "metadata": {},
   "outputs": [
    {
     "data": {
      "text/plain": [
       "637    NaN\n",
       "638    NaN\n",
       "639    NaN\n",
       "645   0.99\n",
       "646   0.87\n",
       "647   0.38\n",
       "649   0.36\n",
       "650   0.19\n",
       "651   0.17\n",
       "Name: booking_id, dtype: float64"
      ]
     },
     "execution_count": 168,
     "metadata": {},
     "output_type": "execute_result"
    }
   ],
   "source": [
    "num_booking_id_rfm[(num_booking_id_rfm.month>='2022-05') & (num_booking_id_rfm.RFM_Segment.isin(['321', '311', '312']))].groupby('RFM_Segment').booking_id.pct_change()"
   ]
  },
  {
   "cell_type": "code",
   "execution_count": 166,
   "metadata": {},
   "outputs": [
    {
     "data": {
      "text/html": [
       "<div>\n",
       "<style scoped>\n",
       "    .dataframe tbody tr th:only-of-type {\n",
       "        vertical-align: middle;\n",
       "    }\n",
       "\n",
       "    .dataframe tbody tr th {\n",
       "        vertical-align: top;\n",
       "    }\n",
       "\n",
       "    .dataframe thead th {\n",
       "        text-align: right;\n",
       "    }\n",
       "</style>\n",
       "<table border=\"1\" class=\"dataframe\">\n",
       "  <thead>\n",
       "    <tr style=\"text-align: right;\">\n",
       "      <th></th>\n",
       "      <th>month</th>\n",
       "      <th>RFM_Segment</th>\n",
       "      <th>session_id</th>\n",
       "    </tr>\n",
       "  </thead>\n",
       "  <tbody>\n",
       "    <tr>\n",
       "      <th>633</th>\n",
       "      <td>2022-05</td>\n",
       "      <td>211</td>\n",
       "      <td>7188</td>\n",
       "    </tr>\n",
       "    <tr>\n",
       "      <th>634</th>\n",
       "      <td>2022-05</td>\n",
       "      <td>212</td>\n",
       "      <td>808</td>\n",
       "    </tr>\n",
       "    <tr>\n",
       "      <th>635</th>\n",
       "      <td>2022-05</td>\n",
       "      <td>221</td>\n",
       "      <td>2276</td>\n",
       "    </tr>\n",
       "    <tr>\n",
       "      <th>636</th>\n",
       "      <td>2022-05</td>\n",
       "      <td>222</td>\n",
       "      <td>31903</td>\n",
       "    </tr>\n",
       "    <tr>\n",
       "      <th>637</th>\n",
       "      <td>2022-05</td>\n",
       "      <td>311</td>\n",
       "      <td>10244</td>\n",
       "    </tr>\n",
       "    <tr>\n",
       "      <th>638</th>\n",
       "      <td>2022-05</td>\n",
       "      <td>312</td>\n",
       "      <td>1646</td>\n",
       "    </tr>\n",
       "    <tr>\n",
       "      <th>639</th>\n",
       "      <td>2022-05</td>\n",
       "      <td>321</td>\n",
       "      <td>7854</td>\n",
       "    </tr>\n",
       "    <tr>\n",
       "      <th>641</th>\n",
       "      <td>2022-06</td>\n",
       "      <td>211</td>\n",
       "      <td>761</td>\n",
       "    </tr>\n",
       "    <tr>\n",
       "      <th>642</th>\n",
       "      <td>2022-06</td>\n",
       "      <td>212</td>\n",
       "      <td>133</td>\n",
       "    </tr>\n",
       "    <tr>\n",
       "      <th>643</th>\n",
       "      <td>2022-06</td>\n",
       "      <td>221</td>\n",
       "      <td>190</td>\n",
       "    </tr>\n",
       "    <tr>\n",
       "      <th>644</th>\n",
       "      <td>2022-06</td>\n",
       "      <td>222</td>\n",
       "      <td>4085</td>\n",
       "    </tr>\n",
       "    <tr>\n",
       "      <th>645</th>\n",
       "      <td>2022-06</td>\n",
       "      <td>311</td>\n",
       "      <td>16377</td>\n",
       "    </tr>\n",
       "    <tr>\n",
       "      <th>646</th>\n",
       "      <td>2022-06</td>\n",
       "      <td>312</td>\n",
       "      <td>2361</td>\n",
       "    </tr>\n",
       "    <tr>\n",
       "      <th>647</th>\n",
       "      <td>2022-06</td>\n",
       "      <td>321</td>\n",
       "      <td>9372</td>\n",
       "    </tr>\n",
       "    <tr>\n",
       "      <th>649</th>\n",
       "      <td>2022-07</td>\n",
       "      <td>311</td>\n",
       "      <td>19156</td>\n",
       "    </tr>\n",
       "    <tr>\n",
       "      <th>650</th>\n",
       "      <td>2022-07</td>\n",
       "      <td>312</td>\n",
       "      <td>2335</td>\n",
       "    </tr>\n",
       "    <tr>\n",
       "      <th>651</th>\n",
       "      <td>2022-07</td>\n",
       "      <td>321</td>\n",
       "      <td>8949</td>\n",
       "    </tr>\n",
       "  </tbody>\n",
       "</table>\n",
       "</div>"
      ],
      "text/plain": [
       "       month RFM_Segment  session_id\n",
       "633  2022-05         211        7188\n",
       "634  2022-05         212         808\n",
       "635  2022-05         221        2276\n",
       "636  2022-05         222       31903\n",
       "637  2022-05         311       10244\n",
       "638  2022-05         312        1646\n",
       "639  2022-05         321        7854\n",
       "641  2022-06         211         761\n",
       "642  2022-06         212         133\n",
       "643  2022-06         221         190\n",
       "644  2022-06         222        4085\n",
       "645  2022-06         311       16377\n",
       "646  2022-06         312        2361\n",
       "647  2022-06         321        9372\n",
       "649  2022-07         311       19156\n",
       "650  2022-07         312        2335\n",
       "651  2022-07         321        8949"
      ]
     },
     "execution_count": 166,
     "metadata": {},
     "output_type": "execute_result"
    }
   ],
   "source": [
    "num_session_id_rfm[(num_session_id_rfm.month>='2022-05') & (num_session_id_rfm.RFM_Segment!='322')]"
   ]
  },
  {
   "cell_type": "code",
   "execution_count": 97,
   "metadata": {},
   "outputs": [],
   "source": [
    "# # 그 외 세그먼트의 추세까지 확인해봐야될듯\n",
    "# # 모든 세그먼트 방문수\n",
    "# plt.figure(figsize=(15,9))\n",
    "# sns.lineplot(num_session_id_rfm[(num_session_id_rfm.month>='2022-05') & (num_session_id_rfm.RFM_Segment!='322')], x='month', y='session_id', hue='RFM_Segment')\n",
    "# label =['2020-08', '2021-01', '2022-01', '2022-05', '2022-06', '2022-07']\n",
    "# plt.xticks(rotation = 90)\n",
    "# plt.axvline('2022-05', color='red', linestyle='dotted')\n",
    "# plt.title('Visit of All Segment')\n",
    "# plt.show()"
   ]
  },
  {
   "cell_type": "code",
   "execution_count": 111,
   "metadata": {},
   "outputs": [
    {
     "data": {
      "application/vnd.plotly.v1+json": {
       "config": {
        "plotlyServerURL": "https://plot.ly"
       },
       "data": [
        {
         "hovertemplate": "RFM_Segment=311<br>month=%{x}<br>session_id=%{y}<extra></extra>",
         "legendgroup": "311",
         "line": {
          "color": "#636efa",
          "dash": "solid"
         },
         "marker": {
          "symbol": "circle"
         },
         "mode": "markers+lines",
         "name": "311",
         "orientation": "v",
         "showlegend": true,
         "type": "scatter",
         "x": [
          "2022-05",
          "2022-06",
          "2022-07"
         ],
         "xaxis": "x",
         "y": [
          10244,
          16377,
          19156
         ],
         "yaxis": "y"
        },
        {
         "hovertemplate": "RFM_Segment=312<br>month=%{x}<br>session_id=%{y}<extra></extra>",
         "legendgroup": "312",
         "line": {
          "color": "#EF553B",
          "dash": "solid"
         },
         "marker": {
          "symbol": "circle"
         },
         "mode": "markers+lines",
         "name": "312",
         "orientation": "v",
         "showlegend": true,
         "type": "scatter",
         "x": [
          "2022-05",
          "2022-06",
          "2022-07"
         ],
         "xaxis": "x",
         "y": [
          1646,
          2361,
          2335
         ],
         "yaxis": "y"
        },
        {
         "hovertemplate": "RFM_Segment=321<br>month=%{x}<br>session_id=%{y}<extra></extra>",
         "legendgroup": "321",
         "line": {
          "color": "#00cc96",
          "dash": "solid"
         },
         "marker": {
          "symbol": "circle"
         },
         "mode": "markers+lines",
         "name": "321",
         "orientation": "v",
         "showlegend": true,
         "type": "scatter",
         "x": [
          "2022-05",
          "2022-06",
          "2022-07"
         ],
         "xaxis": "x",
         "y": [
          7854,
          9372,
          8949
         ],
         "yaxis": "y"
        }
       ],
       "layout": {
        "height": 500,
        "legend": {
         "title": {
          "text": "RFM_Segment"
         },
         "tracegroupgap": 0,
         "traceorder": "reversed"
        },
        "margin": {
         "t": 60
        },
        "shapes": [
         {
          "line": {
           "color": "red",
           "dash": "dash"
          },
          "type": "line",
          "x0": "2022-05",
          "x1": "2022-05",
          "xref": "x",
          "y0": 0,
          "y1": 1,
          "yref": "paper"
         }
        ],
        "template": {
         "data": {
          "bar": [
           {
            "error_x": {
             "color": "#2a3f5f"
            },
            "error_y": {
             "color": "#2a3f5f"
            },
            "marker": {
             "line": {
              "color": "#E5ECF6",
              "width": 0.5
             },
             "pattern": {
              "fillmode": "overlay",
              "size": 10,
              "solidity": 0.2
             }
            },
            "type": "bar"
           }
          ],
          "barpolar": [
           {
            "marker": {
             "line": {
              "color": "#E5ECF6",
              "width": 0.5
             },
             "pattern": {
              "fillmode": "overlay",
              "size": 10,
              "solidity": 0.2
             }
            },
            "type": "barpolar"
           }
          ],
          "carpet": [
           {
            "aaxis": {
             "endlinecolor": "#2a3f5f",
             "gridcolor": "white",
             "linecolor": "white",
             "minorgridcolor": "white",
             "startlinecolor": "#2a3f5f"
            },
            "baxis": {
             "endlinecolor": "#2a3f5f",
             "gridcolor": "white",
             "linecolor": "white",
             "minorgridcolor": "white",
             "startlinecolor": "#2a3f5f"
            },
            "type": "carpet"
           }
          ],
          "choropleth": [
           {
            "colorbar": {
             "outlinewidth": 0,
             "ticks": ""
            },
            "type": "choropleth"
           }
          ],
          "contour": [
           {
            "colorbar": {
             "outlinewidth": 0,
             "ticks": ""
            },
            "colorscale": [
             [
              0,
              "#0d0887"
             ],
             [
              0.1111111111111111,
              "#46039f"
             ],
             [
              0.2222222222222222,
              "#7201a8"
             ],
             [
              0.3333333333333333,
              "#9c179e"
             ],
             [
              0.4444444444444444,
              "#bd3786"
             ],
             [
              0.5555555555555556,
              "#d8576b"
             ],
             [
              0.6666666666666666,
              "#ed7953"
             ],
             [
              0.7777777777777778,
              "#fb9f3a"
             ],
             [
              0.8888888888888888,
              "#fdca26"
             ],
             [
              1,
              "#f0f921"
             ]
            ],
            "type": "contour"
           }
          ],
          "contourcarpet": [
           {
            "colorbar": {
             "outlinewidth": 0,
             "ticks": ""
            },
            "type": "contourcarpet"
           }
          ],
          "heatmap": [
           {
            "colorbar": {
             "outlinewidth": 0,
             "ticks": ""
            },
            "colorscale": [
             [
              0,
              "#0d0887"
             ],
             [
              0.1111111111111111,
              "#46039f"
             ],
             [
              0.2222222222222222,
              "#7201a8"
             ],
             [
              0.3333333333333333,
              "#9c179e"
             ],
             [
              0.4444444444444444,
              "#bd3786"
             ],
             [
              0.5555555555555556,
              "#d8576b"
             ],
             [
              0.6666666666666666,
              "#ed7953"
             ],
             [
              0.7777777777777778,
              "#fb9f3a"
             ],
             [
              0.8888888888888888,
              "#fdca26"
             ],
             [
              1,
              "#f0f921"
             ]
            ],
            "type": "heatmap"
           }
          ],
          "heatmapgl": [
           {
            "colorbar": {
             "outlinewidth": 0,
             "ticks": ""
            },
            "colorscale": [
             [
              0,
              "#0d0887"
             ],
             [
              0.1111111111111111,
              "#46039f"
             ],
             [
              0.2222222222222222,
              "#7201a8"
             ],
             [
              0.3333333333333333,
              "#9c179e"
             ],
             [
              0.4444444444444444,
              "#bd3786"
             ],
             [
              0.5555555555555556,
              "#d8576b"
             ],
             [
              0.6666666666666666,
              "#ed7953"
             ],
             [
              0.7777777777777778,
              "#fb9f3a"
             ],
             [
              0.8888888888888888,
              "#fdca26"
             ],
             [
              1,
              "#f0f921"
             ]
            ],
            "type": "heatmapgl"
           }
          ],
          "histogram": [
           {
            "marker": {
             "pattern": {
              "fillmode": "overlay",
              "size": 10,
              "solidity": 0.2
             }
            },
            "type": "histogram"
           }
          ],
          "histogram2d": [
           {
            "colorbar": {
             "outlinewidth": 0,
             "ticks": ""
            },
            "colorscale": [
             [
              0,
              "#0d0887"
             ],
             [
              0.1111111111111111,
              "#46039f"
             ],
             [
              0.2222222222222222,
              "#7201a8"
             ],
             [
              0.3333333333333333,
              "#9c179e"
             ],
             [
              0.4444444444444444,
              "#bd3786"
             ],
             [
              0.5555555555555556,
              "#d8576b"
             ],
             [
              0.6666666666666666,
              "#ed7953"
             ],
             [
              0.7777777777777778,
              "#fb9f3a"
             ],
             [
              0.8888888888888888,
              "#fdca26"
             ],
             [
              1,
              "#f0f921"
             ]
            ],
            "type": "histogram2d"
           }
          ],
          "histogram2dcontour": [
           {
            "colorbar": {
             "outlinewidth": 0,
             "ticks": ""
            },
            "colorscale": [
             [
              0,
              "#0d0887"
             ],
             [
              0.1111111111111111,
              "#46039f"
             ],
             [
              0.2222222222222222,
              "#7201a8"
             ],
             [
              0.3333333333333333,
              "#9c179e"
             ],
             [
              0.4444444444444444,
              "#bd3786"
             ],
             [
              0.5555555555555556,
              "#d8576b"
             ],
             [
              0.6666666666666666,
              "#ed7953"
             ],
             [
              0.7777777777777778,
              "#fb9f3a"
             ],
             [
              0.8888888888888888,
              "#fdca26"
             ],
             [
              1,
              "#f0f921"
             ]
            ],
            "type": "histogram2dcontour"
           }
          ],
          "mesh3d": [
           {
            "colorbar": {
             "outlinewidth": 0,
             "ticks": ""
            },
            "type": "mesh3d"
           }
          ],
          "parcoords": [
           {
            "line": {
             "colorbar": {
              "outlinewidth": 0,
              "ticks": ""
             }
            },
            "type": "parcoords"
           }
          ],
          "pie": [
           {
            "automargin": true,
            "type": "pie"
           }
          ],
          "scatter": [
           {
            "fillpattern": {
             "fillmode": "overlay",
             "size": 10,
             "solidity": 0.2
            },
            "type": "scatter"
           }
          ],
          "scatter3d": [
           {
            "line": {
             "colorbar": {
              "outlinewidth": 0,
              "ticks": ""
             }
            },
            "marker": {
             "colorbar": {
              "outlinewidth": 0,
              "ticks": ""
             }
            },
            "type": "scatter3d"
           }
          ],
          "scattercarpet": [
           {
            "marker": {
             "colorbar": {
              "outlinewidth": 0,
              "ticks": ""
             }
            },
            "type": "scattercarpet"
           }
          ],
          "scattergeo": [
           {
            "marker": {
             "colorbar": {
              "outlinewidth": 0,
              "ticks": ""
             }
            },
            "type": "scattergeo"
           }
          ],
          "scattergl": [
           {
            "marker": {
             "colorbar": {
              "outlinewidth": 0,
              "ticks": ""
             }
            },
            "type": "scattergl"
           }
          ],
          "scattermapbox": [
           {
            "marker": {
             "colorbar": {
              "outlinewidth": 0,
              "ticks": ""
             }
            },
            "type": "scattermapbox"
           }
          ],
          "scatterpolar": [
           {
            "marker": {
             "colorbar": {
              "outlinewidth": 0,
              "ticks": ""
             }
            },
            "type": "scatterpolar"
           }
          ],
          "scatterpolargl": [
           {
            "marker": {
             "colorbar": {
              "outlinewidth": 0,
              "ticks": ""
             }
            },
            "type": "scatterpolargl"
           }
          ],
          "scatterternary": [
           {
            "marker": {
             "colorbar": {
              "outlinewidth": 0,
              "ticks": ""
             }
            },
            "type": "scatterternary"
           }
          ],
          "surface": [
           {
            "colorbar": {
             "outlinewidth": 0,
             "ticks": ""
            },
            "colorscale": [
             [
              0,
              "#0d0887"
             ],
             [
              0.1111111111111111,
              "#46039f"
             ],
             [
              0.2222222222222222,
              "#7201a8"
             ],
             [
              0.3333333333333333,
              "#9c179e"
             ],
             [
              0.4444444444444444,
              "#bd3786"
             ],
             [
              0.5555555555555556,
              "#d8576b"
             ],
             [
              0.6666666666666666,
              "#ed7953"
             ],
             [
              0.7777777777777778,
              "#fb9f3a"
             ],
             [
              0.8888888888888888,
              "#fdca26"
             ],
             [
              1,
              "#f0f921"
             ]
            ],
            "type": "surface"
           }
          ],
          "table": [
           {
            "cells": {
             "fill": {
              "color": "#EBF0F8"
             },
             "line": {
              "color": "white"
             }
            },
            "header": {
             "fill": {
              "color": "#C8D4E3"
             },
             "line": {
              "color": "white"
             }
            },
            "type": "table"
           }
          ]
         },
         "layout": {
          "annotationdefaults": {
           "arrowcolor": "#2a3f5f",
           "arrowhead": 0,
           "arrowwidth": 1
          },
          "autotypenumbers": "strict",
          "coloraxis": {
           "colorbar": {
            "outlinewidth": 0,
            "ticks": ""
           }
          },
          "colorscale": {
           "diverging": [
            [
             0,
             "#8e0152"
            ],
            [
             0.1,
             "#c51b7d"
            ],
            [
             0.2,
             "#de77ae"
            ],
            [
             0.3,
             "#f1b6da"
            ],
            [
             0.4,
             "#fde0ef"
            ],
            [
             0.5,
             "#f7f7f7"
            ],
            [
             0.6,
             "#e6f5d0"
            ],
            [
             0.7,
             "#b8e186"
            ],
            [
             0.8,
             "#7fbc41"
            ],
            [
             0.9,
             "#4d9221"
            ],
            [
             1,
             "#276419"
            ]
           ],
           "sequential": [
            [
             0,
             "#0d0887"
            ],
            [
             0.1111111111111111,
             "#46039f"
            ],
            [
             0.2222222222222222,
             "#7201a8"
            ],
            [
             0.3333333333333333,
             "#9c179e"
            ],
            [
             0.4444444444444444,
             "#bd3786"
            ],
            [
             0.5555555555555556,
             "#d8576b"
            ],
            [
             0.6666666666666666,
             "#ed7953"
            ],
            [
             0.7777777777777778,
             "#fb9f3a"
            ],
            [
             0.8888888888888888,
             "#fdca26"
            ],
            [
             1,
             "#f0f921"
            ]
           ],
           "sequentialminus": [
            [
             0,
             "#0d0887"
            ],
            [
             0.1111111111111111,
             "#46039f"
            ],
            [
             0.2222222222222222,
             "#7201a8"
            ],
            [
             0.3333333333333333,
             "#9c179e"
            ],
            [
             0.4444444444444444,
             "#bd3786"
            ],
            [
             0.5555555555555556,
             "#d8576b"
            ],
            [
             0.6666666666666666,
             "#ed7953"
            ],
            [
             0.7777777777777778,
             "#fb9f3a"
            ],
            [
             0.8888888888888888,
             "#fdca26"
            ],
            [
             1,
             "#f0f921"
            ]
           ]
          },
          "colorway": [
           "#636efa",
           "#EF553B",
           "#00cc96",
           "#ab63fa",
           "#FFA15A",
           "#19d3f3",
           "#FF6692",
           "#B6E880",
           "#FF97FF",
           "#FECB52"
          ],
          "font": {
           "color": "#2a3f5f"
          },
          "geo": {
           "bgcolor": "white",
           "lakecolor": "white",
           "landcolor": "#E5ECF6",
           "showlakes": true,
           "showland": true,
           "subunitcolor": "white"
          },
          "hoverlabel": {
           "align": "left"
          },
          "hovermode": "closest",
          "mapbox": {
           "style": "light"
          },
          "paper_bgcolor": "white",
          "plot_bgcolor": "#E5ECF6",
          "polar": {
           "angularaxis": {
            "gridcolor": "white",
            "linecolor": "white",
            "ticks": ""
           },
           "bgcolor": "#E5ECF6",
           "radialaxis": {
            "gridcolor": "white",
            "linecolor": "white",
            "ticks": ""
           }
          },
          "scene": {
           "xaxis": {
            "backgroundcolor": "#E5ECF6",
            "gridcolor": "white",
            "gridwidth": 2,
            "linecolor": "white",
            "showbackground": true,
            "ticks": "",
            "zerolinecolor": "white"
           },
           "yaxis": {
            "backgroundcolor": "#E5ECF6",
            "gridcolor": "white",
            "gridwidth": 2,
            "linecolor": "white",
            "showbackground": true,
            "ticks": "",
            "zerolinecolor": "white"
           },
           "zaxis": {
            "backgroundcolor": "#E5ECF6",
            "gridcolor": "white",
            "gridwidth": 2,
            "linecolor": "white",
            "showbackground": true,
            "ticks": "",
            "zerolinecolor": "white"
           }
          },
          "shapedefaults": {
           "line": {
            "color": "#2a3f5f"
           }
          },
          "ternary": {
           "aaxis": {
            "gridcolor": "white",
            "linecolor": "white",
            "ticks": ""
           },
           "baxis": {
            "gridcolor": "white",
            "linecolor": "white",
            "ticks": ""
           },
           "bgcolor": "#E5ECF6",
           "caxis": {
            "gridcolor": "white",
            "linecolor": "white",
            "ticks": ""
           }
          },
          "title": {
           "x": 0.05
          },
          "xaxis": {
           "automargin": true,
           "gridcolor": "white",
           "linecolor": "white",
           "ticks": "",
           "title": {
            "standoff": 15
           },
           "zerolinecolor": "white",
           "zerolinewidth": 2
          },
          "yaxis": {
           "automargin": true,
           "gridcolor": "white",
           "linecolor": "white",
           "ticks": "",
           "title": {
            "standoff": 15
           },
           "zerolinecolor": "white",
           "zerolinewidth": 2
          }
         }
        },
        "title": {
         "text": "Number of Visitors (2022-05 ~ 2022-07)",
         "x": 0.5,
         "xanchor": "center",
         "y": 0.95,
         "yanchor": "top"
        },
        "width": 1000,
        "xaxis": {
         "anchor": "y",
         "domain": [
          0,
          1
         ],
         "title": {
          "text": "Year-Month"
         }
        },
        "yaxis": {
         "anchor": "x",
         "domain": [
          0,
          1
         ],
         "title": {
          "text": "count"
         }
        }
       }
      }
     },
     "metadata": {},
     "output_type": "display_data"
    }
   ],
   "source": [
    "# 최근 2년 간(2020-06 ~ 2022-07) 방문 수\n",
    "# 2022월 6월, 7월에 session 수(방문 수) 감소 - 6월에는 -7.9%, 7월에는 -27.1%\n",
    "fig = px.line(num_session_id_rfm[(num_session_id_rfm.month>='2022-05') & (num_session_id_rfm.RFM_Segment.isin(['321', '311', '312']))], x='month', y='session_id', markers=True,\n",
    "              width = 1000, height = 500, color='RFM_Segment')\n",
    "fig.update_xaxes(title='month')\n",
    "fig.update_yaxes(title='count')\n",
    "title = {'text':'Number of Visitors (2022-05 ~ 2022-07)', 'y':0.95,\n",
    "        'x':0.5,'xanchor':'center', 'yanchor':'top'}\n",
    "fig.update_layout(title=title)\n",
    "# 수직선을 그릴 위치\n",
    "vertical_line_position = '2022-05'\n",
    "\n",
    "# 수직선 추가\n",
    "fig.add_shape(type='line',\n",
    "              x0=vertical_line_position, y0=0, x1=vertical_line_position, y1=1,\n",
    "              line=dict(color='red', dash='dash'),\n",
    "              xref='x', yref='paper')\n",
    "\n",
    "# X축 레이블 설정\n",
    "fig.update_layout(\n",
    "    xaxis=dict(\n",
    "        title=\"Year-Month\"\n",
    "    ),\n",
    "    legend=dict(\n",
    "    traceorder=\"reversed\"\n",
    "    )\n",
    ")\n",
    "fig.show()"
   ]
  },
  {
   "cell_type": "code",
   "execution_count": 79,
   "metadata": {},
   "outputs": [],
   "source": [
    "# # 그 외 세그먼트의 추세까지 확인해봐야될듯\n",
    "# # 모든 세그먼트 방문수\n",
    "# plt.figure(figsize=(15,9))\n",
    "# sns.lineplot(num_session_id_rfm, x='month', y='session_id', hue='RFM_Segment')\n",
    "# label =['2020-08', '2021-01', '2022-01', '2022-05', '2022-06', '2022-07']\n",
    "# x_ticks = [month if month in label else '' for month in num_session_id_rfm.month]\n",
    "# plt.xticks(x_ticks, rotation = 90)\n",
    "# plt.axvline('2022-06', color='red', linestyle='dotted')\n",
    "# plt.title('Visit of All Segment')\n",
    "# plt.show()"
   ]
  },
  {
   "cell_type": "code",
   "execution_count": 134,
   "metadata": {},
   "outputs": [
    {
     "data": {
      "application/vnd.plotly.v1+json": {
       "config": {
        "plotlyServerURL": "https://plot.ly"
       },
       "data": [
        {
         "hovertemplate": "RFM_Segment=111<br>month=%{x}<br>session_id=%{y}<extra></extra>",
         "legendgroup": "111",
         "line": {
          "color": "gray",
          "dash": "solid"
         },
         "marker": {
          "symbol": "circle"
         },
         "mode": "markers+lines",
         "name": "111",
         "orientation": "v",
         "showlegend": true,
         "type": "scatter",
         "x": [
          "2020-08",
          "2020-09",
          "2020-10",
          "2020-11",
          "2020-12",
          "2021-01",
          "2021-02",
          "2021-03",
          "2021-04",
          "2021-05",
          "2021-06",
          "2021-07",
          "2021-08",
          "2021-09",
          "2021-10",
          "2021-11",
          "2021-12",
          "2022-01"
         ],
         "xaxis": "x",
         "y": [
          4293,
          3661,
          4187,
          4431,
          4604,
          5073,
          4704,
          5394,
          3863,
          4116,
          4026,
          4681,
          4565,
          4266,
          4507,
          3473,
          367,
          1
         ],
         "yaxis": "y"
        },
        {
         "hovertemplate": "RFM_Segment=112<br>month=%{x}<br>session_id=%{y}<extra></extra>",
         "legendgroup": "112",
         "line": {
          "color": "gray",
          "dash": "solid"
         },
         "marker": {
          "symbol": "circle"
         },
         "mode": "markers+lines",
         "name": "112",
         "orientation": "v",
         "showlegend": true,
         "type": "scatter",
         "x": [
          "2020-08",
          "2020-09",
          "2020-10",
          "2020-11",
          "2020-12",
          "2021-01",
          "2021-02",
          "2021-03",
          "2021-04",
          "2021-05",
          "2021-06",
          "2021-07",
          "2021-08",
          "2021-09",
          "2021-10",
          "2021-11",
          "2021-12"
         ],
         "xaxis": "x",
         "y": [
          624,
          645,
          630,
          672,
          751,
          741,
          633,
          698,
          526,
          479,
          557,
          748,
          507,
          533,
          506,
          370,
          17
         ],
         "yaxis": "y"
        },
        {
         "hovertemplate": "RFM_Segment=121<br>month=%{x}<br>session_id=%{y}<extra></extra>",
         "legendgroup": "121",
         "line": {
          "color": "gray",
          "dash": "solid"
         },
         "marker": {
          "symbol": "circle"
         },
         "mode": "markers+lines",
         "name": "121",
         "orientation": "v",
         "showlegend": true,
         "type": "scatter",
         "x": [
          "2020-08",
          "2020-09",
          "2020-10",
          "2020-11",
          "2020-12",
          "2021-01",
          "2021-02",
          "2021-03",
          "2021-04",
          "2021-05",
          "2021-06",
          "2021-07",
          "2021-08",
          "2021-09",
          "2021-10",
          "2021-11",
          "2021-12"
         ],
         "xaxis": "x",
         "y": [
          72,
          50,
          41,
          87,
          72,
          118,
          151,
          185,
          89,
          18,
          25,
          46,
          77,
          113,
          142,
          236,
          35
         ],
         "yaxis": "y"
        },
        {
         "hovertemplate": "RFM_Segment=122<br>month=%{x}<br>session_id=%{y}<extra></extra>",
         "legendgroup": "122",
         "line": {
          "color": "gray",
          "dash": "solid"
         },
         "marker": {
          "symbol": "circle"
         },
         "mode": "markers+lines",
         "name": "122",
         "orientation": "v",
         "showlegend": true,
         "type": "scatter",
         "x": [
          "2020-08",
          "2020-09",
          "2020-10",
          "2020-11",
          "2020-12",
          "2021-01",
          "2021-02",
          "2021-03",
          "2021-04",
          "2021-05",
          "2021-06",
          "2021-07",
          "2021-08",
          "2021-09",
          "2021-10",
          "2021-11",
          "2021-12",
          "2022-01"
         ],
         "xaxis": "x",
         "y": [
          993,
          725,
          867,
          1032,
          1150,
          1398,
          1444,
          1205,
          678,
          508,
          650,
          937,
          1147,
          1306,
          1533,
          1003,
          187,
          5
         ],
         "yaxis": "y"
        },
        {
         "hovertemplate": "RFM_Segment=211<br>month=%{x}<br>session_id=%{y}<extra></extra>",
         "legendgroup": "211",
         "line": {
          "color": "gray",
          "dash": "solid"
         },
         "marker": {
          "symbol": "circle"
         },
         "mode": "markers+lines",
         "name": "211",
         "orientation": "v",
         "showlegend": true,
         "type": "scatter",
         "x": [
          "2020-08",
          "2020-09",
          "2020-10",
          "2020-11",
          "2020-12",
          "2021-01",
          "2021-02",
          "2021-03",
          "2021-04",
          "2021-05",
          "2021-06",
          "2021-07",
          "2021-08",
          "2021-09",
          "2021-10",
          "2021-11",
          "2021-12",
          "2022-01",
          "2022-02",
          "2022-03",
          "2022-04",
          "2022-05",
          "2022-06"
         ],
         "xaxis": "x",
         "y": [
          2386,
          2601,
          2965,
          3305,
          3169,
          3568,
          3432,
          4471,
          5176,
          5779,
          6042,
          6928,
          6658,
          7841,
          8148,
          9298,
          11685,
          13379,
          10544,
          11433,
          8979,
          7188,
          761
         ],
         "yaxis": "y"
        },
        {
         "hovertemplate": "RFM_Segment=212<br>month=%{x}<br>session_id=%{y}<extra></extra>",
         "legendgroup": "212",
         "line": {
          "color": "gray",
          "dash": "solid"
         },
         "marker": {
          "symbol": "circle"
         },
         "mode": "markers+lines",
         "name": "212",
         "orientation": "v",
         "showlegend": true,
         "type": "scatter",
         "x": [
          "2020-08",
          "2020-09",
          "2020-10",
          "2020-11",
          "2020-12",
          "2021-01",
          "2021-02",
          "2021-03",
          "2021-04",
          "2021-05",
          "2021-06",
          "2021-07",
          "2021-08",
          "2021-09",
          "2021-10",
          "2021-11",
          "2021-12",
          "2022-01",
          "2022-02",
          "2022-03",
          "2022-04",
          "2022-05",
          "2022-06"
         ],
         "xaxis": "x",
         "y": [
          287,
          456,
          505,
          610,
          477,
          593,
          548,
          467,
          628,
          797,
          831,
          1031,
          790,
          860,
          939,
          1329,
          1710,
          1825,
          1360,
          1631,
          995,
          808,
          133
         ],
         "yaxis": "y"
        },
        {
         "hovertemplate": "RFM_Segment=221<br>month=%{x}<br>session_id=%{y}<extra></extra>",
         "legendgroup": "221",
         "line": {
          "color": "gray",
          "dash": "solid"
         },
         "marker": {
          "symbol": "circle"
         },
         "mode": "markers+lines",
         "name": "221",
         "orientation": "v",
         "showlegend": true,
         "type": "scatter",
         "x": [
          "2020-08",
          "2020-09",
          "2020-10",
          "2020-11",
          "2020-12",
          "2021-01",
          "2021-02",
          "2021-03",
          "2021-04",
          "2021-05",
          "2021-06",
          "2021-07",
          "2021-08",
          "2021-09",
          "2021-10",
          "2021-11",
          "2021-12",
          "2022-01",
          "2022-02",
          "2022-03",
          "2022-04",
          "2022-05",
          "2022-06"
         ],
         "xaxis": "x",
         "y": [
          2453,
          2532,
          2825,
          2941,
          2901,
          3277,
          2870,
          3482,
          3158,
          3544,
          3333,
          3426,
          3547,
          3457,
          3723,
          3498,
          4167,
          4044,
          3167,
          3570,
          3028,
          2276,
          190
         ],
         "yaxis": "y"
        },
        {
         "hovertemplate": "RFM_Segment=222<br>month=%{x}<br>session_id=%{y}<extra></extra>",
         "legendgroup": "222",
         "line": {
          "color": "gray",
          "dash": "solid"
         },
         "marker": {
          "symbol": "circle"
         },
         "mode": "markers+lines",
         "name": "222",
         "orientation": "v",
         "showlegend": true,
         "type": "scatter",
         "x": [
          "2020-08",
          "2020-09",
          "2020-10",
          "2020-11",
          "2020-12",
          "2021-01",
          "2021-02",
          "2021-03",
          "2021-04",
          "2021-05",
          "2021-06",
          "2021-07",
          "2021-08",
          "2021-09",
          "2021-10",
          "2021-11",
          "2021-12",
          "2022-01",
          "2022-02",
          "2022-03",
          "2022-04",
          "2022-05",
          "2022-06"
         ],
         "xaxis": "x",
         "y": [
          32100,
          31769,
          34160,
          32799,
          34739,
          35681,
          31471,
          34991,
          34626,
          35998,
          34946,
          37401,
          35945,
          34690,
          37690,
          35873,
          37464,
          37583,
          33280,
          38399,
          32475,
          31903,
          4085
         ],
         "yaxis": "y"
        },
        {
         "hovertemplate": "RFM_Segment=321<br>month=%{x}<br>session_id=%{y}<extra></extra>",
         "legendgroup": "321",
         "line": {
          "color": "gray",
          "dash": "solid"
         },
         "marker": {
          "symbol": "circle"
         },
         "mode": "markers+lines",
         "name": "321",
         "orientation": "v",
         "showlegend": true,
         "type": "scatter",
         "x": [
          "2020-08",
          "2020-09",
          "2020-10",
          "2020-11",
          "2020-12",
          "2021-01",
          "2021-02",
          "2021-03",
          "2021-04",
          "2021-05",
          "2021-06",
          "2021-07",
          "2021-08",
          "2021-09",
          "2021-10",
          "2021-11",
          "2021-12",
          "2022-01",
          "2022-02",
          "2022-03",
          "2022-04",
          "2022-05",
          "2022-06",
          "2022-07"
         ],
         "xaxis": "x",
         "y": [
          32,
          66,
          45,
          119,
          116,
          179,
          342,
          466,
          496,
          558,
          892,
          1220,
          1646,
          2195,
          2851,
          3468,
          3798,
          3926,
          4905,
          6267,
          7673,
          7854,
          9372,
          8949
         ],
         "yaxis": "y"
        },
        {
         "hovertemplate": "RFM_Segment=322<br>month=%{x}<br>session_id=%{y}<extra></extra>",
         "legendgroup": "322",
         "line": {
          "color": "#636EFA",
          "dash": "solid",
          "width": 2
         },
         "marker": {
          "symbol": "circle"
         },
         "mode": "markers+lines",
         "name": "322",
         "orientation": "v",
         "showlegend": true,
         "type": "scatter",
         "x": [
          "2020-08",
          "2020-09",
          "2020-10",
          "2020-11",
          "2020-12",
          "2021-01",
          "2021-02",
          "2021-03",
          "2021-04",
          "2021-05",
          "2021-06",
          "2021-07",
          "2021-08",
          "2021-09",
          "2021-10",
          "2021-11",
          "2021-12",
          "2022-01",
          "2022-02",
          "2022-03",
          "2022-04",
          "2022-05",
          "2022-06",
          "2022-07"
         ],
         "xaxis": "x",
         "y": [
          127828,
          128131,
          138956,
          136822,
          148574,
          149476,
          141081,
          160646,
          162233,
          170632,
          168346,
          185524,
          200056,
          201803,
          218750,
          221928,
          235121,
          239258,
          228692,
          258655,
          266281,
          277638,
          279688,
          198620
         ],
         "yaxis": "y"
        },
        {
         "hovertemplate": "RFM_Segment=311<br>month=%{x}<br>session_id=%{y}<extra></extra>",
         "legendgroup": "311",
         "line": {
          "color": "gray",
          "dash": "solid"
         },
         "marker": {
          "symbol": "circle"
         },
         "mode": "markers+lines",
         "name": "311",
         "orientation": "v",
         "showlegend": true,
         "type": "scatter",
         "x": [
          "2021-05",
          "2021-06",
          "2021-07",
          "2021-08",
          "2021-09",
          "2021-10",
          "2021-11",
          "2021-12",
          "2022-01",
          "2022-02",
          "2022-03",
          "2022-04",
          "2022-05",
          "2022-06",
          "2022-07"
         ],
         "xaxis": "x",
         "y": [
          2,
          6,
          182,
          134,
          486,
          644,
          1162,
          1801,
          2379,
          3559,
          5259,
          9046,
          10244,
          16377,
          19156
         ],
         "yaxis": "y"
        },
        {
         "hovertemplate": "RFM_Segment=312<br>month=%{x}<br>session_id=%{y}<extra></extra>",
         "legendgroup": "312",
         "line": {
          "color": "gray",
          "dash": "solid"
         },
         "marker": {
          "symbol": "circle"
         },
         "mode": "markers+lines",
         "name": "312",
         "orientation": "v",
         "showlegend": true,
         "type": "scatter",
         "x": [
          "2021-07",
          "2021-08",
          "2021-09",
          "2021-10",
          "2021-11",
          "2021-12",
          "2022-01",
          "2022-02",
          "2022-03",
          "2022-04",
          "2022-05",
          "2022-06",
          "2022-07"
         ],
         "xaxis": "x",
         "y": [
          2,
          10,
          73,
          46,
          176,
          220,
          268,
          496,
          592,
          1295,
          1646,
          2361,
          2335
         ],
         "yaxis": "y"
        }
       ],
       "layout": {
        "height": 500,
        "legend": {
         "title": {
          "text": "RFM_Segment"
         },
         "tracegroupgap": 0,
         "traceorder": "reversed"
        },
        "margin": {
         "t": 60
        },
        "shapes": [
         {
          "line": {
           "color": "red",
           "dash": "dash"
          },
          "type": "line",
          "x0": "2022-05",
          "x1": "2022-05",
          "xref": "x",
          "y0": 0,
          "y1": 1,
          "yref": "paper"
         }
        ],
        "template": {
         "data": {
          "bar": [
           {
            "error_x": {
             "color": "#2a3f5f"
            },
            "error_y": {
             "color": "#2a3f5f"
            },
            "marker": {
             "line": {
              "color": "#E5ECF6",
              "width": 0.5
             },
             "pattern": {
              "fillmode": "overlay",
              "size": 10,
              "solidity": 0.2
             }
            },
            "type": "bar"
           }
          ],
          "barpolar": [
           {
            "marker": {
             "line": {
              "color": "#E5ECF6",
              "width": 0.5
             },
             "pattern": {
              "fillmode": "overlay",
              "size": 10,
              "solidity": 0.2
             }
            },
            "type": "barpolar"
           }
          ],
          "carpet": [
           {
            "aaxis": {
             "endlinecolor": "#2a3f5f",
             "gridcolor": "white",
             "linecolor": "white",
             "minorgridcolor": "white",
             "startlinecolor": "#2a3f5f"
            },
            "baxis": {
             "endlinecolor": "#2a3f5f",
             "gridcolor": "white",
             "linecolor": "white",
             "minorgridcolor": "white",
             "startlinecolor": "#2a3f5f"
            },
            "type": "carpet"
           }
          ],
          "choropleth": [
           {
            "colorbar": {
             "outlinewidth": 0,
             "ticks": ""
            },
            "type": "choropleth"
           }
          ],
          "contour": [
           {
            "colorbar": {
             "outlinewidth": 0,
             "ticks": ""
            },
            "colorscale": [
             [
              0,
              "#0d0887"
             ],
             [
              0.1111111111111111,
              "#46039f"
             ],
             [
              0.2222222222222222,
              "#7201a8"
             ],
             [
              0.3333333333333333,
              "#9c179e"
             ],
             [
              0.4444444444444444,
              "#bd3786"
             ],
             [
              0.5555555555555556,
              "#d8576b"
             ],
             [
              0.6666666666666666,
              "#ed7953"
             ],
             [
              0.7777777777777778,
              "#fb9f3a"
             ],
             [
              0.8888888888888888,
              "#fdca26"
             ],
             [
              1,
              "#f0f921"
             ]
            ],
            "type": "contour"
           }
          ],
          "contourcarpet": [
           {
            "colorbar": {
             "outlinewidth": 0,
             "ticks": ""
            },
            "type": "contourcarpet"
           }
          ],
          "heatmap": [
           {
            "colorbar": {
             "outlinewidth": 0,
             "ticks": ""
            },
            "colorscale": [
             [
              0,
              "#0d0887"
             ],
             [
              0.1111111111111111,
              "#46039f"
             ],
             [
              0.2222222222222222,
              "#7201a8"
             ],
             [
              0.3333333333333333,
              "#9c179e"
             ],
             [
              0.4444444444444444,
              "#bd3786"
             ],
             [
              0.5555555555555556,
              "#d8576b"
             ],
             [
              0.6666666666666666,
              "#ed7953"
             ],
             [
              0.7777777777777778,
              "#fb9f3a"
             ],
             [
              0.8888888888888888,
              "#fdca26"
             ],
             [
              1,
              "#f0f921"
             ]
            ],
            "type": "heatmap"
           }
          ],
          "heatmapgl": [
           {
            "colorbar": {
             "outlinewidth": 0,
             "ticks": ""
            },
            "colorscale": [
             [
              0,
              "#0d0887"
             ],
             [
              0.1111111111111111,
              "#46039f"
             ],
             [
              0.2222222222222222,
              "#7201a8"
             ],
             [
              0.3333333333333333,
              "#9c179e"
             ],
             [
              0.4444444444444444,
              "#bd3786"
             ],
             [
              0.5555555555555556,
              "#d8576b"
             ],
             [
              0.6666666666666666,
              "#ed7953"
             ],
             [
              0.7777777777777778,
              "#fb9f3a"
             ],
             [
              0.8888888888888888,
              "#fdca26"
             ],
             [
              1,
              "#f0f921"
             ]
            ],
            "type": "heatmapgl"
           }
          ],
          "histogram": [
           {
            "marker": {
             "pattern": {
              "fillmode": "overlay",
              "size": 10,
              "solidity": 0.2
             }
            },
            "type": "histogram"
           }
          ],
          "histogram2d": [
           {
            "colorbar": {
             "outlinewidth": 0,
             "ticks": ""
            },
            "colorscale": [
             [
              0,
              "#0d0887"
             ],
             [
              0.1111111111111111,
              "#46039f"
             ],
             [
              0.2222222222222222,
              "#7201a8"
             ],
             [
              0.3333333333333333,
              "#9c179e"
             ],
             [
              0.4444444444444444,
              "#bd3786"
             ],
             [
              0.5555555555555556,
              "#d8576b"
             ],
             [
              0.6666666666666666,
              "#ed7953"
             ],
             [
              0.7777777777777778,
              "#fb9f3a"
             ],
             [
              0.8888888888888888,
              "#fdca26"
             ],
             [
              1,
              "#f0f921"
             ]
            ],
            "type": "histogram2d"
           }
          ],
          "histogram2dcontour": [
           {
            "colorbar": {
             "outlinewidth": 0,
             "ticks": ""
            },
            "colorscale": [
             [
              0,
              "#0d0887"
             ],
             [
              0.1111111111111111,
              "#46039f"
             ],
             [
              0.2222222222222222,
              "#7201a8"
             ],
             [
              0.3333333333333333,
              "#9c179e"
             ],
             [
              0.4444444444444444,
              "#bd3786"
             ],
             [
              0.5555555555555556,
              "#d8576b"
             ],
             [
              0.6666666666666666,
              "#ed7953"
             ],
             [
              0.7777777777777778,
              "#fb9f3a"
             ],
             [
              0.8888888888888888,
              "#fdca26"
             ],
             [
              1,
              "#f0f921"
             ]
            ],
            "type": "histogram2dcontour"
           }
          ],
          "mesh3d": [
           {
            "colorbar": {
             "outlinewidth": 0,
             "ticks": ""
            },
            "type": "mesh3d"
           }
          ],
          "parcoords": [
           {
            "line": {
             "colorbar": {
              "outlinewidth": 0,
              "ticks": ""
             }
            },
            "type": "parcoords"
           }
          ],
          "pie": [
           {
            "automargin": true,
            "type": "pie"
           }
          ],
          "scatter": [
           {
            "fillpattern": {
             "fillmode": "overlay",
             "size": 10,
             "solidity": 0.2
            },
            "type": "scatter"
           }
          ],
          "scatter3d": [
           {
            "line": {
             "colorbar": {
              "outlinewidth": 0,
              "ticks": ""
             }
            },
            "marker": {
             "colorbar": {
              "outlinewidth": 0,
              "ticks": ""
             }
            },
            "type": "scatter3d"
           }
          ],
          "scattercarpet": [
           {
            "marker": {
             "colorbar": {
              "outlinewidth": 0,
              "ticks": ""
             }
            },
            "type": "scattercarpet"
           }
          ],
          "scattergeo": [
           {
            "marker": {
             "colorbar": {
              "outlinewidth": 0,
              "ticks": ""
             }
            },
            "type": "scattergeo"
           }
          ],
          "scattergl": [
           {
            "marker": {
             "colorbar": {
              "outlinewidth": 0,
              "ticks": ""
             }
            },
            "type": "scattergl"
           }
          ],
          "scattermapbox": [
           {
            "marker": {
             "colorbar": {
              "outlinewidth": 0,
              "ticks": ""
             }
            },
            "type": "scattermapbox"
           }
          ],
          "scatterpolar": [
           {
            "marker": {
             "colorbar": {
              "outlinewidth": 0,
              "ticks": ""
             }
            },
            "type": "scatterpolar"
           }
          ],
          "scatterpolargl": [
           {
            "marker": {
             "colorbar": {
              "outlinewidth": 0,
              "ticks": ""
             }
            },
            "type": "scatterpolargl"
           }
          ],
          "scatterternary": [
           {
            "marker": {
             "colorbar": {
              "outlinewidth": 0,
              "ticks": ""
             }
            },
            "type": "scatterternary"
           }
          ],
          "surface": [
           {
            "colorbar": {
             "outlinewidth": 0,
             "ticks": ""
            },
            "colorscale": [
             [
              0,
              "#0d0887"
             ],
             [
              0.1111111111111111,
              "#46039f"
             ],
             [
              0.2222222222222222,
              "#7201a8"
             ],
             [
              0.3333333333333333,
              "#9c179e"
             ],
             [
              0.4444444444444444,
              "#bd3786"
             ],
             [
              0.5555555555555556,
              "#d8576b"
             ],
             [
              0.6666666666666666,
              "#ed7953"
             ],
             [
              0.7777777777777778,
              "#fb9f3a"
             ],
             [
              0.8888888888888888,
              "#fdca26"
             ],
             [
              1,
              "#f0f921"
             ]
            ],
            "type": "surface"
           }
          ],
          "table": [
           {
            "cells": {
             "fill": {
              "color": "#EBF0F8"
             },
             "line": {
              "color": "white"
             }
            },
            "header": {
             "fill": {
              "color": "#C8D4E3"
             },
             "line": {
              "color": "white"
             }
            },
            "type": "table"
           }
          ]
         },
         "layout": {
          "annotationdefaults": {
           "arrowcolor": "#2a3f5f",
           "arrowhead": 0,
           "arrowwidth": 1
          },
          "autotypenumbers": "strict",
          "coloraxis": {
           "colorbar": {
            "outlinewidth": 0,
            "ticks": ""
           }
          },
          "colorscale": {
           "diverging": [
            [
             0,
             "#8e0152"
            ],
            [
             0.1,
             "#c51b7d"
            ],
            [
             0.2,
             "#de77ae"
            ],
            [
             0.3,
             "#f1b6da"
            ],
            [
             0.4,
             "#fde0ef"
            ],
            [
             0.5,
             "#f7f7f7"
            ],
            [
             0.6,
             "#e6f5d0"
            ],
            [
             0.7,
             "#b8e186"
            ],
            [
             0.8,
             "#7fbc41"
            ],
            [
             0.9,
             "#4d9221"
            ],
            [
             1,
             "#276419"
            ]
           ],
           "sequential": [
            [
             0,
             "#0d0887"
            ],
            [
             0.1111111111111111,
             "#46039f"
            ],
            [
             0.2222222222222222,
             "#7201a8"
            ],
            [
             0.3333333333333333,
             "#9c179e"
            ],
            [
             0.4444444444444444,
             "#bd3786"
            ],
            [
             0.5555555555555556,
             "#d8576b"
            ],
            [
             0.6666666666666666,
             "#ed7953"
            ],
            [
             0.7777777777777778,
             "#fb9f3a"
            ],
            [
             0.8888888888888888,
             "#fdca26"
            ],
            [
             1,
             "#f0f921"
            ]
           ],
           "sequentialminus": [
            [
             0,
             "#0d0887"
            ],
            [
             0.1111111111111111,
             "#46039f"
            ],
            [
             0.2222222222222222,
             "#7201a8"
            ],
            [
             0.3333333333333333,
             "#9c179e"
            ],
            [
             0.4444444444444444,
             "#bd3786"
            ],
            [
             0.5555555555555556,
             "#d8576b"
            ],
            [
             0.6666666666666666,
             "#ed7953"
            ],
            [
             0.7777777777777778,
             "#fb9f3a"
            ],
            [
             0.8888888888888888,
             "#fdca26"
            ],
            [
             1,
             "#f0f921"
            ]
           ]
          },
          "colorway": [
           "#636efa",
           "#EF553B",
           "#00cc96",
           "#ab63fa",
           "#FFA15A",
           "#19d3f3",
           "#FF6692",
           "#B6E880",
           "#FF97FF",
           "#FECB52"
          ],
          "font": {
           "color": "#2a3f5f"
          },
          "geo": {
           "bgcolor": "white",
           "lakecolor": "white",
           "landcolor": "#E5ECF6",
           "showlakes": true,
           "showland": true,
           "subunitcolor": "white"
          },
          "hoverlabel": {
           "align": "left"
          },
          "hovermode": "closest",
          "mapbox": {
           "style": "light"
          },
          "paper_bgcolor": "white",
          "plot_bgcolor": "#E5ECF6",
          "polar": {
           "angularaxis": {
            "gridcolor": "white",
            "linecolor": "white",
            "ticks": ""
           },
           "bgcolor": "#E5ECF6",
           "radialaxis": {
            "gridcolor": "white",
            "linecolor": "white",
            "ticks": ""
           }
          },
          "scene": {
           "xaxis": {
            "backgroundcolor": "#E5ECF6",
            "gridcolor": "white",
            "gridwidth": 2,
            "linecolor": "white",
            "showbackground": true,
            "ticks": "",
            "zerolinecolor": "white"
           },
           "yaxis": {
            "backgroundcolor": "#E5ECF6",
            "gridcolor": "white",
            "gridwidth": 2,
            "linecolor": "white",
            "showbackground": true,
            "ticks": "",
            "zerolinecolor": "white"
           },
           "zaxis": {
            "backgroundcolor": "#E5ECF6",
            "gridcolor": "white",
            "gridwidth": 2,
            "linecolor": "white",
            "showbackground": true,
            "ticks": "",
            "zerolinecolor": "white"
           }
          },
          "shapedefaults": {
           "line": {
            "color": "#2a3f5f"
           }
          },
          "ternary": {
           "aaxis": {
            "gridcolor": "white",
            "linecolor": "white",
            "ticks": ""
           },
           "baxis": {
            "gridcolor": "white",
            "linecolor": "white",
            "ticks": ""
           },
           "bgcolor": "#E5ECF6",
           "caxis": {
            "gridcolor": "white",
            "linecolor": "white",
            "ticks": ""
           }
          },
          "title": {
           "x": 0.05
          },
          "xaxis": {
           "automargin": true,
           "gridcolor": "white",
           "linecolor": "white",
           "ticks": "",
           "title": {
            "standoff": 15
           },
           "zerolinecolor": "white",
           "zerolinewidth": 2
          },
          "yaxis": {
           "automargin": true,
           "gridcolor": "white",
           "linecolor": "white",
           "ticks": "",
           "title": {
            "standoff": 15
           },
           "zerolinecolor": "white",
           "zerolinewidth": 2
          }
         }
        },
        "title": {
         "text": "Visit of Segment 322",
         "x": 0.5,
         "xanchor": "center",
         "y": 0.95,
         "yanchor": "top"
        },
        "width": 1000,
        "xaxis": {
         "anchor": "y",
         "domain": [
          0,
          1
         ],
         "title": {
          "text": "Year-Month"
         }
        },
        "yaxis": {
         "anchor": "x",
         "domain": [
          0,
          1
         ],
         "title": {
          "text": "count"
         }
        }
       }
      }
     },
     "metadata": {},
     "output_type": "display_data"
    }
   ],
   "source": [
    "# 최근 2년 간(2020-06 ~ 2022-07) 방문 수\n",
    "# 2022월 6월, 7월에 session 수(방문 수) 감소 - 6월에는 -7.9%, 7월에는 -27.1%\n",
    "fig = px.line(num_session_id_rfm, x='month', y='session_id', markers=True,\n",
    "              width = 1000, height = 500, color='RFM_Segment', color_discrete_sequence=['gray'])\n",
    "fig.update_xaxes(title='month')\n",
    "fig.update_yaxes(title='count')\n",
    "title = {'text':'Visit of Segment 322', 'y':0.95,\n",
    "        'x':0.5,'xanchor':'center', 'yanchor':'top'}\n",
    "fig.update_layout(title=title)\n",
    "\n",
    "# 수직선을 그릴 위치\n",
    "vertical_line_position = '2022-05'\n",
    "\n",
    "# 수직선 추가\n",
    "fig.add_shape(type='line',\n",
    "              x0=vertical_line_position, y0=0, x1=vertical_line_position, y1=1,\n",
    "              line=dict(color='red', dash='dash'),\n",
    "              xref='x', yref='paper')\n",
    "\n",
    "# X축 레이블 설정\n",
    "fig.update_layout(\n",
    "    xaxis=dict(\n",
    "        title=\"Year-Month\"\n",
    "    ),\n",
    "    legend=dict(\n",
    "    traceorder=\"reversed\"\n",
    "    )\n",
    ")\n",
    "\n",
    "# 색 강조하기\n",
    "fig.update_traces(\n",
    "    selector=dict(name=num_session_id_rfm['RFM_Segment'].iloc[-1]),\n",
    "    line=dict(color='#636EFA', width=2)\n",
    ")\n",
    "\n",
    "fig.show()"
   ]
  },
  {
   "cell_type": "code",
   "execution_count": 89,
   "metadata": {},
   "outputs": [
    {
     "data": {
      "application/vnd.plotly.v1+json": {
       "config": {
        "plotlyServerURL": "https://plot.ly"
       },
       "data": [
        {
         "hovertemplate": "RFM_Segment=122<br>month=%{x}<br>session_id=%{y}<extra></extra>",
         "legendgroup": "122",
         "line": {
          "color": "#636efa",
          "dash": "solid"
         },
         "marker": {
          "symbol": "circle"
         },
         "mode": "markers+lines",
         "name": "122",
         "orientation": "v",
         "showlegend": true,
         "type": "scatter",
         "x": [
          "2020-08",
          "2020-09",
          "2020-10",
          "2020-11",
          "2020-12",
          "2021-01",
          "2021-02",
          "2021-03",
          "2021-04",
          "2021-05",
          "2021-06",
          "2021-07",
          "2021-08",
          "2021-09",
          "2021-10",
          "2021-11",
          "2021-12",
          "2022-01"
         ],
         "xaxis": "x",
         "y": [
          993,
          725,
          867,
          1032,
          1150,
          1398,
          1444,
          1205,
          678,
          508,
          650,
          937,
          1147,
          1306,
          1533,
          1003,
          187,
          5
         ],
         "yaxis": "y"
        },
        {
         "hovertemplate": "RFM_Segment=222<br>month=%{x}<br>session_id=%{y}<extra></extra>",
         "legendgroup": "222",
         "line": {
          "color": "#EF553B",
          "dash": "solid"
         },
         "marker": {
          "symbol": "circle"
         },
         "mode": "markers+lines",
         "name": "222",
         "orientation": "v",
         "showlegend": true,
         "type": "scatter",
         "x": [
          "2020-08",
          "2020-09",
          "2020-10",
          "2020-11",
          "2020-12",
          "2021-01",
          "2021-02",
          "2021-03",
          "2021-04",
          "2021-05",
          "2021-06",
          "2021-07",
          "2021-08",
          "2021-09",
          "2021-10",
          "2021-11",
          "2021-12",
          "2022-01",
          "2022-02",
          "2022-03",
          "2022-04",
          "2022-05",
          "2022-06"
         ],
         "xaxis": "x",
         "y": [
          32100,
          31769,
          34160,
          32799,
          34739,
          35681,
          31471,
          34991,
          34626,
          35998,
          34946,
          37401,
          35945,
          34690,
          37690,
          35873,
          37464,
          37583,
          33280,
          38399,
          32475,
          31903,
          4085
         ],
         "yaxis": "y"
        },
        {
         "hovertemplate": "RFM_Segment=322<br>month=%{x}<br>session_id=%{y}<extra></extra>",
         "legendgroup": "322",
         "line": {
          "color": "#00cc96",
          "dash": "solid"
         },
         "marker": {
          "symbol": "circle"
         },
         "mode": "markers+lines",
         "name": "322",
         "orientation": "v",
         "showlegend": true,
         "type": "scatter",
         "x": [
          "2020-08",
          "2020-09",
          "2020-10",
          "2020-11",
          "2020-12",
          "2021-01",
          "2021-02",
          "2021-03",
          "2021-04",
          "2021-05",
          "2021-06",
          "2021-07",
          "2021-08",
          "2021-09",
          "2021-10",
          "2021-11",
          "2021-12",
          "2022-01",
          "2022-02",
          "2022-03",
          "2022-04",
          "2022-05",
          "2022-06",
          "2022-07"
         ],
         "xaxis": "x",
         "y": [
          127828,
          128131,
          138956,
          136822,
          148574,
          149476,
          141081,
          160646,
          162233,
          170632,
          168346,
          185524,
          200056,
          201803,
          218750,
          221928,
          235121,
          239258,
          228692,
          258655,
          266281,
          277638,
          279688,
          198620
         ],
         "yaxis": "y"
        }
       ],
       "layout": {
        "height": 500,
        "legend": {
         "title": {
          "text": "RFM_Segment"
         },
         "tracegroupgap": 0,
         "traceorder": "reversed"
        },
        "margin": {
         "t": 60
        },
        "shapes": [
         {
          "line": {
           "color": "red",
           "dash": "dash"
          },
          "type": "line",
          "x0": "2022-05",
          "x1": "2022-05",
          "xref": "x",
          "y0": 0,
          "y1": 1,
          "yref": "paper"
         }
        ],
        "template": {
         "data": {
          "bar": [
           {
            "error_x": {
             "color": "#2a3f5f"
            },
            "error_y": {
             "color": "#2a3f5f"
            },
            "marker": {
             "line": {
              "color": "#E5ECF6",
              "width": 0.5
             },
             "pattern": {
              "fillmode": "overlay",
              "size": 10,
              "solidity": 0.2
             }
            },
            "type": "bar"
           }
          ],
          "barpolar": [
           {
            "marker": {
             "line": {
              "color": "#E5ECF6",
              "width": 0.5
             },
             "pattern": {
              "fillmode": "overlay",
              "size": 10,
              "solidity": 0.2
             }
            },
            "type": "barpolar"
           }
          ],
          "carpet": [
           {
            "aaxis": {
             "endlinecolor": "#2a3f5f",
             "gridcolor": "white",
             "linecolor": "white",
             "minorgridcolor": "white",
             "startlinecolor": "#2a3f5f"
            },
            "baxis": {
             "endlinecolor": "#2a3f5f",
             "gridcolor": "white",
             "linecolor": "white",
             "minorgridcolor": "white",
             "startlinecolor": "#2a3f5f"
            },
            "type": "carpet"
           }
          ],
          "choropleth": [
           {
            "colorbar": {
             "outlinewidth": 0,
             "ticks": ""
            },
            "type": "choropleth"
           }
          ],
          "contour": [
           {
            "colorbar": {
             "outlinewidth": 0,
             "ticks": ""
            },
            "colorscale": [
             [
              0,
              "#0d0887"
             ],
             [
              0.1111111111111111,
              "#46039f"
             ],
             [
              0.2222222222222222,
              "#7201a8"
             ],
             [
              0.3333333333333333,
              "#9c179e"
             ],
             [
              0.4444444444444444,
              "#bd3786"
             ],
             [
              0.5555555555555556,
              "#d8576b"
             ],
             [
              0.6666666666666666,
              "#ed7953"
             ],
             [
              0.7777777777777778,
              "#fb9f3a"
             ],
             [
              0.8888888888888888,
              "#fdca26"
             ],
             [
              1,
              "#f0f921"
             ]
            ],
            "type": "contour"
           }
          ],
          "contourcarpet": [
           {
            "colorbar": {
             "outlinewidth": 0,
             "ticks": ""
            },
            "type": "contourcarpet"
           }
          ],
          "heatmap": [
           {
            "colorbar": {
             "outlinewidth": 0,
             "ticks": ""
            },
            "colorscale": [
             [
              0,
              "#0d0887"
             ],
             [
              0.1111111111111111,
              "#46039f"
             ],
             [
              0.2222222222222222,
              "#7201a8"
             ],
             [
              0.3333333333333333,
              "#9c179e"
             ],
             [
              0.4444444444444444,
              "#bd3786"
             ],
             [
              0.5555555555555556,
              "#d8576b"
             ],
             [
              0.6666666666666666,
              "#ed7953"
             ],
             [
              0.7777777777777778,
              "#fb9f3a"
             ],
             [
              0.8888888888888888,
              "#fdca26"
             ],
             [
              1,
              "#f0f921"
             ]
            ],
            "type": "heatmap"
           }
          ],
          "heatmapgl": [
           {
            "colorbar": {
             "outlinewidth": 0,
             "ticks": ""
            },
            "colorscale": [
             [
              0,
              "#0d0887"
             ],
             [
              0.1111111111111111,
              "#46039f"
             ],
             [
              0.2222222222222222,
              "#7201a8"
             ],
             [
              0.3333333333333333,
              "#9c179e"
             ],
             [
              0.4444444444444444,
              "#bd3786"
             ],
             [
              0.5555555555555556,
              "#d8576b"
             ],
             [
              0.6666666666666666,
              "#ed7953"
             ],
             [
              0.7777777777777778,
              "#fb9f3a"
             ],
             [
              0.8888888888888888,
              "#fdca26"
             ],
             [
              1,
              "#f0f921"
             ]
            ],
            "type": "heatmapgl"
           }
          ],
          "histogram": [
           {
            "marker": {
             "pattern": {
              "fillmode": "overlay",
              "size": 10,
              "solidity": 0.2
             }
            },
            "type": "histogram"
           }
          ],
          "histogram2d": [
           {
            "colorbar": {
             "outlinewidth": 0,
             "ticks": ""
            },
            "colorscale": [
             [
              0,
              "#0d0887"
             ],
             [
              0.1111111111111111,
              "#46039f"
             ],
             [
              0.2222222222222222,
              "#7201a8"
             ],
             [
              0.3333333333333333,
              "#9c179e"
             ],
             [
              0.4444444444444444,
              "#bd3786"
             ],
             [
              0.5555555555555556,
              "#d8576b"
             ],
             [
              0.6666666666666666,
              "#ed7953"
             ],
             [
              0.7777777777777778,
              "#fb9f3a"
             ],
             [
              0.8888888888888888,
              "#fdca26"
             ],
             [
              1,
              "#f0f921"
             ]
            ],
            "type": "histogram2d"
           }
          ],
          "histogram2dcontour": [
           {
            "colorbar": {
             "outlinewidth": 0,
             "ticks": ""
            },
            "colorscale": [
             [
              0,
              "#0d0887"
             ],
             [
              0.1111111111111111,
              "#46039f"
             ],
             [
              0.2222222222222222,
              "#7201a8"
             ],
             [
              0.3333333333333333,
              "#9c179e"
             ],
             [
              0.4444444444444444,
              "#bd3786"
             ],
             [
              0.5555555555555556,
              "#d8576b"
             ],
             [
              0.6666666666666666,
              "#ed7953"
             ],
             [
              0.7777777777777778,
              "#fb9f3a"
             ],
             [
              0.8888888888888888,
              "#fdca26"
             ],
             [
              1,
              "#f0f921"
             ]
            ],
            "type": "histogram2dcontour"
           }
          ],
          "mesh3d": [
           {
            "colorbar": {
             "outlinewidth": 0,
             "ticks": ""
            },
            "type": "mesh3d"
           }
          ],
          "parcoords": [
           {
            "line": {
             "colorbar": {
              "outlinewidth": 0,
              "ticks": ""
             }
            },
            "type": "parcoords"
           }
          ],
          "pie": [
           {
            "automargin": true,
            "type": "pie"
           }
          ],
          "scatter": [
           {
            "fillpattern": {
             "fillmode": "overlay",
             "size": 10,
             "solidity": 0.2
            },
            "type": "scatter"
           }
          ],
          "scatter3d": [
           {
            "line": {
             "colorbar": {
              "outlinewidth": 0,
              "ticks": ""
             }
            },
            "marker": {
             "colorbar": {
              "outlinewidth": 0,
              "ticks": ""
             }
            },
            "type": "scatter3d"
           }
          ],
          "scattercarpet": [
           {
            "marker": {
             "colorbar": {
              "outlinewidth": 0,
              "ticks": ""
             }
            },
            "type": "scattercarpet"
           }
          ],
          "scattergeo": [
           {
            "marker": {
             "colorbar": {
              "outlinewidth": 0,
              "ticks": ""
             }
            },
            "type": "scattergeo"
           }
          ],
          "scattergl": [
           {
            "marker": {
             "colorbar": {
              "outlinewidth": 0,
              "ticks": ""
             }
            },
            "type": "scattergl"
           }
          ],
          "scattermapbox": [
           {
            "marker": {
             "colorbar": {
              "outlinewidth": 0,
              "ticks": ""
             }
            },
            "type": "scattermapbox"
           }
          ],
          "scatterpolar": [
           {
            "marker": {
             "colorbar": {
              "outlinewidth": 0,
              "ticks": ""
             }
            },
            "type": "scatterpolar"
           }
          ],
          "scatterpolargl": [
           {
            "marker": {
             "colorbar": {
              "outlinewidth": 0,
              "ticks": ""
             }
            },
            "type": "scatterpolargl"
           }
          ],
          "scatterternary": [
           {
            "marker": {
             "colorbar": {
              "outlinewidth": 0,
              "ticks": ""
             }
            },
            "type": "scatterternary"
           }
          ],
          "surface": [
           {
            "colorbar": {
             "outlinewidth": 0,
             "ticks": ""
            },
            "colorscale": [
             [
              0,
              "#0d0887"
             ],
             [
              0.1111111111111111,
              "#46039f"
             ],
             [
              0.2222222222222222,
              "#7201a8"
             ],
             [
              0.3333333333333333,
              "#9c179e"
             ],
             [
              0.4444444444444444,
              "#bd3786"
             ],
             [
              0.5555555555555556,
              "#d8576b"
             ],
             [
              0.6666666666666666,
              "#ed7953"
             ],
             [
              0.7777777777777778,
              "#fb9f3a"
             ],
             [
              0.8888888888888888,
              "#fdca26"
             ],
             [
              1,
              "#f0f921"
             ]
            ],
            "type": "surface"
           }
          ],
          "table": [
           {
            "cells": {
             "fill": {
              "color": "#EBF0F8"
             },
             "line": {
              "color": "white"
             }
            },
            "header": {
             "fill": {
              "color": "#C8D4E3"
             },
             "line": {
              "color": "white"
             }
            },
            "type": "table"
           }
          ]
         },
         "layout": {
          "annotationdefaults": {
           "arrowcolor": "#2a3f5f",
           "arrowhead": 0,
           "arrowwidth": 1
          },
          "autotypenumbers": "strict",
          "coloraxis": {
           "colorbar": {
            "outlinewidth": 0,
            "ticks": ""
           }
          },
          "colorscale": {
           "diverging": [
            [
             0,
             "#8e0152"
            ],
            [
             0.1,
             "#c51b7d"
            ],
            [
             0.2,
             "#de77ae"
            ],
            [
             0.3,
             "#f1b6da"
            ],
            [
             0.4,
             "#fde0ef"
            ],
            [
             0.5,
             "#f7f7f7"
            ],
            [
             0.6,
             "#e6f5d0"
            ],
            [
             0.7,
             "#b8e186"
            ],
            [
             0.8,
             "#7fbc41"
            ],
            [
             0.9,
             "#4d9221"
            ],
            [
             1,
             "#276419"
            ]
           ],
           "sequential": [
            [
             0,
             "#0d0887"
            ],
            [
             0.1111111111111111,
             "#46039f"
            ],
            [
             0.2222222222222222,
             "#7201a8"
            ],
            [
             0.3333333333333333,
             "#9c179e"
            ],
            [
             0.4444444444444444,
             "#bd3786"
            ],
            [
             0.5555555555555556,
             "#d8576b"
            ],
            [
             0.6666666666666666,
             "#ed7953"
            ],
            [
             0.7777777777777778,
             "#fb9f3a"
            ],
            [
             0.8888888888888888,
             "#fdca26"
            ],
            [
             1,
             "#f0f921"
            ]
           ],
           "sequentialminus": [
            [
             0,
             "#0d0887"
            ],
            [
             0.1111111111111111,
             "#46039f"
            ],
            [
             0.2222222222222222,
             "#7201a8"
            ],
            [
             0.3333333333333333,
             "#9c179e"
            ],
            [
             0.4444444444444444,
             "#bd3786"
            ],
            [
             0.5555555555555556,
             "#d8576b"
            ],
            [
             0.6666666666666666,
             "#ed7953"
            ],
            [
             0.7777777777777778,
             "#fb9f3a"
            ],
            [
             0.8888888888888888,
             "#fdca26"
            ],
            [
             1,
             "#f0f921"
            ]
           ]
          },
          "colorway": [
           "#636efa",
           "#EF553B",
           "#00cc96",
           "#ab63fa",
           "#FFA15A",
           "#19d3f3",
           "#FF6692",
           "#B6E880",
           "#FF97FF",
           "#FECB52"
          ],
          "font": {
           "color": "#2a3f5f"
          },
          "geo": {
           "bgcolor": "white",
           "lakecolor": "white",
           "landcolor": "#E5ECF6",
           "showlakes": true,
           "showland": true,
           "subunitcolor": "white"
          },
          "hoverlabel": {
           "align": "left"
          },
          "hovermode": "closest",
          "mapbox": {
           "style": "light"
          },
          "paper_bgcolor": "white",
          "plot_bgcolor": "#E5ECF6",
          "polar": {
           "angularaxis": {
            "gridcolor": "white",
            "linecolor": "white",
            "ticks": ""
           },
           "bgcolor": "#E5ECF6",
           "radialaxis": {
            "gridcolor": "white",
            "linecolor": "white",
            "ticks": ""
           }
          },
          "scene": {
           "xaxis": {
            "backgroundcolor": "#E5ECF6",
            "gridcolor": "white",
            "gridwidth": 2,
            "linecolor": "white",
            "showbackground": true,
            "ticks": "",
            "zerolinecolor": "white"
           },
           "yaxis": {
            "backgroundcolor": "#E5ECF6",
            "gridcolor": "white",
            "gridwidth": 2,
            "linecolor": "white",
            "showbackground": true,
            "ticks": "",
            "zerolinecolor": "white"
           },
           "zaxis": {
            "backgroundcolor": "#E5ECF6",
            "gridcolor": "white",
            "gridwidth": 2,
            "linecolor": "white",
            "showbackground": true,
            "ticks": "",
            "zerolinecolor": "white"
           }
          },
          "shapedefaults": {
           "line": {
            "color": "#2a3f5f"
           }
          },
          "ternary": {
           "aaxis": {
            "gridcolor": "white",
            "linecolor": "white",
            "ticks": ""
           },
           "baxis": {
            "gridcolor": "white",
            "linecolor": "white",
            "ticks": ""
           },
           "bgcolor": "#E5ECF6",
           "caxis": {
            "gridcolor": "white",
            "linecolor": "white",
            "ticks": ""
           }
          },
          "title": {
           "x": 0.05
          },
          "xaxis": {
           "automargin": true,
           "gridcolor": "white",
           "linecolor": "white",
           "ticks": "",
           "title": {
            "standoff": 15
           },
           "zerolinecolor": "white",
           "zerolinewidth": 2
          },
          "yaxis": {
           "automargin": true,
           "gridcolor": "white",
           "linecolor": "white",
           "ticks": "",
           "title": {
            "standoff": 15
           },
           "zerolinecolor": "white",
           "zerolinewidth": 2
          }
         }
        },
        "title": {
         "text": "Visit of Segment 322, 222, 122 (2020-08 ~ 2022-07)",
         "x": 0.5,
         "xanchor": "center",
         "y": 0.95,
         "yanchor": "top"
        },
        "width": 1000,
        "xaxis": {
         "anchor": "y",
         "domain": [
          0,
          1
         ],
         "title": {
          "text": "Year-Month"
         }
        },
        "yaxis": {
         "anchor": "x",
         "domain": [
          0,
          1
         ],
         "title": {
          "text": "count"
         }
        }
       }
      }
     },
     "metadata": {},
     "output_type": "display_data"
    }
   ],
   "source": [
    "# 최근 2년 간(2020-06 ~ 2022-07) 방문 수\n",
    "# 2022월 6월, 7월에 session 수(방문 수) 감소 - 6월에는 -7.9%, 7월에는 -27.1%\n",
    "fig = px.line(num_session_id_rfm[num_session_id_rfm['RFM_Segment'].isin(['322', '222', '122'])], x='month', y='session_id', markers=True,\n",
    "              width = 1000, height = 500, color='RFM_Segment')\n",
    "fig.update_xaxes(title='month')\n",
    "fig.update_yaxes(title='count')\n",
    "title = {'text':'Visit of Segment 322, 222, 122 (2020-08 ~ 2022-07)', 'y':0.95,\n",
    "        'x':0.5,'xanchor':'center', 'yanchor':'top'}\n",
    "fig.update_layout(title=title)\n",
    "# 수직선을 그릴 위치\n",
    "vertical_line_position = '2022-05'\n",
    "\n",
    "# 수직선 추가\n",
    "fig.add_shape(type='line',\n",
    "              x0=vertical_line_position, y0=0, x1=vertical_line_position, y1=1,\n",
    "              line=dict(color='red', dash='dash'),\n",
    "              xref='x', yref='paper')\n",
    "\n",
    "# X축 레이블 설정\n",
    "fig.update_layout(\n",
    "    xaxis=dict(\n",
    "        title=\"Year-Month\"\n",
    "    ),\n",
    "    legend=dict(\n",
    "    traceorder=\"reversed\"\n",
    "    )\n",
    ")\n",
    "fig.show()"
   ]
  },
  {
   "cell_type": "code",
   "execution_count": 96,
   "metadata": {},
   "outputs": [],
   "source": [
    "# # 목표 세그먼트(322. 222. 122) 방문수\n",
    "# plt.figure(figsize=(15,9))\n",
    "# sns.lineplot(num_session_id_rfm[num_session_id_rfm['RFM_Segment'].isin(['322', '222', '122'])], x='month', y='session_id', hue='RFM_Segment', hue_order=['322', '222', '122'])\n",
    "# label =['2020-08', '2021-01', '2022-01', '2022-05', '2022-06', '2022-07']\n",
    "# x_ticks = [month if month in label else '' for month in num_session_id_rfm.month]\n",
    "# plt.xticks(x_ticks, rotation = 90)\n",
    "# plt.axvline('2022-06', color='red', linestyle='dotted')\n",
    "# plt.title('Visit of Segment 322, 222, 122')\n",
    "# plt.show()"
   ]
  },
  {
   "attachments": {},
   "cell_type": "markdown",
   "metadata": {},
   "source": [
    "### Segment별 구매횟수"
   ]
  },
  {
   "cell_type": "code",
   "execution_count": 22,
   "metadata": {},
   "outputs": [
    {
     "data": {
      "text/html": [
       "<div>\n",
       "<style scoped>\n",
       "    .dataframe tbody tr th:only-of-type {\n",
       "        vertical-align: middle;\n",
       "    }\n",
       "\n",
       "    .dataframe tbody tr th {\n",
       "        vertical-align: top;\n",
       "    }\n",
       "\n",
       "    .dataframe thead th {\n",
       "        text-align: right;\n",
       "    }\n",
       "</style>\n",
       "<table border=\"1\" class=\"dataframe\">\n",
       "  <thead>\n",
       "    <tr style=\"text-align: right;\">\n",
       "      <th></th>\n",
       "      <th>month</th>\n",
       "      <th>RFM_Segment</th>\n",
       "      <th>booking_id</th>\n",
       "    </tr>\n",
       "  </thead>\n",
       "  <tbody>\n",
       "    <tr>\n",
       "      <th>0</th>\n",
       "      <td>2016-06</td>\n",
       "      <td>111.00</td>\n",
       "      <td>1</td>\n",
       "    </tr>\n",
       "    <tr>\n",
       "      <th>1</th>\n",
       "      <td>2016-07</td>\n",
       "      <td>111.00</td>\n",
       "      <td>125</td>\n",
       "    </tr>\n",
       "    <tr>\n",
       "      <th>2</th>\n",
       "      <td>2016-07</td>\n",
       "      <td>112.00</td>\n",
       "      <td>5</td>\n",
       "    </tr>\n",
       "    <tr>\n",
       "      <th>3</th>\n",
       "      <td>2016-07</td>\n",
       "      <td>121.00</td>\n",
       "      <td>1</td>\n",
       "    </tr>\n",
       "    <tr>\n",
       "      <th>4</th>\n",
       "      <td>2016-07</td>\n",
       "      <td>122.00</td>\n",
       "      <td>22</td>\n",
       "    </tr>\n",
       "    <tr>\n",
       "      <th>...</th>\n",
       "      <td>...</td>\n",
       "      <td>...</td>\n",
       "      <td>...</td>\n",
       "    </tr>\n",
       "    <tr>\n",
       "      <th>652</th>\n",
       "      <td>2022-07</td>\n",
       "      <td>322.00</td>\n",
       "      <td>21289</td>\n",
       "    </tr>\n",
       "    <tr>\n",
       "      <th>653</th>\n",
       "      <td>2022-08</td>\n",
       "      <td>311.00</td>\n",
       "      <td>0</td>\n",
       "    </tr>\n",
       "    <tr>\n",
       "      <th>654</th>\n",
       "      <td>2022-08</td>\n",
       "      <td>312.00</td>\n",
       "      <td>0</td>\n",
       "    </tr>\n",
       "    <tr>\n",
       "      <th>655</th>\n",
       "      <td>2022-08</td>\n",
       "      <td>321.00</td>\n",
       "      <td>0</td>\n",
       "    </tr>\n",
       "    <tr>\n",
       "      <th>656</th>\n",
       "      <td>2022-08</td>\n",
       "      <td>322.00</td>\n",
       "      <td>0</td>\n",
       "    </tr>\n",
       "  </tbody>\n",
       "</table>\n",
       "<p>657 rows × 3 columns</p>\n",
       "</div>"
      ],
      "text/plain": [
       "       month  RFM_Segment  booking_id\n",
       "0    2016-06       111.00           1\n",
       "1    2016-07       111.00         125\n",
       "2    2016-07       112.00           5\n",
       "3    2016-07       121.00           1\n",
       "4    2016-07       122.00          22\n",
       "..       ...          ...         ...\n",
       "652  2022-07       322.00       21289\n",
       "653  2022-08       311.00           0\n",
       "654  2022-08       312.00           0\n",
       "655  2022-08       321.00           0\n",
       "656  2022-08       322.00           0\n",
       "\n",
       "[657 rows x 3 columns]"
      ]
     },
     "execution_count": 22,
     "metadata": {},
     "output_type": "execute_result"
    }
   ],
   "source": [
    "# 세그먼트별 구매횟수\n",
    "num_booking_id_rfm = df_buy_split.groupby(['month','RFM_Segment']).booking_id.nunique()\n",
    "num_booking_id_rfm = pd.DataFrame(num_booking_id_rfm)\n",
    "num_booking_id_rfm.reset_index(inplace=True)\n",
    "num_booking_id_rfm"
   ]
  },
  {
   "cell_type": "code",
   "execution_count": 23,
   "metadata": {},
   "outputs": [
    {
     "name": "stderr",
     "output_type": "stream",
     "text": [
      "/var/folders/72/sf0gd2_15c7bv2klzkjcqt580000gn/T/ipykernel_1613/1584499322.py:3: SettingWithCopyWarning: \n",
      "A value is trying to be set on a copy of a slice from a DataFrame.\n",
      "Try using .loc[row_indexer,col_indexer] = value instead\n",
      "\n",
      "See the caveats in the documentation: https://pandas.pydata.org/pandas-docs/stable/user_guide/indexing.html#returning-a-view-versus-a-copy\n",
      "  num_booking_id_rfm.month = num_booking_id_rfm.month.astype('str')\n"
     ]
    }
   ],
   "source": [
    "num_booking_id_rfm.RFM_Segment = num_booking_id_rfm.RFM_Segment.astype('int').astype('str')\n",
    "num_booking_id_rfm = num_booking_id_rfm[(num_booking_id_rfm.month >= '2020-08') & (num_booking_id_rfm.month <= '2022-07')]\n",
    "num_booking_id_rfm.month = num_booking_id_rfm.month.astype('str')"
   ]
  },
  {
   "cell_type": "code",
   "execution_count": 67,
   "metadata": {},
   "outputs": [
    {
     "data": {
      "text/html": [
       "<div>\n",
       "<style scoped>\n",
       "    .dataframe tbody tr th:only-of-type {\n",
       "        vertical-align: middle;\n",
       "    }\n",
       "\n",
       "    .dataframe tbody tr th {\n",
       "        vertical-align: top;\n",
       "    }\n",
       "\n",
       "    .dataframe thead th {\n",
       "        text-align: right;\n",
       "    }\n",
       "</style>\n",
       "<table border=\"1\" class=\"dataframe\">\n",
       "  <thead>\n",
       "    <tr style=\"text-align: right;\">\n",
       "      <th></th>\n",
       "      <th>month</th>\n",
       "      <th>RFM_Segment</th>\n",
       "      <th>booking_id</th>\n",
       "    </tr>\n",
       "  </thead>\n",
       "  <tbody>\n",
       "    <tr>\n",
       "      <th>633</th>\n",
       "      <td>2022-05</td>\n",
       "      <td>211</td>\n",
       "      <td>1214</td>\n",
       "    </tr>\n",
       "    <tr>\n",
       "      <th>634</th>\n",
       "      <td>2022-05</td>\n",
       "      <td>212</td>\n",
       "      <td>132</td>\n",
       "    </tr>\n",
       "    <tr>\n",
       "      <th>635</th>\n",
       "      <td>2022-05</td>\n",
       "      <td>221</td>\n",
       "      <td>321</td>\n",
       "    </tr>\n",
       "    <tr>\n",
       "      <th>636</th>\n",
       "      <td>2022-05</td>\n",
       "      <td>222</td>\n",
       "      <td>3731</td>\n",
       "    </tr>\n",
       "    <tr>\n",
       "      <th>637</th>\n",
       "      <td>2022-05</td>\n",
       "      <td>311</td>\n",
       "      <td>945</td>\n",
       "    </tr>\n",
       "    <tr>\n",
       "      <th>638</th>\n",
       "      <td>2022-05</td>\n",
       "      <td>312</td>\n",
       "      <td>126</td>\n",
       "    </tr>\n",
       "    <tr>\n",
       "      <th>639</th>\n",
       "      <td>2022-05</td>\n",
       "      <td>321</td>\n",
       "      <td>642</td>\n",
       "    </tr>\n",
       "    <tr>\n",
       "      <th>641</th>\n",
       "      <td>2022-06</td>\n",
       "      <td>211</td>\n",
       "      <td>264</td>\n",
       "    </tr>\n",
       "    <tr>\n",
       "      <th>642</th>\n",
       "      <td>2022-06</td>\n",
       "      <td>212</td>\n",
       "      <td>37</td>\n",
       "    </tr>\n",
       "    <tr>\n",
       "      <th>643</th>\n",
       "      <td>2022-06</td>\n",
       "      <td>221</td>\n",
       "      <td>61</td>\n",
       "    </tr>\n",
       "    <tr>\n",
       "      <th>644</th>\n",
       "      <td>2022-06</td>\n",
       "      <td>222</td>\n",
       "      <td>1055</td>\n",
       "    </tr>\n",
       "    <tr>\n",
       "      <th>645</th>\n",
       "      <td>2022-06</td>\n",
       "      <td>311</td>\n",
       "      <td>1877</td>\n",
       "    </tr>\n",
       "    <tr>\n",
       "      <th>646</th>\n",
       "      <td>2022-06</td>\n",
       "      <td>312</td>\n",
       "      <td>235</td>\n",
       "    </tr>\n",
       "    <tr>\n",
       "      <th>647</th>\n",
       "      <td>2022-06</td>\n",
       "      <td>321</td>\n",
       "      <td>884</td>\n",
       "    </tr>\n",
       "    <tr>\n",
       "      <th>649</th>\n",
       "      <td>2022-07</td>\n",
       "      <td>311</td>\n",
       "      <td>2558</td>\n",
       "    </tr>\n",
       "    <tr>\n",
       "      <th>650</th>\n",
       "      <td>2022-07</td>\n",
       "      <td>312</td>\n",
       "      <td>280</td>\n",
       "    </tr>\n",
       "    <tr>\n",
       "      <th>651</th>\n",
       "      <td>2022-07</td>\n",
       "      <td>321</td>\n",
       "      <td>1035</td>\n",
       "    </tr>\n",
       "  </tbody>\n",
       "</table>\n",
       "</div>"
      ],
      "text/plain": [
       "       month RFM_Segment  booking_id\n",
       "633  2022-05         211        1214\n",
       "634  2022-05         212         132\n",
       "635  2022-05         221         321\n",
       "636  2022-05         222        3731\n",
       "637  2022-05         311         945\n",
       "638  2022-05         312         126\n",
       "639  2022-05         321         642\n",
       "641  2022-06         211         264\n",
       "642  2022-06         212          37\n",
       "643  2022-06         221          61\n",
       "644  2022-06         222        1055\n",
       "645  2022-06         311        1877\n",
       "646  2022-06         312         235\n",
       "647  2022-06         321         884\n",
       "649  2022-07         311        2558\n",
       "650  2022-07         312         280\n",
       "651  2022-07         321        1035"
      ]
     },
     "execution_count": 67,
     "metadata": {},
     "output_type": "execute_result"
    }
   ],
   "source": [
    "num_booking_id_rfm[(num_booking_id_rfm.month>='2022-05') & (num_booking_id_rfm.RFM_Segment!='322')]"
   ]
  },
  {
   "cell_type": "code",
   "execution_count": 138,
   "metadata": {},
   "outputs": [
    {
     "data": {
      "application/vnd.plotly.v1+json": {
       "config": {
        "plotlyServerURL": "https://plot.ly"
       },
       "data": [
        {
         "hovertemplate": "RFM_Segment=111<br>month=%{x}<br>booking_id=%{y}<extra></extra>",
         "legendgroup": "111",
         "line": {
          "color": "gray",
          "dash": "solid"
         },
         "marker": {
          "symbol": "circle"
         },
         "mode": "markers+lines",
         "name": "111",
         "orientation": "v",
         "showlegend": true,
         "type": "scatter",
         "x": [
          "2020-08",
          "2020-09",
          "2020-10",
          "2020-11",
          "2020-12",
          "2021-01",
          "2021-02",
          "2021-03",
          "2021-04",
          "2021-05",
          "2021-06",
          "2021-07",
          "2021-08",
          "2021-09",
          "2021-10",
          "2021-11",
          "2021-12",
          "2022-01"
         ],
         "xaxis": "x",
         "y": [
          751,
          585,
          549,
          630,
          545,
          708,
          663,
          891,
          597,
          506,
          511,
          814,
          780,
          724,
          790,
          870,
          205,
          1
         ],
         "yaxis": "y"
        },
        {
         "hovertemplate": "RFM_Segment=112<br>month=%{x}<br>booking_id=%{y}<extra></extra>",
         "legendgroup": "112",
         "line": {
          "color": "gray",
          "dash": "solid"
         },
         "marker": {
          "symbol": "circle"
         },
         "mode": "markers+lines",
         "name": "112",
         "orientation": "v",
         "showlegend": true,
         "type": "scatter",
         "x": [
          "2020-08",
          "2020-09",
          "2020-10",
          "2020-11",
          "2020-12",
          "2021-01",
          "2021-02",
          "2021-03",
          "2021-04",
          "2021-05",
          "2021-06",
          "2021-07",
          "2021-08",
          "2021-09",
          "2021-10",
          "2021-11",
          "2021-12"
         ],
         "xaxis": "x",
         "y": [
          83,
          59,
          53,
          70,
          78,
          72,
          73,
          96,
          54,
          39,
          57,
          76,
          82,
          70,
          74,
          87,
          15
         ],
         "yaxis": "y"
        },
        {
         "hovertemplate": "RFM_Segment=121<br>month=%{x}<br>booking_id=%{y}<extra></extra>",
         "legendgroup": "121",
         "line": {
          "color": "gray",
          "dash": "solid"
         },
         "marker": {
          "symbol": "circle"
         },
         "mode": "markers+lines",
         "name": "121",
         "orientation": "v",
         "showlegend": true,
         "type": "scatter",
         "x": [
          "2020-08",
          "2020-09",
          "2020-10",
          "2020-11",
          "2020-12",
          "2021-01",
          "2021-02",
          "2021-03",
          "2021-04",
          "2021-05",
          "2021-06",
          "2021-07",
          "2021-08",
          "2021-09",
          "2021-10",
          "2021-11",
          "2021-12"
         ],
         "xaxis": "x",
         "y": [
          20,
          2,
          1,
          5,
          3,
          8,
          17,
          18,
          16,
          0,
          1,
          0,
          6,
          6,
          10,
          37,
          15
         ],
         "yaxis": "y"
        },
        {
         "hovertemplate": "RFM_Segment=122<br>month=%{x}<br>booking_id=%{y}<extra></extra>",
         "legendgroup": "122",
         "line": {
          "color": "gray",
          "dash": "solid"
         },
         "marker": {
          "symbol": "circle"
         },
         "mode": "markers+lines",
         "name": "122",
         "orientation": "v",
         "showlegend": true,
         "type": "scatter",
         "x": [
          "2020-08",
          "2020-09",
          "2020-10",
          "2020-11",
          "2020-12",
          "2021-01",
          "2021-02",
          "2021-03",
          "2021-04",
          "2021-05",
          "2021-06",
          "2021-07",
          "2021-08",
          "2021-09",
          "2021-10",
          "2021-11",
          "2021-12",
          "2022-01"
         ],
         "xaxis": "x",
         "y": [
          126,
          53,
          53,
          61,
          90,
          101,
          120,
          155,
          96,
          33,
          49,
          61,
          87,
          99,
          155,
          216,
          73,
          1
         ],
         "yaxis": "y"
        },
        {
         "hovertemplate": "RFM_Segment=211<br>month=%{x}<br>booking_id=%{y}<extra></extra>",
         "legendgroup": "211",
         "line": {
          "color": "gray",
          "dash": "solid"
         },
         "marker": {
          "symbol": "circle"
         },
         "mode": "markers+lines",
         "name": "211",
         "orientation": "v",
         "showlegend": true,
         "type": "scatter",
         "x": [
          "2020-08",
          "2020-09",
          "2020-10",
          "2020-11",
          "2020-12",
          "2021-01",
          "2021-02",
          "2021-03",
          "2021-04",
          "2021-05",
          "2021-06",
          "2021-07",
          "2021-08",
          "2021-09",
          "2021-10",
          "2021-11",
          "2021-12",
          "2022-01",
          "2022-02",
          "2022-03",
          "2022-04",
          "2022-05",
          "2022-06"
         ],
         "xaxis": "x",
         "y": [
          307,
          393,
          399,
          415,
          384,
          478,
          416,
          456,
          604,
          761,
          804,
          1113,
          882,
          882,
          940,
          942,
          1366,
          1987,
          1534,
          1657,
          1354,
          1214,
          264
         ],
         "yaxis": "y"
        },
        {
         "hovertemplate": "RFM_Segment=212<br>month=%{x}<br>booking_id=%{y}<extra></extra>",
         "legendgroup": "212",
         "line": {
          "color": "gray",
          "dash": "solid"
         },
         "marker": {
          "symbol": "circle"
         },
         "mode": "markers+lines",
         "name": "212",
         "orientation": "v",
         "showlegend": true,
         "type": "scatter",
         "x": [
          "2020-08",
          "2020-09",
          "2020-10",
          "2020-11",
          "2020-12",
          "2021-01",
          "2021-02",
          "2021-03",
          "2021-04",
          "2021-05",
          "2021-06",
          "2021-07",
          "2021-08",
          "2021-09",
          "2021-10",
          "2021-11",
          "2021-12",
          "2022-01",
          "2022-02",
          "2022-03",
          "2022-04",
          "2022-05",
          "2022-06"
         ],
         "xaxis": "x",
         "y": [
          44,
          48,
          47,
          65,
          38,
          75,
          70,
          59,
          76,
          88,
          97,
          137,
          124,
          107,
          120,
          117,
          177,
          217,
          176,
          198,
          149,
          132,
          37
         ],
         "yaxis": "y"
        },
        {
         "hovertemplate": "RFM_Segment=221<br>month=%{x}<br>booking_id=%{y}<extra></extra>",
         "legendgroup": "221",
         "line": {
          "color": "gray",
          "dash": "solid"
         },
         "marker": {
          "symbol": "circle"
         },
         "mode": "markers+lines",
         "name": "221",
         "orientation": "v",
         "showlegend": true,
         "type": "scatter",
         "x": [
          "2020-08",
          "2020-09",
          "2020-10",
          "2020-11",
          "2020-12",
          "2021-01",
          "2021-02",
          "2021-03",
          "2021-04",
          "2021-05",
          "2021-06",
          "2021-07",
          "2021-08",
          "2021-09",
          "2021-10",
          "2021-11",
          "2021-12",
          "2022-01",
          "2022-02",
          "2022-03",
          "2022-04",
          "2022-05",
          "2022-06"
         ],
         "xaxis": "x",
         "y": [
          273,
          296,
          304,
          324,
          348,
          336,
          268,
          365,
          313,
          345,
          383,
          362,
          356,
          349,
          338,
          302,
          347,
          409,
          367,
          380,
          327,
          321,
          61
         ],
         "yaxis": "y"
        },
        {
         "hovertemplate": "RFM_Segment=222<br>month=%{x}<br>booking_id=%{y}<extra></extra>",
         "legendgroup": "222",
         "line": {
          "color": "gray",
          "dash": "solid"
         },
         "marker": {
          "symbol": "circle"
         },
         "mode": "markers+lines",
         "name": "222",
         "orientation": "v",
         "showlegend": true,
         "type": "scatter",
         "x": [
          "2020-08",
          "2020-09",
          "2020-10",
          "2020-11",
          "2020-12",
          "2021-01",
          "2021-02",
          "2021-03",
          "2021-04",
          "2021-05",
          "2021-06",
          "2021-07",
          "2021-08",
          "2021-09",
          "2021-10",
          "2021-11",
          "2021-12",
          "2022-01",
          "2022-02",
          "2022-03",
          "2022-04",
          "2022-05",
          "2022-06"
         ],
         "xaxis": "x",
         "y": [
          3371,
          3212,
          3432,
          3396,
          3378,
          3589,
          3142,
          3484,
          3384,
          3702,
          3452,
          3705,
          3707,
          3487,
          3604,
          3438,
          3702,
          3845,
          3402,
          3729,
          3479,
          3731,
          1055
         ],
         "yaxis": "y"
        },
        {
         "hovertemplate": "RFM_Segment=321<br>month=%{x}<br>booking_id=%{y}<extra></extra>",
         "legendgroup": "321",
         "line": {
          "color": "gray",
          "dash": "solid"
         },
         "marker": {
          "symbol": "circle"
         },
         "mode": "markers+lines",
         "name": "321",
         "orientation": "v",
         "showlegend": true,
         "type": "scatter",
         "x": [
          "2020-08",
          "2020-09",
          "2020-10",
          "2020-11",
          "2020-12",
          "2021-01",
          "2021-02",
          "2021-03",
          "2021-04",
          "2021-05",
          "2021-06",
          "2021-07",
          "2021-08",
          "2021-09",
          "2021-10",
          "2021-11",
          "2021-12",
          "2022-01",
          "2022-02",
          "2022-03",
          "2022-04",
          "2022-05",
          "2022-06",
          "2022-07"
         ],
         "xaxis": "x",
         "y": [
          3,
          7,
          13,
          23,
          23,
          35,
          41,
          53,
          73,
          70,
          110,
          168,
          186,
          253,
          281,
          321,
          335,
          408,
          409,
          527,
          659,
          642,
          884,
          1035
         ],
         "yaxis": "y"
        },
        {
         "hovertemplate": "RFM_Segment=322<br>month=%{x}<br>booking_id=%{y}<extra></extra>",
         "legendgroup": "322",
         "line": {
          "color": "#636EFA",
          "dash": "solid",
          "width": 2
         },
         "marker": {
          "symbol": "circle"
         },
         "mode": "markers+lines",
         "name": "322",
         "orientation": "v",
         "showlegend": true,
         "type": "scatter",
         "x": [
          "2020-08",
          "2020-09",
          "2020-10",
          "2020-11",
          "2020-12",
          "2021-01",
          "2021-02",
          "2021-03",
          "2021-04",
          "2021-05",
          "2021-06",
          "2021-07",
          "2021-08",
          "2021-09",
          "2021-10",
          "2021-11",
          "2021-12",
          "2022-01",
          "2022-02",
          "2022-03",
          "2022-04",
          "2022-05",
          "2022-06",
          "2022-07"
         ],
         "xaxis": "x",
         "y": [
          10865,
          10718,
          11598,
          11799,
          12228,
          12707,
          11931,
          13633,
          13605,
          14517,
          14236,
          15704,
          16685,
          16966,
          18236,
          18537,
          19193,
          20009,
          19034,
          21592,
          22140,
          22973,
          24174,
          21289
         ],
         "yaxis": "y"
        },
        {
         "hovertemplate": "RFM_Segment=311<br>month=%{x}<br>booking_id=%{y}<extra></extra>",
         "legendgroup": "311",
         "line": {
          "color": "gray",
          "dash": "solid"
         },
         "marker": {
          "symbol": "circle"
         },
         "mode": "markers+lines",
         "name": "311",
         "orientation": "v",
         "showlegend": true,
         "type": "scatter",
         "x": [
          "2021-05",
          "2021-06",
          "2021-07",
          "2021-08",
          "2021-09",
          "2021-10",
          "2021-11",
          "2021-12",
          "2022-01",
          "2022-02",
          "2022-03",
          "2022-04",
          "2022-05",
          "2022-06",
          "2022-07"
         ],
         "xaxis": "x",
         "y": [
          2,
          5,
          36,
          37,
          85,
          114,
          173,
          226,
          345,
          470,
          630,
          994,
          945,
          1877,
          2558
         ],
         "yaxis": "y"
        },
        {
         "hovertemplate": "RFM_Segment=312<br>month=%{x}<br>booking_id=%{y}<extra></extra>",
         "legendgroup": "312",
         "line": {
          "color": "gray",
          "dash": "solid"
         },
         "marker": {
          "symbol": "circle"
         },
         "mode": "markers+lines",
         "name": "312",
         "orientation": "v",
         "showlegend": true,
         "type": "scatter",
         "x": [
          "2021-07",
          "2021-08",
          "2021-09",
          "2021-10",
          "2021-11",
          "2021-12",
          "2022-01",
          "2022-02",
          "2022-03",
          "2022-04",
          "2022-05",
          "2022-06",
          "2022-07"
         ],
         "xaxis": "x",
         "y": [
          2,
          4,
          10,
          13,
          23,
          23,
          54,
          56,
          87,
          135,
          126,
          235,
          280
         ],
         "yaxis": "y"
        }
       ],
       "layout": {
        "height": 500,
        "legend": {
         "title": {
          "text": "RFM_Segment"
         },
         "tracegroupgap": 0,
         "traceorder": "reversed"
        },
        "margin": {
         "t": 60
        },
        "shapes": [
         {
          "line": {
           "color": "red",
           "dash": "dash"
          },
          "type": "line",
          "x0": "2022-05",
          "x1": "2022-05",
          "xref": "x",
          "y0": 0,
          "y1": 1,
          "yref": "paper"
         }
        ],
        "template": {
         "data": {
          "bar": [
           {
            "error_x": {
             "color": "#2a3f5f"
            },
            "error_y": {
             "color": "#2a3f5f"
            },
            "marker": {
             "line": {
              "color": "#E5ECF6",
              "width": 0.5
             },
             "pattern": {
              "fillmode": "overlay",
              "size": 10,
              "solidity": 0.2
             }
            },
            "type": "bar"
           }
          ],
          "barpolar": [
           {
            "marker": {
             "line": {
              "color": "#E5ECF6",
              "width": 0.5
             },
             "pattern": {
              "fillmode": "overlay",
              "size": 10,
              "solidity": 0.2
             }
            },
            "type": "barpolar"
           }
          ],
          "carpet": [
           {
            "aaxis": {
             "endlinecolor": "#2a3f5f",
             "gridcolor": "white",
             "linecolor": "white",
             "minorgridcolor": "white",
             "startlinecolor": "#2a3f5f"
            },
            "baxis": {
             "endlinecolor": "#2a3f5f",
             "gridcolor": "white",
             "linecolor": "white",
             "minorgridcolor": "white",
             "startlinecolor": "#2a3f5f"
            },
            "type": "carpet"
           }
          ],
          "choropleth": [
           {
            "colorbar": {
             "outlinewidth": 0,
             "ticks": ""
            },
            "type": "choropleth"
           }
          ],
          "contour": [
           {
            "colorbar": {
             "outlinewidth": 0,
             "ticks": ""
            },
            "colorscale": [
             [
              0,
              "#0d0887"
             ],
             [
              0.1111111111111111,
              "#46039f"
             ],
             [
              0.2222222222222222,
              "#7201a8"
             ],
             [
              0.3333333333333333,
              "#9c179e"
             ],
             [
              0.4444444444444444,
              "#bd3786"
             ],
             [
              0.5555555555555556,
              "#d8576b"
             ],
             [
              0.6666666666666666,
              "#ed7953"
             ],
             [
              0.7777777777777778,
              "#fb9f3a"
             ],
             [
              0.8888888888888888,
              "#fdca26"
             ],
             [
              1,
              "#f0f921"
             ]
            ],
            "type": "contour"
           }
          ],
          "contourcarpet": [
           {
            "colorbar": {
             "outlinewidth": 0,
             "ticks": ""
            },
            "type": "contourcarpet"
           }
          ],
          "heatmap": [
           {
            "colorbar": {
             "outlinewidth": 0,
             "ticks": ""
            },
            "colorscale": [
             [
              0,
              "#0d0887"
             ],
             [
              0.1111111111111111,
              "#46039f"
             ],
             [
              0.2222222222222222,
              "#7201a8"
             ],
             [
              0.3333333333333333,
              "#9c179e"
             ],
             [
              0.4444444444444444,
              "#bd3786"
             ],
             [
              0.5555555555555556,
              "#d8576b"
             ],
             [
              0.6666666666666666,
              "#ed7953"
             ],
             [
              0.7777777777777778,
              "#fb9f3a"
             ],
             [
              0.8888888888888888,
              "#fdca26"
             ],
             [
              1,
              "#f0f921"
             ]
            ],
            "type": "heatmap"
           }
          ],
          "heatmapgl": [
           {
            "colorbar": {
             "outlinewidth": 0,
             "ticks": ""
            },
            "colorscale": [
             [
              0,
              "#0d0887"
             ],
             [
              0.1111111111111111,
              "#46039f"
             ],
             [
              0.2222222222222222,
              "#7201a8"
             ],
             [
              0.3333333333333333,
              "#9c179e"
             ],
             [
              0.4444444444444444,
              "#bd3786"
             ],
             [
              0.5555555555555556,
              "#d8576b"
             ],
             [
              0.6666666666666666,
              "#ed7953"
             ],
             [
              0.7777777777777778,
              "#fb9f3a"
             ],
             [
              0.8888888888888888,
              "#fdca26"
             ],
             [
              1,
              "#f0f921"
             ]
            ],
            "type": "heatmapgl"
           }
          ],
          "histogram": [
           {
            "marker": {
             "pattern": {
              "fillmode": "overlay",
              "size": 10,
              "solidity": 0.2
             }
            },
            "type": "histogram"
           }
          ],
          "histogram2d": [
           {
            "colorbar": {
             "outlinewidth": 0,
             "ticks": ""
            },
            "colorscale": [
             [
              0,
              "#0d0887"
             ],
             [
              0.1111111111111111,
              "#46039f"
             ],
             [
              0.2222222222222222,
              "#7201a8"
             ],
             [
              0.3333333333333333,
              "#9c179e"
             ],
             [
              0.4444444444444444,
              "#bd3786"
             ],
             [
              0.5555555555555556,
              "#d8576b"
             ],
             [
              0.6666666666666666,
              "#ed7953"
             ],
             [
              0.7777777777777778,
              "#fb9f3a"
             ],
             [
              0.8888888888888888,
              "#fdca26"
             ],
             [
              1,
              "#f0f921"
             ]
            ],
            "type": "histogram2d"
           }
          ],
          "histogram2dcontour": [
           {
            "colorbar": {
             "outlinewidth": 0,
             "ticks": ""
            },
            "colorscale": [
             [
              0,
              "#0d0887"
             ],
             [
              0.1111111111111111,
              "#46039f"
             ],
             [
              0.2222222222222222,
              "#7201a8"
             ],
             [
              0.3333333333333333,
              "#9c179e"
             ],
             [
              0.4444444444444444,
              "#bd3786"
             ],
             [
              0.5555555555555556,
              "#d8576b"
             ],
             [
              0.6666666666666666,
              "#ed7953"
             ],
             [
              0.7777777777777778,
              "#fb9f3a"
             ],
             [
              0.8888888888888888,
              "#fdca26"
             ],
             [
              1,
              "#f0f921"
             ]
            ],
            "type": "histogram2dcontour"
           }
          ],
          "mesh3d": [
           {
            "colorbar": {
             "outlinewidth": 0,
             "ticks": ""
            },
            "type": "mesh3d"
           }
          ],
          "parcoords": [
           {
            "line": {
             "colorbar": {
              "outlinewidth": 0,
              "ticks": ""
             }
            },
            "type": "parcoords"
           }
          ],
          "pie": [
           {
            "automargin": true,
            "type": "pie"
           }
          ],
          "scatter": [
           {
            "fillpattern": {
             "fillmode": "overlay",
             "size": 10,
             "solidity": 0.2
            },
            "type": "scatter"
           }
          ],
          "scatter3d": [
           {
            "line": {
             "colorbar": {
              "outlinewidth": 0,
              "ticks": ""
             }
            },
            "marker": {
             "colorbar": {
              "outlinewidth": 0,
              "ticks": ""
             }
            },
            "type": "scatter3d"
           }
          ],
          "scattercarpet": [
           {
            "marker": {
             "colorbar": {
              "outlinewidth": 0,
              "ticks": ""
             }
            },
            "type": "scattercarpet"
           }
          ],
          "scattergeo": [
           {
            "marker": {
             "colorbar": {
              "outlinewidth": 0,
              "ticks": ""
             }
            },
            "type": "scattergeo"
           }
          ],
          "scattergl": [
           {
            "marker": {
             "colorbar": {
              "outlinewidth": 0,
              "ticks": ""
             }
            },
            "type": "scattergl"
           }
          ],
          "scattermapbox": [
           {
            "marker": {
             "colorbar": {
              "outlinewidth": 0,
              "ticks": ""
             }
            },
            "type": "scattermapbox"
           }
          ],
          "scatterpolar": [
           {
            "marker": {
             "colorbar": {
              "outlinewidth": 0,
              "ticks": ""
             }
            },
            "type": "scatterpolar"
           }
          ],
          "scatterpolargl": [
           {
            "marker": {
             "colorbar": {
              "outlinewidth": 0,
              "ticks": ""
             }
            },
            "type": "scatterpolargl"
           }
          ],
          "scatterternary": [
           {
            "marker": {
             "colorbar": {
              "outlinewidth": 0,
              "ticks": ""
             }
            },
            "type": "scatterternary"
           }
          ],
          "surface": [
           {
            "colorbar": {
             "outlinewidth": 0,
             "ticks": ""
            },
            "colorscale": [
             [
              0,
              "#0d0887"
             ],
             [
              0.1111111111111111,
              "#46039f"
             ],
             [
              0.2222222222222222,
              "#7201a8"
             ],
             [
              0.3333333333333333,
              "#9c179e"
             ],
             [
              0.4444444444444444,
              "#bd3786"
             ],
             [
              0.5555555555555556,
              "#d8576b"
             ],
             [
              0.6666666666666666,
              "#ed7953"
             ],
             [
              0.7777777777777778,
              "#fb9f3a"
             ],
             [
              0.8888888888888888,
              "#fdca26"
             ],
             [
              1,
              "#f0f921"
             ]
            ],
            "type": "surface"
           }
          ],
          "table": [
           {
            "cells": {
             "fill": {
              "color": "#EBF0F8"
             },
             "line": {
              "color": "white"
             }
            },
            "header": {
             "fill": {
              "color": "#C8D4E3"
             },
             "line": {
              "color": "white"
             }
            },
            "type": "table"
           }
          ]
         },
         "layout": {
          "annotationdefaults": {
           "arrowcolor": "#2a3f5f",
           "arrowhead": 0,
           "arrowwidth": 1
          },
          "autotypenumbers": "strict",
          "coloraxis": {
           "colorbar": {
            "outlinewidth": 0,
            "ticks": ""
           }
          },
          "colorscale": {
           "diverging": [
            [
             0,
             "#8e0152"
            ],
            [
             0.1,
             "#c51b7d"
            ],
            [
             0.2,
             "#de77ae"
            ],
            [
             0.3,
             "#f1b6da"
            ],
            [
             0.4,
             "#fde0ef"
            ],
            [
             0.5,
             "#f7f7f7"
            ],
            [
             0.6,
             "#e6f5d0"
            ],
            [
             0.7,
             "#b8e186"
            ],
            [
             0.8,
             "#7fbc41"
            ],
            [
             0.9,
             "#4d9221"
            ],
            [
             1,
             "#276419"
            ]
           ],
           "sequential": [
            [
             0,
             "#0d0887"
            ],
            [
             0.1111111111111111,
             "#46039f"
            ],
            [
             0.2222222222222222,
             "#7201a8"
            ],
            [
             0.3333333333333333,
             "#9c179e"
            ],
            [
             0.4444444444444444,
             "#bd3786"
            ],
            [
             0.5555555555555556,
             "#d8576b"
            ],
            [
             0.6666666666666666,
             "#ed7953"
            ],
            [
             0.7777777777777778,
             "#fb9f3a"
            ],
            [
             0.8888888888888888,
             "#fdca26"
            ],
            [
             1,
             "#f0f921"
            ]
           ],
           "sequentialminus": [
            [
             0,
             "#0d0887"
            ],
            [
             0.1111111111111111,
             "#46039f"
            ],
            [
             0.2222222222222222,
             "#7201a8"
            ],
            [
             0.3333333333333333,
             "#9c179e"
            ],
            [
             0.4444444444444444,
             "#bd3786"
            ],
            [
             0.5555555555555556,
             "#d8576b"
            ],
            [
             0.6666666666666666,
             "#ed7953"
            ],
            [
             0.7777777777777778,
             "#fb9f3a"
            ],
            [
             0.8888888888888888,
             "#fdca26"
            ],
            [
             1,
             "#f0f921"
            ]
           ]
          },
          "colorway": [
           "#636efa",
           "#EF553B",
           "#00cc96",
           "#ab63fa",
           "#FFA15A",
           "#19d3f3",
           "#FF6692",
           "#B6E880",
           "#FF97FF",
           "#FECB52"
          ],
          "font": {
           "color": "#2a3f5f"
          },
          "geo": {
           "bgcolor": "white",
           "lakecolor": "white",
           "landcolor": "#E5ECF6",
           "showlakes": true,
           "showland": true,
           "subunitcolor": "white"
          },
          "hoverlabel": {
           "align": "left"
          },
          "hovermode": "closest",
          "mapbox": {
           "style": "light"
          },
          "paper_bgcolor": "white",
          "plot_bgcolor": "#E5ECF6",
          "polar": {
           "angularaxis": {
            "gridcolor": "white",
            "linecolor": "white",
            "ticks": ""
           },
           "bgcolor": "#E5ECF6",
           "radialaxis": {
            "gridcolor": "white",
            "linecolor": "white",
            "ticks": ""
           }
          },
          "scene": {
           "xaxis": {
            "backgroundcolor": "#E5ECF6",
            "gridcolor": "white",
            "gridwidth": 2,
            "linecolor": "white",
            "showbackground": true,
            "ticks": "",
            "zerolinecolor": "white"
           },
           "yaxis": {
            "backgroundcolor": "#E5ECF6",
            "gridcolor": "white",
            "gridwidth": 2,
            "linecolor": "white",
            "showbackground": true,
            "ticks": "",
            "zerolinecolor": "white"
           },
           "zaxis": {
            "backgroundcolor": "#E5ECF6",
            "gridcolor": "white",
            "gridwidth": 2,
            "linecolor": "white",
            "showbackground": true,
            "ticks": "",
            "zerolinecolor": "white"
           }
          },
          "shapedefaults": {
           "line": {
            "color": "#2a3f5f"
           }
          },
          "ternary": {
           "aaxis": {
            "gridcolor": "white",
            "linecolor": "white",
            "ticks": ""
           },
           "baxis": {
            "gridcolor": "white",
            "linecolor": "white",
            "ticks": ""
           },
           "bgcolor": "#E5ECF6",
           "caxis": {
            "gridcolor": "white",
            "linecolor": "white",
            "ticks": ""
           }
          },
          "title": {
           "x": 0.05
          },
          "xaxis": {
           "automargin": true,
           "gridcolor": "white",
           "linecolor": "white",
           "ticks": "",
           "title": {
            "standoff": 15
           },
           "zerolinecolor": "white",
           "zerolinewidth": 2
          },
          "yaxis": {
           "automargin": true,
           "gridcolor": "white",
           "linecolor": "white",
           "ticks": "",
           "title": {
            "standoff": 15
           },
           "zerolinecolor": "white",
           "zerolinewidth": 2
          }
         }
        },
        "title": {
         "text": "Purchase Count of Segment 322",
         "x": 0.5,
         "xanchor": "center",
         "y": 0.95,
         "yanchor": "top"
        },
        "width": 1000,
        "xaxis": {
         "anchor": "y",
         "domain": [
          0,
          1
         ],
         "title": {
          "text": "Year-Month"
         }
        },
        "yaxis": {
         "anchor": "x",
         "domain": [
          0,
          1
         ],
         "title": {
          "text": "count"
         }
        }
       }
      }
     },
     "metadata": {},
     "output_type": "display_data"
    }
   ],
   "source": [
    "# 최근 2년 간(2020-06 ~ 2022-07) 방문 수\n",
    "# 2022월 6월, 7월에 session 수(방문 수) 감소 - 6월에는 -7.9%, 7월에는 -27.1%\n",
    "fig = px.line(num_booking_id_rfm, x='month', y='booking_id', markers=True,\n",
    "              width = 1000, height = 500, color='RFM_Segment', color_discrete_sequence=['gray'])\n",
    "fig.update_xaxes(title='month')\n",
    "fig.update_yaxes(title='count')\n",
    "title = {'text':'Purchase Count of Segment 322', 'y':0.95,\n",
    "        'x':0.5,'xanchor':'center', 'yanchor':'top'}\n",
    "fig.update_layout(title=title)\n",
    "# 수직선을 그릴 위치\n",
    "vertical_line_position = '2022-05'\n",
    "\n",
    "# 수직선 추가\n",
    "fig.add_shape(type='line',\n",
    "              x0=vertical_line_position, y0=0, x1=vertical_line_position, y1=1,\n",
    "              line=dict(color='red', dash='dash'),\n",
    "              xref='x', yref='paper')\n",
    "\n",
    "# X축 레이블 설정, 범례\n",
    "fig.update_layout(\n",
    "    xaxis=dict(\n",
    "        title=\"Year-Month\"\n",
    "    ),\n",
    "    legend=dict(\n",
    "    traceorder=\"reversed\"\n",
    "    )\n",
    ")\n",
    "\n",
    "# 색 강조하기\n",
    "fig.update_traces(\n",
    "    selector=dict(name=num_booking_id_rfm['RFM_Segment'].iloc[-1]),\n",
    "    line=dict(color='#636EFA', width=2)\n",
    ")\n",
    "fig.show()"
   ]
  },
  {
   "cell_type": "code",
   "execution_count": 84,
   "metadata": {},
   "outputs": [
    {
     "data": {
      "application/vnd.plotly.v1+json": {
       "config": {
        "plotlyServerURL": "https://plot.ly"
       },
       "data": [
        {
         "hovertemplate": "RFM_Segment=122<br>month=%{x}<br>booking_id=%{y}<extra></extra>",
         "legendgroup": "122",
         "line": {
          "color": "#636efa",
          "dash": "solid"
         },
         "marker": {
          "symbol": "circle"
         },
         "mode": "markers+lines",
         "name": "122",
         "orientation": "v",
         "showlegend": true,
         "type": "scatter",
         "x": [
          "2020-08",
          "2020-09",
          "2020-10",
          "2020-11",
          "2020-12",
          "2021-01",
          "2021-02",
          "2021-03",
          "2021-04",
          "2021-05",
          "2021-06",
          "2021-07",
          "2021-08",
          "2021-09",
          "2021-10",
          "2021-11",
          "2021-12",
          "2022-01"
         ],
         "xaxis": "x",
         "y": [
          126,
          53,
          53,
          61,
          90,
          101,
          120,
          155,
          96,
          33,
          49,
          61,
          87,
          99,
          155,
          216,
          73,
          1
         ],
         "yaxis": "y"
        },
        {
         "hovertemplate": "RFM_Segment=222<br>month=%{x}<br>booking_id=%{y}<extra></extra>",
         "legendgroup": "222",
         "line": {
          "color": "#EF553B",
          "dash": "solid"
         },
         "marker": {
          "symbol": "circle"
         },
         "mode": "markers+lines",
         "name": "222",
         "orientation": "v",
         "showlegend": true,
         "type": "scatter",
         "x": [
          "2020-08",
          "2020-09",
          "2020-10",
          "2020-11",
          "2020-12",
          "2021-01",
          "2021-02",
          "2021-03",
          "2021-04",
          "2021-05",
          "2021-06",
          "2021-07",
          "2021-08",
          "2021-09",
          "2021-10",
          "2021-11",
          "2021-12",
          "2022-01",
          "2022-02",
          "2022-03",
          "2022-04",
          "2022-05",
          "2022-06"
         ],
         "xaxis": "x",
         "y": [
          3371,
          3212,
          3432,
          3396,
          3378,
          3589,
          3142,
          3484,
          3384,
          3702,
          3452,
          3705,
          3707,
          3487,
          3604,
          3438,
          3702,
          3845,
          3402,
          3729,
          3479,
          3731,
          1055
         ],
         "yaxis": "y"
        },
        {
         "hovertemplate": "RFM_Segment=322<br>month=%{x}<br>booking_id=%{y}<extra></extra>",
         "legendgroup": "322",
         "line": {
          "color": "#00cc96",
          "dash": "solid"
         },
         "marker": {
          "symbol": "circle"
         },
         "mode": "markers+lines",
         "name": "322",
         "orientation": "v",
         "showlegend": true,
         "type": "scatter",
         "x": [
          "2020-08",
          "2020-09",
          "2020-10",
          "2020-11",
          "2020-12",
          "2021-01",
          "2021-02",
          "2021-03",
          "2021-04",
          "2021-05",
          "2021-06",
          "2021-07",
          "2021-08",
          "2021-09",
          "2021-10",
          "2021-11",
          "2021-12",
          "2022-01",
          "2022-02",
          "2022-03",
          "2022-04",
          "2022-05",
          "2022-06",
          "2022-07"
         ],
         "xaxis": "x",
         "y": [
          10865,
          10718,
          11598,
          11799,
          12228,
          12707,
          11931,
          13633,
          13605,
          14517,
          14236,
          15704,
          16685,
          16966,
          18236,
          18537,
          19193,
          20009,
          19034,
          21592,
          22140,
          22973,
          24174,
          21289
         ],
         "yaxis": "y"
        }
       ],
       "layout": {
        "height": 500,
        "legend": {
         "title": {
          "text": "RFM_Segment"
         },
         "tracegroupgap": 0,
         "traceorder": "reversed"
        },
        "margin": {
         "t": 60
        },
        "shapes": [
         {
          "line": {
           "color": "red",
           "dash": "dash"
          },
          "type": "line",
          "x0": "2022-05",
          "x1": "2022-05",
          "xref": "x",
          "y0": 0,
          "y1": 1,
          "yref": "paper"
         }
        ],
        "template": {
         "data": {
          "bar": [
           {
            "error_x": {
             "color": "#2a3f5f"
            },
            "error_y": {
             "color": "#2a3f5f"
            },
            "marker": {
             "line": {
              "color": "#E5ECF6",
              "width": 0.5
             },
             "pattern": {
              "fillmode": "overlay",
              "size": 10,
              "solidity": 0.2
             }
            },
            "type": "bar"
           }
          ],
          "barpolar": [
           {
            "marker": {
             "line": {
              "color": "#E5ECF6",
              "width": 0.5
             },
             "pattern": {
              "fillmode": "overlay",
              "size": 10,
              "solidity": 0.2
             }
            },
            "type": "barpolar"
           }
          ],
          "carpet": [
           {
            "aaxis": {
             "endlinecolor": "#2a3f5f",
             "gridcolor": "white",
             "linecolor": "white",
             "minorgridcolor": "white",
             "startlinecolor": "#2a3f5f"
            },
            "baxis": {
             "endlinecolor": "#2a3f5f",
             "gridcolor": "white",
             "linecolor": "white",
             "minorgridcolor": "white",
             "startlinecolor": "#2a3f5f"
            },
            "type": "carpet"
           }
          ],
          "choropleth": [
           {
            "colorbar": {
             "outlinewidth": 0,
             "ticks": ""
            },
            "type": "choropleth"
           }
          ],
          "contour": [
           {
            "colorbar": {
             "outlinewidth": 0,
             "ticks": ""
            },
            "colorscale": [
             [
              0,
              "#0d0887"
             ],
             [
              0.1111111111111111,
              "#46039f"
             ],
             [
              0.2222222222222222,
              "#7201a8"
             ],
             [
              0.3333333333333333,
              "#9c179e"
             ],
             [
              0.4444444444444444,
              "#bd3786"
             ],
             [
              0.5555555555555556,
              "#d8576b"
             ],
             [
              0.6666666666666666,
              "#ed7953"
             ],
             [
              0.7777777777777778,
              "#fb9f3a"
             ],
             [
              0.8888888888888888,
              "#fdca26"
             ],
             [
              1,
              "#f0f921"
             ]
            ],
            "type": "contour"
           }
          ],
          "contourcarpet": [
           {
            "colorbar": {
             "outlinewidth": 0,
             "ticks": ""
            },
            "type": "contourcarpet"
           }
          ],
          "heatmap": [
           {
            "colorbar": {
             "outlinewidth": 0,
             "ticks": ""
            },
            "colorscale": [
             [
              0,
              "#0d0887"
             ],
             [
              0.1111111111111111,
              "#46039f"
             ],
             [
              0.2222222222222222,
              "#7201a8"
             ],
             [
              0.3333333333333333,
              "#9c179e"
             ],
             [
              0.4444444444444444,
              "#bd3786"
             ],
             [
              0.5555555555555556,
              "#d8576b"
             ],
             [
              0.6666666666666666,
              "#ed7953"
             ],
             [
              0.7777777777777778,
              "#fb9f3a"
             ],
             [
              0.8888888888888888,
              "#fdca26"
             ],
             [
              1,
              "#f0f921"
             ]
            ],
            "type": "heatmap"
           }
          ],
          "heatmapgl": [
           {
            "colorbar": {
             "outlinewidth": 0,
             "ticks": ""
            },
            "colorscale": [
             [
              0,
              "#0d0887"
             ],
             [
              0.1111111111111111,
              "#46039f"
             ],
             [
              0.2222222222222222,
              "#7201a8"
             ],
             [
              0.3333333333333333,
              "#9c179e"
             ],
             [
              0.4444444444444444,
              "#bd3786"
             ],
             [
              0.5555555555555556,
              "#d8576b"
             ],
             [
              0.6666666666666666,
              "#ed7953"
             ],
             [
              0.7777777777777778,
              "#fb9f3a"
             ],
             [
              0.8888888888888888,
              "#fdca26"
             ],
             [
              1,
              "#f0f921"
             ]
            ],
            "type": "heatmapgl"
           }
          ],
          "histogram": [
           {
            "marker": {
             "pattern": {
              "fillmode": "overlay",
              "size": 10,
              "solidity": 0.2
             }
            },
            "type": "histogram"
           }
          ],
          "histogram2d": [
           {
            "colorbar": {
             "outlinewidth": 0,
             "ticks": ""
            },
            "colorscale": [
             [
              0,
              "#0d0887"
             ],
             [
              0.1111111111111111,
              "#46039f"
             ],
             [
              0.2222222222222222,
              "#7201a8"
             ],
             [
              0.3333333333333333,
              "#9c179e"
             ],
             [
              0.4444444444444444,
              "#bd3786"
             ],
             [
              0.5555555555555556,
              "#d8576b"
             ],
             [
              0.6666666666666666,
              "#ed7953"
             ],
             [
              0.7777777777777778,
              "#fb9f3a"
             ],
             [
              0.8888888888888888,
              "#fdca26"
             ],
             [
              1,
              "#f0f921"
             ]
            ],
            "type": "histogram2d"
           }
          ],
          "histogram2dcontour": [
           {
            "colorbar": {
             "outlinewidth": 0,
             "ticks": ""
            },
            "colorscale": [
             [
              0,
              "#0d0887"
             ],
             [
              0.1111111111111111,
              "#46039f"
             ],
             [
              0.2222222222222222,
              "#7201a8"
             ],
             [
              0.3333333333333333,
              "#9c179e"
             ],
             [
              0.4444444444444444,
              "#bd3786"
             ],
             [
              0.5555555555555556,
              "#d8576b"
             ],
             [
              0.6666666666666666,
              "#ed7953"
             ],
             [
              0.7777777777777778,
              "#fb9f3a"
             ],
             [
              0.8888888888888888,
              "#fdca26"
             ],
             [
              1,
              "#f0f921"
             ]
            ],
            "type": "histogram2dcontour"
           }
          ],
          "mesh3d": [
           {
            "colorbar": {
             "outlinewidth": 0,
             "ticks": ""
            },
            "type": "mesh3d"
           }
          ],
          "parcoords": [
           {
            "line": {
             "colorbar": {
              "outlinewidth": 0,
              "ticks": ""
             }
            },
            "type": "parcoords"
           }
          ],
          "pie": [
           {
            "automargin": true,
            "type": "pie"
           }
          ],
          "scatter": [
           {
            "fillpattern": {
             "fillmode": "overlay",
             "size": 10,
             "solidity": 0.2
            },
            "type": "scatter"
           }
          ],
          "scatter3d": [
           {
            "line": {
             "colorbar": {
              "outlinewidth": 0,
              "ticks": ""
             }
            },
            "marker": {
             "colorbar": {
              "outlinewidth": 0,
              "ticks": ""
             }
            },
            "type": "scatter3d"
           }
          ],
          "scattercarpet": [
           {
            "marker": {
             "colorbar": {
              "outlinewidth": 0,
              "ticks": ""
             }
            },
            "type": "scattercarpet"
           }
          ],
          "scattergeo": [
           {
            "marker": {
             "colorbar": {
              "outlinewidth": 0,
              "ticks": ""
             }
            },
            "type": "scattergeo"
           }
          ],
          "scattergl": [
           {
            "marker": {
             "colorbar": {
              "outlinewidth": 0,
              "ticks": ""
             }
            },
            "type": "scattergl"
           }
          ],
          "scattermapbox": [
           {
            "marker": {
             "colorbar": {
              "outlinewidth": 0,
              "ticks": ""
             }
            },
            "type": "scattermapbox"
           }
          ],
          "scatterpolar": [
           {
            "marker": {
             "colorbar": {
              "outlinewidth": 0,
              "ticks": ""
             }
            },
            "type": "scatterpolar"
           }
          ],
          "scatterpolargl": [
           {
            "marker": {
             "colorbar": {
              "outlinewidth": 0,
              "ticks": ""
             }
            },
            "type": "scatterpolargl"
           }
          ],
          "scatterternary": [
           {
            "marker": {
             "colorbar": {
              "outlinewidth": 0,
              "ticks": ""
             }
            },
            "type": "scatterternary"
           }
          ],
          "surface": [
           {
            "colorbar": {
             "outlinewidth": 0,
             "ticks": ""
            },
            "colorscale": [
             [
              0,
              "#0d0887"
             ],
             [
              0.1111111111111111,
              "#46039f"
             ],
             [
              0.2222222222222222,
              "#7201a8"
             ],
             [
              0.3333333333333333,
              "#9c179e"
             ],
             [
              0.4444444444444444,
              "#bd3786"
             ],
             [
              0.5555555555555556,
              "#d8576b"
             ],
             [
              0.6666666666666666,
              "#ed7953"
             ],
             [
              0.7777777777777778,
              "#fb9f3a"
             ],
             [
              0.8888888888888888,
              "#fdca26"
             ],
             [
              1,
              "#f0f921"
             ]
            ],
            "type": "surface"
           }
          ],
          "table": [
           {
            "cells": {
             "fill": {
              "color": "#EBF0F8"
             },
             "line": {
              "color": "white"
             }
            },
            "header": {
             "fill": {
              "color": "#C8D4E3"
             },
             "line": {
              "color": "white"
             }
            },
            "type": "table"
           }
          ]
         },
         "layout": {
          "annotationdefaults": {
           "arrowcolor": "#2a3f5f",
           "arrowhead": 0,
           "arrowwidth": 1
          },
          "autotypenumbers": "strict",
          "coloraxis": {
           "colorbar": {
            "outlinewidth": 0,
            "ticks": ""
           }
          },
          "colorscale": {
           "diverging": [
            [
             0,
             "#8e0152"
            ],
            [
             0.1,
             "#c51b7d"
            ],
            [
             0.2,
             "#de77ae"
            ],
            [
             0.3,
             "#f1b6da"
            ],
            [
             0.4,
             "#fde0ef"
            ],
            [
             0.5,
             "#f7f7f7"
            ],
            [
             0.6,
             "#e6f5d0"
            ],
            [
             0.7,
             "#b8e186"
            ],
            [
             0.8,
             "#7fbc41"
            ],
            [
             0.9,
             "#4d9221"
            ],
            [
             1,
             "#276419"
            ]
           ],
           "sequential": [
            [
             0,
             "#0d0887"
            ],
            [
             0.1111111111111111,
             "#46039f"
            ],
            [
             0.2222222222222222,
             "#7201a8"
            ],
            [
             0.3333333333333333,
             "#9c179e"
            ],
            [
             0.4444444444444444,
             "#bd3786"
            ],
            [
             0.5555555555555556,
             "#d8576b"
            ],
            [
             0.6666666666666666,
             "#ed7953"
            ],
            [
             0.7777777777777778,
             "#fb9f3a"
            ],
            [
             0.8888888888888888,
             "#fdca26"
            ],
            [
             1,
             "#f0f921"
            ]
           ],
           "sequentialminus": [
            [
             0,
             "#0d0887"
            ],
            [
             0.1111111111111111,
             "#46039f"
            ],
            [
             0.2222222222222222,
             "#7201a8"
            ],
            [
             0.3333333333333333,
             "#9c179e"
            ],
            [
             0.4444444444444444,
             "#bd3786"
            ],
            [
             0.5555555555555556,
             "#d8576b"
            ],
            [
             0.6666666666666666,
             "#ed7953"
            ],
            [
             0.7777777777777778,
             "#fb9f3a"
            ],
            [
             0.8888888888888888,
             "#fdca26"
            ],
            [
             1,
             "#f0f921"
            ]
           ]
          },
          "colorway": [
           "#636efa",
           "#EF553B",
           "#00cc96",
           "#ab63fa",
           "#FFA15A",
           "#19d3f3",
           "#FF6692",
           "#B6E880",
           "#FF97FF",
           "#FECB52"
          ],
          "font": {
           "color": "#2a3f5f"
          },
          "geo": {
           "bgcolor": "white",
           "lakecolor": "white",
           "landcolor": "#E5ECF6",
           "showlakes": true,
           "showland": true,
           "subunitcolor": "white"
          },
          "hoverlabel": {
           "align": "left"
          },
          "hovermode": "closest",
          "mapbox": {
           "style": "light"
          },
          "paper_bgcolor": "white",
          "plot_bgcolor": "#E5ECF6",
          "polar": {
           "angularaxis": {
            "gridcolor": "white",
            "linecolor": "white",
            "ticks": ""
           },
           "bgcolor": "#E5ECF6",
           "radialaxis": {
            "gridcolor": "white",
            "linecolor": "white",
            "ticks": ""
           }
          },
          "scene": {
           "xaxis": {
            "backgroundcolor": "#E5ECF6",
            "gridcolor": "white",
            "gridwidth": 2,
            "linecolor": "white",
            "showbackground": true,
            "ticks": "",
            "zerolinecolor": "white"
           },
           "yaxis": {
            "backgroundcolor": "#E5ECF6",
            "gridcolor": "white",
            "gridwidth": 2,
            "linecolor": "white",
            "showbackground": true,
            "ticks": "",
            "zerolinecolor": "white"
           },
           "zaxis": {
            "backgroundcolor": "#E5ECF6",
            "gridcolor": "white",
            "gridwidth": 2,
            "linecolor": "white",
            "showbackground": true,
            "ticks": "",
            "zerolinecolor": "white"
           }
          },
          "shapedefaults": {
           "line": {
            "color": "#2a3f5f"
           }
          },
          "ternary": {
           "aaxis": {
            "gridcolor": "white",
            "linecolor": "white",
            "ticks": ""
           },
           "baxis": {
            "gridcolor": "white",
            "linecolor": "white",
            "ticks": ""
           },
           "bgcolor": "#E5ECF6",
           "caxis": {
            "gridcolor": "white",
            "linecolor": "white",
            "ticks": ""
           }
          },
          "title": {
           "x": 0.05
          },
          "xaxis": {
           "automargin": true,
           "gridcolor": "white",
           "linecolor": "white",
           "ticks": "",
           "title": {
            "standoff": 15
           },
           "zerolinecolor": "white",
           "zerolinewidth": 2
          },
          "yaxis": {
           "automargin": true,
           "gridcolor": "white",
           "linecolor": "white",
           "ticks": "",
           "title": {
            "standoff": 15
           },
           "zerolinecolor": "white",
           "zerolinewidth": 2
          }
         }
        },
        "title": {
         "text": "Purchase Count of Segment 322, 222, 122 (2020-08 ~ 2022-07)",
         "x": 0.5,
         "xanchor": "center",
         "y": 0.95,
         "yanchor": "top"
        },
        "width": 1000,
        "xaxis": {
         "anchor": "y",
         "domain": [
          0,
          1
         ],
         "title": {
          "text": "Year-Month"
         }
        },
        "yaxis": {
         "anchor": "x",
         "domain": [
          0,
          1
         ],
         "title": {
          "text": "count"
         }
        }
       }
      }
     },
     "metadata": {},
     "output_type": "display_data"
    }
   ],
   "source": [
    "# 최근 2년 간(2020-06 ~ 2022-07) 방문 수\n",
    "# 2022월 6월, 7월에 session 수(방문 수) 감소 - 6월에는 -7.9%, 7월에는 -27.1%\n",
    "fig = px.line(num_booking_id_rfm[num_booking_id_rfm['RFM_Segment'].isin(['322', '222', '122'])], x='month', y='booking_id', markers=True,\n",
    "              width = 1000, height = 500, color='RFM_Segment')\n",
    "fig.update_xaxes(title='month')\n",
    "fig.update_yaxes(title='count')\n",
    "title = {'text':'Purchase Count of Segment 322, 222, 122 (2020-08 ~ 2022-07)', 'y':0.95,\n",
    "        'x':0.5,'xanchor':'center', 'yanchor':'top'}\n",
    "fig.update_layout(title=title)\n",
    "# 수직선을 그릴 위치\n",
    "vertical_line_position = '2022-05'\n",
    "\n",
    "# 수직선 추가\n",
    "fig.add_shape(type='line',\n",
    "              x0=vertical_line_position, y0=0, x1=vertical_line_position, y1=1,\n",
    "              line=dict(color='red', dash='dash'),\n",
    "              xref='x', yref='paper')\n",
    "\n",
    "# X축 레이블 설정, 범례\n",
    "fig.update_layout(\n",
    "    xaxis=dict(\n",
    "        title=\"Year-Month\"\n",
    "    ),\n",
    "    legend=dict(\n",
    "    traceorder=\"reversed\"\n",
    "    )\n",
    ")"
   ]
  },
  {
   "cell_type": "code",
   "execution_count": 110,
   "metadata": {},
   "outputs": [
    {
     "data": {
      "application/vnd.plotly.v1+json": {
       "config": {
        "plotlyServerURL": "https://plot.ly"
       },
       "data": [
        {
         "hovertemplate": "RFM_Segment=311<br>month=%{x}<br>booking_id=%{y}<extra></extra>",
         "legendgroup": "311",
         "line": {
          "color": "#636efa",
          "dash": "solid"
         },
         "marker": {
          "symbol": "circle"
         },
         "mode": "markers+lines",
         "name": "311",
         "orientation": "v",
         "showlegend": true,
         "type": "scatter",
         "x": [
          "2022-05",
          "2022-06",
          "2022-07"
         ],
         "xaxis": "x",
         "y": [
          945,
          1877,
          2558
         ],
         "yaxis": "y"
        },
        {
         "hovertemplate": "RFM_Segment=312<br>month=%{x}<br>booking_id=%{y}<extra></extra>",
         "legendgroup": "312",
         "line": {
          "color": "#EF553B",
          "dash": "solid"
         },
         "marker": {
          "symbol": "circle"
         },
         "mode": "markers+lines",
         "name": "312",
         "orientation": "v",
         "showlegend": true,
         "type": "scatter",
         "x": [
          "2022-05",
          "2022-06",
          "2022-07"
         ],
         "xaxis": "x",
         "y": [
          126,
          235,
          280
         ],
         "yaxis": "y"
        },
        {
         "hovertemplate": "RFM_Segment=321<br>month=%{x}<br>booking_id=%{y}<extra></extra>",
         "legendgroup": "321",
         "line": {
          "color": "#00cc96",
          "dash": "solid"
         },
         "marker": {
          "symbol": "circle"
         },
         "mode": "markers+lines",
         "name": "321",
         "orientation": "v",
         "showlegend": true,
         "type": "scatter",
         "x": [
          "2022-05",
          "2022-06",
          "2022-07"
         ],
         "xaxis": "x",
         "y": [
          642,
          884,
          1035
         ],
         "yaxis": "y"
        }
       ],
       "layout": {
        "height": 500,
        "legend": {
         "title": {
          "text": "RFM_Segment"
         },
         "tracegroupgap": 0,
         "traceorder": "reversed"
        },
        "margin": {
         "t": 60
        },
        "shapes": [
         {
          "line": {
           "color": "red",
           "dash": "dash"
          },
          "type": "line",
          "x0": "2022-05",
          "x1": "2022-05",
          "xref": "x",
          "y0": 0,
          "y1": 1,
          "yref": "paper"
         }
        ],
        "template": {
         "data": {
          "bar": [
           {
            "error_x": {
             "color": "#2a3f5f"
            },
            "error_y": {
             "color": "#2a3f5f"
            },
            "marker": {
             "line": {
              "color": "#E5ECF6",
              "width": 0.5
             },
             "pattern": {
              "fillmode": "overlay",
              "size": 10,
              "solidity": 0.2
             }
            },
            "type": "bar"
           }
          ],
          "barpolar": [
           {
            "marker": {
             "line": {
              "color": "#E5ECF6",
              "width": 0.5
             },
             "pattern": {
              "fillmode": "overlay",
              "size": 10,
              "solidity": 0.2
             }
            },
            "type": "barpolar"
           }
          ],
          "carpet": [
           {
            "aaxis": {
             "endlinecolor": "#2a3f5f",
             "gridcolor": "white",
             "linecolor": "white",
             "minorgridcolor": "white",
             "startlinecolor": "#2a3f5f"
            },
            "baxis": {
             "endlinecolor": "#2a3f5f",
             "gridcolor": "white",
             "linecolor": "white",
             "minorgridcolor": "white",
             "startlinecolor": "#2a3f5f"
            },
            "type": "carpet"
           }
          ],
          "choropleth": [
           {
            "colorbar": {
             "outlinewidth": 0,
             "ticks": ""
            },
            "type": "choropleth"
           }
          ],
          "contour": [
           {
            "colorbar": {
             "outlinewidth": 0,
             "ticks": ""
            },
            "colorscale": [
             [
              0,
              "#0d0887"
             ],
             [
              0.1111111111111111,
              "#46039f"
             ],
             [
              0.2222222222222222,
              "#7201a8"
             ],
             [
              0.3333333333333333,
              "#9c179e"
             ],
             [
              0.4444444444444444,
              "#bd3786"
             ],
             [
              0.5555555555555556,
              "#d8576b"
             ],
             [
              0.6666666666666666,
              "#ed7953"
             ],
             [
              0.7777777777777778,
              "#fb9f3a"
             ],
             [
              0.8888888888888888,
              "#fdca26"
             ],
             [
              1,
              "#f0f921"
             ]
            ],
            "type": "contour"
           }
          ],
          "contourcarpet": [
           {
            "colorbar": {
             "outlinewidth": 0,
             "ticks": ""
            },
            "type": "contourcarpet"
           }
          ],
          "heatmap": [
           {
            "colorbar": {
             "outlinewidth": 0,
             "ticks": ""
            },
            "colorscale": [
             [
              0,
              "#0d0887"
             ],
             [
              0.1111111111111111,
              "#46039f"
             ],
             [
              0.2222222222222222,
              "#7201a8"
             ],
             [
              0.3333333333333333,
              "#9c179e"
             ],
             [
              0.4444444444444444,
              "#bd3786"
             ],
             [
              0.5555555555555556,
              "#d8576b"
             ],
             [
              0.6666666666666666,
              "#ed7953"
             ],
             [
              0.7777777777777778,
              "#fb9f3a"
             ],
             [
              0.8888888888888888,
              "#fdca26"
             ],
             [
              1,
              "#f0f921"
             ]
            ],
            "type": "heatmap"
           }
          ],
          "heatmapgl": [
           {
            "colorbar": {
             "outlinewidth": 0,
             "ticks": ""
            },
            "colorscale": [
             [
              0,
              "#0d0887"
             ],
             [
              0.1111111111111111,
              "#46039f"
             ],
             [
              0.2222222222222222,
              "#7201a8"
             ],
             [
              0.3333333333333333,
              "#9c179e"
             ],
             [
              0.4444444444444444,
              "#bd3786"
             ],
             [
              0.5555555555555556,
              "#d8576b"
             ],
             [
              0.6666666666666666,
              "#ed7953"
             ],
             [
              0.7777777777777778,
              "#fb9f3a"
             ],
             [
              0.8888888888888888,
              "#fdca26"
             ],
             [
              1,
              "#f0f921"
             ]
            ],
            "type": "heatmapgl"
           }
          ],
          "histogram": [
           {
            "marker": {
             "pattern": {
              "fillmode": "overlay",
              "size": 10,
              "solidity": 0.2
             }
            },
            "type": "histogram"
           }
          ],
          "histogram2d": [
           {
            "colorbar": {
             "outlinewidth": 0,
             "ticks": ""
            },
            "colorscale": [
             [
              0,
              "#0d0887"
             ],
             [
              0.1111111111111111,
              "#46039f"
             ],
             [
              0.2222222222222222,
              "#7201a8"
             ],
             [
              0.3333333333333333,
              "#9c179e"
             ],
             [
              0.4444444444444444,
              "#bd3786"
             ],
             [
              0.5555555555555556,
              "#d8576b"
             ],
             [
              0.6666666666666666,
              "#ed7953"
             ],
             [
              0.7777777777777778,
              "#fb9f3a"
             ],
             [
              0.8888888888888888,
              "#fdca26"
             ],
             [
              1,
              "#f0f921"
             ]
            ],
            "type": "histogram2d"
           }
          ],
          "histogram2dcontour": [
           {
            "colorbar": {
             "outlinewidth": 0,
             "ticks": ""
            },
            "colorscale": [
             [
              0,
              "#0d0887"
             ],
             [
              0.1111111111111111,
              "#46039f"
             ],
             [
              0.2222222222222222,
              "#7201a8"
             ],
             [
              0.3333333333333333,
              "#9c179e"
             ],
             [
              0.4444444444444444,
              "#bd3786"
             ],
             [
              0.5555555555555556,
              "#d8576b"
             ],
             [
              0.6666666666666666,
              "#ed7953"
             ],
             [
              0.7777777777777778,
              "#fb9f3a"
             ],
             [
              0.8888888888888888,
              "#fdca26"
             ],
             [
              1,
              "#f0f921"
             ]
            ],
            "type": "histogram2dcontour"
           }
          ],
          "mesh3d": [
           {
            "colorbar": {
             "outlinewidth": 0,
             "ticks": ""
            },
            "type": "mesh3d"
           }
          ],
          "parcoords": [
           {
            "line": {
             "colorbar": {
              "outlinewidth": 0,
              "ticks": ""
             }
            },
            "type": "parcoords"
           }
          ],
          "pie": [
           {
            "automargin": true,
            "type": "pie"
           }
          ],
          "scatter": [
           {
            "fillpattern": {
             "fillmode": "overlay",
             "size": 10,
             "solidity": 0.2
            },
            "type": "scatter"
           }
          ],
          "scatter3d": [
           {
            "line": {
             "colorbar": {
              "outlinewidth": 0,
              "ticks": ""
             }
            },
            "marker": {
             "colorbar": {
              "outlinewidth": 0,
              "ticks": ""
             }
            },
            "type": "scatter3d"
           }
          ],
          "scattercarpet": [
           {
            "marker": {
             "colorbar": {
              "outlinewidth": 0,
              "ticks": ""
             }
            },
            "type": "scattercarpet"
           }
          ],
          "scattergeo": [
           {
            "marker": {
             "colorbar": {
              "outlinewidth": 0,
              "ticks": ""
             }
            },
            "type": "scattergeo"
           }
          ],
          "scattergl": [
           {
            "marker": {
             "colorbar": {
              "outlinewidth": 0,
              "ticks": ""
             }
            },
            "type": "scattergl"
           }
          ],
          "scattermapbox": [
           {
            "marker": {
             "colorbar": {
              "outlinewidth": 0,
              "ticks": ""
             }
            },
            "type": "scattermapbox"
           }
          ],
          "scatterpolar": [
           {
            "marker": {
             "colorbar": {
              "outlinewidth": 0,
              "ticks": ""
             }
            },
            "type": "scatterpolar"
           }
          ],
          "scatterpolargl": [
           {
            "marker": {
             "colorbar": {
              "outlinewidth": 0,
              "ticks": ""
             }
            },
            "type": "scatterpolargl"
           }
          ],
          "scatterternary": [
           {
            "marker": {
             "colorbar": {
              "outlinewidth": 0,
              "ticks": ""
             }
            },
            "type": "scatterternary"
           }
          ],
          "surface": [
           {
            "colorbar": {
             "outlinewidth": 0,
             "ticks": ""
            },
            "colorscale": [
             [
              0,
              "#0d0887"
             ],
             [
              0.1111111111111111,
              "#46039f"
             ],
             [
              0.2222222222222222,
              "#7201a8"
             ],
             [
              0.3333333333333333,
              "#9c179e"
             ],
             [
              0.4444444444444444,
              "#bd3786"
             ],
             [
              0.5555555555555556,
              "#d8576b"
             ],
             [
              0.6666666666666666,
              "#ed7953"
             ],
             [
              0.7777777777777778,
              "#fb9f3a"
             ],
             [
              0.8888888888888888,
              "#fdca26"
             ],
             [
              1,
              "#f0f921"
             ]
            ],
            "type": "surface"
           }
          ],
          "table": [
           {
            "cells": {
             "fill": {
              "color": "#EBF0F8"
             },
             "line": {
              "color": "white"
             }
            },
            "header": {
             "fill": {
              "color": "#C8D4E3"
             },
             "line": {
              "color": "white"
             }
            },
            "type": "table"
           }
          ]
         },
         "layout": {
          "annotationdefaults": {
           "arrowcolor": "#2a3f5f",
           "arrowhead": 0,
           "arrowwidth": 1
          },
          "autotypenumbers": "strict",
          "coloraxis": {
           "colorbar": {
            "outlinewidth": 0,
            "ticks": ""
           }
          },
          "colorscale": {
           "diverging": [
            [
             0,
             "#8e0152"
            ],
            [
             0.1,
             "#c51b7d"
            ],
            [
             0.2,
             "#de77ae"
            ],
            [
             0.3,
             "#f1b6da"
            ],
            [
             0.4,
             "#fde0ef"
            ],
            [
             0.5,
             "#f7f7f7"
            ],
            [
             0.6,
             "#e6f5d0"
            ],
            [
             0.7,
             "#b8e186"
            ],
            [
             0.8,
             "#7fbc41"
            ],
            [
             0.9,
             "#4d9221"
            ],
            [
             1,
             "#276419"
            ]
           ],
           "sequential": [
            [
             0,
             "#0d0887"
            ],
            [
             0.1111111111111111,
             "#46039f"
            ],
            [
             0.2222222222222222,
             "#7201a8"
            ],
            [
             0.3333333333333333,
             "#9c179e"
            ],
            [
             0.4444444444444444,
             "#bd3786"
            ],
            [
             0.5555555555555556,
             "#d8576b"
            ],
            [
             0.6666666666666666,
             "#ed7953"
            ],
            [
             0.7777777777777778,
             "#fb9f3a"
            ],
            [
             0.8888888888888888,
             "#fdca26"
            ],
            [
             1,
             "#f0f921"
            ]
           ],
           "sequentialminus": [
            [
             0,
             "#0d0887"
            ],
            [
             0.1111111111111111,
             "#46039f"
            ],
            [
             0.2222222222222222,
             "#7201a8"
            ],
            [
             0.3333333333333333,
             "#9c179e"
            ],
            [
             0.4444444444444444,
             "#bd3786"
            ],
            [
             0.5555555555555556,
             "#d8576b"
            ],
            [
             0.6666666666666666,
             "#ed7953"
            ],
            [
             0.7777777777777778,
             "#fb9f3a"
            ],
            [
             0.8888888888888888,
             "#fdca26"
            ],
            [
             1,
             "#f0f921"
            ]
           ]
          },
          "colorway": [
           "#636efa",
           "#EF553B",
           "#00cc96",
           "#ab63fa",
           "#FFA15A",
           "#19d3f3",
           "#FF6692",
           "#B6E880",
           "#FF97FF",
           "#FECB52"
          ],
          "font": {
           "color": "#2a3f5f"
          },
          "geo": {
           "bgcolor": "white",
           "lakecolor": "white",
           "landcolor": "#E5ECF6",
           "showlakes": true,
           "showland": true,
           "subunitcolor": "white"
          },
          "hoverlabel": {
           "align": "left"
          },
          "hovermode": "closest",
          "mapbox": {
           "style": "light"
          },
          "paper_bgcolor": "white",
          "plot_bgcolor": "#E5ECF6",
          "polar": {
           "angularaxis": {
            "gridcolor": "white",
            "linecolor": "white",
            "ticks": ""
           },
           "bgcolor": "#E5ECF6",
           "radialaxis": {
            "gridcolor": "white",
            "linecolor": "white",
            "ticks": ""
           }
          },
          "scene": {
           "xaxis": {
            "backgroundcolor": "#E5ECF6",
            "gridcolor": "white",
            "gridwidth": 2,
            "linecolor": "white",
            "showbackground": true,
            "ticks": "",
            "zerolinecolor": "white"
           },
           "yaxis": {
            "backgroundcolor": "#E5ECF6",
            "gridcolor": "white",
            "gridwidth": 2,
            "linecolor": "white",
            "showbackground": true,
            "ticks": "",
            "zerolinecolor": "white"
           },
           "zaxis": {
            "backgroundcolor": "#E5ECF6",
            "gridcolor": "white",
            "gridwidth": 2,
            "linecolor": "white",
            "showbackground": true,
            "ticks": "",
            "zerolinecolor": "white"
           }
          },
          "shapedefaults": {
           "line": {
            "color": "#2a3f5f"
           }
          },
          "ternary": {
           "aaxis": {
            "gridcolor": "white",
            "linecolor": "white",
            "ticks": ""
           },
           "baxis": {
            "gridcolor": "white",
            "linecolor": "white",
            "ticks": ""
           },
           "bgcolor": "#E5ECF6",
           "caxis": {
            "gridcolor": "white",
            "linecolor": "white",
            "ticks": ""
           }
          },
          "title": {
           "x": 0.05
          },
          "xaxis": {
           "automargin": true,
           "gridcolor": "white",
           "linecolor": "white",
           "ticks": "",
           "title": {
            "standoff": 15
           },
           "zerolinecolor": "white",
           "zerolinewidth": 2
          },
          "yaxis": {
           "automargin": true,
           "gridcolor": "white",
           "linecolor": "white",
           "ticks": "",
           "title": {
            "standoff": 15
           },
           "zerolinecolor": "white",
           "zerolinewidth": 2
          }
         }
        },
        "title": {
         "text": "Purchase Count of Segment (2022-05 ~ 2022-07)",
         "x": 0.5,
         "xanchor": "center",
         "y": 0.95,
         "yanchor": "top"
        },
        "width": 1000,
        "xaxis": {
         "anchor": "y",
         "domain": [
          0,
          1
         ],
         "title": {
          "text": "Year-Month"
         }
        },
        "yaxis": {
         "anchor": "x",
         "domain": [
          0,
          1
         ],
         "title": {
          "text": "count"
         }
        }
       }
      }
     },
     "metadata": {},
     "output_type": "display_data"
    }
   ],
   "source": [
    "# 최근 2년 간(2020-06 ~ 2022-07) 방문 수\n",
    "# 2022월 6월, 7월에 session 수(방문 수) 감소 - 6월에는 -7.9%, 7월에는 -27.1%\n",
    "fig = px.line(num_booking_id_rfm[(num_booking_id_rfm.month>='2022-05') & (num_booking_id_rfm.RFM_Segment.isin(['321', '311', '312']))], x='month', y='booking_id', markers=True,\n",
    "              width = 1000, height = 500, color='RFM_Segment')\n",
    "fig.update_xaxes(title='month')\n",
    "fig.update_yaxes(title='count')\n",
    "title = {'text':'Purchase Count of Segment (2022-05 ~ 2022-07)', 'y':0.95,\n",
    "        'x':0.5,'xanchor':'center', 'yanchor':'top'}\n",
    "fig.update_layout(title=title)\n",
    "# 수직선을 그릴 위치\n",
    "vertical_line_position = '2022-05'\n",
    "\n",
    "# 수직선 추가\n",
    "fig.add_shape(type='line',\n",
    "              x0=vertical_line_position, y0=0, x1=vertical_line_position, y1=1,\n",
    "              line=dict(color='red', dash='dash'),\n",
    "              xref='x', yref='paper')\n",
    "\n",
    "# X축 레이블 설정, 범례\n",
    "fig.update_layout(\n",
    "    xaxis=dict(\n",
    "        title=\"Year-Month\"\n",
    "    ),\n",
    "    legend=dict(\n",
    "    traceorder=\"reversed\"\n",
    "    )\n",
    ")"
   ]
  },
  {
   "cell_type": "code",
   "execution_count": 95,
   "metadata": {},
   "outputs": [],
   "source": [
    "# # 모든 세그먼트 구매횟수\n",
    "# plt.figure(figsize=(15,9))\n",
    "# sns.lineplot(num_booking_id_rfm[(num_booking_id_rfm.month>='2022-05') & (num_booking_id_rfm.RFM_Segment!='322')], x='month', y='booking_id', hue='RFM_Segment')\n",
    "# plt.xticks(rotation = 90)\n",
    "# plt.axvline('2022-06', color='red', linestyle='dotted')\n",
    "# plt.title('Purchase Count of All Segments')\n",
    "# plt.show()"
   ]
  },
  {
   "cell_type": "code",
   "execution_count": 94,
   "metadata": {},
   "outputs": [],
   "source": [
    "# # 목표 세그먼트(322. 222. 122) 구매횟수\n",
    "# plt.figure(figsize=(15,9))\n",
    "# sns.lineplot(num_booking_id_rfm[num_booking_id_rfm['RFM_Segment'].isin(['322', '222', '122'])], x='month', y='booking_id', hue='RFM_Segment', hue_order=['322', '222', '122'])\n",
    "# label =['2020-08', '2021-01', '2022-01', '2022-05', '2022-06', '2022-07']\n",
    "# x_ticks = [month if month in label else '' for month in num_booking_id_rfm.month]\n",
    "# plt.xticks(x_ticks, rotation = 90)\n",
    "# plt.axvline('2022-06', color='red', linestyle='dotted')\n",
    "# plt.title('Purchase Count of Segment 322, 222, 122')\n",
    "# plt.show()"
   ]
  },
  {
   "attachments": {},
   "cell_type": "markdown",
   "metadata": {},
   "source": [
    "### Segment별 장바구니 담기 수"
   ]
  },
  {
   "cell_type": "code",
   "execution_count": 26,
   "metadata": {},
   "outputs": [
    {
     "data": {
      "text/html": [
       "<div>\n",
       "<style scoped>\n",
       "    .dataframe tbody tr th:only-of-type {\n",
       "        vertical-align: middle;\n",
       "    }\n",
       "\n",
       "    .dataframe tbody tr th {\n",
       "        vertical-align: top;\n",
       "    }\n",
       "\n",
       "    .dataframe thead th {\n",
       "        text-align: right;\n",
       "    }\n",
       "</style>\n",
       "<table border=\"1\" class=\"dataframe\">\n",
       "  <thead>\n",
       "    <tr style=\"text-align: right;\">\n",
       "      <th></th>\n",
       "      <th>month</th>\n",
       "      <th>RFM_Segment</th>\n",
       "      <th>session_id</th>\n",
       "    </tr>\n",
       "  </thead>\n",
       "  <tbody>\n",
       "    <tr>\n",
       "      <th>0</th>\n",
       "      <td>2016-07</td>\n",
       "      <td>122.00</td>\n",
       "      <td>23</td>\n",
       "    </tr>\n",
       "    <tr>\n",
       "      <th>1</th>\n",
       "      <td>2016-07</td>\n",
       "      <td>222.00</td>\n",
       "      <td>92</td>\n",
       "    </tr>\n",
       "    <tr>\n",
       "      <th>2</th>\n",
       "      <td>2016-07</td>\n",
       "      <td>322.00</td>\n",
       "      <td>74</td>\n",
       "    </tr>\n",
       "    <tr>\n",
       "      <th>3</th>\n",
       "      <td>2016-08</td>\n",
       "      <td>122.00</td>\n",
       "      <td>28</td>\n",
       "    </tr>\n",
       "    <tr>\n",
       "      <th>4</th>\n",
       "      <td>2016-08</td>\n",
       "      <td>222.00</td>\n",
       "      <td>192</td>\n",
       "    </tr>\n",
       "    <tr>\n",
       "      <th>...</th>\n",
       "      <td>...</td>\n",
       "      <td>...</td>\n",
       "      <td>...</td>\n",
       "    </tr>\n",
       "    <tr>\n",
       "      <th>207</th>\n",
       "      <td>2022-05</td>\n",
       "      <td>222.00</td>\n",
       "      <td>8748</td>\n",
       "    </tr>\n",
       "    <tr>\n",
       "      <th>208</th>\n",
       "      <td>2022-05</td>\n",
       "      <td>322.00</td>\n",
       "      <td>38408</td>\n",
       "    </tr>\n",
       "    <tr>\n",
       "      <th>209</th>\n",
       "      <td>2022-06</td>\n",
       "      <td>222.00</td>\n",
       "      <td>936</td>\n",
       "    </tr>\n",
       "    <tr>\n",
       "      <th>210</th>\n",
       "      <td>2022-06</td>\n",
       "      <td>322.00</td>\n",
       "      <td>39750</td>\n",
       "    </tr>\n",
       "    <tr>\n",
       "      <th>211</th>\n",
       "      <td>2022-07</td>\n",
       "      <td>322.00</td>\n",
       "      <td>25473</td>\n",
       "    </tr>\n",
       "  </tbody>\n",
       "</table>\n",
       "<p>212 rows × 3 columns</p>\n",
       "</div>"
      ],
      "text/plain": [
       "       month  RFM_Segment  session_id\n",
       "0    2016-07       122.00          23\n",
       "1    2016-07       222.00          92\n",
       "2    2016-07       322.00          74\n",
       "3    2016-08       122.00          28\n",
       "4    2016-08       222.00         192\n",
       "..       ...          ...         ...\n",
       "207  2022-05       222.00        8748\n",
       "208  2022-05       322.00       38408\n",
       "209  2022-06       222.00         936\n",
       "210  2022-06       322.00       39750\n",
       "211  2022-07       322.00       25473\n",
       "\n",
       "[212 rows x 3 columns]"
      ]
     },
     "execution_count": 26,
     "metadata": {},
     "output_type": "execute_result"
    }
   ],
   "source": [
    "cart_id = df_target_segment[df_target_segment['event_name'] == 'ADD_TO_CART'].session_id.unique()\n",
    "num_cart_rfm = df_target_segment[df_target_segment['session_id'].isin(cart_id)].groupby(['month','RFM_Segment']).session_id.nunique()\n",
    "num_cart_rfm = pd.DataFrame(num_cart_rfm)\n",
    "num_cart_rfm.reset_index(inplace=True)\n",
    "num_cart_rfm"
   ]
  },
  {
   "cell_type": "code",
   "execution_count": 27,
   "metadata": {},
   "outputs": [
    {
     "name": "stderr",
     "output_type": "stream",
     "text": [
      "/var/folders/72/sf0gd2_15c7bv2klzkjcqt580000gn/T/ipykernel_1613/452092917.py:3: SettingWithCopyWarning: \n",
      "A value is trying to be set on a copy of a slice from a DataFrame.\n",
      "Try using .loc[row_indexer,col_indexer] = value instead\n",
      "\n",
      "See the caveats in the documentation: https://pandas.pydata.org/pandas-docs/stable/user_guide/indexing.html#returning-a-view-versus-a-copy\n",
      "  num_cart_rfm.month = num_cart_rfm.month.astype('str')\n",
      "/var/folders/72/sf0gd2_15c7bv2klzkjcqt580000gn/T/ipykernel_1613/452092917.py:4: SettingWithCopyWarning: \n",
      "A value is trying to be set on a copy of a slice from a DataFrame\n",
      "\n",
      "See the caveats in the documentation: https://pandas.pydata.org/pandas-docs/stable/user_guide/indexing.html#returning-a-view-versus-a-copy\n",
      "  num_cart_rfm.rename(columns={'session_id':'num_add_to_cart'}, inplace=True)\n"
     ]
    }
   ],
   "source": [
    "num_cart_rfm.RFM_Segment = num_cart_rfm.RFM_Segment.astype('int').astype('str')\n",
    "num_cart_rfm = num_cart_rfm[(num_cart_rfm.month >= '2020-08') & (num_cart_rfm.month <= '2022-07')]\n",
    "num_cart_rfm.month = num_cart_rfm.month.astype('str')\n",
    "num_cart_rfm.rename(columns={'session_id':'num_add_to_cart'}, inplace=True)"
   ]
  },
  {
   "cell_type": "code",
   "execution_count": 28,
   "metadata": {},
   "outputs": [
    {
     "data": {
      "image/png": "[encoded data removed]",
      "text/plain": [
       "<Figure size 1500x900 with 1 Axes>"
      ]
     },
     "metadata": {},
     "output_type": "display_data"
    }
   ],
   "source": [
    "# 목표 세그먼트(322. 222. 122) 장바구니 담기 수\n",
    "plt.figure(figsize=(15,9))\n",
    "sns.lineplot(num_cart_rfm, x='month', y='num_add_to_cart', hue='RFM_Segment', hue_order=['322', '222', '122'])\n",
    "label =['2020-08', '2021-01', '2022-01', '2022-05', '2022-06', '2022-07']\n",
    "x_ticks = [month if month in label else '' for month in num_cart_rfm.month]\n",
    "plt.xticks(x_ticks, rotation = 90)\n",
    "plt.axvline('2022-06', color='red', linestyle='dotted')\n",
    "plt.title('ADD_TO_CART Count of Segment 322, 222, 122')\n",
    "plt.show()"
   ]
  },
  {
   "attachments": {},
   "cell_type": "markdown",
   "metadata": {},
   "source": [
    "### Segment별 방문주기"
   ]
  },
  {
   "attachments": {},
   "cell_type": "markdown",
   "metadata": {},
   "source": [
    "결론 <br>\n",
    "122 36 days 21:03:32.145359428 <br>\n",
    "222 10 days 17:58:26.765206542 <br>\n",
    "322 2 days 09:21:25.858851154 <br>\n",
    "\n",
    "최근성이 높은 Segment일수록 재방문주기가 짧다. 방문의 영향력이 높다?"
   ]
  },
  {
   "cell_type": "code",
   "execution_count": 29,
   "metadata": {},
   "outputs": [
    {
     "name": "stderr",
     "output_type": "stream",
     "text": [
      "/var/folders/72/sf0gd2_15c7bv2klzkjcqt580000gn/T/ipykernel_1613/3707906949.py:1: SettingWithCopyWarning: \n",
      "A value is trying to be set on a copy of a slice from a DataFrame.\n",
      "Try using .loc[row_indexer,col_indexer] = value instead\n",
      "\n",
      "See the caveats in the documentation: https://pandas.pydata.org/pandas-docs/stable/user_guide/indexing.html#returning-a-view-versus-a-copy\n",
      "  df_target_segment.event_time = pd.to_datetime(df_target_segment.event_time)\n"
     ]
    }
   ],
   "source": [
    "df_target_segment.event_time = pd.to_datetime(df_target_segment.event_time)"
   ]
  },
  {
   "cell_type": "code",
   "execution_count": 30,
   "metadata": {},
   "outputs": [],
   "source": [
    "df_122 = df_target_segment[df_target_segment['RFM_Segment'] == 122]\n",
    "df_222 = df_target_segment[df_target_segment['RFM_Segment'] == 222]\n",
    "df_322 = df_target_segment[df_target_segment['RFM_Segment'] == 322]"
   ]
  },
  {
   "cell_type": "code",
   "execution_count": 31,
   "metadata": {},
   "outputs": [
    {
     "data": {
      "text/html": [
       "<div>\n",
       "<style scoped>\n",
       "    .dataframe tbody tr th:only-of-type {\n",
       "        vertical-align: middle;\n",
       "    }\n",
       "\n",
       "    .dataframe tbody tr th {\n",
       "        vertical-align: top;\n",
       "    }\n",
       "\n",
       "    .dataframe thead th {\n",
       "        text-align: right;\n",
       "    }\n",
       "</style>\n",
       "<table border=\"1\" class=\"dataframe\">\n",
       "  <thead>\n",
       "    <tr style=\"text-align: right;\">\n",
       "      <th></th>\n",
       "      <th>customer_id</th>\n",
       "      <th>session_id</th>\n",
       "      <th>event_time</th>\n",
       "    </tr>\n",
       "  </thead>\n",
       "  <tbody>\n",
       "    <tr>\n",
       "      <th>3297453</th>\n",
       "      <td>41.00</td>\n",
       "      <td>ad12d8dd-bebe-4e8d-848b-c4728d7db581_1_0</td>\n",
       "      <td>2020-03-23 20:28:12.870908+00:00</td>\n",
       "    </tr>\n",
       "    <tr>\n",
       "      <th>68837</th>\n",
       "      <td>67.00</td>\n",
       "      <td>3179a7fb-d507-4e99-bc29-e322e2bcbb41_0</td>\n",
       "      <td>2017-11-13 14:55:29.283536+00:00</td>\n",
       "    </tr>\n",
       "    <tr>\n",
       "      <th>559072</th>\n",
       "      <td>67.00</td>\n",
       "      <td>7214bbe3-bd36-48b0-9016-a5bbf00adef8_0</td>\n",
       "      <td>2018-01-24 18:03:56.495255+00:00</td>\n",
       "    </tr>\n",
       "    <tr>\n",
       "      <th>559073</th>\n",
       "      <td>67.00</td>\n",
       "      <td>7214bbe3-bd36-48b0-9016-a5bbf00adef8_1</td>\n",
       "      <td>2018-02-22 18:39:39.495255+00:00</td>\n",
       "    </tr>\n",
       "    <tr>\n",
       "      <th>559075</th>\n",
       "      <td>67.00</td>\n",
       "      <td>7214bbe3-bd36-48b0-9016-a5bbf00adef8_2</td>\n",
       "      <td>2018-03-23 18:41:17.495255+00:00</td>\n",
       "    </tr>\n",
       "    <tr>\n",
       "      <th>...</th>\n",
       "      <td>...</td>\n",
       "      <td>...</td>\n",
       "      <td>...</td>\n",
       "    </tr>\n",
       "    <tr>\n",
       "      <th>1609123</th>\n",
       "      <td>99841.00</td>\n",
       "      <td>9881e1f5-2272-4994-bf66-59b495102078_7</td>\n",
       "      <td>2018-11-30 09:57:47.941003+00:00</td>\n",
       "    </tr>\n",
       "    <tr>\n",
       "      <th>5068719</th>\n",
       "      <td>99841.00</td>\n",
       "      <td>cad22c4a-96ba-4f49-856b-469506bdf026_3_0</td>\n",
       "      <td>2020-08-19 17:50:46.941003+00:00</td>\n",
       "    </tr>\n",
       "    <tr>\n",
       "      <th>5068720</th>\n",
       "      <td>99841.00</td>\n",
       "      <td>cad22c4a-96ba-4f49-856b-469506bdf026_3_1</td>\n",
       "      <td>2020-08-27 21:51:33.941003+00:00</td>\n",
       "    </tr>\n",
       "    <tr>\n",
       "      <th>5068722</th>\n",
       "      <td>99841.00</td>\n",
       "      <td>cad22c4a-96ba-4f49-856b-469506bdf026_3_2</td>\n",
       "      <td>2020-09-05 02:15:49.941003+00:00</td>\n",
       "    </tr>\n",
       "    <tr>\n",
       "      <th>5068724</th>\n",
       "      <td>99841.00</td>\n",
       "      <td>cad22c4a-96ba-4f49-856b-469506bdf026_3_3</td>\n",
       "      <td>2020-09-29 15:06:54.941003+00:00</td>\n",
       "    </tr>\n",
       "  </tbody>\n",
       "</table>\n",
       "<p>43717 rows × 3 columns</p>\n",
       "</div>"
      ],
      "text/plain": [
       "         customer_id                                session_id  \\\n",
       "3297453        41.00  ad12d8dd-bebe-4e8d-848b-c4728d7db581_1_0   \n",
       "68837          67.00    3179a7fb-d507-4e99-bc29-e322e2bcbb41_0   \n",
       "559072         67.00    7214bbe3-bd36-48b0-9016-a5bbf00adef8_0   \n",
       "559073         67.00    7214bbe3-bd36-48b0-9016-a5bbf00adef8_1   \n",
       "559075         67.00    7214bbe3-bd36-48b0-9016-a5bbf00adef8_2   \n",
       "...              ...                                       ...   \n",
       "1609123     99841.00    9881e1f5-2272-4994-bf66-59b495102078_7   \n",
       "5068719     99841.00  cad22c4a-96ba-4f49-856b-469506bdf026_3_0   \n",
       "5068720     99841.00  cad22c4a-96ba-4f49-856b-469506bdf026_3_1   \n",
       "5068722     99841.00  cad22c4a-96ba-4f49-856b-469506bdf026_3_2   \n",
       "5068724     99841.00  cad22c4a-96ba-4f49-856b-469506bdf026_3_3   \n",
       "\n",
       "                              event_time  \n",
       "3297453 2020-03-23 20:28:12.870908+00:00  \n",
       "68837   2017-11-13 14:55:29.283536+00:00  \n",
       "559072  2018-01-24 18:03:56.495255+00:00  \n",
       "559073  2018-02-22 18:39:39.495255+00:00  \n",
       "559075  2018-03-23 18:41:17.495255+00:00  \n",
       "...                                  ...  \n",
       "1609123 2018-11-30 09:57:47.941003+00:00  \n",
       "5068719 2020-08-19 17:50:46.941003+00:00  \n",
       "5068720 2020-08-27 21:51:33.941003+00:00  \n",
       "5068722 2020-09-05 02:15:49.941003+00:00  \n",
       "5068724 2020-09-29 15:06:54.941003+00:00  \n",
       "\n",
       "[43717 rows x 3 columns]"
      ]
     },
     "execution_count": 31,
     "metadata": {},
     "output_type": "execute_result"
    }
   ],
   "source": [
    "df_122 = df_122.sort_values(by=['customer_id', 'event_time'])\n",
    "df_122_head = df_122.groupby(['customer_id', 'session_id'])[['customer_id', 'session_id', 'event_time']].head(1)\n",
    "df_122_head"
   ]
  },
  {
   "cell_type": "code",
   "execution_count": 32,
   "metadata": {},
   "outputs": [
    {
     "data": {
      "text/html": [
       "<div>\n",
       "<style scoped>\n",
       "    .dataframe tbody tr th:only-of-type {\n",
       "        vertical-align: middle;\n",
       "    }\n",
       "\n",
       "    .dataframe tbody tr th {\n",
       "        vertical-align: top;\n",
       "    }\n",
       "\n",
       "    .dataframe thead th {\n",
       "        text-align: right;\n",
       "    }\n",
       "</style>\n",
       "<table border=\"1\" class=\"dataframe\">\n",
       "  <thead>\n",
       "    <tr style=\"text-align: right;\">\n",
       "      <th></th>\n",
       "      <th>customer_id</th>\n",
       "      <th>session_id</th>\n",
       "      <th>event_time</th>\n",
       "    </tr>\n",
       "  </thead>\n",
       "  <tbody>\n",
       "    <tr>\n",
       "      <th>3297468</th>\n",
       "      <td>41.00</td>\n",
       "      <td>ad12d8dd-bebe-4e8d-848b-c4728d7db581_1_0</td>\n",
       "      <td>2020-03-23 20:55:00.371538+00:00</td>\n",
       "    </tr>\n",
       "    <tr>\n",
       "      <th>68842</th>\n",
       "      <td>67.00</td>\n",
       "      <td>3179a7fb-d507-4e99-bc29-e322e2bcbb41_0</td>\n",
       "      <td>2017-11-13 15:37:28.495255+00:00</td>\n",
       "    </tr>\n",
       "    <tr>\n",
       "      <th>559072</th>\n",
       "      <td>67.00</td>\n",
       "      <td>7214bbe3-bd36-48b0-9016-a5bbf00adef8_0</td>\n",
       "      <td>2018-01-24 18:03:56.495255+00:00</td>\n",
       "    </tr>\n",
       "    <tr>\n",
       "      <th>559074</th>\n",
       "      <td>67.00</td>\n",
       "      <td>7214bbe3-bd36-48b0-9016-a5bbf00adef8_1</td>\n",
       "      <td>2018-02-22 18:42:54.495255+00:00</td>\n",
       "    </tr>\n",
       "    <tr>\n",
       "      <th>559075</th>\n",
       "      <td>67.00</td>\n",
       "      <td>7214bbe3-bd36-48b0-9016-a5bbf00adef8_2</td>\n",
       "      <td>2018-03-23 18:41:17.495255+00:00</td>\n",
       "    </tr>\n",
       "    <tr>\n",
       "      <th>...</th>\n",
       "      <td>...</td>\n",
       "      <td>...</td>\n",
       "      <td>...</td>\n",
       "    </tr>\n",
       "    <tr>\n",
       "      <th>1609123</th>\n",
       "      <td>99841.00</td>\n",
       "      <td>9881e1f5-2272-4994-bf66-59b495102078_7</td>\n",
       "      <td>2018-11-30 09:57:47.941003+00:00</td>\n",
       "    </tr>\n",
       "    <tr>\n",
       "      <th>5068719</th>\n",
       "      <td>99841.00</td>\n",
       "      <td>cad22c4a-96ba-4f49-856b-469506bdf026_3_0</td>\n",
       "      <td>2020-08-19 17:50:46.941003+00:00</td>\n",
       "    </tr>\n",
       "    <tr>\n",
       "      <th>5068721</th>\n",
       "      <td>99841.00</td>\n",
       "      <td>cad22c4a-96ba-4f49-856b-469506bdf026_3_1</td>\n",
       "      <td>2020-08-27 22:18:16.941003+00:00</td>\n",
       "    </tr>\n",
       "    <tr>\n",
       "      <th>5068723</th>\n",
       "      <td>99841.00</td>\n",
       "      <td>cad22c4a-96ba-4f49-856b-469506bdf026_3_2</td>\n",
       "      <td>2020-09-05 02:19:56.941003+00:00</td>\n",
       "    </tr>\n",
       "    <tr>\n",
       "      <th>5068724</th>\n",
       "      <td>99841.00</td>\n",
       "      <td>cad22c4a-96ba-4f49-856b-469506bdf026_3_3</td>\n",
       "      <td>2020-09-29 15:06:54.941003+00:00</td>\n",
       "    </tr>\n",
       "  </tbody>\n",
       "</table>\n",
       "<p>43717 rows × 3 columns</p>\n",
       "</div>"
      ],
      "text/plain": [
       "         customer_id                                session_id  \\\n",
       "3297468        41.00  ad12d8dd-bebe-4e8d-848b-c4728d7db581_1_0   \n",
       "68842          67.00    3179a7fb-d507-4e99-bc29-e322e2bcbb41_0   \n",
       "559072         67.00    7214bbe3-bd36-48b0-9016-a5bbf00adef8_0   \n",
       "559074         67.00    7214bbe3-bd36-48b0-9016-a5bbf00adef8_1   \n",
       "559075         67.00    7214bbe3-bd36-48b0-9016-a5bbf00adef8_2   \n",
       "...              ...                                       ...   \n",
       "1609123     99841.00    9881e1f5-2272-4994-bf66-59b495102078_7   \n",
       "5068719     99841.00  cad22c4a-96ba-4f49-856b-469506bdf026_3_0   \n",
       "5068721     99841.00  cad22c4a-96ba-4f49-856b-469506bdf026_3_1   \n",
       "5068723     99841.00  cad22c4a-96ba-4f49-856b-469506bdf026_3_2   \n",
       "5068724     99841.00  cad22c4a-96ba-4f49-856b-469506bdf026_3_3   \n",
       "\n",
       "                              event_time  \n",
       "3297468 2020-03-23 20:55:00.371538+00:00  \n",
       "68842   2017-11-13 15:37:28.495255+00:00  \n",
       "559072  2018-01-24 18:03:56.495255+00:00  \n",
       "559074  2018-02-22 18:42:54.495255+00:00  \n",
       "559075  2018-03-23 18:41:17.495255+00:00  \n",
       "...                                  ...  \n",
       "1609123 2018-11-30 09:57:47.941003+00:00  \n",
       "5068719 2020-08-19 17:50:46.941003+00:00  \n",
       "5068721 2020-08-27 22:18:16.941003+00:00  \n",
       "5068723 2020-09-05 02:19:56.941003+00:00  \n",
       "5068724 2020-09-29 15:06:54.941003+00:00  \n",
       "\n",
       "[43717 rows x 3 columns]"
      ]
     },
     "execution_count": 32,
     "metadata": {},
     "output_type": "execute_result"
    }
   ],
   "source": [
    "df_122_tail = df_122.groupby(['customer_id', 'session_id'])[['customer_id', 'session_id', 'event_time']].tail(1)\n",
    "df_122_tail"
   ]
  },
  {
   "cell_type": "code",
   "execution_count": 33,
   "metadata": {},
   "outputs": [
    {
     "data": {
      "text/plain": [
       "customer_id\n",
       "41.00                             NaT\n",
       "67.00      23 days 10:31:03.825396825\n",
       "90.00      29 days 13:53:50.280701754\n",
       "169.00     33 days 22:36:04.961538461\n",
       "230.00     35 days 10:01:53.058823529\n",
       "                      ...            \n",
       "99637.00    9 days 21:24:11.133802816\n",
       "99698.00      24 days 19:05:09.750000\n",
       "99705.00   18 days 06:49:38.755555555\n",
       "99783.00   35 days 00:24:40.791666666\n",
       "99841.00     111 days 12:51:22.250000\n",
       "Name: revisit, Length: 1040, dtype: timedelta64[ns]"
      ]
     },
     "execution_count": 33,
     "metadata": {},
     "output_type": "execute_result"
    }
   ],
   "source": [
    "df_122_H_T = pd.concat([df_122_head, df_122_tail], axis = 0)\n",
    "df_122_H_T = df_122_H_T.sort_values(['customer_id', 'event_time'])\n",
    "df_122_H_T['revisit'] = df_122_H_T.groupby('customer_id')['event_time'].diff()\n",
    "df_odd_rows = df_122_H_T.groupby('customer_id').apply(lambda x: x.iloc[::2]).reset_index(drop=True)\n",
    "df_odd_rows.groupby('customer_id').revisit.mean()"
   ]
  },
  {
   "cell_type": "code",
   "execution_count": 34,
   "metadata": {},
   "outputs": [],
   "source": [
    "# 방문주기 계산 함수\n",
    "def revisit(df):\n",
    "    df = df.sort_values(by=['customer_id', 'event_time'])\n",
    "    # customer_id별 한 session의 첫번째 이벤트\n",
    "    df_head = df.groupby(['customer_id', 'session_id'])[['customer_id', 'session_id', 'event_time']].head(1)\n",
    "    # customer_id별 한 session의 마지막 이벤트\n",
    "    df_tail = df.groupby(['customer_id', 'session_id'])[['customer_id', 'session_id', 'event_time']].tail(1)\n",
    "\n",
    "    # customer_id별 한 session의 첫번째, 마지막 이벤트 나열\n",
    "    df_H_T = pd.concat([df_head, df_tail], axis = 0)\n",
    "    df_H_T = df_H_T.sort_values(['customer_id', 'event_time'])\n",
    "    \n",
    "    # 이벤트 간 차이 구하기\n",
    "    df_H_T['revisit'] = df_H_T.groupby('customer_id')['event_time'].diff()\n",
    "\n",
    "    # 이전 session의 마지막 이벤트와 현재 session의 첫번째 이벤트 간 시간 차이(짝수번째 행들에 나열되어 있음)\n",
    "    df_odd_rows = df_H_T.groupby('customer_id').apply(lambda x: x.iloc[::2]).reset_index(drop=True)\n",
    "    \n",
    "    return df_odd_rows.groupby('customer_id').revisit.mean().mean()"
   ]
  },
  {
   "cell_type": "code",
   "execution_count": 35,
   "metadata": {},
   "outputs": [
    {
     "name": "stdout",
     "output_type": "stream",
     "text": [
      "36 days 16:53:07.133714300\n",
      "10 days 17:35:29.569879995\n",
      "2 days 09:15:34.708449470\n"
     ]
    }
   ],
   "source": [
    "# Segment별 방문주기의 평균\n",
    "print(revisit(df_122))\n",
    "print(revisit(df_222))\n",
    "print(revisit(df_322))"
   ]
  },
  {
   "attachments": {},
   "cell_type": "markdown",
   "metadata": {},
   "source": [
    "### Segment별 중고상품"
   ]
  },
  {
   "attachments": {},
   "cell_type": "markdown",
   "metadata": {},
   "source": [
    "#### Segment별 중고 검색어 비율"
   ]
  },
  {
   "cell_type": "code",
   "execution_count": 109,
   "metadata": {},
   "outputs": [
    {
     "data": {
      "text/html": [
       "<div>\n",
       "<style scoped>\n",
       "    .dataframe tbody tr th:only-of-type {\n",
       "        vertical-align: middle;\n",
       "    }\n",
       "\n",
       "    .dataframe tbody tr th {\n",
       "        vertical-align: top;\n",
       "    }\n",
       "\n",
       "    .dataframe thead th {\n",
       "        text-align: right;\n",
       "    }\n",
       "</style>\n",
       "<table border=\"1\" class=\"dataframe\">\n",
       "  <thead>\n",
       "    <tr style=\"text-align: right;\">\n",
       "      <th></th>\n",
       "      <th>session_id</th>\n",
       "      <th>event_name</th>\n",
       "      <th>event_time</th>\n",
       "      <th>traffic_source</th>\n",
       "      <th>product_id</th>\n",
       "      <th>quantity</th>\n",
       "      <th>item_price</th>\n",
       "      <th>payment_status</th>\n",
       "      <th>search_keywords</th>\n",
       "      <th>promo_code</th>\n",
       "      <th>promo_amount</th>\n",
       "      <th>customer_id</th>\n",
       "      <th>booking_id</th>\n",
       "      <th>quarter</th>\n",
       "      <th>RFM_Segment</th>\n",
       "      <th>month</th>\n",
       "      <th>age_now</th>\n",
       "    </tr>\n",
       "  </thead>\n",
       "  <tbody>\n",
       "    <tr>\n",
       "      <th>0</th>\n",
       "      <td>44122af0-0bf5-407b-b3ff-22c082c61426_0</td>\n",
       "      <td>HOMEPAGE</td>\n",
       "      <td>2016-10-09 21:17:34.380487+00:00</td>\n",
       "      <td>MOBILE</td>\n",
       "      <td>NaN</td>\n",
       "      <td>0</td>\n",
       "      <td>0</td>\n",
       "      <td>NaN</td>\n",
       "      <td>NaN</td>\n",
       "      <td>0.00</td>\n",
       "      <td>0.00</td>\n",
       "      <td>50.00</td>\n",
       "      <td>097c5406-68c5-4ecc-8399-8745cb3ff0ca</td>\n",
       "      <td>NaN</td>\n",
       "      <td>112.00</td>\n",
       "      <td>2016-10</td>\n",
       "      <td>22.00</td>\n",
       "    </tr>\n",
       "    <tr>\n",
       "      <th>1</th>\n",
       "      <td>44122af0-0bf5-407b-b3ff-22c082c61426_0</td>\n",
       "      <td>ADD_TO_CART</td>\n",
       "      <td>2016-10-09 21:28:40.380487+00:00</td>\n",
       "      <td>MOBILE</td>\n",
       "      <td>24639.00</td>\n",
       "      <td>1</td>\n",
       "      <td>255356</td>\n",
       "      <td>NaN</td>\n",
       "      <td>NaN</td>\n",
       "      <td>0.00</td>\n",
       "      <td>0.00</td>\n",
       "      <td>50.00</td>\n",
       "      <td>097c5406-68c5-4ecc-8399-8745cb3ff0ca</td>\n",
       "      <td>NaN</td>\n",
       "      <td>112.00</td>\n",
       "      <td>2016-10</td>\n",
       "      <td>22.00</td>\n",
       "    </tr>\n",
       "    <tr>\n",
       "      <th>2</th>\n",
       "      <td>44122af0-0bf5-407b-b3ff-22c082c61426_0</td>\n",
       "      <td>HOMEPAGE</td>\n",
       "      <td>2016-10-09 21:30:22.380487+00:00</td>\n",
       "      <td>MOBILE</td>\n",
       "      <td>NaN</td>\n",
       "      <td>0</td>\n",
       "      <td>0</td>\n",
       "      <td>NaN</td>\n",
       "      <td>NaN</td>\n",
       "      <td>0.00</td>\n",
       "      <td>0.00</td>\n",
       "      <td>50.00</td>\n",
       "      <td>097c5406-68c5-4ecc-8399-8745cb3ff0ca</td>\n",
       "      <td>NaN</td>\n",
       "      <td>112.00</td>\n",
       "      <td>2016-10</td>\n",
       "      <td>22.00</td>\n",
       "    </tr>\n",
       "    <tr>\n",
       "      <th>3</th>\n",
       "      <td>44122af0-0bf5-407b-b3ff-22c082c61426_0</td>\n",
       "      <td>HOMEPAGE</td>\n",
       "      <td>2016-10-09 21:42:14.380487+00:00</td>\n",
       "      <td>MOBILE</td>\n",
       "      <td>NaN</td>\n",
       "      <td>0</td>\n",
       "      <td>0</td>\n",
       "      <td>NaN</td>\n",
       "      <td>NaN</td>\n",
       "      <td>0.00</td>\n",
       "      <td>0.00</td>\n",
       "      <td>50.00</td>\n",
       "      <td>097c5406-68c5-4ecc-8399-8745cb3ff0ca</td>\n",
       "      <td>NaN</td>\n",
       "      <td>112.00</td>\n",
       "      <td>2016-10</td>\n",
       "      <td>22.00</td>\n",
       "    </tr>\n",
       "    <tr>\n",
       "      <th>4</th>\n",
       "      <td>44122af0-0bf5-407b-b3ff-22c082c61426_0</td>\n",
       "      <td>ITEM_DETAIL</td>\n",
       "      <td>2016-10-09 21:54:20.380487+00:00</td>\n",
       "      <td>MOBILE</td>\n",
       "      <td>NaN</td>\n",
       "      <td>0</td>\n",
       "      <td>0</td>\n",
       "      <td>NaN</td>\n",
       "      <td>NaN</td>\n",
       "      <td>0.00</td>\n",
       "      <td>0.00</td>\n",
       "      <td>50.00</td>\n",
       "      <td>097c5406-68c5-4ecc-8399-8745cb3ff0ca</td>\n",
       "      <td>NaN</td>\n",
       "      <td>112.00</td>\n",
       "      <td>2016-10</td>\n",
       "      <td>22.00</td>\n",
       "    </tr>\n",
       "    <tr>\n",
       "      <th>...</th>\n",
       "      <td>...</td>\n",
       "      <td>...</td>\n",
       "      <td>...</td>\n",
       "      <td>...</td>\n",
       "      <td>...</td>\n",
       "      <td>...</td>\n",
       "      <td>...</td>\n",
       "      <td>...</td>\n",
       "      <td>...</td>\n",
       "      <td>...</td>\n",
       "      <td>...</td>\n",
       "      <td>...</td>\n",
       "      <td>...</td>\n",
       "      <td>...</td>\n",
       "      <td>...</td>\n",
       "      <td>...</td>\n",
       "      <td>...</td>\n",
       "    </tr>\n",
       "    <tr>\n",
       "      <th>12833597</th>\n",
       "      <td>fffe9f81-7737-47de-9468-8b7b7f93c25d_0</td>\n",
       "      <td>ADD_TO_CART</td>\n",
       "      <td>2018-05-24 17:35:57.717870+00:00</td>\n",
       "      <td>MOBILE</td>\n",
       "      <td>49510.00</td>\n",
       "      <td>1</td>\n",
       "      <td>246498</td>\n",
       "      <td>NaN</td>\n",
       "      <td>NaN</td>\n",
       "      <td>NaN</td>\n",
       "      <td>NaN</td>\n",
       "      <td>NaN</td>\n",
       "      <td>NaN</td>\n",
       "      <td>NaN</td>\n",
       "      <td>NaN</td>\n",
       "      <td>2018-05</td>\n",
       "      <td>NaN</td>\n",
       "    </tr>\n",
       "    <tr>\n",
       "      <th>12833598</th>\n",
       "      <td>fffe9f81-7737-47de-9468-8b7b7f93c25d_0</td>\n",
       "      <td>PROMO_PAGE</td>\n",
       "      <td>2018-05-24 17:42:10.717870+00:00</td>\n",
       "      <td>MOBILE</td>\n",
       "      <td>NaN</td>\n",
       "      <td>0</td>\n",
       "      <td>0</td>\n",
       "      <td>NaN</td>\n",
       "      <td>NaN</td>\n",
       "      <td>NaN</td>\n",
       "      <td>NaN</td>\n",
       "      <td>NaN</td>\n",
       "      <td>NaN</td>\n",
       "      <td>NaN</td>\n",
       "      <td>NaN</td>\n",
       "      <td>2018-05</td>\n",
       "      <td>NaN</td>\n",
       "    </tr>\n",
       "    <tr>\n",
       "      <th>12833599</th>\n",
       "      <td>fffe9f81-7737-47de-9468-8b7b7f93c25d_0</td>\n",
       "      <td>SEARCH</td>\n",
       "      <td>2018-05-24 17:48:10.717870+00:00</td>\n",
       "      <td>MOBILE</td>\n",
       "      <td>NaN</td>\n",
       "      <td>0</td>\n",
       "      <td>0</td>\n",
       "      <td>NaN</td>\n",
       "      <td>Dress</td>\n",
       "      <td>NaN</td>\n",
       "      <td>NaN</td>\n",
       "      <td>NaN</td>\n",
       "      <td>NaN</td>\n",
       "      <td>NaN</td>\n",
       "      <td>NaN</td>\n",
       "      <td>2018-05</td>\n",
       "      <td>NaN</td>\n",
       "    </tr>\n",
       "    <tr>\n",
       "      <th>12833600</th>\n",
       "      <td>fffe9f81-7737-47de-9468-8b7b7f93c25d_0</td>\n",
       "      <td>ITEM_DETAIL</td>\n",
       "      <td>2018-05-24 17:54:53.717870+00:00</td>\n",
       "      <td>MOBILE</td>\n",
       "      <td>NaN</td>\n",
       "      <td>0</td>\n",
       "      <td>0</td>\n",
       "      <td>NaN</td>\n",
       "      <td>NaN</td>\n",
       "      <td>NaN</td>\n",
       "      <td>NaN</td>\n",
       "      <td>NaN</td>\n",
       "      <td>NaN</td>\n",
       "      <td>NaN</td>\n",
       "      <td>NaN</td>\n",
       "      <td>2018-05</td>\n",
       "      <td>NaN</td>\n",
       "    </tr>\n",
       "    <tr>\n",
       "      <th>12833601</th>\n",
       "      <td>fffe9f81-7737-47de-9468-8b7b7f93c25d_0</td>\n",
       "      <td>HOMEPAGE</td>\n",
       "      <td>2018-05-24 18:01:32.717870+00:00</td>\n",
       "      <td>MOBILE</td>\n",
       "      <td>NaN</td>\n",
       "      <td>0</td>\n",
       "      <td>0</td>\n",
       "      <td>NaN</td>\n",
       "      <td>NaN</td>\n",
       "      <td>NaN</td>\n",
       "      <td>NaN</td>\n",
       "      <td>NaN</td>\n",
       "      <td>NaN</td>\n",
       "      <td>NaN</td>\n",
       "      <td>NaN</td>\n",
       "      <td>2018-05</td>\n",
       "      <td>NaN</td>\n",
       "    </tr>\n",
       "  </tbody>\n",
       "</table>\n",
       "<p>12833602 rows × 17 columns</p>\n",
       "</div>"
      ],
      "text/plain": [
       "                                      session_id   event_name  \\\n",
       "0         44122af0-0bf5-407b-b3ff-22c082c61426_0     HOMEPAGE   \n",
       "1         44122af0-0bf5-407b-b3ff-22c082c61426_0  ADD_TO_CART   \n",
       "2         44122af0-0bf5-407b-b3ff-22c082c61426_0     HOMEPAGE   \n",
       "3         44122af0-0bf5-407b-b3ff-22c082c61426_0     HOMEPAGE   \n",
       "4         44122af0-0bf5-407b-b3ff-22c082c61426_0  ITEM_DETAIL   \n",
       "...                                          ...          ...   \n",
       "12833597  fffe9f81-7737-47de-9468-8b7b7f93c25d_0  ADD_TO_CART   \n",
       "12833598  fffe9f81-7737-47de-9468-8b7b7f93c25d_0   PROMO_PAGE   \n",
       "12833599  fffe9f81-7737-47de-9468-8b7b7f93c25d_0       SEARCH   \n",
       "12833600  fffe9f81-7737-47de-9468-8b7b7f93c25d_0  ITEM_DETAIL   \n",
       "12833601  fffe9f81-7737-47de-9468-8b7b7f93c25d_0     HOMEPAGE   \n",
       "\n",
       "                                event_time traffic_source  product_id  \\\n",
       "0         2016-10-09 21:17:34.380487+00:00         MOBILE         NaN   \n",
       "1         2016-10-09 21:28:40.380487+00:00         MOBILE    24639.00   \n",
       "2         2016-10-09 21:30:22.380487+00:00         MOBILE         NaN   \n",
       "3         2016-10-09 21:42:14.380487+00:00         MOBILE         NaN   \n",
       "4         2016-10-09 21:54:20.380487+00:00         MOBILE         NaN   \n",
       "...                                    ...            ...         ...   \n",
       "12833597  2018-05-24 17:35:57.717870+00:00         MOBILE    49510.00   \n",
       "12833598  2018-05-24 17:42:10.717870+00:00         MOBILE         NaN   \n",
       "12833599  2018-05-24 17:48:10.717870+00:00         MOBILE         NaN   \n",
       "12833600  2018-05-24 17:54:53.717870+00:00         MOBILE         NaN   \n",
       "12833601  2018-05-24 18:01:32.717870+00:00         MOBILE         NaN   \n",
       "\n",
       "          quantity  item_price  payment_status search_keywords  promo_code  \\\n",
       "0                0           0             NaN             NaN        0.00   \n",
       "1                1      255356             NaN             NaN        0.00   \n",
       "2                0           0             NaN             NaN        0.00   \n",
       "3                0           0             NaN             NaN        0.00   \n",
       "4                0           0             NaN             NaN        0.00   \n",
       "...            ...         ...             ...             ...         ...   \n",
       "12833597         1      246498             NaN             NaN         NaN   \n",
       "12833598         0           0             NaN             NaN         NaN   \n",
       "12833599         0           0             NaN           Dress         NaN   \n",
       "12833600         0           0             NaN             NaN         NaN   \n",
       "12833601         0           0             NaN             NaN         NaN   \n",
       "\n",
       "          promo_amount  customer_id                            booking_id  \\\n",
       "0                 0.00        50.00  097c5406-68c5-4ecc-8399-8745cb3ff0ca   \n",
       "1                 0.00        50.00  097c5406-68c5-4ecc-8399-8745cb3ff0ca   \n",
       "2                 0.00        50.00  097c5406-68c5-4ecc-8399-8745cb3ff0ca   \n",
       "3                 0.00        50.00  097c5406-68c5-4ecc-8399-8745cb3ff0ca   \n",
       "4                 0.00        50.00  097c5406-68c5-4ecc-8399-8745cb3ff0ca   \n",
       "...                ...          ...                                   ...   \n",
       "12833597           NaN          NaN                                   NaN   \n",
       "12833598           NaN          NaN                                   NaN   \n",
       "12833599           NaN          NaN                                   NaN   \n",
       "12833600           NaN          NaN                                   NaN   \n",
       "12833601           NaN          NaN                                   NaN   \n",
       "\n",
       "          quarter  RFM_Segment    month  age_now  \n",
       "0             NaN       112.00  2016-10    22.00  \n",
       "1             NaN       112.00  2016-10    22.00  \n",
       "2             NaN       112.00  2016-10    22.00  \n",
       "3             NaN       112.00  2016-10    22.00  \n",
       "4             NaN       112.00  2016-10    22.00  \n",
       "...           ...          ...      ...      ...  \n",
       "12833597      NaN          NaN  2018-05      NaN  \n",
       "12833598      NaN          NaN  2018-05      NaN  \n",
       "12833599      NaN          NaN  2018-05      NaN  \n",
       "12833600      NaN          NaN  2018-05      NaN  \n",
       "12833601      NaN          NaN  2018-05      NaN  \n",
       "\n",
       "[12833602 rows x 17 columns]"
      ]
     },
     "execution_count": 109,
     "metadata": {},
     "output_type": "execute_result"
    }
   ],
   "source": [
    "pd.merge(df_buy_split, customer_rfm[['customer_id', 'age_now']], on='customer_id', how='left')"
   ]
  },
  {
   "cell_type": "code",
   "execution_count": 105,
   "metadata": {},
   "outputs": [
    {
     "data": {
      "text/html": [
       "<div>\n",
       "<style scoped>\n",
       "    .dataframe tbody tr th:only-of-type {\n",
       "        vertical-align: middle;\n",
       "    }\n",
       "\n",
       "    .dataframe tbody tr th {\n",
       "        vertical-align: top;\n",
       "    }\n",
       "\n",
       "    .dataframe thead th {\n",
       "        text-align: right;\n",
       "    }\n",
       "</style>\n",
       "<table border=\"1\" class=\"dataframe\">\n",
       "  <thead>\n",
       "    <tr style=\"text-align: right;\">\n",
       "      <th></th>\n",
       "      <th>session_id</th>\n",
       "      <th>event_name</th>\n",
       "      <th>event_time</th>\n",
       "      <th>traffic_source</th>\n",
       "      <th>product_id</th>\n",
       "      <th>quantity</th>\n",
       "      <th>item_price</th>\n",
       "      <th>payment_status</th>\n",
       "      <th>search_keywords</th>\n",
       "      <th>promo_code</th>\n",
       "      <th>promo_amount</th>\n",
       "      <th>customer_id</th>\n",
       "      <th>booking_id</th>\n",
       "      <th>quarter</th>\n",
       "      <th>RFM_Segment</th>\n",
       "      <th>month</th>\n",
       "    </tr>\n",
       "  </thead>\n",
       "  <tbody>\n",
       "    <tr>\n",
       "      <th>6</th>\n",
       "      <td>e461cea6-1461-4816-a39b-01200fe21c6b_0</td>\n",
       "      <td>HOMEPAGE</td>\n",
       "      <td>2016-12-11 22:48:29.085678+00:00</td>\n",
       "      <td>MOBILE</td>\n",
       "      <td>NaN</td>\n",
       "      <td>0</td>\n",
       "      <td>0</td>\n",
       "      <td>NaN</td>\n",
       "      <td>NaN</td>\n",
       "      <td>0.00</td>\n",
       "      <td>0.00</td>\n",
       "      <td>98.00</td>\n",
       "      <td>b20ade25-44de-4ed6-b2f9-817c95a47695</td>\n",
       "      <td>NaN</td>\n",
       "      <td>222.00</td>\n",
       "      <td>2016-12</td>\n",
       "    </tr>\n",
       "    <tr>\n",
       "      <th>7</th>\n",
       "      <td>e461cea6-1461-4816-a39b-01200fe21c6b_0</td>\n",
       "      <td>ITEM_DETAIL</td>\n",
       "      <td>2016-12-11 22:51:52.085678+00:00</td>\n",
       "      <td>MOBILE</td>\n",
       "      <td>NaN</td>\n",
       "      <td>0</td>\n",
       "      <td>0</td>\n",
       "      <td>NaN</td>\n",
       "      <td>NaN</td>\n",
       "      <td>0.00</td>\n",
       "      <td>0.00</td>\n",
       "      <td>98.00</td>\n",
       "      <td>b20ade25-44de-4ed6-b2f9-817c95a47695</td>\n",
       "      <td>NaN</td>\n",
       "      <td>222.00</td>\n",
       "      <td>2016-12</td>\n",
       "    </tr>\n",
       "    <tr>\n",
       "      <th>8</th>\n",
       "      <td>e461cea6-1461-4816-a39b-01200fe21c6b_0</td>\n",
       "      <td>ADD_TO_CART</td>\n",
       "      <td>2016-12-11 22:52:07.085678+00:00</td>\n",
       "      <td>MOBILE</td>\n",
       "      <td>36516.00</td>\n",
       "      <td>1</td>\n",
       "      <td>214197</td>\n",
       "      <td>NaN</td>\n",
       "      <td>NaN</td>\n",
       "      <td>0.00</td>\n",
       "      <td>0.00</td>\n",
       "      <td>98.00</td>\n",
       "      <td>b20ade25-44de-4ed6-b2f9-817c95a47695</td>\n",
       "      <td>NaN</td>\n",
       "      <td>222.00</td>\n",
       "      <td>2016-12</td>\n",
       "    </tr>\n",
       "    <tr>\n",
       "      <th>9</th>\n",
       "      <td>e461cea6-1461-4816-a39b-01200fe21c6b_0</td>\n",
       "      <td>ITEM_DETAIL</td>\n",
       "      <td>2016-12-11 22:55:02.085678+00:00</td>\n",
       "      <td>MOBILE</td>\n",
       "      <td>NaN</td>\n",
       "      <td>0</td>\n",
       "      <td>0</td>\n",
       "      <td>NaN</td>\n",
       "      <td>NaN</td>\n",
       "      <td>0.00</td>\n",
       "      <td>0.00</td>\n",
       "      <td>98.00</td>\n",
       "      <td>b20ade25-44de-4ed6-b2f9-817c95a47695</td>\n",
       "      <td>NaN</td>\n",
       "      <td>222.00</td>\n",
       "      <td>2016-12</td>\n",
       "    </tr>\n",
       "    <tr>\n",
       "      <th>10</th>\n",
       "      <td>e461cea6-1461-4816-a39b-01200fe21c6b_0</td>\n",
       "      <td>ADD_TO_CART</td>\n",
       "      <td>2016-12-11 22:55:07.085678+00:00</td>\n",
       "      <td>MOBILE</td>\n",
       "      <td>47267.00</td>\n",
       "      <td>1</td>\n",
       "      <td>297068</td>\n",
       "      <td>NaN</td>\n",
       "      <td>NaN</td>\n",
       "      <td>0.00</td>\n",
       "      <td>0.00</td>\n",
       "      <td>98.00</td>\n",
       "      <td>b20ade25-44de-4ed6-b2f9-817c95a47695</td>\n",
       "      <td>NaN</td>\n",
       "      <td>222.00</td>\n",
       "      <td>2016-12</td>\n",
       "    </tr>\n",
       "    <tr>\n",
       "      <th>...</th>\n",
       "      <td>...</td>\n",
       "      <td>...</td>\n",
       "      <td>...</td>\n",
       "      <td>...</td>\n",
       "      <td>...</td>\n",
       "      <td>...</td>\n",
       "      <td>...</td>\n",
       "      <td>...</td>\n",
       "      <td>...</td>\n",
       "      <td>...</td>\n",
       "      <td>...</td>\n",
       "      <td>...</td>\n",
       "      <td>...</td>\n",
       "      <td>...</td>\n",
       "      <td>...</td>\n",
       "      <td>...</td>\n",
       "    </tr>\n",
       "    <tr>\n",
       "      <th>12462999</th>\n",
       "      <td>be458630-6c39-4cf7-931d-010194e350d0_3_1</td>\n",
       "      <td>CLICK</td>\n",
       "      <td>2022-07-29 02:25:52.810263+00:00</td>\n",
       "      <td>MOBILE</td>\n",
       "      <td>NaN</td>\n",
       "      <td>0</td>\n",
       "      <td>0</td>\n",
       "      <td>NaN</td>\n",
       "      <td>NaN</td>\n",
       "      <td>0.00</td>\n",
       "      <td>0.00</td>\n",
       "      <td>99995.00</td>\n",
       "      <td>NaN</td>\n",
       "      <td>3.00</td>\n",
       "      <td>322.00</td>\n",
       "      <td>2022-07</td>\n",
       "    </tr>\n",
       "    <tr>\n",
       "      <th>12463000</th>\n",
       "      <td>be458630-6c39-4cf7-931d-010194e350d0_3_1</td>\n",
       "      <td>ITEM_DETAIL</td>\n",
       "      <td>2022-07-29 02:43:36.810263+00:00</td>\n",
       "      <td>MOBILE</td>\n",
       "      <td>NaN</td>\n",
       "      <td>0</td>\n",
       "      <td>0</td>\n",
       "      <td>NaN</td>\n",
       "      <td>NaN</td>\n",
       "      <td>0.00</td>\n",
       "      <td>0.00</td>\n",
       "      <td>99995.00</td>\n",
       "      <td>NaN</td>\n",
       "      <td>3.00</td>\n",
       "      <td>322.00</td>\n",
       "      <td>2022-07</td>\n",
       "    </tr>\n",
       "    <tr>\n",
       "      <th>12463001</th>\n",
       "      <td>be458630-6c39-4cf7-931d-010194e350d0_3_1</td>\n",
       "      <td>ITEM_DETAIL</td>\n",
       "      <td>2022-07-29 03:02:02.810263+00:00</td>\n",
       "      <td>MOBILE</td>\n",
       "      <td>NaN</td>\n",
       "      <td>0</td>\n",
       "      <td>0</td>\n",
       "      <td>NaN</td>\n",
       "      <td>NaN</td>\n",
       "      <td>0.00</td>\n",
       "      <td>0.00</td>\n",
       "      <td>99995.00</td>\n",
       "      <td>NaN</td>\n",
       "      <td>3.00</td>\n",
       "      <td>322.00</td>\n",
       "      <td>2022-07</td>\n",
       "    </tr>\n",
       "    <tr>\n",
       "      <th>12463002</th>\n",
       "      <td>be458630-6c39-4cf7-931d-010194e350d0_3_1</td>\n",
       "      <td>CLICK</td>\n",
       "      <td>2022-07-29 03:19:56.810263+00:00</td>\n",
       "      <td>MOBILE</td>\n",
       "      <td>NaN</td>\n",
       "      <td>0</td>\n",
       "      <td>0</td>\n",
       "      <td>NaN</td>\n",
       "      <td>NaN</td>\n",
       "      <td>0.00</td>\n",
       "      <td>0.00</td>\n",
       "      <td>99995.00</td>\n",
       "      <td>NaN</td>\n",
       "      <td>3.00</td>\n",
       "      <td>322.00</td>\n",
       "      <td>2022-07</td>\n",
       "    </tr>\n",
       "    <tr>\n",
       "      <th>12463003</th>\n",
       "      <td>be458630-6c39-4cf7-931d-010194e350d0_3_2</td>\n",
       "      <td>BOOKING</td>\n",
       "      <td>2022-07-29 03:54:17.810263+00:00</td>\n",
       "      <td>MOBILE</td>\n",
       "      <td>NaN</td>\n",
       "      <td>0</td>\n",
       "      <td>0</td>\n",
       "      <td>1.00</td>\n",
       "      <td>NaN</td>\n",
       "      <td>0.00</td>\n",
       "      <td>0.00</td>\n",
       "      <td>99995.00</td>\n",
       "      <td>2f2f6ac1-5e9b-44e2-8afe-36c9895f9331</td>\n",
       "      <td>3.00</td>\n",
       "      <td>322.00</td>\n",
       "      <td>2022-07</td>\n",
       "    </tr>\n",
       "  </tbody>\n",
       "</table>\n",
       "<p>11429583 rows × 16 columns</p>\n",
       "</div>"
      ],
      "text/plain": [
       "                                        session_id   event_name  \\\n",
       "6           e461cea6-1461-4816-a39b-01200fe21c6b_0     HOMEPAGE   \n",
       "7           e461cea6-1461-4816-a39b-01200fe21c6b_0  ITEM_DETAIL   \n",
       "8           e461cea6-1461-4816-a39b-01200fe21c6b_0  ADD_TO_CART   \n",
       "9           e461cea6-1461-4816-a39b-01200fe21c6b_0  ITEM_DETAIL   \n",
       "10          e461cea6-1461-4816-a39b-01200fe21c6b_0  ADD_TO_CART   \n",
       "...                                            ...          ...   \n",
       "12462999  be458630-6c39-4cf7-931d-010194e350d0_3_1        CLICK   \n",
       "12463000  be458630-6c39-4cf7-931d-010194e350d0_3_1  ITEM_DETAIL   \n",
       "12463001  be458630-6c39-4cf7-931d-010194e350d0_3_1  ITEM_DETAIL   \n",
       "12463002  be458630-6c39-4cf7-931d-010194e350d0_3_1        CLICK   \n",
       "12463003  be458630-6c39-4cf7-931d-010194e350d0_3_2      BOOKING   \n",
       "\n",
       "                               event_time traffic_source  product_id  \\\n",
       "6        2016-12-11 22:48:29.085678+00:00         MOBILE         NaN   \n",
       "7        2016-12-11 22:51:52.085678+00:00         MOBILE         NaN   \n",
       "8        2016-12-11 22:52:07.085678+00:00         MOBILE    36516.00   \n",
       "9        2016-12-11 22:55:02.085678+00:00         MOBILE         NaN   \n",
       "10       2016-12-11 22:55:07.085678+00:00         MOBILE    47267.00   \n",
       "...                                   ...            ...         ...   \n",
       "12462999 2022-07-29 02:25:52.810263+00:00         MOBILE         NaN   \n",
       "12463000 2022-07-29 02:43:36.810263+00:00         MOBILE         NaN   \n",
       "12463001 2022-07-29 03:02:02.810263+00:00         MOBILE         NaN   \n",
       "12463002 2022-07-29 03:19:56.810263+00:00         MOBILE         NaN   \n",
       "12463003 2022-07-29 03:54:17.810263+00:00         MOBILE         NaN   \n",
       "\n",
       "          quantity  item_price  payment_status search_keywords  promo_code  \\\n",
       "6                0           0             NaN             NaN        0.00   \n",
       "7                0           0             NaN             NaN        0.00   \n",
       "8                1      214197             NaN             NaN        0.00   \n",
       "9                0           0             NaN             NaN        0.00   \n",
       "10               1      297068             NaN             NaN        0.00   \n",
       "...            ...         ...             ...             ...         ...   \n",
       "12462999         0           0             NaN             NaN        0.00   \n",
       "12463000         0           0             NaN             NaN        0.00   \n",
       "12463001         0           0             NaN             NaN        0.00   \n",
       "12463002         0           0             NaN             NaN        0.00   \n",
       "12463003         0           0            1.00             NaN        0.00   \n",
       "\n",
       "          promo_amount  customer_id                            booking_id  \\\n",
       "6                 0.00        98.00  b20ade25-44de-4ed6-b2f9-817c95a47695   \n",
       "7                 0.00        98.00  b20ade25-44de-4ed6-b2f9-817c95a47695   \n",
       "8                 0.00        98.00  b20ade25-44de-4ed6-b2f9-817c95a47695   \n",
       "9                 0.00        98.00  b20ade25-44de-4ed6-b2f9-817c95a47695   \n",
       "10                0.00        98.00  b20ade25-44de-4ed6-b2f9-817c95a47695   \n",
       "...                ...          ...                                   ...   \n",
       "12462999          0.00     99995.00                                   NaN   \n",
       "12463000          0.00     99995.00                                   NaN   \n",
       "12463001          0.00     99995.00                                   NaN   \n",
       "12463002          0.00     99995.00                                   NaN   \n",
       "12463003          0.00     99995.00  2f2f6ac1-5e9b-44e2-8afe-36c9895f9331   \n",
       "\n",
       "          quarter  RFM_Segment    month  \n",
       "6             NaN       222.00  2016-12  \n",
       "7             NaN       222.00  2016-12  \n",
       "8             NaN       222.00  2016-12  \n",
       "9             NaN       222.00  2016-12  \n",
       "10            NaN       222.00  2016-12  \n",
       "...           ...          ...      ...  \n",
       "12462999     3.00       322.00  2022-07  \n",
       "12463000     3.00       322.00  2022-07  \n",
       "12463001     3.00       322.00  2022-07  \n",
       "12463002     3.00       322.00  2022-07  \n",
       "12463003     3.00       322.00  2022-07  \n",
       "\n",
       "[11429583 rows x 16 columns]"
      ]
     },
     "execution_count": 105,
     "metadata": {},
     "output_type": "execute_result"
    }
   ],
   "source": [
    "df_target_segment"
   ]
  },
  {
   "attachments": {},
   "cell_type": "markdown",
   "metadata": {},
   "source": [
    "결론 <br>\n",
    "Segment별로 전체 검색어 중 중고상품에 대한 검색어 비율이 20%로 차이가 없음(검색어 중 2등)"
   ]
  },
  {
   "cell_type": "code",
   "execution_count": 36,
   "metadata": {},
   "outputs": [
    {
     "data": {
      "text/plain": [
       "RFM_Segment  search_keywords\n",
       "122.00       Dress             0.29\n",
       "             Second Hand       0.20\n",
       "             Shirts            0.14\n",
       "             Woman's Bag       0.11\n",
       "             T-Shirt           0.08\n",
       "             Nike Shoes        0.04\n",
       "             Work Bag          0.04\n",
       "             Trousers          0.03\n",
       "             Adidas Shoes      0.03\n",
       "             Shoes             0.02\n",
       "             Sandal            0.01\n",
       "             Watch             0.00\n",
       "             Hat               0.00\n",
       "             House dress       0.00\n",
       "             Pajamas           0.00\n",
       "222.00       Dress             0.29\n",
       "             Second Hand       0.19\n",
       "             Shirts            0.14\n",
       "             Woman's Bag       0.11\n",
       "             T-Shirt           0.08\n",
       "             Nike Shoes        0.05\n",
       "             Work Bag          0.03\n",
       "             Trousers          0.03\n",
       "             Shoes             0.02\n",
       "             Adidas Shoes      0.02\n",
       "             Sandal            0.01\n",
       "             Watch             0.00\n",
       "             Hat               0.00\n",
       "             Pajamas           0.00\n",
       "             House dress       0.00\n",
       "322.00       Dress             0.28\n",
       "             Second Hand       0.19\n",
       "             Shirts            0.14\n",
       "             Woman's Bag       0.11\n",
       "             T-Shirt           0.09\n",
       "             Nike Shoes        0.04\n",
       "             Trousers          0.03\n",
       "             Work Bag          0.03\n",
       "             Shoes             0.02\n",
       "             Adidas Shoes      0.02\n",
       "             Sandal            0.01\n",
       "             Watch             0.01\n",
       "             Hat               0.00\n",
       "             Pajamas           0.00\n",
       "             House dress       0.00\n",
       "Name: search_keywords, dtype: float64"
      ]
     },
     "execution_count": 36,
     "metadata": {},
     "output_type": "execute_result"
    }
   ],
   "source": [
    "# Segment별 전체 검색어 중 중고상품에 대한 검색어 비율\n",
    "df_target_segment.groupby('RFM_Segment').search_keywords.value_counts(normalize=True)"
   ]
  },
  {
   "attachments": {},
   "cell_type": "markdown",
   "metadata": {},
   "source": [
    "#### segment별 구매자 중 중고 검색 고객이 어떤 상품이던 검색후 Add_to_Cart로 이어졌는지 확인(Old session 기준)"
   ]
  },
  {
   "attachments": {},
   "cell_type": "markdown",
   "metadata": {},
   "source": [
    "결론 <br>\n",
    "122 : 62% <br>\n",
    "222 : 60% <br>\n",
    "322 : 16% <br>\n",
    "Old Session 기준으로 중고 검색을 했을때 최근에 가까운 그룹일 수록 중고 검색 후 ADD_TO_CART, BOOKING으로 이어진 비율이 적어지는 중 <br>\n",
    "중고상품에 대해서 검색 엔진이 소비자들에게 만족할만한 검색 결과를 제공하지 못할 수도 있을듯"
   ]
  },
  {
   "cell_type": "code",
   "execution_count": 37,
   "metadata": {},
   "outputs": [
    {
     "data": {
      "text/plain": [
       "RFM_Segment\n",
       "122.00    [9d8633fc-e01d-482b-8b05-98835681cf03, 6fc8515...\n",
       "222.00    [8c0f9d3b-bc65-477d-a051-b90d8ced49ac, 5c897c6...\n",
       "322.00    [0c89963c-e1c1-4090-9779-95f03ed42116, c71c67e...\n",
       "Name: old_session, dtype: object"
      ]
     },
     "execution_count": 37,
     "metadata": {},
     "output_type": "execute_result"
    }
   ],
   "source": [
    "second_hand_session = df_buy_split_old[df_buy_split_old['search_keywords'] == 'Second Hand'].groupby('RFM_Segment')['old_session'].unique()\n",
    "second_hand_session"
   ]
  },
  {
   "cell_type": "code",
   "execution_count": 38,
   "metadata": {},
   "outputs": [],
   "source": [
    "df_buy_split_old.event_time = pd.to_datetime(df_buy_split_old.event_time)"
   ]
  },
  {
   "cell_type": "code",
   "execution_count": 39,
   "metadata": {},
   "outputs": [
    {
     "data": {
      "text/plain": [
       "767867"
      ]
     },
     "execution_count": 39,
     "metadata": {},
     "output_type": "execute_result"
    }
   ],
   "source": [
    "df_buy_split_old[df_buy_split_old.event_name == 'BOOKING'].old_session.nunique()"
   ]
  },
  {
   "cell_type": "code",
   "execution_count": 40,
   "metadata": {},
   "outputs": [
    {
     "name": "stdout",
     "output_type": "stream",
     "text": [
      "58\n",
      "1786\n",
      "3382\n"
     ]
    }
   ],
   "source": [
    "# 한 세션에서 중고를 검색한 이후에 ADD_TO_CART 행동을 한 세션 수(약 8분 소요)\n",
    "for i in range(0, 3):\n",
    "    cart_cnt = 0\n",
    "\n",
    "    # RFM_Segment별로 중고 검색이 있는 세션 분류\n",
    "    # 122 -> 222 -> 322 순서로 for문 돌기\n",
    "    filtered_sessions = df_buy_split_old[df_buy_split_old.old_session.isin(second_hand_session.iloc[i])]\n",
    "\n",
    "    # 중고 검색이 있는 세션 하나하나 확인\n",
    "    for session in filtered_sessions.old_session.unique():\n",
    "        # 중고 검색이 있는 세션\n",
    "        search_add_to_cart = filtered_sessions[filtered_sessions.old_session == session]\n",
    "        # 중고 검색을 한 이후 세션만 필터링\n",
    "        search_add_to_cart = search_add_to_cart[search_add_to_cart.event_time >= search_add_to_cart[search_add_to_cart['search_keywords'] == 'Second Hand'].event_time.iloc[0]]\n",
    "        # 중고 검색을 한 이후 세션에 ADD_TO_CART가 있으면 카운트(세션 분할 전 구매내역이 있는 데이터만 사용했기 때문에 장바구니 담기 후 구매까지 이어졌다고 판단하면 됨)\n",
    "        event_names = search_add_to_cart.event_name.unique()\n",
    "        if 'ADD_TO_CART' in event_names:\n",
    "            cart_cnt += 1\n",
    "        \n",
    "    print(cart_cnt)\n"
   ]
  },
  {
   "cell_type": "code",
   "execution_count": 41,
   "metadata": {},
   "outputs": [
    {
     "data": {
      "text/plain": [
       "122   0.62\n",
       "222   0.60\n",
       "322   0.16\n",
       "dtype: float64"
      ]
     },
     "execution_count": 41,
     "metadata": {},
     "output_type": "execute_result"
    }
   ],
   "source": [
    "# Segment별 중고 검색 세션 수 대비 중고 검색 후 ADD_TO_CART까지 한 비율(Old session 기준)\n",
    "pd.Series(np.array([58, 1786, 3382]), index=[122, 222, 322]) / second_hand_session.str.len()"
   ]
  },
  {
   "attachments": {},
   "cell_type": "markdown",
   "metadata": {},
   "source": [
    "### Segment별 구매전환율"
   ]
  },
  {
   "attachments": {},
   "cell_type": "markdown",
   "metadata": {},
   "source": [
    "#### Segment별 Micro, Macro 전환율"
   ]
  },
  {
   "cell_type": "code",
   "execution_count": 42,
   "metadata": {},
   "outputs": [
    {
     "data": {
      "text/html": [
       "<div>\n",
       "<style scoped>\n",
       "    .dataframe tbody tr th:only-of-type {\n",
       "        vertical-align: middle;\n",
       "    }\n",
       "\n",
       "    .dataframe tbody tr th {\n",
       "        vertical-align: top;\n",
       "    }\n",
       "\n",
       "    .dataframe thead th {\n",
       "        text-align: right;\n",
       "    }\n",
       "</style>\n",
       "<table border=\"1\" class=\"dataframe\">\n",
       "  <thead>\n",
       "    <tr style=\"text-align: right;\">\n",
       "      <th></th>\n",
       "      <th>month</th>\n",
       "      <th>RFM_Segment</th>\n",
       "      <th>session_id</th>\n",
       "    </tr>\n",
       "  </thead>\n",
       "  <tbody>\n",
       "    <tr>\n",
       "      <th>0</th>\n",
       "      <td>2016-07</td>\n",
       "      <td>122.00</td>\n",
       "      <td>23</td>\n",
       "    </tr>\n",
       "    <tr>\n",
       "      <th>1</th>\n",
       "      <td>2016-07</td>\n",
       "      <td>222.00</td>\n",
       "      <td>128</td>\n",
       "    </tr>\n",
       "    <tr>\n",
       "      <th>2</th>\n",
       "      <td>2016-07</td>\n",
       "      <td>322.00</td>\n",
       "      <td>425</td>\n",
       "    </tr>\n",
       "    <tr>\n",
       "      <th>3</th>\n",
       "      <td>2016-08</td>\n",
       "      <td>122.00</td>\n",
       "      <td>30</td>\n",
       "    </tr>\n",
       "    <tr>\n",
       "      <th>4</th>\n",
       "      <td>2016-08</td>\n",
       "      <td>222.00</td>\n",
       "      <td>404</td>\n",
       "    </tr>\n",
       "    <tr>\n",
       "      <th>...</th>\n",
       "      <td>...</td>\n",
       "      <td>...</td>\n",
       "      <td>...</td>\n",
       "    </tr>\n",
       "    <tr>\n",
       "      <th>208</th>\n",
       "      <td>2022-05</td>\n",
       "      <td>322.00</td>\n",
       "      <td>277638</td>\n",
       "    </tr>\n",
       "    <tr>\n",
       "      <th>209</th>\n",
       "      <td>2022-06</td>\n",
       "      <td>222.00</td>\n",
       "      <td>4085</td>\n",
       "    </tr>\n",
       "    <tr>\n",
       "      <th>210</th>\n",
       "      <td>2022-06</td>\n",
       "      <td>322.00</td>\n",
       "      <td>279688</td>\n",
       "    </tr>\n",
       "    <tr>\n",
       "      <th>211</th>\n",
       "      <td>2022-07</td>\n",
       "      <td>322.00</td>\n",
       "      <td>198620</td>\n",
       "    </tr>\n",
       "    <tr>\n",
       "      <th>212</th>\n",
       "      <td>2022-08</td>\n",
       "      <td>322.00</td>\n",
       "      <td>6</td>\n",
       "    </tr>\n",
       "  </tbody>\n",
       "</table>\n",
       "<p>213 rows × 3 columns</p>\n",
       "</div>"
      ],
      "text/plain": [
       "       month  RFM_Segment  session_id\n",
       "0    2016-07       122.00          23\n",
       "1    2016-07       222.00         128\n",
       "2    2016-07       322.00         425\n",
       "3    2016-08       122.00          30\n",
       "4    2016-08       222.00         404\n",
       "..       ...          ...         ...\n",
       "208  2022-05       322.00      277638\n",
       "209  2022-06       222.00        4085\n",
       "210  2022-06       322.00      279688\n",
       "211  2022-07       322.00      198620\n",
       "212  2022-08       322.00           6\n",
       "\n",
       "[213 rows x 3 columns]"
      ]
     },
     "execution_count": 42,
     "metadata": {},
     "output_type": "execute_result"
    }
   ],
   "source": [
    "session_info = df_target_segment.groupby(['month', 'RFM_Segment'])[['session_id']].nunique()\n",
    "session_info.reset_index(inplace=True)\n",
    "session_info"
   ]
  },
  {
   "cell_type": "code",
   "execution_count": 43,
   "metadata": {},
   "outputs": [],
   "source": [
    "# 장바구니 세션 수(Micro CVR)\n",
    "session_info = pd.merge(session_info, df_target_segment[df_target_segment.event_name == 'ADD_TO_CART'].groupby(['month', 'RFM_Segment']).session_id.nunique(), how='left', on=['month', 'RFM_Segment'])\n",
    "\n",
    "# 구매 세션 수(Macro CVR)\n",
    "session_info = pd.merge(session_info, df_target_segment[df_target_segment.event_name == 'BOOKING'].groupby(['month', 'RFM_Segment']).booking_id.nunique(), how='left', on=['month', 'RFM_Segment'])"
   ]
  },
  {
   "cell_type": "code",
   "execution_count": 44,
   "metadata": {},
   "outputs": [
    {
     "data": {
      "text/html": [
       "<div>\n",
       "<style scoped>\n",
       "    .dataframe tbody tr th:only-of-type {\n",
       "        vertical-align: middle;\n",
       "    }\n",
       "\n",
       "    .dataframe tbody tr th {\n",
       "        vertical-align: top;\n",
       "    }\n",
       "\n",
       "    .dataframe thead th {\n",
       "        text-align: right;\n",
       "    }\n",
       "</style>\n",
       "<table border=\"1\" class=\"dataframe\">\n",
       "  <thead>\n",
       "    <tr style=\"text-align: right;\">\n",
       "      <th></th>\n",
       "      <th>month</th>\n",
       "      <th>RFM_Segment</th>\n",
       "      <th>num_session</th>\n",
       "      <th>num_cart</th>\n",
       "      <th>num_booking</th>\n",
       "    </tr>\n",
       "  </thead>\n",
       "  <tbody>\n",
       "    <tr>\n",
       "      <th>0</th>\n",
       "      <td>2016-07</td>\n",
       "      <td>122.00</td>\n",
       "      <td>23</td>\n",
       "      <td>23.00</td>\n",
       "      <td>22.00</td>\n",
       "    </tr>\n",
       "    <tr>\n",
       "      <th>1</th>\n",
       "      <td>2016-07</td>\n",
       "      <td>222.00</td>\n",
       "      <td>128</td>\n",
       "      <td>92.00</td>\n",
       "      <td>81.00</td>\n",
       "    </tr>\n",
       "    <tr>\n",
       "      <th>2</th>\n",
       "      <td>2016-07</td>\n",
       "      <td>322.00</td>\n",
       "      <td>425</td>\n",
       "      <td>74.00</td>\n",
       "      <td>56.00</td>\n",
       "    </tr>\n",
       "    <tr>\n",
       "      <th>3</th>\n",
       "      <td>2016-08</td>\n",
       "      <td>122.00</td>\n",
       "      <td>30</td>\n",
       "      <td>28.00</td>\n",
       "      <td>27.00</td>\n",
       "    </tr>\n",
       "    <tr>\n",
       "      <th>4</th>\n",
       "      <td>2016-08</td>\n",
       "      <td>222.00</td>\n",
       "      <td>404</td>\n",
       "      <td>192.00</td>\n",
       "      <td>151.00</td>\n",
       "    </tr>\n",
       "    <tr>\n",
       "      <th>...</th>\n",
       "      <td>...</td>\n",
       "      <td>...</td>\n",
       "      <td>...</td>\n",
       "      <td>...</td>\n",
       "      <td>...</td>\n",
       "    </tr>\n",
       "    <tr>\n",
       "      <th>208</th>\n",
       "      <td>2022-05</td>\n",
       "      <td>322.00</td>\n",
       "      <td>277638</td>\n",
       "      <td>38408.00</td>\n",
       "      <td>22973.00</td>\n",
       "    </tr>\n",
       "    <tr>\n",
       "      <th>209</th>\n",
       "      <td>2022-06</td>\n",
       "      <td>222.00</td>\n",
       "      <td>4085</td>\n",
       "      <td>936.00</td>\n",
       "      <td>1055.00</td>\n",
       "    </tr>\n",
       "    <tr>\n",
       "      <th>210</th>\n",
       "      <td>2022-06</td>\n",
       "      <td>322.00</td>\n",
       "      <td>279688</td>\n",
       "      <td>39750.00</td>\n",
       "      <td>24174.00</td>\n",
       "    </tr>\n",
       "    <tr>\n",
       "      <th>211</th>\n",
       "      <td>2022-07</td>\n",
       "      <td>322.00</td>\n",
       "      <td>198620</td>\n",
       "      <td>25473.00</td>\n",
       "      <td>21289.00</td>\n",
       "    </tr>\n",
       "    <tr>\n",
       "      <th>212</th>\n",
       "      <td>2022-08</td>\n",
       "      <td>322.00</td>\n",
       "      <td>6</td>\n",
       "      <td>NaN</td>\n",
       "      <td>NaN</td>\n",
       "    </tr>\n",
       "  </tbody>\n",
       "</table>\n",
       "<p>213 rows × 5 columns</p>\n",
       "</div>"
      ],
      "text/plain": [
       "       month  RFM_Segment  num_session  num_cart  num_booking\n",
       "0    2016-07       122.00           23     23.00        22.00\n",
       "1    2016-07       222.00          128     92.00        81.00\n",
       "2    2016-07       322.00          425     74.00        56.00\n",
       "3    2016-08       122.00           30     28.00        27.00\n",
       "4    2016-08       222.00          404    192.00       151.00\n",
       "..       ...          ...          ...       ...          ...\n",
       "208  2022-05       322.00       277638  38408.00     22973.00\n",
       "209  2022-06       222.00         4085    936.00      1055.00\n",
       "210  2022-06       322.00       279688  39750.00     24174.00\n",
       "211  2022-07       322.00       198620  25473.00     21289.00\n",
       "212  2022-08       322.00            6       NaN          NaN\n",
       "\n",
       "[213 rows x 5 columns]"
      ]
     },
     "execution_count": 44,
     "metadata": {},
     "output_type": "execute_result"
    }
   ],
   "source": [
    "session_info.rename(columns={'session_id_x':'num_session', 'session_id_y':'num_cart', 'booking_id':'num_booking'},inplace=True)\n",
    "session_info"
   ]
  },
  {
   "cell_type": "code",
   "execution_count": 45,
   "metadata": {},
   "outputs": [],
   "source": [
    "session_info['micro_cvr'] = session_info.num_cart / session_info.num_session\n",
    "session_info['macro_cvr'] = session_info.num_booking / session_info.num_session"
   ]
  },
  {
   "cell_type": "code",
   "execution_count": 46,
   "metadata": {},
   "outputs": [
    {
     "data": {
      "text/html": [
       "<div>\n",
       "<style scoped>\n",
       "    .dataframe tbody tr th:only-of-type {\n",
       "        vertical-align: middle;\n",
       "    }\n",
       "\n",
       "    .dataframe tbody tr th {\n",
       "        vertical-align: top;\n",
       "    }\n",
       "\n",
       "    .dataframe thead th {\n",
       "        text-align: right;\n",
       "    }\n",
       "</style>\n",
       "<table border=\"1\" class=\"dataframe\">\n",
       "  <thead>\n",
       "    <tr style=\"text-align: right;\">\n",
       "      <th></th>\n",
       "      <th>month</th>\n",
       "      <th>RFM_Segment</th>\n",
       "      <th>num_session</th>\n",
       "      <th>num_cart</th>\n",
       "      <th>num_booking</th>\n",
       "      <th>micro_cvr</th>\n",
       "      <th>macro_cvr</th>\n",
       "      <th>micro_cvr_diff</th>\n",
       "      <th>macro_cvr_diff</th>\n",
       "    </tr>\n",
       "  </thead>\n",
       "  <tbody>\n",
       "    <tr>\n",
       "      <th>0</th>\n",
       "      <td>2016-07</td>\n",
       "      <td>122.00</td>\n",
       "      <td>23</td>\n",
       "      <td>23.00</td>\n",
       "      <td>22.00</td>\n",
       "      <td>1.00</td>\n",
       "      <td>0.96</td>\n",
       "      <td>NaN</td>\n",
       "      <td>NaN</td>\n",
       "    </tr>\n",
       "    <tr>\n",
       "      <th>1</th>\n",
       "      <td>2016-07</td>\n",
       "      <td>222.00</td>\n",
       "      <td>128</td>\n",
       "      <td>92.00</td>\n",
       "      <td>81.00</td>\n",
       "      <td>0.72</td>\n",
       "      <td>0.63</td>\n",
       "      <td>NaN</td>\n",
       "      <td>NaN</td>\n",
       "    </tr>\n",
       "    <tr>\n",
       "      <th>2</th>\n",
       "      <td>2016-07</td>\n",
       "      <td>322.00</td>\n",
       "      <td>425</td>\n",
       "      <td>74.00</td>\n",
       "      <td>56.00</td>\n",
       "      <td>0.17</td>\n",
       "      <td>0.13</td>\n",
       "      <td>NaN</td>\n",
       "      <td>NaN</td>\n",
       "    </tr>\n",
       "    <tr>\n",
       "      <th>3</th>\n",
       "      <td>2016-08</td>\n",
       "      <td>122.00</td>\n",
       "      <td>30</td>\n",
       "      <td>28.00</td>\n",
       "      <td>27.00</td>\n",
       "      <td>0.93</td>\n",
       "      <td>0.90</td>\n",
       "      <td>-0.07</td>\n",
       "      <td>-0.06</td>\n",
       "    </tr>\n",
       "    <tr>\n",
       "      <th>4</th>\n",
       "      <td>2016-08</td>\n",
       "      <td>222.00</td>\n",
       "      <td>404</td>\n",
       "      <td>192.00</td>\n",
       "      <td>151.00</td>\n",
       "      <td>0.48</td>\n",
       "      <td>0.37</td>\n",
       "      <td>-0.34</td>\n",
       "      <td>-0.41</td>\n",
       "    </tr>\n",
       "    <tr>\n",
       "      <th>...</th>\n",
       "      <td>...</td>\n",
       "      <td>...</td>\n",
       "      <td>...</td>\n",
       "      <td>...</td>\n",
       "      <td>...</td>\n",
       "      <td>...</td>\n",
       "      <td>...</td>\n",
       "      <td>...</td>\n",
       "      <td>...</td>\n",
       "    </tr>\n",
       "    <tr>\n",
       "      <th>208</th>\n",
       "      <td>2022-05</td>\n",
       "      <td>322.00</td>\n",
       "      <td>277638</td>\n",
       "      <td>38408.00</td>\n",
       "      <td>22973.00</td>\n",
       "      <td>0.14</td>\n",
       "      <td>0.08</td>\n",
       "      <td>-0.02</td>\n",
       "      <td>-0.00</td>\n",
       "    </tr>\n",
       "    <tr>\n",
       "      <th>209</th>\n",
       "      <td>2022-06</td>\n",
       "      <td>222.00</td>\n",
       "      <td>4085</td>\n",
       "      <td>936.00</td>\n",
       "      <td>1055.00</td>\n",
       "      <td>0.23</td>\n",
       "      <td>0.26</td>\n",
       "      <td>-0.16</td>\n",
       "      <td>1.21</td>\n",
       "    </tr>\n",
       "    <tr>\n",
       "      <th>210</th>\n",
       "      <td>2022-06</td>\n",
       "      <td>322.00</td>\n",
       "      <td>279688</td>\n",
       "      <td>39750.00</td>\n",
       "      <td>24174.00</td>\n",
       "      <td>0.14</td>\n",
       "      <td>0.09</td>\n",
       "      <td>0.03</td>\n",
       "      <td>0.04</td>\n",
       "    </tr>\n",
       "    <tr>\n",
       "      <th>211</th>\n",
       "      <td>2022-07</td>\n",
       "      <td>322.00</td>\n",
       "      <td>198620</td>\n",
       "      <td>25473.00</td>\n",
       "      <td>21289.00</td>\n",
       "      <td>0.13</td>\n",
       "      <td>0.11</td>\n",
       "      <td>-0.10</td>\n",
       "      <td>0.24</td>\n",
       "    </tr>\n",
       "    <tr>\n",
       "      <th>212</th>\n",
       "      <td>2022-08</td>\n",
       "      <td>322.00</td>\n",
       "      <td>6</td>\n",
       "      <td>NaN</td>\n",
       "      <td>NaN</td>\n",
       "      <td>NaN</td>\n",
       "      <td>NaN</td>\n",
       "      <td>0.00</td>\n",
       "      <td>0.00</td>\n",
       "    </tr>\n",
       "  </tbody>\n",
       "</table>\n",
       "<p>213 rows × 9 columns</p>\n",
       "</div>"
      ],
      "text/plain": [
       "       month  RFM_Segment  num_session  num_cart  num_booking  micro_cvr  \\\n",
       "0    2016-07       122.00           23     23.00        22.00       1.00   \n",
       "1    2016-07       222.00          128     92.00        81.00       0.72   \n",
       "2    2016-07       322.00          425     74.00        56.00       0.17   \n",
       "3    2016-08       122.00           30     28.00        27.00       0.93   \n",
       "4    2016-08       222.00          404    192.00       151.00       0.48   \n",
       "..       ...          ...          ...       ...          ...        ...   \n",
       "208  2022-05       322.00       277638  38408.00     22973.00       0.14   \n",
       "209  2022-06       222.00         4085    936.00      1055.00       0.23   \n",
       "210  2022-06       322.00       279688  39750.00     24174.00       0.14   \n",
       "211  2022-07       322.00       198620  25473.00     21289.00       0.13   \n",
       "212  2022-08       322.00            6       NaN          NaN        NaN   \n",
       "\n",
       "     macro_cvr  micro_cvr_diff  macro_cvr_diff  \n",
       "0         0.96             NaN             NaN  \n",
       "1         0.63             NaN             NaN  \n",
       "2         0.13             NaN             NaN  \n",
       "3         0.90           -0.07           -0.06  \n",
       "4         0.37           -0.34           -0.41  \n",
       "..         ...             ...             ...  \n",
       "208       0.08           -0.02           -0.00  \n",
       "209       0.26           -0.16            1.21  \n",
       "210       0.09            0.03            0.04  \n",
       "211       0.11           -0.10            0.24  \n",
       "212        NaN            0.00            0.00  \n",
       "\n",
       "[213 rows x 9 columns]"
      ]
     },
     "execution_count": 46,
     "metadata": {},
     "output_type": "execute_result"
    }
   ],
   "source": [
    "session_info['micro_cvr_diff'] = session_info.groupby('RFM_Segment').micro_cvr.pct_change()\n",
    "session_info['macro_cvr_diff'] = session_info.groupby('RFM_Segment').macro_cvr.pct_change()\n",
    "session_info"
   ]
  },
  {
   "cell_type": "code",
   "execution_count": 47,
   "metadata": {},
   "outputs": [],
   "source": [
    "session_info = session_info[(session_info.month >= '2020-08') & (session_info.month <= '2022-07')]"
   ]
  },
  {
   "cell_type": "code",
   "execution_count": 48,
   "metadata": {},
   "outputs": [
    {
     "name": "stderr",
     "output_type": "stream",
     "text": [
      "/var/folders/72/sf0gd2_15c7bv2klzkjcqt580000gn/T/ipykernel_1613/2492974251.py:1: SettingWithCopyWarning: \n",
      "A value is trying to be set on a copy of a slice from a DataFrame.\n",
      "Try using .loc[row_indexer,col_indexer] = value instead\n",
      "\n",
      "See the caveats in the documentation: https://pandas.pydata.org/pandas-docs/stable/user_guide/indexing.html#returning-a-view-versus-a-copy\n",
      "  session_info.RFM_Segment = session_info.RFM_Segment.astype('int').astype('str')\n"
     ]
    }
   ],
   "source": [
    "session_info.RFM_Segment = session_info.RFM_Segment.astype('int').astype('str')"
   ]
  },
  {
   "cell_type": "code",
   "execution_count": 49,
   "metadata": {},
   "outputs": [
    {
     "name": "stderr",
     "output_type": "stream",
     "text": [
      "/var/folders/72/sf0gd2_15c7bv2klzkjcqt580000gn/T/ipykernel_1613/2826490406.py:2: SettingWithCopyWarning: \n",
      "A value is trying to be set on a copy of a slice from a DataFrame.\n",
      "Try using .loc[row_indexer,col_indexer] = value instead\n",
      "\n",
      "See the caveats in the documentation: https://pandas.pydata.org/pandas-docs/stable/user_guide/indexing.html#returning-a-view-versus-a-copy\n",
      "  session_info.month = session_info.month.astype('str')\n"
     ]
    },
    {
     "data": {
      "image/png": "[encoded data removed]",
      "text/plain": [
       "<Figure size 1500x600 with 1 Axes>"
      ]
     },
     "metadata": {},
     "output_type": "display_data"
    }
   ],
   "source": [
    "# Micro Conversion(장바구니까지 전환율)\n",
    "session_info.month = session_info.month.astype('str')\n",
    "\n",
    "plt.figure(figsize=(15,6))\n",
    "sns.lineplot(data = session_info, x = 'month', y='micro_cvr', hue='RFM_Segment', hue_order=['322', '222', '122'])\n",
    "label =['2020-08', '2021-01', '2022-01', '2022-05', '2022-06', '2022-07']\n",
    "x_ticks = [month if month in label else '' for month in num_booking_id_rfm.month]\n",
    "plt.xticks(x_ticks, rotation = 90)\n",
    "plt.axvline('2022-06', color='red', linestyle='dotted')\n",
    "plt.title('Micro Conversion Rate')\n",
    "plt.legend()\n",
    "plt.show()"
   ]
  },
  {
   "cell_type": "code",
   "execution_count": 50,
   "metadata": {},
   "outputs": [
    {
     "data": {
      "image/png": "[encoded data removed]",
      "text/plain": [
       "<Figure size 1500x600 with 1 Axes>"
      ]
     },
     "metadata": {},
     "output_type": "display_data"
    }
   ],
   "source": [
    "# Micro Conversion의 변화(장바구니까지 전환율의 백분율 변화)\n",
    "plt.figure(figsize=(15,6))\n",
    "sns.lineplot(data = session_info, x = 'month', y='micro_cvr_diff', hue='RFM_Segment', hue_order=['322', '222', '122'])\n",
    "label =['2020-08', '2021-01', '2022-01', '2022-05', '2022-06', '2022-07']\n",
    "x_ticks = [month if month in label else '' for month in num_booking_id_rfm.month]\n",
    "plt.xticks(x_ticks, rotation = 90)\n",
    "plt.axvline('2022-06', color='red', linestyle='dotted')\n",
    "plt.title('Micro Conversion Rate diff')\n",
    "plt.legend()\n",
    "plt.show()"
   ]
  },
  {
   "cell_type": "code",
   "execution_count": 51,
   "metadata": {},
   "outputs": [
    {
     "data": {
      "image/png": "[encoded data removed]",
      "text/plain": [
       "<Figure size 1500x600 with 1 Axes>"
      ]
     },
     "metadata": {},
     "output_type": "display_data"
    }
   ],
   "source": [
    "# Macro Conversion(구매까지 전환율)\n",
    "plt.figure(figsize=(15,6))\n",
    "sns.lineplot(data = session_info, x = 'month', y='macro_cvr', hue='RFM_Segment', hue_order=['322', '222', '122'])\n",
    "label =['2020-08', '2021-01', '2022-01', '2022-05', '2022-06', '2022-07']\n",
    "x_ticks = [month if month in label else '' for month in num_booking_id_rfm.month]\n",
    "plt.xticks(x_ticks, rotation = 90)\n",
    "plt.axvline('2022-06', color='red', linestyle='dotted')\n",
    "plt.title('Macro Conversion Rate')\n",
    "plt.legend()\n",
    "plt.show()"
   ]
  },
  {
   "cell_type": "code",
   "execution_count": 52,
   "metadata": {},
   "outputs": [
    {
     "data": {
      "image/png": "[encoded data removed]",
      "text/plain": [
       "<Figure size 1500x600 with 1 Axes>"
      ]
     },
     "metadata": {},
     "output_type": "display_data"
    }
   ],
   "source": [
    "# Macro Conversion의 변화(구매까지 전환율의 백분율 변화)\n",
    "plt.figure(figsize=(15,6))\n",
    "sns.lineplot(data = session_info, x = 'month', y='macro_cvr_diff', hue='RFM_Segment', hue_order=['322', '222', '122'])\n",
    "label =['2020-08', '2021-01', '2022-01', '2022-05', '2022-06', '2022-07']\n",
    "x_ticks = [month if month in label else '' for month in num_booking_id_rfm.month]\n",
    "plt.xticks(x_ticks, rotation = 90)\n",
    "plt.axvline('2022-06', color='red', linestyle='dotted')\n",
    "plt.title('Macro Conversion Rate diff')\n",
    "plt.legend()\n",
    "plt.show()"
   ]
  },
  {
   "attachments": {},
   "cell_type": "markdown",
   "metadata": {},
   "source": [
    "#### Segment별 장바구니에서 구매까지의 전환율"
   ]
  },
  {
   "cell_type": "code",
   "execution_count": 53,
   "metadata": {},
   "outputs": [
    {
     "data": {
      "text/plain": [
       "month    RFM_Segment\n",
       "2016-07  122.00           22\n",
       "         222.00           74\n",
       "         322.00           44\n",
       "2016-08  122.00           25\n",
       "         222.00          120\n",
       "                        ... \n",
       "2022-05  222.00           50\n",
       "         322.00         1238\n",
       "2022-06  222.00           11\n",
       "         322.00         1504\n",
       "2022-07  322.00         3810\n",
       "Name: session_id, Length: 210, dtype: int64"
      ]
     },
     "execution_count": 53,
     "metadata": {},
     "output_type": "execute_result"
    }
   ],
   "source": [
    "# Segment별 상품을 장바구니에 담고 구매까지 한 사람들의 수(분자)\n",
    "booking_session_id = df_target_segment[df_target_segment['event_name'] == 'BOOKING'].session_id.unique()\n",
    "cart_buy_id = df_target_segment[(df_target_segment['event_name'] == 'ADD_TO_CART') & df_target_segment['session_id'].isin(booking_session_id)].session_id.unique()\n",
    "num_cart_buy = df_target_segment[df_target_segment['session_id'].isin(cart_buy_id)].groupby(['month', 'RFM_Segment']).session_id.nunique()\n",
    "num_cart_buy\n"
   ]
  },
  {
   "cell_type": "code",
   "execution_count": 54,
   "metadata": {},
   "outputs": [
    {
     "data": {
      "text/plain": [
       "month    RFM_Segment\n",
       "2016-07  122.00            23\n",
       "         222.00            92\n",
       "         322.00            74\n",
       "2016-08  122.00            28\n",
       "         222.00           192\n",
       "                        ...  \n",
       "2022-05  222.00          8748\n",
       "         322.00         38408\n",
       "2022-06  222.00           936\n",
       "         322.00         39750\n",
       "2022-07  322.00         25473\n",
       "Name: session_id, Length: 212, dtype: int64"
      ]
     },
     "execution_count": 54,
     "metadata": {},
     "output_type": "execute_result"
    }
   ],
   "source": [
    "# Segment별 상품을 장바구니에 담은 수(분모)\n",
    "num_cart = df_target_segment[df_target_segment['event_name'] == 'ADD_TO_CART'].groupby(['month', 'RFM_Segment']).session_id.nunique()\n",
    "num_cart"
   ]
  },
  {
   "cell_type": "code",
   "execution_count": 55,
   "metadata": {},
   "outputs": [
    {
     "data": {
      "text/html": [
       "<div>\n",
       "<style scoped>\n",
       "    .dataframe tbody tr th:only-of-type {\n",
       "        vertical-align: middle;\n",
       "    }\n",
       "\n",
       "    .dataframe tbody tr th {\n",
       "        vertical-align: top;\n",
       "    }\n",
       "\n",
       "    .dataframe thead th {\n",
       "        text-align: right;\n",
       "    }\n",
       "</style>\n",
       "<table border=\"1\" class=\"dataframe\">\n",
       "  <thead>\n",
       "    <tr style=\"text-align: right;\">\n",
       "      <th></th>\n",
       "      <th>month</th>\n",
       "      <th>RFM_Segment</th>\n",
       "      <th>session_id</th>\n",
       "    </tr>\n",
       "  </thead>\n",
       "  <tbody>\n",
       "    <tr>\n",
       "      <th>0</th>\n",
       "      <td>2016-07</td>\n",
       "      <td>122.00</td>\n",
       "      <td>0.96</td>\n",
       "    </tr>\n",
       "    <tr>\n",
       "      <th>1</th>\n",
       "      <td>2016-07</td>\n",
       "      <td>222.00</td>\n",
       "      <td>0.80</td>\n",
       "    </tr>\n",
       "    <tr>\n",
       "      <th>2</th>\n",
       "      <td>2016-07</td>\n",
       "      <td>322.00</td>\n",
       "      <td>0.59</td>\n",
       "    </tr>\n",
       "    <tr>\n",
       "      <th>3</th>\n",
       "      <td>2016-08</td>\n",
       "      <td>122.00</td>\n",
       "      <td>0.89</td>\n",
       "    </tr>\n",
       "    <tr>\n",
       "      <th>4</th>\n",
       "      <td>2016-08</td>\n",
       "      <td>222.00</td>\n",
       "      <td>0.62</td>\n",
       "    </tr>\n",
       "    <tr>\n",
       "      <th>...</th>\n",
       "      <td>...</td>\n",
       "      <td>...</td>\n",
       "      <td>...</td>\n",
       "    </tr>\n",
       "    <tr>\n",
       "      <th>207</th>\n",
       "      <td>2022-05</td>\n",
       "      <td>222.00</td>\n",
       "      <td>0.01</td>\n",
       "    </tr>\n",
       "    <tr>\n",
       "      <th>208</th>\n",
       "      <td>2022-05</td>\n",
       "      <td>322.00</td>\n",
       "      <td>0.03</td>\n",
       "    </tr>\n",
       "    <tr>\n",
       "      <th>209</th>\n",
       "      <td>2022-06</td>\n",
       "      <td>222.00</td>\n",
       "      <td>0.01</td>\n",
       "    </tr>\n",
       "    <tr>\n",
       "      <th>210</th>\n",
       "      <td>2022-06</td>\n",
       "      <td>322.00</td>\n",
       "      <td>0.04</td>\n",
       "    </tr>\n",
       "    <tr>\n",
       "      <th>211</th>\n",
       "      <td>2022-07</td>\n",
       "      <td>322.00</td>\n",
       "      <td>0.15</td>\n",
       "    </tr>\n",
       "  </tbody>\n",
       "</table>\n",
       "<p>212 rows × 3 columns</p>\n",
       "</div>"
      ],
      "text/plain": [
       "       month  RFM_Segment  session_id\n",
       "0    2016-07       122.00        0.96\n",
       "1    2016-07       222.00        0.80\n",
       "2    2016-07       322.00        0.59\n",
       "3    2016-08       122.00        0.89\n",
       "4    2016-08       222.00        0.62\n",
       "..       ...          ...         ...\n",
       "207  2022-05       222.00        0.01\n",
       "208  2022-05       322.00        0.03\n",
       "209  2022-06       222.00        0.01\n",
       "210  2022-06       322.00        0.04\n",
       "211  2022-07       322.00        0.15\n",
       "\n",
       "[212 rows x 3 columns]"
      ]
     },
     "execution_count": 55,
     "metadata": {},
     "output_type": "execute_result"
    }
   ],
   "source": [
    "# Segment별 장바구니에서 구매까지의 전환율\n",
    "cart_buy_CVR = num_cart_buy/num_cart\n",
    "cart_buy_CVR = pd.DataFrame(cart_buy_CVR)\n",
    "cart_buy_CVR.reset_index(inplace=True)\n",
    "cart_buy_CVR"
   ]
  },
  {
   "cell_type": "code",
   "execution_count": 56,
   "metadata": {},
   "outputs": [
    {
     "name": "stderr",
     "output_type": "stream",
     "text": [
      "/var/folders/72/sf0gd2_15c7bv2klzkjcqt580000gn/T/ipykernel_1613/2287482668.py:2: SettingWithCopyWarning: \n",
      "A value is trying to be set on a copy of a slice from a DataFrame.\n",
      "Try using .loc[row_indexer,col_indexer] = value instead\n",
      "\n",
      "See the caveats in the documentation: https://pandas.pydata.org/pandas-docs/stable/user_guide/indexing.html#returning-a-view-versus-a-copy\n",
      "  cart_buy_CVR.month = cart_buy_CVR.month.astype('str')\n",
      "/var/folders/72/sf0gd2_15c7bv2klzkjcqt580000gn/T/ipykernel_1613/2287482668.py:3: SettingWithCopyWarning: \n",
      "A value is trying to be set on a copy of a slice from a DataFrame.\n",
      "Try using .loc[row_indexer,col_indexer] = value instead\n",
      "\n",
      "See the caveats in the documentation: https://pandas.pydata.org/pandas-docs/stable/user_guide/indexing.html#returning-a-view-versus-a-copy\n",
      "  cart_buy_CVR.RFM_Segment = cart_buy_CVR.RFM_Segment.astype('int').astype('str')\n",
      "/var/folders/72/sf0gd2_15c7bv2klzkjcqt580000gn/T/ipykernel_1613/2287482668.py:4: SettingWithCopyWarning: \n",
      "A value is trying to be set on a copy of a slice from a DataFrame\n",
      "\n",
      "See the caveats in the documentation: https://pandas.pydata.org/pandas-docs/stable/user_guide/indexing.html#returning-a-view-versus-a-copy\n",
      "  cart_buy_CVR.rename(columns={'session_id' : 'cart_buy_CVR'}, inplace=True)\n"
     ]
    }
   ],
   "source": [
    "cart_buy_CVR = cart_buy_CVR[(cart_buy_CVR.month >= '2020-08') & (cart_buy_CVR.month <= '2022-07')]\n",
    "cart_buy_CVR.month = cart_buy_CVR.month.astype('str')\n",
    "cart_buy_CVR.RFM_Segment = cart_buy_CVR.RFM_Segment.astype('int').astype('str')\n",
    "cart_buy_CVR.rename(columns={'session_id' : 'cart_buy_CVR'}, inplace=True)"
   ]
  },
  {
   "cell_type": "code",
   "execution_count": 57,
   "metadata": {},
   "outputs": [
    {
     "name": "stderr",
     "output_type": "stream",
     "text": [
      "/var/folders/72/sf0gd2_15c7bv2klzkjcqt580000gn/T/ipykernel_1613/1818879540.py:1: SettingWithCopyWarning: \n",
      "A value is trying to be set on a copy of a slice from a DataFrame.\n",
      "Try using .loc[row_indexer,col_indexer] = value instead\n",
      "\n",
      "See the caveats in the documentation: https://pandas.pydata.org/pandas-docs/stable/user_guide/indexing.html#returning-a-view-versus-a-copy\n",
      "  cart_buy_CVR['cart_buy_CVR_diff'] = cart_buy_CVR.groupby('RFM_Segment').cart_buy_CVR.pct_change()\n"
     ]
    },
    {
     "data": {
      "text/html": [
       "<div>\n",
       "<style scoped>\n",
       "    .dataframe tbody tr th:only-of-type {\n",
       "        vertical-align: middle;\n",
       "    }\n",
       "\n",
       "    .dataframe tbody tr th {\n",
       "        vertical-align: top;\n",
       "    }\n",
       "\n",
       "    .dataframe thead th {\n",
       "        text-align: right;\n",
       "    }\n",
       "</style>\n",
       "<table border=\"1\" class=\"dataframe\">\n",
       "  <thead>\n",
       "    <tr style=\"text-align: right;\">\n",
       "      <th></th>\n",
       "      <th>month</th>\n",
       "      <th>RFM_Segment</th>\n",
       "      <th>cart_buy_CVR</th>\n",
       "      <th>cart_buy_CVR_diff</th>\n",
       "    </tr>\n",
       "  </thead>\n",
       "  <tbody>\n",
       "    <tr>\n",
       "      <th>147</th>\n",
       "      <td>2020-08</td>\n",
       "      <td>122</td>\n",
       "      <td>0.04</td>\n",
       "      <td>NaN</td>\n",
       "    </tr>\n",
       "    <tr>\n",
       "      <th>148</th>\n",
       "      <td>2020-08</td>\n",
       "      <td>222</td>\n",
       "      <td>0.02</td>\n",
       "      <td>NaN</td>\n",
       "    </tr>\n",
       "    <tr>\n",
       "      <th>149</th>\n",
       "      <td>2020-08</td>\n",
       "      <td>322</td>\n",
       "      <td>0.04</td>\n",
       "      <td>NaN</td>\n",
       "    </tr>\n",
       "    <tr>\n",
       "      <th>150</th>\n",
       "      <td>2020-09</td>\n",
       "      <td>122</td>\n",
       "      <td>0.01</td>\n",
       "      <td>-0.77</td>\n",
       "    </tr>\n",
       "    <tr>\n",
       "      <th>151</th>\n",
       "      <td>2020-09</td>\n",
       "      <td>222</td>\n",
       "      <td>0.02</td>\n",
       "      <td>-0.02</td>\n",
       "    </tr>\n",
       "    <tr>\n",
       "      <th>...</th>\n",
       "      <td>...</td>\n",
       "      <td>...</td>\n",
       "      <td>...</td>\n",
       "      <td>...</td>\n",
       "    </tr>\n",
       "    <tr>\n",
       "      <th>207</th>\n",
       "      <td>2022-05</td>\n",
       "      <td>222</td>\n",
       "      <td>0.01</td>\n",
       "      <td>-0.26</td>\n",
       "    </tr>\n",
       "    <tr>\n",
       "      <th>208</th>\n",
       "      <td>2022-05</td>\n",
       "      <td>322</td>\n",
       "      <td>0.03</td>\n",
       "      <td>-0.04</td>\n",
       "    </tr>\n",
       "    <tr>\n",
       "      <th>209</th>\n",
       "      <td>2022-06</td>\n",
       "      <td>222</td>\n",
       "      <td>0.01</td>\n",
       "      <td>1.06</td>\n",
       "    </tr>\n",
       "    <tr>\n",
       "      <th>210</th>\n",
       "      <td>2022-06</td>\n",
       "      <td>322</td>\n",
       "      <td>0.04</td>\n",
       "      <td>0.17</td>\n",
       "    </tr>\n",
       "    <tr>\n",
       "      <th>211</th>\n",
       "      <td>2022-07</td>\n",
       "      <td>322</td>\n",
       "      <td>0.15</td>\n",
       "      <td>2.95</td>\n",
       "    </tr>\n",
       "  </tbody>\n",
       "</table>\n",
       "<p>65 rows × 4 columns</p>\n",
       "</div>"
      ],
      "text/plain": [
       "       month RFM_Segment  cart_buy_CVR  cart_buy_CVR_diff\n",
       "147  2020-08         122          0.04                NaN\n",
       "148  2020-08         222          0.02                NaN\n",
       "149  2020-08         322          0.04                NaN\n",
       "150  2020-09         122          0.01              -0.77\n",
       "151  2020-09         222          0.02              -0.02\n",
       "..       ...         ...           ...                ...\n",
       "207  2022-05         222          0.01              -0.26\n",
       "208  2022-05         322          0.03              -0.04\n",
       "209  2022-06         222          0.01               1.06\n",
       "210  2022-06         322          0.04               0.17\n",
       "211  2022-07         322          0.15               2.95\n",
       "\n",
       "[65 rows x 4 columns]"
      ]
     },
     "execution_count": 57,
     "metadata": {},
     "output_type": "execute_result"
    }
   ],
   "source": [
    "cart_buy_CVR['cart_buy_CVR_diff'] = cart_buy_CVR.groupby('RFM_Segment').cart_buy_CVR.pct_change()\n",
    "cart_buy_CVR"
   ]
  },
  {
   "cell_type": "code",
   "execution_count": 58,
   "metadata": {},
   "outputs": [
    {
     "data": {
      "image/png": "[encoded data removed]",
      "text/plain": [
       "<Figure size 1500x600 with 1 Axes>"
      ]
     },
     "metadata": {},
     "output_type": "display_data"
    }
   ],
   "source": [
    "# Segment별 장바구니에서 구매까지의 전환율 그래프\n",
    "plt.figure(figsize=(15,6))\n",
    "sns.lineplot(data = cart_buy_CVR, x = 'month', y='cart_buy_CVR', hue='RFM_Segment', hue_order=['322', '222', '122'])\n",
    "label =['2020-08', '2021-01', '2022-01', '2022-05', '2022-06', '2022-07']\n",
    "x_ticks = [month if month in label else '' for month in num_booking_id_rfm.month]\n",
    "plt.xticks(x_ticks, rotation = 90)\n",
    "plt.axvline('2022-06', color='red', linestyle='dotted')\n",
    "plt.title('CART_BUY Conversion Rate')\n",
    "plt.legend()\n",
    "plt.show()"
   ]
  },
  {
   "cell_type": "code",
   "execution_count": 59,
   "metadata": {},
   "outputs": [
    {
     "data": {
      "image/png": "[encoded data removed]",
      "text/plain": [
       "<Figure size 1500x600 with 1 Axes>"
      ]
     },
     "metadata": {},
     "output_type": "display_data"
    }
   ],
   "source": [
    "# Segment별 장바구니에서 구매까지의 전환율 변화 그래프\n",
    "plt.figure(figsize=(15,6))\n",
    "sns.lineplot(data = cart_buy_CVR, x = 'month', y='cart_buy_CVR_diff', hue='RFM_Segment', hue_order=['322', '222', '122'])\n",
    "label =['2020-08', '2021-01', '2022-01', '2022-05', '2022-06', '2022-07']\n",
    "x_ticks = [month if month in label else '' for month in num_booking_id_rfm.month]\n",
    "plt.xticks(x_ticks, rotation = 90)\n",
    "plt.axvline('2022-06', color='red', linestyle='dotted')\n",
    "plt.title('CART_BUY Conversion Rate Diff')\n",
    "plt.legend()\n",
    "plt.show()"
   ]
  },
  {
   "cell_type": "code",
   "execution_count": null,
   "metadata": {},
   "outputs": [],
   "source": [
    "# 방문이 매출에 영향을 미친다 -> 세그먼트별 매출/세션\n",
    "# "
   ]
  },
  {
   "cell_type": "code",
   "execution_count": 143,
   "metadata": {},
   "outputs": [
    {
     "data": {
      "text/html": [
       "<div>\n",
       "<style scoped>\n",
       "    .dataframe tbody tr th:only-of-type {\n",
       "        vertical-align: middle;\n",
       "    }\n",
       "\n",
       "    .dataframe tbody tr th {\n",
       "        vertical-align: top;\n",
       "    }\n",
       "\n",
       "    .dataframe thead th {\n",
       "        text-align: right;\n",
       "    }\n",
       "</style>\n",
       "<table border=\"1\" class=\"dataframe\">\n",
       "  <thead>\n",
       "    <tr style=\"text-align: right;\">\n",
       "      <th></th>\n",
       "      <th>customer_id</th>\n",
       "      <th>gender</th>\n",
       "      <th>birthdate</th>\n",
       "      <th>home_location</th>\n",
       "      <th>first_join_date</th>\n",
       "      <th>age_join</th>\n",
       "      <th>age_now</th>\n",
       "      <th>age_segment</th>\n",
       "      <th>join_year</th>\n",
       "      <th>join_month</th>\n",
       "      <th>RFM_Segment</th>\n",
       "    </tr>\n",
       "  </thead>\n",
       "  <tbody>\n",
       "    <tr>\n",
       "      <th>0</th>\n",
       "      <td>2870</td>\n",
       "      <td>F</td>\n",
       "      <td>1996-06-14</td>\n",
       "      <td>Sumatera Barat</td>\n",
       "      <td>2019-07-21</td>\n",
       "      <td>23</td>\n",
       "      <td>26</td>\n",
       "      <td>Late 20s(26-30)</td>\n",
       "      <td>2019</td>\n",
       "      <td>7</td>\n",
       "      <td>NaN</td>\n",
       "    </tr>\n",
       "    <tr>\n",
       "      <th>1</th>\n",
       "      <td>8193</td>\n",
       "      <td>F</td>\n",
       "      <td>1993-08-16</td>\n",
       "      <td>Jakarta Raya</td>\n",
       "      <td>2017-07-16</td>\n",
       "      <td>24</td>\n",
       "      <td>29</td>\n",
       "      <td>Late 20s(26-30)</td>\n",
       "      <td>2017</td>\n",
       "      <td>7</td>\n",
       "      <td>NaN</td>\n",
       "    </tr>\n",
       "    <tr>\n",
       "      <th>2</th>\n",
       "      <td>7279</td>\n",
       "      <td>M</td>\n",
       "      <td>1989-01-23</td>\n",
       "      <td>Nusa Tenggara Barat</td>\n",
       "      <td>2020-08-23</td>\n",
       "      <td>31</td>\n",
       "      <td>33</td>\n",
       "      <td>Early 30s(31-35)</td>\n",
       "      <td>2020</td>\n",
       "      <td>8</td>\n",
       "      <td>322.00</td>\n",
       "    </tr>\n",
       "    <tr>\n",
       "      <th>3</th>\n",
       "      <td>88813</td>\n",
       "      <td>M</td>\n",
       "      <td>1991-01-05</td>\n",
       "      <td>Kalimantan Timur</td>\n",
       "      <td>2021-10-03</td>\n",
       "      <td>30</td>\n",
       "      <td>31</td>\n",
       "      <td>Early 30s(31-35)</td>\n",
       "      <td>2021</td>\n",
       "      <td>10</td>\n",
       "      <td>NaN</td>\n",
       "    </tr>\n",
       "    <tr>\n",
       "      <th>4</th>\n",
       "      <td>82542</td>\n",
       "      <td>M</td>\n",
       "      <td>2000-07-15</td>\n",
       "      <td>Kalimantan Selatan</td>\n",
       "      <td>2021-04-11</td>\n",
       "      <td>21</td>\n",
       "      <td>22</td>\n",
       "      <td>Early 20s(21-25)</td>\n",
       "      <td>2021</td>\n",
       "      <td>4</td>\n",
       "      <td>111.00</td>\n",
       "    </tr>\n",
       "    <tr>\n",
       "      <th>...</th>\n",
       "      <td>...</td>\n",
       "      <td>...</td>\n",
       "      <td>...</td>\n",
       "      <td>...</td>\n",
       "      <td>...</td>\n",
       "      <td>...</td>\n",
       "      <td>...</td>\n",
       "      <td>...</td>\n",
       "      <td>...</td>\n",
       "      <td>...</td>\n",
       "      <td>...</td>\n",
       "    </tr>\n",
       "    <tr>\n",
       "      <th>99994</th>\n",
       "      <td>34743</td>\n",
       "      <td>M</td>\n",
       "      <td>2000-11-17</td>\n",
       "      <td>Lampung</td>\n",
       "      <td>2020-10-17</td>\n",
       "      <td>20</td>\n",
       "      <td>22</td>\n",
       "      <td>Early 20s(21-25)</td>\n",
       "      <td>2020</td>\n",
       "      <td>10</td>\n",
       "      <td>322.00</td>\n",
       "    </tr>\n",
       "    <tr>\n",
       "      <th>99995</th>\n",
       "      <td>72065</td>\n",
       "      <td>M</td>\n",
       "      <td>1998-03-30</td>\n",
       "      <td>Aceh</td>\n",
       "      <td>2017-11-25</td>\n",
       "      <td>19</td>\n",
       "      <td>24</td>\n",
       "      <td>Early 20s(21-25)</td>\n",
       "      <td>2017</td>\n",
       "      <td>11</td>\n",
       "      <td>322.00</td>\n",
       "    </tr>\n",
       "    <tr>\n",
       "      <th>99996</th>\n",
       "      <td>32818</td>\n",
       "      <td>F</td>\n",
       "      <td>1993-01-12</td>\n",
       "      <td>Maluku</td>\n",
       "      <td>2018-09-01</td>\n",
       "      <td>25</td>\n",
       "      <td>29</td>\n",
       "      <td>Late 20s(26-30)</td>\n",
       "      <td>2018</td>\n",
       "      <td>9</td>\n",
       "      <td>322.00</td>\n",
       "    </tr>\n",
       "    <tr>\n",
       "      <th>99997</th>\n",
       "      <td>75597</td>\n",
       "      <td>M</td>\n",
       "      <td>2000-09-13</td>\n",
       "      <td>Jambi</td>\n",
       "      <td>2020-05-31</td>\n",
       "      <td>20</td>\n",
       "      <td>22</td>\n",
       "      <td>Early 20s(21-25)</td>\n",
       "      <td>2020</td>\n",
       "      <td>5</td>\n",
       "      <td>NaN</td>\n",
       "    </tr>\n",
       "    <tr>\n",
       "      <th>99998</th>\n",
       "      <td>40573</td>\n",
       "      <td>F</td>\n",
       "      <td>1987-09-10</td>\n",
       "      <td>Banten</td>\n",
       "      <td>2021-07-17</td>\n",
       "      <td>34</td>\n",
       "      <td>35</td>\n",
       "      <td>Early 30s(31-35)</td>\n",
       "      <td>2021</td>\n",
       "      <td>7</td>\n",
       "      <td>322.00</td>\n",
       "    </tr>\n",
       "  </tbody>\n",
       "</table>\n",
       "<p>99999 rows × 11 columns</p>\n",
       "</div>"
      ],
      "text/plain": [
       "       customer_id gender   birthdate        home_location first_join_date  \\\n",
       "0             2870      F  1996-06-14       Sumatera Barat      2019-07-21   \n",
       "1             8193      F  1993-08-16         Jakarta Raya      2017-07-16   \n",
       "2             7279      M  1989-01-23  Nusa Tenggara Barat      2020-08-23   \n",
       "3            88813      M  1991-01-05     Kalimantan Timur      2021-10-03   \n",
       "4            82542      M  2000-07-15   Kalimantan Selatan      2021-04-11   \n",
       "...            ...    ...         ...                  ...             ...   \n",
       "99994        34743      M  2000-11-17              Lampung      2020-10-17   \n",
       "99995        72065      M  1998-03-30                 Aceh      2017-11-25   \n",
       "99996        32818      F  1993-01-12               Maluku      2018-09-01   \n",
       "99997        75597      M  2000-09-13                Jambi      2020-05-31   \n",
       "99998        40573      F  1987-09-10               Banten      2021-07-17   \n",
       "\n",
       "       age_join  age_now       age_segment  join_year  join_month  RFM_Segment  \n",
       "0            23       26   Late 20s(26-30)       2019           7          NaN  \n",
       "1            24       29   Late 20s(26-30)       2017           7          NaN  \n",
       "2            31       33  Early 30s(31-35)       2020           8       322.00  \n",
       "3            30       31  Early 30s(31-35)       2021          10          NaN  \n",
       "4            21       22  Early 20s(21-25)       2021           4       111.00  \n",
       "...         ...      ...               ...        ...         ...          ...  \n",
       "99994        20       22  Early 20s(21-25)       2020          10       322.00  \n",
       "99995        19       24  Early 20s(21-25)       2017          11       322.00  \n",
       "99996        25       29   Late 20s(26-30)       2018           9       322.00  \n",
       "99997        20       22  Early 20s(21-25)       2020           5          NaN  \n",
       "99998        34       35  Early 30s(31-35)       2021           7       322.00  \n",
       "\n",
       "[99999 rows x 11 columns]"
      ]
     },
     "execution_count": 143,
     "metadata": {},
     "output_type": "execute_result"
    }
   ],
   "source": [
    "customer_rfm"
   ]
  },
  {
   "cell_type": "code",
   "execution_count": 142,
   "metadata": {},
   "outputs": [
    {
     "data": {
      "text/plain": [
       "2021    3583\n",
       "2020    2817\n",
       "2019    2028\n",
       "2018    1777\n",
       "2022    1631\n",
       "2017    1419\n",
       "2016     491\n",
       "Name: join_year, dtype: int64"
      ]
     },
     "execution_count": 142,
     "metadata": {},
     "output_type": "execute_result"
    }
   ],
   "source": [
    "customer_rfm[customer_rfm.RFM_Segment == 322].join_year.value_counts()"
   ]
  },
  {
   "cell_type": "code",
   "execution_count": 146,
   "metadata": {},
   "outputs": [
    {
     "data": {
      "text/html": [
       "<div>\n",
       "<style scoped>\n",
       "    .dataframe tbody tr th:only-of-type {\n",
       "        vertical-align: middle;\n",
       "    }\n",
       "\n",
       "    .dataframe tbody tr th {\n",
       "        vertical-align: top;\n",
       "    }\n",
       "\n",
       "    .dataframe thead th {\n",
       "        text-align: right;\n",
       "    }\n",
       "</style>\n",
       "<table border=\"1\" class=\"dataframe\">\n",
       "  <thead>\n",
       "    <tr style=\"text-align: right;\">\n",
       "      <th></th>\n",
       "      <th>customer_id</th>\n",
       "      <th>gender</th>\n",
       "      <th>birthdate</th>\n",
       "      <th>home_location</th>\n",
       "      <th>first_join_date</th>\n",
       "      <th>age_join</th>\n",
       "      <th>age_now</th>\n",
       "      <th>age_segment</th>\n",
       "      <th>join_year</th>\n",
       "      <th>join_month</th>\n",
       "      <th>RFM_Segment</th>\n",
       "      <th>join_y_m</th>\n",
       "    </tr>\n",
       "  </thead>\n",
       "  <tbody>\n",
       "    <tr>\n",
       "      <th>0</th>\n",
       "      <td>2870</td>\n",
       "      <td>F</td>\n",
       "      <td>1996-06-14</td>\n",
       "      <td>Sumatera Barat</td>\n",
       "      <td>2019-07</td>\n",
       "      <td>23</td>\n",
       "      <td>26</td>\n",
       "      <td>Late 20s(26-30)</td>\n",
       "      <td>2019</td>\n",
       "      <td>7</td>\n",
       "      <td>NaN</td>\n",
       "      <td>2026</td>\n",
       "    </tr>\n",
       "    <tr>\n",
       "      <th>1</th>\n",
       "      <td>8193</td>\n",
       "      <td>F</td>\n",
       "      <td>1993-08-16</td>\n",
       "      <td>Jakarta Raya</td>\n",
       "      <td>2017-07</td>\n",
       "      <td>24</td>\n",
       "      <td>29</td>\n",
       "      <td>Late 20s(26-30)</td>\n",
       "      <td>2017</td>\n",
       "      <td>7</td>\n",
       "      <td>NaN</td>\n",
       "      <td>2024</td>\n",
       "    </tr>\n",
       "    <tr>\n",
       "      <th>2</th>\n",
       "      <td>7279</td>\n",
       "      <td>M</td>\n",
       "      <td>1989-01-23</td>\n",
       "      <td>Nusa Tenggara Barat</td>\n",
       "      <td>2020-08</td>\n",
       "      <td>31</td>\n",
       "      <td>33</td>\n",
       "      <td>Early 30s(31-35)</td>\n",
       "      <td>2020</td>\n",
       "      <td>8</td>\n",
       "      <td>322.00</td>\n",
       "      <td>2028</td>\n",
       "    </tr>\n",
       "    <tr>\n",
       "      <th>3</th>\n",
       "      <td>88813</td>\n",
       "      <td>M</td>\n",
       "      <td>1991-01-05</td>\n",
       "      <td>Kalimantan Timur</td>\n",
       "      <td>2021-10</td>\n",
       "      <td>30</td>\n",
       "      <td>31</td>\n",
       "      <td>Early 30s(31-35)</td>\n",
       "      <td>2021</td>\n",
       "      <td>10</td>\n",
       "      <td>NaN</td>\n",
       "      <td>2031</td>\n",
       "    </tr>\n",
       "    <tr>\n",
       "      <th>4</th>\n",
       "      <td>82542</td>\n",
       "      <td>M</td>\n",
       "      <td>2000-07-15</td>\n",
       "      <td>Kalimantan Selatan</td>\n",
       "      <td>2021-04</td>\n",
       "      <td>21</td>\n",
       "      <td>22</td>\n",
       "      <td>Early 20s(21-25)</td>\n",
       "      <td>2021</td>\n",
       "      <td>4</td>\n",
       "      <td>111.00</td>\n",
       "      <td>2025</td>\n",
       "    </tr>\n",
       "    <tr>\n",
       "      <th>...</th>\n",
       "      <td>...</td>\n",
       "      <td>...</td>\n",
       "      <td>...</td>\n",
       "      <td>...</td>\n",
       "      <td>...</td>\n",
       "      <td>...</td>\n",
       "      <td>...</td>\n",
       "      <td>...</td>\n",
       "      <td>...</td>\n",
       "      <td>...</td>\n",
       "      <td>...</td>\n",
       "      <td>...</td>\n",
       "    </tr>\n",
       "    <tr>\n",
       "      <th>99994</th>\n",
       "      <td>34743</td>\n",
       "      <td>M</td>\n",
       "      <td>2000-11-17</td>\n",
       "      <td>Lampung</td>\n",
       "      <td>2020-10</td>\n",
       "      <td>20</td>\n",
       "      <td>22</td>\n",
       "      <td>Early 20s(21-25)</td>\n",
       "      <td>2020</td>\n",
       "      <td>10</td>\n",
       "      <td>322.00</td>\n",
       "      <td>2030</td>\n",
       "    </tr>\n",
       "    <tr>\n",
       "      <th>99995</th>\n",
       "      <td>72065</td>\n",
       "      <td>M</td>\n",
       "      <td>1998-03-30</td>\n",
       "      <td>Aceh</td>\n",
       "      <td>2017-11</td>\n",
       "      <td>19</td>\n",
       "      <td>24</td>\n",
       "      <td>Early 20s(21-25)</td>\n",
       "      <td>2017</td>\n",
       "      <td>11</td>\n",
       "      <td>322.00</td>\n",
       "      <td>2028</td>\n",
       "    </tr>\n",
       "    <tr>\n",
       "      <th>99996</th>\n",
       "      <td>32818</td>\n",
       "      <td>F</td>\n",
       "      <td>1993-01-12</td>\n",
       "      <td>Maluku</td>\n",
       "      <td>2018-09</td>\n",
       "      <td>25</td>\n",
       "      <td>29</td>\n",
       "      <td>Late 20s(26-30)</td>\n",
       "      <td>2018</td>\n",
       "      <td>9</td>\n",
       "      <td>322.00</td>\n",
       "      <td>2027</td>\n",
       "    </tr>\n",
       "    <tr>\n",
       "      <th>99997</th>\n",
       "      <td>75597</td>\n",
       "      <td>M</td>\n",
       "      <td>2000-09-13</td>\n",
       "      <td>Jambi</td>\n",
       "      <td>2020-05</td>\n",
       "      <td>20</td>\n",
       "      <td>22</td>\n",
       "      <td>Early 20s(21-25)</td>\n",
       "      <td>2020</td>\n",
       "      <td>5</td>\n",
       "      <td>NaN</td>\n",
       "      <td>2025</td>\n",
       "    </tr>\n",
       "    <tr>\n",
       "      <th>99998</th>\n",
       "      <td>40573</td>\n",
       "      <td>F</td>\n",
       "      <td>1987-09-10</td>\n",
       "      <td>Banten</td>\n",
       "      <td>2021-07</td>\n",
       "      <td>34</td>\n",
       "      <td>35</td>\n",
       "      <td>Early 30s(31-35)</td>\n",
       "      <td>2021</td>\n",
       "      <td>7</td>\n",
       "      <td>322.00</td>\n",
       "      <td>2028</td>\n",
       "    </tr>\n",
       "  </tbody>\n",
       "</table>\n",
       "<p>99999 rows × 12 columns</p>\n",
       "</div>"
      ],
      "text/plain": [
       "       customer_id gender   birthdate        home_location first_join_date  \\\n",
       "0             2870      F  1996-06-14       Sumatera Barat         2019-07   \n",
       "1             8193      F  1993-08-16         Jakarta Raya         2017-07   \n",
       "2             7279      M  1989-01-23  Nusa Tenggara Barat         2020-08   \n",
       "3            88813      M  1991-01-05     Kalimantan Timur         2021-10   \n",
       "4            82542      M  2000-07-15   Kalimantan Selatan         2021-04   \n",
       "...            ...    ...         ...                  ...             ...   \n",
       "99994        34743      M  2000-11-17              Lampung         2020-10   \n",
       "99995        72065      M  1998-03-30                 Aceh         2017-11   \n",
       "99996        32818      F  1993-01-12               Maluku         2018-09   \n",
       "99997        75597      M  2000-09-13                Jambi         2020-05   \n",
       "99998        40573      F  1987-09-10               Banten         2021-07   \n",
       "\n",
       "       age_join  age_now       age_segment  join_year  join_month  \\\n",
       "0            23       26   Late 20s(26-30)       2019           7   \n",
       "1            24       29   Late 20s(26-30)       2017           7   \n",
       "2            31       33  Early 30s(31-35)       2020           8   \n",
       "3            30       31  Early 30s(31-35)       2021          10   \n",
       "4            21       22  Early 20s(21-25)       2021           4   \n",
       "...         ...      ...               ...        ...         ...   \n",
       "99994        20       22  Early 20s(21-25)       2020          10   \n",
       "99995        19       24  Early 20s(21-25)       2017          11   \n",
       "99996        25       29   Late 20s(26-30)       2018           9   \n",
       "99997        20       22  Early 20s(21-25)       2020           5   \n",
       "99998        34       35  Early 30s(31-35)       2021           7   \n",
       "\n",
       "       RFM_Segment  join_y_m  \n",
       "0              NaN      2026  \n",
       "1              NaN      2024  \n",
       "2           322.00      2028  \n",
       "3              NaN      2031  \n",
       "4           111.00      2025  \n",
       "...            ...       ...  \n",
       "99994       322.00      2030  \n",
       "99995       322.00      2028  \n",
       "99996       322.00      2027  \n",
       "99997          NaN      2025  \n",
       "99998       322.00      2028  \n",
       "\n",
       "[99999 rows x 12 columns]"
      ]
     },
     "execution_count": 146,
     "metadata": {},
     "output_type": "execute_result"
    }
   ],
   "source": [
    "customer_rfm['first_join_date'] = pd.to_datetime(customer_rfm['first_join_date']).dt.to_period('M')\n",
    "customer_rfm\n"
   ]
  },
  {
   "cell_type": "code",
   "execution_count": 158,
   "metadata": {},
   "outputs": [
    {
     "ename": "TypeError",
     "evalue": "Invalid object type at position 0",
     "output_type": "error",
     "traceback": [
      "\u001b[0;31m---------------------------------------------------------------------------\u001b[0m",
      "\u001b[0;31mTypeError\u001b[0m                                 Traceback (most recent call last)",
      "File \u001b[0;32m~/anaconda3/envs/t2project/lib/python3.8/site-packages/pandas/_libs/lib.pyx:2369\u001b[0m, in \u001b[0;36mpandas._libs.lib.maybe_convert_numeric\u001b[0;34m()\u001b[0m\n",
      "\u001b[0;31mTypeError\u001b[0m: Invalid object type",
      "\nDuring handling of the above exception, another exception occurred:\n",
      "\u001b[0;31mTypeError\u001b[0m                                 Traceback (most recent call last)",
      "Cell \u001b[0;32mIn[158], line 3\u001b[0m\n\u001b[1;32m      1\u001b[0m temp \u001b[39m=\u001b[39m pd\u001b[39m.\u001b[39mDataFrame(customer_rfm[customer_rfm\u001b[39m.\u001b[39mRFM_Segment \u001b[39m==\u001b[39m \u001b[39m322\u001b[39m]\u001b[39m.\u001b[39mfirst_join_date\u001b[39m.\u001b[39mvalue_counts())\u001b[39m.\u001b[39mreset_index()\n\u001b[1;32m      2\u001b[0m temp \u001b[39m=\u001b[39m temp\u001b[39m.\u001b[39msort_values(by\u001b[39m=\u001b[39m\u001b[39m'\u001b[39m\u001b[39mindex\u001b[39m\u001b[39m'\u001b[39m)\n\u001b[0;32m----> 3\u001b[0m sns\u001b[39m.\u001b[39;49mlineplot(temp, x \u001b[39m=\u001b[39;49m \u001b[39m'\u001b[39;49m\u001b[39mindex\u001b[39;49m\u001b[39m'\u001b[39;49m)\n",
      "File \u001b[0;32m~/anaconda3/envs/t2project/lib/python3.8/site-packages/seaborn/relational.py:645\u001b[0m, in \u001b[0;36mlineplot\u001b[0;34m(data, x, y, hue, size, style, units, palette, hue_order, hue_norm, sizes, size_order, size_norm, dashes, markers, style_order, estimator, errorbar, n_boot, seed, orient, sort, err_style, err_kws, legend, ci, ax, **kwargs)\u001b[0m\n\u001b[1;32m    642\u001b[0m color \u001b[39m=\u001b[39m kwargs\u001b[39m.\u001b[39mpop(\u001b[39m\"\u001b[39m\u001b[39mcolor\u001b[39m\u001b[39m\"\u001b[39m, kwargs\u001b[39m.\u001b[39mpop(\u001b[39m\"\u001b[39m\u001b[39mc\u001b[39m\u001b[39m\"\u001b[39m, \u001b[39mNone\u001b[39;00m))\n\u001b[1;32m    643\u001b[0m kwargs[\u001b[39m\"\u001b[39m\u001b[39mcolor\u001b[39m\u001b[39m\"\u001b[39m] \u001b[39m=\u001b[39m _default_color(ax\u001b[39m.\u001b[39mplot, hue, color, kwargs)\n\u001b[0;32m--> 645\u001b[0m p\u001b[39m.\u001b[39;49mplot(ax, kwargs)\n\u001b[1;32m    646\u001b[0m \u001b[39mreturn\u001b[39;00m ax\n",
      "File \u001b[0;32m~/anaconda3/envs/t2project/lib/python3.8/site-packages/seaborn/relational.py:423\u001b[0m, in \u001b[0;36m_LinePlotter.plot\u001b[0;34m(self, ax, kws)\u001b[0m\n\u001b[1;32m    415\u001b[0m \u001b[39m# TODO How to handle NA? We don't want NA to propagate through to the\u001b[39;00m\n\u001b[1;32m    416\u001b[0m \u001b[39m# estimate/CI when some values are present, but we would also like\u001b[39;00m\n\u001b[1;32m    417\u001b[0m \u001b[39m# matplotlib to show \"gaps\" in the line when all values are missing.\u001b[39;00m\n\u001b[0;32m   (...)\u001b[0m\n\u001b[1;32m    420\u001b[0m \n\u001b[1;32m    421\u001b[0m \u001b[39m# Loop over the semantic subsets and add to the plot\u001b[39;00m\n\u001b[1;32m    422\u001b[0m grouping_vars \u001b[39m=\u001b[39m \u001b[39m\"\u001b[39m\u001b[39mhue\u001b[39m\u001b[39m\"\u001b[39m, \u001b[39m\"\u001b[39m\u001b[39msize\u001b[39m\u001b[39m\"\u001b[39m, \u001b[39m\"\u001b[39m\u001b[39mstyle\u001b[39m\u001b[39m\"\u001b[39m\n\u001b[0;32m--> 423\u001b[0m \u001b[39mfor\u001b[39;00m sub_vars, sub_data \u001b[39min\u001b[39;00m \u001b[39mself\u001b[39m\u001b[39m.\u001b[39miter_data(grouping_vars, from_comp_data\u001b[39m=\u001b[39m\u001b[39mTrue\u001b[39;00m):\n\u001b[1;32m    425\u001b[0m     \u001b[39mif\u001b[39;00m \u001b[39mself\u001b[39m\u001b[39m.\u001b[39msort:\n\u001b[1;32m    426\u001b[0m         sort_vars \u001b[39m=\u001b[39m [\u001b[39m\"\u001b[39m\u001b[39munits\u001b[39m\u001b[39m\"\u001b[39m, orient, other]\n",
      "File \u001b[0;32m~/anaconda3/envs/t2project/lib/python3.8/site-packages/seaborn/_oldcore.py:1028\u001b[0m, in \u001b[0;36mVectorPlotter.iter_data\u001b[0;34m(self, grouping_vars, reverse, from_comp_data, by_facet, allow_empty, dropna)\u001b[0m\n\u001b[1;32m   1023\u001b[0m grouping_vars \u001b[39m=\u001b[39m [\n\u001b[1;32m   1024\u001b[0m     var \u001b[39mfor\u001b[39;00m var \u001b[39min\u001b[39;00m grouping_vars \u001b[39mif\u001b[39;00m var \u001b[39min\u001b[39;00m \u001b[39mself\u001b[39m\u001b[39m.\u001b[39mvariables\n\u001b[1;32m   1025\u001b[0m ]\n\u001b[1;32m   1027\u001b[0m \u001b[39mif\u001b[39;00m from_comp_data:\n\u001b[0;32m-> 1028\u001b[0m     data \u001b[39m=\u001b[39m \u001b[39mself\u001b[39;49m\u001b[39m.\u001b[39;49mcomp_data\n\u001b[1;32m   1029\u001b[0m \u001b[39melse\u001b[39;00m:\n\u001b[1;32m   1030\u001b[0m     data \u001b[39m=\u001b[39m \u001b[39mself\u001b[39m\u001b[39m.\u001b[39mplot_data\n",
      "File \u001b[0;32m~/anaconda3/envs/t2project/lib/python3.8/site-packages/seaborn/_oldcore.py:1126\u001b[0m, in \u001b[0;36mVectorPlotter.comp_data\u001b[0;34m(self)\u001b[0m\n\u001b[1;32m   1121\u001b[0m     \u001b[39mif\u001b[39;00m var \u001b[39min\u001b[39;00m \u001b[39mself\u001b[39m\u001b[39m.\u001b[39mvar_levels:\n\u001b[1;32m   1122\u001b[0m         \u001b[39m# TODO this should happen in some centralized location\u001b[39;00m\n\u001b[1;32m   1123\u001b[0m         \u001b[39m# it is similar to GH2419, but more complicated because\u001b[39;00m\n\u001b[1;32m   1124\u001b[0m         \u001b[39m# supporting `order` in categorical plots is tricky\u001b[39;00m\n\u001b[1;32m   1125\u001b[0m         orig \u001b[39m=\u001b[39m orig[orig\u001b[39m.\u001b[39misin(\u001b[39mself\u001b[39m\u001b[39m.\u001b[39mvar_levels[var])]\n\u001b[0;32m-> 1126\u001b[0m comp \u001b[39m=\u001b[39m pd\u001b[39m.\u001b[39;49mto_numeric(converter\u001b[39m.\u001b[39;49mconvert_units(orig))\n\u001b[1;32m   1127\u001b[0m \u001b[39mif\u001b[39;00m converter\u001b[39m.\u001b[39mget_scale() \u001b[39m==\u001b[39m \u001b[39m\"\u001b[39m\u001b[39mlog\u001b[39m\u001b[39m\"\u001b[39m:\n\u001b[1;32m   1128\u001b[0m     comp \u001b[39m=\u001b[39m np\u001b[39m.\u001b[39mlog10(comp)\n",
      "File \u001b[0;32m~/anaconda3/envs/t2project/lib/python3.8/site-packages/pandas/core/tools/numeric.py:185\u001b[0m, in \u001b[0;36mto_numeric\u001b[0;34m(arg, errors, downcast)\u001b[0m\n\u001b[1;32m    183\u001b[0m coerce_numeric \u001b[39m=\u001b[39m errors \u001b[39mnot\u001b[39;00m \u001b[39min\u001b[39;00m (\u001b[39m\"\u001b[39m\u001b[39mignore\u001b[39m\u001b[39m\"\u001b[39m, \u001b[39m\"\u001b[39m\u001b[39mraise\u001b[39m\u001b[39m\"\u001b[39m)\n\u001b[1;32m    184\u001b[0m \u001b[39mtry\u001b[39;00m:\n\u001b[0;32m--> 185\u001b[0m     values, _ \u001b[39m=\u001b[39m lib\u001b[39m.\u001b[39;49mmaybe_convert_numeric(\n\u001b[1;32m    186\u001b[0m         values, \u001b[39mset\u001b[39;49m(), coerce_numeric\u001b[39m=\u001b[39;49mcoerce_numeric\n\u001b[1;32m    187\u001b[0m     )\n\u001b[1;32m    188\u001b[0m \u001b[39mexcept\u001b[39;00m (\u001b[39mValueError\u001b[39;00m, \u001b[39mTypeError\u001b[39;00m):\n\u001b[1;32m    189\u001b[0m     \u001b[39mif\u001b[39;00m errors \u001b[39m==\u001b[39m \u001b[39m\"\u001b[39m\u001b[39mraise\u001b[39m\u001b[39m\"\u001b[39m:\n",
      "File \u001b[0;32m~/anaconda3/envs/t2project/lib/python3.8/site-packages/pandas/_libs/lib.pyx:2411\u001b[0m, in \u001b[0;36mpandas._libs.lib.maybe_convert_numeric\u001b[0;34m()\u001b[0m\n",
      "\u001b[0;31mTypeError\u001b[0m: Invalid object type at position 0"
     ]
    },
    {
     "data": {
      "image/png": "[encoded data removed]",
      "text/plain": [
       "<Figure size 640x480 with 1 Axes>"
      ]
     },
     "metadata": {},
     "output_type": "display_data"
    }
   ],
   "source": [
    "temp = pd.DataFrame(customer_rfm[customer_rfm.RFM_Segment == 322].first_join_date.value_counts()).reset_index()\n",
    "temp = temp.sort_values(by='index')\n",
    "sns.lineplot(temp, x = 'index')"
   ]
  }
 ],
 "metadata": {
  "kernelspec": {
   "display_name": "t2project",
   "language": "python",
   "name": "python3"
  },
  "language_info": {
   "codemirror_mode": {
    "name": "ipython",
    "version": 3
   },
   "file_extension": ".py",
   "mimetype": "text/x-python",
   "name": "python",
   "nbconvert_exporter": "python",
   "pygments_lexer": "ipython3",
   "version": "3.8.16"
  },
  "orig_nbformat": 4
 },
 "nbformat": 4,
 "nbformat_minor": 2
}
