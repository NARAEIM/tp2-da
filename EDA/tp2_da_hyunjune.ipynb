{
 "cells": [
  {
   "cell_type": "code",
   "execution_count": 1,
   "metadata": {},
   "outputs": [],
   "source": [
    "import pandas as pd\n",
    "import numpy as np\n",
    "import seaborn as sns\n",
    "import matplotlib.pyplot as plt\n",
    "import datetime\n",
    "import os\n",
    "import plotly.express as px"
   ]
  },
  {
   "cell_type": "code",
   "execution_count": 2,
   "metadata": {},
   "outputs": [
    {
     "name": "stdout",
     "output_type": "stream",
     "text": [
      "<class 'pandas.core.frame.DataFrame'>\n",
      "RangeIndex: 44402 entries, 0 to 44401\n",
      "Data columns (total 10 columns):\n",
      " #   Column              Non-Null Count  Dtype \n",
      "---  ------              --------------  ----- \n",
      " 0   id                  44402 non-null  int64 \n",
      " 1   gender              44402 non-null  object\n",
      " 2   masterCategory      44402 non-null  object\n",
      " 3   subCategory         44402 non-null  object\n",
      " 4   articleType         44402 non-null  object\n",
      " 5   baseColour          44387 non-null  object\n",
      " 6   season              44381 non-null  object\n",
      " 7   usage               44085 non-null  object\n",
      " 8   productDisplayName  44395 non-null  object\n",
      " 9   brand               44395 non-null  object\n",
      "dtypes: int64(1), object(9)\n",
      "memory usage: 3.4+ MB\n"
     ]
    }
   ],
   "source": [
    "# product table 가져오기\n",
    "base_path = os.getcwd()\n",
    "product = pd.read_csv(base_path + '/product_final.csv', skiprows = [6043, 6568, 7398, 7938, 9025, 10263, 10426, 10904, 11372, 11944, 14111, 14531, 15075, 29905, 31624, 33019, 35747, 35961, 37769, 38104, 38274, 38403])\n",
    "product.info()"
   ]
  },
  {
   "cell_type": "code",
   "execution_count": 3,
   "metadata": {},
   "outputs": [
    {
     "name": "stdout",
     "output_type": "stream",
     "text": [
      "<class 'pandas.core.frame.DataFrame'>\n",
      "RangeIndex: 12833602 entries, 0 to 12833601\n",
      "Data columns (total 11 columns):\n",
      " #   Column           Dtype  \n",
      "---  ------           -----  \n",
      " 0   session_id       object \n",
      " 1   event_name       object \n",
      " 2   event_time       object \n",
      " 3   traffic_source   object \n",
      " 4   product_id       float64\n",
      " 5   quantity         int64  \n",
      " 6   item_price       int64  \n",
      " 7   payment_status   float64\n",
      " 8   search_keywords  object \n",
      " 9   promo_code       float64\n",
      " 10  promo_amount     int64  \n",
      "dtypes: float64(3), int64(3), object(5)\n",
      "memory usage: 1.1+ GB\n"
     ]
    }
   ],
   "source": [
    "# click_stream_new table\n",
    "click_stream_new = pd.read_csv(base_path + '/click_stream_final.csv')\n",
    "click_stream_new.info()"
   ]
  },
  {
   "cell_type": "code",
   "execution_count": 4,
   "metadata": {},
   "outputs": [
    {
     "name": "stdout",
     "output_type": "stream",
     "text": [
      "<class 'pandas.core.frame.DataFrame'>\n",
      "RangeIndex: 99999 entries, 0 to 99998\n",
      "Data columns (total 7 columns):\n",
      " #   Column           Non-Null Count  Dtype \n",
      "---  ------           --------------  ----- \n",
      " 0   customer_id      99999 non-null  int64 \n",
      " 1   gender           99999 non-null  object\n",
      " 2   birthdate        99999 non-null  object\n",
      " 3   home_location    99999 non-null  object\n",
      " 4   first_join_date  99999 non-null  object\n",
      " 5   age_join         99999 non-null  int64 \n",
      " 6   age_now          99999 non-null  int64 \n",
      "dtypes: int64(3), object(4)\n",
      "memory usage: 5.3+ MB\n"
     ]
    }
   ],
   "source": [
    "# customer table\n",
    "customer = pd.read_csv(base_path + '/customer_final.csv')\n",
    "customer.info()"
   ]
  },
  {
   "cell_type": "code",
   "execution_count": 5,
   "metadata": {},
   "outputs": [
    {
     "name": "stdout",
     "output_type": "stream",
     "text": [
      "<class 'pandas.core.frame.DataFrame'>\n",
      "RangeIndex: 1254578 entries, 0 to 1254577\n",
      "Data columns (total 14 columns):\n",
      " #   Column          Non-Null Count    Dtype  \n",
      "---  ------          --------------    -----  \n",
      " 0   created_at      1254578 non-null  object \n",
      " 1   customer_id     1254578 non-null  int64  \n",
      " 2   booking_id      1254578 non-null  object \n",
      " 3   session_id      1254578 non-null  object \n",
      " 4   payment_method  1254578 non-null  object \n",
      " 5   payment_status  1254578 non-null  int64  \n",
      " 6   promo_amount    1254578 non-null  int64  \n",
      " 7   promo_code      1254578 non-null  float64\n",
      " 8   shipment_fee    1254578 non-null  int64  \n",
      " 9   total_amount    1254578 non-null  int64  \n",
      " 10  product_id      1254578 non-null  int64  \n",
      " 11  quantity        1254578 non-null  int64  \n",
      " 12  item_price      1254578 non-null  int64  \n",
      " 13  with_promo      1254578 non-null  int64  \n",
      "dtypes: float64(1), int64(9), object(4)\n",
      "memory usage: 134.0+ MB\n"
     ]
    }
   ],
   "source": [
    "# transaction_new\n",
    "transaction_new = pd.read_csv(base_path + '/transaction_final.csv')\n",
    "transaction_new.info()"
   ]
  },
  {
   "cell_type": "code",
   "execution_count": 6,
   "metadata": {},
   "outputs": [
    {
     "name": "stdout",
     "output_type": "stream",
     "text": [
      "<class 'pandas.core.frame.DataFrame'>\n",
      "RangeIndex: 852582 entries, 0 to 852581\n",
      "Data columns (total 3 columns):\n",
      " #   Column       Non-Null Count   Dtype \n",
      "---  ------       --------------   ----- \n",
      " 0   customer_id  852582 non-null  int64 \n",
      " 1   booking_id   852582 non-null  object\n",
      " 2   sales        852582 non-null  int64 \n",
      "dtypes: int64(2), object(1)\n",
      "memory usage: 19.5+ MB\n"
     ]
    }
   ],
   "source": [
    "# sales\n",
    "sales = pd.read_csv(base_path + '/sales.csv')\n",
    "sales.info()"
   ]
  },
  {
   "cell_type": "code",
   "execution_count": 7,
   "metadata": {},
   "outputs": [
    {
     "name": "stdout",
     "output_type": "stream",
     "text": [
      "<class 'pandas.core.frame.DataFrame'>\n",
      "RangeIndex: 12463004 entries, 0 to 12463003\n",
      "Data columns (total 14 columns):\n",
      " #   Column           Dtype  \n",
      "---  ------           -----  \n",
      " 0   session_id       object \n",
      " 1   event_name       object \n",
      " 2   event_time       object \n",
      " 3   traffic_source   object \n",
      " 4   product_id       float64\n",
      " 5   quantity         int64  \n",
      " 6   item_price       int64  \n",
      " 7   payment_status   float64\n",
      " 8   search_keywords  object \n",
      " 9   promo_code       float64\n",
      " 10  promo_amount     int64  \n",
      " 11  customer_id      float64\n",
      " 12  booking_id       object \n",
      " 13  quarter          float64\n",
      "dtypes: float64(5), int64(3), object(6)\n",
      "memory usage: 1.3+ GB\n"
     ]
    }
   ],
   "source": [
    "# 재정의된 session\n",
    "df_buy_split = pd.read_csv(base_path + '/df_buy_split.csv')\n",
    "df_buy_split.info()"
   ]
  },
  {
   "attachments": {},
   "cell_type": "markdown",
   "metadata": {},
   "source": [
    "# 1. 브랜드 관련 EDA"
   ]
  },
  {
   "cell_type": "code",
   "execution_count": 8,
   "metadata": {},
   "outputs": [
    {
     "data": {
      "text/plain": [
       "nike        2288\n",
       "puma        2092\n",
       "adidas      2079\n",
       "united      1401\n",
       "fabindia     750\n",
       "            ... \n",
       "ayaanay        1\n",
       "swayam         1\n",
       "levi'si        1\n",
       "megadeth       1\n",
       "deniyo         1\n",
       "Name: brand, Length: 443, dtype: int64"
      ]
     },
     "execution_count": 8,
     "metadata": {},
     "output_type": "execute_result"
    }
   ],
   "source": [
    "product.brand.value_counts()"
   ]
  },
  {
   "attachments": {},
   "cell_type": "markdown",
   "metadata": {},
   "source": [
    "#### 2021년 인도네시아 18세 ~ 55세 설문조사 결과를 토대로 인기있는 상위 10개 브랜드가 이커머스에 입점되어 있는지 확인 "
   ]
  },
  {
   "cell_type": "code",
   "execution_count": 9,
   "metadata": {},
   "outputs": [
    {
     "name": "stdout",
     "output_type": "stream",
     "text": [
      "adidas : 2079\n",
      "h&m : 0\n",
      "converse : 169\n",
      "uniqlo : 0\n",
      "nike : 2288\n",
      "eiger : 0\n",
      "3second : 0\n",
      "nevada : 0\n",
      "vans : 196\n",
      "cardinal : 0\n"
     ]
    }
   ],
   "source": [
    "# 이커머스 회사의 고객 타겟층인 18세에서 35세와 다소 차이가 있을 수 있으나, 참고 목적으로 살펴볼 예정\n",
    "    # 출처 : https://welcon.kocca.kr/cmm/fms/CrawlingFileDown.do?atchFileId=FILE_f016d5ef-6951-4e09-9cf0-8f513a360671&fileSn=1\n",
    "brand = product.brand.dropna()\n",
    "for famous_brand in ['adidas', 'h&m', 'converse', 'uniqlo', 'nike', 'eiger', '3second', 'nevada', 'vans', 'cardinal']:\n",
    "    print(f'{famous_brand} :', len(brand[brand.str.contains(famous_brand)]))"
   ]
  },
  {
   "cell_type": "code",
   "execution_count": 10,
   "metadata": {},
   "outputs": [],
   "source": [
    "# 문제점 : 인도네시아에서 인기있는 브랜드인 adidas, nike를 제외하고 입점이 안되어있거나 제품 수가 매우 적음"
   ]
  },
  {
   "attachments": {},
   "cell_type": "markdown",
   "metadata": {},
   "source": [
    "# 2. 검색어 관련 EDA (추후 진행)"
   ]
  },
  {
   "cell_type": "code",
   "execution_count": 11,
   "metadata": {},
   "outputs": [
    {
     "data": {
      "text/plain": [
       "array([nan, 'Dress', \"Woman's Bag\", 'Trousers', 'Shirts', 'Shoes',\n",
       "       'Work Bag', 'T-Shirt', 'Hat', 'Second Hand', 'Nike Shoes',\n",
       "       'Adidas Shoes', 'Watch', 'Sandal', 'House dress', 'Pajamas'],\n",
       "      dtype=object)"
      ]
     },
     "execution_count": 11,
     "metadata": {},
     "output_type": "execute_result"
    }
   ],
   "source": [
    "# 검색 키워드 유니크 값\n",
    "click_stream_new.search_keywords.unique()"
   ]
  },
  {
   "cell_type": "code",
   "execution_count": 12,
   "metadata": {},
   "outputs": [
    {
     "data": {
      "text/plain": [
       "1173266"
      ]
     },
     "execution_count": 12,
     "metadata": {},
     "output_type": "execute_result"
    }
   ],
   "source": [
    "# 검색 키워드가 NaN 값이 아닌 데이터: 1173266\n",
    "len(click_stream_new) - click_stream_new.search_keywords.isnull().sum()"
   ]
  },
  {
   "cell_type": "code",
   "execution_count": 13,
   "metadata": {},
   "outputs": [
    {
     "data": {
      "text/html": [
       "<div>\n",
       "<style scoped>\n",
       "    .dataframe tbody tr th:only-of-type {\n",
       "        vertical-align: middle;\n",
       "    }\n",
       "\n",
       "    .dataframe tbody tr th {\n",
       "        vertical-align: top;\n",
       "    }\n",
       "\n",
       "    .dataframe thead th {\n",
       "        text-align: right;\n",
       "    }\n",
       "</style>\n",
       "<table border=\"1\" class=\"dataframe\">\n",
       "  <thead>\n",
       "    <tr style=\"text-align: right;\">\n",
       "      <th></th>\n",
       "      <th></th>\n",
       "      <th>session_id</th>\n",
       "      <th>event_time</th>\n",
       "      <th>traffic_source</th>\n",
       "      <th>product_id</th>\n",
       "      <th>quantity</th>\n",
       "      <th>item_price</th>\n",
       "      <th>payment_status</th>\n",
       "      <th>promo_code</th>\n",
       "      <th>promo_amount</th>\n",
       "    </tr>\n",
       "    <tr>\n",
       "      <th>search_keywords</th>\n",
       "      <th>event_name</th>\n",
       "      <th></th>\n",
       "      <th></th>\n",
       "      <th></th>\n",
       "      <th></th>\n",
       "      <th></th>\n",
       "      <th></th>\n",
       "      <th></th>\n",
       "      <th></th>\n",
       "      <th></th>\n",
       "    </tr>\n",
       "  </thead>\n",
       "  <tbody>\n",
       "    <tr>\n",
       "      <th>Adidas Shoes</th>\n",
       "      <th>SEARCH</th>\n",
       "      <td>25627</td>\n",
       "      <td>25627</td>\n",
       "      <td>25627</td>\n",
       "      <td>0</td>\n",
       "      <td>25627</td>\n",
       "      <td>25627</td>\n",
       "      <td>0</td>\n",
       "      <td>25627</td>\n",
       "      <td>25627</td>\n",
       "    </tr>\n",
       "    <tr>\n",
       "      <th>Dress</th>\n",
       "      <th>SEARCH</th>\n",
       "      <td>333023</td>\n",
       "      <td>333023</td>\n",
       "      <td>333023</td>\n",
       "      <td>0</td>\n",
       "      <td>333023</td>\n",
       "      <td>333023</td>\n",
       "      <td>0</td>\n",
       "      <td>333023</td>\n",
       "      <td>333023</td>\n",
       "    </tr>\n",
       "    <tr>\n",
       "      <th>Hat</th>\n",
       "      <th>SEARCH</th>\n",
       "      <td>4844</td>\n",
       "      <td>4844</td>\n",
       "      <td>4844</td>\n",
       "      <td>0</td>\n",
       "      <td>4844</td>\n",
       "      <td>4844</td>\n",
       "      <td>0</td>\n",
       "      <td>4844</td>\n",
       "      <td>4844</td>\n",
       "    </tr>\n",
       "    <tr>\n",
       "      <th>House dress</th>\n",
       "      <th>SEARCH</th>\n",
       "      <td>1197</td>\n",
       "      <td>1197</td>\n",
       "      <td>1197</td>\n",
       "      <td>0</td>\n",
       "      <td>1197</td>\n",
       "      <td>1197</td>\n",
       "      <td>0</td>\n",
       "      <td>1197</td>\n",
       "      <td>1197</td>\n",
       "    </tr>\n",
       "    <tr>\n",
       "      <th>Nike Shoes</th>\n",
       "      <th>SEARCH</th>\n",
       "      <td>51578</td>\n",
       "      <td>51578</td>\n",
       "      <td>51578</td>\n",
       "      <td>0</td>\n",
       "      <td>51578</td>\n",
       "      <td>51578</td>\n",
       "      <td>0</td>\n",
       "      <td>51578</td>\n",
       "      <td>51578</td>\n",
       "    </tr>\n",
       "    <tr>\n",
       "      <th>Pajamas</th>\n",
       "      <th>SEARCH</th>\n",
       "      <td>2268</td>\n",
       "      <td>2268</td>\n",
       "      <td>2268</td>\n",
       "      <td>0</td>\n",
       "      <td>2268</td>\n",
       "      <td>2268</td>\n",
       "      <td>0</td>\n",
       "      <td>2268</td>\n",
       "      <td>2268</td>\n",
       "    </tr>\n",
       "    <tr>\n",
       "      <th>Sandal</th>\n",
       "      <th>SEARCH</th>\n",
       "      <td>12787</td>\n",
       "      <td>12787</td>\n",
       "      <td>12787</td>\n",
       "      <td>0</td>\n",
       "      <td>12787</td>\n",
       "      <td>12787</td>\n",
       "      <td>0</td>\n",
       "      <td>12787</td>\n",
       "      <td>12787</td>\n",
       "    </tr>\n",
       "    <tr>\n",
       "      <th>Second Hand</th>\n",
       "      <th>SEARCH</th>\n",
       "      <td>224882</td>\n",
       "      <td>224882</td>\n",
       "      <td>224882</td>\n",
       "      <td>0</td>\n",
       "      <td>224882</td>\n",
       "      <td>224882</td>\n",
       "      <td>0</td>\n",
       "      <td>224882</td>\n",
       "      <td>224882</td>\n",
       "    </tr>\n",
       "    <tr>\n",
       "      <th>Shirts</th>\n",
       "      <th>SEARCH</th>\n",
       "      <td>167632</td>\n",
       "      <td>167632</td>\n",
       "      <td>167632</td>\n",
       "      <td>0</td>\n",
       "      <td>167632</td>\n",
       "      <td>167632</td>\n",
       "      <td>0</td>\n",
       "      <td>167632</td>\n",
       "      <td>167632</td>\n",
       "    </tr>\n",
       "    <tr>\n",
       "      <th>Shoes</th>\n",
       "      <th>SEARCH</th>\n",
       "      <td>28029</td>\n",
       "      <td>28029</td>\n",
       "      <td>28029</td>\n",
       "      <td>0</td>\n",
       "      <td>28029</td>\n",
       "      <td>28029</td>\n",
       "      <td>0</td>\n",
       "      <td>28029</td>\n",
       "      <td>28029</td>\n",
       "    </tr>\n",
       "    <tr>\n",
       "      <th>T-Shirt</th>\n",
       "      <th>SEARCH</th>\n",
       "      <td>107184</td>\n",
       "      <td>107184</td>\n",
       "      <td>107184</td>\n",
       "      <td>0</td>\n",
       "      <td>107184</td>\n",
       "      <td>107184</td>\n",
       "      <td>0</td>\n",
       "      <td>107184</td>\n",
       "      <td>107184</td>\n",
       "    </tr>\n",
       "    <tr>\n",
       "      <th>Trousers</th>\n",
       "      <th>SEARCH</th>\n",
       "      <td>39748</td>\n",
       "      <td>39748</td>\n",
       "      <td>39748</td>\n",
       "      <td>0</td>\n",
       "      <td>39748</td>\n",
       "      <td>39748</td>\n",
       "      <td>0</td>\n",
       "      <td>39748</td>\n",
       "      <td>39748</td>\n",
       "    </tr>\n",
       "    <tr>\n",
       "      <th>Watch</th>\n",
       "      <th>SEARCH</th>\n",
       "      <td>7000</td>\n",
       "      <td>7000</td>\n",
       "      <td>7000</td>\n",
       "      <td>0</td>\n",
       "      <td>7000</td>\n",
       "      <td>7000</td>\n",
       "      <td>0</td>\n",
       "      <td>7000</td>\n",
       "      <td>7000</td>\n",
       "    </tr>\n",
       "    <tr>\n",
       "      <th>Woman's Bag</th>\n",
       "      <th>SEARCH</th>\n",
       "      <td>128790</td>\n",
       "      <td>128790</td>\n",
       "      <td>128790</td>\n",
       "      <td>0</td>\n",
       "      <td>128790</td>\n",
       "      <td>128790</td>\n",
       "      <td>0</td>\n",
       "      <td>128790</td>\n",
       "      <td>128790</td>\n",
       "    </tr>\n",
       "    <tr>\n",
       "      <th>Work Bag</th>\n",
       "      <th>SEARCH</th>\n",
       "      <td>38677</td>\n",
       "      <td>38677</td>\n",
       "      <td>38677</td>\n",
       "      <td>0</td>\n",
       "      <td>38677</td>\n",
       "      <td>38677</td>\n",
       "      <td>0</td>\n",
       "      <td>38677</td>\n",
       "      <td>38677</td>\n",
       "    </tr>\n",
       "  </tbody>\n",
       "</table>\n",
       "</div>"
      ],
      "text/plain": [
       "                            session_id  event_time  traffic_source  \\\n",
       "search_keywords event_name                                           \n",
       "Adidas Shoes    SEARCH           25627       25627           25627   \n",
       "Dress           SEARCH          333023      333023          333023   \n",
       "Hat             SEARCH            4844        4844            4844   \n",
       "House dress     SEARCH            1197        1197            1197   \n",
       "Nike Shoes      SEARCH           51578       51578           51578   \n",
       "Pajamas         SEARCH            2268        2268            2268   \n",
       "Sandal          SEARCH           12787       12787           12787   \n",
       "Second Hand     SEARCH          224882      224882          224882   \n",
       "Shirts          SEARCH          167632      167632          167632   \n",
       "Shoes           SEARCH           28029       28029           28029   \n",
       "T-Shirt         SEARCH          107184      107184          107184   \n",
       "Trousers        SEARCH           39748       39748           39748   \n",
       "Watch           SEARCH            7000        7000            7000   \n",
       "Woman's Bag     SEARCH          128790      128790          128790   \n",
       "Work Bag        SEARCH           38677       38677           38677   \n",
       "\n",
       "                            product_id  quantity  item_price  payment_status  \\\n",
       "search_keywords event_name                                                     \n",
       "Adidas Shoes    SEARCH               0     25627       25627               0   \n",
       "Dress           SEARCH               0    333023      333023               0   \n",
       "Hat             SEARCH               0      4844        4844               0   \n",
       "House dress     SEARCH               0      1197        1197               0   \n",
       "Nike Shoes      SEARCH               0     51578       51578               0   \n",
       "Pajamas         SEARCH               0      2268        2268               0   \n",
       "Sandal          SEARCH               0     12787       12787               0   \n",
       "Second Hand     SEARCH               0    224882      224882               0   \n",
       "Shirts          SEARCH               0    167632      167632               0   \n",
       "Shoes           SEARCH               0     28029       28029               0   \n",
       "T-Shirt         SEARCH               0    107184      107184               0   \n",
       "Trousers        SEARCH               0     39748       39748               0   \n",
       "Watch           SEARCH               0      7000        7000               0   \n",
       "Woman's Bag     SEARCH               0    128790      128790               0   \n",
       "Work Bag        SEARCH               0     38677       38677               0   \n",
       "\n",
       "                            promo_code  promo_amount  \n",
       "search_keywords event_name                            \n",
       "Adidas Shoes    SEARCH           25627         25627  \n",
       "Dress           SEARCH          333023        333023  \n",
       "Hat             SEARCH            4844          4844  \n",
       "House dress     SEARCH            1197          1197  \n",
       "Nike Shoes      SEARCH           51578         51578  \n",
       "Pajamas         SEARCH            2268          2268  \n",
       "Sandal          SEARCH           12787         12787  \n",
       "Second Hand     SEARCH          224882        224882  \n",
       "Shirts          SEARCH          167632        167632  \n",
       "Shoes           SEARCH           28029         28029  \n",
       "T-Shirt         SEARCH          107184        107184  \n",
       "Trousers        SEARCH           39748         39748  \n",
       "Watch           SEARCH            7000          7000  \n",
       "Woman's Bag     SEARCH          128790        128790  \n",
       "Work Bag        SEARCH           38677         38677  "
      ]
     },
     "execution_count": 13,
     "metadata": {},
     "output_type": "execute_result"
    }
   ],
   "source": [
    "# SEARCH라는 이벤트가 있을때만 검색 키워드 존재\n",
    "click_stream_new.groupby(['search_keywords', 'event_name']).count()"
   ]
  },
  {
   "cell_type": "code",
   "execution_count": 14,
   "metadata": {},
   "outputs": [
    {
     "data": {
      "text/plain": [
       "Index(['session_id', 'event_name', 'event_time', 'traffic_source',\n",
       "       'product_id', 'quantity', 'item_price', 'payment_status',\n",
       "       'search_keywords', 'promo_code', 'promo_amount'],\n",
       "      dtype='object')"
      ]
     },
     "execution_count": 14,
     "metadata": {},
     "output_type": "execute_result"
    }
   ],
   "source": [
    "click_stream_new.columns"
   ]
  },
  {
   "cell_type": "code",
   "execution_count": 15,
   "metadata": {},
   "outputs": [
    {
     "data": {
      "text/plain": [
       "Dress           333023\n",
       "Second Hand     224882\n",
       "Shirts          167632\n",
       "Woman's Bag     128790\n",
       "T-Shirt         107184\n",
       "Nike Shoes       51578\n",
       "Trousers         39748\n",
       "Work Bag         38677\n",
       "Shoes            28029\n",
       "Adidas Shoes     25627\n",
       "Sandal           12787\n",
       "Watch             7000\n",
       "Hat               4844\n",
       "Pajamas           2268\n",
       "House dress       1197\n",
       "Name: search_keywords, dtype: int64"
      ]
     },
     "execution_count": 15,
     "metadata": {},
     "output_type": "execute_result"
    }
   ],
   "source": [
    "# 검색을 많이 한 순서대로 정렬\n",
    "click_stream_new['search_keywords'].value_counts()"
   ]
  },
  {
   "cell_type": "code",
   "execution_count": 16,
   "metadata": {},
   "outputs": [],
   "source": [
    "# 번역한 데이터를 바탕으로 키워드 순위 재구성 \n",
    "\n",
    "# -> 1. 드레스에 대한 수요가 많음\n",
    "# -> 2. 중고상품에 대한 수요가 많음\n",
    "# -> 3. Nike, Adidas 신발 수요 많음\n",
    "# -> 4. Time에 대한 검색 수요가 있음(..?)"
   ]
  },
  {
   "cell_type": "code",
   "execution_count": 17,
   "metadata": {},
   "outputs": [
    {
     "data": {
      "text/html": [
       "<div>\n",
       "<style scoped>\n",
       "    .dataframe tbody tr th:only-of-type {\n",
       "        vertical-align: middle;\n",
       "    }\n",
       "\n",
       "    .dataframe tbody tr th {\n",
       "        vertical-align: top;\n",
       "    }\n",
       "\n",
       "    .dataframe thead th {\n",
       "        text-align: right;\n",
       "    }\n",
       "</style>\n",
       "<table border=\"1\" class=\"dataframe\">\n",
       "  <thead>\n",
       "    <tr style=\"text-align: right;\">\n",
       "      <th></th>\n",
       "      <th>session_id</th>\n",
       "      <th>event_name</th>\n",
       "      <th>event_time</th>\n",
       "      <th>traffic_source</th>\n",
       "      <th>product_id</th>\n",
       "      <th>quantity</th>\n",
       "      <th>item_price</th>\n",
       "      <th>payment_status</th>\n",
       "      <th>search_keywords</th>\n",
       "      <th>promo_code</th>\n",
       "      <th>promo_amount</th>\n",
       "    </tr>\n",
       "  </thead>\n",
       "  <tbody>\n",
       "    <tr>\n",
       "      <th>0</th>\n",
       "      <td>fb0abf9e-fd1a-44dd-b5c0-2834d5a4b81c</td>\n",
       "      <td>HOMEPAGE</td>\n",
       "      <td>2019-09-06 15:54:32.821085+00:00</td>\n",
       "      <td>MOBILE</td>\n",
       "      <td>NaN</td>\n",
       "      <td>0</td>\n",
       "      <td>0</td>\n",
       "      <td>NaN</td>\n",
       "      <td>NaN</td>\n",
       "      <td>0.0</td>\n",
       "      <td>0</td>\n",
       "    </tr>\n",
       "    <tr>\n",
       "      <th>1</th>\n",
       "      <td>fb0abf9e-fd1a-44dd-b5c0-2834d5a4b81c</td>\n",
       "      <td>SCROLL</td>\n",
       "      <td>2019-09-06 16:03:57.821085+00:00</td>\n",
       "      <td>MOBILE</td>\n",
       "      <td>NaN</td>\n",
       "      <td>0</td>\n",
       "      <td>0</td>\n",
       "      <td>NaN</td>\n",
       "      <td>NaN</td>\n",
       "      <td>0.0</td>\n",
       "      <td>0</td>\n",
       "    </tr>\n",
       "    <tr>\n",
       "      <th>2</th>\n",
       "      <td>7d440441-e67a-4d36-b324-80ffd636d166</td>\n",
       "      <td>HOMEPAGE</td>\n",
       "      <td>2019-09-01 12:05:10.322763+00:00</td>\n",
       "      <td>MOBILE</td>\n",
       "      <td>NaN</td>\n",
       "      <td>0</td>\n",
       "      <td>0</td>\n",
       "      <td>NaN</td>\n",
       "      <td>NaN</td>\n",
       "      <td>0.0</td>\n",
       "      <td>0</td>\n",
       "    </tr>\n",
       "    <tr>\n",
       "      <th>3</th>\n",
       "      <td>7d440441-e67a-4d36-b324-80ffd636d166</td>\n",
       "      <td>ADD_TO_CART</td>\n",
       "      <td>2019-09-01 12:06:33.322763+00:00</td>\n",
       "      <td>MOBILE</td>\n",
       "      <td>15315.0</td>\n",
       "      <td>4</td>\n",
       "      <td>313529</td>\n",
       "      <td>NaN</td>\n",
       "      <td>NaN</td>\n",
       "      <td>0.0</td>\n",
       "      <td>0</td>\n",
       "    </tr>\n",
       "    <tr>\n",
       "      <th>4</th>\n",
       "      <td>7d440441-e67a-4d36-b324-80ffd636d166</td>\n",
       "      <td>BOOKING</td>\n",
       "      <td>2019-09-01 12:15:29.425431+00:00</td>\n",
       "      <td>MOBILE</td>\n",
       "      <td>NaN</td>\n",
       "      <td>0</td>\n",
       "      <td>0</td>\n",
       "      <td>1.0</td>\n",
       "      <td>NaN</td>\n",
       "      <td>0.0</td>\n",
       "      <td>0</td>\n",
       "    </tr>\n",
       "  </tbody>\n",
       "</table>\n",
       "</div>"
      ],
      "text/plain": [
       "                             session_id   event_name  \\\n",
       "0  fb0abf9e-fd1a-44dd-b5c0-2834d5a4b81c     HOMEPAGE   \n",
       "1  fb0abf9e-fd1a-44dd-b5c0-2834d5a4b81c       SCROLL   \n",
       "2  7d440441-e67a-4d36-b324-80ffd636d166     HOMEPAGE   \n",
       "3  7d440441-e67a-4d36-b324-80ffd636d166  ADD_TO_CART   \n",
       "4  7d440441-e67a-4d36-b324-80ffd636d166      BOOKING   \n",
       "\n",
       "                         event_time traffic_source  product_id  quantity  \\\n",
       "0  2019-09-06 15:54:32.821085+00:00         MOBILE         NaN         0   \n",
       "1  2019-09-06 16:03:57.821085+00:00         MOBILE         NaN         0   \n",
       "2  2019-09-01 12:05:10.322763+00:00         MOBILE         NaN         0   \n",
       "3  2019-09-01 12:06:33.322763+00:00         MOBILE     15315.0         4   \n",
       "4  2019-09-01 12:15:29.425431+00:00         MOBILE         NaN         0   \n",
       "\n",
       "   item_price  payment_status search_keywords  promo_code  promo_amount  \n",
       "0           0             NaN             NaN         0.0             0  \n",
       "1           0             NaN             NaN         0.0             0  \n",
       "2           0             NaN             NaN         0.0             0  \n",
       "3      313529             NaN             NaN         0.0             0  \n",
       "4           0             1.0             NaN         0.0             0  "
      ]
     },
     "execution_count": 17,
     "metadata": {},
     "output_type": "execute_result"
    }
   ],
   "source": [
    "click_stream_new.head()"
   ]
  },
  {
   "attachments": {},
   "cell_type": "markdown",
   "metadata": {},
   "source": [
    "키워드 중 중고 검색 비율"
   ]
  },
  {
   "cell_type": "code",
   "execution_count": 18,
   "metadata": {},
   "outputs": [
    {
     "name": "stderr",
     "output_type": "stream",
     "text": [
      "/var/folders/72/sf0gd2_15c7bv2klzkjcqt580000gn/T/ipykernel_17179/846743445.py:3: UserWarning: Converting to PeriodArray/Index representation will drop timezone information.\n",
      "  click_stream_new['month'] = click_stream_new['event_time'].dt.to_period('M')\n"
     ]
    },
    {
     "data": {
      "text/html": [
       "<div>\n",
       "<style scoped>\n",
       "    .dataframe tbody tr th:only-of-type {\n",
       "        vertical-align: middle;\n",
       "    }\n",
       "\n",
       "    .dataframe tbody tr th {\n",
       "        vertical-align: top;\n",
       "    }\n",
       "\n",
       "    .dataframe thead th {\n",
       "        text-align: right;\n",
       "    }\n",
       "</style>\n",
       "<table border=\"1\" class=\"dataframe\">\n",
       "  <thead>\n",
       "    <tr style=\"text-align: right;\">\n",
       "      <th></th>\n",
       "      <th>month</th>\n",
       "      <th>total_count</th>\n",
       "      <th>second_hand_count</th>\n",
       "      <th>ratio_second_hand</th>\n",
       "    </tr>\n",
       "  </thead>\n",
       "  <tbody>\n",
       "    <tr>\n",
       "      <th>0</th>\n",
       "      <td>2016-07</td>\n",
       "      <td>341</td>\n",
       "      <td>60</td>\n",
       "      <td>17.60</td>\n",
       "    </tr>\n",
       "    <tr>\n",
       "      <th>1</th>\n",
       "      <td>2016-08</td>\n",
       "      <td>700</td>\n",
       "      <td>116</td>\n",
       "      <td>16.57</td>\n",
       "    </tr>\n",
       "    <tr>\n",
       "      <th>2</th>\n",
       "      <td>2016-09</td>\n",
       "      <td>985</td>\n",
       "      <td>191</td>\n",
       "      <td>19.39</td>\n",
       "    </tr>\n",
       "    <tr>\n",
       "      <th>3</th>\n",
       "      <td>2016-10</td>\n",
       "      <td>1269</td>\n",
       "      <td>258</td>\n",
       "      <td>20.33</td>\n",
       "    </tr>\n",
       "    <tr>\n",
       "      <th>4</th>\n",
       "      <td>2016-11</td>\n",
       "      <td>1562</td>\n",
       "      <td>300</td>\n",
       "      <td>19.21</td>\n",
       "    </tr>\n",
       "  </tbody>\n",
       "</table>\n",
       "</div>"
      ],
      "text/plain": [
       "     month  total_count  second_hand_count  ratio_second_hand\n",
       "0  2016-07          341                 60              17.60\n",
       "1  2016-08          700                116              16.57\n",
       "2  2016-09          985                191              19.39\n",
       "3  2016-10         1269                258              20.33\n",
       "4  2016-11         1562                300              19.21"
      ]
     },
     "execution_count": 18,
     "metadata": {},
     "output_type": "execute_result"
    }
   ],
   "source": [
    "# 2016~2022년까지 매년 월별 전체검색 수, 중고 검색 수, 전체 검색 수 대비 중고 검색 비율\n",
    "click_stream_new['event_time'] = pd.to_datetime(click_stream_new['event_time'])\n",
    "click_stream_new['month'] = click_stream_new['event_time'].dt.to_period('M')\n",
    "click_stream_new['month'] = click_stream_new['month'].astype('str')\n",
    "\n",
    "# 매년 월별 전체검색 수, 중고 검색 수, 전체 검색 수 대비 중고 검색 비율 정보 데이터프레임\n",
    "temp_click_stream_new = click_stream_new[click_stream_new['search_keywords'].notnull()].groupby('month')['session_id'].count()\n",
    "temp_click_stream_new = pd.DataFrame(data=temp_click_stream_new).reset_index()\n",
    "\n",
    "temp_secondhand = click_stream_new[click_stream_new['search_keywords'] == 'Second Hand'].groupby('month')['session_id'].count()\n",
    "temp_secondhand = pd.DataFrame(data=temp_secondhand).reset_index()\n",
    "\n",
    "temp_click_stream_new = pd.merge(temp_click_stream_new, temp_secondhand, how='inner', on='month')\n",
    "temp_click_stream_new.columns = ['month', 'total_count', 'second_hand_count']\n",
    "\n",
    "temp_click_stream_new['ratio_second_hand'] = round((temp_click_stream_new['second_hand_count'] / temp_click_stream_new['total_count']) * 100, 2)\n",
    "temp_click_stream_new.head()"
   ]
  },
  {
   "cell_type": "code",
   "execution_count": 81,
   "metadata": {},
   "outputs": [
    {
     "data": {
      "application/vnd.plotly.v1+json": {
       "config": {
        "plotlyServerURL": "https://plot.ly"
       },
       "data": [
        {
         "hovertemplate": "month=%{x}<br>second_hand_count=%{y}<extra></extra>",
         "legendgroup": "",
         "line": {
          "color": "#636efa",
          "dash": "solid"
         },
         "marker": {
          "symbol": "circle"
         },
         "mode": "lines+markers",
         "name": "",
         "orientation": "v",
         "showlegend": false,
         "type": "scatter",
         "x": [
          "2016-07",
          "2016-08",
          "2016-09",
          "2016-10",
          "2016-11",
          "2016-12",
          "2017-01",
          "2017-02",
          "2017-03",
          "2017-04",
          "2017-05",
          "2017-06",
          "2017-07",
          "2017-08",
          "2017-09",
          "2017-10",
          "2017-11",
          "2017-12",
          "2018-01",
          "2018-02",
          "2018-03",
          "2018-04",
          "2018-05",
          "2018-06",
          "2018-07",
          "2018-08",
          "2018-09",
          "2018-10",
          "2018-11",
          "2018-12",
          "2019-01",
          "2019-02",
          "2019-03",
          "2019-04",
          "2019-05",
          "2019-06",
          "2019-07",
          "2019-08",
          "2019-09",
          "2019-10",
          "2019-11",
          "2019-12",
          "2020-01",
          "2020-02",
          "2020-03",
          "2020-04",
          "2020-05",
          "2020-06",
          "2020-07",
          "2020-08",
          "2020-09",
          "2020-10",
          "2020-11",
          "2020-12",
          "2021-01",
          "2021-02",
          "2021-03",
          "2021-04",
          "2021-05",
          "2021-06",
          "2021-07",
          "2021-08",
          "2021-09",
          "2021-10",
          "2021-11",
          "2021-12",
          "2022-01",
          "2022-02",
          "2022-03",
          "2022-04",
          "2022-05",
          "2022-06",
          "2022-07"
         ],
         "xaxis": "x",
         "y": [
          60,
          116,
          191,
          258,
          300,
          353,
          358,
          428,
          502,
          551,
          620,
          604,
          835,
          830,
          887,
          997,
          1079,
          1083,
          1127,
          1043,
          1266,
          1242,
          1344,
          1420,
          1612,
          1721,
          1789,
          1784,
          1878,
          1926,
          2009,
          1891,
          2129,
          2175,
          2372,
          2326,
          2502,
          2610,
          2583,
          2870,
          2769,
          2868,
          2976,
          3074,
          3074,
          3161,
          3478,
          3263,
          3818,
          4018,
          3890,
          4233,
          4218,
          4469,
          4517,
          4214,
          4811,
          4883,
          5123,
          4904,
          5752,
          6024,
          6187,
          6738,
          6789,
          7077,
          7151,
          7003,
          8063,
          8372,
          8553,
          8722,
          9019
         ],
         "yaxis": "y"
        }
       ],
       "layout": {
        "height": 500,
        "legend": {
         "tracegroupgap": 0
        },
        "margin": {
         "t": 60
        },
        "template": {
         "data": {
          "bar": [
           {
            "error_x": {
             "color": "#2a3f5f"
            },
            "error_y": {
             "color": "#2a3f5f"
            },
            "marker": {
             "line": {
              "color": "#E5ECF6",
              "width": 0.5
             },
             "pattern": {
              "fillmode": "overlay",
              "size": 10,
              "solidity": 0.2
             }
            },
            "type": "bar"
           }
          ],
          "barpolar": [
           {
            "marker": {
             "line": {
              "color": "#E5ECF6",
              "width": 0.5
             },
             "pattern": {
              "fillmode": "overlay",
              "size": 10,
              "solidity": 0.2
             }
            },
            "type": "barpolar"
           }
          ],
          "carpet": [
           {
            "aaxis": {
             "endlinecolor": "#2a3f5f",
             "gridcolor": "white",
             "linecolor": "white",
             "minorgridcolor": "white",
             "startlinecolor": "#2a3f5f"
            },
            "baxis": {
             "endlinecolor": "#2a3f5f",
             "gridcolor": "white",
             "linecolor": "white",
             "minorgridcolor": "white",
             "startlinecolor": "#2a3f5f"
            },
            "type": "carpet"
           }
          ],
          "choropleth": [
           {
            "colorbar": {
             "outlinewidth": 0,
             "ticks": ""
            },
            "type": "choropleth"
           }
          ],
          "contour": [
           {
            "colorbar": {
             "outlinewidth": 0,
             "ticks": ""
            },
            "colorscale": [
             [
              0,
              "#0d0887"
             ],
             [
              0.1111111111111111,
              "#46039f"
             ],
             [
              0.2222222222222222,
              "#7201a8"
             ],
             [
              0.3333333333333333,
              "#9c179e"
             ],
             [
              0.4444444444444444,
              "#bd3786"
             ],
             [
              0.5555555555555556,
              "#d8576b"
             ],
             [
              0.6666666666666666,
              "#ed7953"
             ],
             [
              0.7777777777777778,
              "#fb9f3a"
             ],
             [
              0.8888888888888888,
              "#fdca26"
             ],
             [
              1,
              "#f0f921"
             ]
            ],
            "type": "contour"
           }
          ],
          "contourcarpet": [
           {
            "colorbar": {
             "outlinewidth": 0,
             "ticks": ""
            },
            "type": "contourcarpet"
           }
          ],
          "heatmap": [
           {
            "colorbar": {
             "outlinewidth": 0,
             "ticks": ""
            },
            "colorscale": [
             [
              0,
              "#0d0887"
             ],
             [
              0.1111111111111111,
              "#46039f"
             ],
             [
              0.2222222222222222,
              "#7201a8"
             ],
             [
              0.3333333333333333,
              "#9c179e"
             ],
             [
              0.4444444444444444,
              "#bd3786"
             ],
             [
              0.5555555555555556,
              "#d8576b"
             ],
             [
              0.6666666666666666,
              "#ed7953"
             ],
             [
              0.7777777777777778,
              "#fb9f3a"
             ],
             [
              0.8888888888888888,
              "#fdca26"
             ],
             [
              1,
              "#f0f921"
             ]
            ],
            "type": "heatmap"
           }
          ],
          "heatmapgl": [
           {
            "colorbar": {
             "outlinewidth": 0,
             "ticks": ""
            },
            "colorscale": [
             [
              0,
              "#0d0887"
             ],
             [
              0.1111111111111111,
              "#46039f"
             ],
             [
              0.2222222222222222,
              "#7201a8"
             ],
             [
              0.3333333333333333,
              "#9c179e"
             ],
             [
              0.4444444444444444,
              "#bd3786"
             ],
             [
              0.5555555555555556,
              "#d8576b"
             ],
             [
              0.6666666666666666,
              "#ed7953"
             ],
             [
              0.7777777777777778,
              "#fb9f3a"
             ],
             [
              0.8888888888888888,
              "#fdca26"
             ],
             [
              1,
              "#f0f921"
             ]
            ],
            "type": "heatmapgl"
           }
          ],
          "histogram": [
           {
            "marker": {
             "pattern": {
              "fillmode": "overlay",
              "size": 10,
              "solidity": 0.2
             }
            },
            "type": "histogram"
           }
          ],
          "histogram2d": [
           {
            "colorbar": {
             "outlinewidth": 0,
             "ticks": ""
            },
            "colorscale": [
             [
              0,
              "#0d0887"
             ],
             [
              0.1111111111111111,
              "#46039f"
             ],
             [
              0.2222222222222222,
              "#7201a8"
             ],
             [
              0.3333333333333333,
              "#9c179e"
             ],
             [
              0.4444444444444444,
              "#bd3786"
             ],
             [
              0.5555555555555556,
              "#d8576b"
             ],
             [
              0.6666666666666666,
              "#ed7953"
             ],
             [
              0.7777777777777778,
              "#fb9f3a"
             ],
             [
              0.8888888888888888,
              "#fdca26"
             ],
             [
              1,
              "#f0f921"
             ]
            ],
            "type": "histogram2d"
           }
          ],
          "histogram2dcontour": [
           {
            "colorbar": {
             "outlinewidth": 0,
             "ticks": ""
            },
            "colorscale": [
             [
              0,
              "#0d0887"
             ],
             [
              0.1111111111111111,
              "#46039f"
             ],
             [
              0.2222222222222222,
              "#7201a8"
             ],
             [
              0.3333333333333333,
              "#9c179e"
             ],
             [
              0.4444444444444444,
              "#bd3786"
             ],
             [
              0.5555555555555556,
              "#d8576b"
             ],
             [
              0.6666666666666666,
              "#ed7953"
             ],
             [
              0.7777777777777778,
              "#fb9f3a"
             ],
             [
              0.8888888888888888,
              "#fdca26"
             ],
             [
              1,
              "#f0f921"
             ]
            ],
            "type": "histogram2dcontour"
           }
          ],
          "mesh3d": [
           {
            "colorbar": {
             "outlinewidth": 0,
             "ticks": ""
            },
            "type": "mesh3d"
           }
          ],
          "parcoords": [
           {
            "line": {
             "colorbar": {
              "outlinewidth": 0,
              "ticks": ""
             }
            },
            "type": "parcoords"
           }
          ],
          "pie": [
           {
            "automargin": true,
            "type": "pie"
           }
          ],
          "scatter": [
           {
            "fillpattern": {
             "fillmode": "overlay",
             "size": 10,
             "solidity": 0.2
            },
            "type": "scatter"
           }
          ],
          "scatter3d": [
           {
            "line": {
             "colorbar": {
              "outlinewidth": 0,
              "ticks": ""
             }
            },
            "marker": {
             "colorbar": {
              "outlinewidth": 0,
              "ticks": ""
             }
            },
            "type": "scatter3d"
           }
          ],
          "scattercarpet": [
           {
            "marker": {
             "colorbar": {
              "outlinewidth": 0,
              "ticks": ""
             }
            },
            "type": "scattercarpet"
           }
          ],
          "scattergeo": [
           {
            "marker": {
             "colorbar": {
              "outlinewidth": 0,
              "ticks": ""
             }
            },
            "type": "scattergeo"
           }
          ],
          "scattergl": [
           {
            "marker": {
             "colorbar": {
              "outlinewidth": 0,
              "ticks": ""
             }
            },
            "type": "scattergl"
           }
          ],
          "scattermapbox": [
           {
            "marker": {
             "colorbar": {
              "outlinewidth": 0,
              "ticks": ""
             }
            },
            "type": "scattermapbox"
           }
          ],
          "scatterpolar": [
           {
            "marker": {
             "colorbar": {
              "outlinewidth": 0,
              "ticks": ""
             }
            },
            "type": "scatterpolar"
           }
          ],
          "scatterpolargl": [
           {
            "marker": {
             "colorbar": {
              "outlinewidth": 0,
              "ticks": ""
             }
            },
            "type": "scatterpolargl"
           }
          ],
          "scatterternary": [
           {
            "marker": {
             "colorbar": {
              "outlinewidth": 0,
              "ticks": ""
             }
            },
            "type": "scatterternary"
           }
          ],
          "surface": [
           {
            "colorbar": {
             "outlinewidth": 0,
             "ticks": ""
            },
            "colorscale": [
             [
              0,
              "#0d0887"
             ],
             [
              0.1111111111111111,
              "#46039f"
             ],
             [
              0.2222222222222222,
              "#7201a8"
             ],
             [
              0.3333333333333333,
              "#9c179e"
             ],
             [
              0.4444444444444444,
              "#bd3786"
             ],
             [
              0.5555555555555556,
              "#d8576b"
             ],
             [
              0.6666666666666666,
              "#ed7953"
             ],
             [
              0.7777777777777778,
              "#fb9f3a"
             ],
             [
              0.8888888888888888,
              "#fdca26"
             ],
             [
              1,
              "#f0f921"
             ]
            ],
            "type": "surface"
           }
          ],
          "table": [
           {
            "cells": {
             "fill": {
              "color": "#EBF0F8"
             },
             "line": {
              "color": "white"
             }
            },
            "header": {
             "fill": {
              "color": "#C8D4E3"
             },
             "line": {
              "color": "white"
             }
            },
            "type": "table"
           }
          ]
         },
         "layout": {
          "annotationdefaults": {
           "arrowcolor": "#2a3f5f",
           "arrowhead": 0,
           "arrowwidth": 1
          },
          "autotypenumbers": "strict",
          "coloraxis": {
           "colorbar": {
            "outlinewidth": 0,
            "ticks": ""
           }
          },
          "colorscale": {
           "diverging": [
            [
             0,
             "#8e0152"
            ],
            [
             0.1,
             "#c51b7d"
            ],
            [
             0.2,
             "#de77ae"
            ],
            [
             0.3,
             "#f1b6da"
            ],
            [
             0.4,
             "#fde0ef"
            ],
            [
             0.5,
             "#f7f7f7"
            ],
            [
             0.6,
             "#e6f5d0"
            ],
            [
             0.7,
             "#b8e186"
            ],
            [
             0.8,
             "#7fbc41"
            ],
            [
             0.9,
             "#4d9221"
            ],
            [
             1,
             "#276419"
            ]
           ],
           "sequential": [
            [
             0,
             "#0d0887"
            ],
            [
             0.1111111111111111,
             "#46039f"
            ],
            [
             0.2222222222222222,
             "#7201a8"
            ],
            [
             0.3333333333333333,
             "#9c179e"
            ],
            [
             0.4444444444444444,
             "#bd3786"
            ],
            [
             0.5555555555555556,
             "#d8576b"
            ],
            [
             0.6666666666666666,
             "#ed7953"
            ],
            [
             0.7777777777777778,
             "#fb9f3a"
            ],
            [
             0.8888888888888888,
             "#fdca26"
            ],
            [
             1,
             "#f0f921"
            ]
           ],
           "sequentialminus": [
            [
             0,
             "#0d0887"
            ],
            [
             0.1111111111111111,
             "#46039f"
            ],
            [
             0.2222222222222222,
             "#7201a8"
            ],
            [
             0.3333333333333333,
             "#9c179e"
            ],
            [
             0.4444444444444444,
             "#bd3786"
            ],
            [
             0.5555555555555556,
             "#d8576b"
            ],
            [
             0.6666666666666666,
             "#ed7953"
            ],
            [
             0.7777777777777778,
             "#fb9f3a"
            ],
            [
             0.8888888888888888,
             "#fdca26"
            ],
            [
             1,
             "#f0f921"
            ]
           ]
          },
          "colorway": [
           "#636efa",
           "#EF553B",
           "#00cc96",
           "#ab63fa",
           "#FFA15A",
           "#19d3f3",
           "#FF6692",
           "#B6E880",
           "#FF97FF",
           "#FECB52"
          ],
          "font": {
           "color": "#2a3f5f"
          },
          "geo": {
           "bgcolor": "white",
           "lakecolor": "white",
           "landcolor": "#E5ECF6",
           "showlakes": true,
           "showland": true,
           "subunitcolor": "white"
          },
          "hoverlabel": {
           "align": "left"
          },
          "hovermode": "closest",
          "mapbox": {
           "style": "light"
          },
          "paper_bgcolor": "white",
          "plot_bgcolor": "#E5ECF6",
          "polar": {
           "angularaxis": {
            "gridcolor": "white",
            "linecolor": "white",
            "ticks": ""
           },
           "bgcolor": "#E5ECF6",
           "radialaxis": {
            "gridcolor": "white",
            "linecolor": "white",
            "ticks": ""
           }
          },
          "scene": {
           "xaxis": {
            "backgroundcolor": "#E5ECF6",
            "gridcolor": "white",
            "gridwidth": 2,
            "linecolor": "white",
            "showbackground": true,
            "ticks": "",
            "zerolinecolor": "white"
           },
           "yaxis": {
            "backgroundcolor": "#E5ECF6",
            "gridcolor": "white",
            "gridwidth": 2,
            "linecolor": "white",
            "showbackground": true,
            "ticks": "",
            "zerolinecolor": "white"
           },
           "zaxis": {
            "backgroundcolor": "#E5ECF6",
            "gridcolor": "white",
            "gridwidth": 2,
            "linecolor": "white",
            "showbackground": true,
            "ticks": "",
            "zerolinecolor": "white"
           }
          },
          "shapedefaults": {
           "line": {
            "color": "#2a3f5f"
           }
          },
          "ternary": {
           "aaxis": {
            "gridcolor": "white",
            "linecolor": "white",
            "ticks": ""
           },
           "baxis": {
            "gridcolor": "white",
            "linecolor": "white",
            "ticks": ""
           },
           "bgcolor": "#E5ECF6",
           "caxis": {
            "gridcolor": "white",
            "linecolor": "white",
            "ticks": ""
           }
          },
          "title": {
           "x": 0.05
          },
          "xaxis": {
           "automargin": true,
           "gridcolor": "white",
           "linecolor": "white",
           "ticks": "",
           "title": {
            "standoff": 15
           },
           "zerolinecolor": "white",
           "zerolinewidth": 2
          },
          "yaxis": {
           "automargin": true,
           "gridcolor": "white",
           "linecolor": "white",
           "ticks": "",
           "title": {
            "standoff": 15
           },
           "zerolinecolor": "white",
           "zerolinewidth": 2
          }
         }
        },
        "title": {
         "text": "Count of Searching Second-Hand per Month",
         "x": 0.5,
         "xanchor": "center",
         "y": 0.95,
         "yanchor": "top"
        },
        "width": 1000,
        "xaxis": {
         "anchor": "y",
         "domain": [
          0,
          1
         ],
         "title": {
          "text": "month"
         }
        },
        "yaxis": {
         "anchor": "x",
         "domain": [
          0,
          1
         ],
         "title": {
          "text": "count"
         }
        }
       }
      }
     },
     "metadata": {},
     "output_type": "display_data"
    }
   ],
   "source": [
    "# 월별로 중고 검색 횟수 모아보기\n",
    "fig = px.line(temp_click_stream_new, x='month', y='second_hand_count', markers=True,\n",
    "              width = 1000, height = 500)\n",
    "fig.update_xaxes(title='month')\n",
    "fig.update_yaxes(title='count')\n",
    "title = {'text':'Count of Searching Second-Hand per Month', 'y':0.95,\n",
    "        'x':0.5,'xanchor':'center', 'yanchor':'top'}\n",
    "fig.update_layout(title=title)\n",
    "fig.show()"
   ]
  },
  {
   "cell_type": "code",
   "execution_count": 20,
   "metadata": {},
   "outputs": [
    {
     "data": {
      "image/png": "[encoded data removed]",
      "text/plain": [
       "<Figure size 1200x600 with 1 Axes>"
      ]
     },
     "metadata": {},
     "output_type": "display_data"
    }
   ],
   "source": [
    "# 월별로 중고 검색 횟수 모아보기\n",
    "plt.figure(figsize=(12, 6))\n",
    "ax = sns.lineplot(temp_click_stream_new, x='month', y='second_hand_count')\n",
    "# ax2 = ax.twinx()\n",
    "# ax2 = sns.barplot(temp_click_stream_new, x='month', y='ratio_second_hand', ax=ax2)\n",
    "\n",
    "plt.xlabel('Month')\n",
    "plt.ylabel('Count')\n",
    "plt.title('Count of Searching Second-Hand per Month')\n",
    "label =['2017-01', '2018-01', '2019-01', '2020-01', '2021-01', '2022-01']\n",
    "x_ticks = [month if month in label else '' for month in temp_click_stream_new.month]\n",
    "plt.xticks(x_ticks, rotation=90)\n",
    "plt.show()"
   ]
  },
  {
   "attachments": {},
   "cell_type": "markdown",
   "metadata": {},
   "source": [
    "중고 검색한 회원 수 비율"
   ]
  },
  {
   "cell_type": "code",
   "execution_count": 21,
   "metadata": {},
   "outputs": [
    {
     "data": {
      "text/html": [
       "<div>\n",
       "<style scoped>\n",
       "    .dataframe tbody tr th:only-of-type {\n",
       "        vertical-align: middle;\n",
       "    }\n",
       "\n",
       "    .dataframe tbody tr th {\n",
       "        vertical-align: top;\n",
       "    }\n",
       "\n",
       "    .dataframe thead th {\n",
       "        text-align: right;\n",
       "    }\n",
       "</style>\n",
       "<table border=\"1\" class=\"dataframe\">\n",
       "  <thead>\n",
       "    <tr style=\"text-align: right;\">\n",
       "      <th></th>\n",
       "      <th>customer_id</th>\n",
       "      <th>gender</th>\n",
       "      <th>birthdate</th>\n",
       "      <th>home_location</th>\n",
       "      <th>first_join_date</th>\n",
       "      <th>age_join</th>\n",
       "      <th>age_now</th>\n",
       "      <th>join_year</th>\n",
       "      <th>join_year_month</th>\n",
       "    </tr>\n",
       "  </thead>\n",
       "  <tbody>\n",
       "    <tr>\n",
       "      <th>0</th>\n",
       "      <td>2870</td>\n",
       "      <td>F</td>\n",
       "      <td>1996-06-14</td>\n",
       "      <td>Sumatera Barat</td>\n",
       "      <td>2019-07-21</td>\n",
       "      <td>23</td>\n",
       "      <td>26</td>\n",
       "      <td>2019</td>\n",
       "      <td>2019-07</td>\n",
       "    </tr>\n",
       "    <tr>\n",
       "      <th>1</th>\n",
       "      <td>8193</td>\n",
       "      <td>F</td>\n",
       "      <td>1993-08-16</td>\n",
       "      <td>Jakarta Raya</td>\n",
       "      <td>2017-07-16</td>\n",
       "      <td>24</td>\n",
       "      <td>29</td>\n",
       "      <td>2017</td>\n",
       "      <td>2017-07</td>\n",
       "    </tr>\n",
       "    <tr>\n",
       "      <th>2</th>\n",
       "      <td>7279</td>\n",
       "      <td>M</td>\n",
       "      <td>1989-01-23</td>\n",
       "      <td>Nusa Tenggara Barat</td>\n",
       "      <td>2020-08-23</td>\n",
       "      <td>31</td>\n",
       "      <td>33</td>\n",
       "      <td>2020</td>\n",
       "      <td>2020-08</td>\n",
       "    </tr>\n",
       "    <tr>\n",
       "      <th>3</th>\n",
       "      <td>88813</td>\n",
       "      <td>M</td>\n",
       "      <td>1991-01-05</td>\n",
       "      <td>Kalimantan Timur</td>\n",
       "      <td>2021-10-03</td>\n",
       "      <td>30</td>\n",
       "      <td>31</td>\n",
       "      <td>2021</td>\n",
       "      <td>2021-10</td>\n",
       "    </tr>\n",
       "    <tr>\n",
       "      <th>4</th>\n",
       "      <td>82542</td>\n",
       "      <td>M</td>\n",
       "      <td>2000-07-15</td>\n",
       "      <td>Kalimantan Selatan</td>\n",
       "      <td>2021-04-11</td>\n",
       "      <td>21</td>\n",
       "      <td>22</td>\n",
       "      <td>2021</td>\n",
       "      <td>2021-04</td>\n",
       "    </tr>\n",
       "    <tr>\n",
       "      <th>...</th>\n",
       "      <td>...</td>\n",
       "      <td>...</td>\n",
       "      <td>...</td>\n",
       "      <td>...</td>\n",
       "      <td>...</td>\n",
       "      <td>...</td>\n",
       "      <td>...</td>\n",
       "      <td>...</td>\n",
       "      <td>...</td>\n",
       "    </tr>\n",
       "    <tr>\n",
       "      <th>99994</th>\n",
       "      <td>34743</td>\n",
       "      <td>M</td>\n",
       "      <td>2000-11-17</td>\n",
       "      <td>Lampung</td>\n",
       "      <td>2020-10-17</td>\n",
       "      <td>20</td>\n",
       "      <td>22</td>\n",
       "      <td>2020</td>\n",
       "      <td>2020-10</td>\n",
       "    </tr>\n",
       "    <tr>\n",
       "      <th>99995</th>\n",
       "      <td>72065</td>\n",
       "      <td>M</td>\n",
       "      <td>1998-03-30</td>\n",
       "      <td>Aceh</td>\n",
       "      <td>2017-11-25</td>\n",
       "      <td>19</td>\n",
       "      <td>24</td>\n",
       "      <td>2017</td>\n",
       "      <td>2017-11</td>\n",
       "    </tr>\n",
       "    <tr>\n",
       "      <th>99996</th>\n",
       "      <td>32818</td>\n",
       "      <td>F</td>\n",
       "      <td>1993-01-12</td>\n",
       "      <td>Maluku</td>\n",
       "      <td>2018-09-01</td>\n",
       "      <td>25</td>\n",
       "      <td>29</td>\n",
       "      <td>2018</td>\n",
       "      <td>2018-09</td>\n",
       "    </tr>\n",
       "    <tr>\n",
       "      <th>99997</th>\n",
       "      <td>75597</td>\n",
       "      <td>M</td>\n",
       "      <td>2000-09-13</td>\n",
       "      <td>Jambi</td>\n",
       "      <td>2020-05-31</td>\n",
       "      <td>20</td>\n",
       "      <td>22</td>\n",
       "      <td>2020</td>\n",
       "      <td>2020-05</td>\n",
       "    </tr>\n",
       "    <tr>\n",
       "      <th>99998</th>\n",
       "      <td>40573</td>\n",
       "      <td>F</td>\n",
       "      <td>1987-09-10</td>\n",
       "      <td>Banten</td>\n",
       "      <td>2021-07-17</td>\n",
       "      <td>34</td>\n",
       "      <td>35</td>\n",
       "      <td>2021</td>\n",
       "      <td>2021-07</td>\n",
       "    </tr>\n",
       "  </tbody>\n",
       "</table>\n",
       "<p>99999 rows × 9 columns</p>\n",
       "</div>"
      ],
      "text/plain": [
       "       customer_id gender   birthdate        home_location first_join_date  \\\n",
       "0             2870      F  1996-06-14       Sumatera Barat      2019-07-21   \n",
       "1             8193      F  1993-08-16         Jakarta Raya      2017-07-16   \n",
       "2             7279      M  1989-01-23  Nusa Tenggara Barat      2020-08-23   \n",
       "3            88813      M  1991-01-05     Kalimantan Timur      2021-10-03   \n",
       "4            82542      M  2000-07-15   Kalimantan Selatan      2021-04-11   \n",
       "...            ...    ...         ...                  ...             ...   \n",
       "99994        34743      M  2000-11-17              Lampung      2020-10-17   \n",
       "99995        72065      M  1998-03-30                 Aceh      2017-11-25   \n",
       "99996        32818      F  1993-01-12               Maluku      2018-09-01   \n",
       "99997        75597      M  2000-09-13                Jambi      2020-05-31   \n",
       "99998        40573      F  1987-09-10               Banten      2021-07-17   \n",
       "\n",
       "       age_join  age_now  join_year join_year_month  \n",
       "0            23       26       2019         2019-07  \n",
       "1            24       29       2017         2017-07  \n",
       "2            31       33       2020         2020-08  \n",
       "3            30       31       2021         2021-10  \n",
       "4            21       22       2021         2021-04  \n",
       "...         ...      ...        ...             ...  \n",
       "99994        20       22       2020         2020-10  \n",
       "99995        19       24       2017         2017-11  \n",
       "99996        25       29       2018         2018-09  \n",
       "99997        20       22       2020         2020-05  \n",
       "99998        34       35       2021         2021-07  \n",
       "\n",
       "[99999 rows x 9 columns]"
      ]
     },
     "execution_count": 21,
     "metadata": {},
     "output_type": "execute_result"
    }
   ],
   "source": [
    "# 연도별 신규 가입 고객 수 계산\n",
    "# 가입년도, 월 Column 생성\n",
    "customer.first_join_date = pd.to_datetime(customer.first_join_date)\n",
    "customer['join_year'] = customer.first_join_date.dt.year\n",
    "customer['join_year_month'] = customer.first_join_date.dt.to_period('M')\n",
    "customer"
   ]
  },
  {
   "cell_type": "code",
   "execution_count": 22,
   "metadata": {},
   "outputs": [],
   "source": [
    "# 검색어에 대한 데이터를 얻기 위해 df_buy_split과 병합\n",
    "join_year_search = pd.merge(df_buy_split, customer[['customer_id', 'join_year', 'join_year_month']], how='left', on='customer_id')"
   ]
  },
  {
   "cell_type": "code",
   "execution_count": 23,
   "metadata": {},
   "outputs": [
    {
     "name": "stderr",
     "output_type": "stream",
     "text": [
      "/var/folders/72/sf0gd2_15c7bv2klzkjcqt580000gn/T/ipykernel_17179/2082637043.py:4: UserWarning:\n",
      "\n",
      "Converting to PeriodArray/Index representation will drop timezone information.\n",
      "\n"
     ]
    },
    {
     "data": {
      "text/html": [
       "<div>\n",
       "<style scoped>\n",
       "    .dataframe tbody tr th:only-of-type {\n",
       "        vertical-align: middle;\n",
       "    }\n",
       "\n",
       "    .dataframe tbody tr th {\n",
       "        vertical-align: top;\n",
       "    }\n",
       "\n",
       "    .dataframe thead th {\n",
       "        text-align: right;\n",
       "    }\n",
       "</style>\n",
       "<table border=\"1\" class=\"dataframe\">\n",
       "  <thead>\n",
       "    <tr style=\"text-align: right;\">\n",
       "      <th></th>\n",
       "      <th>session_id</th>\n",
       "      <th>event_name</th>\n",
       "      <th>event_time</th>\n",
       "      <th>traffic_source</th>\n",
       "      <th>product_id</th>\n",
       "      <th>quantity</th>\n",
       "      <th>item_price</th>\n",
       "      <th>payment_status</th>\n",
       "      <th>search_keywords</th>\n",
       "      <th>promo_code</th>\n",
       "      <th>promo_amount</th>\n",
       "      <th>customer_id</th>\n",
       "      <th>booking_id</th>\n",
       "      <th>quarter</th>\n",
       "      <th>join_year</th>\n",
       "      <th>join_year_month</th>\n",
       "      <th>year</th>\n",
       "      <th>year_month</th>\n",
       "    </tr>\n",
       "  </thead>\n",
       "  <tbody>\n",
       "    <tr>\n",
       "      <th>0</th>\n",
       "      <td>44122af0-0bf5-407b-b3ff-22c082c61426_0</td>\n",
       "      <td>HOMEPAGE</td>\n",
       "      <td>2016-10-09 21:17:34.380487+00:00</td>\n",
       "      <td>MOBILE</td>\n",
       "      <td>NaN</td>\n",
       "      <td>0</td>\n",
       "      <td>0</td>\n",
       "      <td>NaN</td>\n",
       "      <td>NaN</td>\n",
       "      <td>0.0</td>\n",
       "      <td>0</td>\n",
       "      <td>50.0</td>\n",
       "      <td>097c5406-68c5-4ecc-8399-8745cb3ff0ca</td>\n",
       "      <td>NaN</td>\n",
       "      <td>2016</td>\n",
       "      <td>2016-10</td>\n",
       "      <td>2016</td>\n",
       "      <td>2016-10</td>\n",
       "    </tr>\n",
       "    <tr>\n",
       "      <th>1</th>\n",
       "      <td>44122af0-0bf5-407b-b3ff-22c082c61426_0</td>\n",
       "      <td>ADD_TO_CART</td>\n",
       "      <td>2016-10-09 21:28:40.380487+00:00</td>\n",
       "      <td>MOBILE</td>\n",
       "      <td>24639.0</td>\n",
       "      <td>1</td>\n",
       "      <td>255356</td>\n",
       "      <td>NaN</td>\n",
       "      <td>NaN</td>\n",
       "      <td>0.0</td>\n",
       "      <td>0</td>\n",
       "      <td>50.0</td>\n",
       "      <td>097c5406-68c5-4ecc-8399-8745cb3ff0ca</td>\n",
       "      <td>NaN</td>\n",
       "      <td>2016</td>\n",
       "      <td>2016-10</td>\n",
       "      <td>2016</td>\n",
       "      <td>2016-10</td>\n",
       "    </tr>\n",
       "    <tr>\n",
       "      <th>2</th>\n",
       "      <td>44122af0-0bf5-407b-b3ff-22c082c61426_0</td>\n",
       "      <td>HOMEPAGE</td>\n",
       "      <td>2016-10-09 21:30:22.380487+00:00</td>\n",
       "      <td>MOBILE</td>\n",
       "      <td>NaN</td>\n",
       "      <td>0</td>\n",
       "      <td>0</td>\n",
       "      <td>NaN</td>\n",
       "      <td>NaN</td>\n",
       "      <td>0.0</td>\n",
       "      <td>0</td>\n",
       "      <td>50.0</td>\n",
       "      <td>097c5406-68c5-4ecc-8399-8745cb3ff0ca</td>\n",
       "      <td>NaN</td>\n",
       "      <td>2016</td>\n",
       "      <td>2016-10</td>\n",
       "      <td>2016</td>\n",
       "      <td>2016-10</td>\n",
       "    </tr>\n",
       "    <tr>\n",
       "      <th>3</th>\n",
       "      <td>44122af0-0bf5-407b-b3ff-22c082c61426_0</td>\n",
       "      <td>HOMEPAGE</td>\n",
       "      <td>2016-10-09 21:42:14.380487+00:00</td>\n",
       "      <td>MOBILE</td>\n",
       "      <td>NaN</td>\n",
       "      <td>0</td>\n",
       "      <td>0</td>\n",
       "      <td>NaN</td>\n",
       "      <td>NaN</td>\n",
       "      <td>0.0</td>\n",
       "      <td>0</td>\n",
       "      <td>50.0</td>\n",
       "      <td>097c5406-68c5-4ecc-8399-8745cb3ff0ca</td>\n",
       "      <td>NaN</td>\n",
       "      <td>2016</td>\n",
       "      <td>2016-10</td>\n",
       "      <td>2016</td>\n",
       "      <td>2016-10</td>\n",
       "    </tr>\n",
       "    <tr>\n",
       "      <th>4</th>\n",
       "      <td>44122af0-0bf5-407b-b3ff-22c082c61426_0</td>\n",
       "      <td>ITEM_DETAIL</td>\n",
       "      <td>2016-10-09 21:54:20.380487+00:00</td>\n",
       "      <td>MOBILE</td>\n",
       "      <td>NaN</td>\n",
       "      <td>0</td>\n",
       "      <td>0</td>\n",
       "      <td>NaN</td>\n",
       "      <td>NaN</td>\n",
       "      <td>0.0</td>\n",
       "      <td>0</td>\n",
       "      <td>50.0</td>\n",
       "      <td>097c5406-68c5-4ecc-8399-8745cb3ff0ca</td>\n",
       "      <td>NaN</td>\n",
       "      <td>2016</td>\n",
       "      <td>2016-10</td>\n",
       "      <td>2016</td>\n",
       "      <td>2016-10</td>\n",
       "    </tr>\n",
       "  </tbody>\n",
       "</table>\n",
       "</div>"
      ],
      "text/plain": [
       "                               session_id   event_name  \\\n",
       "0  44122af0-0bf5-407b-b3ff-22c082c61426_0     HOMEPAGE   \n",
       "1  44122af0-0bf5-407b-b3ff-22c082c61426_0  ADD_TO_CART   \n",
       "2  44122af0-0bf5-407b-b3ff-22c082c61426_0     HOMEPAGE   \n",
       "3  44122af0-0bf5-407b-b3ff-22c082c61426_0     HOMEPAGE   \n",
       "4  44122af0-0bf5-407b-b3ff-22c082c61426_0  ITEM_DETAIL   \n",
       "\n",
       "                        event_time traffic_source  product_id  quantity  \\\n",
       "0 2016-10-09 21:17:34.380487+00:00         MOBILE         NaN         0   \n",
       "1 2016-10-09 21:28:40.380487+00:00         MOBILE     24639.0         1   \n",
       "2 2016-10-09 21:30:22.380487+00:00         MOBILE         NaN         0   \n",
       "3 2016-10-09 21:42:14.380487+00:00         MOBILE         NaN         0   \n",
       "4 2016-10-09 21:54:20.380487+00:00         MOBILE         NaN         0   \n",
       "\n",
       "   item_price  payment_status search_keywords  promo_code  promo_amount  \\\n",
       "0           0             NaN             NaN         0.0             0   \n",
       "1      255356             NaN             NaN         0.0             0   \n",
       "2           0             NaN             NaN         0.0             0   \n",
       "3           0             NaN             NaN         0.0             0   \n",
       "4           0             NaN             NaN         0.0             0   \n",
       "\n",
       "   customer_id                            booking_id  quarter  join_year  \\\n",
       "0         50.0  097c5406-68c5-4ecc-8399-8745cb3ff0ca      NaN       2016   \n",
       "1         50.0  097c5406-68c5-4ecc-8399-8745cb3ff0ca      NaN       2016   \n",
       "2         50.0  097c5406-68c5-4ecc-8399-8745cb3ff0ca      NaN       2016   \n",
       "3         50.0  097c5406-68c5-4ecc-8399-8745cb3ff0ca      NaN       2016   \n",
       "4         50.0  097c5406-68c5-4ecc-8399-8745cb3ff0ca      NaN       2016   \n",
       "\n",
       "  join_year_month  year year_month  \n",
       "0         2016-10  2016    2016-10  \n",
       "1         2016-10  2016    2016-10  \n",
       "2         2016-10  2016    2016-10  \n",
       "3         2016-10  2016    2016-10  \n",
       "4         2016-10  2016    2016-10  "
      ]
     },
     "execution_count": 23,
     "metadata": {},
     "output_type": "execute_result"
    }
   ],
   "source": [
    "# 중고를 검색한 년도, 월 column 생성\n",
    "join_year_search.event_time = pd.to_datetime(join_year_search.event_time)\n",
    "join_year_search['year'] = join_year_search.event_time.dt.year\n",
    "join_year_search['year_month'] = join_year_search.event_time.dt.to_period('M')\n",
    "join_year_search.head()"
   ]
  },
  {
   "cell_type": "code",
   "execution_count": 24,
   "metadata": {},
   "outputs": [
    {
     "data": {
      "text/plain": [
       "{'year': ['2016-08 ~ 2017-07',\n",
       "  '2017-08 ~ 2018-07',\n",
       "  '2018-08 ~ 2019-07',\n",
       "  '2019-08 ~ 2020-07',\n",
       "  '2020-08 ~ 2021-07',\n",
       "  '2021-08 ~ 2022-07'],\n",
       " 'search_sh_ratio': [0.2947802633666508,\n",
       "  0.32559515008132484,\n",
       "  0.336030305864746,\n",
       "  0.34810443132939883,\n",
       "  0.36202437204675453,\n",
       "  0.382632533922373]}"
      ]
     },
     "execution_count": 24,
     "metadata": {},
     "output_type": "execute_result"
    }
   ],
   "source": [
    "# 2016-08월부터 2022-07월까지 1년 단위\n",
    "# 년도별 가입회원(누적) 대비 중고를 검색한 회원 수\n",
    "ans_dict = {'year':[], 'search_sh_ratio':[]}\n",
    "for year in range(2016, 2022):\n",
    "    second_hand_search = join_year_search[(join_year_search.search_keywords == 'Second Hand') & (join_year_search.year_month >= f'{year}-08') & (join_year_search.year_month <= f'{year + 1}-07')].customer_id.nunique()\n",
    "    num_customer_cumsum = join_year_search.groupby('join_year_month').customer_id.nunique().cumsum().loc[f'{year+1}-07']\n",
    "    ans_dict['year'].append(f'{year}-08 ~ {year+1}-07')\n",
    "    ans_dict['search_sh_ratio'].append(second_hand_search/num_customer_cumsum)\n",
    "\n",
    "ans_dict"
   ]
  },
  {
   "cell_type": "code",
   "execution_count": 90,
   "metadata": {},
   "outputs": [
    {
     "data": {
      "application/vnd.plotly.v1+json": {
       "config": {
        "plotlyServerURL": "https://plot.ly"
       },
       "data": [
        {
         "alignmentgroup": "True",
         "hovertemplate": "period=%{x}<br>ratio=%{y}<extra></extra>",
         "legendgroup": "",
         "marker": {
          "color": "#636efa",
          "pattern": {
           "shape": ""
          }
         },
         "name": "",
         "offsetgroup": "",
         "orientation": "v",
         "showlegend": false,
         "textposition": "auto",
         "type": "bar",
         "x": [
          "2016-08 ~ 2017-07",
          "2017-08 ~ 2018-07",
          "2018-08 ~ 2019-07",
          "2019-08 ~ 2020-07",
          "2020-08 ~ 2021-07",
          "2021-08 ~ 2022-07"
         ],
         "xaxis": "x",
         "y": [
          0.29,
          0.33,
          0.34,
          0.35,
          0.36,
          0.38
         ],
         "yaxis": "y"
        }
       ],
       "layout": {
        "barmode": "relative",
        "height": 500,
        "legend": {
         "tracegroupgap": 0
        },
        "margin": {
         "t": 60
        },
        "template": {
         "data": {
          "bar": [
           {
            "error_x": {
             "color": "#2a3f5f"
            },
            "error_y": {
             "color": "#2a3f5f"
            },
            "marker": {
             "line": {
              "color": "#E5ECF6",
              "width": 0.5
             },
             "pattern": {
              "fillmode": "overlay",
              "size": 10,
              "solidity": 0.2
             }
            },
            "type": "bar"
           }
          ],
          "barpolar": [
           {
            "marker": {
             "line": {
              "color": "#E5ECF6",
              "width": 0.5
             },
             "pattern": {
              "fillmode": "overlay",
              "size": 10,
              "solidity": 0.2
             }
            },
            "type": "barpolar"
           }
          ],
          "carpet": [
           {
            "aaxis": {
             "endlinecolor": "#2a3f5f",
             "gridcolor": "white",
             "linecolor": "white",
             "minorgridcolor": "white",
             "startlinecolor": "#2a3f5f"
            },
            "baxis": {
             "endlinecolor": "#2a3f5f",
             "gridcolor": "white",
             "linecolor": "white",
             "minorgridcolor": "white",
             "startlinecolor": "#2a3f5f"
            },
            "type": "carpet"
           }
          ],
          "choropleth": [
           {
            "colorbar": {
             "outlinewidth": 0,
             "ticks": ""
            },
            "type": "choropleth"
           }
          ],
          "contour": [
           {
            "colorbar": {
             "outlinewidth": 0,
             "ticks": ""
            },
            "colorscale": [
             [
              0,
              "#0d0887"
             ],
             [
              0.1111111111111111,
              "#46039f"
             ],
             [
              0.2222222222222222,
              "#7201a8"
             ],
             [
              0.3333333333333333,
              "#9c179e"
             ],
             [
              0.4444444444444444,
              "#bd3786"
             ],
             [
              0.5555555555555556,
              "#d8576b"
             ],
             [
              0.6666666666666666,
              "#ed7953"
             ],
             [
              0.7777777777777778,
              "#fb9f3a"
             ],
             [
              0.8888888888888888,
              "#fdca26"
             ],
             [
              1,
              "#f0f921"
             ]
            ],
            "type": "contour"
           }
          ],
          "contourcarpet": [
           {
            "colorbar": {
             "outlinewidth": 0,
             "ticks": ""
            },
            "type": "contourcarpet"
           }
          ],
          "heatmap": [
           {
            "colorbar": {
             "outlinewidth": 0,
             "ticks": ""
            },
            "colorscale": [
             [
              0,
              "#0d0887"
             ],
             [
              0.1111111111111111,
              "#46039f"
             ],
             [
              0.2222222222222222,
              "#7201a8"
             ],
             [
              0.3333333333333333,
              "#9c179e"
             ],
             [
              0.4444444444444444,
              "#bd3786"
             ],
             [
              0.5555555555555556,
              "#d8576b"
             ],
             [
              0.6666666666666666,
              "#ed7953"
             ],
             [
              0.7777777777777778,
              "#fb9f3a"
             ],
             [
              0.8888888888888888,
              "#fdca26"
             ],
             [
              1,
              "#f0f921"
             ]
            ],
            "type": "heatmap"
           }
          ],
          "heatmapgl": [
           {
            "colorbar": {
             "outlinewidth": 0,
             "ticks": ""
            },
            "colorscale": [
             [
              0,
              "#0d0887"
             ],
             [
              0.1111111111111111,
              "#46039f"
             ],
             [
              0.2222222222222222,
              "#7201a8"
             ],
             [
              0.3333333333333333,
              "#9c179e"
             ],
             [
              0.4444444444444444,
              "#bd3786"
             ],
             [
              0.5555555555555556,
              "#d8576b"
             ],
             [
              0.6666666666666666,
              "#ed7953"
             ],
             [
              0.7777777777777778,
              "#fb9f3a"
             ],
             [
              0.8888888888888888,
              "#fdca26"
             ],
             [
              1,
              "#f0f921"
             ]
            ],
            "type": "heatmapgl"
           }
          ],
          "histogram": [
           {
            "marker": {
             "pattern": {
              "fillmode": "overlay",
              "size": 10,
              "solidity": 0.2
             }
            },
            "type": "histogram"
           }
          ],
          "histogram2d": [
           {
            "colorbar": {
             "outlinewidth": 0,
             "ticks": ""
            },
            "colorscale": [
             [
              0,
              "#0d0887"
             ],
             [
              0.1111111111111111,
              "#46039f"
             ],
             [
              0.2222222222222222,
              "#7201a8"
             ],
             [
              0.3333333333333333,
              "#9c179e"
             ],
             [
              0.4444444444444444,
              "#bd3786"
             ],
             [
              0.5555555555555556,
              "#d8576b"
             ],
             [
              0.6666666666666666,
              "#ed7953"
             ],
             [
              0.7777777777777778,
              "#fb9f3a"
             ],
             [
              0.8888888888888888,
              "#fdca26"
             ],
             [
              1,
              "#f0f921"
             ]
            ],
            "type": "histogram2d"
           }
          ],
          "histogram2dcontour": [
           {
            "colorbar": {
             "outlinewidth": 0,
             "ticks": ""
            },
            "colorscale": [
             [
              0,
              "#0d0887"
             ],
             [
              0.1111111111111111,
              "#46039f"
             ],
             [
              0.2222222222222222,
              "#7201a8"
             ],
             [
              0.3333333333333333,
              "#9c179e"
             ],
             [
              0.4444444444444444,
              "#bd3786"
             ],
             [
              0.5555555555555556,
              "#d8576b"
             ],
             [
              0.6666666666666666,
              "#ed7953"
             ],
             [
              0.7777777777777778,
              "#fb9f3a"
             ],
             [
              0.8888888888888888,
              "#fdca26"
             ],
             [
              1,
              "#f0f921"
             ]
            ],
            "type": "histogram2dcontour"
           }
          ],
          "mesh3d": [
           {
            "colorbar": {
             "outlinewidth": 0,
             "ticks": ""
            },
            "type": "mesh3d"
           }
          ],
          "parcoords": [
           {
            "line": {
             "colorbar": {
              "outlinewidth": 0,
              "ticks": ""
             }
            },
            "type": "parcoords"
           }
          ],
          "pie": [
           {
            "automargin": true,
            "type": "pie"
           }
          ],
          "scatter": [
           {
            "fillpattern": {
             "fillmode": "overlay",
             "size": 10,
             "solidity": 0.2
            },
            "type": "scatter"
           }
          ],
          "scatter3d": [
           {
            "line": {
             "colorbar": {
              "outlinewidth": 0,
              "ticks": ""
             }
            },
            "marker": {
             "colorbar": {
              "outlinewidth": 0,
              "ticks": ""
             }
            },
            "type": "scatter3d"
           }
          ],
          "scattercarpet": [
           {
            "marker": {
             "colorbar": {
              "outlinewidth": 0,
              "ticks": ""
             }
            },
            "type": "scattercarpet"
           }
          ],
          "scattergeo": [
           {
            "marker": {
             "colorbar": {
              "outlinewidth": 0,
              "ticks": ""
             }
            },
            "type": "scattergeo"
           }
          ],
          "scattergl": [
           {
            "marker": {
             "colorbar": {
              "outlinewidth": 0,
              "ticks": ""
             }
            },
            "type": "scattergl"
           }
          ],
          "scattermapbox": [
           {
            "marker": {
             "colorbar": {
              "outlinewidth": 0,
              "ticks": ""
             }
            },
            "type": "scattermapbox"
           }
          ],
          "scatterpolar": [
           {
            "marker": {
             "colorbar": {
              "outlinewidth": 0,
              "ticks": ""
             }
            },
            "type": "scatterpolar"
           }
          ],
          "scatterpolargl": [
           {
            "marker": {
             "colorbar": {
              "outlinewidth": 0,
              "ticks": ""
             }
            },
            "type": "scatterpolargl"
           }
          ],
          "scatterternary": [
           {
            "marker": {
             "colorbar": {
              "outlinewidth": 0,
              "ticks": ""
             }
            },
            "type": "scatterternary"
           }
          ],
          "surface": [
           {
            "colorbar": {
             "outlinewidth": 0,
             "ticks": ""
            },
            "colorscale": [
             [
              0,
              "#0d0887"
             ],
             [
              0.1111111111111111,
              "#46039f"
             ],
             [
              0.2222222222222222,
              "#7201a8"
             ],
             [
              0.3333333333333333,
              "#9c179e"
             ],
             [
              0.4444444444444444,
              "#bd3786"
             ],
             [
              0.5555555555555556,
              "#d8576b"
             ],
             [
              0.6666666666666666,
              "#ed7953"
             ],
             [
              0.7777777777777778,
              "#fb9f3a"
             ],
             [
              0.8888888888888888,
              "#fdca26"
             ],
             [
              1,
              "#f0f921"
             ]
            ],
            "type": "surface"
           }
          ],
          "table": [
           {
            "cells": {
             "fill": {
              "color": "#EBF0F8"
             },
             "line": {
              "color": "white"
             }
            },
            "header": {
             "fill": {
              "color": "#C8D4E3"
             },
             "line": {
              "color": "white"
             }
            },
            "type": "table"
           }
          ]
         },
         "layout": {
          "annotationdefaults": {
           "arrowcolor": "#2a3f5f",
           "arrowhead": 0,
           "arrowwidth": 1
          },
          "autotypenumbers": "strict",
          "coloraxis": {
           "colorbar": {
            "outlinewidth": 0,
            "ticks": ""
           }
          },
          "colorscale": {
           "diverging": [
            [
             0,
             "#8e0152"
            ],
            [
             0.1,
             "#c51b7d"
            ],
            [
             0.2,
             "#de77ae"
            ],
            [
             0.3,
             "#f1b6da"
            ],
            [
             0.4,
             "#fde0ef"
            ],
            [
             0.5,
             "#f7f7f7"
            ],
            [
             0.6,
             "#e6f5d0"
            ],
            [
             0.7,
             "#b8e186"
            ],
            [
             0.8,
             "#7fbc41"
            ],
            [
             0.9,
             "#4d9221"
            ],
            [
             1,
             "#276419"
            ]
           ],
           "sequential": [
            [
             0,
             "#0d0887"
            ],
            [
             0.1111111111111111,
             "#46039f"
            ],
            [
             0.2222222222222222,
             "#7201a8"
            ],
            [
             0.3333333333333333,
             "#9c179e"
            ],
            [
             0.4444444444444444,
             "#bd3786"
            ],
            [
             0.5555555555555556,
             "#d8576b"
            ],
            [
             0.6666666666666666,
             "#ed7953"
            ],
            [
             0.7777777777777778,
             "#fb9f3a"
            ],
            [
             0.8888888888888888,
             "#fdca26"
            ],
            [
             1,
             "#f0f921"
            ]
           ],
           "sequentialminus": [
            [
             0,
             "#0d0887"
            ],
            [
             0.1111111111111111,
             "#46039f"
            ],
            [
             0.2222222222222222,
             "#7201a8"
            ],
            [
             0.3333333333333333,
             "#9c179e"
            ],
            [
             0.4444444444444444,
             "#bd3786"
            ],
            [
             0.5555555555555556,
             "#d8576b"
            ],
            [
             0.6666666666666666,
             "#ed7953"
            ],
            [
             0.7777777777777778,
             "#fb9f3a"
            ],
            [
             0.8888888888888888,
             "#fdca26"
            ],
            [
             1,
             "#f0f921"
            ]
           ]
          },
          "colorway": [
           "#636efa",
           "#EF553B",
           "#00cc96",
           "#ab63fa",
           "#FFA15A",
           "#19d3f3",
           "#FF6692",
           "#B6E880",
           "#FF97FF",
           "#FECB52"
          ],
          "font": {
           "color": "#2a3f5f"
          },
          "geo": {
           "bgcolor": "white",
           "lakecolor": "white",
           "landcolor": "#E5ECF6",
           "showlakes": true,
           "showland": true,
           "subunitcolor": "white"
          },
          "hoverlabel": {
           "align": "left"
          },
          "hovermode": "closest",
          "mapbox": {
           "style": "light"
          },
          "paper_bgcolor": "white",
          "plot_bgcolor": "#E5ECF6",
          "polar": {
           "angularaxis": {
            "gridcolor": "white",
            "linecolor": "white",
            "ticks": ""
           },
           "bgcolor": "#E5ECF6",
           "radialaxis": {
            "gridcolor": "white",
            "linecolor": "white",
            "ticks": ""
           }
          },
          "scene": {
           "xaxis": {
            "backgroundcolor": "#E5ECF6",
            "gridcolor": "white",
            "gridwidth": 2,
            "linecolor": "white",
            "showbackground": true,
            "ticks": "",
            "zerolinecolor": "white"
           },
           "yaxis": {
            "backgroundcolor": "#E5ECF6",
            "gridcolor": "white",
            "gridwidth": 2,
            "linecolor": "white",
            "showbackground": true,
            "ticks": "",
            "zerolinecolor": "white"
           },
           "zaxis": {
            "backgroundcolor": "#E5ECF6",
            "gridcolor": "white",
            "gridwidth": 2,
            "linecolor": "white",
            "showbackground": true,
            "ticks": "",
            "zerolinecolor": "white"
           }
          },
          "shapedefaults": {
           "line": {
            "color": "#2a3f5f"
           }
          },
          "ternary": {
           "aaxis": {
            "gridcolor": "white",
            "linecolor": "white",
            "ticks": ""
           },
           "baxis": {
            "gridcolor": "white",
            "linecolor": "white",
            "ticks": ""
           },
           "bgcolor": "#E5ECF6",
           "caxis": {
            "gridcolor": "white",
            "linecolor": "white",
            "ticks": ""
           }
          },
          "title": {
           "x": 0.05
          },
          "xaxis": {
           "automargin": true,
           "gridcolor": "white",
           "linecolor": "white",
           "ticks": "",
           "title": {
            "standoff": 15
           },
           "zerolinecolor": "white",
           "zerolinewidth": 2
          },
          "yaxis": {
           "automargin": true,
           "gridcolor": "white",
           "linecolor": "white",
           "ticks": "",
           "title": {
            "standoff": 15
           },
           "zerolinecolor": "white",
           "zerolinewidth": 2
          }
         }
        },
        "title": {
         "text": "Searching Second_Hand Ratio of Customer",
         "x": 0.5,
         "xanchor": "center",
         "y": 0.95,
         "yanchor": "top"
        },
        "width": 1000,
        "xaxis": {
         "anchor": "y",
         "domain": [
          0,
          1
         ],
         "title": {
          "text": "period"
         }
        },
        "yaxis": {
         "anchor": "x",
         "domain": [
          0,
          1
         ],
         "title": {
          "text": "ratio"
         }
        }
       }
      }
     },
     "metadata": {},
     "output_type": "display_data"
    }
   ],
   "source": [
    "sh_search_custo_ratio = pd.DataFrame(ans_dict)\n",
    "sh_search_custo_ratio.search_sh_ratio = round(sh_search_custo_ratio.search_sh_ratio, 2)\n",
    "\n",
    "fig = px.bar(sh_search_custo_ratio, x='year', y='search_sh_ratio',\n",
    "             labels={'year':'period', 'search_sh_ratio':'ratio'},\n",
    "             width = 1000, height = 500)\n",
    "title = {'text':'Searching Second_Hand Ratio of Customer', 'y':0.95,\n",
    "        'x':0.5,'xanchor':'center', 'yanchor':'top'}\n",
    "fig.update_layout(title=title)\n",
    "fig.show()"
   ]
  },
  {
   "cell_type": "code",
   "execution_count": 25,
   "metadata": {},
   "outputs": [
    {
     "data": {
      "image/png": "[encoded data removed]",
      "text/plain": [
       "<Figure size 1200x600 with 1 Axes>"
      ]
     },
     "metadata": {},
     "output_type": "display_data"
    }
   ],
   "source": [
    "# 년도별 가입회원(누적) 대비 중고를 검색한 회원 수\n",
    "sh_search_custo_ratio = pd.DataFrame(ans_dict)\n",
    "sh_search_custo_ratio.search_sh_ratio = round(sh_search_custo_ratio.search_sh_ratio, 2)\n",
    "\n",
    "plt.figure(figsize=(12, 6))\n",
    "sns.barplot(data = sh_search_custo_ratio, x='year', y='search_sh_ratio')\n",
    "plt.xlabel('Period', fontsize=12)\n",
    "plt.ylabel('Ratio', fontsize=12)\n",
    "plt.title('Searching Second_Hand Ratio of Customer', fontsize=15)\n",
    "plt.ylim(0.2, 0.5)\n",
    "plt.grid(axis='y', linewidth=0.5)\n",
    "plt.show()"
   ]
  },
  {
   "attachments": {},
   "cell_type": "markdown",
   "metadata": {},
   "source": [
    "##### 구매로 이어진(구매시도까지 이어진) 검색어 탐색"
   ]
  },
  {
   "cell_type": "code",
   "execution_count": 26,
   "metadata": {},
   "outputs": [],
   "source": [
    "click_stream_new = click_stream_new.sort_values(by='event_time')"
   ]
  },
  {
   "cell_type": "code",
   "execution_count": 27,
   "metadata": {},
   "outputs": [
    {
     "data": {
      "text/plain": [
       "array([nan,  1.,  0.])"
      ]
     },
     "execution_count": 27,
     "metadata": {},
     "output_type": "execute_result"
    }
   ],
   "source": [
    "click_stream_new.payment_status.unique()"
   ]
  },
  {
   "cell_type": "code",
   "execution_count": 28,
   "metadata": {},
   "outputs": [
    {
     "data": {
      "text/html": [
       "<div>\n",
       "<style scoped>\n",
       "    .dataframe tbody tr th:only-of-type {\n",
       "        vertical-align: middle;\n",
       "    }\n",
       "\n",
       "    .dataframe tbody tr th {\n",
       "        vertical-align: top;\n",
       "    }\n",
       "\n",
       "    .dataframe thead th {\n",
       "        text-align: right;\n",
       "    }\n",
       "</style>\n",
       "<table border=\"1\" class=\"dataframe\">\n",
       "  <thead>\n",
       "    <tr style=\"text-align: right;\">\n",
       "      <th></th>\n",
       "      <th>session_id</th>\n",
       "      <th>event_name</th>\n",
       "      <th>event_time</th>\n",
       "      <th>traffic_source</th>\n",
       "      <th>product_id</th>\n",
       "      <th>quantity</th>\n",
       "      <th>item_price</th>\n",
       "      <th>payment_status</th>\n",
       "      <th>search_keywords</th>\n",
       "      <th>promo_code</th>\n",
       "      <th>promo_amount</th>\n",
       "      <th>month</th>\n",
       "    </tr>\n",
       "  </thead>\n",
       "  <tbody>\n",
       "    <tr>\n",
       "      <th>12371556</th>\n",
       "      <td>607d864b-76b5-45a1-a45d-7fb666a03ea1</td>\n",
       "      <td>HOMEPAGE</td>\n",
       "      <td>2016-06-30 22:59:36.254358+00:00</td>\n",
       "      <td>MOBILE</td>\n",
       "      <td>NaN</td>\n",
       "      <td>0</td>\n",
       "      <td>0</td>\n",
       "      <td>NaN</td>\n",
       "      <td>NaN</td>\n",
       "      <td>0.0</td>\n",
       "      <td>0</td>\n",
       "      <td>2016-06</td>\n",
       "    </tr>\n",
       "    <tr>\n",
       "      <th>12371559</th>\n",
       "      <td>607d864b-76b5-45a1-a45d-7fb666a03ea1</td>\n",
       "      <td>SCROLL</td>\n",
       "      <td>2016-06-30 23:01:06.254358+00:00</td>\n",
       "      <td>MOBILE</td>\n",
       "      <td>NaN</td>\n",
       "      <td>0</td>\n",
       "      <td>0</td>\n",
       "      <td>NaN</td>\n",
       "      <td>NaN</td>\n",
       "      <td>0.0</td>\n",
       "      <td>0</td>\n",
       "      <td>2016-06</td>\n",
       "    </tr>\n",
       "    <tr>\n",
       "      <th>12371557</th>\n",
       "      <td>607d864b-76b5-45a1-a45d-7fb666a03ea1</td>\n",
       "      <td>ADD_TO_CART</td>\n",
       "      <td>2016-06-30 23:01:14.254358+00:00</td>\n",
       "      <td>MOBILE</td>\n",
       "      <td>33314.0</td>\n",
       "      <td>3</td>\n",
       "      <td>210265</td>\n",
       "      <td>NaN</td>\n",
       "      <td>NaN</td>\n",
       "      <td>0.0</td>\n",
       "      <td>0</td>\n",
       "      <td>2016-06</td>\n",
       "    </tr>\n",
       "    <tr>\n",
       "      <th>12371560</th>\n",
       "      <td>607d864b-76b5-45a1-a45d-7fb666a03ea1</td>\n",
       "      <td>CLICK</td>\n",
       "      <td>2016-06-30 23:02:35.254358+00:00</td>\n",
       "      <td>MOBILE</td>\n",
       "      <td>NaN</td>\n",
       "      <td>0</td>\n",
       "      <td>0</td>\n",
       "      <td>NaN</td>\n",
       "      <td>NaN</td>\n",
       "      <td>0.0</td>\n",
       "      <td>0</td>\n",
       "      <td>2016-06</td>\n",
       "    </tr>\n",
       "    <tr>\n",
       "      <th>12371561</th>\n",
       "      <td>607d864b-76b5-45a1-a45d-7fb666a03ea1</td>\n",
       "      <td>SCROLL</td>\n",
       "      <td>2016-06-30 23:03:56.254358+00:00</td>\n",
       "      <td>MOBILE</td>\n",
       "      <td>NaN</td>\n",
       "      <td>0</td>\n",
       "      <td>0</td>\n",
       "      <td>NaN</td>\n",
       "      <td>NaN</td>\n",
       "      <td>0.0</td>\n",
       "      <td>0</td>\n",
       "      <td>2016-06</td>\n",
       "    </tr>\n",
       "  </tbody>\n",
       "</table>\n",
       "</div>"
      ],
      "text/plain": [
       "                                    session_id   event_name  \\\n",
       "12371556  607d864b-76b5-45a1-a45d-7fb666a03ea1     HOMEPAGE   \n",
       "12371559  607d864b-76b5-45a1-a45d-7fb666a03ea1       SCROLL   \n",
       "12371557  607d864b-76b5-45a1-a45d-7fb666a03ea1  ADD_TO_CART   \n",
       "12371560  607d864b-76b5-45a1-a45d-7fb666a03ea1        CLICK   \n",
       "12371561  607d864b-76b5-45a1-a45d-7fb666a03ea1       SCROLL   \n",
       "\n",
       "                               event_time traffic_source  product_id  \\\n",
       "12371556 2016-06-30 22:59:36.254358+00:00         MOBILE         NaN   \n",
       "12371559 2016-06-30 23:01:06.254358+00:00         MOBILE         NaN   \n",
       "12371557 2016-06-30 23:01:14.254358+00:00         MOBILE     33314.0   \n",
       "12371560 2016-06-30 23:02:35.254358+00:00         MOBILE         NaN   \n",
       "12371561 2016-06-30 23:03:56.254358+00:00         MOBILE         NaN   \n",
       "\n",
       "          quantity  item_price  payment_status search_keywords  promo_code  \\\n",
       "12371556         0           0             NaN             NaN         0.0   \n",
       "12371559         0           0             NaN             NaN         0.0   \n",
       "12371557         3      210265             NaN             NaN         0.0   \n",
       "12371560         0           0             NaN             NaN         0.0   \n",
       "12371561         0           0             NaN             NaN         0.0   \n",
       "\n",
       "          promo_amount    month  \n",
       "12371556             0  2016-06  \n",
       "12371559             0  2016-06  \n",
       "12371557             0  2016-06  \n",
       "12371560             0  2016-06  \n",
       "12371561             0  2016-06  "
      ]
     },
     "execution_count": 28,
     "metadata": {},
     "output_type": "execute_result"
    }
   ],
   "source": [
    "click_stream_new.head()"
   ]
  },
  {
   "cell_type": "code",
   "execution_count": 29,
   "metadata": {},
   "outputs": [
    {
     "name": "stdout",
     "output_type": "stream",
     "text": [
      "session_id 유니크값: 895203\n",
      "session_id 값들 중 검색을 한 session_id 수: 490846\n",
      "session_id 중 검색이 포함된 session_id 비율: 54.83%\n",
      "검색 횟수: 1173266\n"
     ]
    }
   ],
   "source": [
    "# 추후 session 정보가 생기면 더 자세하게 진행\n",
    "print(f'session_id 유니크값: {click_stream_new.session_id.nunique()}')\n",
    "\n",
    "print(f\"session_id 값들 중 검색을 한 session_id 수: {click_stream_new[click_stream_new.event_name == 'SEARCH']['session_id'].nunique()}\")\n",
    "\n",
    "print(f\"session_id 중 검색이 포함된 session_id 비율: {round(click_stream_new[click_stream_new.event_name == 'SEARCH']['session_id'].nunique()/click_stream_new.session_id.nunique() * 100, 2)}%\")\n",
    "num_search = len(click_stream_new[click_stream_new['event_name'] == 'SEARCH'])\n",
    "\n",
    "print(f'검색 횟수: {num_search}')"
   ]
  },
  {
   "cell_type": "code",
   "execution_count": 30,
   "metadata": {},
   "outputs": [],
   "source": [
    "# T-Shirt -> Tshirts(articleType)\n",
    "# Shoes, Adidas Shoes, Nike Shoes -> Shoes\n",
    "# Woman's Bag, Work Bag -> Bags\n",
    "# Dress -> Dress\n",
    "# Sandal -> Sandas\n",
    "# Shirts -> shirts\n",
    "# Trousers -> trousers(articleType)\n",
    "# Pajamas, House Dress -> Loungewear and Nightwear\n",
    "# Hat -> Hat(articleType)"
   ]
  },
  {
   "cell_type": "code",
   "execution_count": 31,
   "metadata": {},
   "outputs": [],
   "source": [
    "# click_trans_df = pd.merge(click_stream_new, transaction_df[['session_id', 'event_time', 'product_id']], how='left', on=['session_id', 'event_time'])\n",
    "# x = click_trans_df.product_id_x\n",
    "# y = click_trans_df.product_id_y\n",
    "# z = x.fillna(0)+y.fillna(0)\n",
    "# z = z.replace(0, np.nan)\n",
    "\n",
    "# click_trans_df.product_id_x = z\n",
    "# click_trans_df.rename(columns={'product_id_x':'product_id'}, inplace=True)\n",
    "# click_trans_df.drop('product_id_y', axis=1, inplace=True)\n",
    "# click_trans_df.head()"
   ]
  },
  {
   "cell_type": "code",
   "execution_count": 32,
   "metadata": {},
   "outputs": [],
   "source": [
    "# cnt = 0\n",
    "\n",
    "# temp = click_stream_new[click_stream_new.session_id == '98e66f53-f24f-4238-8c9c-34a0482e22d5'].reset_index(drop=True)\n",
    "# search_idx = temp[temp['event_name'] == 'SEARCH'].index\n",
    "# # search_dict = {idx:temp.loc[idx]['search_keywords'] for idx in search_idx}\n",
    "# trans_idx = temp[(temp['event_name'] == 'ADD_TO_CART') | (temp['event_name'] == 'BOOKING')].index\n",
    "\n",
    "# for i in search_idx:\n",
    "#     filtered_idx = trans_idx[trans_idx > i]\n",
    "#     filtered_ = [temp.iloc[i] for i in filtered_idx]\n",
    "#     if temp.iloc[i] in filtered_:\n",
    "#         cnt += 1\n"
   ]
  },
  {
   "attachments": {},
   "cell_type": "markdown",
   "metadata": {},
   "source": [
    "# 3. 회원가입 후 첫 구매까지의 기간 분석"
   ]
  },
  {
   "attachments": {},
   "cell_type": "markdown",
   "metadata": {},
   "source": [
    "### 결론 \n",
    "1. 회원가입 후 구매까지 이어지는 비율 50.7% -> 회원가입을 했다는 것을 구매하고 싶은 상품이 있었다는 이야기지만 구매로 이어지지 않았다는게 문제(이유..?)\n",
    "2. 회원가입한 사람 중 하루 이내에 구매한 사람 비율 : 39.1% -> 일반적으로 60%가 구매함(나래님 자료), 첫 구매 유도를 잘 하지 못한것이 문제"
   ]
  },
  {
   "cell_type": "code",
   "execution_count": 33,
   "metadata": {},
   "outputs": [
    {
     "data": {
      "text/plain": [
       "3901.2599999999998"
      ]
     },
     "execution_count": 33,
     "metadata": {},
     "output_type": "execute_result"
    }
   ],
   "source": [
    "50.6*77.1"
   ]
  },
  {
   "cell_type": "code",
   "execution_count": 34,
   "metadata": {},
   "outputs": [
    {
     "data": {
      "text/html": [
       "<div>\n",
       "<style scoped>\n",
       "    .dataframe tbody tr th:only-of-type {\n",
       "        vertical-align: middle;\n",
       "    }\n",
       "\n",
       "    .dataframe tbody tr th {\n",
       "        vertical-align: top;\n",
       "    }\n",
       "\n",
       "    .dataframe thead th {\n",
       "        text-align: right;\n",
       "    }\n",
       "</style>\n",
       "<table border=\"1\" class=\"dataframe\">\n",
       "  <thead>\n",
       "    <tr style=\"text-align: right;\">\n",
       "      <th></th>\n",
       "      <th>customer_id</th>\n",
       "      <th>gender</th>\n",
       "      <th>birthdate</th>\n",
       "      <th>home_location</th>\n",
       "      <th>first_join_date</th>\n",
       "      <th>age_join</th>\n",
       "      <th>age_now</th>\n",
       "      <th>join_year</th>\n",
       "      <th>join_year_month</th>\n",
       "    </tr>\n",
       "  </thead>\n",
       "  <tbody>\n",
       "    <tr>\n",
       "      <th>0</th>\n",
       "      <td>2870</td>\n",
       "      <td>F</td>\n",
       "      <td>1996-06-14</td>\n",
       "      <td>Sumatera Barat</td>\n",
       "      <td>2019-07-21</td>\n",
       "      <td>23</td>\n",
       "      <td>26</td>\n",
       "      <td>2019</td>\n",
       "      <td>2019-07</td>\n",
       "    </tr>\n",
       "    <tr>\n",
       "      <th>1</th>\n",
       "      <td>8193</td>\n",
       "      <td>F</td>\n",
       "      <td>1993-08-16</td>\n",
       "      <td>Jakarta Raya</td>\n",
       "      <td>2017-07-16</td>\n",
       "      <td>24</td>\n",
       "      <td>29</td>\n",
       "      <td>2017</td>\n",
       "      <td>2017-07</td>\n",
       "    </tr>\n",
       "    <tr>\n",
       "      <th>2</th>\n",
       "      <td>7279</td>\n",
       "      <td>M</td>\n",
       "      <td>1989-01-23</td>\n",
       "      <td>Nusa Tenggara Barat</td>\n",
       "      <td>2020-08-23</td>\n",
       "      <td>31</td>\n",
       "      <td>33</td>\n",
       "      <td>2020</td>\n",
       "      <td>2020-08</td>\n",
       "    </tr>\n",
       "    <tr>\n",
       "      <th>3</th>\n",
       "      <td>88813</td>\n",
       "      <td>M</td>\n",
       "      <td>1991-01-05</td>\n",
       "      <td>Kalimantan Timur</td>\n",
       "      <td>2021-10-03</td>\n",
       "      <td>30</td>\n",
       "      <td>31</td>\n",
       "      <td>2021</td>\n",
       "      <td>2021-10</td>\n",
       "    </tr>\n",
       "    <tr>\n",
       "      <th>4</th>\n",
       "      <td>82542</td>\n",
       "      <td>M</td>\n",
       "      <td>2000-07-15</td>\n",
       "      <td>Kalimantan Selatan</td>\n",
       "      <td>2021-04-11</td>\n",
       "      <td>21</td>\n",
       "      <td>22</td>\n",
       "      <td>2021</td>\n",
       "      <td>2021-04</td>\n",
       "    </tr>\n",
       "  </tbody>\n",
       "</table>\n",
       "</div>"
      ],
      "text/plain": [
       "   customer_id gender   birthdate        home_location first_join_date  \\\n",
       "0         2870      F  1996-06-14       Sumatera Barat      2019-07-21   \n",
       "1         8193      F  1993-08-16         Jakarta Raya      2017-07-16   \n",
       "2         7279      M  1989-01-23  Nusa Tenggara Barat      2020-08-23   \n",
       "3        88813      M  1991-01-05     Kalimantan Timur      2021-10-03   \n",
       "4        82542      M  2000-07-15   Kalimantan Selatan      2021-04-11   \n",
       "\n",
       "   age_join  age_now  join_year join_year_month  \n",
       "0        23       26       2019         2019-07  \n",
       "1        24       29       2017         2017-07  \n",
       "2        31       33       2020         2020-08  \n",
       "3        30       31       2021         2021-10  \n",
       "4        21       22       2021         2021-04  "
      ]
     },
     "execution_count": 34,
     "metadata": {},
     "output_type": "execute_result"
    }
   ],
   "source": [
    "customer.head()"
   ]
  },
  {
   "cell_type": "code",
   "execution_count": 35,
   "metadata": {},
   "outputs": [
    {
     "data": {
      "text/html": [
       "<div>\n",
       "<style scoped>\n",
       "    .dataframe tbody tr th:only-of-type {\n",
       "        vertical-align: middle;\n",
       "    }\n",
       "\n",
       "    .dataframe tbody tr th {\n",
       "        vertical-align: top;\n",
       "    }\n",
       "\n",
       "    .dataframe thead th {\n",
       "        text-align: right;\n",
       "    }\n",
       "</style>\n",
       "<table border=\"1\" class=\"dataframe\">\n",
       "  <thead>\n",
       "    <tr style=\"text-align: right;\">\n",
       "      <th></th>\n",
       "      <th>created_at</th>\n",
       "      <th>customer_id</th>\n",
       "      <th>booking_id</th>\n",
       "      <th>session_id</th>\n",
       "      <th>payment_method</th>\n",
       "      <th>payment_status</th>\n",
       "      <th>promo_amount</th>\n",
       "      <th>promo_code</th>\n",
       "      <th>shipment_fee</th>\n",
       "      <th>total_amount</th>\n",
       "      <th>product_id</th>\n",
       "      <th>quantity</th>\n",
       "      <th>item_price</th>\n",
       "      <th>with_promo</th>\n",
       "    </tr>\n",
       "  </thead>\n",
       "  <tbody>\n",
       "    <tr>\n",
       "      <th>1254454</th>\n",
       "      <td>2016-06-30 23:18:44.792905+00:00</td>\n",
       "      <td>74089</td>\n",
       "      <td>2dd76c45-6ddb-46b4-9c91-c59d4f9b76ba</td>\n",
       "      <td>607d864b-76b5-45a1-a45d-7fb666a03ea1</td>\n",
       "      <td>LinkAja</td>\n",
       "      <td>1</td>\n",
       "      <td>0</td>\n",
       "      <td>0.0</td>\n",
       "      <td>10000</td>\n",
       "      <td>640795</td>\n",
       "      <td>33314</td>\n",
       "      <td>3</td>\n",
       "      <td>210265</td>\n",
       "      <td>0</td>\n",
       "    </tr>\n",
       "    <tr>\n",
       "      <th>1201589</th>\n",
       "      <td>2016-07-01 02:53:26.720195+00:00</td>\n",
       "      <td>6183</td>\n",
       "      <td>b9724455-552e-4deb-9351-4a4fe4ee0b8f</td>\n",
       "      <td>c5d3792d-9220-47db-ad80-4932f3f88d0e</td>\n",
       "      <td>OVO</td>\n",
       "      <td>1</td>\n",
       "      <td>6053</td>\n",
       "      <td>4.0</td>\n",
       "      <td>10000</td>\n",
       "      <td>578826</td>\n",
       "      <td>16061</td>\n",
       "      <td>1</td>\n",
       "      <td>163539</td>\n",
       "      <td>1</td>\n",
       "    </tr>\n",
       "    <tr>\n",
       "      <th>1201590</th>\n",
       "      <td>2016-07-01 02:53:26.720195+00:00</td>\n",
       "      <td>6183</td>\n",
       "      <td>b9724455-552e-4deb-9351-4a4fe4ee0b8f</td>\n",
       "      <td>c5d3792d-9220-47db-ad80-4932f3f88d0e</td>\n",
       "      <td>OVO</td>\n",
       "      <td>1</td>\n",
       "      <td>6053</td>\n",
       "      <td>4.0</td>\n",
       "      <td>10000</td>\n",
       "      <td>578826</td>\n",
       "      <td>7588</td>\n",
       "      <td>1</td>\n",
       "      <td>411340</td>\n",
       "      <td>1</td>\n",
       "    </tr>\n",
       "    <tr>\n",
       "      <th>1201721</th>\n",
       "      <td>2016-07-01 09:45:51.803842+00:00</td>\n",
       "      <td>16228</td>\n",
       "      <td>8035f5b3-2a7c-4e30-ab4a-9b3091edc37f</td>\n",
       "      <td>bbff775e-4166-46aa-bbfd-4ba6465add17</td>\n",
       "      <td>Debit Card</td>\n",
       "      <td>1</td>\n",
       "      <td>0</td>\n",
       "      <td>0.0</td>\n",
       "      <td>15000</td>\n",
       "      <td>333792</td>\n",
       "      <td>47650</td>\n",
       "      <td>1</td>\n",
       "      <td>318792</td>\n",
       "      <td>0</td>\n",
       "    </tr>\n",
       "    <tr>\n",
       "      <th>1254453</th>\n",
       "      <td>2016-07-01 22:32:45.218400+00:00</td>\n",
       "      <td>73773</td>\n",
       "      <td>5f390336-0a5f-4e0d-bfe1-df080269ce45</td>\n",
       "      <td>8f385c80-1b70-4861-80ac-5eb3b5620fee</td>\n",
       "      <td>Debit Card</td>\n",
       "      <td>1</td>\n",
       "      <td>0</td>\n",
       "      <td>0.0</td>\n",
       "      <td>10000</td>\n",
       "      <td>256670</td>\n",
       "      <td>32185</td>\n",
       "      <td>1</td>\n",
       "      <td>246670</td>\n",
       "      <td>0</td>\n",
       "    </tr>\n",
       "  </tbody>\n",
       "</table>\n",
       "</div>"
      ],
      "text/plain": [
       "                               created_at  customer_id  \\\n",
       "1254454  2016-06-30 23:18:44.792905+00:00        74089   \n",
       "1201589  2016-07-01 02:53:26.720195+00:00         6183   \n",
       "1201590  2016-07-01 02:53:26.720195+00:00         6183   \n",
       "1201721  2016-07-01 09:45:51.803842+00:00        16228   \n",
       "1254453  2016-07-01 22:32:45.218400+00:00        73773   \n",
       "\n",
       "                                   booking_id  \\\n",
       "1254454  2dd76c45-6ddb-46b4-9c91-c59d4f9b76ba   \n",
       "1201589  b9724455-552e-4deb-9351-4a4fe4ee0b8f   \n",
       "1201590  b9724455-552e-4deb-9351-4a4fe4ee0b8f   \n",
       "1201721  8035f5b3-2a7c-4e30-ab4a-9b3091edc37f   \n",
       "1254453  5f390336-0a5f-4e0d-bfe1-df080269ce45   \n",
       "\n",
       "                                   session_id payment_method  payment_status  \\\n",
       "1254454  607d864b-76b5-45a1-a45d-7fb666a03ea1        LinkAja               1   \n",
       "1201589  c5d3792d-9220-47db-ad80-4932f3f88d0e            OVO               1   \n",
       "1201590  c5d3792d-9220-47db-ad80-4932f3f88d0e            OVO               1   \n",
       "1201721  bbff775e-4166-46aa-bbfd-4ba6465add17     Debit Card               1   \n",
       "1254453  8f385c80-1b70-4861-80ac-5eb3b5620fee     Debit Card               1   \n",
       "\n",
       "         promo_amount  promo_code  shipment_fee  total_amount  product_id  \\\n",
       "1254454             0         0.0         10000        640795       33314   \n",
       "1201589          6053         4.0         10000        578826       16061   \n",
       "1201590          6053         4.0         10000        578826        7588   \n",
       "1201721             0         0.0         15000        333792       47650   \n",
       "1254453             0         0.0         10000        256670       32185   \n",
       "\n",
       "         quantity  item_price  with_promo  \n",
       "1254454         3      210265           0  \n",
       "1201589         1      163539           1  \n",
       "1201590         1      411340           1  \n",
       "1201721         1      318792           0  \n",
       "1254453         1      246670           0  "
      ]
     },
     "execution_count": 35,
     "metadata": {},
     "output_type": "execute_result"
    }
   ],
   "source": [
    "transaction_new = transaction_new.sort_values(by='created_at')\n",
    "transaction_new.head()"
   ]
  },
  {
   "cell_type": "code",
   "execution_count": 36,
   "metadata": {},
   "outputs": [
    {
     "data": {
      "text/plain": [
       "customer_id\n",
       "3        2018-08-25 18:54:03.844494+00:00\n",
       "8        2021-02-13 09:47:39.656991+00:00\n",
       "9        2021-06-27 01:51:48.421034+00:00\n",
       "11       2022-03-07 14:29:13.759159+00:00\n",
       "15       2019-09-30 04:47:36.105040+00:00\n",
       "                       ...               \n",
       "99992    2020-06-30 21:03:37.873510+00:00\n",
       "99995    2020-08-19 09:50:48.810263+00:00\n",
       "99997    2020-04-25 18:38:16.825127+00:00\n",
       "99998    2018-07-02 20:56:19.703960+00:00\n",
       "99999    2016-10-12 19:22:21.166237+00:00\n",
       "Name: created_at, Length: 50704, dtype: object"
      ]
     },
     "execution_count": 36,
     "metadata": {},
     "output_type": "execute_result"
    }
   ],
   "source": [
    "# customer_id 별 최초 거래 일시 추출\n",
    "first_transaction = transaction_new.groupby('customer_id')['created_at'].min()\n",
    "first_transaction"
   ]
  },
  {
   "cell_type": "code",
   "execution_count": 37,
   "metadata": {},
   "outputs": [
    {
     "data": {
      "text/html": [
       "<div>\n",
       "<style scoped>\n",
       "    .dataframe tbody tr th:only-of-type {\n",
       "        vertical-align: middle;\n",
       "    }\n",
       "\n",
       "    .dataframe tbody tr th {\n",
       "        vertical-align: top;\n",
       "    }\n",
       "\n",
       "    .dataframe thead th {\n",
       "        text-align: right;\n",
       "    }\n",
       "</style>\n",
       "<table border=\"1\" class=\"dataframe\">\n",
       "  <thead>\n",
       "    <tr style=\"text-align: right;\">\n",
       "      <th></th>\n",
       "      <th>customer_id</th>\n",
       "      <th>gender</th>\n",
       "      <th>birthdate</th>\n",
       "      <th>home_location</th>\n",
       "      <th>first_join_date</th>\n",
       "      <th>age_join</th>\n",
       "      <th>age_now</th>\n",
       "      <th>join_year</th>\n",
       "      <th>join_year_month</th>\n",
       "      <th>created_at</th>\n",
       "    </tr>\n",
       "  </thead>\n",
       "  <tbody>\n",
       "    <tr>\n",
       "      <th>0</th>\n",
       "      <td>2870</td>\n",
       "      <td>F</td>\n",
       "      <td>1996-06-14</td>\n",
       "      <td>Sumatera Barat</td>\n",
       "      <td>2019-07-21</td>\n",
       "      <td>23</td>\n",
       "      <td>26</td>\n",
       "      <td>2019</td>\n",
       "      <td>2019-07</td>\n",
       "      <td>NaN</td>\n",
       "    </tr>\n",
       "    <tr>\n",
       "      <th>1</th>\n",
       "      <td>8193</td>\n",
       "      <td>F</td>\n",
       "      <td>1993-08-16</td>\n",
       "      <td>Jakarta Raya</td>\n",
       "      <td>2017-07-16</td>\n",
       "      <td>24</td>\n",
       "      <td>29</td>\n",
       "      <td>2017</td>\n",
       "      <td>2017-07</td>\n",
       "      <td>NaN</td>\n",
       "    </tr>\n",
       "    <tr>\n",
       "      <th>2</th>\n",
       "      <td>7279</td>\n",
       "      <td>M</td>\n",
       "      <td>1989-01-23</td>\n",
       "      <td>Nusa Tenggara Barat</td>\n",
       "      <td>2020-08-23</td>\n",
       "      <td>31</td>\n",
       "      <td>33</td>\n",
       "      <td>2020</td>\n",
       "      <td>2020-08</td>\n",
       "      <td>2020-08-23 12:53:12.916342+00:00</td>\n",
       "    </tr>\n",
       "    <tr>\n",
       "      <th>3</th>\n",
       "      <td>88813</td>\n",
       "      <td>M</td>\n",
       "      <td>1991-01-05</td>\n",
       "      <td>Kalimantan Timur</td>\n",
       "      <td>2021-10-03</td>\n",
       "      <td>30</td>\n",
       "      <td>31</td>\n",
       "      <td>2021</td>\n",
       "      <td>2021-10</td>\n",
       "      <td>NaN</td>\n",
       "    </tr>\n",
       "    <tr>\n",
       "      <th>4</th>\n",
       "      <td>82542</td>\n",
       "      <td>M</td>\n",
       "      <td>2000-07-15</td>\n",
       "      <td>Kalimantan Selatan</td>\n",
       "      <td>2021-04-11</td>\n",
       "      <td>21</td>\n",
       "      <td>22</td>\n",
       "      <td>2021</td>\n",
       "      <td>2021-04</td>\n",
       "      <td>2021-04-16 09:20:03.134253+00:00</td>\n",
       "    </tr>\n",
       "  </tbody>\n",
       "</table>\n",
       "</div>"
      ],
      "text/plain": [
       "   customer_id gender   birthdate        home_location first_join_date  \\\n",
       "0         2870      F  1996-06-14       Sumatera Barat      2019-07-21   \n",
       "1         8193      F  1993-08-16         Jakarta Raya      2017-07-16   \n",
       "2         7279      M  1989-01-23  Nusa Tenggara Barat      2020-08-23   \n",
       "3        88813      M  1991-01-05     Kalimantan Timur      2021-10-03   \n",
       "4        82542      M  2000-07-15   Kalimantan Selatan      2021-04-11   \n",
       "\n",
       "   age_join  age_now  join_year join_year_month  \\\n",
       "0        23       26       2019         2019-07   \n",
       "1        24       29       2017         2017-07   \n",
       "2        31       33       2020         2020-08   \n",
       "3        30       31       2021         2021-10   \n",
       "4        21       22       2021         2021-04   \n",
       "\n",
       "                         created_at  \n",
       "0                               NaN  \n",
       "1                               NaN  \n",
       "2  2020-08-23 12:53:12.916342+00:00  \n",
       "3                               NaN  \n",
       "4  2021-04-16 09:20:03.134253+00:00  "
      ]
     },
     "execution_count": 37,
     "metadata": {},
     "output_type": "execute_result"
    }
   ],
   "source": [
    "# customer_id 별 최초 거래 일시 정보를 customer 테이블과 병합\n",
    "merge_customer = pd.merge(customer, first_transaction, how='left', on='customer_id')\n",
    "merge_customer.head()"
   ]
  },
  {
   "cell_type": "code",
   "execution_count": 38,
   "metadata": {},
   "outputs": [
    {
     "data": {
      "image/png": "[encoded data removed]",
      "text/plain": [
       "<Figure size 640x480 with 1 Axes>"
      ]
     },
     "metadata": {},
     "output_type": "display_data"
    }
   ],
   "source": [
    "# 회원가입한 고객 중 구매경험이 있는 고객 비율\n",
    "join_customer_buy_ratio = len(merge_customer[merge_customer.created_at.notnull()])/len(merge_customer)\n",
    "labels = ['customer_buying', 'customer_not_buying']\n",
    "plt.pie([join_customer_buy_ratio, 1-join_customer_buy_ratio], startangle=90, labels=labels, autopct='%.1f%%')\n",
    "plt.show()"
   ]
  },
  {
   "cell_type": "code",
   "execution_count": 39,
   "metadata": {},
   "outputs": [
    {
     "data": {
      "text/plain": [
       "F    0.641902\n",
       "M    0.358098\n",
       "Name: gender, dtype: float64"
      ]
     },
     "execution_count": 39,
     "metadata": {},
     "output_type": "execute_result"
    }
   ],
   "source": [
    "# 회원가입 후 실제 구매한 고객들의 성별 비율\n",
    "merge_customer[merge_customer.created_at.notnull()].gender.value_counts(normalize=True)"
   ]
  },
  {
   "cell_type": "code",
   "execution_count": 40,
   "metadata": {},
   "outputs": [
    {
     "name": "stdout",
     "output_type": "stream",
     "text": [
      "<class 'pandas.core.frame.DataFrame'>\n",
      "Int64Index: 99999 entries, 0 to 99998\n",
      "Data columns (total 10 columns):\n",
      " #   Column           Non-Null Count  Dtype         \n",
      "---  ------           --------------  -----         \n",
      " 0   customer_id      99999 non-null  int64         \n",
      " 1   gender           99999 non-null  object        \n",
      " 2   birthdate        99999 non-null  object        \n",
      " 3   home_location    99999 non-null  object        \n",
      " 4   first_join_date  99999 non-null  datetime64[ns]\n",
      " 5   age_join         99999 non-null  int64         \n",
      " 6   age_now          99999 non-null  int64         \n",
      " 7   join_year        99999 non-null  int64         \n",
      " 8   join_year_month  99999 non-null  period[M]     \n",
      " 9   created_at       50704 non-null  datetime64[ns]\n",
      "dtypes: datetime64[ns](2), int64(4), object(3), period[M](1)\n",
      "memory usage: 8.4+ MB\n"
     ]
    }
   ],
   "source": [
    "# 첫 구매일자 정보 데이터 타입 변환\n",
    "merge_customer.created_at = pd.to_datetime(merge_customer.created_at).dt.date\n",
    "merge_customer.created_at = pd.to_datetime(merge_customer.created_at)\n",
    "merge_customer.first_join_date = pd.to_datetime(merge_customer.first_join_date)\n",
    "merge_customer.info()"
   ]
  },
  {
   "cell_type": "code",
   "execution_count": 41,
   "metadata": {},
   "outputs": [
    {
     "data": {
      "text/html": [
       "<div>\n",
       "<style scoped>\n",
       "    .dataframe tbody tr th:only-of-type {\n",
       "        vertical-align: middle;\n",
       "    }\n",
       "\n",
       "    .dataframe tbody tr th {\n",
       "        vertical-align: top;\n",
       "    }\n",
       "\n",
       "    .dataframe thead th {\n",
       "        text-align: right;\n",
       "    }\n",
       "</style>\n",
       "<table border=\"1\" class=\"dataframe\">\n",
       "  <thead>\n",
       "    <tr style=\"text-align: right;\">\n",
       "      <th></th>\n",
       "      <th>customer_id</th>\n",
       "      <th>gender</th>\n",
       "      <th>birthdate</th>\n",
       "      <th>home_location</th>\n",
       "      <th>first_join_date</th>\n",
       "      <th>age_join</th>\n",
       "      <th>age_now</th>\n",
       "      <th>join_year</th>\n",
       "      <th>join_year_month</th>\n",
       "      <th>created_at</th>\n",
       "    </tr>\n",
       "  </thead>\n",
       "  <tbody>\n",
       "    <tr>\n",
       "      <th>0</th>\n",
       "      <td>2870</td>\n",
       "      <td>F</td>\n",
       "      <td>1996-06-14</td>\n",
       "      <td>Sumatera Barat</td>\n",
       "      <td>2019-07-21</td>\n",
       "      <td>23</td>\n",
       "      <td>26</td>\n",
       "      <td>2019</td>\n",
       "      <td>2019-07</td>\n",
       "      <td>NaT</td>\n",
       "    </tr>\n",
       "    <tr>\n",
       "      <th>1</th>\n",
       "      <td>8193</td>\n",
       "      <td>F</td>\n",
       "      <td>1993-08-16</td>\n",
       "      <td>Jakarta Raya</td>\n",
       "      <td>2017-07-16</td>\n",
       "      <td>24</td>\n",
       "      <td>29</td>\n",
       "      <td>2017</td>\n",
       "      <td>2017-07</td>\n",
       "      <td>NaT</td>\n",
       "    </tr>\n",
       "    <tr>\n",
       "      <th>2</th>\n",
       "      <td>7279</td>\n",
       "      <td>M</td>\n",
       "      <td>1989-01-23</td>\n",
       "      <td>Nusa Tenggara Barat</td>\n",
       "      <td>2020-08-23</td>\n",
       "      <td>31</td>\n",
       "      <td>33</td>\n",
       "      <td>2020</td>\n",
       "      <td>2020-08</td>\n",
       "      <td>2020-08-23</td>\n",
       "    </tr>\n",
       "    <tr>\n",
       "      <th>3</th>\n",
       "      <td>88813</td>\n",
       "      <td>M</td>\n",
       "      <td>1991-01-05</td>\n",
       "      <td>Kalimantan Timur</td>\n",
       "      <td>2021-10-03</td>\n",
       "      <td>30</td>\n",
       "      <td>31</td>\n",
       "      <td>2021</td>\n",
       "      <td>2021-10</td>\n",
       "      <td>NaT</td>\n",
       "    </tr>\n",
       "    <tr>\n",
       "      <th>4</th>\n",
       "      <td>82542</td>\n",
       "      <td>M</td>\n",
       "      <td>2000-07-15</td>\n",
       "      <td>Kalimantan Selatan</td>\n",
       "      <td>2021-04-11</td>\n",
       "      <td>21</td>\n",
       "      <td>22</td>\n",
       "      <td>2021</td>\n",
       "      <td>2021-04</td>\n",
       "      <td>2021-04-16</td>\n",
       "    </tr>\n",
       "  </tbody>\n",
       "</table>\n",
       "</div>"
      ],
      "text/plain": [
       "   customer_id gender   birthdate        home_location first_join_date  \\\n",
       "0         2870      F  1996-06-14       Sumatera Barat      2019-07-21   \n",
       "1         8193      F  1993-08-16         Jakarta Raya      2017-07-16   \n",
       "2         7279      M  1989-01-23  Nusa Tenggara Barat      2020-08-23   \n",
       "3        88813      M  1991-01-05     Kalimantan Timur      2021-10-03   \n",
       "4        82542      M  2000-07-15   Kalimantan Selatan      2021-04-11   \n",
       "\n",
       "   age_join  age_now  join_year join_year_month created_at  \n",
       "0        23       26       2019         2019-07        NaT  \n",
       "1        24       29       2017         2017-07        NaT  \n",
       "2        31       33       2020         2020-08 2020-08-23  \n",
       "3        30       31       2021         2021-10        NaT  \n",
       "4        21       22       2021         2021-04 2021-04-16  "
      ]
     },
     "execution_count": 41,
     "metadata": {},
     "output_type": "execute_result"
    }
   ],
   "source": [
    "merge_customer.head()"
   ]
  },
  {
   "cell_type": "code",
   "execution_count": 42,
   "metadata": {},
   "outputs": [
    {
     "name": "stdout",
     "output_type": "stream",
     "text": [
      "0.23434151151782895\n"
     ]
    }
   ],
   "source": [
    "# 회원가입자 중 당일 구입한 비율: 23.4%\n",
    "period_buy_after_join = (merge_customer.created_at - merge_customer.first_join_date)\n",
    "print(len(period_buy_after_join[period_buy_after_join == '0 days']) / period_buy_after_join.notnull().sum() * 0.507)\n"
   ]
  },
  {
   "cell_type": "code",
   "execution_count": 43,
   "metadata": {},
   "outputs": [
    {
     "data": {
      "text/plain": [
       "count                        50704\n",
       "mean     1 days 00:43:56.099715998\n",
       "std      1 days 11:17:17.954955019\n",
       "min                0 days 00:00:00\n",
       "25%                0 days 00:00:00\n",
       "50%                1 days 00:00:00\n",
       "75%                1 days 00:00:00\n",
       "max               15 days 00:00:00\n",
       "dtype: object"
      ]
     },
     "execution_count": 43,
     "metadata": {},
     "output_type": "execute_result"
    }
   ],
   "source": [
    "# 구매자(50.7%) 중 구매까지 이어지는 기간 통계 정보\n",
    "period_buy_after_join[period_buy_after_join.notnull()].describe()"
   ]
  },
  {
   "cell_type": "code",
   "execution_count": 44,
   "metadata": {},
   "outputs": [
    {
     "name": "stdout",
     "output_type": "stream",
     "text": [
      "0.3910991440517514\n"
     ]
    }
   ],
   "source": [
    "# 구매자(50.7%) 중 1일 이내에 구매하는 소비자 비율: 39.1%\n",
    "print(len(period_buy_after_join[(period_buy_after_join == '0 days') | (period_buy_after_join == '1 days')]) / period_buy_after_join.notnull().sum() * 0.507)"
   ]
  },
  {
   "cell_type": "code",
   "execution_count": 45,
   "metadata": {},
   "outputs": [
    {
     "data": {
      "image/png": "[encoded data removed]",
      "text/plain": [
       "<Figure size 600x600 with 1 Axes>"
      ]
     },
     "metadata": {},
     "output_type": "display_data"
    }
   ],
   "source": [
    "plt.figure(figsize=(6,6))\n",
    "sns.histplot(period_buy_after_join[period_buy_after_join.notnull()].dt.days)\n",
    "plt.show()"
   ]
  },
  {
   "attachments": {},
   "cell_type": "markdown",
   "metadata": {},
   "source": [
    "# 4. 재구매율, 전체 구매 데이터 기준으로, 재구매자가 며칠 이내 재구매인지 확인"
   ]
  },
  {
   "attachments": {},
   "cell_type": "markdown",
   "metadata": {},
   "source": [
    "#### 결론\n",
    "    1. 재구매기간: 평균 43일\n",
    "\n",
    "    2. 구매 횟수 기준 그룹 분할 (4분위수 활용)\n",
    "        - 한번만 구매, 2~6회 구매, 7~18회 구매, 19~550회 구매\n",
    "        - 그룹간 성별 비율, 연령 평균, 프로모션 이용 평균, 한번 구매시 평균 지출 비교\n",
    "\n",
    "    3. 구매 횟수 기준 그룹 분석\n",
    "        - 유의미한 정보는 없었으나 프로모션 이용률이 많이 구매한 4그룹이 가장 높음\n",
    "        - 미구매자는 남녀비율이 5:5, 근데 구매자는 3.5:6.5(여성비율이 높음) -> ?????\n",
    "        \n",
    "    4. 재구매자 행동 분석(세션 나눠진 뒤 진행)"
   ]
  },
  {
   "attachments": {},
   "cell_type": "markdown",
   "metadata": {},
   "source": [
    "##### 재구매 고객 대상 재구매기간 분석"
   ]
  },
  {
   "cell_type": "code",
   "execution_count": 46,
   "metadata": {},
   "outputs": [],
   "source": [
    "transaction_new.created_at = pd.to_datetime(transaction_new.created_at)"
   ]
  },
  {
   "cell_type": "code",
   "execution_count": 47,
   "metadata": {},
   "outputs": [
    {
     "data": {
      "text/html": [
       "<div>\n",
       "<style scoped>\n",
       "    .dataframe tbody tr th:only-of-type {\n",
       "        vertical-align: middle;\n",
       "    }\n",
       "\n",
       "    .dataframe tbody tr th {\n",
       "        vertical-align: top;\n",
       "    }\n",
       "\n",
       "    .dataframe thead th {\n",
       "        text-align: right;\n",
       "    }\n",
       "</style>\n",
       "<table border=\"1\" class=\"dataframe\">\n",
       "  <thead>\n",
       "    <tr style=\"text-align: right;\">\n",
       "      <th></th>\n",
       "      <th>customer_id</th>\n",
       "      <th>gender</th>\n",
       "      <th>birthdate</th>\n",
       "      <th>home_location</th>\n",
       "      <th>first_join_date</th>\n",
       "      <th>age_join</th>\n",
       "      <th>age_now</th>\n",
       "      <th>created_at</th>\n",
       "      <th>booking_id</th>\n",
       "      <th>session_id</th>\n",
       "      <th>with_promo</th>\n",
       "      <th>sales</th>\n",
       "      <th>event_time</th>\n",
       "    </tr>\n",
       "  </thead>\n",
       "  <tbody>\n",
       "    <tr>\n",
       "      <th>0</th>\n",
       "      <td>7279</td>\n",
       "      <td>M</td>\n",
       "      <td>1989-01-23</td>\n",
       "      <td>Nusa Tenggara Barat</td>\n",
       "      <td>2020-08-23</td>\n",
       "      <td>31</td>\n",
       "      <td>33</td>\n",
       "      <td>2020-08-23 12:53:12.916342+00:00</td>\n",
       "      <td>1fb6f149-05ef-4a22-ac1a-cd5d98cd5510</td>\n",
       "      <td>9d0496a6-37f7-4d0a-8a04-5850a12d00a6</td>\n",
       "      <td>1</td>\n",
       "      <td>829751</td>\n",
       "      <td>2020-08-23 12:53:12.916342+00:00</td>\n",
       "    </tr>\n",
       "    <tr>\n",
       "      <th>1</th>\n",
       "      <td>7279</td>\n",
       "      <td>M</td>\n",
       "      <td>1989-01-23</td>\n",
       "      <td>Nusa Tenggara Barat</td>\n",
       "      <td>2020-08-23</td>\n",
       "      <td>31</td>\n",
       "      <td>33</td>\n",
       "      <td>2020-08-31 13:34:59.916342+00:00</td>\n",
       "      <td>eed52035-1f80-422c-b0ac-a1c814e77bcf</td>\n",
       "      <td>82396d8d-7d8a-436d-8e14-75f24aa35faa</td>\n",
       "      <td>0</td>\n",
       "      <td>381341</td>\n",
       "      <td>2020-08-31 13:34:59.916342+00:00</td>\n",
       "    </tr>\n",
       "    <tr>\n",
       "      <th>2</th>\n",
       "      <td>7279</td>\n",
       "      <td>M</td>\n",
       "      <td>1989-01-23</td>\n",
       "      <td>Nusa Tenggara Barat</td>\n",
       "      <td>2020-08-23</td>\n",
       "      <td>31</td>\n",
       "      <td>33</td>\n",
       "      <td>2020-09-08 13:38:30.916342+00:00</td>\n",
       "      <td>af568d06-c819-4ab4-a3e8-06857786ba10</td>\n",
       "      <td>348cc997-480b-467e-a502-1eed0f611e9d</td>\n",
       "      <td>0</td>\n",
       "      <td>154220</td>\n",
       "      <td>2020-09-08 13:38:30.916342+00:00</td>\n",
       "    </tr>\n",
       "    <tr>\n",
       "      <th>3</th>\n",
       "      <td>7279</td>\n",
       "      <td>M</td>\n",
       "      <td>1989-01-23</td>\n",
       "      <td>Nusa Tenggara Barat</td>\n",
       "      <td>2020-08-23</td>\n",
       "      <td>31</td>\n",
       "      <td>33</td>\n",
       "      <td>2020-09-16 13:48:09.916342+00:00</td>\n",
       "      <td>d8c8337c-ef09-4ed3-801a-3e5fd22c3d8d</td>\n",
       "      <td>70d1c010-60e4-440a-80df-9efb0132cfb7</td>\n",
       "      <td>0</td>\n",
       "      <td>402502</td>\n",
       "      <td>2020-09-16 13:48:09.916342+00:00</td>\n",
       "    </tr>\n",
       "    <tr>\n",
       "      <th>4</th>\n",
       "      <td>7279</td>\n",
       "      <td>M</td>\n",
       "      <td>1989-01-23</td>\n",
       "      <td>Nusa Tenggara Barat</td>\n",
       "      <td>2020-08-23</td>\n",
       "      <td>31</td>\n",
       "      <td>33</td>\n",
       "      <td>2020-09-24 13:32:03.916342+00:00</td>\n",
       "      <td>1a9d2de2-8c8c-43f3-8ccb-9fbba08ea6e1</td>\n",
       "      <td>a083d201-314b-4b5d-9b12-0f2b6010846d</td>\n",
       "      <td>0</td>\n",
       "      <td>396435</td>\n",
       "      <td>2020-09-24 13:32:03.916342+00:00</td>\n",
       "    </tr>\n",
       "  </tbody>\n",
       "</table>\n",
       "</div>"
      ],
      "text/plain": [
       "   customer_id gender   birthdate        home_location first_join_date  \\\n",
       "0         7279      M  1989-01-23  Nusa Tenggara Barat      2020-08-23   \n",
       "1         7279      M  1989-01-23  Nusa Tenggara Barat      2020-08-23   \n",
       "2         7279      M  1989-01-23  Nusa Tenggara Barat      2020-08-23   \n",
       "3         7279      M  1989-01-23  Nusa Tenggara Barat      2020-08-23   \n",
       "4         7279      M  1989-01-23  Nusa Tenggara Barat      2020-08-23   \n",
       "\n",
       "   age_join  age_now                       created_at  \\\n",
       "0        31       33 2020-08-23 12:53:12.916342+00:00   \n",
       "1        31       33 2020-08-31 13:34:59.916342+00:00   \n",
       "2        31       33 2020-09-08 13:38:30.916342+00:00   \n",
       "3        31       33 2020-09-16 13:48:09.916342+00:00   \n",
       "4        31       33 2020-09-24 13:32:03.916342+00:00   \n",
       "\n",
       "                             booking_id                            session_id  \\\n",
       "0  1fb6f149-05ef-4a22-ac1a-cd5d98cd5510  9d0496a6-37f7-4d0a-8a04-5850a12d00a6   \n",
       "1  eed52035-1f80-422c-b0ac-a1c814e77bcf  82396d8d-7d8a-436d-8e14-75f24aa35faa   \n",
       "2  af568d06-c819-4ab4-a3e8-06857786ba10  348cc997-480b-467e-a502-1eed0f611e9d   \n",
       "3  d8c8337c-ef09-4ed3-801a-3e5fd22c3d8d  70d1c010-60e4-440a-80df-9efb0132cfb7   \n",
       "4  1a9d2de2-8c8c-43f3-8ccb-9fbba08ea6e1  a083d201-314b-4b5d-9b12-0f2b6010846d   \n",
       "\n",
       "   with_promo   sales                       event_time  \n",
       "0           1  829751 2020-08-23 12:53:12.916342+00:00  \n",
       "1           0  381341 2020-08-31 13:34:59.916342+00:00  \n",
       "2           0  154220 2020-09-08 13:38:30.916342+00:00  \n",
       "3           0  402502 2020-09-16 13:48:09.916342+00:00  \n",
       "4           0  396435 2020-09-24 13:32:03.916342+00:00  "
      ]
     },
     "execution_count": 47,
     "metadata": {},
     "output_type": "execute_result"
    }
   ],
   "source": [
    "# 통합 데이터프레임 (booking_id별 정보)\n",
    "merge_cust_trans = pd.merge(customer, transaction_new, how='inner', on='customer_id')\n",
    "merge_cust_trans = merge_cust_trans[['customer_id', 'gender', 'birthdate', 'home_location', 'first_join_date'\n",
    "                                        , 'age_join', 'age_now', 'created_at', 'booking_id', 'session_id'\n",
    "                                        , 'with_promo']]\n",
    "merge_cust_trans.drop_duplicates(inplace=True)\n",
    "merge_data = pd.merge(merge_cust_trans, sales[['booking_id', 'sales']], how='left', on='booking_id')\n",
    "merge_data = pd.merge(merge_data, click_stream_new[click_stream_new.event_name == 'BOOKING'][['session_id', 'event_time']], how='left', on='session_id')\n",
    "merge_data.head()"
   ]
  },
  {
   "cell_type": "code",
   "execution_count": 48,
   "metadata": {},
   "outputs": [
    {
     "data": {
      "text/plain": [
       "count                        801878\n",
       "mean     43 days 01:23:47.904752345\n",
       "std      72 days 22:04:23.032538570\n",
       "min                 0 days 00:00:18\n",
       "25%                11 days 00:30:35\n",
       "50%                21 days 00:13:35\n",
       "75%         43 days 23:53:45.750000\n",
       "max              1109 days 23:27:29\n",
       "Name: difference, dtype: object"
      ]
     },
     "execution_count": 48,
     "metadata": {},
     "output_type": "execute_result"
    }
   ],
   "source": [
    "# 재구매 행위 기간 통계 자료\n",
    "\n",
    "# customer_id, created_at 기준 정렬\n",
    "merge_data = merge_data.sort_values(by=['customer_id', 'event_time'])\n",
    "\n",
    "# 구매 행위 간 시간 차이 열 생성\n",
    "merge_data['difference'] = merge_data.groupby(['customer_id'])['event_time'].diff()\n",
    "\n",
    "merge_data.difference.describe()"
   ]
  },
  {
   "cell_type": "code",
   "execution_count": 49,
   "metadata": {},
   "outputs": [
    {
     "data": {
      "text/plain": [
       "count                        801878\n",
       "mean     43 days 01:23:47.904752345\n",
       "std      72 days 22:04:23.032538570\n",
       "min                 0 days 00:00:18\n",
       "25%                11 days 00:30:35\n",
       "50%                21 days 00:13:35\n",
       "75%         43 days 23:53:45.750000\n",
       "max              1109 days 23:27:29\n",
       "Name: difference, dtype: object"
      ]
     },
     "execution_count": 49,
     "metadata": {},
     "output_type": "execute_result"
    }
   ],
   "source": [
    "# 재구매 행위 기간 통계 자료\n",
    "\n",
    "# customer_id, created_at 기준 정렬\n",
    "merge_data = merge_data.sort_values(by=['customer_id', 'event_time'])\n",
    "\n",
    "# 구매 행위 간 시간 차이 열 생성\n",
    "merge_data['difference'] = merge_data.groupby(['customer_id'])['event_time'].diff()\n",
    "\n",
    "merge_data.difference.describe()"
   ]
  },
  {
   "attachments": {},
   "cell_type": "markdown",
   "metadata": {},
   "source": [
    "##### 구매 횟수 기준 그룹 분할"
   ]
  },
  {
   "cell_type": "code",
   "execution_count": 50,
   "metadata": {},
   "outputs": [],
   "source": [
    "# 노트(무시하셔도 됩니다..)\n",
    "# groupby, count를 할 경우에는 중복 유무를 떠나 모든 개수를 센다.\n",
    "# 중복 여부를 고려하려면 groupby, nunique()를 쓰면 된다."
   ]
  },
  {
   "cell_type": "code",
   "execution_count": 51,
   "metadata": {},
   "outputs": [
    {
     "data": {
      "text/plain": [
       "customer_id\n",
       "3        51\n",
       "8         7\n",
       "9         6\n",
       "11        1\n",
       "15        5\n",
       "         ..\n",
       "99992    12\n",
       "99995    60\n",
       "99997     1\n",
       "99998     8\n",
       "99999     1\n",
       "Name: booking_id, Length: 50704, dtype: int64"
      ]
     },
     "execution_count": 51,
     "metadata": {},
     "output_type": "execute_result"
    }
   ],
   "source": [
    "merge_data.groupby(['customer_id'])['booking_id'].nunique()"
   ]
  },
  {
   "cell_type": "code",
   "execution_count": 52,
   "metadata": {},
   "outputs": [
    {
     "data": {
      "text/plain": [
       "count    50704.000000\n",
       "mean        16.814886\n",
       "std         29.711265\n",
       "min          1.000000\n",
       "25%          2.000000\n",
       "50%          6.000000\n",
       "75%         18.000000\n",
       "max        550.000000\n",
       "Name: booking_id, dtype: float64"
      ]
     },
     "execution_count": 52,
     "metadata": {},
     "output_type": "execute_result"
    }
   ],
   "source": [
    "# 구매 횟수 통계 자료\n",
    "purchase_cnt = merge_data.groupby(['customer_id'])['booking_id'].nunique()\n",
    "purchase_cnt.describe()"
   ]
  },
  {
   "cell_type": "code",
   "execution_count": 53,
   "metadata": {},
   "outputs": [
    {
     "data": {
      "image/png": "[encoded data removed]",
      "text/plain": [
       "<Figure size 640x480 with 1 Axes>"
      ]
     },
     "metadata": {},
     "output_type": "display_data"
    }
   ],
   "source": [
    "sns.histplot(purchase_cnt)\n",
    "plt.xlabel('purchasing count')\n",
    "plt.show()"
   ]
  },
  {
   "cell_type": "code",
   "execution_count": 54,
   "metadata": {},
   "outputs": [
    {
     "data": {
      "text/plain": [
       "0.2462133165036282"
      ]
     },
     "execution_count": 54,
     "metadata": {},
     "output_type": "execute_result"
    }
   ],
   "source": [
    "# 그룹 분할\n",
    "# 1번 그룹 : 1번만 구매한 고객 (20.2%)\n",
    "# 2번 그룹 : 2 ~ 6 (32.2%)\n",
    "# 3번 그룹 : 7 ~ 18 (23.0%)\n",
    "# 4번 그룹 : 19 ~ 550 (24.6%)\n",
    "\n",
    "# 비율 계산에 사용한 코드\n",
    "ratio = 0\n",
    "for i in range(19, 551):\n",
    "    try:\n",
    "        ratio += purchase_cnt.value_counts(normalize=True)[i]\n",
    "    except KeyError:\n",
    "        continue\n",
    "ratio"
   ]
  },
  {
   "cell_type": "code",
   "execution_count": 55,
   "metadata": {},
   "outputs": [
    {
     "data": {
      "text/plain": [
       "customer_id\n",
       "3           28 days 00:24:57.380000\n",
       "8        76 days 02:09:47.166666667\n",
       "9           67 days 01:22:32.800000\n",
       "11                              NaT\n",
       "15         207 days 00:20:05.500000\n",
       "                    ...            \n",
       "99992    63 days 01:08:06.545454545\n",
       "99995    12 days 00:18:21.847457627\n",
       "99997                           NaT\n",
       "99998   186 days 00:33:58.571428572\n",
       "99999                           NaT\n",
       "Name: difference, Length: 50704, dtype: timedelta64[ns]"
      ]
     },
     "execution_count": 55,
     "metadata": {},
     "output_type": "execute_result"
    }
   ],
   "source": [
    "merge_data.groupby('customer_id')['difference'].mean()"
   ]
  },
  {
   "cell_type": "code",
   "execution_count": 56,
   "metadata": {},
   "outputs": [
    {
     "data": {
      "text/plain": [
       "{'num': [1,\n",
       "  2,\n",
       "  3,\n",
       "  4,\n",
       "  5,\n",
       "  6,\n",
       "  7,\n",
       "  8,\n",
       "  9,\n",
       "  10,\n",
       "  11,\n",
       "  12,\n",
       "  13,\n",
       "  14,\n",
       "  15,\n",
       "  16,\n",
       "  17,\n",
       "  18,\n",
       "  19,\n",
       "  20,\n",
       "  21,\n",
       "  22,\n",
       "  23,\n",
       "  24,\n",
       "  25,\n",
       "  26,\n",
       "  27,\n",
       "  28,\n",
       "  29,\n",
       "  30,\n",
       "  31,\n",
       "  32,\n",
       "  33,\n",
       "  34,\n",
       "  35,\n",
       "  36,\n",
       "  37,\n",
       "  38,\n",
       "  39,\n",
       "  40,\n",
       "  41,\n",
       "  42,\n",
       "  43,\n",
       "  44,\n",
       "  45,\n",
       "  46,\n",
       "  47,\n",
       "  48,\n",
       "  49,\n",
       "  50,\n",
       "  51,\n",
       "  52,\n",
       "  53,\n",
       "  54,\n",
       "  55,\n",
       "  56,\n",
       "  57,\n",
       "  58,\n",
       "  59,\n",
       "  60,\n",
       "  61,\n",
       "  62,\n",
       "  63,\n",
       "  64,\n",
       "  65,\n",
       "  66,\n",
       "  67,\n",
       "  68,\n",
       "  69,\n",
       "  70,\n",
       "  71,\n",
       "  72,\n",
       "  73,\n",
       "  74,\n",
       "  75,\n",
       "  76,\n",
       "  77,\n",
       "  78,\n",
       "  79,\n",
       "  80,\n",
       "  81,\n",
       "  82,\n",
       "  83,\n",
       "  84,\n",
       "  85,\n",
       "  86,\n",
       "  87,\n",
       "  88,\n",
       "  89,\n",
       "  90,\n",
       "  91,\n",
       "  92,\n",
       "  93,\n",
       "  94,\n",
       "  95,\n",
       "  96,\n",
       "  97,\n",
       "  98,\n",
       "  99,\n",
       "  100,\n",
       "  101,\n",
       "  102,\n",
       "  103,\n",
       "  104,\n",
       "  105,\n",
       "  106,\n",
       "  107,\n",
       "  108,\n",
       "  109,\n",
       "  110,\n",
       "  111,\n",
       "  112,\n",
       "  113,\n",
       "  114,\n",
       "  115,\n",
       "  116,\n",
       "  117,\n",
       "  118,\n",
       "  119,\n",
       "  120,\n",
       "  121,\n",
       "  122,\n",
       "  123,\n",
       "  124,\n",
       "  125,\n",
       "  126,\n",
       "  127,\n",
       "  128,\n",
       "  129,\n",
       "  130,\n",
       "  131,\n",
       "  132,\n",
       "  133,\n",
       "  134,\n",
       "  135,\n",
       "  136,\n",
       "  137,\n",
       "  138,\n",
       "  139,\n",
       "  140,\n",
       "  141,\n",
       "  142,\n",
       "  143,\n",
       "  144,\n",
       "  145,\n",
       "  146,\n",
       "  147,\n",
       "  148,\n",
       "  149,\n",
       "  150,\n",
       "  151,\n",
       "  152,\n",
       "  153,\n",
       "  154,\n",
       "  155,\n",
       "  156,\n",
       "  157,\n",
       "  158,\n",
       "  159,\n",
       "  160,\n",
       "  161,\n",
       "  162,\n",
       "  163,\n",
       "  164,\n",
       "  165,\n",
       "  166,\n",
       "  167,\n",
       "  168,\n",
       "  169,\n",
       "  170,\n",
       "  171,\n",
       "  173,\n",
       "  174,\n",
       "  175,\n",
       "  176,\n",
       "  177,\n",
       "  178,\n",
       "  179,\n",
       "  180,\n",
       "  181,\n",
       "  182,\n",
       "  183,\n",
       "  184,\n",
       "  185,\n",
       "  186,\n",
       "  187,\n",
       "  188,\n",
       "  189,\n",
       "  190,\n",
       "  191,\n",
       "  192,\n",
       "  193,\n",
       "  194,\n",
       "  195,\n",
       "  196,\n",
       "  197,\n",
       "  198,\n",
       "  199,\n",
       "  200,\n",
       "  201,\n",
       "  202,\n",
       "  203,\n",
       "  204,\n",
       "  205,\n",
       "  206,\n",
       "  207,\n",
       "  208,\n",
       "  209,\n",
       "  210,\n",
       "  211,\n",
       "  212,\n",
       "  213,\n",
       "  214,\n",
       "  215,\n",
       "  216,\n",
       "  217,\n",
       "  218,\n",
       "  219,\n",
       "  220,\n",
       "  222,\n",
       "  223,\n",
       "  224,\n",
       "  225,\n",
       "  226,\n",
       "  227,\n",
       "  228,\n",
       "  229,\n",
       "  230,\n",
       "  231,\n",
       "  232,\n",
       "  233,\n",
       "  235,\n",
       "  236,\n",
       "  237,\n",
       "  238,\n",
       "  241,\n",
       "  243,\n",
       "  244,\n",
       "  245,\n",
       "  246,\n",
       "  247,\n",
       "  248,\n",
       "  250,\n",
       "  251,\n",
       "  253,\n",
       "  254,\n",
       "  255,\n",
       "  257,\n",
       "  258,\n",
       "  260,\n",
       "  261,\n",
       "  262,\n",
       "  264,\n",
       "  265,\n",
       "  266,\n",
       "  267,\n",
       "  268,\n",
       "  270,\n",
       "  271,\n",
       "  273,\n",
       "  274,\n",
       "  276,\n",
       "  280,\n",
       "  281,\n",
       "  283,\n",
       "  284,\n",
       "  285,\n",
       "  286,\n",
       "  287,\n",
       "  288,\n",
       "  291,\n",
       "  292,\n",
       "  294,\n",
       "  296,\n",
       "  299,\n",
       "  300,\n",
       "  302,\n",
       "  305,\n",
       "  307,\n",
       "  308,\n",
       "  312,\n",
       "  313,\n",
       "  315,\n",
       "  320,\n",
       "  327,\n",
       "  328,\n",
       "  335,\n",
       "  340,\n",
       "  347,\n",
       "  349,\n",
       "  351,\n",
       "  352,\n",
       "  353,\n",
       "  354,\n",
       "  355,\n",
       "  356,\n",
       "  360,\n",
       "  361,\n",
       "  378,\n",
       "  391,\n",
       "  397,\n",
       "  399,\n",
       "  401,\n",
       "  402,\n",
       "  426,\n",
       "  436,\n",
       "  458,\n",
       "  473,\n",
       "  503,\n",
       "  505,\n",
       "  550],\n",
       " 'gender_F': [0.6383165706473977,\n",
       "  0.647373271889401,\n",
       "  0.643336015017431,\n",
       "  0.6441675320179993,\n",
       "  0.6412344620660094,\n",
       "  0.6415094339622641,\n",
       "  0.6515426497277677,\n",
       "  0.6560810810810811,\n",
       "  0.640746500777605,\n",
       "  0.6404391582799634,\n",
       "  0.6214859437751004,\n",
       "  0.6518518518518519,\n",
       "  0.6511627906976745,\n",
       "  0.6405648267008985,\n",
       "  0.6340057636887608,\n",
       "  0.6336477987421384,\n",
       "  0.6456692913385826,\n",
       "  0.6205128205128205,\n",
       "  0.6537785588752196,\n",
       "  0.6220806794055201,\n",
       "  0.6502242152466368,\n",
       "  0.6568627450980392,\n",
       "  0.6225,\n",
       "  0.6753246753246753,\n",
       "  0.6675603217158177,\n",
       "  0.648876404494382,\n",
       "  0.6086956521739131,\n",
       "  0.6325878594249201,\n",
       "  0.6666666666666666,\n",
       "  0.6074074074074074,\n",
       "  0.6751054852320675,\n",
       "  0.7290076335877863,\n",
       "  0.6290322580645161,\n",
       "  0.6511627906976745,\n",
       "  0.6548223350253807,\n",
       "  0.6381909547738693,\n",
       "  0.5583756345177665,\n",
       "  0.6237623762376238,\n",
       "  0.6898148148148148,\n",
       "  0.6476190476190476,\n",
       "  0.5838150289017341,\n",
       "  0.656084656084656,\n",
       "  0.6976744186046512,\n",
       "  0.5792682926829268,\n",
       "  0.631578947368421,\n",
       "  0.6910569105691057,\n",
       "  0.6081081081081081,\n",
       "  0.6870229007633588,\n",
       "  0.6020408163265306,\n",
       "  0.6037735849056604,\n",
       "  0.6198347107438017,\n",
       "  0.6388888888888888,\n",
       "  0.6336633663366337,\n",
       "  0.6428571428571429,\n",
       "  0.6086956521739131,\n",
       "  0.6836734693877551,\n",
       "  0.6219512195121951,\n",
       "  0.632183908045977,\n",
       "  0.6304347826086957,\n",
       "  0.7088607594936709,\n",
       "  0.6951219512195121,\n",
       "  0.5421686746987951,\n",
       "  0.7105263157894737,\n",
       "  0.6875,\n",
       "  0.5945945945945946,\n",
       "  0.703125,\n",
       "  0.6049382716049383,\n",
       "  0.6521739130434783,\n",
       "  0.6,\n",
       "  0.6461538461538462,\n",
       "  0.6515151515151515,\n",
       "  0.7352941176470589,\n",
       "  0.7241379310344828,\n",
       "  0.6896551724137931,\n",
       "  0.5769230769230769,\n",
       "  0.574468085106383,\n",
       "  0.7192982456140351,\n",
       "  0.6060606060606061,\n",
       "  0.717391304347826,\n",
       "  0.6226415094339622,\n",
       "  0.5849056603773585,\n",
       "  0.6744186046511628,\n",
       "  0.6923076923076923,\n",
       "  0.6216216216216216,\n",
       "  0.6046511627906976,\n",
       "  0.4722222222222222,\n",
       "  0.5454545454545454,\n",
       "  0.4444444444444444,\n",
       "  0.5789473684210527,\n",
       "  0.41379310344827586,\n",
       "  0.6744186046511628,\n",
       "  0.6190476190476191,\n",
       "  0.6176470588235294,\n",
       "  0.72,\n",
       "  0.6388888888888888,\n",
       "  0.6216216216216216,\n",
       "  0.6538461538461539,\n",
       "  0.6,\n",
       "  0.7407407407407407,\n",
       "  0.391304347826087,\n",
       "  0.782608695652174,\n",
       "  0.7407407407407407,\n",
       "  0.6666666666666666,\n",
       "  0.75,\n",
       "  0.6296296296296297,\n",
       "  0.5454545454545454,\n",
       "  0.68,\n",
       "  0.7,\n",
       "  0.5769230769230769,\n",
       "  0.6176470588235294,\n",
       "  0.7647058823529411,\n",
       "  0.375,\n",
       "  0.6111111111111112,\n",
       "  0.7368421052631579,\n",
       "  0.5652173913043478,\n",
       "  0.7142857142857143,\n",
       "  0.7307692307692307,\n",
       "  0.625,\n",
       "  0.8,\n",
       "  0.6,\n",
       "  0.631578947368421,\n",
       "  0.5789473684210527,\n",
       "  0.47058823529411764,\n",
       "  0.7368421052631579,\n",
       "  0.7,\n",
       "  0.6,\n",
       "  0.7142857142857143,\n",
       "  0.5882352941176471,\n",
       "  0.6666666666666666,\n",
       "  0.7142857142857143,\n",
       "  0.47058823529411764,\n",
       "  0.7647058823529411,\n",
       "  0.5555555555555556,\n",
       "  0.35714285714285715,\n",
       "  0.6,\n",
       "  0.6,\n",
       "  0.7,\n",
       "  0.5,\n",
       "  0.5833333333333334,\n",
       "  0.8571428571428571,\n",
       "  0.7,\n",
       "  0.7857142857142857,\n",
       "  0.6,\n",
       "  0.4166666666666667,\n",
       "  0.3,\n",
       "  0.6153846153846154,\n",
       "  0.7,\n",
       "  0.6666666666666666,\n",
       "  0.46153846153846156,\n",
       "  0.6666666666666666,\n",
       "  0.875,\n",
       "  0.8,\n",
       "  0.5454545454545454,\n",
       "  0.7142857142857143,\n",
       "  0.36363636363636365,\n",
       "  0.5,\n",
       "  0.7777777777777778,\n",
       "  0.5,\n",
       "  0.7142857142857143,\n",
       "  0.2,\n",
       "  0.875,\n",
       "  0.625,\n",
       "  1.0,\n",
       "  0.8333333333333334,\n",
       "  0.5714285714285714,\n",
       "  1.0,\n",
       "  0.75,\n",
       "  0.75,\n",
       "  0.75,\n",
       "  0.8,\n",
       "  1.0,\n",
       "  1.0,\n",
       "  0.8333333333333334,\n",
       "  0.7142857142857143,\n",
       "  0.5,\n",
       "  0.38461538461538464,\n",
       "  0.625,\n",
       "  1.0,\n",
       "  0.25,\n",
       "  1.0,\n",
       "  0.75,\n",
       "  1.0,\n",
       "  0.8,\n",
       "  1.0,\n",
       "  0,\n",
       "  0,\n",
       "  0.5,\n",
       "  0.4,\n",
       "  0.3333333333333333,\n",
       "  1.0,\n",
       "  0.5714285714285714,\n",
       "  1.0,\n",
       "  1.0,\n",
       "  0.8,\n",
       "  0.3333333333333333,\n",
       "  0.42857142857142855,\n",
       "  0,\n",
       "  0.6666666666666666,\n",
       "  0.3333333333333333,\n",
       "  0.5,\n",
       "  1.0,\n",
       "  0.5,\n",
       "  0.6666666666666666,\n",
       "  0.6666666666666666,\n",
       "  1.0,\n",
       "  0.5,\n",
       "  0.6666666666666666,\n",
       "  0.5,\n",
       "  0.3333333333333333,\n",
       "  0,\n",
       "  0,\n",
       "  0.3333333333333333,\n",
       "  1.0,\n",
       "  0.8,\n",
       "  0.4,\n",
       "  1.0,\n",
       "  1.0,\n",
       "  0.3333333333333333,\n",
       "  1.0,\n",
       "  1.0,\n",
       "  0,\n",
       "  0,\n",
       "  0,\n",
       "  1.0,\n",
       "  0.5,\n",
       "  0.5,\n",
       "  0.3333333333333333,\n",
       "  1.0,\n",
       "  1.0,\n",
       "  1.0,\n",
       "  0.3333333333333333,\n",
       "  0,\n",
       "  1.0,\n",
       "  0.5,\n",
       "  0.6666666666666666,\n",
       "  1.0,\n",
       "  1.0,\n",
       "  0,\n",
       "  0.5,\n",
       "  0.6666666666666666,\n",
       "  1.0,\n",
       "  1.0,\n",
       "  1.0,\n",
       "  0,\n",
       "  0.3333333333333333,\n",
       "  1.0,\n",
       "  1.0,\n",
       "  1.0,\n",
       "  0,\n",
       "  0.5,\n",
       "  0,\n",
       "  0,\n",
       "  0,\n",
       "  0.5,\n",
       "  1.0,\n",
       "  0,\n",
       "  0.3333333333333333,\n",
       "  0,\n",
       "  0.5,\n",
       "  1.0,\n",
       "  1.0,\n",
       "  1.0,\n",
       "  0,\n",
       "  0,\n",
       "  0,\n",
       "  0,\n",
       "  1.0,\n",
       "  1.0,\n",
       "  0,\n",
       "  1.0,\n",
       "  1.0,\n",
       "  0,\n",
       "  1.0,\n",
       "  1.0,\n",
       "  0.5,\n",
       "  1.0,\n",
       "  0.5,\n",
       "  0,\n",
       "  1.0,\n",
       "  0,\n",
       "  1.0,\n",
       "  1.0,\n",
       "  1.0,\n",
       "  0.5,\n",
       "  0.5,\n",
       "  1.0,\n",
       "  0,\n",
       "  1.0,\n",
       "  1.0,\n",
       "  0.5,\n",
       "  1.0,\n",
       "  1.0,\n",
       "  1.0,\n",
       "  1.0,\n",
       "  1.0,\n",
       "  1.0,\n",
       "  1.0,\n",
       "  1.0,\n",
       "  1.0,\n",
       "  1.0,\n",
       "  0,\n",
       "  0,\n",
       "  0,\n",
       "  1.0,\n",
       "  1.0,\n",
       "  1.0,\n",
       "  1.0,\n",
       "  1.0,\n",
       "  1.0,\n",
       "  1.0,\n",
       "  1.0],\n",
       " 'age_now': [26.497021775217263,\n",
       "  26.59336405529954,\n",
       "  26.702333065164925,\n",
       "  26.570093457943926,\n",
       "  26.50150021431633,\n",
       "  26.355940846506883,\n",
       "  26.513611615245008,\n",
       "  26.46554054054054,\n",
       "  26.615085536547433,\n",
       "  26.350411710887467,\n",
       "  26.815261044176708,\n",
       "  26.612698412698414,\n",
       "  26.81279069767442,\n",
       "  26.77535301668806,\n",
       "  26.619596541786745,\n",
       "  26.65880503144654,\n",
       "  26.368503937007873,\n",
       "  26.705982905982907,\n",
       "  26.637961335676625,\n",
       "  26.231422505307854,\n",
       "  26.47982062780269,\n",
       "  26.67156862745098,\n",
       "  27.08,\n",
       "  26.935064935064936,\n",
       "  26.01608579088472,\n",
       "  26.575842696629213,\n",
       "  26.279503105590063,\n",
       "  25.39297124600639,\n",
       "  26.303030303030305,\n",
       "  25.696296296296296,\n",
       "  26.645569620253166,\n",
       "  26.67557251908397,\n",
       "  25.580645161290324,\n",
       "  26.293023255813953,\n",
       "  26.18781725888325,\n",
       "  26.487437185929647,\n",
       "  27.548223350253807,\n",
       "  26.940594059405942,\n",
       "  26.78240740740741,\n",
       "  26.604761904761904,\n",
       "  25.797687861271676,\n",
       "  26.3015873015873,\n",
       "  25.558139534883722,\n",
       "  26.829268292682926,\n",
       "  27.42105263157895,\n",
       "  26.43089430894309,\n",
       "  26.243243243243242,\n",
       "  26.984732824427482,\n",
       "  25.275510204081634,\n",
       "  25.59433962264151,\n",
       "  26.0,\n",
       "  27.305555555555557,\n",
       "  24.95049504950495,\n",
       "  27.410714285714285,\n",
       "  26.51086956521739,\n",
       "  26.785714285714285,\n",
       "  26.25609756097561,\n",
       "  26.333333333333332,\n",
       "  26.72826086956522,\n",
       "  26.531645569620252,\n",
       "  25.524390243902438,\n",
       "  25.337349397590362,\n",
       "  26.657894736842106,\n",
       "  28.140625,\n",
       "  25.35135135135135,\n",
       "  27.0,\n",
       "  27.185185185185187,\n",
       "  27.652173913043477,\n",
       "  24.916666666666668,\n",
       "  26.584615384615386,\n",
       "  26.575757575757574,\n",
       "  26.5,\n",
       "  28.086206896551722,\n",
       "  27.637931034482758,\n",
       "  24.28846153846154,\n",
       "  26.170212765957448,\n",
       "  27.57894736842105,\n",
       "  26.742424242424242,\n",
       "  25.934782608695652,\n",
       "  25.39622641509434,\n",
       "  27.660377358490567,\n",
       "  25.023255813953487,\n",
       "  27.23076923076923,\n",
       "  27.594594594594593,\n",
       "  27.72093023255814,\n",
       "  27.083333333333332,\n",
       "  28.022727272727273,\n",
       "  25.52777777777778,\n",
       "  27.342105263157894,\n",
       "  26.24137931034483,\n",
       "  27.325581395348838,\n",
       "  27.047619047619047,\n",
       "  27.735294117647058,\n",
       "  25.48,\n",
       "  25.833333333333332,\n",
       "  26.08108108108108,\n",
       "  23.46153846153846,\n",
       "  27.64,\n",
       "  26.74074074074074,\n",
       "  27.391304347826086,\n",
       "  27.652173913043477,\n",
       "  27.40740740740741,\n",
       "  23.458333333333332,\n",
       "  30.1,\n",
       "  22.666666666666668,\n",
       "  25.636363636363637,\n",
       "  26.6,\n",
       "  27.2,\n",
       "  26.653846153846153,\n",
       "  25.558823529411764,\n",
       "  25.235294117647058,\n",
       "  25.0625,\n",
       "  24.666666666666668,\n",
       "  25.789473684210527,\n",
       "  26.695652173913043,\n",
       "  26.285714285714285,\n",
       "  25.46153846153846,\n",
       "  27.291666666666668,\n",
       "  27.3,\n",
       "  26.733333333333334,\n",
       "  29.31578947368421,\n",
       "  25.31578947368421,\n",
       "  27.176470588235293,\n",
       "  24.789473684210527,\n",
       "  26.6,\n",
       "  25.666666666666668,\n",
       "  29.714285714285715,\n",
       "  26.0,\n",
       "  24.75,\n",
       "  26.571428571428573,\n",
       "  23.176470588235293,\n",
       "  27.0,\n",
       "  26.11111111111111,\n",
       "  27.785714285714285,\n",
       "  25.6,\n",
       "  24.866666666666667,\n",
       "  29.5,\n",
       "  27.25,\n",
       "  27.166666666666668,\n",
       "  24.857142857142858,\n",
       "  27.9,\n",
       "  28.571428571428573,\n",
       "  21.0,\n",
       "  26.083333333333332,\n",
       "  26.1,\n",
       "  26.384615384615383,\n",
       "  27.0,\n",
       "  28.833333333333332,\n",
       "  27.0,\n",
       "  31.88888888888889,\n",
       "  23.0,\n",
       "  24.1,\n",
       "  28.0,\n",
       "  23.714285714285715,\n",
       "  28.0,\n",
       "  26.333333333333332,\n",
       "  29.11111111111111,\n",
       "  27.75,\n",
       "  26.285714285714285,\n",
       "  24.0,\n",
       "  27.375,\n",
       "  26.375,\n",
       "  29.0,\n",
       "  24.666666666666668,\n",
       "  26.428571428571427,\n",
       "  24.0,\n",
       "  18.5,\n",
       "  28.0,\n",
       "  23.75,\n",
       "  23.4,\n",
       "  30.666666666666668,\n",
       "  36.0,\n",
       "  35.5,\n",
       "  28.571428571428573,\n",
       "  23.0,\n",
       "  27.692307692307693,\n",
       "  21.625,\n",
       "  18.0,\n",
       "  24.75,\n",
       "  30.5,\n",
       "  22.083333333333332,\n",
       "  25.666666666666668,\n",
       "  28.8,\n",
       "  35.0,\n",
       "  25.5,\n",
       "  21.0,\n",
       "  29.5,\n",
       "  31.0,\n",
       "  28.666666666666668,\n",
       "  24.5,\n",
       "  23.428571428571427,\n",
       "  25.0,\n",
       "  34.0,\n",
       "  21.8,\n",
       "  25.0,\n",
       "  25.857142857142858,\n",
       "  33.0,\n",
       "  26.0,\n",
       "  23.666666666666668,\n",
       "  25.5,\n",
       "  23.25,\n",
       "  24.833333333333332,\n",
       "  26.333333333333332,\n",
       "  30.0,\n",
       "  23.5,\n",
       "  27.5,\n",
       "  17.666666666666668,\n",
       "  25.0,\n",
       "  23.666666666666668,\n",
       "  25.0,\n",
       "  23.0,\n",
       "  24.333333333333332,\n",
       "  28.0,\n",
       "  27.0,\n",
       "  28.8,\n",
       "  25.666666666666668,\n",
       "  15.0,\n",
       "  20.333333333333332,\n",
       "  33.0,\n",
       "  28.0,\n",
       "  22.0,\n",
       "  20.5,\n",
       "  23.0,\n",
       "  25.666666666666668,\n",
       "  25.0,\n",
       "  24.25,\n",
       "  19.333333333333332,\n",
       "  35.5,\n",
       "  22.0,\n",
       "  23.0,\n",
       "  24.666666666666668,\n",
       "  26.0,\n",
       "  33.0,\n",
       "  26.5,\n",
       "  34.333333333333336,\n",
       "  27.0,\n",
       "  27.0,\n",
       "  19.0,\n",
       "  27.5,\n",
       "  28.0,\n",
       "  35.0,\n",
       "  20.0,\n",
       "  26.0,\n",
       "  26.0,\n",
       "  27.0,\n",
       "  22.0,\n",
       "  30.0,\n",
       "  26.0,\n",
       "  37.0,\n",
       "  21.0,\n",
       "  23.0,\n",
       "  26.0,\n",
       "  21.0,\n",
       "  23.0,\n",
       "  33.0,\n",
       "  21.0,\n",
       "  24.0,\n",
       "  19.0,\n",
       "  20.0,\n",
       "  38.0,\n",
       "  22.5,\n",
       "  22.0,\n",
       "  23.0,\n",
       "  22.0,\n",
       "  26.5,\n",
       "  30.0,\n",
       "  27.0,\n",
       "  30.0,\n",
       "  19.0,\n",
       "  26.5,\n",
       "  20.0,\n",
       "  28.0,\n",
       "  23.0,\n",
       "  14.0,\n",
       "  26.5,\n",
       "  23.0,\n",
       "  28.0,\n",
       "  19.0,\n",
       "  24.0,\n",
       "  37.0,\n",
       "  17.0,\n",
       "  30.0,\n",
       "  17.5,\n",
       "  26.5,\n",
       "  31.5,\n",
       "  22.0,\n",
       "  15.0,\n",
       "  29.0,\n",
       "  19.0,\n",
       "  20.0,\n",
       "  37.0,\n",
       "  33.0,\n",
       "  26.0,\n",
       "  17.0,\n",
       "  17.0,\n",
       "  20.0,\n",
       "  31.0,\n",
       "  27.0,\n",
       "  27.0,\n",
       "  23.0,\n",
       "  45.0,\n",
       "  23.0,\n",
       "  24.0,\n",
       "  28.0,\n",
       "  18.0,\n",
       "  27.0,\n",
       "  21.0,\n",
       "  30.0,\n",
       "  26.0,\n",
       "  14.0,\n",
       "  23.0],\n",
       " 'with_promo': [0.35465286593106143,\n",
       "  0.34986175115207374,\n",
       "  0.3553231429337624,\n",
       "  0.35444790584977504,\n",
       "  0.35156450921560223,\n",
       "  0.352371239163692,\n",
       "  0.3517414225218217,\n",
       "  0.34628378378378377,\n",
       "  0.35493347157421806,\n",
       "  0.3541628545288198,\n",
       "  0.35396129974443225,\n",
       "  0.3529100529100529,\n",
       "  0.3511627906976744,\n",
       "  0.35952686594535116,\n",
       "  0.34966378482228627,\n",
       "  0.36674528301886794,\n",
       "  0.355349698934692,\n",
       "  0.3637226970560304,\n",
       "  0.351493848857645,\n",
       "  0.3559447983014863,\n",
       "  0.35927824044415974,\n",
       "  0.35461229946524064,\n",
       "  0.3534782608695652,\n",
       "  0.37272727272727274,\n",
       "  0.36407506702412873,\n",
       "  0.3510155574762316,\n",
       "  0.3672647803082585,\n",
       "  0.3667275216795983,\n",
       "  0.37373737373737376,\n",
       "  0.36493827160493825,\n",
       "  0.39567170273581054,\n",
       "  0.37321087786259544,\n",
       "  0.36815738025415434,\n",
       "  0.36703146374829,\n",
       "  0.3635968092820885,\n",
       "  0.38791178112786145,\n",
       "  0.37700644807243794,\n",
       "  0.38170922355393433,\n",
       "  0.37310066476733145,\n",
       "  0.36797619047619046,\n",
       "  0.3896799661638235,\n",
       "  0.36180398085159987,\n",
       "  0.38967009194159,\n",
       "  0.3849778270509978,\n",
       "  0.38212197159565575,\n",
       "  0.3854718981972428,\n",
       "  0.3813973548016102,\n",
       "  0.3560750636132315,\n",
       "  0.37838400666389,\n",
       "  0.3967924528301887,\n",
       "  0.37919299951385516,\n",
       "  0.38390313390313396,\n",
       "  0.39024845880814496,\n",
       "  0.36144179894179895,\n",
       "  0.39505928853754946,\n",
       "  0.40743440233236144,\n",
       "  0.3722721437740693,\n",
       "  0.37118509710661907,\n",
       "  0.378960943257185,\n",
       "  0.3426160337552743,\n",
       "  0.38664534186325467,\n",
       "  0.39117761368052856,\n",
       "  0.38909774436090216,\n",
       "  0.392333984375,\n",
       "  0.38336798336798333,\n",
       "  0.38825757575757575,\n",
       "  0.37958356366316565,\n",
       "  0.3991901108269394,\n",
       "  0.3879227053140096,\n",
       "  0.4178021978021978,\n",
       "  0.3875373452838241,\n",
       "  0.4050245098039216,\n",
       "  0.4199338686820973,\n",
       "  0.38513513513513514,\n",
       "  0.3671794871794872,\n",
       "  0.3552631578947369,\n",
       "  0.40191387559808617,\n",
       "  0.38403263403263405,\n",
       "  0.36846450192625213,\n",
       "  0.4233490566037736,\n",
       "  0.4164919636617749,\n",
       "  0.36585365853658536,\n",
       "  0.38646895273401294,\n",
       "  0.4298584298584298,\n",
       "  0.4150478796169631,\n",
       "  0.38953488372093026,\n",
       "  0.37539184952978066,\n",
       "  0.38446969696969696,\n",
       "  0.4367238320520402,\n",
       "  0.39272030651341006,\n",
       "  0.370304114490161,\n",
       "  0.3951863354037267,\n",
       "  0.3636938646426313,\n",
       "  0.4302127659574468,\n",
       "  0.38040935672514614,\n",
       "  0.37922297297297297,\n",
       "  0.4238699444885011,\n",
       "  0.4183673469387755,\n",
       "  0.4017957351290684,\n",
       "  0.42217391304347823,\n",
       "  0.39991390443392166,\n",
       "  0.43754538852578073,\n",
       "  0.40372168284789645,\n",
       "  0.39086538461538467,\n",
       "  0.3929453262786596,\n",
       "  0.4042309891366495,\n",
       "  0.37757009345794385,\n",
       "  0.40462962962962956,\n",
       "  0.4446012702893437,\n",
       "  0.4213903743315508,\n",
       "  0.37201907790143085,\n",
       "  0.4330357142857143,\n",
       "  0.41838741396263524,\n",
       "  0.4132040627885503,\n",
       "  0.4260869565217392,\n",
       "  0.38793103448275873,\n",
       "  0.3941485864562788,\n",
       "  0.4163135593220339,\n",
       "  0.38697478991596646,\n",
       "  0.4233333333333334,\n",
       "  0.40495867768595045,\n",
       "  0.4236410698878343,\n",
       "  0.38450502152080346,\n",
       "  0.4231748726655347,\n",
       "  0.42560000000000003,\n",
       "  0.4275132275132275,\n",
       "  0.40438695163104615,\n",
       "  0.37775735294117646,\n",
       "  0.47222222222222227,\n",
       "  0.4164835164835165,\n",
       "  0.4508307139649753,\n",
       "  0.41978609625668445,\n",
       "  0.4177109440267335,\n",
       "  0.39872068230277186,\n",
       "  0.4296296296296297,\n",
       "  0.42401960784313725,\n",
       "  0.5394160583941606,\n",
       "  0.3188405797101449,\n",
       "  0.44904076738609106,\n",
       "  0.35714285714285715,\n",
       "  0.39999999999999997,\n",
       "  0.3868209255533199,\n",
       "  0.4209790209790209,\n",
       "  0.41435185185185186,\n",
       "  0.42000000000000004,\n",
       "  0.4567966280295047,\n",
       "  0.40680272108843535,\n",
       "  0.44256756756756754,\n",
       "  0.3670624677336087,\n",
       "  0.39851851851851855,\n",
       "  0.4387417218543046,\n",
       "  0.3914473684210526,\n",
       "  0.4444444444444445,\n",
       "  0.45454545454545453,\n",
       "  0.4410557184750733,\n",
       "  0.40918803418803423,\n",
       "  0.4628450106157113,\n",
       "  0.42563291139240506,\n",
       "  0.4276729559748428,\n",
       "  0.4225,\n",
       "  0.42546583850931674,\n",
       "  0.4390432098765432,\n",
       "  0.4110429447852761,\n",
       "  0.4481707317073171,\n",
       "  0.39826839826839827,\n",
       "  0.3795180722891566,\n",
       "  0.4805389221556886,\n",
       "  0.38244047619047616,\n",
       "  0.415680473372781,\n",
       "  0.34235294117647064,\n",
       "  0.580896686159844,\n",
       "  0.3988439306358382,\n",
       "  0.3371647509578544,\n",
       "  0.4587755102040817,\n",
       "  0.4346590909090909,\n",
       "  0.41156019122120824,\n",
       "  0.3890449438202247,\n",
       "  0.4264432029795158,\n",
       "  0.38750000000000007,\n",
       "  0.5966850828729282,\n",
       "  0.4445970695970696,\n",
       "  0.4890710382513661,\n",
       "  0.3869565217391305,\n",
       "  0.4,\n",
       "  0.34543010752688175,\n",
       "  0.47058823529411764,\n",
       "  0.45744680851063835,\n",
       "  0.38835978835978835,\n",
       "  0.5,\n",
       "  0.4319371727748691,\n",
       "  0.4248511904761905,\n",
       "  0.41450777202072536,\n",
       "  0.3865979381443299,\n",
       "  0.42153846153846153,\n",
       "  0.435374149659864,\n",
       "  0.43654822335025373,\n",
       "  0.4511784511784512,\n",
       "  0.41708542713567837,\n",
       "  0.39999999999999997,\n",
       "  0.43781094527363185,\n",
       "  0.44925742574257427,\n",
       "  0.43678160919540227,\n",
       "  0.3349673202614379,\n",
       "  0.5024390243902439,\n",
       "  0.38349514563106796,\n",
       "  0.49516908212560384,\n",
       "  0.4022435897435897,\n",
       "  0.3803827751196172,\n",
       "  0.4063492063492064,\n",
       "  0.47393364928909953,\n",
       "  0.42688679245283023,\n",
       "  0.4178403755868545,\n",
       "  0.4158878504672897,\n",
       "  0.40744186046511627,\n",
       "  0.4166666666666667,\n",
       "  0.38556067588325654,\n",
       "  0.45412844036697253,\n",
       "  0.45357686453576856,\n",
       "  0.38181818181818183,\n",
       "  0.3993993993993994,\n",
       "  0.39760837070254107,\n",
       "  0.4441964285714286,\n",
       "  0.38666666666666666,\n",
       "  0.4395280235988201,\n",
       "  0.4008810572687225,\n",
       "  0.4824561403508772,\n",
       "  0.5283842794759825,\n",
       "  0.4347826086956522,\n",
       "  0.42424242424242425,\n",
       "  0.375,\n",
       "  0.42632331902718174,\n",
       "  0.425531914893617,\n",
       "  0.6864406779661016,\n",
       "  0.40295358649789026,\n",
       "  0.438375350140056,\n",
       "  0.3983402489626556,\n",
       "  0.411522633744856,\n",
       "  0.4098360655737705,\n",
       "  0.3979591836734694,\n",
       "  0.4146341463414634,\n",
       "  0.5897435897435898,\n",
       "  0.3870967741935484,\n",
       "  0.412,\n",
       "  0.38247011952191234,\n",
       "  0.4440052700922266,\n",
       "  0.468503937007874,\n",
       "  0.6509803921568628,\n",
       "  0.4357976653696498,\n",
       "  0.4186046511627907,\n",
       "  0.3980769230769231,\n",
       "  0.39846743295019155,\n",
       "  0.42366412213740456,\n",
       "  0.4356060606060606,\n",
       "  0.439622641509434,\n",
       "  0.6240601503759399,\n",
       "  0.4157303370786517,\n",
       "  0.4813432835820895,\n",
       "  0.37407407407407406,\n",
       "  0.448339483394834,\n",
       "  0.47985347985347987,\n",
       "  0.4562043795620438,\n",
       "  0.3695652173913043,\n",
       "  0.43214285714285716,\n",
       "  0.37722419928825623,\n",
       "  0.40106007067137805,\n",
       "  0.39436619718309857,\n",
       "  0.23508771929824562,\n",
       "  0.4160839160839161,\n",
       "  0.44947735191637633,\n",
       "  0.45833333333333337,\n",
       "  0.39862542955326463,\n",
       "  0.4280821917808219,\n",
       "  0.41836734693877553,\n",
       "  0.44932432432432434,\n",
       "  0.4280936454849498,\n",
       "  0.41,\n",
       "  0.2764900662251656,\n",
       "  0.3901639344262295,\n",
       "  0.4169381107491857,\n",
       "  0.39935064935064934,\n",
       "  0.40384615384615385,\n",
       "  0.6421725239616614,\n",
       "  0.5333333333333333,\n",
       "  0.4375,\n",
       "  0.39143730886850153,\n",
       "  0.5975609756097561,\n",
       "  0.45671641791044776,\n",
       "  0.45588235294117646,\n",
       "  0.4092219020172911,\n",
       "  0.4169054441260745,\n",
       "  0.6666666666666666,\n",
       "  0.41761363636363635,\n",
       "  0.42209631728045327,\n",
       "  0.4378531073446328,\n",
       "  0.43661971830985913,\n",
       "  0.4550561797752809,\n",
       "  0.4111111111111111,\n",
       "  0.39335180055401664,\n",
       "  0.42857142857142855,\n",
       "  0.4629156010230179,\n",
       "  0.43073047858942065,\n",
       "  0.40350877192982454,\n",
       "  0.20698254364089774,\n",
       "  0.4079601990049751,\n",
       "  0.431924882629108,\n",
       "  0.4013761467889908,\n",
       "  0.4192139737991266,\n",
       "  0.4693446088794926,\n",
       "  0.4254473161033797,\n",
       "  0.6594059405940594,\n",
       "  0.6327272727272727],\n",
       " 'sales_mean': [530898.7276633141,\n",
       "  541635.2529032258,\n",
       "  535346.3179583445,\n",
       "  542937.5626514364,\n",
       "  543253.2391770253,\n",
       "  538218.6710011899,\n",
       "  551883.2605652062,\n",
       "  547364.467652027,\n",
       "  545861.1943148436,\n",
       "  527767.5526989935,\n",
       "  548928.4918765974,\n",
       "  536805.0804232805,\n",
       "  547141.4156529517,\n",
       "  535371.2277645334,\n",
       "  543265.3267050912,\n",
       "  525816.4173545598,\n",
       "  537621.233441408,\n",
       "  545158.4895536561,\n",
       "  550497.7413745259,\n",
       "  548675.3125265392,\n",
       "  551700.0344864402,\n",
       "  533765.9183377897,\n",
       "  535139.0890217391,\n",
       "  537203.3591991342,\n",
       "  539333.4368900805,\n",
       "  546303.0170700087,\n",
       "  541880.5586611456,\n",
       "  552441.2191921497,\n",
       "  556111.3267154302,\n",
       "  530225.0048148149,\n",
       "  540429.0553967606,\n",
       "  530104.294370229,\n",
       "  557493.7201857283,\n",
       "  541892.2244870041,\n",
       "  534857.8265409718,\n",
       "  536961.7104969291,\n",
       "  536621.8322129236,\n",
       "  526365.1409588328,\n",
       "  546847.6466049383,\n",
       "  538441.0219047619,\n",
       "  547153.235443395,\n",
       "  548586.5986394559,\n",
       "  525257.1714440237,\n",
       "  536427.6158536585,\n",
       "  536515.5014202171,\n",
       "  550932.0037115588,\n",
       "  558099.4705290396,\n",
       "  551555.4770992367,\n",
       "  545475.5379008746,\n",
       "  538324.5139622642,\n",
       "  549571.1474639443,\n",
       "  530009.4843304844,\n",
       "  539536.6448720344,\n",
       "  537114.5925925926,\n",
       "  546610.0691699603,\n",
       "  525649.0537536443,\n",
       "  546452.4518613608,\n",
       "  545191.7720967102,\n",
       "  521092.9450994842,\n",
       "  548722.5305907173,\n",
       "  544438.9344262296,\n",
       "  542974.3383210261,\n",
       "  544195.5914786969,\n",
       "  533617.0832519531,\n",
       "  543910.3103950105,\n",
       "  560423.3778409091,\n",
       "  546859.3021927399,\n",
       "  563041.8497442454,\n",
       "  553319.4086956521,\n",
       "  518422.3501098901,\n",
       "  536840.1615450277,\n",
       "  532511.8578431373,\n",
       "  538220.3587623996,\n",
       "  555077.8881640262,\n",
       "  533580.7402564102,\n",
       "  548689.1898096304,\n",
       "  547049.6912736386,\n",
       "  531777.1911421912,\n",
       "  527784.1265822785,\n",
       "  537285.2858490567,\n",
       "  545045.1157698579,\n",
       "  535992.39052751,\n",
       "  517818.5683503244,\n",
       "  541812.7345559845,\n",
       "  536551.1187414501,\n",
       "  508925.0994832042,\n",
       "  541891.3625914316,\n",
       "  544531.0902777778,\n",
       "  568908.2808988764,\n",
       "  567876.9858237549,\n",
       "  523941.51443904935,\n",
       "  519923.7686335404,\n",
       "  554946.0834914611,\n",
       "  555164.2089361702,\n",
       "  525803.0979532163,\n",
       "  578150.0076013514,\n",
       "  563926.1363996828,\n",
       "  546093.795510204,\n",
       "  522104.0336700336,\n",
       "  496396.7052173912,\n",
       "  529796.8019801979,\n",
       "  553207.4538852578,\n",
       "  531597.751618123,\n",
       "  499064.5913461539,\n",
       "  532700.8070546738,\n",
       "  541690.1194968553,\n",
       "  541225.5805607477,\n",
       "  539683.663425926,\n",
       "  559474.979181369,\n",
       "  540205.8352941176,\n",
       "  546292.3926868045,\n",
       "  545981.4308035715,\n",
       "  541693.6602753195,\n",
       "  518572.50554016617,\n",
       "  549419.2839319472,\n",
       "  528671.2881773401,\n",
       "  546395.7426035504,\n",
       "  527072.7545903955,\n",
       "  537819.437394958,\n",
       "  548338.2777777778,\n",
       "  531970.146585472,\n",
       "  545853.5828300259,\n",
       "  550031.962219034,\n",
       "  522439.81154499145,\n",
       "  507623.7103999999,\n",
       "  542244.4952380953,\n",
       "  556441.2570303711,\n",
       "  514613.2541360294,\n",
       "  578602.8307493541,\n",
       "  567576.6967032967,\n",
       "  535126.9600359228,\n",
       "  539665.3845811051,\n",
       "  613759.9749373434,\n",
       "  518525.8219616204,\n",
       "  534768.8874074074,\n",
       "  527322.3862745098,\n",
       "  515897.49635036493,\n",
       "  547387.3849637681,\n",
       "  522063.3555155876,\n",
       "  580245.0928571429,\n",
       "  517617.9156028369,\n",
       "  509360.7761569417,\n",
       "  541543.2013986014,\n",
       "  565398.8171296297,\n",
       "  497908.28551724134,\n",
       "  528508.2850368809,\n",
       "  558520.1700680272,\n",
       "  523077.8141891892,\n",
       "  528269.2085699535,\n",
       "  521269.1103703703,\n",
       "  571110.6266556291,\n",
       "  545401.4664473685,\n",
       "  537645.1307189543,\n",
       "  510826.3729128015,\n",
       "  551782.6539589441,\n",
       "  545418.7585470085,\n",
       "  503439.2441613588,\n",
       "  545582.9525316455,\n",
       "  502011.4438454627,\n",
       "  567215.8787499999,\n",
       "  564622.3423913043,\n",
       "  542323.0802469136,\n",
       "  606233.1840490797,\n",
       "  507596.81402439036,\n",
       "  523590.5463203463,\n",
       "  563054.3373493976,\n",
       "  626539.1092814371,\n",
       "  564467.7455357143,\n",
       "  542055.5902366864,\n",
       "  518201.8105882353,\n",
       "  542418.6374269006,\n",
       "  586653.4682080925,\n",
       "  556021.4406130268,\n",
       "  520063.00163265306,\n",
       "  520216.3764204546,\n",
       "  555187.2907431552,\n",
       "  568850.9943820224,\n",
       "  522091.50093109865,\n",
       "  555433.6638888889,\n",
       "  608594.9171270719,\n",
       "  527445.3076923076,\n",
       "  553039.8114754098,\n",
       "  575484.977173913,\n",
       "  529040.1243243243,\n",
       "  528836.0537634409,\n",
       "  439209.9679144385,\n",
       "  517457.6941489362,\n",
       "  531679.4179894181,\n",
       "  557733.8964912281,\n",
       "  464173.04973821994,\n",
       "  562931.8311011904,\n",
       "  596577.4058721934,\n",
       "  573851.5618556701,\n",
       "  520110.0871794872,\n",
       "  574319.8282312927,\n",
       "  509855.68890500366,\n",
       "  589499.7727272728,\n",
       "  573017.1440536013,\n",
       "  514758.12166666676,\n",
       "  453834.80099502485,\n",
       "  514330.4294554455,\n",
       "  512384.97454844,\n",
       "  480113.92156862747,\n",
       "  580893.2130081301,\n",
       "  568700.6432038834,\n",
       "  522343.1618357488,\n",
       "  543321.7131410256,\n",
       "  546514.7607655502,\n",
       "  543959.8285714285,\n",
       "  594115.7962085308,\n",
       "  579973.0141509434,\n",
       "  620289.5508607199,\n",
       "  549288.1098130841,\n",
       "  550154.7376744186,\n",
       "  529664.2259259259,\n",
       "  549934.10906298,\n",
       "  576556.1055045872,\n",
       "  564701.097412481,\n",
       "  523314.11363636365,\n",
       "  539814.6411411412,\n",
       "  524809.8863976083,\n",
       "  530088.3683035714,\n",
       "  572001.4466666667,\n",
       "  511454.51622418873,\n",
       "  519273.6850220264,\n",
       "  549284.5208333333,\n",
       "  551378.1601164484,\n",
       "  495413.1913043478,\n",
       "  506905.6233766234,\n",
       "  503869.1724137931,\n",
       "  584000.8412017168,\n",
       "  542485.8957446809,\n",
       "  605708.9025423729,\n",
       "  503435.52109704644,\n",
       "  538638.7549019608,\n",
       "  516352.97510373447,\n",
       "  494071.04115226335,\n",
       "  541322.9918032787,\n",
       "  584859.3897959184,\n",
       "  520329.0596205962,\n",
       "  512061.76248313085,\n",
       "  581272.2338709678,\n",
       "  522618.588,\n",
       "  516731.87250996014,\n",
       "  528827.2358366271,\n",
       "  553354.657480315,\n",
       "  520630.52156862745,\n",
       "  545528.0622568093,\n",
       "  568026.4263565892,\n",
       "  525256.0134615385,\n",
       "  448034.632183908,\n",
       "  526268.6221374046,\n",
       "  616977.1553030303,\n",
       "  536448.7150943396,\n",
       "  529857.8007518797,\n",
       "  562638.9063670412,\n",
       "  574622.395522388,\n",
       "  469552.3037037037,\n",
       "  570105.1605166052,\n",
       "  469603.98534798535,\n",
       "  509680.74452554743,\n",
       "  489959.70652173914,\n",
       "  566817.7,\n",
       "  554265.9608540925,\n",
       "  559439.6413427561,\n",
       "  482592.3661971831,\n",
       "  471885.18245614035,\n",
       "  529047.7517482517,\n",
       "  578289.1358885018,\n",
       "  529369.7795138889,\n",
       "  517541.29209621996,\n",
       "  543097.1301369863,\n",
       "  560250.8571428572,\n",
       "  483438.24324324325,\n",
       "  534607.7391304348,\n",
       "  573036.0333333333,\n",
       "  501730.5894039735,\n",
       "  476631.8262295082,\n",
       "  604798.8143322476,\n",
       "  591692.7402597403,\n",
       "  537074.3365384615,\n",
       "  521226.5750798722,\n",
       "  578041.9825396826,\n",
       "  617609.1796875,\n",
       "  535172.7018348624,\n",
       "  570417.4573170731,\n",
       "  538920.7731343283,\n",
       "  493600.9029411765,\n",
       "  485590.98847262247,\n",
       "  531376.1518624641,\n",
       "  608652.5384615385,\n",
       "  483991.7556818182,\n",
       "  520162.04249291786,\n",
       "  534775.3305084746,\n",
       "  530581.9690140845,\n",
       "  604653.0140449438,\n",
       "  611916.3638888889,\n",
       "  510149.86703601107,\n",
       "  655963.9788359788,\n",
       "  550847.2455242967,\n",
       "  539695.2342569269,\n",
       "  531340.8320802005,\n",
       "  526162.1945137157,\n",
       "  513702.39800995024,\n",
       "  583670.6877934273,\n",
       "  452910.72247706424,\n",
       "  507760.4934497817,\n",
       "  504508.7653276956,\n",
       "  500515.1491053678,\n",
       "  580137.6138613861,\n",
       "  573512.4527272728],\n",
       " 'repurchase_period': [NaT,\n",
       "  Timedelta('439 days 04:13:04.873732712'),\n",
       "  Timedelta('296 days 02:48:52.086618392'),\n",
       "  Timedelta('226 days 10:58:37.755970924'),\n",
       "  Timedelta('176 days 02:23:27.515859408'),\n",
       "  Timedelta('151 days 07:55:40.936257010'),\n",
       "  Timedelta('128 days 00:22:44.668380722'),\n",
       "  Timedelta('114 days 09:06:47.606853282'),\n",
       "  Timedelta('105 days 06:32:51.901730172'),\n",
       "  Timedelta('98 days 05:44:10.364542035'),\n",
       "  Timedelta('87 days 15:48:32.117369478'),\n",
       "  Timedelta('82 days 01:49:23.983357384'),\n",
       "  Timedelta('75 days 15:31:56.006007751'),\n",
       "  Timedelta('67 days 21:53:26.904117705'),\n",
       "  Timedelta('66 days 17:52:07.741148620'),\n",
       "  Timedelta('65 days 07:19:26.841404612'),\n",
       "  Timedelta('60 days 05:39:57.126476377'),\n",
       "  Timedelta('57 days 03:27:51.327702363'),\n",
       "  Timedelta('53 days 23:05:39.926381566'),\n",
       "  Timedelta('50 days 06:59:27.132975752'),\n",
       "  Timedelta('49 days 18:56:14.954932735'),\n",
       "  Timedelta('48 days 01:21:58.040966386'),\n",
       "  Timedelta('45 days 10:55:15.362727272'),\n",
       "  Timedelta('44 days 01:22:33.128289102'),\n",
       "  Timedelta('43 days 01:04:22.461907953'),\n",
       "  Timedelta('40 days 17:41:58.586853932'),\n",
       "  Timedelta('40 days 13:38:24.096870520'),\n",
       "  Timedelta('40 days 20:35:54.816116436'),\n",
       "  Timedelta('38 days 16:16:38.383116883'),\n",
       "  Timedelta('37 days 01:00:48.235632184'),\n",
       "  Timedelta('37 days 10:17:03.208438818'),\n",
       "  Timedelta('34 days 12:13:36.979931051'),\n",
       "  Timedelta('34 days 00:39:28.922379032'),\n",
       "  Timedelta('30 days 23:02:12.421846370'),\n",
       "  Timedelta('32 days 19:36:25.843236787'),\n",
       "  Timedelta('33 days 01:55:43.638190955'),\n",
       "  Timedelta('32 days 17:16:03.935561195'),\n",
       "  Timedelta('32 days 07:11:27.809874230'),\n",
       "  Timedelta('30 days 02:25:43.308601364'),\n",
       "  Timedelta('29 days 22:09:16.524297924'),\n",
       "  Timedelta('31 days 06:57:43.032947977'),\n",
       "  Timedelta('27 days 16:48:17.963608207'),\n",
       "  Timedelta('29 days 10:02:44.530038759'),\n",
       "  Timedelta('27 days 21:22:22.115570051'),\n",
       "  Timedelta('27 days 20:39:02.542549555'),\n",
       "  Timedelta('25 days 11:22:56.112375790'),\n",
       "  Timedelta('24 days 10:58:40.169653348'),\n",
       "  Timedelta('23 days 14:55:08.089491635'),\n",
       "  Timedelta('25 days 10:45:53.627976190'),\n",
       "  Timedelta('26 days 08:51:50.439353099'),\n",
       "  Timedelta('24 days 03:48:30.445785124'),\n",
       "  Timedelta('23 days 19:20:20.443899782'),\n",
       "  Timedelta('25 days 10:26:06.293412033'),\n",
       "  Timedelta('22 days 12:13:34.822102425'),\n",
       "  Timedelta('22 days 01:31:13.527375200'),\n",
       "  Timedelta('23 days 15:24:03.946567718'),\n",
       "  Timedelta('23 days 13:58:58.707534843'),\n",
       "  Timedelta('20 days 20:55:12.667069973'),\n",
       "  Timedelta('20 days 23:09:31.237443778'),\n",
       "  Timedelta('20 days 08:06:48.096760351'),\n",
       "  Timedelta('20 days 21:50:50.021747967'),\n",
       "  Timedelta('21 days 09:26:37.926723286'),\n",
       "  Timedelta('20 days 22:39:10.744057724'),\n",
       "  Timedelta('20 days 19:41:57.792410714'),\n",
       "  Timedelta('19 days 19:18:21.142736486'),\n",
       "  Timedelta('20 days 10:41:35.601682692'),\n",
       "  Timedelta('20 days 07:36:11.601945379'),\n",
       "  Timedelta('18 days 23:08:23.002163097'),\n",
       "  Timedelta('19 days 16:34:52.200490196'),\n",
       "  Timedelta('20 days 05:21:07.823634336'),\n",
       "  Timedelta('18 days 15:05:48.185064934'),\n",
       "  Timedelta('18 days 08:59:37.304681027'),\n",
       "  Timedelta('19 days 02:37:41.343869731'),\n",
       "  Timedelta('18 days 06:46:34.921114784'),\n",
       "  Timedelta('16 days 04:47:00.221413721'),\n",
       "  Timedelta('16 days 14:59:26.825531914'),\n",
       "  Timedelta('18 days 23:18:53.825946444'),\n",
       "  Timedelta('17 days 17:15:32.856158992'),\n",
       "  Timedelta('17 days 21:01:33.036789297'),\n",
       "  Timedelta('17 days 02:25:32.531645569'),\n",
       "  Timedelta('17 days 08:44:13.932311320'),\n",
       "  Timedelta('15 days 23:37:31.097904105'),\n",
       "  Timedelta('16 days 23:13:07.267354596'),\n",
       "  Timedelta('17 days 03:23:31.317811787'),\n",
       "  Timedelta('15 days 19:06:22.806478404'),\n",
       "  Timedelta('17 days 06:47:02.151960784'),\n",
       "  Timedelta('15 days 01:14:18.980972515'),\n",
       "  Timedelta('16 days 14:08:25.020114942'),\n",
       "  Timedelta('14 days 12:06:55.543361244'),\n",
       "  Timedelta('14 days 10:04:38.301820999'),\n",
       "  Timedelta('15 days 00:07:58.390697674'),\n",
       "  Timedelta('16 days 04:06:36.589220303'),\n",
       "  Timedelta('13 days 08:36:28.049232736'),\n",
       "  Timedelta('15 days 05:55:55.022365591'),\n",
       "  Timedelta('14 days 20:47:37.853723404'),\n",
       "  Timedelta('14 days 19:35:46.009388335'),\n",
       "  Timedelta('13 days 17:38:52.593749999'),\n",
       "  Timedelta('13 days 22:11:18.806597937'),\n",
       "  Timedelta('14 days 06:19:10.849584277'),\n",
       "  Timedelta('13 days 14:44:02.056214316'),\n",
       "  Timedelta('12 days 20:59:43.338260869'),\n",
       "  Timedelta('15 days 01:54:04.887788778'),\n",
       "  Timedelta('14 days 20:06:24.358251633'),\n",
       "  Timedelta('12 days 18:06:40.136893203'),\n",
       "  Timedelta('12 days 22:20:59.131054130'),\n",
       "  Timedelta('13 days 22:39:07.189898989'),\n",
       "  Timedelta('12 days 00:06:43.173962263'),\n",
       "  Timedelta('12 days 16:54:13.452336448'),\n",
       "  Timedelta('14 days 18:34:25.283475783'),\n",
       "  Timedelta('13 days 02:55:49.679168915'),\n",
       "  Timedelta('11 days 12:49:20.702139037'),\n",
       "  Timedelta('13 days 13:36:40.546171170'),\n",
       "  Timedelta('12 days 14:46:53.455357142'),\n",
       "  Timedelta('13 days 06:27:50.753609687'),\n",
       "  Timedelta('13 days 01:10:56.332951944'),\n",
       "  Timedelta('12 days 00:05:08.072670806'),\n",
       "  Timedelta('11 days 20:24:19.127652519'),\n",
       "  Timedelta('12 days 19:05:55.254273503'),\n",
       "  Timedelta('11 days 13:17:41.030932202'),\n",
       "  Timedelta('14 days 00:04:41.476190476'),\n",
       "  Timedelta('13 days 14:00:23.422807017'),\n",
       "  Timedelta('12 days 03:52:49.555458894'),\n",
       "  Timedelta('13 days 07:10:15.281581484'),\n",
       "  Timedelta('12 days 08:55:09.777920410'),\n",
       "  Timedelta('12 days 21:41:20.150806450'),\n",
       "  Timedelta('12 days 16:06:30.656533333'),\n",
       "  Timedelta('13 days 12:05:16.592403627'),\n",
       "  Timedelta('10 days 09:58:17.300602130'),\n",
       "  Timedelta('12 days 20:06:23.005859375'),\n",
       "  Timedelta('11 days 17:16:55.575858249'),\n",
       "  Timedelta('11 days 14:11:47.350226243'),\n",
       "  Timedelta('12 days 04:21:04.299057027'),\n",
       "  Timedelta('10 days 21:22:37.989057238'),\n",
       "  Timedelta('11 days 03:30:53.962943071'),\n",
       "  Timedelta('10 days 00:05:07.405970148'),\n",
       "  Timedelta('11 days 01:41:42.023209876'),\n",
       "  Timedelta('12 days 16:54:03.105882352'),\n",
       "  Timedelta('9 days 18:06:01.623175181'),\n",
       "  Timedelta('11 days 18:04:27.634661835'),\n",
       "  Timedelta('9 days 00:06:09.644398766'),\n",
       "  Timedelta('11 days 12:04:47.297142856'),\n",
       "  Timedelta('10 days 12:04:56.633738601'),\n",
       "  Timedelta('11 days 04:55:14.281690140'),\n",
       "  Timedelta('10 days 02:04:45.111305361'),\n",
       "  Timedelta('11 days 04:53:26.877083332'),\n",
       "  Timedelta('10 days 07:27:47.032891246'),\n",
       "  Timedelta('11 days 00:03:50.858219177'),\n",
       "  Timedelta('11 days 00:05:36.376417233'),\n",
       "  Timedelta('8 days 22:14:04.127858627'),\n",
       "  Timedelta('10 days 16:04:29.727815062'),\n",
       "  Timedelta('10 days 12:05:27.737499999'),\n",
       "  Timedelta('8 days 12:06:06.070198675'),\n",
       "  Timedelta('11 days 00:03:42.203947368'),\n",
       "  Timedelta('11 days 03:28:49.056956115'),\n",
       "  Timedelta('9 days 17:33:15.183589137'),\n",
       "  Timedelta('10 days 00:04:28.986021504'),\n",
       "  Timedelta('10 days 21:24:58.536324786'),\n",
       "  Timedelta('9 days 18:04:15.998407642'),\n",
       "  Timedelta('10 days 17:12:19.228752260'),\n",
       "  Timedelta('9 days 04:49:59.288050314'),\n",
       "  Timedelta('11 days 00:03:49.332031250'),\n",
       "  Timedelta('9 days 21:05:23.041925465'),\n",
       "  Timedelta('10 days 12:07:30.854938271'),\n",
       "  Timedelta('10 days 04:05:47.967280163'),\n",
       "  Timedelta('9 days 06:56:43.876306619'),\n",
       "  Timedelta('8 days 00:03:44.727272727'),\n",
       "  Timedelta('10 days 00:05:38.058734939'),\n",
       "  Timedelta('9 days 18:02:17.553892214'),\n",
       "  Timedelta('11 days 06:01:40.117559523'),\n",
       "  Timedelta('7 days 04:51:12.468639053'),\n",
       "  Timedelta('11 days 16:06:02.223529411'),\n",
       "  Timedelta('6 days 00:02:11.034883720'),\n",
       "  Timedelta('5 days 20:04:57.782273602'),\n",
       "  Timedelta('8 days 03:28:56.036124794'),\n",
       "  Timedelta('8 days 12:07:01.462857142'),\n",
       "  Timedelta('8 days 18:31:52.493444055'),\n",
       "  Timedelta('8 days 03:02:26.696327683'),\n",
       "  Timedelta('10 days 08:03:12.226591760'),\n",
       "  Timedelta('8 days 12:04:54.127094971'),\n",
       "  Timedelta('12 days 00:04:31.005555555'),\n",
       "  Timedelta('9 days 08:04:15.268416205'),\n",
       "  Timedelta('10 days 00:04:17.090659340'),\n",
       "  Timedelta('7 days 14:27:49.777049179'),\n",
       "  Timedelta('10 days 00:05:26.483695652'),\n",
       "  Timedelta('7 days 12:04:53.678378378'),\n",
       "  Timedelta('10 days 00:07:46.763440860'),\n",
       "  Timedelta('8 days 00:05:31.807486630'),\n",
       "  Timedelta('7 days 09:39:49.585106382'),\n",
       "  Timedelta('8 days 00:02:50.234567900'),\n",
       "  Timedelta('10 days 12:02:48.921052631'),\n",
       "  Timedelta('9 days 06:54:31.154824233'),\n",
       "  Timedelta('8 days 08:04:43.866319444'),\n",
       "  Timedelta('10 days 00:01:37.362694300'),\n",
       "  Timedelta('9 days 19:14:39.648453607'),\n",
       "  Timedelta('8 days 16:02:15.900854700'),\n",
       "  Timedelta('7 days 17:12:09.743440232'),\n",
       "  Timedelta('9 days 00:04:01.620981387'),\n",
       "  Timedelta('8 days 00:03:53.528619528'),\n",
       "  Timedelta('8 days 00:04:08.113902847'),\n",
       "  Timedelta('7 days 12:03:46.142500'),\n",
       "  Timedelta('7 days 06:01:49.899253731'),\n",
       "  Timedelta('9 days 08:04:33.523927392'),\n",
       "  Timedelta('7 days 00:05:53.763546797'),\n",
       "  Timedelta('8 days 16:04:50.145424836'),\n",
       "  Timedelta('9 days 00:05:07.499999999'),\n",
       "  Timedelta('9 days 00:02:16.578883494'),\n",
       "  Timedelta('7 days 08:04:00.499194846'),\n",
       "  Timedelta('8 days 12:04:48.199519230'),\n",
       "  Timedelta('8 days 00:04:32.111642743'),\n",
       "  Timedelta('6 days 00:08:02.576190476'),\n",
       "  Timedelta('8 days 00:02:40.995260663'),\n",
       "  Timedelta('8 days 00:02:16.537735848'),\n",
       "  Timedelta('7 days 00:04:05.138497652'),\n",
       "  Timedelta('7 days 00:03:34.781308411'),\n",
       "  Timedelta('7 days 04:52:19.091162790'),\n",
       "  Timedelta('9 days 08:01:15.793209876'),\n",
       "  Timedelta('8 days 12:02:33.145161289'),\n",
       "  Timedelta('8 days 00:03:58.816513761'),\n",
       "  Timedelta('8 days 23:59:28.694063927'),\n",
       "  Timedelta('8 days 08:02:30.496229260'),\n",
       "  Timedelta('7 days 08:04:19.066066065'),\n",
       "  Timedelta('8 days 00:03:03.887892376'),\n",
       "  Timedelta('7 days 12:04:14.093749999'),\n",
       "  Timedelta('6 days 16:04:55.549629629'),\n",
       "  Timedelta('8 days 12:04:00.882743362'),\n",
       "  Timedelta('8 days 06:03:40.321585902'),\n",
       "  Timedelta('8 days 16:03:29.027777777'),\n",
       "  Timedelta('6 days 00:03:48.569868995'),\n",
       "  Timedelta('8 days 00:04:37.456521739'),\n",
       "  Timedelta('5 days 00:04:06.727272727'),\n",
       "  Timedelta('7 days 16:04:03.804597700'),\n",
       "  Timedelta('8 days 00:02:12.012820512'),\n",
       "  Timedelta('8 days 00:05:30.178723404'),\n",
       "  Timedelta('7 days 12:02:32.728813558'),\n",
       "  Timedelta('5 days 16:04:13.049226441'),\n",
       "  Timedelta('8 days 00:01:21.995833333'),\n",
       "  Timedelta('8 days 00:04:05.495867768'),\n",
       "  Timedelta('5 days 00:03:15.744855967'),\n",
       "  Timedelta('7 days 00:03:02.264344261'),\n",
       "  Timedelta('6 days 16:02:14.297959183'),\n",
       "  Timedelta('8 days 16:04:06.800813007'),\n",
       "  Timedelta('8 days 00:03:10.174089068'),\n",
       "  Timedelta('8 days 00:03:48.497991967'),\n",
       "  Timedelta('8 days 00:03:58.688000'),\n",
       "  Timedelta('5 days 08:02:25.211640211'),\n",
       "  Timedelta('7 days 00:04:58.573122529'),\n",
       "  Timedelta('7 days 00:00:53.342519685'),\n",
       "  Timedelta('8 days 00:02:46.582031250'),\n",
       "  Timedelta('8 days 00:05:36.447470817'),\n",
       "  Timedelta('8 days 00:04:19.594594594'),\n",
       "  Timedelta('8 days 00:02:43.815384615'),\n",
       "  Timedelta('7 days 00:00:48.030651341'),\n",
       "  Timedelta('7 days 00:02:49.771863117'),\n",
       "  Timedelta('7 days 12:01:18.833333333'),\n",
       "  Timedelta('8 days 00:06:19.890566037'),\n",
       "  Timedelta('8 days 00:02:44.537593985'),\n",
       "  Timedelta('7 days 00:03:14.031210986'),\n",
       "  Timedelta('5 days 00:03:28.382899628'),\n",
       "  Timedelta('6 days 12:03:16.288888888'),\n",
       "  Timedelta('8 days 00:01:29.058823529'),\n",
       "  Timedelta('5 days 12:02:08.917582417'),\n",
       "  Timedelta('4 days 00:02:55.058181818'),\n",
       "  Timedelta('6 days 00:00:35.419354838'),\n",
       "  Timedelta('6 days 00:00:28.553571428'),\n",
       "  Timedelta('7 days 00:04:03.136524822'),\n",
       "  Timedelta('5 days 00:00:00.943462897'),\n",
       "  Timedelta('3 days 00:01:35.140845070'),\n",
       "  Timedelta('6 days 00:02:55.357894736'),\n",
       "  Timedelta('7 days 00:03:02.891608391'),\n",
       "  Timedelta('7 days 00:04:21.205574912'),\n",
       "  Timedelta('6 days 23:59:44.413793103'),\n",
       "  Timedelta('5 days 00:05:06.584192439'),\n",
       "  Timedelta('6 days 00:02:21.569965870'),\n",
       "  Timedelta('5 days 00:02:25.752542372'),\n",
       "  Timedelta('6 days 12:02:56.577181208'),\n",
       "  Timedelta('6 days 00:02:08.913043478'),\n",
       "  Timedelta('4 days 12:01:36.913621262'),\n",
       "  Timedelta('7 days 00:01:24.828947368'),\n",
       "  Timedelta('7 days 00:02:45.232026143'),\n",
       "  Timedelta('7 days 00:04:33.921824104'),\n",
       "  Timedelta('4 days 00:04:27.096463022'),\n",
       "  Timedelta('6 days 00:01:23.820512820'),\n",
       "  Timedelta('5 days 12:01:37.875796177'),\n",
       "  Timedelta('5 days 12:02:32.984326018'),\n",
       "  Timedelta('6 days 00:02:29.294478527'),\n",
       "  Timedelta('4 days 00:01:17.308868501'),\n",
       "  Timedelta('6 days 00:02:45.284431137'),\n",
       "  Timedelta('6 days 00:01:19.560471976'),\n",
       "  Timedelta('6 days 00:02:55.838150289'),\n",
       "  Timedelta('5 days 00:03:07.308908045'),\n",
       "  Timedelta('4 days 00:01:02.245714285'),\n",
       "  Timedelta('4 days 00:00:07.547008547'),\n",
       "  Timedelta('5 days 00:00:25.610795454'),\n",
       "  Timedelta('6 days 00:03:49.147308781'),\n",
       "  Timedelta('6 days 00:02:46.909604519'),\n",
       "  Timedelta('5 days 00:00:16.518309859'),\n",
       "  Timedelta('4 days 00:00:06.111420612'),\n",
       "  Timedelta('4 days 00:00:58.630555555'),\n",
       "  Timedelta('5 days 00:00:54.002652519'),\n",
       "  Timedelta('5 days 00:02:43.261538461'),\n",
       "  Timedelta('4 days 23:59:57.580808080'),\n",
       "  Timedelta('5 days 00:01:38.804020100'),\n",
       "  Timedelta('2 days 00:00:07.325000'),\n",
       "  Timedelta('4 days 00:01:38.596009975'),\n",
       "  Timedelta('4 days 00:01:51.296470588'),\n",
       "  Timedelta('4 days 00:02:49.737931034'),\n",
       "  Timedelta('4 days 00:00:27.606126914'),\n",
       "  Timedelta('4 days 00:02:50.536016949'),\n",
       "  Timedelta('4 days 00:00:39.689243027'),\n",
       "  Timedelta('4 days 00:00:23.513888888'),\n",
       "  Timedelta('4 days 00:01:15.755919854')]}"
      ]
     },
     "execution_count": 56,
     "metadata": {},
     "output_type": "execute_result"
    }
   ],
   "source": [
    "# 구매횟수별 평균 정보\n",
    "purchase_info_dict = {'num':[], 'gender_F':[], 'age_now':[], 'with_promo':[], 'sales_mean':[], 'repurchase_period':[]}\n",
    "\n",
    "for i in range(1, 551):\n",
    "    try:\n",
    "        customer_purchase_num_i = purchase_cnt[purchase_cnt == i].index\n",
    "        group_purchase_num_i = merge_data[merge_data['customer_id'].isin(customer_purchase_num_i)].groupby('customer_id')\n",
    "        if len(group_purchase_num_i) == 0:\n",
    "            continue\n",
    "        \n",
    "        # 구매횟수 \n",
    "        purchase_info_dict['num'].append(i)\n",
    "        # 성비(여성 비율)\n",
    "        if merge_data[merge_data['customer_id'].isin(customer_purchase_num_i)].gender.str.contains('F').any():\n",
    "            purchase_info_dict['gender_F'].append(group_purchase_num_i.gender.unique().apply(lambda x: x[0]).value_counts(normalize=True)['F'])\n",
    "        else:\n",
    "            purchase_info_dict['gender_F'].append(0)\n",
    "        # 평균 나이\n",
    "        purchase_info_dict['age_now'].append(group_purchase_num_i.age_now.unique().apply(lambda x: x[0]).mean())\n",
    "        # 프로모션을 이용한 구매 비율\n",
    "        purchase_info_dict['with_promo'].append(group_purchase_num_i.with_promo.value_counts(normalize=True).loc[:, 1].sum() / len(group_purchase_num_i))\n",
    "        # 구매 건당 평균 지출액\n",
    "        purchase_info_dict['sales_mean'].append(group_purchase_num_i.sales.mean().mean())\n",
    "        # 평균 재구매기간\n",
    "        purchase_info_dict['repurchase_period'].append(group_purchase_num_i.difference.mean().mean())\n",
    "    except:\n",
    "        continue\n",
    "purchase_info_dict"
   ]
  },
  {
   "cell_type": "code",
   "execution_count": 57,
   "metadata": {},
   "outputs": [
    {
     "data": {
      "text/html": [
       "<div>\n",
       "<style scoped>\n",
       "    .dataframe tbody tr th:only-of-type {\n",
       "        vertical-align: middle;\n",
       "    }\n",
       "\n",
       "    .dataframe tbody tr th {\n",
       "        vertical-align: top;\n",
       "    }\n",
       "\n",
       "    .dataframe thead th {\n",
       "        text-align: right;\n",
       "    }\n",
       "</style>\n",
       "<table border=\"1\" class=\"dataframe\">\n",
       "  <thead>\n",
       "    <tr style=\"text-align: right;\">\n",
       "      <th></th>\n",
       "      <th>gender_F</th>\n",
       "      <th>age_now</th>\n",
       "      <th>with_promo</th>\n",
       "      <th>sales_mean</th>\n",
       "      <th>repurchase_period</th>\n",
       "    </tr>\n",
       "    <tr>\n",
       "      <th>num</th>\n",
       "      <th></th>\n",
       "      <th></th>\n",
       "      <th></th>\n",
       "      <th></th>\n",
       "      <th></th>\n",
       "    </tr>\n",
       "  </thead>\n",
       "  <tbody>\n",
       "    <tr>\n",
       "      <th>1</th>\n",
       "      <td>0.638317</td>\n",
       "      <td>26.497022</td>\n",
       "      <td>0.354653</td>\n",
       "      <td>530898.727663</td>\n",
       "      <td>NaT</td>\n",
       "    </tr>\n",
       "    <tr>\n",
       "      <th>2</th>\n",
       "      <td>0.647373</td>\n",
       "      <td>26.593364</td>\n",
       "      <td>0.349862</td>\n",
       "      <td>541635.252903</td>\n",
       "      <td>439 days 04:13:04.873732712</td>\n",
       "    </tr>\n",
       "    <tr>\n",
       "      <th>3</th>\n",
       "      <td>0.643336</td>\n",
       "      <td>26.702333</td>\n",
       "      <td>0.355323</td>\n",
       "      <td>535346.317958</td>\n",
       "      <td>296 days 02:48:52.086618392</td>\n",
       "    </tr>\n",
       "    <tr>\n",
       "      <th>4</th>\n",
       "      <td>0.644168</td>\n",
       "      <td>26.570093</td>\n",
       "      <td>0.354448</td>\n",
       "      <td>542937.562651</td>\n",
       "      <td>226 days 10:58:37.755970924</td>\n",
       "    </tr>\n",
       "    <tr>\n",
       "      <th>5</th>\n",
       "      <td>0.641234</td>\n",
       "      <td>26.501500</td>\n",
       "      <td>0.351565</td>\n",
       "      <td>543253.239177</td>\n",
       "      <td>176 days 02:23:27.515859408</td>\n",
       "    </tr>\n",
       "  </tbody>\n",
       "</table>\n",
       "</div>"
      ],
      "text/plain": [
       "     gender_F    age_now  with_promo     sales_mean  \\\n",
       "num                                                   \n",
       "1    0.638317  26.497022    0.354653  530898.727663   \n",
       "2    0.647373  26.593364    0.349862  541635.252903   \n",
       "3    0.643336  26.702333    0.355323  535346.317958   \n",
       "4    0.644168  26.570093    0.354448  542937.562651   \n",
       "5    0.641234  26.501500    0.351565  543253.239177   \n",
       "\n",
       "              repurchase_period  \n",
       "num                              \n",
       "1                           NaT  \n",
       "2   439 days 04:13:04.873732712  \n",
       "3   296 days 02:48:52.086618392  \n",
       "4   226 days 10:58:37.755970924  \n",
       "5   176 days 02:23:27.515859408  "
      ]
     },
     "execution_count": 57,
     "metadata": {},
     "output_type": "execute_result"
    }
   ],
   "source": [
    "# purchase_info_dict -> dataframe으로 변환\n",
    "purchase_info = pd.DataFrame(purchase_info_dict)\n",
    "purchase_info.index = purchase_info.num\n",
    "purchase_info.drop('num', axis = 1, inplace=True)\n",
    "purchase_info.head()"
   ]
  },
  {
   "cell_type": "code",
   "execution_count": 58,
   "metadata": {},
   "outputs": [
    {
     "data": {
      "text/plain": [
       "gender_F                  0.638317\n",
       "age_now                  26.497022\n",
       "with_promo                0.354653\n",
       "sales_mean           530898.727663\n",
       "repurchase_period              NaT\n",
       "Name: 1, dtype: object"
      ]
     },
     "execution_count": 58,
     "metadata": {},
     "output_type": "execute_result"
    }
   ],
   "source": [
    "# 1번 그룹(한번만 구매한 고객)\n",
    "purchase_g1 = purchase_info.loc[1, :]\n",
    "purchase_g1"
   ]
  },
  {
   "cell_type": "code",
   "execution_count": 59,
   "metadata": {},
   "outputs": [
    {
     "data": {
      "text/plain": [
       "gender_F                                0.643524\n",
       "age_now                                26.544646\n",
       "with_promo                              0.352714\n",
       "sales_mean                         540278.208738\n",
       "repurchase_period    257 days 20:03:56.633687688\n",
       "dtype: object"
      ]
     },
     "execution_count": 59,
     "metadata": {},
     "output_type": "execute_result"
    }
   ],
   "source": [
    "# 2번 그룹(2~6번 구매한 고객)\n",
    "purchase_g2 = purchase_info.loc[2:6, :]\n",
    "purchase_g2.mean()"
   ]
  },
  {
   "cell_type": "code",
   "execution_count": 60,
   "metadata": {},
   "outputs": [
    {
     "data": {
      "text/plain": [
       "gender_F                               0.640643\n",
       "age_now                                26.60947\n",
       "with_promo                             0.355014\n",
       "sales_mean                        541082.013167\n",
       "repurchase_period    84 days 01:15:46.382424209\n",
       "dtype: object"
      ]
     },
     "execution_count": 60,
     "metadata": {},
     "output_type": "execute_result"
    }
   ],
   "source": [
    "# 3번 그룹(7~18번 구매한 고객)\n",
    "purchase_g3 = purchase_info.loc[7:18, :]\n",
    "purchase_g3.mean()"
   ]
  },
  {
   "cell_type": "code",
   "execution_count": 61,
   "metadata": {},
   "outputs": [
    {
     "data": {
      "text/plain": [
       "gender_F                                0.63647\n",
       "age_now                               25.958594\n",
       "with_promo                             0.416138\n",
       "sales_mean                        540289.142928\n",
       "repurchase_period    13 days 01:32:08.199123690\n",
       "dtype: object"
      ]
     },
     "execution_count": 61,
     "metadata": {},
     "output_type": "execute_result"
    }
   ],
   "source": [
    "# 4번 그룹(19~550번 구매한 고객)\n",
    "purchase_g4 = purchase_info.loc[19:, :]\n",
    "purchase_g4.mean()"
   ]
  },
  {
   "cell_type": "code",
   "execution_count": 62,
   "metadata": {},
   "outputs": [
    {
     "data": {
      "text/html": [
       "<div>\n",
       "<style scoped>\n",
       "    .dataframe tbody tr th:only-of-type {\n",
       "        vertical-align: middle;\n",
       "    }\n",
       "\n",
       "    .dataframe tbody tr th {\n",
       "        vertical-align: top;\n",
       "    }\n",
       "\n",
       "    .dataframe thead th {\n",
       "        text-align: right;\n",
       "    }\n",
       "</style>\n",
       "<table border=\"1\" class=\"dataframe\">\n",
       "  <thead>\n",
       "    <tr style=\"text-align: right;\">\n",
       "      <th></th>\n",
       "      <th>gender_F</th>\n",
       "      <th>age_now</th>\n",
       "      <th>with_promo</th>\n",
       "      <th>sales_mean</th>\n",
       "      <th>group</th>\n",
       "    </tr>\n",
       "  </thead>\n",
       "  <tbody>\n",
       "    <tr>\n",
       "      <th>0</th>\n",
       "      <td>0.638317</td>\n",
       "      <td>26.497022</td>\n",
       "      <td>0.354653</td>\n",
       "      <td>530898.727663</td>\n",
       "      <td>group_1</td>\n",
       "    </tr>\n",
       "    <tr>\n",
       "      <th>1</th>\n",
       "      <td>0.643524</td>\n",
       "      <td>26.544646</td>\n",
       "      <td>0.352714</td>\n",
       "      <td>540278.208738</td>\n",
       "      <td>group_2</td>\n",
       "    </tr>\n",
       "    <tr>\n",
       "      <th>2</th>\n",
       "      <td>0.640643</td>\n",
       "      <td>26.609470</td>\n",
       "      <td>0.355014</td>\n",
       "      <td>541082.013167</td>\n",
       "      <td>group_3</td>\n",
       "    </tr>\n",
       "    <tr>\n",
       "      <th>3</th>\n",
       "      <td>0.636470</td>\n",
       "      <td>25.958594</td>\n",
       "      <td>0.416138</td>\n",
       "      <td>540289.142928</td>\n",
       "      <td>group_4</td>\n",
       "    </tr>\n",
       "  </tbody>\n",
       "</table>\n",
       "</div>"
      ],
      "text/plain": [
       "   gender_F    age_now  with_promo     sales_mean    group\n",
       "0  0.638317  26.497022    0.354653  530898.727663  group_1\n",
       "1  0.643524  26.544646    0.352714  540278.208738  group_2\n",
       "2  0.640643  26.609470    0.355014  541082.013167  group_3\n",
       "3  0.636470  25.958594    0.416138  540289.142928  group_4"
      ]
     },
     "execution_count": 62,
     "metadata": {},
     "output_type": "execute_result"
    }
   ],
   "source": [
    "# 그룹별 평균 정보 통합 Dataframe\n",
    "groups = [purchase_g1, purchase_g2, purchase_g3, purchase_g4]\n",
    "groups_info_dict = {'gender_F':[], 'age_now':[], 'with_promo':[], 'sales_mean':[]}\n",
    "\n",
    "for group in groups:\n",
    "    for key in groups_info_dict.keys():\n",
    "        groups_info_dict[key].append(group[key].mean())\n",
    "\n",
    "groups_info = pd.DataFrame(groups_info_dict)\n",
    "groups_info['group'] = np.array([f'group_{i}' for i in range(1, 5)])\n",
    "groups_info"
   ]
  },
  {
   "cell_type": "code",
   "execution_count": 63,
   "metadata": {},
   "outputs": [
    {
     "data": {
      "text/plain": [
       "(0.2, 0.5)"
      ]
     },
     "execution_count": 63,
     "metadata": {},
     "output_type": "execute_result"
    },
    {
     "data": {
      "image/png": "[encoded data removed]",
      "text/plain": [
       "<Figure size 640x480 with 1 Axes>"
      ]
     },
     "metadata": {},
     "output_type": "display_data"
    }
   ],
   "source": [
    "# 분석 결과가 거의 의미가 없음, 구매횟수가 제일 많은 그룹에서 프로모션 이용률만 약간 증가\n",
    "sns.barplot(groups_info, x='group', y='with_promo')\n",
    "plt.ylim(0.2, 0.5)"
   ]
  },
  {
   "cell_type": "code",
   "execution_count": 64,
   "metadata": {},
   "outputs": [],
   "source": [
    "# click_stream_new.head()\n",
    "#     - session_id, event_name, event_time, product_id, search_keywords, promo_code\n",
    "# transaction_new\n",
    "# - customer_id, session_id, booking_id, promo_code, "
   ]
  },
  {
   "cell_type": "code",
   "execution_count": 65,
   "metadata": {},
   "outputs": [
    {
     "data": {
      "text/plain": [
       "0       2019-07-21\n",
       "1       2017-07-16\n",
       "2       2020-08-23\n",
       "3       2021-10-03\n",
       "4       2021-04-11\n",
       "           ...    \n",
       "99994   2020-10-17\n",
       "99995   2017-11-25\n",
       "99996   2018-09-01\n",
       "99997   2020-05-31\n",
       "99998   2021-07-17\n",
       "Name: first_join_date, Length: 99999, dtype: datetime64[ns]"
      ]
     },
     "execution_count": 65,
     "metadata": {},
     "output_type": "execute_result"
    }
   ],
   "source": [
    "customer.first_join_date"
   ]
  }
 ],
 "metadata": {
  "kernelspec": {
   "display_name": "t2project",
   "language": "python",
   "name": "python3"
  },
  "language_info": {
   "codemirror_mode": {
    "name": "ipython",
    "version": 3
   },
   "file_extension": ".py",
   "mimetype": "text/x-python",
   "name": "python",
   "nbconvert_exporter": "python",
   "pygments_lexer": "ipython3",
   "version": "3.8.16"
  },
  "orig_nbformat": 4
 },
 "nbformat": 4,
 "nbformat_minor": 2
}
