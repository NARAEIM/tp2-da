{
  "cells": [
    {
      "cell_type": "markdown",
      "metadata": {
        "id": "view-in-github",
        "colab_type": "text"
      },
      "source": [
        "<a href=\"https://colab.research.google.com/github/NARAEIM/tp2-da/blob/imnarae/tp2_da_imnarae.ipynb\" target=\"_parent\"><img src=\"https://colab.research.google.com/assets/colab-badge.svg\" alt=\"Open In Colab\"/></a>"
      ]
    },
    {
      "cell_type": "code",
      "execution_count": 96,
      "metadata": {
        "id": "HHXYb7FvRodf"
      },
      "outputs": [],
      "source": [
        "import pandas as pd\n",
        "import numpy as np\n",
        "import seaborn as sns\n",
        "import matplotlib.pyplot as plt\n",
        "import datetime\n",
        "import warnings\n",
        "warnings.filterwarnings(action='ignore')\n"
      ]
    },
    {
      "cell_type": "code",
      "source": [
        "from google.colab import drive\n",
        "drive.mount('/content/drive')"
      ],
      "metadata": {
        "colab": {
          "base_uri": "https://localhost:8080/"
        },
        "id": "p0--WwPu3_6a",
        "outputId": "af349388-0ed6-41aa-88c2-dfde2559f6bf"
      },
      "execution_count": 97,
      "outputs": [
        {
          "output_type": "stream",
          "name": "stdout",
          "text": [
            "Drive already mounted at /content/drive; to attempt to forcibly remount, call drive.mount(\"/content/drive\", force_remount=True).\n"
          ]
        }
      ]
    },
    {
      "cell_type": "markdown",
      "metadata": {
        "id": "u8PGdz5IHb7Y"
      },
      "source": [
        "# click_stream_df"
      ]
    },
    {
      "cell_type": "markdown",
      "source": [
        "**<click_stream_new 컬럼안내><p>**\n",
        "session_id: 세션 아이디 <br>\n",
        "event_name: 사건의 이름<br>\n",
        "event_time: 사건이 일어난 시간<br>\n",
        "event_id: 사건 아이디<br>\n",
        "traffic_source: 접속 방법<br>\n",
        "product_id: 물건 아이디<br>\n",
        "quantitiy: 물건 개수<br>\n",
        "item_price: 물건 가격<br>\n",
        "payment_status: 결제 상태<br>\n",
        "search_keywords: 검색 키워드<br>\n",
        "promo_code: 프로모션 코드<br>\n",
        "promo_amount: 프로모션을 통한 할인 가격"
      ],
      "metadata": {
        "id": "4pWGoum5id6U"
      }
    },
    {
      "cell_type": "code",
      "execution_count": 98,
      "metadata": {
        "id": "mhjC-djVSs06",
        "colab": {
          "base_uri": "https://localhost:8080/",
          "height": 530
        },
        "outputId": "3cd1d772-3b0c-467b-cd35-abd28ba6e56d"
      },
      "outputs": [
        {
          "output_type": "execute_result",
          "data": {
            "text/plain": [
              "                                                                                                                                                                                                                                                                                                                                                                                                                                                                                                                                   session_id  \\\n",
              "0               fb0abf9e-fd1a-44dd-b5c0-2834d5a4b81c                                                                                                                                                                                                                                                                                                                                                                                                                                                                                            \n",
              "1               fb0abf9e-fd1a-44dd-b5c0-2834d5a4b81c                                                                                                                                                                                                                                                                                                                                                                                                                                                                                            \n",
              "2               7d440441-e67a-4d36-b324-80ffd636d166                                                                                                                                                                                                                                                                                                                                                                                                                                                                                            \n",
              "3               7d440441-e67a-4d36-b324-80ffd636d166                                                                                                                                                                                                                                                                                                                                                                                                                                                                                            \n",
              "4               7d440441-e67a-4d36-b324-80ffd636d166                                                                                                                                                                                                                                                                                                                                                                                                                                                                                            \n",
              "\n",
              "    event_name                   event_time  \\\n",
              "0     HOMEPAGE  2019-09-06T15:54:32.821085Z   \n",
              "1       SCROLL  2019-09-06T16:03:57.821085Z   \n",
              "2     HOMEPAGE  2019-09-01T12:05:10.322763Z   \n",
              "3  ADD_TO_CART  2019-09-01T12:06:33.322763Z   \n",
              "4      BOOKING  2019-09-01T12:15:29.425431Z   \n",
              "\n",
              "                               event_id traffic_source  product_id  quantity  \\\n",
              "0  9c4388c4-c95b-4678-b5ca-e9cbc0734109         MOBILE         NaN       NaN   \n",
              "1  4690e1f5-3f99-42d3-84a5-22c4c4d8500a         MOBILE         NaN       NaN   \n",
              "2  88aeaeb5-ec98-4859-852c-8abb483faf31         MOBILE         NaN       NaN   \n",
              "3  934e306e-ecc6-472f-9ccb-12c8536910a2         MOBILE    15315.00      4.00   \n",
              "4  9f4767a1-40fa-4c9c-9524-dfad18634d56         MOBILE         NaN       NaN   \n",
              "\n",
              "   item_price payment_status search_keywords promo_code  promo_amount  \n",
              "0         NaN            NaN             NaN        NaN           NaN  \n",
              "1         NaN            NaN             NaN        NaN           NaN  \n",
              "2         NaN            NaN             NaN        NaN           NaN  \n",
              "3   313529.00            NaN             NaN        NaN           NaN  \n",
              "4         NaN        Success             NaN        NaN           NaN  "
            ],
            "text/html": [
              "\n",
              "  <div id=\"df-fc47e6d1-f625-493f-9ab3-c82ee9a04aec\">\n",
              "    <div class=\"colab-df-container\">\n",
              "      <div>\n",
              "<style scoped>\n",
              "    .dataframe tbody tr th:only-of-type {\n",
              "        vertical-align: middle;\n",
              "    }\n",
              "\n",
              "    .dataframe tbody tr th {\n",
              "        vertical-align: top;\n",
              "    }\n",
              "\n",
              "    .dataframe thead th {\n",
              "        text-align: right;\n",
              "    }\n",
              "</style>\n",
              "<table border=\"1\" class=\"dataframe\">\n",
              "  <thead>\n",
              "    <tr style=\"text-align: right;\">\n",
              "      <th></th>\n",
              "      <th>session_id</th>\n",
              "      <th>event_name</th>\n",
              "      <th>event_time</th>\n",
              "      <th>event_id</th>\n",
              "      <th>traffic_source</th>\n",
              "      <th>product_id</th>\n",
              "      <th>quantity</th>\n",
              "      <th>item_price</th>\n",
              "      <th>payment_status</th>\n",
              "      <th>search_keywords</th>\n",
              "      <th>promo_code</th>\n",
              "      <th>promo_amount</th>\n",
              "    </tr>\n",
              "  </thead>\n",
              "  <tbody>\n",
              "    <tr>\n",
              "      <th>0</th>\n",
              "      <td>fb0abf9e-fd1a-44dd-b5c0-2834d5a4b81c</td>\n",
              "      <td>HOMEPAGE</td>\n",
              "      <td>2019-09-06T15:54:32.821085Z</td>\n",
              "      <td>9c4388c4-c95b-4678-b5ca-e9cbc0734109</td>\n",
              "      <td>MOBILE</td>\n",
              "      <td>NaN</td>\n",
              "      <td>NaN</td>\n",
              "      <td>NaN</td>\n",
              "      <td>NaN</td>\n",
              "      <td>NaN</td>\n",
              "      <td>NaN</td>\n",
              "      <td>NaN</td>\n",
              "    </tr>\n",
              "    <tr>\n",
              "      <th>1</th>\n",
              "      <td>fb0abf9e-fd1a-44dd-b5c0-2834d5a4b81c</td>\n",
              "      <td>SCROLL</td>\n",
              "      <td>2019-09-06T16:03:57.821085Z</td>\n",
              "      <td>4690e1f5-3f99-42d3-84a5-22c4c4d8500a</td>\n",
              "      <td>MOBILE</td>\n",
              "      <td>NaN</td>\n",
              "      <td>NaN</td>\n",
              "      <td>NaN</td>\n",
              "      <td>NaN</td>\n",
              "      <td>NaN</td>\n",
              "      <td>NaN</td>\n",
              "      <td>NaN</td>\n",
              "    </tr>\n",
              "    <tr>\n",
              "      <th>2</th>\n",
              "      <td>7d440441-e67a-4d36-b324-80ffd636d166</td>\n",
              "      <td>HOMEPAGE</td>\n",
              "      <td>2019-09-01T12:05:10.322763Z</td>\n",
              "      <td>88aeaeb5-ec98-4859-852c-8abb483faf31</td>\n",
              "      <td>MOBILE</td>\n",
              "      <td>NaN</td>\n",
              "      <td>NaN</td>\n",
              "      <td>NaN</td>\n",
              "      <td>NaN</td>\n",
              "      <td>NaN</td>\n",
              "      <td>NaN</td>\n",
              "      <td>NaN</td>\n",
              "    </tr>\n",
              "    <tr>\n",
              "      <th>3</th>\n",
              "      <td>7d440441-e67a-4d36-b324-80ffd636d166</td>\n",
              "      <td>ADD_TO_CART</td>\n",
              "      <td>2019-09-01T12:06:33.322763Z</td>\n",
              "      <td>934e306e-ecc6-472f-9ccb-12c8536910a2</td>\n",
              "      <td>MOBILE</td>\n",
              "      <td>15315.00</td>\n",
              "      <td>4.00</td>\n",
              "      <td>313529.00</td>\n",
              "      <td>NaN</td>\n",
              "      <td>NaN</td>\n",
              "      <td>NaN</td>\n",
              "      <td>NaN</td>\n",
              "    </tr>\n",
              "    <tr>\n",
              "      <th>4</th>\n",
              "      <td>7d440441-e67a-4d36-b324-80ffd636d166</td>\n",
              "      <td>BOOKING</td>\n",
              "      <td>2019-09-01T12:15:29.425431Z</td>\n",
              "      <td>9f4767a1-40fa-4c9c-9524-dfad18634d56</td>\n",
              "      <td>MOBILE</td>\n",
              "      <td>NaN</td>\n",
              "      <td>NaN</td>\n",
              "      <td>NaN</td>\n",
              "      <td>Success</td>\n",
              "      <td>NaN</td>\n",
              "      <td>NaN</td>\n",
              "      <td>NaN</td>\n",
              "    </tr>\n",
              "  </tbody>\n",
              "</table>\n",
              "</div>\n",
              "      <button class=\"colab-df-convert\" onclick=\"convertToInteractive('df-fc47e6d1-f625-493f-9ab3-c82ee9a04aec')\"\n",
              "              title=\"Convert this dataframe to an interactive table.\"\n",
              "              style=\"display:none;\">\n",
              "        \n",
              "  <svg xmlns=\"http://www.w3.org/2000/svg\" height=\"24px\"viewBox=\"0 0 24 24\"\n",
              "       width=\"24px\">\n",
              "    <path d=\"M0 0h24v24H0V0z\" fill=\"none\"/>\n",
              "    <path d=\"M18.56 5.44l.94 2.06.94-2.06 2.06-.94-2.06-.94-.94-2.06-.94 2.06-2.06.94zm-11 1L8.5 8.5l.94-2.06 2.06-.94-2.06-.94L8.5 2.5l-.94 2.06-2.06.94zm10 10l.94 2.06.94-2.06 2.06-.94-2.06-.94-.94-2.06-.94 2.06-2.06.94z\"/><path d=\"M17.41 7.96l-1.37-1.37c-.4-.4-.92-.59-1.43-.59-.52 0-1.04.2-1.43.59L10.3 9.45l-7.72 7.72c-.78.78-.78 2.05 0 2.83L4 21.41c.39.39.9.59 1.41.59.51 0 1.02-.2 1.41-.59l7.78-7.78 2.81-2.81c.8-.78.8-2.07 0-2.86zM5.41 20L4 18.59l7.72-7.72 1.47 1.35L5.41 20z\"/>\n",
              "  </svg>\n",
              "      </button>\n",
              "      \n",
              "  <style>\n",
              "    .colab-df-container {\n",
              "      display:flex;\n",
              "      flex-wrap:wrap;\n",
              "      gap: 12px;\n",
              "    }\n",
              "\n",
              "    .colab-df-convert {\n",
              "      background-color: #E8F0FE;\n",
              "      border: none;\n",
              "      border-radius: 50%;\n",
              "      cursor: pointer;\n",
              "      display: none;\n",
              "      fill: #1967D2;\n",
              "      height: 32px;\n",
              "      padding: 0 0 0 0;\n",
              "      width: 32px;\n",
              "    }\n",
              "\n",
              "    .colab-df-convert:hover {\n",
              "      background-color: #E2EBFA;\n",
              "      box-shadow: 0px 1px 2px rgba(60, 64, 67, 0.3), 0px 1px 3px 1px rgba(60, 64, 67, 0.15);\n",
              "      fill: #174EA6;\n",
              "    }\n",
              "\n",
              "    [theme=dark] .colab-df-convert {\n",
              "      background-color: #3B4455;\n",
              "      fill: #D2E3FC;\n",
              "    }\n",
              "\n",
              "    [theme=dark] .colab-df-convert:hover {\n",
              "      background-color: #434B5C;\n",
              "      box-shadow: 0px 1px 3px 1px rgba(0, 0, 0, 0.15);\n",
              "      filter: drop-shadow(0px 1px 2px rgba(0, 0, 0, 0.3));\n",
              "      fill: #FFFFFF;\n",
              "    }\n",
              "  </style>\n",
              "\n",
              "      <script>\n",
              "        const buttonEl =\n",
              "          document.querySelector('#df-fc47e6d1-f625-493f-9ab3-c82ee9a04aec button.colab-df-convert');\n",
              "        buttonEl.style.display =\n",
              "          google.colab.kernel.accessAllowed ? 'block' : 'none';\n",
              "\n",
              "        async function convertToInteractive(key) {\n",
              "          const element = document.querySelector('#df-fc47e6d1-f625-493f-9ab3-c82ee9a04aec');\n",
              "          const dataTable =\n",
              "            await google.colab.kernel.invokeFunction('convertToInteractive',\n",
              "                                                     [key], {});\n",
              "          if (!dataTable) return;\n",
              "\n",
              "          const docLinkHtml = 'Like what you see? Visit the ' +\n",
              "            '<a target=\"_blank\" href=https://colab.research.google.com/notebooks/data_table.ipynb>data table notebook</a>'\n",
              "            + ' to learn more about interactive tables.';\n",
              "          element.innerHTML = '';\n",
              "          dataTable['output_type'] = 'display_data';\n",
              "          await google.colab.output.renderOutput(dataTable, element);\n",
              "          const docLink = document.createElement('div');\n",
              "          docLink.innerHTML = docLinkHtml;\n",
              "          element.appendChild(docLink);\n",
              "        }\n",
              "      </script>\n",
              "    </div>\n",
              "  </div>\n",
              "  "
            ]
          },
          "metadata": {},
          "execution_count": 98
        }
      ],
      "source": [
        "click_df = pd.read_csv('/content/drive/MyDrive/Colab/tp2/click_stream_new.csv')\n",
        "click_df.head()"
      ]
    },
    {
      "cell_type": "code",
      "execution_count": 99,
      "metadata": {
        "id": "MBgBzqzPz_dU",
        "colab": {
          "base_uri": "https://localhost:8080/"
        },
        "outputId": "334678d6-0742-4ff9-cfd6-c83893ceb0d4"
      },
      "outputs": [
        {
          "output_type": "execute_result",
          "data": {
            "text/plain": [
              "Index(['                                                                                                                                                                                                                                                                                                                                                                                                                                                                                                                                 session_id',\n",
              "       'event_name', 'event_time', 'event_id', 'traffic_source', 'product_id',\n",
              "       'quantity', 'item_price', 'payment_status', 'search_keywords',\n",
              "       'promo_code', 'promo_amount'],\n",
              "      dtype='object')"
            ]
          },
          "metadata": {},
          "execution_count": 99
        }
      ],
      "source": [
        "click_df.columns\n"
      ]
    },
    {
      "cell_type": "code",
      "source": [
        "#컬럼명 공백제거\n",
        "click_df.columns = click_df.columns.str.strip()\n"
      ],
      "metadata": {
        "id": "eqj18gghCGDg"
      },
      "execution_count": 100,
      "outputs": []
    },
    {
      "cell_type": "code",
      "execution_count": 101,
      "metadata": {
        "id": "T1FT509IT02a",
        "colab": {
          "base_uri": "https://localhost:8080/"
        },
        "outputId": "ac633de8-88c6-42a6-a996-7aa13c6b6438"
      },
      "outputs": [
        {
          "output_type": "execute_result",
          "data": {
            "text/plain": [
              "array(['HOMEPAGE', 'SCROLL', 'ADD_TO_CART', 'BOOKING', 'SEARCH',\n",
              "       'ITEM_DETAIL', 'ADD_PROMO', 'CLICK', 'PROMO_PAGE', nan],\n",
              "      dtype=object)"
            ]
          },
          "metadata": {},
          "execution_count": 101
        }
      ],
      "source": [
        "click_df['event_name'].unique()"
      ]
    },
    {
      "cell_type": "code",
      "source": [
        "click_df['promo_code'].value_counts()\n"
      ],
      "metadata": {
        "id": "N-1O91zSbKTS",
        "colab": {
          "base_uri": "https://localhost:8080/"
        },
        "outputId": "742a2db6-ad17-4f97-f013-b9a4004ea44a"
      },
      "execution_count": 102,
      "outputs": [
        {
          "output_type": "execute_result",
          "data": {
            "text/plain": [
              "AZ2022           5269\n",
              "WEEKENDSERU      4001\n",
              "BUYMORE          3860\n",
              "XX2022           2560\n",
              "WEEKENDMANTAP    1296\n",
              "LIBURDONG        1294\n",
              "STARTUP           690\n",
              "SC2022            678\n",
              "Name: promo_code, dtype: int64"
            ]
          },
          "metadata": {},
          "execution_count": 102
        }
      ]
    },
    {
      "cell_type": "code",
      "source": [
        "click_df['promo_code'].isna().sum()"
      ],
      "metadata": {
        "id": "xrXfHgnEbS5N",
        "colab": {
          "base_uri": "https://localhost:8080/"
        },
        "outputId": "5e3ed8ec-5669-4f9a-ce92-bf4e390eb689"
      },
      "execution_count": 103,
      "outputs": [
        {
          "output_type": "execute_result",
          "data": {
            "text/plain": [
              "725940"
            ]
          },
          "metadata": {},
          "execution_count": 103
        }
      ]
    },
    {
      "cell_type": "code",
      "source": [],
      "metadata": {
        "id": "vDGlc0-nbYAt"
      },
      "execution_count": 103,
      "outputs": []
    },
    {
      "cell_type": "markdown",
      "metadata": {
        "id": "z19kSQ4GH4Fs"
      },
      "source": [
        "# customer_df"
      ]
    },
    {
      "cell_type": "markdown",
      "source": [
        "**<customer 컬럼 안내><p>**\n",
        "customer_id: 고객 아이디 <br>\n",
        "first_name: 이름<br>\n",
        "last_name: 성<br>\n",
        "username: 유저 이름<br>\n",
        "email: 이메일<br>\n",
        "gender: 성별<br>\n",
        "birthdate: 생일<br>\n",
        "device_type: 기기 종류<br>\n",
        "device_id: 장치 아이디<br>\n",
        "device_version: 디바이스 버전<br>\n",
        "home_location_lat: 집 위도<br>\n",
        "home_location_long: 집 경도<br>\n",
        "home_location: 집 위치<br>\n",
        "home_country: 나라<br>\n",
        "first_join_date: 처음 가입한 날짜\n"
      ],
      "metadata": {
        "id": "3umRoJ2MiwVJ"
      }
    },
    {
      "cell_type": "code",
      "execution_count": 104,
      "metadata": {
        "id": "qz902VSoS5sm",
        "colab": {
          "base_uri": "https://localhost:8080/",
          "height": 530
        },
        "outputId": "65f4885e-71c7-40ee-beb4-b938483dfb7f"
      },
      "outputs": [
        {
          "output_type": "execute_result",
          "data": {
            "text/plain": [
              "   customer_id first_name    last_name                              username  \\\n",
              "0         2870       Lala      Maryati  671a0865-ac4e-4dc4-9c4f-c286a1176f7e   \n",
              "1         8193   Maimunah   Laksmiwati  83be2ba7-8133-48a4-bbcb-b46a2762473f   \n",
              "2         7279    Bakiman  Simanjuntak  3250e5a3-1d23-4675-a647-3281879d42be   \n",
              "3        88813    Cahyadi    Maheswara  df797edf-b465-4a80-973b-9fbb612260c2   \n",
              "4        82542    Irnanto       Wijaya  36ab08e1-03de-42a8-9e3b-59528c798824   \n",
              "\n",
              "                                               email gender   birthdate  \\\n",
              "0  671a0865_ac4e_4dc4_9c4f_c286a1176f7e@startupca...      F  1996-06-14   \n",
              "1  83be2ba7_8133_48a4_bbcb_b46a2762473f@zakyfound...      F  1993-08-16   \n",
              "2  3250e5a3_1d23_4675_a647_3281879d42be@startupca...      M  1989-01-23   \n",
              "3  df797edf_b465_4a80_973b_9fbb612260c2@zakyfound...      M  1991-01-05   \n",
              "4  36ab08e1_03de_42a8_9e3b_59528c798824@startupca...      M  2000-07-15   \n",
              "\n",
              "  device_type                             device_id  \\\n",
              "0         iOS  c9c0de76-0a6c-4ac2-843f-65264ab9fe63   \n",
              "1     Android  fb331c3d-f42e-40fe-afe2-b4b73a8a6e25   \n",
              "2         iOS  d13dde0a-6ae1-43c3-83a7-11bbb922730b   \n",
              "3         iOS  f4c18515-c5be-419f-8142-f037be47c9cd   \n",
              "4         iOS  e46e4c36-4630-4736-8fcf-663db29ca3b0   \n",
              "\n",
              "                               device_version  home_location_lat  \\\n",
              "0  iPhone; CPU iPhone OS 14_2_1 like Mac OS X              -1.04   \n",
              "1                               Android 2.2.1              -6.21   \n",
              "2       iPad; CPU iPad OS 4_2_1 like Mac OS X              -8.63   \n",
              "3        iPad; CPU iPad OS 14_2 like Mac OS X               1.30   \n",
              "4  iPhone; CPU iPhone OS 10_3_3 like Mac OS X              -2.98   \n",
              "\n",
              "   home_location_long        home_location home_country first_join_date  \n",
              "0              101.36       Sumatera Barat    Indonesia      2019-07-21  \n",
              "1              106.82         Jakarta Raya    Indonesia      2017-07-16  \n",
              "2              116.43  Nusa Tenggara Barat    Indonesia      2020-08-23  \n",
              "3              115.77     Kalimantan Timur    Indonesia      2021-10-03  \n",
              "4              114.92   Kalimantan Selatan    Indonesia      2021-04-11  "
            ],
            "text/html": [
              "\n",
              "  <div id=\"df-8db665ba-0cd6-46e4-bab1-cb2a1b3df44a\">\n",
              "    <div class=\"colab-df-container\">\n",
              "      <div>\n",
              "<style scoped>\n",
              "    .dataframe tbody tr th:only-of-type {\n",
              "        vertical-align: middle;\n",
              "    }\n",
              "\n",
              "    .dataframe tbody tr th {\n",
              "        vertical-align: top;\n",
              "    }\n",
              "\n",
              "    .dataframe thead th {\n",
              "        text-align: right;\n",
              "    }\n",
              "</style>\n",
              "<table border=\"1\" class=\"dataframe\">\n",
              "  <thead>\n",
              "    <tr style=\"text-align: right;\">\n",
              "      <th></th>\n",
              "      <th>customer_id</th>\n",
              "      <th>first_name</th>\n",
              "      <th>last_name</th>\n",
              "      <th>username</th>\n",
              "      <th>email</th>\n",
              "      <th>gender</th>\n",
              "      <th>birthdate</th>\n",
              "      <th>device_type</th>\n",
              "      <th>device_id</th>\n",
              "      <th>device_version</th>\n",
              "      <th>home_location_lat</th>\n",
              "      <th>home_location_long</th>\n",
              "      <th>home_location</th>\n",
              "      <th>home_country</th>\n",
              "      <th>first_join_date</th>\n",
              "    </tr>\n",
              "  </thead>\n",
              "  <tbody>\n",
              "    <tr>\n",
              "      <th>0</th>\n",
              "      <td>2870</td>\n",
              "      <td>Lala</td>\n",
              "      <td>Maryati</td>\n",
              "      <td>671a0865-ac4e-4dc4-9c4f-c286a1176f7e</td>\n",
              "      <td>671a0865_ac4e_4dc4_9c4f_c286a1176f7e@startupca...</td>\n",
              "      <td>F</td>\n",
              "      <td>1996-06-14</td>\n",
              "      <td>iOS</td>\n",
              "      <td>c9c0de76-0a6c-4ac2-843f-65264ab9fe63</td>\n",
              "      <td>iPhone; CPU iPhone OS 14_2_1 like Mac OS X</td>\n",
              "      <td>-1.04</td>\n",
              "      <td>101.36</td>\n",
              "      <td>Sumatera Barat</td>\n",
              "      <td>Indonesia</td>\n",
              "      <td>2019-07-21</td>\n",
              "    </tr>\n",
              "    <tr>\n",
              "      <th>1</th>\n",
              "      <td>8193</td>\n",
              "      <td>Maimunah</td>\n",
              "      <td>Laksmiwati</td>\n",
              "      <td>83be2ba7-8133-48a4-bbcb-b46a2762473f</td>\n",
              "      <td>83be2ba7_8133_48a4_bbcb_b46a2762473f@zakyfound...</td>\n",
              "      <td>F</td>\n",
              "      <td>1993-08-16</td>\n",
              "      <td>Android</td>\n",
              "      <td>fb331c3d-f42e-40fe-afe2-b4b73a8a6e25</td>\n",
              "      <td>Android 2.2.1</td>\n",
              "      <td>-6.21</td>\n",
              "      <td>106.82</td>\n",
              "      <td>Jakarta Raya</td>\n",
              "      <td>Indonesia</td>\n",
              "      <td>2017-07-16</td>\n",
              "    </tr>\n",
              "    <tr>\n",
              "      <th>2</th>\n",
              "      <td>7279</td>\n",
              "      <td>Bakiman</td>\n",
              "      <td>Simanjuntak</td>\n",
              "      <td>3250e5a3-1d23-4675-a647-3281879d42be</td>\n",
              "      <td>3250e5a3_1d23_4675_a647_3281879d42be@startupca...</td>\n",
              "      <td>M</td>\n",
              "      <td>1989-01-23</td>\n",
              "      <td>iOS</td>\n",
              "      <td>d13dde0a-6ae1-43c3-83a7-11bbb922730b</td>\n",
              "      <td>iPad; CPU iPad OS 4_2_1 like Mac OS X</td>\n",
              "      <td>-8.63</td>\n",
              "      <td>116.43</td>\n",
              "      <td>Nusa Tenggara Barat</td>\n",
              "      <td>Indonesia</td>\n",
              "      <td>2020-08-23</td>\n",
              "    </tr>\n",
              "    <tr>\n",
              "      <th>3</th>\n",
              "      <td>88813</td>\n",
              "      <td>Cahyadi</td>\n",
              "      <td>Maheswara</td>\n",
              "      <td>df797edf-b465-4a80-973b-9fbb612260c2</td>\n",
              "      <td>df797edf_b465_4a80_973b_9fbb612260c2@zakyfound...</td>\n",
              "      <td>M</td>\n",
              "      <td>1991-01-05</td>\n",
              "      <td>iOS</td>\n",
              "      <td>f4c18515-c5be-419f-8142-f037be47c9cd</td>\n",
              "      <td>iPad; CPU iPad OS 14_2 like Mac OS X</td>\n",
              "      <td>1.30</td>\n",
              "      <td>115.77</td>\n",
              "      <td>Kalimantan Timur</td>\n",
              "      <td>Indonesia</td>\n",
              "      <td>2021-10-03</td>\n",
              "    </tr>\n",
              "    <tr>\n",
              "      <th>4</th>\n",
              "      <td>82542</td>\n",
              "      <td>Irnanto</td>\n",
              "      <td>Wijaya</td>\n",
              "      <td>36ab08e1-03de-42a8-9e3b-59528c798824</td>\n",
              "      <td>36ab08e1_03de_42a8_9e3b_59528c798824@startupca...</td>\n",
              "      <td>M</td>\n",
              "      <td>2000-07-15</td>\n",
              "      <td>iOS</td>\n",
              "      <td>e46e4c36-4630-4736-8fcf-663db29ca3b0</td>\n",
              "      <td>iPhone; CPU iPhone OS 10_3_3 like Mac OS X</td>\n",
              "      <td>-2.98</td>\n",
              "      <td>114.92</td>\n",
              "      <td>Kalimantan Selatan</td>\n",
              "      <td>Indonesia</td>\n",
              "      <td>2021-04-11</td>\n",
              "    </tr>\n",
              "  </tbody>\n",
              "</table>\n",
              "</div>\n",
              "      <button class=\"colab-df-convert\" onclick=\"convertToInteractive('df-8db665ba-0cd6-46e4-bab1-cb2a1b3df44a')\"\n",
              "              title=\"Convert this dataframe to an interactive table.\"\n",
              "              style=\"display:none;\">\n",
              "        \n",
              "  <svg xmlns=\"http://www.w3.org/2000/svg\" height=\"24px\"viewBox=\"0 0 24 24\"\n",
              "       width=\"24px\">\n",
              "    <path d=\"M0 0h24v24H0V0z\" fill=\"none\"/>\n",
              "    <path d=\"M18.56 5.44l.94 2.06.94-2.06 2.06-.94-2.06-.94-.94-2.06-.94 2.06-2.06.94zm-11 1L8.5 8.5l.94-2.06 2.06-.94-2.06-.94L8.5 2.5l-.94 2.06-2.06.94zm10 10l.94 2.06.94-2.06 2.06-.94-2.06-.94-.94-2.06-.94 2.06-2.06.94z\"/><path d=\"M17.41 7.96l-1.37-1.37c-.4-.4-.92-.59-1.43-.59-.52 0-1.04.2-1.43.59L10.3 9.45l-7.72 7.72c-.78.78-.78 2.05 0 2.83L4 21.41c.39.39.9.59 1.41.59.51 0 1.02-.2 1.41-.59l7.78-7.78 2.81-2.81c.8-.78.8-2.07 0-2.86zM5.41 20L4 18.59l7.72-7.72 1.47 1.35L5.41 20z\"/>\n",
              "  </svg>\n",
              "      </button>\n",
              "      \n",
              "  <style>\n",
              "    .colab-df-container {\n",
              "      display:flex;\n",
              "      flex-wrap:wrap;\n",
              "      gap: 12px;\n",
              "    }\n",
              "\n",
              "    .colab-df-convert {\n",
              "      background-color: #E8F0FE;\n",
              "      border: none;\n",
              "      border-radius: 50%;\n",
              "      cursor: pointer;\n",
              "      display: none;\n",
              "      fill: #1967D2;\n",
              "      height: 32px;\n",
              "      padding: 0 0 0 0;\n",
              "      width: 32px;\n",
              "    }\n",
              "\n",
              "    .colab-df-convert:hover {\n",
              "      background-color: #E2EBFA;\n",
              "      box-shadow: 0px 1px 2px rgba(60, 64, 67, 0.3), 0px 1px 3px 1px rgba(60, 64, 67, 0.15);\n",
              "      fill: #174EA6;\n",
              "    }\n",
              "\n",
              "    [theme=dark] .colab-df-convert {\n",
              "      background-color: #3B4455;\n",
              "      fill: #D2E3FC;\n",
              "    }\n",
              "\n",
              "    [theme=dark] .colab-df-convert:hover {\n",
              "      background-color: #434B5C;\n",
              "      box-shadow: 0px 1px 3px 1px rgba(0, 0, 0, 0.15);\n",
              "      filter: drop-shadow(0px 1px 2px rgba(0, 0, 0, 0.3));\n",
              "      fill: #FFFFFF;\n",
              "    }\n",
              "  </style>\n",
              "\n",
              "      <script>\n",
              "        const buttonEl =\n",
              "          document.querySelector('#df-8db665ba-0cd6-46e4-bab1-cb2a1b3df44a button.colab-df-convert');\n",
              "        buttonEl.style.display =\n",
              "          google.colab.kernel.accessAllowed ? 'block' : 'none';\n",
              "\n",
              "        async function convertToInteractive(key) {\n",
              "          const element = document.querySelector('#df-8db665ba-0cd6-46e4-bab1-cb2a1b3df44a');\n",
              "          const dataTable =\n",
              "            await google.colab.kernel.invokeFunction('convertToInteractive',\n",
              "                                                     [key], {});\n",
              "          if (!dataTable) return;\n",
              "\n",
              "          const docLinkHtml = 'Like what you see? Visit the ' +\n",
              "            '<a target=\"_blank\" href=https://colab.research.google.com/notebooks/data_table.ipynb>data table notebook</a>'\n",
              "            + ' to learn more about interactive tables.';\n",
              "          element.innerHTML = '';\n",
              "          dataTable['output_type'] = 'display_data';\n",
              "          await google.colab.output.renderOutput(dataTable, element);\n",
              "          const docLink = document.createElement('div');\n",
              "          docLink.innerHTML = docLinkHtml;\n",
              "          element.appendChild(docLink);\n",
              "        }\n",
              "      </script>\n",
              "    </div>\n",
              "  </div>\n",
              "  "
            ]
          },
          "metadata": {},
          "execution_count": 104
        }
      ],
      "source": [
        "customer_df = pd.read_csv('/content/drive/MyDrive/Colab/tp2/customer.csv')\n",
        "customer_df.head()"
      ]
    },
    {
      "cell_type": "code",
      "source": [
        "customer_df.info()"
      ],
      "metadata": {
        "id": "6lV9HANseHam",
        "colab": {
          "base_uri": "https://localhost:8080/"
        },
        "outputId": "9e9bdc61-738c-4a1c-d882-0ab092d7247c"
      },
      "execution_count": 105,
      "outputs": [
        {
          "output_type": "stream",
          "name": "stdout",
          "text": [
            "<class 'pandas.core.frame.DataFrame'>\n",
            "RangeIndex: 100000 entries, 0 to 99999\n",
            "Data columns (total 15 columns):\n",
            " #   Column              Non-Null Count   Dtype  \n",
            "---  ------              --------------   -----  \n",
            " 0   customer_id         100000 non-null  int64  \n",
            " 1   first_name          100000 non-null  object \n",
            " 2   last_name           100000 non-null  object \n",
            " 3   username            100000 non-null  object \n",
            " 4   email               100000 non-null  object \n",
            " 5   gender              100000 non-null  object \n",
            " 6   birthdate           100000 non-null  object \n",
            " 7   device_type         100000 non-null  object \n",
            " 8   device_id           100000 non-null  object \n",
            " 9   device_version      100000 non-null  object \n",
            " 10  home_location_lat   100000 non-null  float64\n",
            " 11  home_location_long  100000 non-null  float64\n",
            " 12  home_location       100000 non-null  object \n",
            " 13  home_country        100000 non-null  object \n",
            " 14  first_join_date     100000 non-null  object \n",
            "dtypes: float64(2), int64(1), object(12)\n",
            "memory usage: 11.4+ MB\n"
          ]
        }
      ]
    },
    {
      "cell_type": "code",
      "source": [
        "customer_df['customer_id'].nunique()"
      ],
      "metadata": {
        "id": "5ty84zSuvEHb",
        "colab": {
          "base_uri": "https://localhost:8080/"
        },
        "outputId": "5e50db1f-d4ee-4c66-92d5-bb42924ef517"
      },
      "execution_count": 106,
      "outputs": [
        {
          "output_type": "execute_result",
          "data": {
            "text/plain": [
              "100000"
            ]
          },
          "metadata": {},
          "execution_count": 106
        }
      ]
    },
    {
      "cell_type": "markdown",
      "metadata": {
        "id": "jyD8XmdbH-03"
      },
      "source": [
        "#transaction_df"
      ]
    },
    {
      "cell_type": "markdown",
      "metadata": {
        "id": "rlWDZAc8LFpT"
      },
      "source": [
        "**< transaction_df 컬럼 안내 >**<p>\n",
        "created_at: 거래 발생 시간<br>\n",
        "customer_id: 주문고객의 고유 식별자<br>\n",
        "booking_id: 각 주문에 할당된 고유 식별자(한 고객이 여러 상품을 주문한 경우에도 각 주문은 별도의 booking_id를 가짐)<br>\n",
        "session_id: 고객의 웹사이트 방문 세션(여러 주문이 같은 세션에서 발생했다면,  고객이 한 번의 웹사이트 방문 중에 여러 상품을 구매한 것)<br>\n",
        "payment_method: 고객의 결제방법 (신용카드,  PayPal 등)<br>\n",
        "payment_status: 결제 상태<br>\n",
        "promo_amount: 주문에서 사용된 프로모션 또는 할인액<br>\n",
        "promo_code: 사용한 프로모션 코드<br>\n",
        "shipment_fee: 배송비<br>\n",
        "shipment_date_limit: 상품이 배송되어야 하는 최종 날짜<br>\n",
        "shipment_location_lat, shipment_location_long: 배송지의 위도와 경도<br>\n",
        "total_amount: 주문 총 금액<br>\n",
        "product_id: 주문된 제품의 고유 식별자<br>\n",
        "quantity: 주문된 제품 수량<br>\n",
        "item_price: 각 개별 제품 가격"
      ]
    },
    {
      "cell_type": "code",
      "execution_count": 107,
      "metadata": {
        "id": "x1yAkoYLTFBN",
        "colab": {
          "base_uri": "https://localhost:8080/",
          "height": 363
        },
        "outputId": "72658700-979c-46a9-a826-2538bcb1ae4f"
      },
      "outputs": [
        {
          "output_type": "execute_result",
          "data": {
            "text/plain": [
              "                    created_at  customer_id  \\\n",
              "0  2018-07-29T15:22:01.458193Z         5868   \n",
              "1  2018-07-30T12:40:22.365620Z         4774   \n",
              "2  2018-09-15T11:51:17.365620Z         4774   \n",
              "\n",
              "                             booking_id                            session_id  \\\n",
              "0  186e2bee-0637-4710-8981-50c2d737bc42  3abaa6ce-e320-4e51-9469-d9f3fa328e86   \n",
              "1  caadb57b-e808-4f94-9e96-8a7d4c9898db  2ee5ead1-f13e-4759-92df-7ff48475e970   \n",
              "2  6000fffb-9c1a-4f4a-9296-bc8f6b622b50  93325fb6-eb00-4268-bb0e-6471795a0ad0   \n",
              "\n",
              "  payment_method payment_status  promo_amount   promo_code  shipment_fee  \\\n",
              "0     Debit Card        Success          1415  WEEKENDSERU         10000   \n",
              "1    Credit Card        Success             0          NaN         10000   \n",
              "2            OVO        Success             0          NaN         10000   \n",
              "\n",
              "           shipment_date_limit  shipment_location_lat  shipment_location_long  \\\n",
              "0  2018-08-03T05:07:24.812676Z                  -8.23                  111.97   \n",
              "1  2018-08-03T01:29:03.415705Z                   3.01                  107.80   \n",
              "2  2018-09-18T08:41:49.422380Z                  -2.58                  115.74   \n",
              "\n",
              "   total_amount  product_id  quantity  item_price  \n",
              "0        199832       54728         1      191247  \n",
              "1        155526       16193         1      145526  \n",
              "2        550696       53686         4      135174  "
            ],
            "text/html": [
              "\n",
              "  <div id=\"df-01d12ecf-59b3-4221-9ee8-eb3493688ee6\">\n",
              "    <div class=\"colab-df-container\">\n",
              "      <div>\n",
              "<style scoped>\n",
              "    .dataframe tbody tr th:only-of-type {\n",
              "        vertical-align: middle;\n",
              "    }\n",
              "\n",
              "    .dataframe tbody tr th {\n",
              "        vertical-align: top;\n",
              "    }\n",
              "\n",
              "    .dataframe thead th {\n",
              "        text-align: right;\n",
              "    }\n",
              "</style>\n",
              "<table border=\"1\" class=\"dataframe\">\n",
              "  <thead>\n",
              "    <tr style=\"text-align: right;\">\n",
              "      <th></th>\n",
              "      <th>created_at</th>\n",
              "      <th>customer_id</th>\n",
              "      <th>booking_id</th>\n",
              "      <th>session_id</th>\n",
              "      <th>payment_method</th>\n",
              "      <th>payment_status</th>\n",
              "      <th>promo_amount</th>\n",
              "      <th>promo_code</th>\n",
              "      <th>shipment_fee</th>\n",
              "      <th>shipment_date_limit</th>\n",
              "      <th>shipment_location_lat</th>\n",
              "      <th>shipment_location_long</th>\n",
              "      <th>total_amount</th>\n",
              "      <th>product_id</th>\n",
              "      <th>quantity</th>\n",
              "      <th>item_price</th>\n",
              "    </tr>\n",
              "  </thead>\n",
              "  <tbody>\n",
              "    <tr>\n",
              "      <th>0</th>\n",
              "      <td>2018-07-29T15:22:01.458193Z</td>\n",
              "      <td>5868</td>\n",
              "      <td>186e2bee-0637-4710-8981-50c2d737bc42</td>\n",
              "      <td>3abaa6ce-e320-4e51-9469-d9f3fa328e86</td>\n",
              "      <td>Debit Card</td>\n",
              "      <td>Success</td>\n",
              "      <td>1415</td>\n",
              "      <td>WEEKENDSERU</td>\n",
              "      <td>10000</td>\n",
              "      <td>2018-08-03T05:07:24.812676Z</td>\n",
              "      <td>-8.23</td>\n",
              "      <td>111.97</td>\n",
              "      <td>199832</td>\n",
              "      <td>54728</td>\n",
              "      <td>1</td>\n",
              "      <td>191247</td>\n",
              "    </tr>\n",
              "    <tr>\n",
              "      <th>1</th>\n",
              "      <td>2018-07-30T12:40:22.365620Z</td>\n",
              "      <td>4774</td>\n",
              "      <td>caadb57b-e808-4f94-9e96-8a7d4c9898db</td>\n",
              "      <td>2ee5ead1-f13e-4759-92df-7ff48475e970</td>\n",
              "      <td>Credit Card</td>\n",
              "      <td>Success</td>\n",
              "      <td>0</td>\n",
              "      <td>NaN</td>\n",
              "      <td>10000</td>\n",
              "      <td>2018-08-03T01:29:03.415705Z</td>\n",
              "      <td>3.01</td>\n",
              "      <td>107.80</td>\n",
              "      <td>155526</td>\n",
              "      <td>16193</td>\n",
              "      <td>1</td>\n",
              "      <td>145526</td>\n",
              "    </tr>\n",
              "    <tr>\n",
              "      <th>2</th>\n",
              "      <td>2018-09-15T11:51:17.365620Z</td>\n",
              "      <td>4774</td>\n",
              "      <td>6000fffb-9c1a-4f4a-9296-bc8f6b622b50</td>\n",
              "      <td>93325fb6-eb00-4268-bb0e-6471795a0ad0</td>\n",
              "      <td>OVO</td>\n",
              "      <td>Success</td>\n",
              "      <td>0</td>\n",
              "      <td>NaN</td>\n",
              "      <td>10000</td>\n",
              "      <td>2018-09-18T08:41:49.422380Z</td>\n",
              "      <td>-2.58</td>\n",
              "      <td>115.74</td>\n",
              "      <td>550696</td>\n",
              "      <td>53686</td>\n",
              "      <td>4</td>\n",
              "      <td>135174</td>\n",
              "    </tr>\n",
              "  </tbody>\n",
              "</table>\n",
              "</div>\n",
              "      <button class=\"colab-df-convert\" onclick=\"convertToInteractive('df-01d12ecf-59b3-4221-9ee8-eb3493688ee6')\"\n",
              "              title=\"Convert this dataframe to an interactive table.\"\n",
              "              style=\"display:none;\">\n",
              "        \n",
              "  <svg xmlns=\"http://www.w3.org/2000/svg\" height=\"24px\"viewBox=\"0 0 24 24\"\n",
              "       width=\"24px\">\n",
              "    <path d=\"M0 0h24v24H0V0z\" fill=\"none\"/>\n",
              "    <path d=\"M18.56 5.44l.94 2.06.94-2.06 2.06-.94-2.06-.94-.94-2.06-.94 2.06-2.06.94zm-11 1L8.5 8.5l.94-2.06 2.06-.94-2.06-.94L8.5 2.5l-.94 2.06-2.06.94zm10 10l.94 2.06.94-2.06 2.06-.94-2.06-.94-.94-2.06-.94 2.06-2.06.94z\"/><path d=\"M17.41 7.96l-1.37-1.37c-.4-.4-.92-.59-1.43-.59-.52 0-1.04.2-1.43.59L10.3 9.45l-7.72 7.72c-.78.78-.78 2.05 0 2.83L4 21.41c.39.39.9.59 1.41.59.51 0 1.02-.2 1.41-.59l7.78-7.78 2.81-2.81c.8-.78.8-2.07 0-2.86zM5.41 20L4 18.59l7.72-7.72 1.47 1.35L5.41 20z\"/>\n",
              "  </svg>\n",
              "      </button>\n",
              "      \n",
              "  <style>\n",
              "    .colab-df-container {\n",
              "      display:flex;\n",
              "      flex-wrap:wrap;\n",
              "      gap: 12px;\n",
              "    }\n",
              "\n",
              "    .colab-df-convert {\n",
              "      background-color: #E8F0FE;\n",
              "      border: none;\n",
              "      border-radius: 50%;\n",
              "      cursor: pointer;\n",
              "      display: none;\n",
              "      fill: #1967D2;\n",
              "      height: 32px;\n",
              "      padding: 0 0 0 0;\n",
              "      width: 32px;\n",
              "    }\n",
              "\n",
              "    .colab-df-convert:hover {\n",
              "      background-color: #E2EBFA;\n",
              "      box-shadow: 0px 1px 2px rgba(60, 64, 67, 0.3), 0px 1px 3px 1px rgba(60, 64, 67, 0.15);\n",
              "      fill: #174EA6;\n",
              "    }\n",
              "\n",
              "    [theme=dark] .colab-df-convert {\n",
              "      background-color: #3B4455;\n",
              "      fill: #D2E3FC;\n",
              "    }\n",
              "\n",
              "    [theme=dark] .colab-df-convert:hover {\n",
              "      background-color: #434B5C;\n",
              "      box-shadow: 0px 1px 3px 1px rgba(0, 0, 0, 0.15);\n",
              "      filter: drop-shadow(0px 1px 2px rgba(0, 0, 0, 0.3));\n",
              "      fill: #FFFFFF;\n",
              "    }\n",
              "  </style>\n",
              "\n",
              "      <script>\n",
              "        const buttonEl =\n",
              "          document.querySelector('#df-01d12ecf-59b3-4221-9ee8-eb3493688ee6 button.colab-df-convert');\n",
              "        buttonEl.style.display =\n",
              "          google.colab.kernel.accessAllowed ? 'block' : 'none';\n",
              "\n",
              "        async function convertToInteractive(key) {\n",
              "          const element = document.querySelector('#df-01d12ecf-59b3-4221-9ee8-eb3493688ee6');\n",
              "          const dataTable =\n",
              "            await google.colab.kernel.invokeFunction('convertToInteractive',\n",
              "                                                     [key], {});\n",
              "          if (!dataTable) return;\n",
              "\n",
              "          const docLinkHtml = 'Like what you see? Visit the ' +\n",
              "            '<a target=\"_blank\" href=https://colab.research.google.com/notebooks/data_table.ipynb>data table notebook</a>'\n",
              "            + ' to learn more about interactive tables.';\n",
              "          element.innerHTML = '';\n",
              "          dataTable['output_type'] = 'display_data';\n",
              "          await google.colab.output.renderOutput(dataTable, element);\n",
              "          const docLink = document.createElement('div');\n",
              "          docLink.innerHTML = docLinkHtml;\n",
              "          element.appendChild(docLink);\n",
              "        }\n",
              "      </script>\n",
              "    </div>\n",
              "  </div>\n",
              "  "
            ]
          },
          "metadata": {},
          "execution_count": 107
        }
      ],
      "source": [
        "transaction_df = pd.read_csv('/content/drive/MyDrive/Colab/tp2/transaction_new.csv')\n",
        "transaction_df.head(3)"
      ]
    },
    {
      "cell_type": "code",
      "source": [
        "transaction_df['booking_id'].value_counts()"
      ],
      "metadata": {
        "id": "uYbWS5OgwHDy"
      },
      "execution_count": 108,
      "outputs": []
    },
    {
      "cell_type": "code",
      "source": [
        "transaction_df['promo_code'].value_counts()"
      ],
      "metadata": {
        "id": "dptSCxHzna_O"
      },
      "execution_count": null,
      "outputs": []
    },
    {
      "cell_type": "code",
      "source": [
        "transaction_df['payment_status'].value_counts()"
      ],
      "metadata": {
        "id": "FN_BeoE9nJou"
      },
      "execution_count": null,
      "outputs": []
    },
    {
      "cell_type": "code",
      "source": [],
      "metadata": {
        "id": "wdAv1ivfnfpi"
      },
      "execution_count": null,
      "outputs": []
    },
    {
      "cell_type": "markdown",
      "metadata": {
        "id": "1sjQT4JUH7bK"
      },
      "source": [
        "# product_df(상품 카테코리 별 매출 비중 확인(Product 관점))"
      ]
    },
    {
      "cell_type": "markdown",
      "metadata": {
        "id": "skpBfUXkJNRg"
      },
      "source": [
        "**< product_df 컬럼 안내 >**<p>\n",
        "id : 제품의 고유id (transaction 데이터의 product_id 와 연결) <br>\n",
        "gender : 제품의 타겟 성별<br>\n",
        "masterCategory : 주 카테고리<br>\n",
        "subCategory\t: 부 카테고리<br>\n",
        "articleType\t: 세부유형(바지 중에서도 \"청바지,슬랙스..\" 이런식의 세부유형)<br>\n",
        "baseColour\t: 제품의 기본 색상<br>\n",
        "season\t: 출시 또는 판매 계절<br>\n",
        "year\t: 출시 연도<br>\n",
        "usage\t: 제품의 사용목적 또는 분야<br>\n",
        "productDisplayName : 제품 표시 이름"
      ]
    },
    {
      "cell_type": "code",
      "execution_count": null,
      "metadata": {
        "id": "UVWefB7iTAJt"
      },
      "outputs": [],
      "source": [
        "product_df = pd.read_csv('/content/drive/MyDrive/Colab/tp2/product.csv')\n",
        "product_df\n"
      ]
    },
    {
      "cell_type": "code",
      "execution_count": null,
      "metadata": {
        "id": "HWIX665iKUuo"
      },
      "outputs": [],
      "source": [
        "product_df['id'].value_counts()"
      ]
    },
    {
      "cell_type": "code",
      "execution_count": null,
      "metadata": {
        "id": "QazIBNXVUnac"
      },
      "outputs": [],
      "source": [
        "product_df['gender'].value_counts()"
      ]
    },
    {
      "cell_type": "code",
      "execution_count": null,
      "metadata": {
        "id": "0zBof6buKgCA"
      },
      "outputs": [],
      "source": [
        "product_df['masterCategory'].value_counts()"
      ]
    },
    {
      "cell_type": "code",
      "execution_count": null,
      "metadata": {
        "id": "zVf3Ni5rMCAJ"
      },
      "outputs": [],
      "source": [
        "product_df['subCategory'].value_counts()"
      ]
    },
    {
      "cell_type": "code",
      "execution_count": null,
      "metadata": {
        "id": "KiECAYHjMGDU"
      },
      "outputs": [],
      "source": [
        "product_df['articleType'].value_counts()"
      ]
    },
    {
      "cell_type": "code",
      "execution_count": null,
      "metadata": {
        "id": "brcic0JmMK66"
      },
      "outputs": [],
      "source": [
        "product_df['baseColour'].value_counts()"
      ]
    },
    {
      "cell_type": "code",
      "execution_count": null,
      "metadata": {
        "id": "1vGTopytMTWL"
      },
      "outputs": [],
      "source": [
        "product_df['season'].value_counts()"
      ]
    },
    {
      "cell_type": "code",
      "execution_count": null,
      "metadata": {
        "id": "EZRn883NMWua"
      },
      "outputs": [],
      "source": [
        "product_df['usage'].value_counts()"
      ]
    },
    {
      "cell_type": "code",
      "execution_count": null,
      "metadata": {
        "id": "OZSJlNgAMZtN"
      },
      "outputs": [],
      "source": [
        "product_df['productDisplayName'].value_counts()"
      ]
    },
    {
      "cell_type": "code",
      "execution_count": null,
      "metadata": {
        "id": "L3s5Ev4JtsM1"
      },
      "outputs": [],
      "source": [
        "product_df['year'].value_counts() # year : 제품생산(출시)연도로 가정, 제품 많은 순"
      ]
    },
    {
      "cell_type": "code",
      "execution_count": null,
      "metadata": {
        "id": "tUmNh05pI1cF"
      },
      "outputs": [],
      "source": [
        "product_df['year'].value_counts().sort_index()# year : 제품생산(출시)연도로 가정, 연도 순"
      ]
    },
    {
      "cell_type": "code",
      "execution_count": null,
      "metadata": {
        "id": "kukShvJwxB1G"
      },
      "outputs": [],
      "source": [
        "product_df.info()"
      ]
    },
    {
      "cell_type": "code",
      "execution_count": null,
      "metadata": {
        "id": "Brfid-iTSFhl"
      },
      "outputs": [],
      "source": [
        "# 여기서 year 컬럼을 int로 바꾸려 하니, 1개의 nan값으로 인해 불가"
      ]
    },
    {
      "cell_type": "code",
      "execution_count": null,
      "metadata": {
        "id": "oBMKRJQbxJSe"
      },
      "outputs": [],
      "source": [
        "product_df.describe()"
      ]
    },
    {
      "cell_type": "code",
      "execution_count": null,
      "metadata": {
        "id": "_o7DAB5Qy_6O"
      },
      "outputs": [],
      "source": [
        "# 결측치 확인\n",
        "product_df.isnull().sum()"
      ]
    },
    {
      "cell_type": "code",
      "execution_count": null,
      "metadata": {
        "id": "1Jr3IsSNRhQH"
      },
      "outputs": [],
      "source": [
        "product_df['year'][product_df['year'].isnull()]"
      ]
    },
    {
      "cell_type": "code",
      "execution_count": null,
      "metadata": {
        "id": "ZnkEun9NRxRh"
      },
      "outputs": [],
      "source": [
        "product_df.loc[21285]"
      ]
    },
    {
      "cell_type": "code",
      "execution_count": null,
      "metadata": {
        "id": "LI7RdzM9RXkc"
      },
      "outputs": [],
      "source": [
        "#product_df['year'].astype(int)"
      ]
    },
    {
      "cell_type": "markdown",
      "source": [
        "##카테고리별 매출"
      ],
      "metadata": {
        "id": "2OqeLuToiU0q"
      }
    },
    {
      "cell_type": "code",
      "execution_count": null,
      "metadata": {
        "id": "UC3ee5sefn_j"
      },
      "outputs": [],
      "source": [
        "product_df.rename(columns={'id': 'product_id'}, inplace=True)\n",
        "\n",
        "\n",
        "# transaction,product 데이터를 'product_id' 컬럼 기준으로 병합\n",
        "trans_prod_df = pd.merge(transaction_df, product_df, on='product_id')\n",
        "\n",
        "# 각 상품의 매출액 계산\n",
        "trans_prod_df['sales'] = trans_prod_df['item_price'] * trans_prod_df['quantity']\n",
        "\n",
        "# 상품 카테고리별 매출액 총합 .\n",
        "category_sales = trans_prod_df.groupby(['masterCategory', 'subCategory'])['sales'].sum().reset_index()\n",
        "\n",
        "trans_prod_df #병합프레임확인"
      ]
    },
    {
      "cell_type": "code",
      "source": [
        "trans_prod_df['promo_code'].value_counts()"
      ],
      "metadata": {
        "id": "l0tGAKqVZdOa"
      },
      "execution_count": null,
      "outputs": []
    },
    {
      "cell_type": "code",
      "source": [
        "trans_prod_df['promo_code'].isna().value_counts()"
      ],
      "metadata": {
        "id": "Qh_3qdgrZjVM"
      },
      "execution_count": null,
      "outputs": []
    },
    {
      "cell_type": "code",
      "source": [],
      "metadata": {
        "id": "NoOJ7TzDZuuN"
      },
      "execution_count": null,
      "outputs": []
    },
    {
      "cell_type": "code",
      "execution_count": null,
      "metadata": {
        "id": "5wUrBpo42Tzg"
      },
      "outputs": [],
      "source": [
        "category_sales"
      ]
    },
    {
      "cell_type": "code",
      "execution_count": null,
      "metadata": {
        "id": "DjOX6uLOnfkO"
      },
      "outputs": [],
      "source": [
        "# 'created_at' 컬럼 datetime 형태로 변환\n",
        "trans_prod_df['created_at'] = pd.to_datetime(trans_prod_df['created_at'])\n",
        "\n",
        "# 월별 매출 확인을 위해 월별로 그룹화('created_at'에서 연도와 월만 추출)\n",
        "trans_prod_df['month'] = trans_prod_df['created_at'].dt.to_period('M')\n",
        "\n",
        "# 'product_id', 'month', 'masterCategory', 'subCategory' 그룹화, 매출액을 계산\n",
        "trans_prod_df['sales'] = trans_prod_df['item_price'] * trans_prod_df['quantity']\n",
        "\n",
        "category_sales = trans_prod_df.groupby(['month', 'masterCategory', 'subCategory'])['sales'].sum().reset_index()\n",
        "category_sales"
      ]
    },
    {
      "cell_type": "code",
      "execution_count": null,
      "metadata": {
        "id": "I4JrIdnomelt"
      },
      "outputs": [],
      "source": [
        "# 'created_at' 컬럼을 datetime 형태로 변환\n",
        "transaction_df['created_at'] = pd.to_datetime(transaction_df['created_at'])\n",
        "transaction_df\n",
        "# 월별 그룹화. 각 행의 'created_at' 값에서 연도와 월만 추출\n",
        "transaction_df['month'] = transaction_df['created_at'].dt.to_period('M')\n",
        "\n",
        "# 'product_id', 'month', 'masterCategory', 'subCategory' 그룹화, 매출액을 계산\n",
        "trans_prod_df['sales'] = trans_prod_df['item_price'] * trans_prod_df['quantity']\n",
        "\n",
        "category_sales = trans_prod_df.groupby(['month', 'masterCategory', 'subCategory'])['sales'].sum().reset_index()\n"
      ]
    },
    {
      "cell_type": "code",
      "execution_count": null,
      "metadata": {
        "id": "qzxE7fe2J5VC"
      },
      "outputs": [],
      "source": [
        "category_sales['subCategory'].value_counts()"
      ]
    },
    {
      "cell_type": "code",
      "execution_count": null,
      "metadata": {
        "id": "hRg5mOa_njnm"
      },
      "outputs": [],
      "source": [
        "\n",
        "category_sales['month'] = category_sales['month'].dt.to_timestamp()\n",
        "\n",
        "\n",
        "plt.figure(figsize=(15, 8))\n",
        "\n",
        "\n",
        "sns.lineplot(data=category_sales, x='month', y='sales', hue='masterCategory')\n",
        "\n",
        "\n",
        "plt.show()\n",
        "\n"
      ]
    },
    {
      "cell_type": "code",
      "execution_count": null,
      "metadata": {
        "id": "1yNpeBqvoDtz"
      },
      "outputs": [],
      "source": [
        "print(category_sales['month'].dtypes)\n",
        "print(category_sales['sales'].dtypes)\n",
        "print(category_sales['masterCategory'].dtypes)\n"
      ]
    },
    {
      "cell_type": "markdown",
      "source": [
        "##성별(제품군)에 따른 매출"
      ],
      "metadata": {
        "id": "FFtkRcWKiJR-"
      }
    },
    {
      "cell_type": "code",
      "execution_count": null,
      "metadata": {
        "id": "INQUwM9SUut9"
      },
      "outputs": [],
      "source": [
        "# 성별(제품군)에 따른 상품판매량 및 매출\n",
        "product_df.rename(columns={'id': 'product_id'}, inplace=True)\n",
        "# transaction,product 데이터를 'product_id' 컬럼 기준으로 병합\n",
        "trans_prod_df = pd.merge(transaction_df, product_df, on='product_id')\n",
        "\n",
        "# 각 상품의 매출액 계산\n",
        "trans_prod_df['sales'] = trans_prod_df['item_price'] * trans_prod_df['quantity']\n",
        "\n",
        "# 성별(제품군)에 따른 매출액 및 판매횟수 총합 .\n",
        "gender_sales = trans_prod_df.groupby('gender').agg({'sales': 'sum', 'product_id': 'count'}).reset_index()\n",
        "gender_sales.rename(columns={'sales': 'total_sales', 'product_id': 'sales_count'}, inplace=True)\n",
        "\n",
        "gender_product_cnt = product_df['gender'].value_counts().reset_index()\n",
        "gender_product_cnt.columns = ['gender', 'product_count']\n",
        "\n",
        "# 'gender_sales' 데이터프레임에 'product_count'를 병합\n",
        "gender_sales = pd.merge(gender_sales, gender_product_cnt, on='gender')\n",
        "gender_sales\n",
        "\n",
        "# 성별, 총 판매액, 총 판매 횟수, 등록된 제품 수"
      ]
    },
    {
      "cell_type": "markdown",
      "source": [
        "##계절(제품군)에 따른 매출"
      ],
      "metadata": {
        "id": "_Gy8egJMiChg"
      }
    },
    {
      "cell_type": "code",
      "execution_count": null,
      "metadata": {
        "id": "JKSJ3Hr4VT26"
      },
      "outputs": [],
      "source": [
        "# 계절(제품군)에 따른 매출액 및 판매횟수 총합 .\n",
        "seaason_sales = trans_prod_df.groupby('season').agg({'sales': 'sum', 'product_id': 'count'}).reset_index()\n",
        "seaason_sales.rename(columns={'sales': 'total_sales', 'product_id': 'sales_count'}, inplace=True)\n",
        "\n",
        "season_product_cnt = product_df['season'].value_counts().reset_index()\n",
        "season_product_cnt.columns = ['season', 'product_count']\n",
        "\n",
        "# 'season_sales' 데이터프레임에 'product_count'를 병합\n",
        "seaason_sales = pd.merge(seaason_sales, season_product_cnt, on='season')\n",
        "seaason_sales\n",
        "\n",
        "# 계절, 총 판매액, 총 판매 횟수, 등록된 제품 수"
      ]
    },
    {
      "cell_type": "markdown",
      "source": [
        "##월별 매출 합계"
      ],
      "metadata": {
        "id": "g_SGtl3Vh8Bi"
      }
    },
    {
      "cell_type": "code",
      "source": [
        "# 월별 매출\n",
        "\n",
        "# 'created_at' 컬럼 datetime 변환\n",
        "transaction_df['created_at'] = pd.to_datetime(transaction_df['created_at'])\n",
        "\n",
        "# 월 추출\n",
        "transaction_df['month'] = transaction_df['created_at'].dt.to_period('M')\n",
        "\n",
        "# 각 상품 매출액\n",
        "transaction_df['sales'] = transaction_df['item_price'] * transaction_df['quantity']\n",
        "\n",
        "# 월별 매출액\n",
        "monthly_sales = transaction_df.groupby('month')['sales'].sum().reset_index()\n",
        "monthly_sales\n",
        "\n",
        "# 그래프로 시각화\n",
        "plt.figure(figsize=(12, 6))\n",
        "plt.plot(monthly_sales['month'].astype(str), monthly_sales['sales'])\n",
        "plt.xlabel('Month')\n",
        "plt.ylabel('Sales')\n",
        "plt.title('Monthly Sales')\n",
        "plt.xticks(rotation=45)\n",
        "plt.show()\n"
      ],
      "metadata": {
        "id": "q4F_ZuYsYmyV"
      },
      "execution_count": null,
      "outputs": []
    },
    {
      "cell_type": "code",
      "source": [
        "monthly_sales"
      ],
      "metadata": {
        "id": "GmXSZQkitw1m"
      },
      "execution_count": null,
      "outputs": []
    },
    {
      "cell_type": "markdown",
      "source": [
        "##연도별 매출 합계"
      ],
      "metadata": {
        "id": "lpglNPKDh4YV"
      }
    },
    {
      "cell_type": "code",
      "source": [
        "# 연도별 매출 합\n",
        "\n",
        "# 'created_at' 컬럼 datetime 변환\n",
        "transaction_df['created_at'] = pd.to_datetime(transaction_df['created_at'])\n",
        "\n",
        "# 연도 추출\n",
        "transaction_df['year'] = transaction_df['created_at'].dt.to_period('Y')\n",
        "\n",
        "# 각 상품 매출액\n",
        "transaction_df['sales'] = transaction_df['item_price'] * transaction_df['quantity']\n",
        "\n",
        "# 연도별 매출액\n",
        "yearly_sales = transaction_df.groupby('year')['sales'].sum().reset_index()\n",
        "yearly_sales\n",
        "\n",
        "# 그래프로 시각화\n",
        "plt.figure(figsize=(12, 6))\n",
        "plt.plot(yearly_sales['year'].astype(str), yearly_sales['sales'])\n",
        "plt.xlabel('year')\n",
        "plt.ylabel('Sales')\n",
        "plt.title('yearly Sales')\n",
        "plt.xticks(rotation=45)\n",
        "plt.show()"
      ],
      "metadata": {
        "id": "eE-YiRhIbFZ6"
      },
      "execution_count": null,
      "outputs": []
    },
    {
      "cell_type": "markdown",
      "source": [
        "##연도별 매출 평균"
      ],
      "metadata": {
        "id": "rEvLszEKh1t6"
      }
    },
    {
      "cell_type": "code",
      "source": [
        "# 연도별 매출 평균\n",
        "\n",
        "# 'created_at' 컬럼 datetime 변환\n",
        "transaction_df['created_at'] = pd.to_datetime(transaction_df['created_at'])\n",
        "\n",
        "# 연도 추출\n",
        "transaction_df['year'] = transaction_df['created_at'].dt.to_period('Y')\n",
        "\n",
        "# 각 상품 매출액\n",
        "transaction_df['sales'] = transaction_df['item_price'] * transaction_df['quantity']\n",
        "\n",
        "# 연도별 매출액 평균\n",
        "yearly_sales = transaction_df.groupby('year')['sales'].mean().reset_index()\n",
        "yearly_sales\n",
        "\n",
        "# 그래프로 시각화\n",
        "plt.figure(figsize=(12, 6))\n",
        "plt.plot(yearly_sales['year'].astype(str), yearly_sales['sales'])\n",
        "plt.xlabel('year')\n",
        "plt.ylabel('Sales')\n",
        "plt.title('yearly Sales')\n",
        "plt.xticks(rotation=45)\n",
        "plt.show()"
      ],
      "metadata": {
        "id": "7CgO60LxeCoK"
      },
      "execution_count": null,
      "outputs": []
    },
    {
      "cell_type": "markdown",
      "source": [
        "## 연도별 구매 건수"
      ],
      "metadata": {
        "id": "Wu7Xo_xfoPha"
      }
    },
    {
      "cell_type": "code",
      "source": [
        "#연도별 구입 건수\n",
        "# 'created_at' 컬럼 datetime 변환\n",
        "transaction_df['created_at'] = pd.to_datetime(transaction_df['created_at'])\n",
        "\n",
        "# 연도 추출\n",
        "transaction_df['year'] = transaction_df['created_at'].dt.year\n",
        "\n",
        "# 연도별 총 구입 건수 계산\n",
        "yearly_total_sales = transaction_df.groupby('year').size().reset_index()\n",
        "yearly_total_sales.columns = ['year', 'sales_cnt']\n",
        "\n",
        "# 그래프로 시각화\n",
        "plt.figure(figsize=(12, 6))\n",
        "plt.plot(yearly_total_sales['year'], yearly_total_sales['sales_cnt'])\n",
        "plt.xlabel('Year')\n",
        "plt.ylabel('Sales Count')\n",
        "plt.title('Yearly Total Sales Count')\n",
        "plt.xticks(rotation=45)\n",
        "plt.show()"
      ],
      "metadata": {
        "id": "1V6IH2zsmBWa"
      },
      "execution_count": null,
      "outputs": []
    },
    {
      "cell_type": "code",
      "source": [
        "yearly_total_sales\n"
      ],
      "metadata": {
        "id": "caMucM_ioPtc"
      },
      "execution_count": null,
      "outputs": []
    },
    {
      "cell_type": "markdown",
      "source": [
        "##나이(출생연도)에 따른 제품 구매 추이"
      ],
      "metadata": {
        "id": "N7mtI7m5hxOV"
      }
    },
    {
      "cell_type": "code",
      "source": [
        "pd.set_option('display.max_rows', None)"
      ],
      "metadata": {
        "id": "kd1GHDWxede2"
      },
      "execution_count": null,
      "outputs": []
    },
    {
      "cell_type": "code",
      "source": [
        "# 나이(출생연도)에 따른 제품 구매 추이\n",
        "\n",
        "# 'birthdate' 컬럼 datetime 변환\n",
        "customer_df['birthdate'] = customer_df['birthdate'].astype(str)\n",
        "customer_df['birthdate'] = pd.to_datetime(customer_df['birthdate'], errors='coerce')\n",
        "\n",
        "# 연도 추출\n",
        "customer_df['year'] = customer_df['birthdate'].dt.year\n",
        "\n",
        "# transation,customer 데이터를 'customer_id' 컬럼 기준으로 병합\n",
        "trans_cust_df = pd.merge(transaction_df, customer_df, on='customer_id')\n",
        "\n",
        "# 각 상품의 매출액 계산\n",
        "trans_cust_df['sales'] = trans_cust_df['item_price'] * trans_cust_df['quantity']\n",
        "\n",
        "# 나이(출생연도)에 따른 매출액 및 판매횟수 총합 .\n",
        "age_sales = trans_cust_df.groupby('year_y').agg({'sales': 'sum', 'customer_id': 'count'}).reset_index()\n",
        "age_sales.rename(columns={'sales': 'total_sales', 'customer_id': 'sales_count'}, inplace=True)\n",
        "\n",
        "age_sales\n",
        "\n",
        "\n",
        "# 출생연도, 총 판매액, 총 판매 횟수"
      ],
      "metadata": {
        "id": "saHEbaz3bSRh"
      },
      "execution_count": null,
      "outputs": []
    },
    {
      "cell_type": "code",
      "source": [
        "trans_cust_df.head()"
      ],
      "metadata": {
        "id": "Sgnu47D9mFUz"
      },
      "execution_count": null,
      "outputs": []
    },
    {
      "cell_type": "code",
      "source": [
        "age_sales.describe()"
      ],
      "metadata": {
        "id": "RTuwVqXIfDtK"
      },
      "execution_count": null,
      "outputs": []
    },
    {
      "cell_type": "code",
      "source": [
        "# 'year_y'를 'birth_year'로 변경\n",
        "customer_df.rename(columns={'year_y': 'birth_year'}, inplace=True)\n",
        "customer_df.rename(columns={'year': 'birth_year'}, inplace=True)"
      ],
      "metadata": {
        "id": "sMcyyCgZqHPN"
      },
      "execution_count": null,
      "outputs": []
    },
    {
      "cell_type": "code",
      "source": [
        "customer_df.columns"
      ],
      "metadata": {
        "id": "JoYvdN9MtXam"
      },
      "execution_count": null,
      "outputs": []
    },
    {
      "cell_type": "code",
      "source": [
        "plt.figure(figsize=(12, 6))\n",
        "plt.plot(age_sales['year_y'].astype(str), age_sales['total_sales'])\n",
        "plt.xlabel('birth_year')\n",
        "plt.ylabel('Sales')\n",
        "plt.title('birth_year_ Sales')\n",
        "plt.xticks(rotation=45)\n",
        "plt.show()"
      ],
      "metadata": {
        "id": "UXQVNAttdcQN"
      },
      "execution_count": null,
      "outputs": []
    },
    {
      "cell_type": "code",
      "source": [
        "# 1984년생 나이 : 40 >39\n",
        "# 1987년생 나이 : 35>34\n",
        "# 2009년생 나이 : 15"
      ],
      "metadata": {
        "id": "knjVW-69e_mZ"
      },
      "execution_count": null,
      "outputs": []
    },
    {
      "cell_type": "code",
      "source": [
        "# 'id'를 'product_id'로 변경\n",
        "product_df.rename(columns={'id': 'product_id'}, inplace=True)\n",
        "\n",
        "# transaction 데이터와 product 데이터를 병합\n",
        "data = pd.merge(transaction_df, product_df, on='product_id')\n",
        "\n",
        "# 'created_at' 컬럼에서 연도 추출\n",
        "data['year'] = pd.to_datetime(data['created_at']).dt.year\n",
        "\n",
        "# 연도와 카테고리로 그룹화하고, 각 그룹에서 판매량과 매출액 계산\n",
        "result = data.groupby(['year', 'masterCategory','subCategory','usage']).agg({\n",
        "    'quantity': 'sum',\n",
        "    'total_amount': 'sum'\n",
        "}).reset_index()\n",
        "\n",
        "# 각 연도에서 판매량이 가장 높은 카테고리 찾기\n",
        "idx = result.groupby(['year'])['quantity'].transform(max) == result['quantity']\n",
        "most_sold = result[idx]\n",
        "\n",
        "most_sold\n"
      ],
      "metadata": {
        "id": "Yq8GxkVQV5_x"
      },
      "execution_count": null,
      "outputs": []
    },
    {
      "cell_type": "code",
      "source": [
        "# 'created_at' 컬럼에서 연도 추출\n",
        "data['year'] = pd.to_datetime(data['created_at']).dt.year\n",
        "\n",
        "# 연도, 카테고리, 하위 카테고리, 용도로 그룹화하고, 각 그룹에서 판매량과 매출액 계산\n",
        "result = data.groupby(['year', 'masterCategory']).agg({\n",
        "    'quantity': 'sum',\n",
        "    'total_amount': 'sum'\n",
        "}).reset_index()\n",
        "\n",
        "# 각 연도에서 판매량이 가장 높은 카테고리 찾기\n",
        "top5_categories = result.groupby('year').apply(lambda x: x.nlargest(5, 'quantity')).reset_index(drop=True)\n",
        "\n",
        "top5_categories\n"
      ],
      "metadata": {
        "id": "NwSyX_VaXvlT"
      },
      "execution_count": null,
      "outputs": []
    },
    {
      "cell_type": "code",
      "source": [
        "# Apparel > Accessories > Footwear > Personal Care >\tFree Items\n",
        "# 인기카테고리 top5는 모든 연도 동일함"
      ],
      "metadata": {
        "id": "wTFAfoeFYSFR"
      },
      "execution_count": null,
      "outputs": []
    },
    {
      "cell_type": "code",
      "source": [
        "print(data['created_at'].dt.tz)\n",
        "data['created_at'] = data['created_at'].dt.tz_convert(None)\n"
      ],
      "metadata": {
        "id": "M5NHl2KVZVHB"
      },
      "execution_count": null,
      "outputs": []
    },
    {
      "cell_type": "markdown",
      "source": [
        "##RFM 분석"
      ],
      "metadata": {
        "id": "S-zAKernhpmo"
      }
    },
    {
      "cell_type": "markdown",
      "source": [
        "**RFM (Recency, Frequency, Monetary)<br>**\n",
        "고객의 최근 거래 기록, 거래 빈도, 거래 금액을 기반으로 고객 분류. 각 고객에게 RFM 점수를 부여하여 세그먼트 형성<p>\n",
        "\n",
        "- Recency: 거래의 최근성. 가장 최근에 구매한 날짜로부터 현재까지의 기간\n",
        "- Frequency: 거래 빈도. 총 거래 횟수\n",
        "- Monetary: 거래 금액. 고객이 구매한 총 금액"
      ],
      "metadata": {
        "id": "Fer4y7xHbziw"
      }
    },
    {
      "cell_type": "code",
      "source": [
        "# 'created_at'를 datetime 타입으로 변환\n",
        "data['created_at'] = pd.to_datetime(data['created_at'])\n",
        "\n",
        "# 현재 날짜 설정\n",
        "# snapshot_date : RFM 분석을 수행하는 현재 날짜(분석의 기준점)\n",
        "snapshot_date = pd.to_datetime(\"2022-08-01\")\n",
        "\n",
        "# Recency 계산: 오늘 날짜 - 가장 최근 구매 날짜\n",
        "rfm_df = data.groupby('customer_id').agg({\n",
        "    'created_at': lambda x: (snapshot_date - x.max()).days,\n",
        "    'booking_id': 'count',\n",
        "    'total_amount': 'sum'\n",
        "})\n",
        "\n",
        "# 컬럼 이름 변경\n",
        "rfm_df.rename(columns={\n",
        "    'created_at': 'Recency',\n",
        "    'booking_id': 'Frequency',\n",
        "    'total_amount': 'Monetary'\n",
        "}, inplace=True)\n",
        "\n",
        "rfm_df.head()\n"
      ],
      "metadata": {
        "id": "3N2mnD9HZET3"
      },
      "execution_count": null,
      "outputs": []
    },
    {
      "cell_type": "code",
      "source": [
        "rfm_df.info()"
      ],
      "metadata": {
        "id": "SQWqEGnllEyi"
      },
      "execution_count": null,
      "outputs": []
    },
    {
      "cell_type": "code",
      "source": [
        "rfm_df.describe().round(2)"
      ],
      "metadata": {
        "id": "3D3TRb69lJQ0"
      },
      "execution_count": null,
      "outputs": []
    },
    {
      "cell_type": "code",
      "source": [],
      "metadata": {
        "id": "nIJToJ06lREF"
      },
      "execution_count": null,
      "outputs": []
    },
    {
      "cell_type": "markdown",
      "source": [
        "##연도별 유입 고객 수"
      ],
      "metadata": {
        "id": "aL4e6ITAhe8o"
      }
    },
    {
      "cell_type": "code",
      "source": [
        "# 'first_join_date' 컬럼을 datetime 타입으로 변환\n",
        "customer_df['first_join_date'] = pd.to_datetime(customer_df['first_join_date'])\n",
        "\n",
        "# 'first_join_date'에서 연도 추출\n",
        "customer_df['join_year'] = customer_df['first_join_date'].dt.year\n",
        "\n",
        "# 연도별 유입 고객 수 계산\n",
        "new_customers_by_year = customer_df['join_year'].value_counts().sort_index()\n",
        "\n",
        "print(new_customers_by_year)\n"
      ],
      "metadata": {
        "id": "fwQ2wlWthSPO"
      },
      "execution_count": null,
      "outputs": []
    },
    {
      "cell_type": "code",
      "source": [
        "# # 데이터 프레임 준비\n",
        "# rfm_customer = data.groupby('customer_id').agg({\n",
        "#     'created_at': [lambda x: (snapshot_date - x.max()).days, 'min', 'max'],\n",
        "#     'booking_id': 'count',\n",
        "#     'total_amount': 'sum'\n",
        "# }).reset_index()\n",
        "\n",
        "# # 컬럼명 설정\n",
        "# rfm_customer.columns = ['customer_id', 'Recency', 'First_Purchase', 'Last_Purchase', 'Frequency', 'Monetary']\n",
        "\n",
        "# # First_Purchase와 Last_Purchase를 snapshot_date로부터의 일수로 변경\n",
        "# rfm_customer['First_Purchase'] = (snapshot_date - rfm_customer['First_Purchase']).dt.days\n",
        "# rfm_customer['Last_Purchase'] = (snapshot_date - rfm_customer['Last_Purchase']).dt.days\n",
        "\n",
        "# # 마지막 접속일자를 추가\n",
        "# last_session = click_df.groupby('customer_id')['event_time'].max()\n",
        "# rfm_customer = rfm_customer.join(last_session, on='customer_id')\n",
        "# rfm_customer['Last_Session'] = (snapshot_date - rfm_customer['event_time']).dt.days\n",
        "# rfm_customer.drop(columns=['event_time'], inplace=True)\n",
        "\n",
        "# rfm_customer"
      ],
      "metadata": {
        "id": "bs-uzWZ_btZU"
      },
      "execution_count": null,
      "outputs": []
    },
    {
      "cell_type": "markdown",
      "source": [
        "## 구매 건 당 매출(평균 주문 가치,AOV)"
      ],
      "metadata": {
        "id": "SSO6bFWIe_3E"
      }
    },
    {
      "cell_type": "code",
      "source": [
        "# 평균 주문 가치(Average Order Value, AOV)\n",
        "# 전체 매출/전체 주문 건수  => 고객 한 명이 한 번의 구매로 얼마나 많은 돈을 소비하는지에 대한 지표\n",
        "\n",
        "# 총 매출 계산\n",
        "total_sales = ((transaction_df['item_price']-transaction_df['promo_amount']) * transaction_df['quantity']).sum()\n",
        "\n",
        "# 총 구매 건수 계산\n",
        "total_orders = transaction_df['booking_id'].nunique()\n",
        "\n",
        "# 구매 건 당 매출액 계산\n",
        "revenue_per_order = total_sales / total_orders\n",
        "revenue_per_order"
      ],
      "metadata": {
        "id": "nMt6KUlRlq2f"
      },
      "execution_count": null,
      "outputs": []
    },
    {
      "cell_type": "code",
      "source": [
        "# 각 구매 건에 대한 매출액 계산\n",
        "transaction_df['sales_per_order'] = (transaction_df['item_price']-transaction_df['promo_amount']) * transaction_df['quantity']\n",
        "sales_per_order = transaction_df.groupby('booking_id')['sales_per_order'].sum()\n",
        "\n",
        "sales_per_order.describe().round(2)"
      ],
      "metadata": {
        "id": "gwvIEvfmfcYH"
      },
      "execution_count": null,
      "outputs": []
    },
    {
      "cell_type": "markdown",
      "source": [
        "## 객단가"
      ],
      "metadata": {
        "id": "RIMgQHgZ61DY"
      }
    },
    {
      "cell_type": "markdown",
      "source": [
        "### 건별 객단가"
      ],
      "metadata": {
        "id": "IrfpzDt8-piq"
      }
    },
    {
      "cell_type": "code",
      "source": [
        "# 각 구매 건 별 객단가 =  transaction_df['total_amount']\n",
        "transaction_df['total_amount'].describe()"
      ],
      "metadata": {
        "id": "wHzyNxQW-o0Q"
      },
      "execution_count": null,
      "outputs": []
    },
    {
      "cell_type": "markdown",
      "source": [
        "### 고객별 객단가"
      ],
      "metadata": {
        "id": "0KhldJVrAGRW"
      }
    },
    {
      "cell_type": "code",
      "source": [
        "# 고객별 총 매출액\n",
        "customer_total_sales = transaction_df.groupby('customer_id')['total_amount'].sum()\n",
        "\n",
        "# 고객별 주문 수\n",
        "customer_total_orders = transaction_df.groupby('customer_id')['booking_id'].nunique()\n",
        "\n",
        "# 객단가 계산 : 한 고객이 한번 주문할 때의 평균 금액\n",
        "average_sales_per_order = customer_total_sales / customer_total_orders\n",
        "\n",
        "# 고객별 총 매출액 출력\n",
        "customer_total_sales_df = customer_total_sales.to_frame()\n",
        "customer_total_sales_df.head()"
      ],
      "metadata": {
        "id": "psEVBl_NiJNP"
      },
      "execution_count": null,
      "outputs": []
    },
    {
      "cell_type": "code",
      "source": [
        "# 고객별 총 주문 수 출력\n",
        "customer_total_orders_df = customer_total_orders.to_frame()\n",
        "customer_total_orders_df.head()"
      ],
      "metadata": {
        "id": "I71EeR7x72Jg"
      },
      "execution_count": null,
      "outputs": []
    },
    {
      "cell_type": "code",
      "source": [
        "# 객단가 출력\n",
        "average_sales_per_order_df = average_sales_per_order.to_frame()\n",
        "average_sales_per_order_df.rename(columns={0:'객단가'}, inplace=True)\n",
        "average_sales_per_order_df.head()\n"
      ],
      "metadata": {
        "id": "rUrLRFf5736I"
      },
      "execution_count": null,
      "outputs": []
    },
    {
      "cell_type": "code",
      "source": [
        "# 출력형식 지정(소수점 둘째자리까지)\n",
        "# (참고) mean 1703249 루피아 = 148,151원\n",
        "pd.options.display.float_format = '{:.2f}'.format\n",
        "average_sales_per_order.describe()"
      ],
      "metadata": {
        "id": "Dvge2Uv38Pc5"
      },
      "execution_count": null,
      "outputs": []
    },
    {
      "cell_type": "markdown",
      "source": [
        "### 기간별 객단가"
      ],
      "metadata": {
        "id": "XJ0pLqzgAZBn"
      }
    },
    {
      "cell_type": "code",
      "source": [
        "# 연도별 객단가\n",
        "# created_at 컬럼 => datetime 형식으로 변환\n",
        "transaction_df['created_at'] = pd.to_datetime(transaction_df['created_at'])\n",
        "\n",
        "# 연도 추출\n",
        "transaction_df['year'] = transaction_df['created_at'].dt.year\n",
        "\n",
        "# 거래별 총 지출액 계산 (item_price * quantity)-promo_amount : 배송비 제외한 총 금액\n",
        "transaction_df['total_spent'] = transaction_df['total_amount'] - transaction_df['promo_amount']\n",
        "\n",
        "# 각 주문별 객단가 계산 (총 지출액 / 주문 횟수)\n",
        "transaction_df['avg_sales_per_order'] = transaction_df.groupby('booking_id')['total_spent'].transform('sum') / transaction_df.groupby('booking_id')['booking_id'].transform('count')\n",
        "\n",
        "# 연도별 평균 객단가 계산\n",
        "avg_sales_per_order_year = transaction_df.groupby('year')['avg_sales_per_order'].mean()\n",
        "avg_sales_per_order_year.to_frame()\n"
      ],
      "metadata": {
        "id": "ghWLkKVYAeYf"
      },
      "execution_count": null,
      "outputs": []
    },
    {
      "cell_type": "code",
      "source": [
        "avg_sales_per_order_year.plot(kind='line', marker='o')\n",
        "\n",
        "plt.title('Yearly Average Sales Per Order')\n",
        "plt.xlabel('Year')\n",
        "plt.ylabel('Average Sales Per Order')\n",
        "plt.grid(True)\n",
        "plt.show()"
      ],
      "metadata": {
        "id": "IujKUAxsEhOb"
      },
      "execution_count": null,
      "outputs": []
    },
    {
      "cell_type": "markdown",
      "source": [
        "### 구매 카테고리별 객단가"
      ],
      "metadata": {
        "id": "iay7EnNHEyYc"
      }
    },
    {
      "cell_type": "code",
      "source": [
        "# customer_id 별 카테고리 구매에 따른 분석\n",
        "# transaction_df와 product_df 병합\n",
        "trans_prod_df = pd.merge(transaction_df, product_df, left_on='product_id', right_on='product_id')\n",
        "\n",
        "# 각 고객의 카테고리별 총 구매 금액 계산\n",
        "trans_prod_df['total_amount'] = (trans_prod_df['item_price'] * trans_prod_df['quantity'] - trans_prod_df['promo_amount'])\n",
        "\n",
        "# 각 고객의 카테고리별 총 구매 금액 및 상품 수를 계산\n",
        "customer_category = trans_prod_df.groupby(['customer_id', 'masterCategory']).agg({'total_amount': 'sum', 'quantity': 'sum'}).reset_index()\n",
        "\n",
        "# 객단가 계산 (총 구매 금액 / 상품 수)\n",
        "customer_category['avg_amount_per_item'] = customer_category['total_amount'] / customer_category['quantity']\n",
        "customer_category.head(20)\n"
      ],
      "metadata": {
        "id": "mnyrY2VxD0CU"
      },
      "execution_count": null,
      "outputs": []
    },
    {
      "cell_type": "code",
      "source": [
        "# 카테고리별 객단가\n",
        "# masterCategory 별 총 구매 금액 계산\n",
        "category_total_amount = trans_prod_df.groupby('masterCategory')['total_amount'].sum()\n",
        "\n",
        "# masterCategory 별 구매한 고객 수 계산\n",
        "category_customer_count = trans_prod_df.groupby('masterCategory')['customer_id'].nunique()\n",
        "\n",
        "# 객단가 계산 (총 구매 금액 / 고객 수)\n",
        "category_avg_per_customer = category_total_amount / category_customer_count\n",
        "\n",
        "category_avg_per_customer\n"
      ],
      "metadata": {
        "id": "Lz2M41kqGdWB"
      },
      "execution_count": null,
      "outputs": []
    },
    {
      "cell_type": "code",
      "source": [
        "# 'category_avg_per_customer' 그래프\n",
        "plt.figure(figsize=(10,6))\n",
        "sns.barplot(x=category_avg_per_customer.index, y=category_avg_per_customer.values, palette='viridis')\n",
        "plt.title('Average spend per customer by category')\n",
        "plt.xlabel('Category')\n",
        "plt.ylabel('Average spend per customer')\n",
        "plt.xticks(rotation=45)\n",
        "plt.show()"
      ],
      "metadata": {
        "id": "FxF58N_UJKWz"
      },
      "execution_count": null,
      "outputs": []
    },
    {
      "cell_type": "markdown",
      "source": [
        "### 구매 횟수별 객단가"
      ],
      "metadata": {
        "id": "sAatrEbJKPMg"
      }
    },
    {
      "cell_type": "code",
      "source": [
        "# 고객별 총 구매금액 및 구매횟수 계산\n",
        "customer_total_amount = trans_prod_df.groupby('customer_id')['total_amount'].sum()\n",
        "customer_purchase_count = trans_prod_df.groupby('customer_id')['customer_id'].count()\n",
        "customer_purchase_df = pd.DataFrame({'total_amount': customer_total_amount, 'purchase_count': customer_purchase_count})\n",
        "\n",
        "# 구매횟수별로 그룹화하고, 객단가(총 구매금액/ 고객수)\n",
        "purchase_count_avg_amount = customer_purchase_df.groupby('purchase_count')['total_amount'].sum() / customer_purchase_df.groupby('purchase_count').size()\n",
        "purchase_count_avg_amount\n",
        "\n"
      ],
      "metadata": {
        "id": "SiRb5YrsKRdh"
      },
      "execution_count": null,
      "outputs": []
    },
    {
      "cell_type": "code",
      "source": [
        "# 구매 횟수 별 고객 수\n",
        "customer_df.groupby('purchase_count').size()"
      ],
      "metadata": {
        "id": "6ij52jm3Lont"
      },
      "execution_count": null,
      "outputs": []
    },
    {
      "cell_type": "markdown",
      "source": [
        "## 고객 구매 패턴 분석(AOV&객단가 비교)"
      ],
      "metadata": {
        "id": "SF5mLM8k_2UZ"
      }
    },
    {
      "cell_type": "code",
      "source": [
        "aov_sales_df = customer_total_sales_df.merge(average_sales_per_order_df, on='customer_id')\n",
        "aov_sales_df.rename(columns={0:'객단가'}, inplace=True)\n",
        "aov_sales_df.head()"
      ],
      "metadata": {
        "id": "P43-WffO9wzG"
      },
      "execution_count": null,
      "outputs": []
    },
    {
      "cell_type": "code",
      "source": [
        "#pattern = 1  : total_amount > 객단가  : 한 번의 구매에 많은 수량의 상품을 구매하는 경향이 있는 고객\n",
        "#pattern = 0  : total_amount < 객단가\n",
        "aov_sales_df['pattern'] = np.where(aov_sales_df['total_amount'] > aov_sales_df['객단가'], 1, 0)\n",
        "aov_sales_df.head()"
      ],
      "metadata": {
        "id": "BxbHtxEqCtIz"
      },
      "execution_count": null,
      "outputs": []
    },
    {
      "cell_type": "code",
      "source": [
        "aov_sales_df['pattern'].value_counts()"
      ],
      "metadata": {
        "id": "Q0p7E_Q8DgHS"
      },
      "execution_count": null,
      "outputs": []
    },
    {
      "cell_type": "markdown",
      "source": [
        "## 제품별 promo_code"
      ],
      "metadata": {
        "id": "hWdLHfCpXazN"
      }
    },
    {
      "cell_type": "code",
      "source": [
        "transaction_df['promo_code'].value_counts()"
      ],
      "metadata": {
        "id": "lOEtgb7FeBi1"
      },
      "execution_count": null,
      "outputs": []
    },
    {
      "cell_type": "code",
      "source": [
        "#transaction과 product의 product_id,  transaction의 promo_code 사용\n",
        "trans_promo_product = transaction_df[['product_id', 'promo_code']]\n",
        "trans_promo_product = trans_promo_product.drop_duplicates()\n",
        "product_promo_df = pd.merge(product_df, trans_promo_product, on='product_id', how='left')\n",
        "product_promo = product_promo_df[['product_id', 'promo_code']]\n",
        "product_promo.head()"
      ],
      "metadata": {
        "id": "gy7F5gTGFvqz"
      },
      "execution_count": null,
      "outputs": []
    },
    {
      "cell_type": "code",
      "source": [
        "product_promo.info()"
      ],
      "metadata": {
        "id": "iDnHB8slb9gJ"
      },
      "execution_count": null,
      "outputs": []
    },
    {
      "cell_type": "code",
      "source": [
        "# 각 product_id별로 promo_code 개수 확인\n",
        "promo_counts = product_promo.groupby('product_id')['promo_code'].count().reset_index()\n",
        "# 그 중에서 promo_code가 0(없는)인 product_id\n",
        "missing_promo_products = promo_counts[promo_counts['promo_code'] == 0]['product_id']\n",
        "\n",
        "print(missing_promo_products.count())\n",
        "# 진짜 모든 product_id 에 promo_code가 있는건가?!?!?!"
      ],
      "metadata": {
        "id": "yWkUr1Psigjo"
      },
      "execution_count": null,
      "outputs": []
    },
    {
      "cell_type": "markdown",
      "source": [
        "## 고객의 방문빈도_구매빈도 상관관계"
      ],
      "metadata": {
        "id": "igX_lOV5FJlB"
      }
    },
    {
      "cell_type": "code",
      "source": [
        "# `event_time` 컬럼을 datetime 형식으로 변환\n",
        "click_df['event_time'] = pd.to_datetime(click_df['event_time'])\n",
        "\n",
        "# 각 세션의 첫 이벤트와 마지막 이벤트의 시간 차이를 계산\n",
        "session_duration = click_df.groupby('session_id')['event_time'].agg(lambda x: x.max() - x.min())\n",
        "\n",
        "# 각 세션별 이벤트 수를 계산\n",
        "event_count = click_df.groupby('session_id').size()\n",
        "\n",
        "# transaction_df에서 각 세션별 구매 횟수를 계산\n",
        "purchase_count = transaction_df.groupby('session_id').size()\n",
        "\n",
        "# 데이터 프레임 생성\n",
        "session_df = pd.DataFrame({'session_duration': session_duration, 'event_count': event_count, 'purchase_count': purchase_count})\n",
        "\n",
        "# 상관관계 분석\n",
        "correlation = session_df.corr()\n",
        "\n",
        "print(correlation)\n",
        "\n"
      ],
      "metadata": {
        "id": "ET5X_66sDGed"
      },
      "execution_count": null,
      "outputs": []
    },
    {
      "cell_type": "code",
      "source": [],
      "metadata": {
        "id": "LuDAsWC9JXvu"
      },
      "execution_count": null,
      "outputs": []
    },
    {
      "cell_type": "markdown",
      "source": [
        "## 구매전환율(전체구매자수/전체방문자수)"
      ],
      "metadata": {
        "id": "WhJA6k5aRcZm"
      }
    },
    {
      "cell_type": "code",
      "source": [
        "# 전체 방문자 수 계산\n",
        "total_visitors = click_df['session_id'].nunique()\n",
        "\n",
        "# 전체 구매자 수 계산\n",
        "total_purchasers = transaction_df['session_id'].nunique()\n",
        "\n",
        "# 구매 전환율 계산\n",
        "purchase_conversion_rate = total_purchasers / total_visitors\n",
        "\n",
        "print('구매전환율:',purchase_conversion_rate)\n"
      ],
      "metadata": {
        "id": "lXPPtGfCRfRP"
      },
      "execution_count": null,
      "outputs": []
    },
    {
      "cell_type": "code",
      "source": [
        "# 신규고객의 구매전환율 (first_join_date를 신규방문으로 정함)\n",
        "\n",
        "# customer_df와 transaction_df 병합\n",
        "cust_trans_df = pd.merge(transaction_df, customer_df, on='customer_id')\n",
        "\n",
        "# 가입 날짜 datetime으로 변환\n",
        "cust_trans_df['first_join_date'] = pd.to_datetime(cust_trans_df['first_join_date'])\n",
        "\n",
        "# 'created_at' datetime 변환\n",
        "cust_trans_df['created_at'] = pd.to_datetime(cust_trans_df['created_at'])\n",
        "\n",
        "# 가입 날짜와 create_at 날짜 동일한 경우 : 'new_customer'컬럼에 true로 반환\n",
        "cust_trans_df['new_customer'] = cust_trans_df['first_join_date'].dt.date == cust_trans_df['created_at'].dt.date\n",
        "\n",
        "# 신규 고객 수\n",
        "new_customer_count = cust_trans_df['new_customer'].sum()\n",
        "\n",
        "# 신규 고객 중에서 구매한 경우\n",
        "new_customer_purchases = cust_trans_df[cust_trans_df['new_customer']]['total_amount'].count()\n",
        "\n",
        "# 구매 전환율\n",
        "conversion_rate_new = new_customer_purchases / new_customer_count\n",
        "\n",
        "print('신규 고객의 구매 전환율: ', conversion_rate_new)\n"
      ],
      "metadata": {
        "id": "sgPquc8aSDvF"
      },
      "execution_count": null,
      "outputs": []
    },
    {
      "cell_type": "markdown",
      "source": [
        "## 고객나이(가입시점&현재시점)"
      ],
      "metadata": {
        "id": "W1ccJjgWpY7A"
      }
    },
    {
      "cell_type": "code",
      "source": [
        "# 가입시점 나이\n",
        "customer_df['age_join'] = (customer_df['join_year'] - customer_df['birth_year']).apply(lambda x: int(x))\n",
        "\n",
        "# 현재나이 (2022년 기준)\n",
        "customer_df['age_now'] = 2022 - customer_df['birth_year'].astype(int)\n",
        "\n",
        "customer_df[['age_join','age_now']].head()"
      ],
      "metadata": {
        "id": "zWxcVEhPpYnl",
        "colab": {
          "base_uri": "https://localhost:8080/",
          "height": 206
        },
        "outputId": "085736ff-032c-4344-a280-8cc31b73894a"
      },
      "execution_count": 178,
      "outputs": [
        {
          "output_type": "execute_result",
          "data": {
            "text/plain": [
              "   age_join  age_now\n",
              "0        23       26\n",
              "1        24       29\n",
              "2        31       33\n",
              "3        30       31\n",
              "4        21       22"
            ],
            "text/html": [
              "\n",
              "  <div id=\"df-af2eb8f0-1cdf-4a09-86ab-05dc37c3b344\">\n",
              "    <div class=\"colab-df-container\">\n",
              "      <div>\n",
              "<style scoped>\n",
              "    .dataframe tbody tr th:only-of-type {\n",
              "        vertical-align: middle;\n",
              "    }\n",
              "\n",
              "    .dataframe tbody tr th {\n",
              "        vertical-align: top;\n",
              "    }\n",
              "\n",
              "    .dataframe thead th {\n",
              "        text-align: right;\n",
              "    }\n",
              "</style>\n",
              "<table border=\"1\" class=\"dataframe\">\n",
              "  <thead>\n",
              "    <tr style=\"text-align: right;\">\n",
              "      <th></th>\n",
              "      <th>age_join</th>\n",
              "      <th>age_now</th>\n",
              "    </tr>\n",
              "  </thead>\n",
              "  <tbody>\n",
              "    <tr>\n",
              "      <th>0</th>\n",
              "      <td>23</td>\n",
              "      <td>26</td>\n",
              "    </tr>\n",
              "    <tr>\n",
              "      <th>1</th>\n",
              "      <td>24</td>\n",
              "      <td>29</td>\n",
              "    </tr>\n",
              "    <tr>\n",
              "      <th>2</th>\n",
              "      <td>31</td>\n",
              "      <td>33</td>\n",
              "    </tr>\n",
              "    <tr>\n",
              "      <th>3</th>\n",
              "      <td>30</td>\n",
              "      <td>31</td>\n",
              "    </tr>\n",
              "    <tr>\n",
              "      <th>4</th>\n",
              "      <td>21</td>\n",
              "      <td>22</td>\n",
              "    </tr>\n",
              "  </tbody>\n",
              "</table>\n",
              "</div>\n",
              "      <button class=\"colab-df-convert\" onclick=\"convertToInteractive('df-af2eb8f0-1cdf-4a09-86ab-05dc37c3b344')\"\n",
              "              title=\"Convert this dataframe to an interactive table.\"\n",
              "              style=\"display:none;\">\n",
              "        \n",
              "  <svg xmlns=\"http://www.w3.org/2000/svg\" height=\"24px\"viewBox=\"0 0 24 24\"\n",
              "       width=\"24px\">\n",
              "    <path d=\"M0 0h24v24H0V0z\" fill=\"none\"/>\n",
              "    <path d=\"M18.56 5.44l.94 2.06.94-2.06 2.06-.94-2.06-.94-.94-2.06-.94 2.06-2.06.94zm-11 1L8.5 8.5l.94-2.06 2.06-.94-2.06-.94L8.5 2.5l-.94 2.06-2.06.94zm10 10l.94 2.06.94-2.06 2.06-.94-2.06-.94-.94-2.06-.94 2.06-2.06.94z\"/><path d=\"M17.41 7.96l-1.37-1.37c-.4-.4-.92-.59-1.43-.59-.52 0-1.04.2-1.43.59L10.3 9.45l-7.72 7.72c-.78.78-.78 2.05 0 2.83L4 21.41c.39.39.9.59 1.41.59.51 0 1.02-.2 1.41-.59l7.78-7.78 2.81-2.81c.8-.78.8-2.07 0-2.86zM5.41 20L4 18.59l7.72-7.72 1.47 1.35L5.41 20z\"/>\n",
              "  </svg>\n",
              "      </button>\n",
              "      \n",
              "  <style>\n",
              "    .colab-df-container {\n",
              "      display:flex;\n",
              "      flex-wrap:wrap;\n",
              "      gap: 12px;\n",
              "    }\n",
              "\n",
              "    .colab-df-convert {\n",
              "      background-color: #E8F0FE;\n",
              "      border: none;\n",
              "      border-radius: 50%;\n",
              "      cursor: pointer;\n",
              "      display: none;\n",
              "      fill: #1967D2;\n",
              "      height: 32px;\n",
              "      padding: 0 0 0 0;\n",
              "      width: 32px;\n",
              "    }\n",
              "\n",
              "    .colab-df-convert:hover {\n",
              "      background-color: #E2EBFA;\n",
              "      box-shadow: 0px 1px 2px rgba(60, 64, 67, 0.3), 0px 1px 3px 1px rgba(60, 64, 67, 0.15);\n",
              "      fill: #174EA6;\n",
              "    }\n",
              "\n",
              "    [theme=dark] .colab-df-convert {\n",
              "      background-color: #3B4455;\n",
              "      fill: #D2E3FC;\n",
              "    }\n",
              "\n",
              "    [theme=dark] .colab-df-convert:hover {\n",
              "      background-color: #434B5C;\n",
              "      box-shadow: 0px 1px 3px 1px rgba(0, 0, 0, 0.15);\n",
              "      filter: drop-shadow(0px 1px 2px rgba(0, 0, 0, 0.3));\n",
              "      fill: #FFFFFF;\n",
              "    }\n",
              "  </style>\n",
              "\n",
              "      <script>\n",
              "        const buttonEl =\n",
              "          document.querySelector('#df-af2eb8f0-1cdf-4a09-86ab-05dc37c3b344 button.colab-df-convert');\n",
              "        buttonEl.style.display =\n",
              "          google.colab.kernel.accessAllowed ? 'block' : 'none';\n",
              "\n",
              "        async function convertToInteractive(key) {\n",
              "          const element = document.querySelector('#df-af2eb8f0-1cdf-4a09-86ab-05dc37c3b344');\n",
              "          const dataTable =\n",
              "            await google.colab.kernel.invokeFunction('convertToInteractive',\n",
              "                                                     [key], {});\n",
              "          if (!dataTable) return;\n",
              "\n",
              "          const docLinkHtml = 'Like what you see? Visit the ' +\n",
              "            '<a target=\"_blank\" href=https://colab.research.google.com/notebooks/data_table.ipynb>data table notebook</a>'\n",
              "            + ' to learn more about interactive tables.';\n",
              "          element.innerHTML = '';\n",
              "          dataTable['output_type'] = 'display_data';\n",
              "          await google.colab.output.renderOutput(dataTable, element);\n",
              "          const docLink = document.createElement('div');\n",
              "          docLink.innerHTML = docLinkHtml;\n",
              "          element.appendChild(docLink);\n",
              "        }\n",
              "      </script>\n",
              "    </div>\n",
              "  </div>\n",
              "  "
            ]
          },
          "metadata": {},
          "execution_count": 178
        }
      ]
    },
    {
      "cell_type": "code",
      "source": [
        "customer_df['age_join'].value_counts()\n"
      ],
      "metadata": {
        "id": "wwSgiCXPtDPz",
        "colab": {
          "base_uri": "https://localhost:8080/"
        },
        "outputId": "9bae8c29-1b07-45d8-a6b4-db087eb24b7e"
      },
      "execution_count": 179,
      "outputs": [
        {
          "output_type": "execute_result",
          "data": {
            "text/plain": [
              "23    5507\n",
              "22    5500\n",
              "21    5273\n",
              "24    5256\n",
              "20    5156\n",
              "25    4953\n",
              "19    4945\n",
              "26    4895\n",
              "18    4655\n",
              "27    4581\n",
              "28    4243\n",
              "17    3988\n",
              "29    3765\n",
              "16    3575\n",
              "30    3277\n",
              "15    2995\n",
              "31    2930\n",
              "32    2562\n",
              "14    2404\n",
              "33    2307\n",
              "34    1991\n",
              "13    1909\n",
              "35    1698\n",
              "12    1536\n",
              "36    1333\n",
              "37    1177\n",
              "11    1084\n",
              "38     963\n",
              "39     747\n",
              "10     674\n",
              "40     593\n",
              "41     524\n",
              "9      444\n",
              "42     430\n",
              "43     352\n",
              "8      313\n",
              "44     286\n",
              "45     198\n",
              "7      153\n",
              "46     147\n",
              "47     128\n",
              "48     120\n",
              "49      89\n",
              "6       78\n",
              "50      57\n",
              "51      35\n",
              "5       34\n",
              "52      28\n",
              "53      20\n",
              "4       19\n",
              "55      16\n",
              "54      13\n",
              "56       9\n",
              "57       8\n",
              "3        6\n",
              "59       6\n",
              "58       4\n",
              "63       3\n",
              "60       2\n",
              "67       2\n",
              "65       2\n",
              "64       1\n",
              "61       1\n",
              "Name: age_join, dtype: int64"
            ]
          },
          "metadata": {},
          "execution_count": 179
        }
      ]
    },
    {
      "cell_type": "code",
      "source": [
        "customer_df['age_now'].value_counts()"
      ],
      "metadata": {
        "id": "0Orawb8kuJ4O",
        "colab": {
          "base_uri": "https://localhost:8080/"
        },
        "outputId": "c54ae0c3-78cb-491d-a448-26708c65bbcd"
      },
      "execution_count": 180,
      "outputs": [
        {
          "output_type": "execute_result",
          "data": {
            "text/plain": [
              "24    5653\n",
              "25    5547\n",
              "26    5455\n",
              "23    5436\n",
              "28    5355\n",
              "22    5292\n",
              "27    5283\n",
              "21    4838\n",
              "29    4695\n",
              "20    4532\n",
              "30    4186\n",
              "31    3968\n",
              "19    3962\n",
              "32    3474\n",
              "18    3366\n",
              "33    3022\n",
              "17    2755\n",
              "34    2743\n",
              "35    2431\n",
              "16    2128\n",
              "36    2026\n",
              "37    1763\n",
              "15    1582\n",
              "38    1556\n",
              "39    1171\n",
              "14    1139\n",
              "40    1005\n",
              "13     780\n",
              "41     745\n",
              "42     657\n",
              "43     513\n",
              "12     465\n",
              "44     436\n",
              "45     342\n",
              "46     281\n",
              "11     265\n",
              "47     223\n",
              "48     174\n",
              "49     148\n",
              "50     115\n",
              "10     110\n",
              "51      68\n",
              "9       60\n",
              "52      50\n",
              "53      40\n",
              "54      40\n",
              "8       23\n",
              "55      23\n",
              "56      15\n",
              "57      12\n",
              "7        9\n",
              "58       9\n",
              "59       8\n",
              "60       7\n",
              "6        4\n",
              "67       4\n",
              "62       3\n",
              "61       3\n",
              "65       2\n",
              "64       1\n",
              "63       1\n",
              "68       1\n",
              "Name: age_now, dtype: int64"
            ]
          },
          "metadata": {},
          "execution_count": 180
        }
      ]
    },
    {
      "cell_type": "markdown",
      "source": [
        "### 가입시점(15-35세 비율)"
      ],
      "metadata": {
        "id": "MP2cks8n6czL"
      }
    },
    {
      "cell_type": "code",
      "source": [
        "age_join_15_35 = customer_df[(customer_df['age_join'] >= 15) & (customer_df['age_join'] <= 35)]\n",
        "age_join_15_35_cnt = len(age_join_15_35)\n",
        "#가입시점 15세 이상 35세 이하인 고객 : 84052 명"
      ],
      "metadata": {
        "id": "KE-8Ri6-uLrG"
      },
      "execution_count": 181,
      "outputs": []
    },
    {
      "cell_type": "code",
      "source": [
        "# 전체 고객 수\n",
        "total_customer_cnt = customer_df['customer_id'].nunique()\n",
        "\n",
        "age_join_15_35_ratio = np.round_(age_join_15_35_cnt / total_customer_cnt, decimals=2)\n",
        "\n",
        "age_join_15_35_ratio"
      ],
      "metadata": {
        "id": "CdHO9_J5utbH",
        "colab": {
          "base_uri": "https://localhost:8080/"
        },
        "outputId": "915b42d2-ec49-40d7-822a-3b387806a773"
      },
      "execution_count": 182,
      "outputs": [
        {
          "output_type": "execute_result",
          "data": {
            "text/plain": [
              "0.84"
            ]
          },
          "metadata": {},
          "execution_count": 182
        }
      ]
    },
    {
      "cell_type": "code",
      "source": [
        "print(\"age_join_15_35_ratio: \", age_join_15_35_ratio)\n",
        "print(\"Other customer ratio: \", 0.16)\n"
      ],
      "metadata": {
        "id": "N8YydtdJvuQX",
        "colab": {
          "base_uri": "https://localhost:8080/"
        },
        "outputId": "6085bcf1-09b0-4d9c-b282-f3d2e5e95dfe"
      },
      "execution_count": 183,
      "outputs": [
        {
          "output_type": "stream",
          "name": "stdout",
          "text": [
            "age_join_15_35_ratio:  0.84\n",
            "Other customer ratio:  0.16\n"
          ]
        }
      ]
    },
    {
      "cell_type": "code",
      "source": [
        "# 시각화\n",
        "data = [age_join_15_35_ratio , 0.16 ]\n",
        "labels = ['15-35 Age Customers', 'Other Customers']\n",
        "\n",
        "plt.figure(figsize=(5,7))\n",
        "plt.pie(data, labels = labels, autopct='%1.1f%%')\n",
        "plt.title('Ratio of 15-35 Age Customers(join) to All Customers')\n",
        "plt.show()"
      ],
      "metadata": {
        "id": "ecCk7JievgVH",
        "colab": {
          "base_uri": "https://localhost:8080/",
          "height": 446
        },
        "outputId": "92edcacb-97b8-4914-fccc-c56d51a97c25"
      },
      "execution_count": 184,
      "outputs": [
        {
          "output_type": "display_data",
          "data": {
            "text/plain": [
              "<Figure size 500x700 with 1 Axes>"
            ],
            "image/png": "[encoded data removed]"
          },
          "metadata": {}
        }
      ]
    },
    {
      "cell_type": "markdown",
      "source": [
        "### 현재시점(15-35세 비율)"
      ],
      "metadata": {
        "id": "DLvzhXuT6o8m"
      }
    },
    {
      "cell_type": "code",
      "source": [
        "age_now_15_35 = customer_df[(customer_df['age_now'] >= 15) & (customer_df['age_now'] <= 35)]\n",
        "age_now_15_35_cnt = len(age_now_15_35)\n",
        "age_now_15_35_cnt\n",
        "#현재시점 15세 이상 35세 이하인 고객 : 85703 명"
      ],
      "metadata": {
        "id": "-9MDEDC2ykXZ",
        "colab": {
          "base_uri": "https://localhost:8080/"
        },
        "outputId": "c01b2876-91bf-439b-831f-4b252ae665fb"
      },
      "execution_count": 185,
      "outputs": [
        {
          "output_type": "execute_result",
          "data": {
            "text/plain": [
              "85703"
            ]
          },
          "metadata": {},
          "execution_count": 185
        }
      ]
    },
    {
      "cell_type": "code",
      "source": [
        "# 전체 고객 수\n",
        "total_customer_cnt = customer_df['customer_id'].nunique()\n",
        "\n",
        "age_now_15_35_ratio = np.round_(age_now_15_35_cnt / total_customer_cnt, decimals=2)\n",
        "\n",
        "age_now_15_35_ratio"
      ],
      "metadata": {
        "id": "jjQzRg54yuGw",
        "colab": {
          "base_uri": "https://localhost:8080/"
        },
        "outputId": "ad2c7488-a995-422d-bc35-832284ff19c4"
      },
      "execution_count": 186,
      "outputs": [
        {
          "output_type": "execute_result",
          "data": {
            "text/plain": [
              "0.86"
            ]
          },
          "metadata": {},
          "execution_count": 186
        }
      ]
    },
    {
      "cell_type": "code",
      "source": [
        "# 시각화\n",
        "data = [age_join_15_35_ratio , 0.16 ]\n",
        "labels = ['15-35 Age Customers', 'Other Customers']\n",
        "\n",
        "plt.figure(figsize=(5,7))\n",
        "plt.pie(data, labels = labels, autopct='%1.1f%%')\n",
        "plt.title('Ratio of 15-35 Age Customers(now) to All Customers')\n",
        "plt.show()"
      ],
      "metadata": {
        "id": "tI9T1vlDyx1C",
        "colab": {
          "base_uri": "https://localhost:8080/",
          "height": 446
        },
        "outputId": "6c707fc9-df66-4ade-906e-5e278e7faaf5"
      },
      "execution_count": 187,
      "outputs": [
        {
          "output_type": "display_data",
          "data": {
            "text/plain": [
              "<Figure size 500x700 with 1 Axes>"
            ],
            "image/png": "[encoded data removed]"
          },
          "metadata": {}
        }
      ]
    },
    {
      "cell_type": "markdown",
      "source": [
        "### 현재시점(세대별 비율)"
      ],
      "metadata": {
        "id": "7AIKGzPw6ifb"
      }
    },
    {
      "cell_type": "code",
      "source": [
        "# 현재(2022년) 기준으로 10대미만, 10대,20대,30대,40대,50대 이상으로 나눔\n",
        "bins= [0, 10, 20, 30, 40, 50, np.inf]\n",
        "labels = ['under10','10s','20s','30s','40s','over50']\n",
        "customer_df['AgeGroup'] = pd.cut(customer_df['age_now'], bins=bins, labels=labels, right=False)\n"
      ],
      "metadata": {
        "id": "NTQKE5AJy7ba"
      },
      "execution_count": 188,
      "outputs": []
    },
    {
      "cell_type": "code",
      "source": [
        "plt.figure(figsize=(10,6))\n",
        "sns.countplot(data=customer_df, x='AgeGroup', order= ['under10','10s','20s','30s','40s','over50'])\n",
        "plt.title('Age Group(2022)')\n",
        "plt.show()\n"
      ],
      "metadata": {
        "id": "N6AJ5RAHzaSd",
        "colab": {
          "base_uri": "https://localhost:8080/",
          "height": 506
        },
        "outputId": "d91ef6fb-3051-4a59-e4cd-f23cd47a4545"
      },
      "execution_count": 189,
      "outputs": [
        {
          "output_type": "display_data",
          "data": {
            "text/plain": [
              "<Figure size 1000x600 with 1 Axes>"
            ],
            "image/png": "[encoded data removed]"
          },
          "metadata": {}
        }
      ]
    },
    {
      "cell_type": "markdown",
      "source": [
        "##나이(현재시점)에 따른 제품 구매 추이"
      ],
      "metadata": {
        "id": "d902qfZuALCb"
      }
    },
    {
      "cell_type": "code",
      "source": [
        "# 나이(현재시점)에 따른 제품 구매 추이\n",
        "\n",
        "# transation,customer 데이터를 'customer_id' 컬럼 기준으로 병합\n",
        "trans_cust_df = pd.merge(transaction_df, customer_df, on='customer_id')\n",
        "\n",
        "# 각 상품의 매출액 계산\n",
        "trans_cust_df['sales'] = (trans_cust_df['item_price'] * trans_cust_df['quantity']- trans_cust_df['promo_amount'])\n",
        "\n",
        "# 나이(출생연도)에 따른 매출액 및 판매횟수 총합 .\n",
        "age_now_sales = trans_cust_df.groupby('age_now').agg({'sales': 'sum', 'customer_id': 'count'}).reset_index()\n",
        "age_now_sales.rename(columns={'sales': 'total_sales', 'customer_id': 'sales_count'}, inplace=True)\n",
        "\n",
        "age_now_sales"
      ],
      "metadata": {
        "id": "Ch5OOBq26MmI",
        "colab": {
          "base_uri": "https://localhost:8080/",
          "height": 1000
        },
        "outputId": "61cfcf16-3e8c-4df0-ad16-8115eef5f661"
      },
      "execution_count": 190,
      "outputs": [
        {
          "output_type": "execute_result",
          "data": {
            "text/plain": [
              "    age_now  total_sales  sales_count\n",
              "0         6     41600516          136\n",
              "1         7     50573949          152\n",
              "2         8     88415251          279\n",
              "3         9    155832099          489\n",
              "4        10    548562296         1474\n",
              "5        11   1288885259         3699\n",
              "6        12   2132722276         5693\n",
              "7        13   3623478469         9909\n",
              "8        14   6285049061        16892\n",
              "9        15   7235625591        19433\n",
              "10       16   9853307405        26592\n",
              "11       17  14362919814        38733\n",
              "12       18  15674808428        42582\n",
              "13       19  18820968830        51484\n",
              "14       20  21945955909        59434\n",
              "15       21  21017044570        57603\n",
              "16       22  24481879706        67070\n",
              "17       23  25895062006        70569\n",
              "18       24  26085486775        71272\n",
              "19       25  24563619453        67119\n",
              "20       26  25661880520        69607\n",
              "21       27  24794455389        67353\n",
              "22       28  22811415968        62444\n",
              "23       29  20306675258        55508\n",
              "24       30  19984586892        54753\n",
              "25       31  17930225859        48799\n",
              "26       32  15504103533        42474\n",
              "27       33  14754648839        39980\n",
              "28       34  12070894502        32957\n",
              "29       35  10445235473        28621\n",
              "30       36   8858382871        24251\n",
              "31       37   9042885197        24244\n",
              "32       38   6859266408        18910\n",
              "33       39   5629682193        15373\n",
              "34       40   4490757623        12295\n",
              "35       41   2998824378         8403\n",
              "36       42   2744223309         7411\n",
              "37       43   1936304329         5282\n",
              "38       44   1797687735         4865\n",
              "39       45   1833324465         5042\n",
              "40       46   1282333609         3520\n",
              "41       47    897173452         2499\n",
              "42       48    915597271         2566\n",
              "43       49    634721673         1708\n",
              "44       50    417636882         1137\n",
              "45       51    573145044         1600\n",
              "46       52    138830944          378\n",
              "47       53    319315372          864\n",
              "48       54    115561120          342\n",
              "49       55     40087427           90\n",
              "50       56    105111189          296\n",
              "51       57     38955512          115\n",
              "52       58      9402990           10\n",
              "53       59     54719810          171\n",
              "54       60      6540833           19\n",
              "55       61      4087671           13\n",
              "56       62      5687125           15\n",
              "57       63       762196            4\n",
              "58       65      9387877           20\n",
              "59       67      8347236           20\n",
              "60       68      3452509           12"
            ],
            "text/html": [
              "\n",
              "  <div id=\"df-1edc9a0d-0157-4e9b-806f-8c77ab924255\">\n",
              "    <div class=\"colab-df-container\">\n",
              "      <div>\n",
              "<style scoped>\n",
              "    .dataframe tbody tr th:only-of-type {\n",
              "        vertical-align: middle;\n",
              "    }\n",
              "\n",
              "    .dataframe tbody tr th {\n",
              "        vertical-align: top;\n",
              "    }\n",
              "\n",
              "    .dataframe thead th {\n",
              "        text-align: right;\n",
              "    }\n",
              "</style>\n",
              "<table border=\"1\" class=\"dataframe\">\n",
              "  <thead>\n",
              "    <tr style=\"text-align: right;\">\n",
              "      <th></th>\n",
              "      <th>age_now</th>\n",
              "      <th>total_sales</th>\n",
              "      <th>sales_count</th>\n",
              "    </tr>\n",
              "  </thead>\n",
              "  <tbody>\n",
              "    <tr>\n",
              "      <th>0</th>\n",
              "      <td>6</td>\n",
              "      <td>41600516</td>\n",
              "      <td>136</td>\n",
              "    </tr>\n",
              "    <tr>\n",
              "      <th>1</th>\n",
              "      <td>7</td>\n",
              "      <td>50573949</td>\n",
              "      <td>152</td>\n",
              "    </tr>\n",
              "    <tr>\n",
              "      <th>2</th>\n",
              "      <td>8</td>\n",
              "      <td>88415251</td>\n",
              "      <td>279</td>\n",
              "    </tr>\n",
              "    <tr>\n",
              "      <th>3</th>\n",
              "      <td>9</td>\n",
              "      <td>155832099</td>\n",
              "      <td>489</td>\n",
              "    </tr>\n",
              "    <tr>\n",
              "      <th>4</th>\n",
              "      <td>10</td>\n",
              "      <td>548562296</td>\n",
              "      <td>1474</td>\n",
              "    </tr>\n",
              "    <tr>\n",
              "      <th>5</th>\n",
              "      <td>11</td>\n",
              "      <td>1288885259</td>\n",
              "      <td>3699</td>\n",
              "    </tr>\n",
              "    <tr>\n",
              "      <th>6</th>\n",
              "      <td>12</td>\n",
              "      <td>2132722276</td>\n",
              "      <td>5693</td>\n",
              "    </tr>\n",
              "    <tr>\n",
              "      <th>7</th>\n",
              "      <td>13</td>\n",
              "      <td>3623478469</td>\n",
              "      <td>9909</td>\n",
              "    </tr>\n",
              "    <tr>\n",
              "      <th>8</th>\n",
              "      <td>14</td>\n",
              "      <td>6285049061</td>\n",
              "      <td>16892</td>\n",
              "    </tr>\n",
              "    <tr>\n",
              "      <th>9</th>\n",
              "      <td>15</td>\n",
              "      <td>7235625591</td>\n",
              "      <td>19433</td>\n",
              "    </tr>\n",
              "    <tr>\n",
              "      <th>10</th>\n",
              "      <td>16</td>\n",
              "      <td>9853307405</td>\n",
              "      <td>26592</td>\n",
              "    </tr>\n",
              "    <tr>\n",
              "      <th>11</th>\n",
              "      <td>17</td>\n",
              "      <td>14362919814</td>\n",
              "      <td>38733</td>\n",
              "    </tr>\n",
              "    <tr>\n",
              "      <th>12</th>\n",
              "      <td>18</td>\n",
              "      <td>15674808428</td>\n",
              "      <td>42582</td>\n",
              "    </tr>\n",
              "    <tr>\n",
              "      <th>13</th>\n",
              "      <td>19</td>\n",
              "      <td>18820968830</td>\n",
              "      <td>51484</td>\n",
              "    </tr>\n",
              "    <tr>\n",
              "      <th>14</th>\n",
              "      <td>20</td>\n",
              "      <td>21945955909</td>\n",
              "      <td>59434</td>\n",
              "    </tr>\n",
              "    <tr>\n",
              "      <th>15</th>\n",
              "      <td>21</td>\n",
              "      <td>21017044570</td>\n",
              "      <td>57603</td>\n",
              "    </tr>\n",
              "    <tr>\n",
              "      <th>16</th>\n",
              "      <td>22</td>\n",
              "      <td>24481879706</td>\n",
              "      <td>67070</td>\n",
              "    </tr>\n",
              "    <tr>\n",
              "      <th>17</th>\n",
              "      <td>23</td>\n",
              "      <td>25895062006</td>\n",
              "      <td>70569</td>\n",
              "    </tr>\n",
              "    <tr>\n",
              "      <th>18</th>\n",
              "      <td>24</td>\n",
              "      <td>26085486775</td>\n",
              "      <td>71272</td>\n",
              "    </tr>\n",
              "    <tr>\n",
              "      <th>19</th>\n",
              "      <td>25</td>\n",
              "      <td>24563619453</td>\n",
              "      <td>67119</td>\n",
              "    </tr>\n",
              "    <tr>\n",
              "      <th>20</th>\n",
              "      <td>26</td>\n",
              "      <td>25661880520</td>\n",
              "      <td>69607</td>\n",
              "    </tr>\n",
              "    <tr>\n",
              "      <th>21</th>\n",
              "      <td>27</td>\n",
              "      <td>24794455389</td>\n",
              "      <td>67353</td>\n",
              "    </tr>\n",
              "    <tr>\n",
              "      <th>22</th>\n",
              "      <td>28</td>\n",
              "      <td>22811415968</td>\n",
              "      <td>62444</td>\n",
              "    </tr>\n",
              "    <tr>\n",
              "      <th>23</th>\n",
              "      <td>29</td>\n",
              "      <td>20306675258</td>\n",
              "      <td>55508</td>\n",
              "    </tr>\n",
              "    <tr>\n",
              "      <th>24</th>\n",
              "      <td>30</td>\n",
              "      <td>19984586892</td>\n",
              "      <td>54753</td>\n",
              "    </tr>\n",
              "    <tr>\n",
              "      <th>25</th>\n",
              "      <td>31</td>\n",
              "      <td>17930225859</td>\n",
              "      <td>48799</td>\n",
              "    </tr>\n",
              "    <tr>\n",
              "      <th>26</th>\n",
              "      <td>32</td>\n",
              "      <td>15504103533</td>\n",
              "      <td>42474</td>\n",
              "    </tr>\n",
              "    <tr>\n",
              "      <th>27</th>\n",
              "      <td>33</td>\n",
              "      <td>14754648839</td>\n",
              "      <td>39980</td>\n",
              "    </tr>\n",
              "    <tr>\n",
              "      <th>28</th>\n",
              "      <td>34</td>\n",
              "      <td>12070894502</td>\n",
              "      <td>32957</td>\n",
              "    </tr>\n",
              "    <tr>\n",
              "      <th>29</th>\n",
              "      <td>35</td>\n",
              "      <td>10445235473</td>\n",
              "      <td>28621</td>\n",
              "    </tr>\n",
              "    <tr>\n",
              "      <th>30</th>\n",
              "      <td>36</td>\n",
              "      <td>8858382871</td>\n",
              "      <td>24251</td>\n",
              "    </tr>\n",
              "    <tr>\n",
              "      <th>31</th>\n",
              "      <td>37</td>\n",
              "      <td>9042885197</td>\n",
              "      <td>24244</td>\n",
              "    </tr>\n",
              "    <tr>\n",
              "      <th>32</th>\n",
              "      <td>38</td>\n",
              "      <td>6859266408</td>\n",
              "      <td>18910</td>\n",
              "    </tr>\n",
              "    <tr>\n",
              "      <th>33</th>\n",
              "      <td>39</td>\n",
              "      <td>5629682193</td>\n",
              "      <td>15373</td>\n",
              "    </tr>\n",
              "    <tr>\n",
              "      <th>34</th>\n",
              "      <td>40</td>\n",
              "      <td>4490757623</td>\n",
              "      <td>12295</td>\n",
              "    </tr>\n",
              "    <tr>\n",
              "      <th>35</th>\n",
              "      <td>41</td>\n",
              "      <td>2998824378</td>\n",
              "      <td>8403</td>\n",
              "    </tr>\n",
              "    <tr>\n",
              "      <th>36</th>\n",
              "      <td>42</td>\n",
              "      <td>2744223309</td>\n",
              "      <td>7411</td>\n",
              "    </tr>\n",
              "    <tr>\n",
              "      <th>37</th>\n",
              "      <td>43</td>\n",
              "      <td>1936304329</td>\n",
              "      <td>5282</td>\n",
              "    </tr>\n",
              "    <tr>\n",
              "      <th>38</th>\n",
              "      <td>44</td>\n",
              "      <td>1797687735</td>\n",
              "      <td>4865</td>\n",
              "    </tr>\n",
              "    <tr>\n",
              "      <th>39</th>\n",
              "      <td>45</td>\n",
              "      <td>1833324465</td>\n",
              "      <td>5042</td>\n",
              "    </tr>\n",
              "    <tr>\n",
              "      <th>40</th>\n",
              "      <td>46</td>\n",
              "      <td>1282333609</td>\n",
              "      <td>3520</td>\n",
              "    </tr>\n",
              "    <tr>\n",
              "      <th>41</th>\n",
              "      <td>47</td>\n",
              "      <td>897173452</td>\n",
              "      <td>2499</td>\n",
              "    </tr>\n",
              "    <tr>\n",
              "      <th>42</th>\n",
              "      <td>48</td>\n",
              "      <td>915597271</td>\n",
              "      <td>2566</td>\n",
              "    </tr>\n",
              "    <tr>\n",
              "      <th>43</th>\n",
              "      <td>49</td>\n",
              "      <td>634721673</td>\n",
              "      <td>1708</td>\n",
              "    </tr>\n",
              "    <tr>\n",
              "      <th>44</th>\n",
              "      <td>50</td>\n",
              "      <td>417636882</td>\n",
              "      <td>1137</td>\n",
              "    </tr>\n",
              "    <tr>\n",
              "      <th>45</th>\n",
              "      <td>51</td>\n",
              "      <td>573145044</td>\n",
              "      <td>1600</td>\n",
              "    </tr>\n",
              "    <tr>\n",
              "      <th>46</th>\n",
              "      <td>52</td>\n",
              "      <td>138830944</td>\n",
              "      <td>378</td>\n",
              "    </tr>\n",
              "    <tr>\n",
              "      <th>47</th>\n",
              "      <td>53</td>\n",
              "      <td>319315372</td>\n",
              "      <td>864</td>\n",
              "    </tr>\n",
              "    <tr>\n",
              "      <th>48</th>\n",
              "      <td>54</td>\n",
              "      <td>115561120</td>\n",
              "      <td>342</td>\n",
              "    </tr>\n",
              "    <tr>\n",
              "      <th>49</th>\n",
              "      <td>55</td>\n",
              "      <td>40087427</td>\n",
              "      <td>90</td>\n",
              "    </tr>\n",
              "    <tr>\n",
              "      <th>50</th>\n",
              "      <td>56</td>\n",
              "      <td>105111189</td>\n",
              "      <td>296</td>\n",
              "    </tr>\n",
              "    <tr>\n",
              "      <th>51</th>\n",
              "      <td>57</td>\n",
              "      <td>38955512</td>\n",
              "      <td>115</td>\n",
              "    </tr>\n",
              "    <tr>\n",
              "      <th>52</th>\n",
              "      <td>58</td>\n",
              "      <td>9402990</td>\n",
              "      <td>10</td>\n",
              "    </tr>\n",
              "    <tr>\n",
              "      <th>53</th>\n",
              "      <td>59</td>\n",
              "      <td>54719810</td>\n",
              "      <td>171</td>\n",
              "    </tr>\n",
              "    <tr>\n",
              "      <th>54</th>\n",
              "      <td>60</td>\n",
              "      <td>6540833</td>\n",
              "      <td>19</td>\n",
              "    </tr>\n",
              "    <tr>\n",
              "      <th>55</th>\n",
              "      <td>61</td>\n",
              "      <td>4087671</td>\n",
              "      <td>13</td>\n",
              "    </tr>\n",
              "    <tr>\n",
              "      <th>56</th>\n",
              "      <td>62</td>\n",
              "      <td>5687125</td>\n",
              "      <td>15</td>\n",
              "    </tr>\n",
              "    <tr>\n",
              "      <th>57</th>\n",
              "      <td>63</td>\n",
              "      <td>762196</td>\n",
              "      <td>4</td>\n",
              "    </tr>\n",
              "    <tr>\n",
              "      <th>58</th>\n",
              "      <td>65</td>\n",
              "      <td>9387877</td>\n",
              "      <td>20</td>\n",
              "    </tr>\n",
              "    <tr>\n",
              "      <th>59</th>\n",
              "      <td>67</td>\n",
              "      <td>8347236</td>\n",
              "      <td>20</td>\n",
              "    </tr>\n",
              "    <tr>\n",
              "      <th>60</th>\n",
              "      <td>68</td>\n",
              "      <td>3452509</td>\n",
              "      <td>12</td>\n",
              "    </tr>\n",
              "  </tbody>\n",
              "</table>\n",
              "</div>\n",
              "      <button class=\"colab-df-convert\" onclick=\"convertToInteractive('df-1edc9a0d-0157-4e9b-806f-8c77ab924255')\"\n",
              "              title=\"Convert this dataframe to an interactive table.\"\n",
              "              style=\"display:none;\">\n",
              "        \n",
              "  <svg xmlns=\"http://www.w3.org/2000/svg\" height=\"24px\"viewBox=\"0 0 24 24\"\n",
              "       width=\"24px\">\n",
              "    <path d=\"M0 0h24v24H0V0z\" fill=\"none\"/>\n",
              "    <path d=\"M18.56 5.44l.94 2.06.94-2.06 2.06-.94-2.06-.94-.94-2.06-.94 2.06-2.06.94zm-11 1L8.5 8.5l.94-2.06 2.06-.94-2.06-.94L8.5 2.5l-.94 2.06-2.06.94zm10 10l.94 2.06.94-2.06 2.06-.94-2.06-.94-.94-2.06-.94 2.06-2.06.94z\"/><path d=\"M17.41 7.96l-1.37-1.37c-.4-.4-.92-.59-1.43-.59-.52 0-1.04.2-1.43.59L10.3 9.45l-7.72 7.72c-.78.78-.78 2.05 0 2.83L4 21.41c.39.39.9.59 1.41.59.51 0 1.02-.2 1.41-.59l7.78-7.78 2.81-2.81c.8-.78.8-2.07 0-2.86zM5.41 20L4 18.59l7.72-7.72 1.47 1.35L5.41 20z\"/>\n",
              "  </svg>\n",
              "      </button>\n",
              "      \n",
              "  <style>\n",
              "    .colab-df-container {\n",
              "      display:flex;\n",
              "      flex-wrap:wrap;\n",
              "      gap: 12px;\n",
              "    }\n",
              "\n",
              "    .colab-df-convert {\n",
              "      background-color: #E8F0FE;\n",
              "      border: none;\n",
              "      border-radius: 50%;\n",
              "      cursor: pointer;\n",
              "      display: none;\n",
              "      fill: #1967D2;\n",
              "      height: 32px;\n",
              "      padding: 0 0 0 0;\n",
              "      width: 32px;\n",
              "    }\n",
              "\n",
              "    .colab-df-convert:hover {\n",
              "      background-color: #E2EBFA;\n",
              "      box-shadow: 0px 1px 2px rgba(60, 64, 67, 0.3), 0px 1px 3px 1px rgba(60, 64, 67, 0.15);\n",
              "      fill: #174EA6;\n",
              "    }\n",
              "\n",
              "    [theme=dark] .colab-df-convert {\n",
              "      background-color: #3B4455;\n",
              "      fill: #D2E3FC;\n",
              "    }\n",
              "\n",
              "    [theme=dark] .colab-df-convert:hover {\n",
              "      background-color: #434B5C;\n",
              "      box-shadow: 0px 1px 3px 1px rgba(0, 0, 0, 0.15);\n",
              "      filter: drop-shadow(0px 1px 2px rgba(0, 0, 0, 0.3));\n",
              "      fill: #FFFFFF;\n",
              "    }\n",
              "  </style>\n",
              "\n",
              "      <script>\n",
              "        const buttonEl =\n",
              "          document.querySelector('#df-1edc9a0d-0157-4e9b-806f-8c77ab924255 button.colab-df-convert');\n",
              "        buttonEl.style.display =\n",
              "          google.colab.kernel.accessAllowed ? 'block' : 'none';\n",
              "\n",
              "        async function convertToInteractive(key) {\n",
              "          const element = document.querySelector('#df-1edc9a0d-0157-4e9b-806f-8c77ab924255');\n",
              "          const dataTable =\n",
              "            await google.colab.kernel.invokeFunction('convertToInteractive',\n",
              "                                                     [key], {});\n",
              "          if (!dataTable) return;\n",
              "\n",
              "          const docLinkHtml = 'Like what you see? Visit the ' +\n",
              "            '<a target=\"_blank\" href=https://colab.research.google.com/notebooks/data_table.ipynb>data table notebook</a>'\n",
              "            + ' to learn more about interactive tables.';\n",
              "          element.innerHTML = '';\n",
              "          dataTable['output_type'] = 'display_data';\n",
              "          await google.colab.output.renderOutput(dataTable, element);\n",
              "          const docLink = document.createElement('div');\n",
              "          docLink.innerHTML = docLinkHtml;\n",
              "          element.appendChild(docLink);\n",
              "        }\n",
              "      </script>\n",
              "    </div>\n",
              "  </div>\n",
              "  "
            ]
          },
          "metadata": {},
          "execution_count": 190
        }
      ]
    },
    {
      "cell_type": "code",
      "source": [
        "# 나이(현재시점)에 따른 제품 구매 추이\n",
        "\n",
        "# transation,customer 데이터를 'customer_id' 컬럼 기준으로 병합\n",
        "trans_cust_df = pd.merge(transaction_df, customer_df, on='customer_id')\n",
        "\n",
        "# 각 상품의 매출액 계산\n",
        "trans_cust_df['sales'] = (trans_cust_df['item_price'] * trans_cust_df['quantity']- trans_cust_df['promo_amount'])\n",
        "\n",
        "# 나이에 따른 매출액 및 판매횟수 총합 .\n",
        "age_now_sales = trans_cust_df.groupby('age_now').agg({'sales': 'sum', 'customer_id': 'count'}).reset_index()\n",
        "age_now_sales.rename(columns={'sales': 'total_sales', 'customer_id': 'sales_count'}, inplace=True)"
      ],
      "metadata": {
        "id": "Bw7bnPbIAExq"
      },
      "execution_count": 191,
      "outputs": []
    },
    {
      "cell_type": "code",
      "source": [
        "# 나이에 따른 총 구매액\n",
        "plt.figure(figsize=(10, 6))\n",
        "\n",
        "# 'total_sales' 그래프\n",
        "plt.plot(age_now_sales['age_now'], age_now_sales['total_sales'], label='Total Sales', marker='o')\n",
        "\n",
        "plt.xlabel('Age')\n",
        "plt.ylabel('Value')\n",
        "plt.title('Age vs Total Sales')\n",
        "plt.legend()\n",
        "\n",
        "plt.show()\n"
      ],
      "metadata": {
        "id": "UFXrw77-8_JU",
        "colab": {
          "base_uri": "https://localhost:8080/",
          "height": 519
        },
        "outputId": "bcc7a258-feb8-43d4-d1b6-aa5fd1955865"
      },
      "execution_count": 193,
      "outputs": [
        {
          "output_type": "display_data",
          "data": {
            "text/plain": [
              "<Figure size 1000x600 with 1 Axes>"
            ],
            "image/png": "[encoded data removed]"
          },
          "metadata": {}
        }
      ]
    },
    {
      "cell_type": "code",
      "source": [
        "#나이에 따른 총 구매 횟수\n",
        "# 'sales_count' 그래프\n",
        "plt.figure(figsize=(10, 6))\n",
        "plt.plot(age_now_sales['age_now'], age_now_sales['sales_count'], label='Sales Count', marker='o')\n",
        "plt.xlabel('Age')\n",
        "plt.ylabel('Value')\n",
        "plt.title('Age vs Sales Count')\n",
        "plt.legend()\n",
        "\n",
        "plt.show()\n"
      ],
      "metadata": {
        "id": "GThNUU8n9ngh",
        "colab": {
          "base_uri": "https://localhost:8080/",
          "height": 506
        },
        "outputId": "2e8d7016-0aa8-4f44-de4d-725a07b5cb7c"
      },
      "execution_count": 192,
      "outputs": [
        {
          "output_type": "display_data",
          "data": {
            "text/plain": [
              "<Figure size 1000x600 with 1 Axes>"
            ],
            "image/png": "[encoded data removed]"
          },
          "metadata": {}
        }
      ]
    },
    {
      "cell_type": "markdown",
      "source": [
        "##나이그룹(현재시점)에 따른 제품 구매 추이"
      ],
      "metadata": {
        "id": "lAIkFhe1DvmT"
      }
    },
    {
      "cell_type": "code",
      "source": [
        "# 'transaction_df'와 'customer_df' 머지\n",
        "trans_cust_df = pd.merge(transaction_df, customer_df, on='customer_id')\n",
        "\n",
        "# 각 상품의 매출액 계산\n",
        "trans_cust_df['sales'] = (trans_cust_df['item_price'] * trans_cust_df['quantity'] - trans_cust_df['promo_amount'])\n",
        "\n",
        "# 'AgeGroup'에 따른 매출액 및 판매횟수 총합 계산\n",
        "agegroup_sales = trans_cust_df.groupby('AgeGroup').agg({'sales': 'sum', 'customer_id': 'count'}).reset_index()\n",
        "agegroup_sales.rename(columns={'sales': 'total_sales', 'customer_id': 'sales_count'}, inplace=True)\n",
        "agegroup_sales\n"
      ],
      "metadata": {
        "colab": {
          "base_uri": "https://localhost:8080/",
          "height": 237
        },
        "id": "C_zkovKaCMpL",
        "outputId": "1f0cd503-e70d-4948-b709-e9d74234436a"
      },
      "execution_count": 194,
      "outputs": [
        {
          "output_type": "execute_result",
          "data": {
            "text/plain": [
              "  AgeGroup   total_sales  sales_count\n",
              "0  under10     336421815         1056\n",
              "1      10s   79826327429       216491\n",
              "2      20s  237563475554       647979\n",
              "3      30s  121079911767       330362\n",
              "4      40s   19530947844        53591\n",
              "5   over50    1851031737         5106"
            ],
            "text/html": [
              "\n",
              "  <div id=\"df-30e61582-dae7-4325-a57c-9ab2d2803874\">\n",
              "    <div class=\"colab-df-container\">\n",
              "      <div>\n",
              "<style scoped>\n",
              "    .dataframe tbody tr th:only-of-type {\n",
              "        vertical-align: middle;\n",
              "    }\n",
              "\n",
              "    .dataframe tbody tr th {\n",
              "        vertical-align: top;\n",
              "    }\n",
              "\n",
              "    .dataframe thead th {\n",
              "        text-align: right;\n",
              "    }\n",
              "</style>\n",
              "<table border=\"1\" class=\"dataframe\">\n",
              "  <thead>\n",
              "    <tr style=\"text-align: right;\">\n",
              "      <th></th>\n",
              "      <th>AgeGroup</th>\n",
              "      <th>total_sales</th>\n",
              "      <th>sales_count</th>\n",
              "    </tr>\n",
              "  </thead>\n",
              "  <tbody>\n",
              "    <tr>\n",
              "      <th>0</th>\n",
              "      <td>under10</td>\n",
              "      <td>336421815</td>\n",
              "      <td>1056</td>\n",
              "    </tr>\n",
              "    <tr>\n",
              "      <th>1</th>\n",
              "      <td>10s</td>\n",
              "      <td>79826327429</td>\n",
              "      <td>216491</td>\n",
              "    </tr>\n",
              "    <tr>\n",
              "      <th>2</th>\n",
              "      <td>20s</td>\n",
              "      <td>237563475554</td>\n",
              "      <td>647979</td>\n",
              "    </tr>\n",
              "    <tr>\n",
              "      <th>3</th>\n",
              "      <td>30s</td>\n",
              "      <td>121079911767</td>\n",
              "      <td>330362</td>\n",
              "    </tr>\n",
              "    <tr>\n",
              "      <th>4</th>\n",
              "      <td>40s</td>\n",
              "      <td>19530947844</td>\n",
              "      <td>53591</td>\n",
              "    </tr>\n",
              "    <tr>\n",
              "      <th>5</th>\n",
              "      <td>over50</td>\n",
              "      <td>1851031737</td>\n",
              "      <td>5106</td>\n",
              "    </tr>\n",
              "  </tbody>\n",
              "</table>\n",
              "</div>\n",
              "      <button class=\"colab-df-convert\" onclick=\"convertToInteractive('df-30e61582-dae7-4325-a57c-9ab2d2803874')\"\n",
              "              title=\"Convert this dataframe to an interactive table.\"\n",
              "              style=\"display:none;\">\n",
              "        \n",
              "  <svg xmlns=\"http://www.w3.org/2000/svg\" height=\"24px\"viewBox=\"0 0 24 24\"\n",
              "       width=\"24px\">\n",
              "    <path d=\"M0 0h24v24H0V0z\" fill=\"none\"/>\n",
              "    <path d=\"M18.56 5.44l.94 2.06.94-2.06 2.06-.94-2.06-.94-.94-2.06-.94 2.06-2.06.94zm-11 1L8.5 8.5l.94-2.06 2.06-.94-2.06-.94L8.5 2.5l-.94 2.06-2.06.94zm10 10l.94 2.06.94-2.06 2.06-.94-2.06-.94-.94-2.06-.94 2.06-2.06.94z\"/><path d=\"M17.41 7.96l-1.37-1.37c-.4-.4-.92-.59-1.43-.59-.52 0-1.04.2-1.43.59L10.3 9.45l-7.72 7.72c-.78.78-.78 2.05 0 2.83L4 21.41c.39.39.9.59 1.41.59.51 0 1.02-.2 1.41-.59l7.78-7.78 2.81-2.81c.8-.78.8-2.07 0-2.86zM5.41 20L4 18.59l7.72-7.72 1.47 1.35L5.41 20z\"/>\n",
              "  </svg>\n",
              "      </button>\n",
              "      \n",
              "  <style>\n",
              "    .colab-df-container {\n",
              "      display:flex;\n",
              "      flex-wrap:wrap;\n",
              "      gap: 12px;\n",
              "    }\n",
              "\n",
              "    .colab-df-convert {\n",
              "      background-color: #E8F0FE;\n",
              "      border: none;\n",
              "      border-radius: 50%;\n",
              "      cursor: pointer;\n",
              "      display: none;\n",
              "      fill: #1967D2;\n",
              "      height: 32px;\n",
              "      padding: 0 0 0 0;\n",
              "      width: 32px;\n",
              "    }\n",
              "\n",
              "    .colab-df-convert:hover {\n",
              "      background-color: #E2EBFA;\n",
              "      box-shadow: 0px 1px 2px rgba(60, 64, 67, 0.3), 0px 1px 3px 1px rgba(60, 64, 67, 0.15);\n",
              "      fill: #174EA6;\n",
              "    }\n",
              "\n",
              "    [theme=dark] .colab-df-convert {\n",
              "      background-color: #3B4455;\n",
              "      fill: #D2E3FC;\n",
              "    }\n",
              "\n",
              "    [theme=dark] .colab-df-convert:hover {\n",
              "      background-color: #434B5C;\n",
              "      box-shadow: 0px 1px 3px 1px rgba(0, 0, 0, 0.15);\n",
              "      filter: drop-shadow(0px 1px 2px rgba(0, 0, 0, 0.3));\n",
              "      fill: #FFFFFF;\n",
              "    }\n",
              "  </style>\n",
              "\n",
              "      <script>\n",
              "        const buttonEl =\n",
              "          document.querySelector('#df-30e61582-dae7-4325-a57c-9ab2d2803874 button.colab-df-convert');\n",
              "        buttonEl.style.display =\n",
              "          google.colab.kernel.accessAllowed ? 'block' : 'none';\n",
              "\n",
              "        async function convertToInteractive(key) {\n",
              "          const element = document.querySelector('#df-30e61582-dae7-4325-a57c-9ab2d2803874');\n",
              "          const dataTable =\n",
              "            await google.colab.kernel.invokeFunction('convertToInteractive',\n",
              "                                                     [key], {});\n",
              "          if (!dataTable) return;\n",
              "\n",
              "          const docLinkHtml = 'Like what you see? Visit the ' +\n",
              "            '<a target=\"_blank\" href=https://colab.research.google.com/notebooks/data_table.ipynb>data table notebook</a>'\n",
              "            + ' to learn more about interactive tables.';\n",
              "          element.innerHTML = '';\n",
              "          dataTable['output_type'] = 'display_data';\n",
              "          await google.colab.output.renderOutput(dataTable, element);\n",
              "          const docLink = document.createElement('div');\n",
              "          docLink.innerHTML = docLinkHtml;\n",
              "          element.appendChild(docLink);\n",
              "        }\n",
              "      </script>\n",
              "    </div>\n",
              "  </div>\n",
              "  "
            ]
          },
          "metadata": {},
          "execution_count": 194
        }
      ]
    },
    {
      "cell_type": "code",
      "source": [
        "# 매출액(total_sales)와 판매 횟수(sales_count) 시각화\n",
        "# 'total_sales' 그래프\n",
        "plt.plot(agegroup_sales['AgeGroup'], agegroup_sales['total_sales'], label='Total Sales', marker='o')\n",
        "\n",
        "plt.xlabel('Age Group')\n",
        "plt.ylabel('Value')\n",
        "plt.title('Age Group vs Total Sales')\n",
        "plt.legend()\n",
        "\n",
        "plt.show()\n"
      ],
      "metadata": {
        "colab": {
          "base_uri": "https://localhost:8080/",
          "height": 472
        },
        "id": "K2unSQQqDaY_",
        "outputId": "fcfd0314-7f64-4e8b-a2ca-18d4991bbb25"
      },
      "execution_count": 195,
      "outputs": [
        {
          "output_type": "display_data",
          "data": {
            "text/plain": [
              "<Figure size 640x480 with 1 Axes>"
            ],
            "image/png": "[encoded data removed]"
          },
          "metadata": {}
        }
      ]
    },
    {
      "cell_type": "code",
      "source": [
        "# 'sales_count' 그래프\n",
        "plt.plot(agegroup_sales['AgeGroup'], agegroup_sales['sales_count'], label='Sales Count', marker='o')\n",
        "\n",
        "plt.xlabel('Age Group')\n",
        "plt.ylabel('Value')\n",
        "plt.title('Age Group vs Sales Count')\n",
        "plt.legend()\n",
        "\n",
        "plt.show()"
      ],
      "metadata": {
        "colab": {
          "base_uri": "https://localhost:8080/",
          "height": 472
        },
        "id": "eulerAPsDSfE",
        "outputId": "fa7f568c-85e7-48dc-f22b-00bd92c96502"
      },
      "execution_count": 196,
      "outputs": [
        {
          "output_type": "display_data",
          "data": {
            "text/plain": [
              "<Figure size 640x480 with 1 Axes>"
            ],
            "image/png": "[encoded data removed]"
          },
          "metadata": {}
        }
      ]
    },
    {
      "cell_type": "markdown",
      "source": [
        "##age segmentation"
      ],
      "metadata": {
        "id": "U2ULJzm7eR2_"
      }
    },
    {
      "cell_type": "markdown",
      "source": [
        "### 총 매출,구매횟수,단가"
      ],
      "metadata": {
        "id": "GPvuYV_tGdEk"
      }
    },
    {
      "cell_type": "code",
      "source": [
        "# 연령 구간 설정\n",
        "\n",
        "bins = [0, 14, 20, 25, 30, 35, float('inf')]\n",
        "# float('inf')는 무한대를 의미하며, 이를 이용해 36세 이상을 모두 포함합니다.\n",
        "\n",
        "# 각 연령 구간에 대한 레이블 설정\n",
        "labels = ['non-target minor(0-14)', 'minor(15-20)', 'Early 20s(21-25)', 'Late 20s(26-30)', 'Early 30s(31-35)', 'non-target adults(36-)']\n",
        "\n",
        "# cut 함수를 이용해 'age_group' 컬럼 생성\n",
        "customer_df['age_segment'] = pd.cut(customer_df['age_now'], bins=bins, labels=labels)\n",
        "customer_df['age_segment'].value_counts()"
      ],
      "metadata": {
        "id": "yswSl9D0eRiR",
        "outputId": "a201fbf4-b9a4-4403-e76d-de085f2d2b74",
        "colab": {
          "base_uri": "https://localhost:8080/"
        }
      },
      "execution_count": 210,
      "outputs": [
        {
          "output_type": "execute_result",
          "data": {
            "text/plain": [
              "Early 20s(21-25)          26766\n",
              "Late 20s(26-30)           24974\n",
              "minor(15-20)              18325\n",
              "Early 30s(31-35)          15638\n",
              "non-target adults(36-)    11442\n",
              "non-target minor(0-14)     2855\n",
              "Name: age_segment, dtype: int64"
            ]
          },
          "metadata": {},
          "execution_count": 210
        }
      ]
    },
    {
      "cell_type": "code",
      "source": [
        "plt.figure(figsize=(10,6))\n",
        "sns.countplot(data=customer_df, x='age_segment', order=labels)\n",
        "plt.title('Customer Distribution by Age Segment')\n",
        "plt.xlabel('Age Segment')\n",
        "plt.ylabel('Number of Customers')\n",
        "plt.xticks(rotation=45)\n",
        "plt.show()"
      ],
      "metadata": {
        "id": "PNVMC9lK4xWU",
        "outputId": "84e43f08-3e56-4814-eb93-5039078b412c",
        "colab": {
          "base_uri": "https://localhost:8080/",
          "height": 604
        }
      },
      "execution_count": 211,
      "outputs": [
        {
          "output_type": "display_data",
          "data": {
            "text/plain": [
              "<Figure size 1000x600 with 1 Axes>"
            ],
            "image/png": "[encoded data removed]"
          },
          "metadata": {}
        }
      ]
    },
    {
      "cell_type": "code",
      "source": [
        "# 'transaction_df'와 'customer_df' 머지\n",
        "trans_cust_df = pd.merge(transaction_df, customer_df, on='customer_id')\n",
        "\n",
        "# 각 상품의 매출액 계산\n",
        "trans_cust_df['sales'] = (trans_cust_df['item_price'] * trans_cust_df['quantity'] - trans_cust_df['promo_amount'])\n",
        "\n",
        "# 'age_segment'에 따른 매출액 및 판매횟수 총합 계산\n",
        "age_segment_sales = trans_cust_df.groupby('age_segment').agg({'sales': 'sum', 'customer_id': 'count'}).reset_index()\n",
        "age_segment_sales.rename(columns={'sales': 'total_sales', 'customer_id': 'sales_count'}, inplace=True)\n",
        "age_segment_sales['seg_transaction'] =  age_segment_sales['total_sales'] / age_segment_sales['sales_count']\n",
        "age_segment_sales"
      ],
      "metadata": {
        "id": "CXTzW7ZY4A7k",
        "outputId": "585a151b-fff7-4ea8-9496-124f156db183",
        "colab": {
          "base_uri": "https://localhost:8080/",
          "height": 237
        }
      },
      "execution_count": 214,
      "outputs": [
        {
          "output_type": "execute_result",
          "data": {
            "text/plain": [
              "              age_segment   total_sales  sales_count  seg_transaction\n",
              "0  non-target minor(0-14)   14215119176        38723        367097.57\n",
              "1            minor(15-20)   87893585977       238258        368900.88\n",
              "2        Early 20s(21-25)  122043092510       333633        365800.42\n",
              "3         Late 20s(26-30)  113559014027       309665        366715.69\n",
              "4        Early 30s(31-35)   70705108206       192831        366668.78\n",
              "5  non-target adults(36-)   51772196250       141475        365945.90"
            ],
            "text/html": [
              "\n",
              "  <div id=\"df-e3506f87-7ce7-4793-9c83-a58cfcdf3f4e\">\n",
              "    <div class=\"colab-df-container\">\n",
              "      <div>\n",
              "<style scoped>\n",
              "    .dataframe tbody tr th:only-of-type {\n",
              "        vertical-align: middle;\n",
              "    }\n",
              "\n",
              "    .dataframe tbody tr th {\n",
              "        vertical-align: top;\n",
              "    }\n",
              "\n",
              "    .dataframe thead th {\n",
              "        text-align: right;\n",
              "    }\n",
              "</style>\n",
              "<table border=\"1\" class=\"dataframe\">\n",
              "  <thead>\n",
              "    <tr style=\"text-align: right;\">\n",
              "      <th></th>\n",
              "      <th>age_segment</th>\n",
              "      <th>total_sales</th>\n",
              "      <th>sales_count</th>\n",
              "      <th>seg_transaction</th>\n",
              "    </tr>\n",
              "  </thead>\n",
              "  <tbody>\n",
              "    <tr>\n",
              "      <th>0</th>\n",
              "      <td>non-target minor(0-14)</td>\n",
              "      <td>14215119176</td>\n",
              "      <td>38723</td>\n",
              "      <td>367097.57</td>\n",
              "    </tr>\n",
              "    <tr>\n",
              "      <th>1</th>\n",
              "      <td>minor(15-20)</td>\n",
              "      <td>87893585977</td>\n",
              "      <td>238258</td>\n",
              "      <td>368900.88</td>\n",
              "    </tr>\n",
              "    <tr>\n",
              "      <th>2</th>\n",
              "      <td>Early 20s(21-25)</td>\n",
              "      <td>122043092510</td>\n",
              "      <td>333633</td>\n",
              "      <td>365800.42</td>\n",
              "    </tr>\n",
              "    <tr>\n",
              "      <th>3</th>\n",
              "      <td>Late 20s(26-30)</td>\n",
              "      <td>113559014027</td>\n",
              "      <td>309665</td>\n",
              "      <td>366715.69</td>\n",
              "    </tr>\n",
              "    <tr>\n",
              "      <th>4</th>\n",
              "      <td>Early 30s(31-35)</td>\n",
              "      <td>70705108206</td>\n",
              "      <td>192831</td>\n",
              "      <td>366668.78</td>\n",
              "    </tr>\n",
              "    <tr>\n",
              "      <th>5</th>\n",
              "      <td>non-target adults(36-)</td>\n",
              "      <td>51772196250</td>\n",
              "      <td>141475</td>\n",
              "      <td>365945.90</td>\n",
              "    </tr>\n",
              "  </tbody>\n",
              "</table>\n",
              "</div>\n",
              "      <button class=\"colab-df-convert\" onclick=\"convertToInteractive('df-e3506f87-7ce7-4793-9c83-a58cfcdf3f4e')\"\n",
              "              title=\"Convert this dataframe to an interactive table.\"\n",
              "              style=\"display:none;\">\n",
              "        \n",
              "  <svg xmlns=\"http://www.w3.org/2000/svg\" height=\"24px\"viewBox=\"0 0 24 24\"\n",
              "       width=\"24px\">\n",
              "    <path d=\"M0 0h24v24H0V0z\" fill=\"none\"/>\n",
              "    <path d=\"M18.56 5.44l.94 2.06.94-2.06 2.06-.94-2.06-.94-.94-2.06-.94 2.06-2.06.94zm-11 1L8.5 8.5l.94-2.06 2.06-.94-2.06-.94L8.5 2.5l-.94 2.06-2.06.94zm10 10l.94 2.06.94-2.06 2.06-.94-2.06-.94-.94-2.06-.94 2.06-2.06.94z\"/><path d=\"M17.41 7.96l-1.37-1.37c-.4-.4-.92-.59-1.43-.59-.52 0-1.04.2-1.43.59L10.3 9.45l-7.72 7.72c-.78.78-.78 2.05 0 2.83L4 21.41c.39.39.9.59 1.41.59.51 0 1.02-.2 1.41-.59l7.78-7.78 2.81-2.81c.8-.78.8-2.07 0-2.86zM5.41 20L4 18.59l7.72-7.72 1.47 1.35L5.41 20z\"/>\n",
              "  </svg>\n",
              "      </button>\n",
              "      \n",
              "  <style>\n",
              "    .colab-df-container {\n",
              "      display:flex;\n",
              "      flex-wrap:wrap;\n",
              "      gap: 12px;\n",
              "    }\n",
              "\n",
              "    .colab-df-convert {\n",
              "      background-color: #E8F0FE;\n",
              "      border: none;\n",
              "      border-radius: 50%;\n",
              "      cursor: pointer;\n",
              "      display: none;\n",
              "      fill: #1967D2;\n",
              "      height: 32px;\n",
              "      padding: 0 0 0 0;\n",
              "      width: 32px;\n",
              "    }\n",
              "\n",
              "    .colab-df-convert:hover {\n",
              "      background-color: #E2EBFA;\n",
              "      box-shadow: 0px 1px 2px rgba(60, 64, 67, 0.3), 0px 1px 3px 1px rgba(60, 64, 67, 0.15);\n",
              "      fill: #174EA6;\n",
              "    }\n",
              "\n",
              "    [theme=dark] .colab-df-convert {\n",
              "      background-color: #3B4455;\n",
              "      fill: #D2E3FC;\n",
              "    }\n",
              "\n",
              "    [theme=dark] .colab-df-convert:hover {\n",
              "      background-color: #434B5C;\n",
              "      box-shadow: 0px 1px 3px 1px rgba(0, 0, 0, 0.15);\n",
              "      filter: drop-shadow(0px 1px 2px rgba(0, 0, 0, 0.3));\n",
              "      fill: #FFFFFF;\n",
              "    }\n",
              "  </style>\n",
              "\n",
              "      <script>\n",
              "        const buttonEl =\n",
              "          document.querySelector('#df-e3506f87-7ce7-4793-9c83-a58cfcdf3f4e button.colab-df-convert');\n",
              "        buttonEl.style.display =\n",
              "          google.colab.kernel.accessAllowed ? 'block' : 'none';\n",
              "\n",
              "        async function convertToInteractive(key) {\n",
              "          const element = document.querySelector('#df-e3506f87-7ce7-4793-9c83-a58cfcdf3f4e');\n",
              "          const dataTable =\n",
              "            await google.colab.kernel.invokeFunction('convertToInteractive',\n",
              "                                                     [key], {});\n",
              "          if (!dataTable) return;\n",
              "\n",
              "          const docLinkHtml = 'Like what you see? Visit the ' +\n",
              "            '<a target=\"_blank\" href=https://colab.research.google.com/notebooks/data_table.ipynb>data table notebook</a>'\n",
              "            + ' to learn more about interactive tables.';\n",
              "          element.innerHTML = '';\n",
              "          dataTable['output_type'] = 'display_data';\n",
              "          await google.colab.output.renderOutput(dataTable, element);\n",
              "          const docLink = document.createElement('div');\n",
              "          docLink.innerHTML = docLinkHtml;\n",
              "          element.appendChild(docLink);\n",
              "        }\n",
              "      </script>\n",
              "    </div>\n",
              "  </div>\n",
              "  "
            ]
          },
          "metadata": {},
          "execution_count": 214
        }
      ]
    },
    {
      "cell_type": "code",
      "source": [
        "# 매출액(total_sales)와 판매 횟수(sales_count) 시각화\n",
        "# 매출액 'total_sales' 그래프\n",
        "plt.plot(age_segment_sales['age_segment'], age_segment_sales['total_sales'], label='Total Sales', marker='o')\n",
        "\n",
        "plt.xlabel('Age segment Group')\n",
        "plt.ylabel('Value')\n",
        "plt.title('Age segment Group vs Total Sales')\n",
        "plt.legend()\n",
        "plt.xticks(rotation=45)\n",
        "\n",
        "plt.show()\n"
      ],
      "metadata": {
        "id": "l2B6CSLC63Gi",
        "outputId": "aceb65c0-1e87-433b-bef7-56d0d727fa59",
        "colab": {
          "base_uri": "https://localhost:8080/",
          "height": 581
        }
      },
      "execution_count": 219,
      "outputs": [
        {
          "output_type": "display_data",
          "data": {
            "text/plain": [
              "<Figure size 640x480 with 1 Axes>"
            ],
            "image/png": "[encoded data removed]"
          },
          "metadata": {}
        }
      ]
    },
    {
      "cell_type": "code",
      "source": [
        "# 'sales_count' 그래프\n",
        "plt.plot(age_segment_sales['age_segment'], agegroup_sales['sales_count'], label='sales_count', marker='o')\n",
        "\n",
        "plt.xlabel('Age segment Group')\n",
        "plt.ylabel('Value')\n",
        "plt.title('Age segment Group vs Sales Count')\n",
        "plt.legend()\n",
        "plt.xticks(rotation=45)\n",
        "\n",
        "plt.show()"
      ],
      "metadata": {
        "id": "v3YNNTjM7bKT",
        "outputId": "fa8edf3c-6620-4ad4-d02a-3256ddfae660",
        "colab": {
          "base_uri": "https://localhost:8080/",
          "height": 581
        }
      },
      "execution_count": 217,
      "outputs": [
        {
          "output_type": "display_data",
          "data": {
            "text/plain": [
              "<Figure size 640x480 with 1 Axes>"
            ],
            "image/png": "[encoded data removed]"
          },
          "metadata": {}
        }
      ]
    },
    {
      "cell_type": "code",
      "source": [
        "# age segment 에 따른 객단가 그래프\n",
        "\n",
        "plt.plot(age_segment_sales['age_segment'], age_segment_sales['seg_transaction'], label='transaction by age segments', marker='o')\n",
        "\n",
        "plt.xlabel('Age segment Group')\n",
        "plt.ylabel('Value')\n",
        "plt.title('transaction by age segments')\n",
        "plt.legend()\n",
        "plt.xticks(rotation=45)\n",
        "\n",
        "plt.show()"
      ],
      "metadata": {
        "id": "aCf7NyGm8Zyn",
        "outputId": "6bee1684-1465-4d85-9919-f801210bb548",
        "colab": {
          "base_uri": "https://localhost:8080/",
          "height": 581
        }
      },
      "execution_count": 218,
      "outputs": [
        {
          "output_type": "display_data",
          "data": {
            "text/plain": [
              "<Figure size 640x480 with 1 Axes>"
            ],
            "image/png": "[encoded data removed]"
          },
          "metadata": {}
        }
      ]
    },
    {
      "cell_type": "code",
      "source": [
        "from scipy.stats import f_oneway, kruskal\n",
        "#21-25 그룹이 구매하는 제품의 평균가가 가장 낮긴 한데, 그 수준이 매우 미미함\n",
        "#통계적으로 유의미한지 확인 => 별로 영향 없는 것으로.....ㅠㅠ\n",
        "\n",
        "# ANOVA 테스트\n",
        "fstat, pval = f_oneway(age_segment_sales[age_segment_sales['age_segment']=='non-target minor(0-14)']['seg_transaction'],\n",
        "                        age_segment_sales[age_segment_sales['age_segment']=='minor(15-20)']['seg_transaction'],\n",
        "                        age_segment_sales[age_segment_sales['age_segment']=='Early 20s(21-25)']['seg_transaction'],\n",
        "                        age_segment_sales[age_segment_sales['age_segment']=='Late 20s(26-30)']['seg_transaction'],\n",
        "                        age_segment_sales[age_segment_sales['age_segment']=='Early 30s(31-35)']['seg_transaction'],\n",
        "                        age_segment_sales[age_segment_sales['age_segment']=='non-target adults(36-)']['seg_transaction'])\n",
        "print(\"ANOVA p-value:\", pval)\n",
        "\n",
        "# Kruskal-Wallis H 테스트\n",
        "hstat, pval = kruskal(age_segment_sales[age_segment_sales['age_segment']=='non-target minor(0-14)']['seg_transaction'],\n",
        "                       age_segment_sales[age_segment_sales['age_segment']=='minor(15-20)']['seg_transaction'],\n",
        "                       age_segment_sales[age_segment_sales['age_segment']=='Early 20s(21-25)']['seg_transaction'],\n",
        "                       age_segment_sales[age_segment_sales['age_segment']=='Late 20s(26-30)']['seg_transaction'],\n",
        "                       age_segment_sales[age_segment_sales['age_segment']=='Early 30s(31-35)']['seg_transaction'],\n",
        "                       age_segment_sales[age_segment_sales['age_segment']=='non-target adults(36-)']['seg_transaction'])\n",
        "print(\"Kruskal-Wallis p-value:\", pval)\n"
      ],
      "metadata": {
        "id": "Dm2i4tF0Ht0E",
        "outputId": "5ee34127-59e0-421d-d3e0-e1e57c643285",
        "colab": {
          "base_uri": "https://localhost:8080/"
        }
      },
      "execution_count": 244,
      "outputs": [
        {
          "output_type": "stream",
          "name": "stdout",
          "text": [
            "ANOVA p-value: nan\n",
            "Kruskal-Wallis p-value: 0.4158801869955079\n"
          ]
        }
      ]
    },
    {
      "cell_type": "code",
      "source": [],
      "metadata": {
        "id": "sCVmdIYfICc6"
      },
      "execution_count": null,
      "outputs": []
    },
    {
      "cell_type": "markdown",
      "source": [
        "### 카테고리 분석"
      ],
      "metadata": {
        "id": "zDTGBR8--kFi"
      }
    },
    {
      "cell_type": "code",
      "source": [
        "# 'customer_id'를 기준으로 'transaction_df'와 'customer_df' 머지\n",
        "trans_segment_df = pd.merge(transaction_df, customer_df[['customer_id', 'age_segment']], on='customer_id', how='left')\n",
        "\n",
        "# 'product_id'를 기준으로 'trans_segment_df'와 'product_df' 머지\n",
        "trans_segment_df = pd.merge(trans_segment_df, product_df[['product_id', 'masterCategory', 'subCategory']], left_on='product_id', right_on='product_id', how='left')\n",
        "\n",
        "# 가장 많이 구매한 'master_category' 계산\n",
        "master_category_mode = trans_segment_df.groupby('age_segment')['masterCategory'].agg(lambda x: x.value_counts().index[0]).reset_index()\n",
        "\n",
        "# 가장 많이 구매한 'sub_category' 계산\n",
        "sub_category_mode = trans_segment_df.groupby('age_segment')['subCategory'].agg(lambda x: x.value_counts().index[0]).reset_index()\n",
        "\n",
        "# 평균 제품 가격 계산\n",
        "average_price = trans_segment_df.groupby('age_segment')['item_price'].mean().reset_index()\n",
        "\n",
        "# 각 데이터프레임을 'age_segment'를 기준으로 합치기\n",
        "result_df = pd.merge(master_category_mode, sub_category_mode, on='age_segment', how='left')\n",
        "result_df = pd.merge(result_df, average_price, on='age_segment', how='left')\n",
        "result_df"
      ],
      "metadata": {
        "id": "SOsvMJ3Z98nt",
        "outputId": "2d97091b-46de-456b-857b-be76cb50c0d7",
        "colab": {
          "base_uri": "https://localhost:8080/",
          "height": 237
        }
      },
      "execution_count": 235,
      "outputs": [
        {
          "output_type": "execute_result",
          "data": {
            "text/plain": [
              "              age_segment masterCategory subCategory  item_price\n",
              "0  non-target minor(0-14)        Apparel     Topwear   249795.48\n",
              "1            minor(15-20)        Apparel     Topwear   250196.79\n",
              "2        Early 20s(21-25)        Apparel     Topwear   249751.12\n",
              "3         Late 20s(26-30)        Apparel     Topwear   249885.53\n",
              "4        Early 30s(31-35)        Apparel     Topwear   250238.05\n",
              "5  non-target adults(36-)        Apparel     Topwear   250010.91"
            ],
            "text/html": [
              "\n",
              "  <div id=\"df-572ce2e4-3247-4785-8f16-75a91d3fc5ba\">\n",
              "    <div class=\"colab-df-container\">\n",
              "      <div>\n",
              "<style scoped>\n",
              "    .dataframe tbody tr th:only-of-type {\n",
              "        vertical-align: middle;\n",
              "    }\n",
              "\n",
              "    .dataframe tbody tr th {\n",
              "        vertical-align: top;\n",
              "    }\n",
              "\n",
              "    .dataframe thead th {\n",
              "        text-align: right;\n",
              "    }\n",
              "</style>\n",
              "<table border=\"1\" class=\"dataframe\">\n",
              "  <thead>\n",
              "    <tr style=\"text-align: right;\">\n",
              "      <th></th>\n",
              "      <th>age_segment</th>\n",
              "      <th>masterCategory</th>\n",
              "      <th>subCategory</th>\n",
              "      <th>item_price</th>\n",
              "    </tr>\n",
              "  </thead>\n",
              "  <tbody>\n",
              "    <tr>\n",
              "      <th>0</th>\n",
              "      <td>non-target minor(0-14)</td>\n",
              "      <td>Apparel</td>\n",
              "      <td>Topwear</td>\n",
              "      <td>249795.48</td>\n",
              "    </tr>\n",
              "    <tr>\n",
              "      <th>1</th>\n",
              "      <td>minor(15-20)</td>\n",
              "      <td>Apparel</td>\n",
              "      <td>Topwear</td>\n",
              "      <td>250196.79</td>\n",
              "    </tr>\n",
              "    <tr>\n",
              "      <th>2</th>\n",
              "      <td>Early 20s(21-25)</td>\n",
              "      <td>Apparel</td>\n",
              "      <td>Topwear</td>\n",
              "      <td>249751.12</td>\n",
              "    </tr>\n",
              "    <tr>\n",
              "      <th>3</th>\n",
              "      <td>Late 20s(26-30)</td>\n",
              "      <td>Apparel</td>\n",
              "      <td>Topwear</td>\n",
              "      <td>249885.53</td>\n",
              "    </tr>\n",
              "    <tr>\n",
              "      <th>4</th>\n",
              "      <td>Early 30s(31-35)</td>\n",
              "      <td>Apparel</td>\n",
              "      <td>Topwear</td>\n",
              "      <td>250238.05</td>\n",
              "    </tr>\n",
              "    <tr>\n",
              "      <th>5</th>\n",
              "      <td>non-target adults(36-)</td>\n",
              "      <td>Apparel</td>\n",
              "      <td>Topwear</td>\n",
              "      <td>250010.91</td>\n",
              "    </tr>\n",
              "  </tbody>\n",
              "</table>\n",
              "</div>\n",
              "      <button class=\"colab-df-convert\" onclick=\"convertToInteractive('df-572ce2e4-3247-4785-8f16-75a91d3fc5ba')\"\n",
              "              title=\"Convert this dataframe to an interactive table.\"\n",
              "              style=\"display:none;\">\n",
              "        \n",
              "  <svg xmlns=\"http://www.w3.org/2000/svg\" height=\"24px\"viewBox=\"0 0 24 24\"\n",
              "       width=\"24px\">\n",
              "    <path d=\"M0 0h24v24H0V0z\" fill=\"none\"/>\n",
              "    <path d=\"M18.56 5.44l.94 2.06.94-2.06 2.06-.94-2.06-.94-.94-2.06-.94 2.06-2.06.94zm-11 1L8.5 8.5l.94-2.06 2.06-.94-2.06-.94L8.5 2.5l-.94 2.06-2.06.94zm10 10l.94 2.06.94-2.06 2.06-.94-2.06-.94-.94-2.06-.94 2.06-2.06.94z\"/><path d=\"M17.41 7.96l-1.37-1.37c-.4-.4-.92-.59-1.43-.59-.52 0-1.04.2-1.43.59L10.3 9.45l-7.72 7.72c-.78.78-.78 2.05 0 2.83L4 21.41c.39.39.9.59 1.41.59.51 0 1.02-.2 1.41-.59l7.78-7.78 2.81-2.81c.8-.78.8-2.07 0-2.86zM5.41 20L4 18.59l7.72-7.72 1.47 1.35L5.41 20z\"/>\n",
              "  </svg>\n",
              "      </button>\n",
              "      \n",
              "  <style>\n",
              "    .colab-df-container {\n",
              "      display:flex;\n",
              "      flex-wrap:wrap;\n",
              "      gap: 12px;\n",
              "    }\n",
              "\n",
              "    .colab-df-convert {\n",
              "      background-color: #E8F0FE;\n",
              "      border: none;\n",
              "      border-radius: 50%;\n",
              "      cursor: pointer;\n",
              "      display: none;\n",
              "      fill: #1967D2;\n",
              "      height: 32px;\n",
              "      padding: 0 0 0 0;\n",
              "      width: 32px;\n",
              "    }\n",
              "\n",
              "    .colab-df-convert:hover {\n",
              "      background-color: #E2EBFA;\n",
              "      box-shadow: 0px 1px 2px rgba(60, 64, 67, 0.3), 0px 1px 3px 1px rgba(60, 64, 67, 0.15);\n",
              "      fill: #174EA6;\n",
              "    }\n",
              "\n",
              "    [theme=dark] .colab-df-convert {\n",
              "      background-color: #3B4455;\n",
              "      fill: #D2E3FC;\n",
              "    }\n",
              "\n",
              "    [theme=dark] .colab-df-convert:hover {\n",
              "      background-color: #434B5C;\n",
              "      box-shadow: 0px 1px 3px 1px rgba(0, 0, 0, 0.15);\n",
              "      filter: drop-shadow(0px 1px 2px rgba(0, 0, 0, 0.3));\n",
              "      fill: #FFFFFF;\n",
              "    }\n",
              "  </style>\n",
              "\n",
              "      <script>\n",
              "        const buttonEl =\n",
              "          document.querySelector('#df-572ce2e4-3247-4785-8f16-75a91d3fc5ba button.colab-df-convert');\n",
              "        buttonEl.style.display =\n",
              "          google.colab.kernel.accessAllowed ? 'block' : 'none';\n",
              "\n",
              "        async function convertToInteractive(key) {\n",
              "          const element = document.querySelector('#df-572ce2e4-3247-4785-8f16-75a91d3fc5ba');\n",
              "          const dataTable =\n",
              "            await google.colab.kernel.invokeFunction('convertToInteractive',\n",
              "                                                     [key], {});\n",
              "          if (!dataTable) return;\n",
              "\n",
              "          const docLinkHtml = 'Like what you see? Visit the ' +\n",
              "            '<a target=\"_blank\" href=https://colab.research.google.com/notebooks/data_table.ipynb>data table notebook</a>'\n",
              "            + ' to learn more about interactive tables.';\n",
              "          element.innerHTML = '';\n",
              "          dataTable['output_type'] = 'display_data';\n",
              "          await google.colab.output.renderOutput(dataTable, element);\n",
              "          const docLink = document.createElement('div');\n",
              "          docLink.innerHTML = docLinkHtml;\n",
              "          element.appendChild(docLink);\n",
              "        }\n",
              "      </script>\n",
              "    </div>\n",
              "  </div>\n",
              "  "
            ]
          },
          "metadata": {},
          "execution_count": 235
        }
      ]
    },
    {
      "cell_type": "code",
      "source": [
        "result_df['item_price'].describe()\n"
      ],
      "metadata": {
        "id": "gkvEb6yAAaGz",
        "outputId": "a303b40c-2f8d-4cd8-cf9d-7d50d68dbf49",
        "colab": {
          "base_uri": "https://localhost:8080/"
        }
      },
      "execution_count": 236,
      "outputs": [
        {
          "output_type": "execute_result",
          "data": {
            "text/plain": [
              "count        6.00\n",
              "mean    249979.65\n",
              "std        204.89\n",
              "min     249751.12\n",
              "25%     249817.99\n",
              "50%     249948.22\n",
              "75%     250150.32\n",
              "max     250238.05\n",
              "Name: item_price, dtype: float64"
            ]
          },
          "metadata": {},
          "execution_count": 236
        }
      ]
    },
    {
      "cell_type": "code",
      "source": [
        "# 평균 구매 제품 금액\n",
        "avg_price_all = 249979.65\n",
        "# 'Early 20s'평균 구매 제품 금액\n",
        "avg_price_early_20s = 249751.12\n",
        "\n",
        "# 평균 구매 제품 금액 대비 'Early 20s' 그룹의 평균 구매 제품 금액이 얼마나 낮은지\n",
        "diff_percent = ((avg_price_all - avg_price_early_20s) / avg_price_all) * 100\n",
        "\n",
        "diff_percent"
      ],
      "metadata": {
        "id": "64x-WTpQEvFX",
        "outputId": "e9d198f0-5737-4c06-f5bd-14c0f6fdd891",
        "colab": {
          "base_uri": "https://localhost:8080/"
        }
      },
      "execution_count": 243,
      "outputs": [
        {
          "output_type": "execute_result",
          "data": {
            "text/plain": [
              "0.0914194415425411"
            ]
          },
          "metadata": {},
          "execution_count": 243
        }
      ]
    },
    {
      "cell_type": "markdown",
      "source": [
        "### 구매유무(수정중)"
      ],
      "metadata": {
        "id": "WlRmsTIZKrq1"
      }
    },
    {
      "cell_type": "code",
      "source": [
        "#중복제거\n",
        "trans = transaction_df[['session_id', 'customer_id']].drop_duplicates()\n",
        "merged_data = pd.merge(customer_df, trans, on = 'customer_id' , how = 'left')\n",
        "\n",
        "#구매내역이 있는 고객의 click stream 데이터\n",
        "notnull_merge = merged_data[merged_data['customer_id'].notnull()].sort_values(['customer_id']).reset_index(drop = True)\n",
        "\n",
        "#구매내역이 없는 고객의 click stream 데이터\n",
        "isnull_merge = merged_data[merged_data['customer_id'].isnull()].sort_values(['customer_id']).reset_index(drop = True)"
      ],
      "metadata": {
        "id": "pB9raCWsGlwL"
      },
      "execution_count": 266,
      "outputs": []
    },
    {
      "cell_type": "code",
      "source": [
        "isnull_merge.head()\n"
      ],
      "metadata": {
        "id": "kNlNlIHEK530",
        "outputId": "3d58fa89-f3b7-4c0c-90f3-6c080765cbf2",
        "colab": {
          "base_uri": "https://localhost:8080/",
          "height": 530
        }
      },
      "execution_count": 247,
      "outputs": [
        {
          "output_type": "execute_result",
          "data": {
            "text/plain": [
              "                             session_id   event_name  \\\n",
              "0  d2d37c4c-3c93-4377-af33-1f17833574b1     HOMEPAGE   \n",
              "1  d2d37c4c-3c93-4377-af33-1f17833574b1  ITEM_DETAIL   \n",
              "2  d2d37c4c-3c93-4377-af33-1f17833574b1     HOMEPAGE   \n",
              "3  d2d37c4c-3c93-4377-af33-1f17833574b1       SCROLL   \n",
              "4  d2d37c4c-3c93-4377-af33-1f17833574b1  ITEM_DETAIL   \n",
              "\n",
              "                    event_time                              event_id  \\\n",
              "0  2016-07-11T20:23:49.769692Z  3ac0c094-98cf-4713-a048-b2c1d7a24c0b   \n",
              "1  2016-07-11T20:28:42.769692Z  691aab15-520b-4bfb-8f5c-457bf0c56698   \n",
              "2  2016-07-11T20:33:24.769692Z  a1efe67e-4d0a-4a10-a781-c39c548babaa   \n",
              "3  2016-07-11T20:38:33.769692Z  d72a27ba-2f7d-44f9-b98a-86813064c908   \n",
              "4  2016-07-11T20:43:05.769692Z  2987682f-3816-4bd1-85c6-c0494af4224a   \n",
              "\n",
              "  traffic_source  product_id  quantity  item_price payment_status  \\\n",
              "0         MOBILE         NaN       NaN         NaN            NaN   \n",
              "1         MOBILE         NaN       NaN         NaN            NaN   \n",
              "2         MOBILE         NaN       NaN         NaN            NaN   \n",
              "3         MOBILE         NaN       NaN         NaN            NaN   \n",
              "4         MOBILE         NaN       NaN         NaN            NaN   \n",
              "\n",
              "  search_keywords promo_code  promo_amount  customer_id  \n",
              "0             NaN        NaN           NaN          NaN  \n",
              "1             NaN        NaN           NaN          NaN  \n",
              "2             NaN        NaN           NaN          NaN  \n",
              "3             NaN        NaN           NaN          NaN  \n",
              "4             NaN        NaN           NaN          NaN  "
            ],
            "text/html": [
              "\n",
              "  <div id=\"df-45fe7f38-a850-4620-903e-9c0050faecbd\">\n",
              "    <div class=\"colab-df-container\">\n",
              "      <div>\n",
              "<style scoped>\n",
              "    .dataframe tbody tr th:only-of-type {\n",
              "        vertical-align: middle;\n",
              "    }\n",
              "\n",
              "    .dataframe tbody tr th {\n",
              "        vertical-align: top;\n",
              "    }\n",
              "\n",
              "    .dataframe thead th {\n",
              "        text-align: right;\n",
              "    }\n",
              "</style>\n",
              "<table border=\"1\" class=\"dataframe\">\n",
              "  <thead>\n",
              "    <tr style=\"text-align: right;\">\n",
              "      <th></th>\n",
              "      <th>session_id</th>\n",
              "      <th>event_name</th>\n",
              "      <th>event_time</th>\n",
              "      <th>event_id</th>\n",
              "      <th>traffic_source</th>\n",
              "      <th>product_id</th>\n",
              "      <th>quantity</th>\n",
              "      <th>item_price</th>\n",
              "      <th>payment_status</th>\n",
              "      <th>search_keywords</th>\n",
              "      <th>promo_code</th>\n",
              "      <th>promo_amount</th>\n",
              "      <th>customer_id</th>\n",
              "    </tr>\n",
              "  </thead>\n",
              "  <tbody>\n",
              "    <tr>\n",
              "      <th>0</th>\n",
              "      <td>d2d37c4c-3c93-4377-af33-1f17833574b1</td>\n",
              "      <td>HOMEPAGE</td>\n",
              "      <td>2016-07-11T20:23:49.769692Z</td>\n",
              "      <td>3ac0c094-98cf-4713-a048-b2c1d7a24c0b</td>\n",
              "      <td>MOBILE</td>\n",
              "      <td>NaN</td>\n",
              "      <td>NaN</td>\n",
              "      <td>NaN</td>\n",
              "      <td>NaN</td>\n",
              "      <td>NaN</td>\n",
              "      <td>NaN</td>\n",
              "      <td>NaN</td>\n",
              "      <td>NaN</td>\n",
              "    </tr>\n",
              "    <tr>\n",
              "      <th>1</th>\n",
              "      <td>d2d37c4c-3c93-4377-af33-1f17833574b1</td>\n",
              "      <td>ITEM_DETAIL</td>\n",
              "      <td>2016-07-11T20:28:42.769692Z</td>\n",
              "      <td>691aab15-520b-4bfb-8f5c-457bf0c56698</td>\n",
              "      <td>MOBILE</td>\n",
              "      <td>NaN</td>\n",
              "      <td>NaN</td>\n",
              "      <td>NaN</td>\n",
              "      <td>NaN</td>\n",
              "      <td>NaN</td>\n",
              "      <td>NaN</td>\n",
              "      <td>NaN</td>\n",
              "      <td>NaN</td>\n",
              "    </tr>\n",
              "    <tr>\n",
              "      <th>2</th>\n",
              "      <td>d2d37c4c-3c93-4377-af33-1f17833574b1</td>\n",
              "      <td>HOMEPAGE</td>\n",
              "      <td>2016-07-11T20:33:24.769692Z</td>\n",
              "      <td>a1efe67e-4d0a-4a10-a781-c39c548babaa</td>\n",
              "      <td>MOBILE</td>\n",
              "      <td>NaN</td>\n",
              "      <td>NaN</td>\n",
              "      <td>NaN</td>\n",
              "      <td>NaN</td>\n",
              "      <td>NaN</td>\n",
              "      <td>NaN</td>\n",
              "      <td>NaN</td>\n",
              "      <td>NaN</td>\n",
              "    </tr>\n",
              "    <tr>\n",
              "      <th>3</th>\n",
              "      <td>d2d37c4c-3c93-4377-af33-1f17833574b1</td>\n",
              "      <td>SCROLL</td>\n",
              "      <td>2016-07-11T20:38:33.769692Z</td>\n",
              "      <td>d72a27ba-2f7d-44f9-b98a-86813064c908</td>\n",
              "      <td>MOBILE</td>\n",
              "      <td>NaN</td>\n",
              "      <td>NaN</td>\n",
              "      <td>NaN</td>\n",
              "      <td>NaN</td>\n",
              "      <td>NaN</td>\n",
              "      <td>NaN</td>\n",
              "      <td>NaN</td>\n",
              "      <td>NaN</td>\n",
              "    </tr>\n",
              "    <tr>\n",
              "      <th>4</th>\n",
              "      <td>d2d37c4c-3c93-4377-af33-1f17833574b1</td>\n",
              "      <td>ITEM_DETAIL</td>\n",
              "      <td>2016-07-11T20:43:05.769692Z</td>\n",
              "      <td>2987682f-3816-4bd1-85c6-c0494af4224a</td>\n",
              "      <td>MOBILE</td>\n",
              "      <td>NaN</td>\n",
              "      <td>NaN</td>\n",
              "      <td>NaN</td>\n",
              "      <td>NaN</td>\n",
              "      <td>NaN</td>\n",
              "      <td>NaN</td>\n",
              "      <td>NaN</td>\n",
              "      <td>NaN</td>\n",
              "    </tr>\n",
              "  </tbody>\n",
              "</table>\n",
              "</div>\n",
              "      <button class=\"colab-df-convert\" onclick=\"convertToInteractive('df-45fe7f38-a850-4620-903e-9c0050faecbd')\"\n",
              "              title=\"Convert this dataframe to an interactive table.\"\n",
              "              style=\"display:none;\">\n",
              "        \n",
              "  <svg xmlns=\"http://www.w3.org/2000/svg\" height=\"24px\"viewBox=\"0 0 24 24\"\n",
              "       width=\"24px\">\n",
              "    <path d=\"M0 0h24v24H0V0z\" fill=\"none\"/>\n",
              "    <path d=\"M18.56 5.44l.94 2.06.94-2.06 2.06-.94-2.06-.94-.94-2.06-.94 2.06-2.06.94zm-11 1L8.5 8.5l.94-2.06 2.06-.94-2.06-.94L8.5 2.5l-.94 2.06-2.06.94zm10 10l.94 2.06.94-2.06 2.06-.94-2.06-.94-.94-2.06-.94 2.06-2.06.94z\"/><path d=\"M17.41 7.96l-1.37-1.37c-.4-.4-.92-.59-1.43-.59-.52 0-1.04.2-1.43.59L10.3 9.45l-7.72 7.72c-.78.78-.78 2.05 0 2.83L4 21.41c.39.39.9.59 1.41.59.51 0 1.02-.2 1.41-.59l7.78-7.78 2.81-2.81c.8-.78.8-2.07 0-2.86zM5.41 20L4 18.59l7.72-7.72 1.47 1.35L5.41 20z\"/>\n",
              "  </svg>\n",
              "      </button>\n",
              "      \n",
              "  <style>\n",
              "    .colab-df-container {\n",
              "      display:flex;\n",
              "      flex-wrap:wrap;\n",
              "      gap: 12px;\n",
              "    }\n",
              "\n",
              "    .colab-df-convert {\n",
              "      background-color: #E8F0FE;\n",
              "      border: none;\n",
              "      border-radius: 50%;\n",
              "      cursor: pointer;\n",
              "      display: none;\n",
              "      fill: #1967D2;\n",
              "      height: 32px;\n",
              "      padding: 0 0 0 0;\n",
              "      width: 32px;\n",
              "    }\n",
              "\n",
              "    .colab-df-convert:hover {\n",
              "      background-color: #E2EBFA;\n",
              "      box-shadow: 0px 1px 2px rgba(60, 64, 67, 0.3), 0px 1px 3px 1px rgba(60, 64, 67, 0.15);\n",
              "      fill: #174EA6;\n",
              "    }\n",
              "\n",
              "    [theme=dark] .colab-df-convert {\n",
              "      background-color: #3B4455;\n",
              "      fill: #D2E3FC;\n",
              "    }\n",
              "\n",
              "    [theme=dark] .colab-df-convert:hover {\n",
              "      background-color: #434B5C;\n",
              "      box-shadow: 0px 1px 3px 1px rgba(0, 0, 0, 0.15);\n",
              "      filter: drop-shadow(0px 1px 2px rgba(0, 0, 0, 0.3));\n",
              "      fill: #FFFFFF;\n",
              "    }\n",
              "  </style>\n",
              "\n",
              "      <script>\n",
              "        const buttonEl =\n",
              "          document.querySelector('#df-45fe7f38-a850-4620-903e-9c0050faecbd button.colab-df-convert');\n",
              "        buttonEl.style.display =\n",
              "          google.colab.kernel.accessAllowed ? 'block' : 'none';\n",
              "\n",
              "        async function convertToInteractive(key) {\n",
              "          const element = document.querySelector('#df-45fe7f38-a850-4620-903e-9c0050faecbd');\n",
              "          const dataTable =\n",
              "            await google.colab.kernel.invokeFunction('convertToInteractive',\n",
              "                                                     [key], {});\n",
              "          if (!dataTable) return;\n",
              "\n",
              "          const docLinkHtml = 'Like what you see? Visit the ' +\n",
              "            '<a target=\"_blank\" href=https://colab.research.google.com/notebooks/data_table.ipynb>data table notebook</a>'\n",
              "            + ' to learn more about interactive tables.';\n",
              "          element.innerHTML = '';\n",
              "          dataTable['output_type'] = 'display_data';\n",
              "          await google.colab.output.renderOutput(dataTable, element);\n",
              "          const docLink = document.createElement('div');\n",
              "          docLink.innerHTML = docLinkHtml;\n",
              "          element.appendChild(docLink);\n",
              "        }\n",
              "      </script>\n",
              "    </div>\n",
              "  </div>\n",
              "  "
            ]
          },
          "metadata": {},
          "execution_count": 247
        }
      ]
    },
    {
      "cell_type": "code",
      "source": [
        "isnull_merge.info()"
      ],
      "metadata": {
        "id": "n8cLCImiMTWp",
        "outputId": "2b76e459-ba60-4ddb-af63-f19f7dad4b42",
        "colab": {
          "base_uri": "https://localhost:8080/"
        }
      },
      "execution_count": 267,
      "outputs": [
        {
          "output_type": "stream",
          "name": "stdout",
          "text": [
            "<class 'pandas.core.frame.DataFrame'>\n",
            "RangeIndex: 0 entries\n",
            "Data columns (total 23 columns):\n",
            " #   Column              Non-Null Count  Dtype         \n",
            "---  ------              --------------  -----         \n",
            " 0   customer_id         0 non-null      int64         \n",
            " 1   first_name          0 non-null      object        \n",
            " 2   last_name           0 non-null      object        \n",
            " 3   username            0 non-null      object        \n",
            " 4   email               0 non-null      object        \n",
            " 5   gender              0 non-null      object        \n",
            " 6   birthdate           0 non-null      datetime64[ns]\n",
            " 7   device_type         0 non-null      object        \n",
            " 8   device_id           0 non-null      object        \n",
            " 9   device_version      0 non-null      object        \n",
            " 10  home_location_lat   0 non-null      float64       \n",
            " 11  home_location_long  0 non-null      float64       \n",
            " 12  home_location       0 non-null      object        \n",
            " 13  home_country        0 non-null      object        \n",
            " 14  first_join_date     0 non-null      datetime64[ns]\n",
            " 15  birth_year          0 non-null      int64         \n",
            " 16  join_year           0 non-null      int64         \n",
            " 17  age_join            0 non-null      int64         \n",
            " 18  age_now             0 non-null      int64         \n",
            " 19  AgeGroup            0 non-null      category      \n",
            " 20  age_group           0 non-null      category      \n",
            " 21  age_segment         0 non-null      category      \n",
            " 22  session_id          0 non-null      object        \n",
            "dtypes: category(3), datetime64[ns](2), float64(2), int64(5), object(11)\n",
            "memory usage: 784.0+ bytes\n"
          ]
        }
      ]
    },
    {
      "cell_type": "code",
      "source": [
        "isnull_merge.describe()"
      ],
      "metadata": {
        "id": "tIWVUbwKMMa2",
        "outputId": "9f1223a9-40a0-4a13-d2d0-a3603ba58102",
        "colab": {
          "base_uri": "https://localhost:8080/",
          "height": 300
        }
      },
      "execution_count": 249,
      "outputs": [
        {
          "output_type": "execute_result",
          "data": {
            "text/plain": [
              "       product_id  quantity  item_price  promo_amount  customer_id\n",
              "count      115.00    115.00      115.00          0.00         0.00\n",
              "mean     28035.80      1.55   311764.35           NaN          NaN\n",
              "std      16480.49      1.47   136424.94           NaN          NaN\n",
              "min       2367.00      1.00    88773.00           NaN          NaN\n",
              "25%      13358.50      1.00   216797.50           NaN          NaN\n",
              "50%      26618.00      1.00   282464.00           NaN          NaN\n",
              "75%      43621.00      1.00   389224.50           NaN          NaN\n",
              "max      59046.00      9.00   822979.00           NaN          NaN"
            ],
            "text/html": [
              "\n",
              "  <div id=\"df-cd311f86-bdcd-419b-9e6e-1f9fa5a27387\">\n",
              "    <div class=\"colab-df-container\">\n",
              "      <div>\n",
              "<style scoped>\n",
              "    .dataframe tbody tr th:only-of-type {\n",
              "        vertical-align: middle;\n",
              "    }\n",
              "\n",
              "    .dataframe tbody tr th {\n",
              "        vertical-align: top;\n",
              "    }\n",
              "\n",
              "    .dataframe thead th {\n",
              "        text-align: right;\n",
              "    }\n",
              "</style>\n",
              "<table border=\"1\" class=\"dataframe\">\n",
              "  <thead>\n",
              "    <tr style=\"text-align: right;\">\n",
              "      <th></th>\n",
              "      <th>product_id</th>\n",
              "      <th>quantity</th>\n",
              "      <th>item_price</th>\n",
              "      <th>promo_amount</th>\n",
              "      <th>customer_id</th>\n",
              "    </tr>\n",
              "  </thead>\n",
              "  <tbody>\n",
              "    <tr>\n",
              "      <th>count</th>\n",
              "      <td>115.00</td>\n",
              "      <td>115.00</td>\n",
              "      <td>115.00</td>\n",
              "      <td>0.00</td>\n",
              "      <td>0.00</td>\n",
              "    </tr>\n",
              "    <tr>\n",
              "      <th>mean</th>\n",
              "      <td>28035.80</td>\n",
              "      <td>1.55</td>\n",
              "      <td>311764.35</td>\n",
              "      <td>NaN</td>\n",
              "      <td>NaN</td>\n",
              "    </tr>\n",
              "    <tr>\n",
              "      <th>std</th>\n",
              "      <td>16480.49</td>\n",
              "      <td>1.47</td>\n",
              "      <td>136424.94</td>\n",
              "      <td>NaN</td>\n",
              "      <td>NaN</td>\n",
              "    </tr>\n",
              "    <tr>\n",
              "      <th>min</th>\n",
              "      <td>2367.00</td>\n",
              "      <td>1.00</td>\n",
              "      <td>88773.00</td>\n",
              "      <td>NaN</td>\n",
              "      <td>NaN</td>\n",
              "    </tr>\n",
              "    <tr>\n",
              "      <th>25%</th>\n",
              "      <td>13358.50</td>\n",
              "      <td>1.00</td>\n",
              "      <td>216797.50</td>\n",
              "      <td>NaN</td>\n",
              "      <td>NaN</td>\n",
              "    </tr>\n",
              "    <tr>\n",
              "      <th>50%</th>\n",
              "      <td>26618.00</td>\n",
              "      <td>1.00</td>\n",
              "      <td>282464.00</td>\n",
              "      <td>NaN</td>\n",
              "      <td>NaN</td>\n",
              "    </tr>\n",
              "    <tr>\n",
              "      <th>75%</th>\n",
              "      <td>43621.00</td>\n",
              "      <td>1.00</td>\n",
              "      <td>389224.50</td>\n",
              "      <td>NaN</td>\n",
              "      <td>NaN</td>\n",
              "    </tr>\n",
              "    <tr>\n",
              "      <th>max</th>\n",
              "      <td>59046.00</td>\n",
              "      <td>9.00</td>\n",
              "      <td>822979.00</td>\n",
              "      <td>NaN</td>\n",
              "      <td>NaN</td>\n",
              "    </tr>\n",
              "  </tbody>\n",
              "</table>\n",
              "</div>\n",
              "      <button class=\"colab-df-convert\" onclick=\"convertToInteractive('df-cd311f86-bdcd-419b-9e6e-1f9fa5a27387')\"\n",
              "              title=\"Convert this dataframe to an interactive table.\"\n",
              "              style=\"display:none;\">\n",
              "        \n",
              "  <svg xmlns=\"http://www.w3.org/2000/svg\" height=\"24px\"viewBox=\"0 0 24 24\"\n",
              "       width=\"24px\">\n",
              "    <path d=\"M0 0h24v24H0V0z\" fill=\"none\"/>\n",
              "    <path d=\"M18.56 5.44l.94 2.06.94-2.06 2.06-.94-2.06-.94-.94-2.06-.94 2.06-2.06.94zm-11 1L8.5 8.5l.94-2.06 2.06-.94-2.06-.94L8.5 2.5l-.94 2.06-2.06.94zm10 10l.94 2.06.94-2.06 2.06-.94-2.06-.94-.94-2.06-.94 2.06-2.06.94z\"/><path d=\"M17.41 7.96l-1.37-1.37c-.4-.4-.92-.59-1.43-.59-.52 0-1.04.2-1.43.59L10.3 9.45l-7.72 7.72c-.78.78-.78 2.05 0 2.83L4 21.41c.39.39.9.59 1.41.59.51 0 1.02-.2 1.41-.59l7.78-7.78 2.81-2.81c.8-.78.8-2.07 0-2.86zM5.41 20L4 18.59l7.72-7.72 1.47 1.35L5.41 20z\"/>\n",
              "  </svg>\n",
              "      </button>\n",
              "      \n",
              "  <style>\n",
              "    .colab-df-container {\n",
              "      display:flex;\n",
              "      flex-wrap:wrap;\n",
              "      gap: 12px;\n",
              "    }\n",
              "\n",
              "    .colab-df-convert {\n",
              "      background-color: #E8F0FE;\n",
              "      border: none;\n",
              "      border-radius: 50%;\n",
              "      cursor: pointer;\n",
              "      display: none;\n",
              "      fill: #1967D2;\n",
              "      height: 32px;\n",
              "      padding: 0 0 0 0;\n",
              "      width: 32px;\n",
              "    }\n",
              "\n",
              "    .colab-df-convert:hover {\n",
              "      background-color: #E2EBFA;\n",
              "      box-shadow: 0px 1px 2px rgba(60, 64, 67, 0.3), 0px 1px 3px 1px rgba(60, 64, 67, 0.15);\n",
              "      fill: #174EA6;\n",
              "    }\n",
              "\n",
              "    [theme=dark] .colab-df-convert {\n",
              "      background-color: #3B4455;\n",
              "      fill: #D2E3FC;\n",
              "    }\n",
              "\n",
              "    [theme=dark] .colab-df-convert:hover {\n",
              "      background-color: #434B5C;\n",
              "      box-shadow: 0px 1px 3px 1px rgba(0, 0, 0, 0.15);\n",
              "      filter: drop-shadow(0px 1px 2px rgba(0, 0, 0, 0.3));\n",
              "      fill: #FFFFFF;\n",
              "    }\n",
              "  </style>\n",
              "\n",
              "      <script>\n",
              "        const buttonEl =\n",
              "          document.querySelector('#df-cd311f86-bdcd-419b-9e6e-1f9fa5a27387 button.colab-df-convert');\n",
              "        buttonEl.style.display =\n",
              "          google.colab.kernel.accessAllowed ? 'block' : 'none';\n",
              "\n",
              "        async function convertToInteractive(key) {\n",
              "          const element = document.querySelector('#df-cd311f86-bdcd-419b-9e6e-1f9fa5a27387');\n",
              "          const dataTable =\n",
              "            await google.colab.kernel.invokeFunction('convertToInteractive',\n",
              "                                                     [key], {});\n",
              "          if (!dataTable) return;\n",
              "\n",
              "          const docLinkHtml = 'Like what you see? Visit the ' +\n",
              "            '<a target=\"_blank\" href=https://colab.research.google.com/notebooks/data_table.ipynb>data table notebook</a>'\n",
              "            + ' to learn more about interactive tables.';\n",
              "          element.innerHTML = '';\n",
              "          dataTable['output_type'] = 'display_data';\n",
              "          await google.colab.output.renderOutput(dataTable, element);\n",
              "          const docLink = document.createElement('div');\n",
              "          docLink.innerHTML = docLinkHtml;\n",
              "          element.appendChild(docLink);\n",
              "        }\n",
              "      </script>\n",
              "    </div>\n",
              "  </div>\n",
              "  "
            ]
          },
          "metadata": {},
          "execution_count": 249
        }
      ]
    },
    {
      "cell_type": "markdown",
      "source": [],
      "metadata": {
        "id": "r-lRVPV0MMS-"
      }
    },
    {
      "cell_type": "code",
      "source": [
        "isnull_merge['product_id'].value_counts()"
      ],
      "metadata": {
        "id": "B_uGJ8gyLyGC",
        "outputId": "c0481141-28ce-46b5-9774-182de5f0ec6a",
        "colab": {
          "base_uri": "https://localhost:8080/"
        }
      },
      "execution_count": 248,
      "outputs": [
        {
          "output_type": "execute_result",
          "data": {
            "text/plain": [
              "44774.00    2\n",
              "7401.00     2\n",
              "49581.00    1\n",
              "47619.00    1\n",
              "4048.00     1\n",
              "25119.00    1\n",
              "2367.00     1\n",
              "45784.00    1\n",
              "53872.00    1\n",
              "50425.00    1\n",
              "52575.00    1\n",
              "2655.00     1\n",
              "24482.00    1\n",
              "8529.00     1\n",
              "6669.00     1\n",
              "22505.00    1\n",
              "31983.00    1\n",
              "57513.00    1\n",
              "2988.00     1\n",
              "21950.00    1\n",
              "37261.00    1\n",
              "2625.00     1\n",
              "33117.00    1\n",
              "47896.00    1\n",
              "26618.00    1\n",
              "46604.00    1\n",
              "36220.00    1\n",
              "22246.00    1\n",
              "47336.00    1\n",
              "9004.00     1\n",
              "45785.00    1\n",
              "18431.00    1\n",
              "38452.00    1\n",
              "54408.00    1\n",
              "47385.00    1\n",
              "15565.00    1\n",
              "37408.00    1\n",
              "12702.00    1\n",
              "50168.00    1\n",
              "10228.00    1\n",
              "52616.00    1\n",
              "43353.00    1\n",
              "12900.00    1\n",
              "56988.00    1\n",
              "5894.00     1\n",
              "56918.00    1\n",
              "31168.00    1\n",
              "41734.00    1\n",
              "43889.00    1\n",
              "17700.00    1\n",
              "46824.00    1\n",
              "4168.00     1\n",
              "4272.00     1\n",
              "14802.00    1\n",
              "44462.00    1\n",
              "19317.00    1\n",
              "25113.00    1\n",
              "17985.00    1\n",
              "53918.00    1\n",
              "34856.00    1\n",
              "25582.00    1\n",
              "31609.00    1\n",
              "13066.00    1\n",
              "21508.00    1\n",
              "47335.00    1\n",
              "6801.00     1\n",
              "46610.00    1\n",
              "12705.00    1\n",
              "59046.00    1\n",
              "22499.00    1\n",
              "26651.00    1\n",
              "34855.00    1\n",
              "29266.00    1\n",
              "35248.00    1\n",
              "33970.00    1\n",
              "33100.00    1\n",
              "20823.00    1\n",
              "22117.00    1\n",
              "46082.00    1\n",
              "7860.00     1\n",
              "37673.00    1\n",
              "42938.00    1\n",
              "19238.00    1\n",
              "15546.00    1\n",
              "39567.00    1\n",
              "35670.00    1\n",
              "7064.00     1\n",
              "34469.00    1\n",
              "47339.00    1\n",
              "43297.00    1\n",
              "19042.00    1\n",
              "18494.00    1\n",
              "9110.00     1\n",
              "29562.00    1\n",
              "2644.00     1\n",
              "35215.00    1\n",
              "13651.00    1\n",
              "7600.00     1\n",
              "37698.00    1\n",
              "7376.00     1\n",
              "23255.00    1\n",
              "36946.00    1\n",
              "7842.00     1\n",
              "16182.00    1\n",
              "16172.00    1\n",
              "9109.00     1\n",
              "5577.00     1\n",
              "18437.00    1\n",
              "8228.00     1\n",
              "15232.00    1\n",
              "25452.00    1\n",
              "44433.00    1\n",
              "33976.00    1\n",
              "Name: product_id, dtype: int64"
            ]
          },
          "metadata": {},
          "execution_count": 248
        }
      ]
    },
    {
      "cell_type": "code",
      "source": [],
      "metadata": {
        "id": "4RBjw5y2R3bv"
      },
      "execution_count": null,
      "outputs": []
    },
    {
      "cell_type": "code",
      "source": [
        "trans_drop_duplicates = transaction_df.drop_duplicates(subset='customer_id')\n",
        "trans_drop_duplicates.head()\n",
        "# trans_drop_duplicates.info() => customer_id가 unique한 총 50705개 row추출\n",
        "non_trans_customer = customer_df[~customer_df['customer_id'].isin(trans_drop_duplicates['customer_id'])]['customer_id']\n",
        "non_trans_customer.sum()\n"
      ],
      "metadata": {
        "id": "7w8csQ5CNIDf",
        "outputId": "d48f2ea2-4d61-40cd-81da-4a3691c5e102",
        "colab": {
          "base_uri": "https://localhost:8080/"
        }
      },
      "execution_count": 263,
      "outputs": [
        {
          "output_type": "execute_result",
          "data": {
            "text/plain": [
              "2474389261"
            ]
          },
          "metadata": {},
          "execution_count": 263
        }
      ]
    },
    {
      "cell_type": "code",
      "source": [
        "# 미구매 고객이 어디까지 보고 나갔는지(행동)\n",
        "# 가입했지만 미구매 고객의 인구통계적 특성"
      ],
      "metadata": {
        "id": "g5XecpIBRY8N"
      },
      "execution_count": null,
      "outputs": []
    }
  ],
  "metadata": {
    "colab": {
      "toc_visible": true,
      "provenance": [],
      "gpuType": "T4",
      "include_colab_link": true
    },
    "kernelspec": {
      "display_name": "Python 3",
      "name": "python3"
    },
    "language_info": {
      "name": "python"
    }
  },
  "nbformat": 4,
  "nbformat_minor": 0
}