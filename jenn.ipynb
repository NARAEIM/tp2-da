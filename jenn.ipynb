{
  "nbformat": 4,
  "nbformat_minor": 0,
  "metadata": {
    "colab": {
      "provenance": [],
      "toc_visible": true,
      "mount_file_id": "1eodV-JI9OL32HUzXJFCI0UeZcfKrWU4K",
      "authorship_tag": "ABX9TyOgayeQniHGlBTVN5xbqn9h",
      "include_colab_link": true
    },
    "kernelspec": {
      "name": "python3",
      "display_name": "Python 3"
    },
    "language_info": {
      "name": "python"
    }
  },
  "cells": [
    {
      "cell_type": "markdown",
      "metadata": {
        "id": "view-in-github",
        "colab_type": "text"
      },
      "source": [
        "<a href=\"https://colab.research.google.com/github/NARAEIM/tp2-da/blob/jennlee/jenn.ipynb\" target=\"_parent\"><img src=\"https://colab.research.google.com/assets/colab-badge.svg\" alt=\"Open In Colab\"/></a>"
      ]
    },
    {
      "cell_type": "markdown",
      "source": [
        "# Library"
      ],
      "metadata": {
        "id": "32yQzE53B0bd"
      }
    },
    {
      "cell_type": "code",
      "source": [
        "from google.colab import drive\n",
        "\n",
        "# Mount Google Drive\n",
        "drive.mount('/content/drive')"
      ],
      "metadata": {
        "colab": {
          "base_uri": "https://localhost:8080/"
        },
        "id": "ogUWc-fvwfMC",
        "outputId": "e8cd2439-f60b-4733-bd56-0dc436fa0194"
      },
      "execution_count": 1,
      "outputs": [
        {
          "output_type": "stream",
          "name": "stdout",
          "text": [
            "Drive already mounted at /content/drive; to attempt to forcibly remount, call drive.mount(\"/content/drive\", force_remount=True).\n"
          ]
        }
      ]
    },
    {
      "cell_type": "code",
      "source": [
        "import os\n",
        "\n",
        "# List the contents of your Google Drive\n",
        "drive_path = '/content/drive/MyDrive/co_note/project/data'\n",
        "files = os.listdir(drive_path)\n",
        "print(files)"
      ],
      "metadata": {
        "colab": {
          "base_uri": "https://localhost:8080/"
        },
        "id": "afAhfeU5w1TZ",
        "outputId": "0a4cde98-156c-4438-913e-4b667d4ece26"
      },
      "execution_count": 2,
      "outputs": [
        {
          "output_type": "stream",
          "name": "stdout",
          "text": [
            "['transaction_new.csv', 'click_stream_new.csv', 'customer.csv', 'product.csv']\n"
          ]
        }
      ]
    },
    {
      "cell_type": "code",
      "source": [
        "import numpy as np\n",
        "import pandas as pd\n",
        "import matplotlib.pyplot as plt\n",
        "import seaborn as sns\n",
        "\n",
        "import sklearn\n",
        "from sklearn.preprocessing import StandardScaler\n",
        "from sklearn.cluster import KMeans\n",
        "\n",
        "plt.style.use(\"default\")"
      ],
      "metadata": {
        "id": "ZCBnms_6BwA6"
      },
      "execution_count": 24,
      "outputs": []
    },
    {
      "cell_type": "code",
      "execution_count": 3,
      "metadata": {
        "id": "v9V8tFITs3MT"
      },
      "outputs": [],
      "source": [
        "# Load the datasets\n",
        "transaction = pd.read_csv('/content/drive/MyDrive/co_note/project/data/transaction_new.csv')\n",
        "customer = pd.read_csv('/content/drive/MyDrive/co_note/project/data/customer.csv')\n",
        "product = pd.read_csv('/content/drive/MyDrive/co_note/project/data/product.csv')\n",
        "click_stream = pd.read_csv('/content/drive/MyDrive/co_note/project/data/click_stream_new.csv')"
      ]
    },
    {
      "cell_type": "markdown",
      "source": [
        "# Dataset"
      ],
      "metadata": {
        "id": "dSV3HpepBsu8"
      }
    },
    {
      "cell_type": "markdown",
      "source": [
        "# New Section"
      ],
      "metadata": {
        "id": "p_0CmIZf_qA4"
      }
    },
    {
      "cell_type": "markdown",
      "source": [
        "## Transaction"
      ],
      "metadata": {
        "id": "C-wZ-RyaMs9K"
      }
    },
    {
      "cell_type": "code",
      "source": [
        "transaction.isna().sum()"
      ],
      "metadata": {
        "colab": {
          "base_uri": "https://localhost:8080/"
        },
        "id": "GJ8kSlahM7pC",
        "outputId": "4631f454-80fd-453a-cfe3-dd77a5473f8c"
      },
      "execution_count": null,
      "outputs": [
        {
          "output_type": "execute_result",
          "data": {
            "text/plain": [
              "created_at                     0\n",
              "customer_id                    0\n",
              "booking_id                     0\n",
              "session_id                     0\n",
              "payment_method                 0\n",
              "payment_status                 0\n",
              "promo_amount                   0\n",
              "promo_code                773446\n",
              "shipment_fee                   0\n",
              "shipment_date_limit            0\n",
              "shipment_location_lat          0\n",
              "shipment_location_long         0\n",
              "total_amount                   0\n",
              "product_id                     0\n",
              "quantity                       0\n",
              "item_price                     0\n",
              "dtype: int64"
            ]
          },
          "metadata": {},
          "execution_count": 4
        }
      ]
    },
    {
      "cell_type": "code",
      "source": [
        "transaction['created_at'] = pd.to_datetime(transaction['created_at']).dt.strftime('%Y-%m-%d')\n",
        "transaction['shipment_date_limit'] = pd.to_datetime(transaction['shipment_date_limit']).dt.strftime('%Y-%m-%d')\n",
        "transaction['created_at'] = pd.to_datetime(transaction['created_at'])\n",
        "transaction['shipment_date_limit'] = pd.to_datetime(transaction['shipment_date_limit'])"
      ],
      "metadata": {
        "id": "VhI7aSmE0R_e"
      },
      "execution_count": 4,
      "outputs": []
    },
    {
      "cell_type": "code",
      "source": [
        "transaction[['created_at','shipment_date_limit']].info()"
      ],
      "metadata": {
        "colab": {
          "base_uri": "https://localhost:8080/"
        },
        "id": "PJU0ZeIt1I02",
        "outputId": "ce9679b9-693c-4e82-8a27-c3e1a01eaee5"
      },
      "execution_count": 5,
      "outputs": [
        {
          "output_type": "stream",
          "name": "stdout",
          "text": [
            "<class 'pandas.core.frame.DataFrame'>\n",
            "RangeIndex: 1254585 entries, 0 to 1254584\n",
            "Data columns (total 2 columns):\n",
            " #   Column               Non-Null Count    Dtype         \n",
            "---  ------               --------------    -----         \n",
            " 0   created_at           1254585 non-null  datetime64[ns]\n",
            " 1   shipment_date_limit  1254585 non-null  datetime64[ns]\n",
            "dtypes: datetime64[ns](2)\n",
            "memory usage: 19.1 MB\n"
          ]
        }
      ]
    },
    {
      "cell_type": "code",
      "source": [
        "# promocode labeling (1: w/ promo, 0: w/o promo)\n",
        "transaction['w_promo'] = transaction['promo_code'].fillna(0).map(lambda x: 1 if x != 0 else 0).astype(int)\n",
        "transaction['w_promo']"
      ],
      "metadata": {
        "colab": {
          "base_uri": "https://localhost:8080/"
        },
        "id": "_lzVdKM4z1vt",
        "outputId": "77d69d73-bca8-4d06-f0cc-07ec1279d750"
      },
      "execution_count": 6,
      "outputs": [
        {
          "output_type": "execute_result",
          "data": {
            "text/plain": [
              "0          1\n",
              "1          0\n",
              "2          0\n",
              "3          0\n",
              "4          0\n",
              "          ..\n",
              "1254580    0\n",
              "1254581    1\n",
              "1254582    1\n",
              "1254583    1\n",
              "1254584    1\n",
              "Name: w_promo, Length: 1254585, dtype: int64"
            ]
          },
          "metadata": {},
          "execution_count": 6
        }
      ]
    },
    {
      "cell_type": "code",
      "source": [
        "display(transaction.head(), transaction.info())"
      ],
      "metadata": {
        "colab": {
          "base_uri": "https://localhost:8080/",
          "height": 977
        },
        "id": "kAYfRZ9XJdeL",
        "outputId": "9ca6df52-f124-443a-c3f0-b0aa38727186"
      },
      "execution_count": null,
      "outputs": [
        {
          "output_type": "stream",
          "name": "stdout",
          "text": [
            "<class 'pandas.core.frame.DataFrame'>\n",
            "RangeIndex: 1254585 entries, 0 to 1254584\n",
            "Data columns (total 17 columns):\n",
            " #   Column                  Non-Null Count    Dtype         \n",
            "---  ------                  --------------    -----         \n",
            " 0   created_at              1254585 non-null  datetime64[ns]\n",
            " 1   customer_id             1254585 non-null  int64         \n",
            " 2   booking_id              1254585 non-null  object        \n",
            " 3   session_id              1254585 non-null  object        \n",
            " 4   payment_method          1254585 non-null  object        \n",
            " 5   payment_status          1254585 non-null  object        \n",
            " 6   promo_amount            1254585 non-null  int64         \n",
            " 7   promo_code              1254585 non-null  object        \n",
            " 8   shipment_fee            1254585 non-null  int64         \n",
            " 9   shipment_date_limit     1254585 non-null  datetime64[ns]\n",
            " 10  shipment_location_lat   1254585 non-null  float64       \n",
            " 11  shipment_location_long  1254585 non-null  float64       \n",
            " 12  total_amount            1254585 non-null  int64         \n",
            " 13  product_id              1254585 non-null  int64         \n",
            " 14  quantity                1254585 non-null  int64         \n",
            " 15  item_price              1254585 non-null  int64         \n",
            " 16  w_promo                 1254585 non-null  int64         \n",
            "dtypes: datetime64[ns](2), float64(2), int64(8), object(5)\n",
            "memory usage: 162.7+ MB\n"
          ]
        },
        {
          "output_type": "display_data",
          "data": {
            "text/plain": [
              "  created_at  customer_id                            booking_id  \\\n",
              "0 2018-07-29         5868  186e2bee-0637-4710-8981-50c2d737bc42   \n",
              "1 2018-07-30         4774  caadb57b-e808-4f94-9e96-8a7d4c9898db   \n",
              "2 2018-09-15         4774  6000fffb-9c1a-4f4a-9296-bc8f6b622b50   \n",
              "3 2018-11-01         4774  f5e530a7-4350-4cd1-a3bc-525b5037bcab   \n",
              "4 2018-12-18         4774  0efc0594-dbbf-4f9a-b0b0-a488cfddf8a2   \n",
              "\n",
              "                             session_id payment_method payment_status  \\\n",
              "0  3abaa6ce-e320-4e51-9469-d9f3fa328e86     Debit Card        Success   \n",
              "1  2ee5ead1-f13e-4759-92df-7ff48475e970    Credit Card        Success   \n",
              "2  93325fb6-eb00-4268-bb0e-6471795a0ad0            OVO        Success   \n",
              "3  bcad5a61-1b67-448d-8ff4-781d67bc56e4    Credit Card        Success   \n",
              "4  df1042ab-13e6-4072-b9d2-64a81974c51a    Credit Card        Success   \n",
              "\n",
              "   promo_amount   promo_code  shipment_fee shipment_date_limit  \\\n",
              "0          1415  WEEKENDSERU         10000          2018-08-03   \n",
              "1             0            0         10000          2018-08-03   \n",
              "2             0            0         10000          2018-09-18   \n",
              "3             0            0             0          2018-11-05   \n",
              "4             0            0             0          2018-12-23   \n",
              "\n",
              "   shipment_location_lat  shipment_location_long  total_amount  product_id  \\\n",
              "0              -8.227893              111.969107        199832       54728   \n",
              "1               3.013470              107.802514        155526       16193   \n",
              "2              -2.579428              115.743885        550696       53686   \n",
              "3              -3.602334              120.363824        271012       20228   \n",
              "4              -3.602334              120.363824        198753       55220   \n",
              "\n",
              "   quantity  item_price  w_promo  \n",
              "0         1      191247        1  \n",
              "1         1      145526        0  \n",
              "2         4      135174        0  \n",
              "3         1      271012        0  \n",
              "4         1      198753        0  "
            ],
            "text/html": [
              "\n",
              "  <div id=\"df-4fec7f27-d4a3-4367-86a7-3b3ab1e300f0\">\n",
              "    <div class=\"colab-df-container\">\n",
              "      <div>\n",
              "<style scoped>\n",
              "    .dataframe tbody tr th:only-of-type {\n",
              "        vertical-align: middle;\n",
              "    }\n",
              "\n",
              "    .dataframe tbody tr th {\n",
              "        vertical-align: top;\n",
              "    }\n",
              "\n",
              "    .dataframe thead th {\n",
              "        text-align: right;\n",
              "    }\n",
              "</style>\n",
              "<table border=\"1\" class=\"dataframe\">\n",
              "  <thead>\n",
              "    <tr style=\"text-align: right;\">\n",
              "      <th></th>\n",
              "      <th>created_at</th>\n",
              "      <th>customer_id</th>\n",
              "      <th>booking_id</th>\n",
              "      <th>session_id</th>\n",
              "      <th>payment_method</th>\n",
              "      <th>payment_status</th>\n",
              "      <th>promo_amount</th>\n",
              "      <th>promo_code</th>\n",
              "      <th>shipment_fee</th>\n",
              "      <th>shipment_date_limit</th>\n",
              "      <th>shipment_location_lat</th>\n",
              "      <th>shipment_location_long</th>\n",
              "      <th>total_amount</th>\n",
              "      <th>product_id</th>\n",
              "      <th>quantity</th>\n",
              "      <th>item_price</th>\n",
              "      <th>w_promo</th>\n",
              "    </tr>\n",
              "  </thead>\n",
              "  <tbody>\n",
              "    <tr>\n",
              "      <th>0</th>\n",
              "      <td>2018-07-29</td>\n",
              "      <td>5868</td>\n",
              "      <td>186e2bee-0637-4710-8981-50c2d737bc42</td>\n",
              "      <td>3abaa6ce-e320-4e51-9469-d9f3fa328e86</td>\n",
              "      <td>Debit Card</td>\n",
              "      <td>Success</td>\n",
              "      <td>1415</td>\n",
              "      <td>WEEKENDSERU</td>\n",
              "      <td>10000</td>\n",
              "      <td>2018-08-03</td>\n",
              "      <td>-8.227893</td>\n",
              "      <td>111.969107</td>\n",
              "      <td>199832</td>\n",
              "      <td>54728</td>\n",
              "      <td>1</td>\n",
              "      <td>191247</td>\n",
              "      <td>1</td>\n",
              "    </tr>\n",
              "    <tr>\n",
              "      <th>1</th>\n",
              "      <td>2018-07-30</td>\n",
              "      <td>4774</td>\n",
              "      <td>caadb57b-e808-4f94-9e96-8a7d4c9898db</td>\n",
              "      <td>2ee5ead1-f13e-4759-92df-7ff48475e970</td>\n",
              "      <td>Credit Card</td>\n",
              "      <td>Success</td>\n",
              "      <td>0</td>\n",
              "      <td>0</td>\n",
              "      <td>10000</td>\n",
              "      <td>2018-08-03</td>\n",
              "      <td>3.013470</td>\n",
              "      <td>107.802514</td>\n",
              "      <td>155526</td>\n",
              "      <td>16193</td>\n",
              "      <td>1</td>\n",
              "      <td>145526</td>\n",
              "      <td>0</td>\n",
              "    </tr>\n",
              "    <tr>\n",
              "      <th>2</th>\n",
              "      <td>2018-09-15</td>\n",
              "      <td>4774</td>\n",
              "      <td>6000fffb-9c1a-4f4a-9296-bc8f6b622b50</td>\n",
              "      <td>93325fb6-eb00-4268-bb0e-6471795a0ad0</td>\n",
              "      <td>OVO</td>\n",
              "      <td>Success</td>\n",
              "      <td>0</td>\n",
              "      <td>0</td>\n",
              "      <td>10000</td>\n",
              "      <td>2018-09-18</td>\n",
              "      <td>-2.579428</td>\n",
              "      <td>115.743885</td>\n",
              "      <td>550696</td>\n",
              "      <td>53686</td>\n",
              "      <td>4</td>\n",
              "      <td>135174</td>\n",
              "      <td>0</td>\n",
              "    </tr>\n",
              "    <tr>\n",
              "      <th>3</th>\n",
              "      <td>2018-11-01</td>\n",
              "      <td>4774</td>\n",
              "      <td>f5e530a7-4350-4cd1-a3bc-525b5037bcab</td>\n",
              "      <td>bcad5a61-1b67-448d-8ff4-781d67bc56e4</td>\n",
              "      <td>Credit Card</td>\n",
              "      <td>Success</td>\n",
              "      <td>0</td>\n",
              "      <td>0</td>\n",
              "      <td>0</td>\n",
              "      <td>2018-11-05</td>\n",
              "      <td>-3.602334</td>\n",
              "      <td>120.363824</td>\n",
              "      <td>271012</td>\n",
              "      <td>20228</td>\n",
              "      <td>1</td>\n",
              "      <td>271012</td>\n",
              "      <td>0</td>\n",
              "    </tr>\n",
              "    <tr>\n",
              "      <th>4</th>\n",
              "      <td>2018-12-18</td>\n",
              "      <td>4774</td>\n",
              "      <td>0efc0594-dbbf-4f9a-b0b0-a488cfddf8a2</td>\n",
              "      <td>df1042ab-13e6-4072-b9d2-64a81974c51a</td>\n",
              "      <td>Credit Card</td>\n",
              "      <td>Success</td>\n",
              "      <td>0</td>\n",
              "      <td>0</td>\n",
              "      <td>0</td>\n",
              "      <td>2018-12-23</td>\n",
              "      <td>-3.602334</td>\n",
              "      <td>120.363824</td>\n",
              "      <td>198753</td>\n",
              "      <td>55220</td>\n",
              "      <td>1</td>\n",
              "      <td>198753</td>\n",
              "      <td>0</td>\n",
              "    </tr>\n",
              "  </tbody>\n",
              "</table>\n",
              "</div>\n",
              "      <button class=\"colab-df-convert\" onclick=\"convertToInteractive('df-4fec7f27-d4a3-4367-86a7-3b3ab1e300f0')\"\n",
              "              title=\"Convert this dataframe to an interactive table.\"\n",
              "              style=\"display:none;\">\n",
              "        \n",
              "  <svg xmlns=\"http://www.w3.org/2000/svg\" height=\"24px\"viewBox=\"0 0 24 24\"\n",
              "       width=\"24px\">\n",
              "    <path d=\"M0 0h24v24H0V0z\" fill=\"none\"/>\n",
              "    <path d=\"M18.56 5.44l.94 2.06.94-2.06 2.06-.94-2.06-.94-.94-2.06-.94 2.06-2.06.94zm-11 1L8.5 8.5l.94-2.06 2.06-.94-2.06-.94L8.5 2.5l-.94 2.06-2.06.94zm10 10l.94 2.06.94-2.06 2.06-.94-2.06-.94-.94-2.06-.94 2.06-2.06.94z\"/><path d=\"M17.41 7.96l-1.37-1.37c-.4-.4-.92-.59-1.43-.59-.52 0-1.04.2-1.43.59L10.3 9.45l-7.72 7.72c-.78.78-.78 2.05 0 2.83L4 21.41c.39.39.9.59 1.41.59.51 0 1.02-.2 1.41-.59l7.78-7.78 2.81-2.81c.8-.78.8-2.07 0-2.86zM5.41 20L4 18.59l7.72-7.72 1.47 1.35L5.41 20z\"/>\n",
              "  </svg>\n",
              "      </button>\n",
              "      \n",
              "  <style>\n",
              "    .colab-df-container {\n",
              "      display:flex;\n",
              "      flex-wrap:wrap;\n",
              "      gap: 12px;\n",
              "    }\n",
              "\n",
              "    .colab-df-convert {\n",
              "      background-color: #E8F0FE;\n",
              "      border: none;\n",
              "      border-radius: 50%;\n",
              "      cursor: pointer;\n",
              "      display: none;\n",
              "      fill: #1967D2;\n",
              "      height: 32px;\n",
              "      padding: 0 0 0 0;\n",
              "      width: 32px;\n",
              "    }\n",
              "\n",
              "    .colab-df-convert:hover {\n",
              "      background-color: #E2EBFA;\n",
              "      box-shadow: 0px 1px 2px rgba(60, 64, 67, 0.3), 0px 1px 3px 1px rgba(60, 64, 67, 0.15);\n",
              "      fill: #174EA6;\n",
              "    }\n",
              "\n",
              "    [theme=dark] .colab-df-convert {\n",
              "      background-color: #3B4455;\n",
              "      fill: #D2E3FC;\n",
              "    }\n",
              "\n",
              "    [theme=dark] .colab-df-convert:hover {\n",
              "      background-color: #434B5C;\n",
              "      box-shadow: 0px 1px 3px 1px rgba(0, 0, 0, 0.15);\n",
              "      filter: drop-shadow(0px 1px 2px rgba(0, 0, 0, 0.3));\n",
              "      fill: #FFFFFF;\n",
              "    }\n",
              "  </style>\n",
              "\n",
              "      <script>\n",
              "        const buttonEl =\n",
              "          document.querySelector('#df-4fec7f27-d4a3-4367-86a7-3b3ab1e300f0 button.colab-df-convert');\n",
              "        buttonEl.style.display =\n",
              "          google.colab.kernel.accessAllowed ? 'block' : 'none';\n",
              "\n",
              "        async function convertToInteractive(key) {\n",
              "          const element = document.querySelector('#df-4fec7f27-d4a3-4367-86a7-3b3ab1e300f0');\n",
              "          const dataTable =\n",
              "            await google.colab.kernel.invokeFunction('convertToInteractive',\n",
              "                                                     [key], {});\n",
              "          if (!dataTable) return;\n",
              "\n",
              "          const docLinkHtml = 'Like what you see? Visit the ' +\n",
              "            '<a target=\"_blank\" href=https://colab.research.google.com/notebooks/data_table.ipynb>data table notebook</a>'\n",
              "            + ' to learn more about interactive tables.';\n",
              "          element.innerHTML = '';\n",
              "          dataTable['output_type'] = 'display_data';\n",
              "          await google.colab.output.renderOutput(dataTable, element);\n",
              "          const docLink = document.createElement('div');\n",
              "          docLink.innerHTML = docLinkHtml;\n",
              "          element.appendChild(docLink);\n",
              "        }\n",
              "      </script>\n",
              "    </div>\n",
              "  </div>\n",
              "  "
            ]
          },
          "metadata": {}
        },
        {
          "output_type": "display_data",
          "data": {
            "text/plain": [
              "None"
            ]
          },
          "metadata": {}
        }
      ]
    },
    {
      "cell_type": "code",
      "source": [
        "transaction[transaction['payment_status'] != 'Success'].shape"
      ],
      "metadata": {
        "colab": {
          "base_uri": "https://localhost:8080/"
        },
        "id": "Mob6PGlNMp1K",
        "outputId": "97085ada-1b27-4c83-bf6d-0fbc882629a4"
      },
      "execution_count": null,
      "outputs": [
        {
          "output_type": "execute_result",
          "data": {
            "text/plain": [
              "(53550, 17)"
            ]
          },
          "metadata": {},
          "execution_count": 10
        }
      ]
    },
    {
      "cell_type": "code",
      "source": [
        "transaction = transaction[transaction['payment_status']=='Success']"
      ],
      "metadata": {
        "id": "T_Zvvw8MACbs"
      },
      "execution_count": 7,
      "outputs": []
    },
    {
      "cell_type": "code",
      "source": [
        "# promo in July\n",
        "transaction['month'] = transaction['created_at'].dt.month\n",
        "transactions_july = transaction[transaction['month'] == 7]\n",
        "promo_sales_july = transactions_july.groupby('promo_code')['total_amount'].sum()\n",
        "\n",
        "# promo in 2021\n",
        "transaction['year'] = transaction['created_at'].dt.year\n",
        "transactions_2021 = transaction[transaction['year'] == 2021]\n",
        "promo_sales_2021 = transactions_2021.groupby('promo_code')['total_amount'].sum()\n",
        "\n",
        "print(promo_sales_july.sort_values(), promo_sales_2021.sort_values())"
      ],
      "metadata": {
        "colab": {
          "base_uri": "https://localhost:8080/"
        },
        "id": "0LEyAp-x5TT-",
        "outputId": "ffedaf6a-fc51-469d-ac9b-c767a3427255"
      },
      "execution_count": 8,
      "outputs": [
        {
          "output_type": "stream",
          "name": "stderr",
          "text": [
            "<ipython-input-8-4a0653b0d6fd>:2: SettingWithCopyWarning: \n",
            "A value is trying to be set on a copy of a slice from a DataFrame.\n",
            "Try using .loc[row_indexer,col_indexer] = value instead\n",
            "\n",
            "See the caveats in the documentation: https://pandas.pydata.org/pandas-docs/stable/user_guide/indexing.html#returning-a-view-versus-a-copy\n",
            "  transaction['month'] = transaction['created_at'].dt.month\n"
          ]
        },
        {
          "output_type": "stream",
          "name": "stdout",
          "text": [
            "promo_code\n",
            "STARTUP           1719078719\n",
            "SC2022            1726827295\n",
            "WEEKENDMANTAP     3283554683\n",
            "LIBURDONG         3689966826\n",
            "XX2022            7116266521\n",
            "BUYMORE           8872672885\n",
            "WEEKENDSERU       9518087742\n",
            "AZ2022           13390321547\n",
            "Name: total_amount, dtype: int64 promo_code\n",
            "SC2022            6144718398\n",
            "STARTUP           6389686940\n",
            "WEEKENDMANTAP     9004517973\n",
            "LIBURDONG         9708038443\n",
            "XX2022           19880948672\n",
            "WEEKENDSERU      27815502219\n",
            "BUYMORE          31674707435\n",
            "AZ2022           41848207527\n",
            "Name: total_amount, dtype: int64\n"
          ]
        }
      ]
    },
    {
      "cell_type": "code",
      "source": [
        "# promo_code 별 transaction 발생 수\n",
        "grouped = transaction.groupby('promo_code').size().sort_values(ascending=False)\n",
        "grouped"
      ],
      "metadata": {
        "colab": {
          "base_uri": "https://localhost:8080/"
        },
        "id": "AQ6P-L1XQPiI",
        "outputId": "4c9515eb-f816-4bae-de43-b4610c209c6a"
      },
      "execution_count": null,
      "outputs": [
        {
          "output_type": "execute_result",
          "data": {
            "text/plain": [
              "promo_code\n",
              "0                773446\n",
              "AZ2022           131312\n",
              "BUYMORE           98373\n",
              "WEEKENDSERU       91489\n",
              "XX2022            65802\n",
              "LIBURDONG         31084\n",
              "WEEKENDMANTAP     30013\n",
              "SC2022            16649\n",
              "STARTUP           16417\n",
              "dtype: int64"
            ]
          },
          "metadata": {},
          "execution_count": 15
        }
      ]
    },
    {
      "cell_type": "code",
      "source": [
        "# promo_code 별 transaction이 일어난 total_amount\n",
        "grouped_amt = transaction.groupby('promo_code')['total_amount'].sum().sort_values(ascending=False)\n",
        "grouped_amt"
      ],
      "metadata": {
        "colab": {
          "base_uri": "https://localhost:8080/"
        },
        "id": "UekzG230QWfM",
        "outputId": "f94d7349-ff94-496d-e96e-e9cce9e1fcd8"
      },
      "execution_count": null,
      "outputs": [
        {
          "output_type": "execute_result",
          "data": {
            "text/plain": [
              "promo_code\n",
              "0                918598633336\n",
              "AZ2022           155586781463\n",
              "BUYMORE          116497387627\n",
              "WEEKENDSERU      106414186422\n",
              "XX2022            74687436338\n",
              "LIBURDONG         36395488250\n",
              "WEEKENDMANTAP     34318974756\n",
              "STARTUP           20214991605\n",
              "SC2022            19670838781\n",
              "Name: total_amount, dtype: int64"
            ]
          },
          "metadata": {},
          "execution_count": 16
        }
      ]
    },
    {
      "cell_type": "code",
      "source": [
        "# count of transaction when payment was successful\n",
        "scs_trans = transaction[(transaction['promo_code'] != 0) & (transaction['payment_status'] == 'Success')].groupby('promo_code').size()\n",
        "scs_trans"
      ],
      "metadata": {
        "colab": {
          "base_uri": "https://localhost:8080/"
        },
        "id": "-qAdZRrVRsE5",
        "outputId": "ade24a92-6899-4e5e-a52e-38c8fe7d3315"
      },
      "execution_count": null,
      "outputs": [
        {
          "output_type": "execute_result",
          "data": {
            "text/plain": [
              "promo_code\n",
              "AZ2022           125748\n",
              "BUYMORE           94204\n",
              "LIBURDONG         29708\n",
              "SC2022            15956\n",
              "STARTUP           15744\n",
              "WEEKENDMANTAP     28788\n",
              "WEEKENDSERU       87677\n",
              "XX2022            63146\n",
              "dtype: int64"
            ]
          },
          "metadata": {},
          "execution_count": 34
        }
      ]
    },
    {
      "cell_type": "code",
      "source": [
        "# sum of transaction when payment was successful\n",
        "transaction[(transaction['promo_code'] != 0) & (transaction['payment_status'] == 'Success')].groupby('promo_code')['total_amount'].sum().sort_values(ascending=False)"
      ],
      "metadata": {
        "colab": {
          "base_uri": "https://localhost:8080/"
        },
        "id": "b0cw6UhwTUVH",
        "outputId": "9f7c84b5-b7cd-4b07-f164-ab86c5d6df4c"
      },
      "execution_count": null,
      "outputs": [
        {
          "output_type": "execute_result",
          "data": {
            "text/plain": [
              "promo_code\n",
              "AZ2022           149099541743\n",
              "BUYMORE          110947884438\n",
              "WEEKENDSERU      102421110557\n",
              "XX2022            72320031960\n",
              "LIBURDONG         34802390026\n",
              "WEEKENDMANTAP     33204811592\n",
              "STARTUP           19616470219\n",
              "SC2022            18977337505\n",
              "Name: total_amount, dtype: int64"
            ]
          },
          "metadata": {},
          "execution_count": 23
        }
      ]
    },
    {
      "cell_type": "code",
      "source": [
        "transaction.shape[0]"
      ],
      "metadata": {
        "colab": {
          "base_uri": "https://localhost:8080/"
        },
        "id": "e-n4vXP-U1A2",
        "outputId": "c6b89f7b-4cdd-47a8-8068-3d2d71330a46"
      },
      "execution_count": null,
      "outputs": [
        {
          "output_type": "execute_result",
          "data": {
            "text/plain": [
              "1254585"
            ]
          },
          "metadata": {},
          "execution_count": 31
        }
      ]
    },
    {
      "cell_type": "code",
      "source": [
        "p_failure = transaction[transaction['payment_status'] == 'Failed'].shape[0]\n",
        "print(\"failed transaction: \", p_failure)\n",
        "print(\"successful transaction:\", transaction[transaction['payment_status'] == 'Success'].shape[0])"
      ],
      "metadata": {
        "colab": {
          "base_uri": "https://localhost:8080/"
        },
        "id": "IG9YWSvrTtyP",
        "outputId": "810bfe30-9baf-433f-b9b4-7bc92acfbabc"
      },
      "execution_count": null,
      "outputs": [
        {
          "output_type": "stream",
          "name": "stdout",
          "text": [
            "failed transaction:  53550\n",
            "successful transaction: 1201035\n"
          ]
        }
      ]
    },
    {
      "cell_type": "code",
      "source": [
        "deducted_count = grouped - scs_trans\n",
        "deducted_count"
      ],
      "metadata": {
        "colab": {
          "base_uri": "https://localhost:8080/"
        },
        "id": "LQiCXvwgVyBl",
        "outputId": "264cec91-6983-4002-9585-79ddc17f2599"
      },
      "execution_count": null,
      "outputs": [
        {
          "output_type": "execute_result",
          "data": {
            "text/plain": [
              "promo_code\n",
              "0                   NaN\n",
              "AZ2022           5564.0\n",
              "BUYMORE          4169.0\n",
              "LIBURDONG        1376.0\n",
              "SC2022            693.0\n",
              "STARTUP           673.0\n",
              "WEEKENDMANTAP    1225.0\n",
              "WEEKENDSERU      3812.0\n",
              "XX2022           2656.0\n",
              "dtype: float64"
            ]
          },
          "metadata": {},
          "execution_count": 35
        }
      ]
    },
    {
      "cell_type": "code",
      "source": [
        "# Calculate the proportion of transactions with promotions\n",
        "total_transactions = len(transaction)\n",
        "promotions_count = (transaction['promo_code'] == 1).sum()\n",
        "promotions_proportion = promotions_count / total_transactions\n",
        "\n",
        "# Calculate the proportion of transactions without promotions\n",
        "no_promotions_count = (transaction['promo_code'] == 0).sum()\n",
        "no_promotions_proportion = no_promotions_count / total_transactions\n",
        "\n",
        "print(\"Proportion of transactions with promotions:\", promotions_proportion.round(2))\n",
        "print(\"Proportion of transactions without promotions:\", no_promotions_proportion.round(2))\n",
        "\n",
        "# Calculate the proportions\n",
        "proportions = [promotions_proportion, no_promotions_proportion]\n",
        "labels = ['w/ Promotions', 'w/o Promotions']\n",
        "\n",
        "plt.pie(proportions, labels=labels, autopct='%1.1f%%', startangle=90)\n",
        "plt.title('Proportions of Transactions')\n",
        "\n",
        "# Display the chart\n",
        "plt.show()"
      ],
      "metadata": {
        "colab": {
          "base_uri": "https://localhost:8080/",
          "height": 464
        },
        "id": "1Cbo_TA89EdV",
        "outputId": "96ac819d-05d8-4393-81ab-916fe4dc33fc"
      },
      "execution_count": null,
      "outputs": [
        {
          "output_type": "stream",
          "name": "stdout",
          "text": [
            "Proportion of transactions with promotions: 0.38\n",
            "Proportion of transactions without promotions: 0.62\n"
          ]
        },
        {
          "output_type": "display_data",
          "data": {
            "text/plain": [
              "<Figure size 640x480 with 1 Axes>"
            ],
            "image/png": "[encoded data removed]"
          },
          "metadata": {}
        }
      ]
    },
    {
      "cell_type": "code",
      "source": [
        "# Filter transactions with promotions\n",
        "promo_trx = transaction[transaction['promo_code']==1]\n",
        "\n",
        "# Filter transactions without promotions\n",
        "non_promo_trx = transaction[transaction['promo_code']==0]\n",
        "\n",
        "# average transaction amount for transactions w/ promo\n",
        "promo_avg_amount = promo_trx['total_amount'].mean()\n",
        "\n",
        "# average transaction amount for transactions w/o promo\n",
        "non_promo_avg_amount = non_promo_trx['total_amount'].mean()\n",
        "\n",
        "print(\"promo_avg_amount:\", promo_avg_amount.round(2))\n",
        "print(\"non_promo_avg_amount:\", non_promo_avg_amount.round(2))\n",
        "\n",
        "# Create a bar plot to compare the average transaction amounts\n",
        "labels = ['w/ Promo', 'w/o Promo']\n",
        "amounts = [promo_avg_amount, non_promo_avg_amount]\n",
        "colors = ['green', 'purple']\n",
        "\n",
        "plt.bar(labels, amounts, color=colors)\n",
        "\n",
        "# Add value labels on top of each bar\n",
        "for i, v in enumerate(amounts):\n",
        "    plt.text(i, v, str(round(v, 2)), ha='center', va='bottom', fontsize=10)\n",
        "\n",
        "plt.xlabel('Promotion Status')\n",
        "plt.ylabel('Average Transaction Amount')\n",
        "plt.title('Average Transaction Amount: Promotions vs No Promotions')\n",
        "plt.show()"
      ],
      "metadata": {
        "colab": {
          "base_uri": "https://localhost:8080/",
          "height": 523
        },
        "id": "o0DpA0wN7nFS",
        "outputId": "39d8fff1-b0a8-4fb2-a24f-dbe60618e217"
      },
      "execution_count": null,
      "outputs": [
        {
          "output_type": "stream",
          "name": "stdout",
          "text": [
            "promo_avg_amount: 1171773.82\n",
            "non_promo_avg_amount: 1187670.03\n"
          ]
        },
        {
          "output_type": "display_data",
          "data": {
            "text/plain": [
              "<Figure size 640x480 with 1 Axes>"
            ],
            "image/png": "[encoded data removed]"
          },
          "metadata": {}
        }
      ]
    },
    {
      "cell_type": "markdown",
      "source": [
        "## Customer"
      ],
      "metadata": {
        "id": "678u9P18MqLo"
      }
    },
    {
      "cell_type": "code",
      "source": [
        "display(customer.head(),customer.info())"
      ],
      "metadata": {
        "colab": {
          "base_uri": "https://localhost:8080/",
          "height": 941
        },
        "id": "GiUFM2h_Js0d",
        "outputId": "9874f236-e81f-4b49-99cd-35426dc4d342"
      },
      "execution_count": null,
      "outputs": [
        {
          "output_type": "stream",
          "name": "stdout",
          "text": [
            "<class 'pandas.core.frame.DataFrame'>\n",
            "RangeIndex: 100000 entries, 0 to 99999\n",
            "Data columns (total 15 columns):\n",
            " #   Column              Non-Null Count   Dtype  \n",
            "---  ------              --------------   -----  \n",
            " 0   customer_id         100000 non-null  int64  \n",
            " 1   first_name          100000 non-null  object \n",
            " 2   last_name           100000 non-null  object \n",
            " 3   username            100000 non-null  object \n",
            " 4   email               100000 non-null  object \n",
            " 5   gender              100000 non-null  object \n",
            " 6   birthdate           100000 non-null  object \n",
            " 7   device_type         100000 non-null  object \n",
            " 8   device_id           100000 non-null  object \n",
            " 9   device_version      100000 non-null  object \n",
            " 10  home_location_lat   100000 non-null  float64\n",
            " 11  home_location_long  100000 non-null  float64\n",
            " 12  home_location       100000 non-null  object \n",
            " 13  home_country        100000 non-null  object \n",
            " 14  first_join_date     100000 non-null  object \n",
            "dtypes: float64(2), int64(1), object(12)\n",
            "memory usage: 11.4+ MB\n"
          ]
        },
        {
          "output_type": "display_data",
          "data": {
            "text/plain": [
              "   customer_id first_name    last_name                              username  \\\n",
              "0         2870       Lala      Maryati  671a0865-ac4e-4dc4-9c4f-c286a1176f7e   \n",
              "1         8193   Maimunah   Laksmiwati  83be2ba7-8133-48a4-bbcb-b46a2762473f   \n",
              "2         7279    Bakiman  Simanjuntak  3250e5a3-1d23-4675-a647-3281879d42be   \n",
              "3        88813    Cahyadi    Maheswara  df797edf-b465-4a80-973b-9fbb612260c2   \n",
              "4        82542    Irnanto       Wijaya  36ab08e1-03de-42a8-9e3b-59528c798824   \n",
              "\n",
              "                                               email gender   birthdate  \\\n",
              "0  671a0865_ac4e_4dc4_9c4f_c286a1176f7e@startupca...      F  1996-06-14   \n",
              "1  83be2ba7_8133_48a4_bbcb_b46a2762473f@zakyfound...      F  1993-08-16   \n",
              "2  3250e5a3_1d23_4675_a647_3281879d42be@startupca...      M  1989-01-23   \n",
              "3  df797edf_b465_4a80_973b_9fbb612260c2@zakyfound...      M  1991-01-05   \n",
              "4  36ab08e1_03de_42a8_9e3b_59528c798824@startupca...      M  2000-07-15   \n",
              "\n",
              "  device_type                             device_id  \\\n",
              "0         iOS  c9c0de76-0a6c-4ac2-843f-65264ab9fe63   \n",
              "1     Android  fb331c3d-f42e-40fe-afe2-b4b73a8a6e25   \n",
              "2         iOS  d13dde0a-6ae1-43c3-83a7-11bbb922730b   \n",
              "3         iOS  f4c18515-c5be-419f-8142-f037be47c9cd   \n",
              "4         iOS  e46e4c36-4630-4736-8fcf-663db29ca3b0   \n",
              "\n",
              "                               device_version  home_location_lat  \\\n",
              "0  iPhone; CPU iPhone OS 14_2_1 like Mac OS X          -1.043345   \n",
              "1                               Android 2.2.1          -6.212489   \n",
              "2       iPad; CPU iPad OS 4_2_1 like Mac OS X          -8.631607   \n",
              "3        iPad; CPU iPad OS 14_2 like Mac OS X           1.299332   \n",
              "4  iPhone; CPU iPhone OS 10_3_3 like Mac OS X          -2.980807   \n",
              "\n",
              "   home_location_long        home_location home_country first_join_date  \n",
              "0          101.360523       Sumatera Barat    Indonesia      2019-07-21  \n",
              "1          106.818850         Jakarta Raya    Indonesia      2017-07-16  \n",
              "2          116.428436  Nusa Tenggara Barat    Indonesia      2020-08-23  \n",
              "3          115.774934     Kalimantan Timur    Indonesia      2021-10-03  \n",
              "4          114.924675   Kalimantan Selatan    Indonesia      2021-04-11  "
            ],
            "text/html": [
              "\n",
              "  <div id=\"df-176fd591-0a09-4b40-8b27-08faf0ceebda\">\n",
              "    <div class=\"colab-df-container\">\n",
              "      <div>\n",
              "<style scoped>\n",
              "    .dataframe tbody tr th:only-of-type {\n",
              "        vertical-align: middle;\n",
              "    }\n",
              "\n",
              "    .dataframe tbody tr th {\n",
              "        vertical-align: top;\n",
              "    }\n",
              "\n",
              "    .dataframe thead th {\n",
              "        text-align: right;\n",
              "    }\n",
              "</style>\n",
              "<table border=\"1\" class=\"dataframe\">\n",
              "  <thead>\n",
              "    <tr style=\"text-align: right;\">\n",
              "      <th></th>\n",
              "      <th>customer_id</th>\n",
              "      <th>first_name</th>\n",
              "      <th>last_name</th>\n",
              "      <th>username</th>\n",
              "      <th>email</th>\n",
              "      <th>gender</th>\n",
              "      <th>birthdate</th>\n",
              "      <th>device_type</th>\n",
              "      <th>device_id</th>\n",
              "      <th>device_version</th>\n",
              "      <th>home_location_lat</th>\n",
              "      <th>home_location_long</th>\n",
              "      <th>home_location</th>\n",
              "      <th>home_country</th>\n",
              "      <th>first_join_date</th>\n",
              "    </tr>\n",
              "  </thead>\n",
              "  <tbody>\n",
              "    <tr>\n",
              "      <th>0</th>\n",
              "      <td>2870</td>\n",
              "      <td>Lala</td>\n",
              "      <td>Maryati</td>\n",
              "      <td>671a0865-ac4e-4dc4-9c4f-c286a1176f7e</td>\n",
              "      <td>671a0865_ac4e_4dc4_9c4f_c286a1176f7e@startupca...</td>\n",
              "      <td>F</td>\n",
              "      <td>1996-06-14</td>\n",
              "      <td>iOS</td>\n",
              "      <td>c9c0de76-0a6c-4ac2-843f-65264ab9fe63</td>\n",
              "      <td>iPhone; CPU iPhone OS 14_2_1 like Mac OS X</td>\n",
              "      <td>-1.043345</td>\n",
              "      <td>101.360523</td>\n",
              "      <td>Sumatera Barat</td>\n",
              "      <td>Indonesia</td>\n",
              "      <td>2019-07-21</td>\n",
              "    </tr>\n",
              "    <tr>\n",
              "      <th>1</th>\n",
              "      <td>8193</td>\n",
              "      <td>Maimunah</td>\n",
              "      <td>Laksmiwati</td>\n",
              "      <td>83be2ba7-8133-48a4-bbcb-b46a2762473f</td>\n",
              "      <td>83be2ba7_8133_48a4_bbcb_b46a2762473f@zakyfound...</td>\n",
              "      <td>F</td>\n",
              "      <td>1993-08-16</td>\n",
              "      <td>Android</td>\n",
              "      <td>fb331c3d-f42e-40fe-afe2-b4b73a8a6e25</td>\n",
              "      <td>Android 2.2.1</td>\n",
              "      <td>-6.212489</td>\n",
              "      <td>106.818850</td>\n",
              "      <td>Jakarta Raya</td>\n",
              "      <td>Indonesia</td>\n",
              "      <td>2017-07-16</td>\n",
              "    </tr>\n",
              "    <tr>\n",
              "      <th>2</th>\n",
              "      <td>7279</td>\n",
              "      <td>Bakiman</td>\n",
              "      <td>Simanjuntak</td>\n",
              "      <td>3250e5a3-1d23-4675-a647-3281879d42be</td>\n",
              "      <td>3250e5a3_1d23_4675_a647_3281879d42be@startupca...</td>\n",
              "      <td>M</td>\n",
              "      <td>1989-01-23</td>\n",
              "      <td>iOS</td>\n",
              "      <td>d13dde0a-6ae1-43c3-83a7-11bbb922730b</td>\n",
              "      <td>iPad; CPU iPad OS 4_2_1 like Mac OS X</td>\n",
              "      <td>-8.631607</td>\n",
              "      <td>116.428436</td>\n",
              "      <td>Nusa Tenggara Barat</td>\n",
              "      <td>Indonesia</td>\n",
              "      <td>2020-08-23</td>\n",
              "    </tr>\n",
              "    <tr>\n",
              "      <th>3</th>\n",
              "      <td>88813</td>\n",
              "      <td>Cahyadi</td>\n",
              "      <td>Maheswara</td>\n",
              "      <td>df797edf-b465-4a80-973b-9fbb612260c2</td>\n",
              "      <td>df797edf_b465_4a80_973b_9fbb612260c2@zakyfound...</td>\n",
              "      <td>M</td>\n",
              "      <td>1991-01-05</td>\n",
              "      <td>iOS</td>\n",
              "      <td>f4c18515-c5be-419f-8142-f037be47c9cd</td>\n",
              "      <td>iPad; CPU iPad OS 14_2 like Mac OS X</td>\n",
              "      <td>1.299332</td>\n",
              "      <td>115.774934</td>\n",
              "      <td>Kalimantan Timur</td>\n",
              "      <td>Indonesia</td>\n",
              "      <td>2021-10-03</td>\n",
              "    </tr>\n",
              "    <tr>\n",
              "      <th>4</th>\n",
              "      <td>82542</td>\n",
              "      <td>Irnanto</td>\n",
              "      <td>Wijaya</td>\n",
              "      <td>36ab08e1-03de-42a8-9e3b-59528c798824</td>\n",
              "      <td>36ab08e1_03de_42a8_9e3b_59528c798824@startupca...</td>\n",
              "      <td>M</td>\n",
              "      <td>2000-07-15</td>\n",
              "      <td>iOS</td>\n",
              "      <td>e46e4c36-4630-4736-8fcf-663db29ca3b0</td>\n",
              "      <td>iPhone; CPU iPhone OS 10_3_3 like Mac OS X</td>\n",
              "      <td>-2.980807</td>\n",
              "      <td>114.924675</td>\n",
              "      <td>Kalimantan Selatan</td>\n",
              "      <td>Indonesia</td>\n",
              "      <td>2021-04-11</td>\n",
              "    </tr>\n",
              "  </tbody>\n",
              "</table>\n",
              "</div>\n",
              "      <button class=\"colab-df-convert\" onclick=\"convertToInteractive('df-176fd591-0a09-4b40-8b27-08faf0ceebda')\"\n",
              "              title=\"Convert this dataframe to an interactive table.\"\n",
              "              style=\"display:none;\">\n",
              "        \n",
              "  <svg xmlns=\"http://www.w3.org/2000/svg\" height=\"24px\"viewBox=\"0 0 24 24\"\n",
              "       width=\"24px\">\n",
              "    <path d=\"M0 0h24v24H0V0z\" fill=\"none\"/>\n",
              "    <path d=\"M18.56 5.44l.94 2.06.94-2.06 2.06-.94-2.06-.94-.94-2.06-.94 2.06-2.06.94zm-11 1L8.5 8.5l.94-2.06 2.06-.94-2.06-.94L8.5 2.5l-.94 2.06-2.06.94zm10 10l.94 2.06.94-2.06 2.06-.94-2.06-.94-.94-2.06-.94 2.06-2.06.94z\"/><path d=\"M17.41 7.96l-1.37-1.37c-.4-.4-.92-.59-1.43-.59-.52 0-1.04.2-1.43.59L10.3 9.45l-7.72 7.72c-.78.78-.78 2.05 0 2.83L4 21.41c.39.39.9.59 1.41.59.51 0 1.02-.2 1.41-.59l7.78-7.78 2.81-2.81c.8-.78.8-2.07 0-2.86zM5.41 20L4 18.59l7.72-7.72 1.47 1.35L5.41 20z\"/>\n",
              "  </svg>\n",
              "      </button>\n",
              "      \n",
              "  <style>\n",
              "    .colab-df-container {\n",
              "      display:flex;\n",
              "      flex-wrap:wrap;\n",
              "      gap: 12px;\n",
              "    }\n",
              "\n",
              "    .colab-df-convert {\n",
              "      background-color: #E8F0FE;\n",
              "      border: none;\n",
              "      border-radius: 50%;\n",
              "      cursor: pointer;\n",
              "      display: none;\n",
              "      fill: #1967D2;\n",
              "      height: 32px;\n",
              "      padding: 0 0 0 0;\n",
              "      width: 32px;\n",
              "    }\n",
              "\n",
              "    .colab-df-convert:hover {\n",
              "      background-color: #E2EBFA;\n",
              "      box-shadow: 0px 1px 2px rgba(60, 64, 67, 0.3), 0px 1px 3px 1px rgba(60, 64, 67, 0.15);\n",
              "      fill: #174EA6;\n",
              "    }\n",
              "\n",
              "    [theme=dark] .colab-df-convert {\n",
              "      background-color: #3B4455;\n",
              "      fill: #D2E3FC;\n",
              "    }\n",
              "\n",
              "    [theme=dark] .colab-df-convert:hover {\n",
              "      background-color: #434B5C;\n",
              "      box-shadow: 0px 1px 3px 1px rgba(0, 0, 0, 0.15);\n",
              "      filter: drop-shadow(0px 1px 2px rgba(0, 0, 0, 0.3));\n",
              "      fill: #FFFFFF;\n",
              "    }\n",
              "  </style>\n",
              "\n",
              "      <script>\n",
              "        const buttonEl =\n",
              "          document.querySelector('#df-176fd591-0a09-4b40-8b27-08faf0ceebda button.colab-df-convert');\n",
              "        buttonEl.style.display =\n",
              "          google.colab.kernel.accessAllowed ? 'block' : 'none';\n",
              "\n",
              "        async function convertToInteractive(key) {\n",
              "          const element = document.querySelector('#df-176fd591-0a09-4b40-8b27-08faf0ceebda');\n",
              "          const dataTable =\n",
              "            await google.colab.kernel.invokeFunction('convertToInteractive',\n",
              "                                                     [key], {});\n",
              "          if (!dataTable) return;\n",
              "\n",
              "          const docLinkHtml = 'Like what you see? Visit the ' +\n",
              "            '<a target=\"_blank\" href=https://colab.research.google.com/notebooks/data_table.ipynb>data table notebook</a>'\n",
              "            + ' to learn more about interactive tables.';\n",
              "          element.innerHTML = '';\n",
              "          dataTable['output_type'] = 'display_data';\n",
              "          await google.colab.output.renderOutput(dataTable, element);\n",
              "          const docLink = document.createElement('div');\n",
              "          docLink.innerHTML = docLinkHtml;\n",
              "          element.appendChild(docLink);\n",
              "        }\n",
              "      </script>\n",
              "    </div>\n",
              "  </div>\n",
              "  "
            ]
          },
          "metadata": {}
        },
        {
          "output_type": "display_data",
          "data": {
            "text/plain": [
              "None"
            ]
          },
          "metadata": {}
        }
      ]
    },
    {
      "cell_type": "code",
      "source": [
        "customer[customer['home_country']!= 'Indonesia']"
      ],
      "metadata": {
        "colab": {
          "base_uri": "https://localhost:8080/",
          "height": 113
        },
        "id": "wRORu0f0EBqI",
        "outputId": "ac5380de-11c8-4ddc-9520-0c88a541a4cc"
      },
      "execution_count": null,
      "outputs": [
        {
          "output_type": "execute_result",
          "data": {
            "text/plain": [
              "Empty DataFrame\n",
              "Columns: [customer_id, first_name, last_name, username, email, gender, birthdate, device_type, device_id, device_version, home_location_lat, home_location_long, home_location, home_country, first_join_date]\n",
              "Index: []"
            ],
            "text/html": [
              "\n",
              "  <div id=\"df-4e0aa63d-9b56-4012-8e5e-18a62ebada96\">\n",
              "    <div class=\"colab-df-container\">\n",
              "      <div>\n",
              "<style scoped>\n",
              "    .dataframe tbody tr th:only-of-type {\n",
              "        vertical-align: middle;\n",
              "    }\n",
              "\n",
              "    .dataframe tbody tr th {\n",
              "        vertical-align: top;\n",
              "    }\n",
              "\n",
              "    .dataframe thead th {\n",
              "        text-align: right;\n",
              "    }\n",
              "</style>\n",
              "<table border=\"1\" class=\"dataframe\">\n",
              "  <thead>\n",
              "    <tr style=\"text-align: right;\">\n",
              "      <th></th>\n",
              "      <th>customer_id</th>\n",
              "      <th>first_name</th>\n",
              "      <th>last_name</th>\n",
              "      <th>username</th>\n",
              "      <th>email</th>\n",
              "      <th>gender</th>\n",
              "      <th>birthdate</th>\n",
              "      <th>device_type</th>\n",
              "      <th>device_id</th>\n",
              "      <th>device_version</th>\n",
              "      <th>home_location_lat</th>\n",
              "      <th>home_location_long</th>\n",
              "      <th>home_location</th>\n",
              "      <th>home_country</th>\n",
              "      <th>first_join_date</th>\n",
              "    </tr>\n",
              "  </thead>\n",
              "  <tbody>\n",
              "  </tbody>\n",
              "</table>\n",
              "</div>\n",
              "      <button class=\"colab-df-convert\" onclick=\"convertToInteractive('df-4e0aa63d-9b56-4012-8e5e-18a62ebada96')\"\n",
              "              title=\"Convert this dataframe to an interactive table.\"\n",
              "              style=\"display:none;\">\n",
              "        \n",
              "  <svg xmlns=\"http://www.w3.org/2000/svg\" height=\"24px\"viewBox=\"0 0 24 24\"\n",
              "       width=\"24px\">\n",
              "    <path d=\"M0 0h24v24H0V0z\" fill=\"none\"/>\n",
              "    <path d=\"M18.56 5.44l.94 2.06.94-2.06 2.06-.94-2.06-.94-.94-2.06-.94 2.06-2.06.94zm-11 1L8.5 8.5l.94-2.06 2.06-.94-2.06-.94L8.5 2.5l-.94 2.06-2.06.94zm10 10l.94 2.06.94-2.06 2.06-.94-2.06-.94-.94-2.06-.94 2.06-2.06.94z\"/><path d=\"M17.41 7.96l-1.37-1.37c-.4-.4-.92-.59-1.43-.59-.52 0-1.04.2-1.43.59L10.3 9.45l-7.72 7.72c-.78.78-.78 2.05 0 2.83L4 21.41c.39.39.9.59 1.41.59.51 0 1.02-.2 1.41-.59l7.78-7.78 2.81-2.81c.8-.78.8-2.07 0-2.86zM5.41 20L4 18.59l7.72-7.72 1.47 1.35L5.41 20z\"/>\n",
              "  </svg>\n",
              "      </button>\n",
              "      \n",
              "  <style>\n",
              "    .colab-df-container {\n",
              "      display:flex;\n",
              "      flex-wrap:wrap;\n",
              "      gap: 12px;\n",
              "    }\n",
              "\n",
              "    .colab-df-convert {\n",
              "      background-color: #E8F0FE;\n",
              "      border: none;\n",
              "      border-radius: 50%;\n",
              "      cursor: pointer;\n",
              "      display: none;\n",
              "      fill: #1967D2;\n",
              "      height: 32px;\n",
              "      padding: 0 0 0 0;\n",
              "      width: 32px;\n",
              "    }\n",
              "\n",
              "    .colab-df-convert:hover {\n",
              "      background-color: #E2EBFA;\n",
              "      box-shadow: 0px 1px 2px rgba(60, 64, 67, 0.3), 0px 1px 3px 1px rgba(60, 64, 67, 0.15);\n",
              "      fill: #174EA6;\n",
              "    }\n",
              "\n",
              "    [theme=dark] .colab-df-convert {\n",
              "      background-color: #3B4455;\n",
              "      fill: #D2E3FC;\n",
              "    }\n",
              "\n",
              "    [theme=dark] .colab-df-convert:hover {\n",
              "      background-color: #434B5C;\n",
              "      box-shadow: 0px 1px 3px 1px rgba(0, 0, 0, 0.15);\n",
              "      filter: drop-shadow(0px 1px 2px rgba(0, 0, 0, 0.3));\n",
              "      fill: #FFFFFF;\n",
              "    }\n",
              "  </style>\n",
              "\n",
              "      <script>\n",
              "        const buttonEl =\n",
              "          document.querySelector('#df-4e0aa63d-9b56-4012-8e5e-18a62ebada96 button.colab-df-convert');\n",
              "        buttonEl.style.display =\n",
              "          google.colab.kernel.accessAllowed ? 'block' : 'none';\n",
              "\n",
              "        async function convertToInteractive(key) {\n",
              "          const element = document.querySelector('#df-4e0aa63d-9b56-4012-8e5e-18a62ebada96');\n",
              "          const dataTable =\n",
              "            await google.colab.kernel.invokeFunction('convertToInteractive',\n",
              "                                                     [key], {});\n",
              "          if (!dataTable) return;\n",
              "\n",
              "          const docLinkHtml = 'Like what you see? Visit the ' +\n",
              "            '<a target=\"_blank\" href=https://colab.research.google.com/notebooks/data_table.ipynb>data table notebook</a>'\n",
              "            + ' to learn more about interactive tables.';\n",
              "          element.innerHTML = '';\n",
              "          dataTable['output_type'] = 'display_data';\n",
              "          await google.colab.output.renderOutput(dataTable, element);\n",
              "          const docLink = document.createElement('div');\n",
              "          docLink.innerHTML = docLinkHtml;\n",
              "          element.appendChild(docLink);\n",
              "        }\n",
              "      </script>\n",
              "    </div>\n",
              "  </div>\n",
              "  "
            ]
          },
          "metadata": {},
          "execution_count": 35
        }
      ]
    },
    {
      "cell_type": "code",
      "source": [
        "# changing datatype (object -> datetime)\n",
        "customer['birthdate'] = pd.to_datetime(customer['birthdate'])\n",
        "customer['first_join_date'] = pd.to_datetime(customer['first_join_date'])"
      ],
      "metadata": {
        "id": "FcBWAPO21eOK"
      },
      "execution_count": 9,
      "outputs": []
    },
    {
      "cell_type": "code",
      "source": [
        "customer[['first_join_date','birthdate']].info()"
      ],
      "metadata": {
        "colab": {
          "base_uri": "https://localhost:8080/"
        },
        "id": "tyFuPS-01md2",
        "outputId": "980a323a-fc95-4fde-eb06-80fdef65743e"
      },
      "execution_count": 10,
      "outputs": [
        {
          "output_type": "stream",
          "name": "stdout",
          "text": [
            "<class 'pandas.core.frame.DataFrame'>\n",
            "RangeIndex: 100000 entries, 0 to 99999\n",
            "Data columns (total 2 columns):\n",
            " #   Column           Non-Null Count   Dtype         \n",
            "---  ------           --------------   -----         \n",
            " 0   first_join_date  100000 non-null  datetime64[ns]\n",
            " 1   birthdate        100000 non-null  datetime64[ns]\n",
            "dtypes: datetime64[ns](2)\n",
            "memory usage: 1.5 MB\n"
          ]
        }
      ]
    },
    {
      "cell_type": "code",
      "source": [
        "customer['year_month'] = customer['first_join_date'].dt.to_period('M')  # Extract the year and month as a period\n",
        "\n",
        "influx_by_month_year = customer.groupby('year_month').size().sort_values(ascending = False)\n",
        "\n",
        "pd.set_option('display.max_columns', None)\n",
        "pd.set_option('display.max_rows', None)\n",
        "\n",
        "print(influx_by_month_year)"
      ],
      "metadata": {
        "colab": {
          "base_uri": "https://localhost:8080/"
        },
        "id": "AfjZkuJ25xBd",
        "outputId": "ed6daf00-6816-490e-c654-d0393192a939"
      },
      "execution_count": null,
      "outputs": [
        {
          "output_type": "stream",
          "name": "stdout",
          "text": [
            "year_month\n",
            "2021-07    3348\n",
            "2020-07    2500\n",
            "2022-01    2361\n",
            "2021-10    2247\n",
            "2021-08    2214\n",
            "2022-07    2202\n",
            "2019-07    2100\n",
            "2022-05    2054\n",
            "2022-04    2019\n",
            "2018-07    2016\n",
            "2022-03    1954\n",
            "2021-09    1934\n",
            "2021-11    1919\n",
            "2022-02    1919\n",
            "2021-12    1877\n",
            "2020-08    1859\n",
            "2022-06    1851\n",
            "2021-01    1775\n",
            "2017-07    1725\n",
            "2021-05    1707\n",
            "2020-10    1589\n",
            "2020-11    1569\n",
            "2021-03    1501\n",
            "2021-06    1439\n",
            "2020-05    1430\n",
            "2020-09    1426\n",
            "2020-12    1415\n",
            "2021-04    1413\n",
            "2019-08    1402\n",
            "2021-02    1386\n",
            "2020-02    1340\n",
            "2019-11    1302\n",
            "2019-12    1278\n",
            "2019-03    1264\n",
            "2019-09    1258\n",
            "2019-06    1243\n",
            "2018-09    1238\n",
            "2019-10    1232\n",
            "2020-04    1190\n",
            "2018-12    1186\n",
            "2020-03    1183\n",
            "2020-06    1175\n",
            "2020-01    1145\n",
            "2018-08    1138\n",
            "2019-02    1111\n",
            "2017-12    1104\n",
            "2019-05    1089\n",
            "2018-06    1079\n",
            "2018-03    1061\n",
            "2018-11    1048\n",
            "2017-10    1039\n",
            "2017-09    1022\n",
            "2018-10    1021\n",
            "2019-04    1015\n",
            "2019-01    1009\n",
            "2018-01     994\n",
            "2017-08     960\n",
            "2018-04     957\n",
            "2017-11     931\n",
            "2018-05     925\n",
            "2018-02     924\n",
            "2016-10     881\n",
            "2017-04     863\n",
            "2016-07     825\n",
            "2017-01     816\n",
            "2017-03     810\n",
            "2016-12     782\n",
            "2016-11     764\n",
            "2016-09     751\n",
            "2017-02     749\n",
            "2016-08     720\n",
            "2017-06     711\n",
            "2017-05     710\n",
            "2016-06       6\n",
            "Freq: M, dtype: int64\n"
          ]
        }
      ]
    },
    {
      "cell_type": "markdown",
      "source": [
        "July has the most active customer influx"
      ],
      "metadata": {
        "id": "1SZ4uLSL6Sxf"
      }
    },
    {
      "cell_type": "code",
      "source": [
        "customer['year'] = customer['first_join_date'].dt.year  # Extract the year\n",
        "customer['month'] = customer['first_join_date'].dt.month  # Extract the month\n",
        "\n",
        "influx_by_year = customer.groupby('year').size()\n",
        "influx_by_month = customer.groupby('month').size()\n",
        "\n",
        "# Print the customer influx by year and month\n",
        "print(\"Customer Influx by Year:\")\n",
        "print(influx_by_year)\n",
        "\n",
        "print(\"\\nCustomer Influx by Month:\")\n",
        "print(influx_by_month)"
      ],
      "metadata": {
        "colab": {
          "base_uri": "https://localhost:8080/"
        },
        "id": "4Nq3Bm4H0ccf",
        "outputId": "4865b3df-55ae-4370-b81e-00278566f550"
      },
      "execution_count": null,
      "outputs": [
        {
          "output_type": "stream",
          "name": "stdout",
          "text": [
            "Customer Influx by Year:\n",
            "year\n",
            "2016     4729\n",
            "2017    11440\n",
            "2018    13587\n",
            "2019    15303\n",
            "2020    17821\n",
            "2021    22760\n",
            "2022    14360\n",
            "dtype: int64\n",
            "\n",
            "Customer Influx by Month:\n",
            "month\n",
            "1      8100\n",
            "2      7429\n",
            "3      7773\n",
            "4      7457\n",
            "5      7915\n",
            "6      7504\n",
            "7     14716\n",
            "8      8293\n",
            "9      7629\n",
            "10     8009\n",
            "11     7533\n",
            "12     7642\n",
            "dtype: int64\n"
          ]
        }
      ]
    },
    {
      "cell_type": "markdown",
      "source": [
        "- 2021 has the most active customer influx, accounting for 22.7%.\n",
        "- July has the most active customer influx, accounting for 14.7%.\n",
        "\n",
        "\n",
        " > check promo's impact on influx in transaction dataset.<br/>\n",
        " -> promo most used in July<br/>\n",
        " -> promo mostly used in 2021"
      ],
      "metadata": {
        "id": "FuBWnyrN15Zi"
      }
    },
    {
      "cell_type": "code",
      "source": [
        "# Create a figure and axis\n",
        "fig, (ax1, ax2) = plt.subplots(nrows=2, ncols=1, figsize=(8, 9))\n",
        "\n",
        "# customer influx by year\n",
        "influx_by_year.plot(kind='bar', ax=ax1)\n",
        "ax1.set_title('Customer Influx by Year')\n",
        "ax1.set_xlabel('Year')\n",
        "ax1.set_ylabel('customer_cnt')\n",
        "# Add numbers on top of each bar\n",
        "for i, v in enumerate(influx_by_year):\n",
        "    ax1.annotate(str(v), xy=(i, v), ha='center', va='bottom')\n",
        "\n",
        "# customer influx by month\n",
        "influx_by_month.plot(kind='bar', ax=ax2)\n",
        "ax2.set_title('Customer Influx by Month')\n",
        "ax2.set_xlabel('Month')\n",
        "ax2.set_ylabel('customer_cnt')\n",
        "# Add numbers on top of each bar\n",
        "for i, v in enumerate(influx_by_month):\n",
        "    ax2.annotate(str(v), xy=(i, v), ha='center', va='bottom')\n",
        "\n",
        "plt.tight_layout()\n",
        "\n",
        "# Display the graph\n",
        "plt.show()"
      ],
      "metadata": {
        "colab": {
          "base_uri": "https://localhost:8080/",
          "height": 907
        },
        "id": "o16ftFFEHgue",
        "outputId": "197b27a2-0a3b-44df-8f11-e07bdd897c6c"
      },
      "execution_count": null,
      "outputs": [
        {
          "output_type": "display_data",
          "data": {
            "text/plain": [
              "<Figure size 800x900 with 2 Axes>"
            ],
            "image/png": "[encoded data removed]"
          },
          "metadata": {}
        }
      ]
    },
    {
      "cell_type": "code",
      "source": [
        "customer.isna().sum()"
      ],
      "metadata": {
        "colab": {
          "base_uri": "https://localhost:8080/"
        },
        "id": "kTabm9ogNFIX",
        "outputId": "6c70fec7-8a9d-4ff4-c96b-08984c522cf5"
      },
      "execution_count": null,
      "outputs": [
        {
          "output_type": "execute_result",
          "data": {
            "text/plain": [
              "customer_id           0\n",
              "first_name            0\n",
              "last_name             0\n",
              "username              0\n",
              "email                 0\n",
              "gender                0\n",
              "birthdate             0\n",
              "device_type           0\n",
              "device_id             0\n",
              "device_version        0\n",
              "home_location_lat     0\n",
              "home_location_long    0\n",
              "home_location         0\n",
              "home_country          0\n",
              "first_join_date       0\n",
              "dtype: int64"
            ]
          },
          "metadata": {},
          "execution_count": 38
        }
      ]
    },
    {
      "cell_type": "code",
      "source": [
        "# drop the unnecessary columns \n",
        "columns_to_drop = ['email', 'home_location_lat', 'home_location_long', 'first_name', 'last_name', 'home_country']\n",
        "customer.drop(columns=columns_to_drop, inplace=True)\n",
        "customer"
      ],
      "metadata": {
        "id": "GLGIvtzGDnS1"
      },
      "execution_count": null,
      "outputs": []
    },
    {
      "cell_type": "markdown",
      "source": [
        "## Product"
      ],
      "metadata": {
        "id": "-XOrFspGMmAQ"
      }
    },
    {
      "cell_type": "code",
      "source": [
        "display(product.info(),product.head())"
      ],
      "metadata": {
        "colab": {
          "base_uri": "https://localhost:8080/",
          "height": 572
        },
        "id": "EdJF6e-iK-Zg",
        "outputId": "28c9cda0-8def-4e2c-9a0f-97cc99177230"
      },
      "execution_count": null,
      "outputs": [
        {
          "output_type": "stream",
          "name": "stdout",
          "text": [
            "<class 'pandas.core.frame.DataFrame'>\n",
            "RangeIndex: 44446 entries, 0 to 44445\n",
            "Data columns (total 10 columns):\n",
            " #   Column              Non-Null Count  Dtype  \n",
            "---  ------              --------------  -----  \n",
            " 0   id                  44446 non-null  int64  \n",
            " 1   gender              44446 non-null  object \n",
            " 2   masterCategory      44446 non-null  object \n",
            " 3   subCategory         44446 non-null  object \n",
            " 4   articleType         44446 non-null  object \n",
            " 5   baseColour          44431 non-null  object \n",
            " 6   season              44425 non-null  object \n",
            " 7   year                44445 non-null  float64\n",
            " 8   usage               44129 non-null  object \n",
            " 9   productDisplayName  44439 non-null  object \n",
            "dtypes: float64(1), int64(1), object(8)\n",
            "memory usage: 3.4+ MB\n"
          ]
        },
        {
          "output_type": "display_data",
          "data": {
            "text/plain": [
              "None"
            ]
          },
          "metadata": {}
        },
        {
          "output_type": "display_data",
          "data": {
            "text/plain": [
              "      id gender masterCategory subCategory  articleType baseColour  season  \\\n",
              "0  15970    Men        Apparel     Topwear       Shirts  Navy Blue    Fall   \n",
              "1  39386    Men        Apparel  Bottomwear        Jeans       Blue  Summer   \n",
              "2  59263  Women    Accessories     Watches      Watches     Silver  Winter   \n",
              "3  21379    Men        Apparel  Bottomwear  Track Pants      Black    Fall   \n",
              "4  53759    Men        Apparel     Topwear      Tshirts       Grey  Summer   \n",
              "\n",
              "     year   usage                             productDisplayName  \n",
              "0  2011.0  Casual               Turtle Check Men Navy Blue Shirt  \n",
              "1  2012.0  Casual             Peter England Men Party Blue Jeans  \n",
              "2  2016.0  Casual                       Titan Women Silver Watch  \n",
              "3  2011.0  Casual  Manchester United Men Solid Black Track Pants  \n",
              "4  2012.0  Casual                          Puma Men Grey T-shirt  "
            ],
            "text/html": [
              "\n",
              "  <div id=\"df-78bb0556-a61a-4a93-8ae2-1fdaa212f6d1\">\n",
              "    <div class=\"colab-df-container\">\n",
              "      <div>\n",
              "<style scoped>\n",
              "    .dataframe tbody tr th:only-of-type {\n",
              "        vertical-align: middle;\n",
              "    }\n",
              "\n",
              "    .dataframe tbody tr th {\n",
              "        vertical-align: top;\n",
              "    }\n",
              "\n",
              "    .dataframe thead th {\n",
              "        text-align: right;\n",
              "    }\n",
              "</style>\n",
              "<table border=\"1\" class=\"dataframe\">\n",
              "  <thead>\n",
              "    <tr style=\"text-align: right;\">\n",
              "      <th></th>\n",
              "      <th>id</th>\n",
              "      <th>gender</th>\n",
              "      <th>masterCategory</th>\n",
              "      <th>subCategory</th>\n",
              "      <th>articleType</th>\n",
              "      <th>baseColour</th>\n",
              "      <th>season</th>\n",
              "      <th>year</th>\n",
              "      <th>usage</th>\n",
              "      <th>productDisplayName</th>\n",
              "    </tr>\n",
              "  </thead>\n",
              "  <tbody>\n",
              "    <tr>\n",
              "      <th>0</th>\n",
              "      <td>15970</td>\n",
              "      <td>Men</td>\n",
              "      <td>Apparel</td>\n",
              "      <td>Topwear</td>\n",
              "      <td>Shirts</td>\n",
              "      <td>Navy Blue</td>\n",
              "      <td>Fall</td>\n",
              "      <td>2011.0</td>\n",
              "      <td>Casual</td>\n",
              "      <td>Turtle Check Men Navy Blue Shirt</td>\n",
              "    </tr>\n",
              "    <tr>\n",
              "      <th>1</th>\n",
              "      <td>39386</td>\n",
              "      <td>Men</td>\n",
              "      <td>Apparel</td>\n",
              "      <td>Bottomwear</td>\n",
              "      <td>Jeans</td>\n",
              "      <td>Blue</td>\n",
              "      <td>Summer</td>\n",
              "      <td>2012.0</td>\n",
              "      <td>Casual</td>\n",
              "      <td>Peter England Men Party Blue Jeans</td>\n",
              "    </tr>\n",
              "    <tr>\n",
              "      <th>2</th>\n",
              "      <td>59263</td>\n",
              "      <td>Women</td>\n",
              "      <td>Accessories</td>\n",
              "      <td>Watches</td>\n",
              "      <td>Watches</td>\n",
              "      <td>Silver</td>\n",
              "      <td>Winter</td>\n",
              "      <td>2016.0</td>\n",
              "      <td>Casual</td>\n",
              "      <td>Titan Women Silver Watch</td>\n",
              "    </tr>\n",
              "    <tr>\n",
              "      <th>3</th>\n",
              "      <td>21379</td>\n",
              "      <td>Men</td>\n",
              "      <td>Apparel</td>\n",
              "      <td>Bottomwear</td>\n",
              "      <td>Track Pants</td>\n",
              "      <td>Black</td>\n",
              "      <td>Fall</td>\n",
              "      <td>2011.0</td>\n",
              "      <td>Casual</td>\n",
              "      <td>Manchester United Men Solid Black Track Pants</td>\n",
              "    </tr>\n",
              "    <tr>\n",
              "      <th>4</th>\n",
              "      <td>53759</td>\n",
              "      <td>Men</td>\n",
              "      <td>Apparel</td>\n",
              "      <td>Topwear</td>\n",
              "      <td>Tshirts</td>\n",
              "      <td>Grey</td>\n",
              "      <td>Summer</td>\n",
              "      <td>2012.0</td>\n",
              "      <td>Casual</td>\n",
              "      <td>Puma Men Grey T-shirt</td>\n",
              "    </tr>\n",
              "  </tbody>\n",
              "</table>\n",
              "</div>\n",
              "      <button class=\"colab-df-convert\" onclick=\"convertToInteractive('df-78bb0556-a61a-4a93-8ae2-1fdaa212f6d1')\"\n",
              "              title=\"Convert this dataframe to an interactive table.\"\n",
              "              style=\"display:none;\">\n",
              "        \n",
              "  <svg xmlns=\"http://www.w3.org/2000/svg\" height=\"24px\"viewBox=\"0 0 24 24\"\n",
              "       width=\"24px\">\n",
              "    <path d=\"M0 0h24v24H0V0z\" fill=\"none\"/>\n",
              "    <path d=\"M18.56 5.44l.94 2.06.94-2.06 2.06-.94-2.06-.94-.94-2.06-.94 2.06-2.06.94zm-11 1L8.5 8.5l.94-2.06 2.06-.94-2.06-.94L8.5 2.5l-.94 2.06-2.06.94zm10 10l.94 2.06.94-2.06 2.06-.94-2.06-.94-.94-2.06-.94 2.06-2.06.94z\"/><path d=\"M17.41 7.96l-1.37-1.37c-.4-.4-.92-.59-1.43-.59-.52 0-1.04.2-1.43.59L10.3 9.45l-7.72 7.72c-.78.78-.78 2.05 0 2.83L4 21.41c.39.39.9.59 1.41.59.51 0 1.02-.2 1.41-.59l7.78-7.78 2.81-2.81c.8-.78.8-2.07 0-2.86zM5.41 20L4 18.59l7.72-7.72 1.47 1.35L5.41 20z\"/>\n",
              "  </svg>\n",
              "      </button>\n",
              "      \n",
              "  <style>\n",
              "    .colab-df-container {\n",
              "      display:flex;\n",
              "      flex-wrap:wrap;\n",
              "      gap: 12px;\n",
              "    }\n",
              "\n",
              "    .colab-df-convert {\n",
              "      background-color: #E8F0FE;\n",
              "      border: none;\n",
              "      border-radius: 50%;\n",
              "      cursor: pointer;\n",
              "      display: none;\n",
              "      fill: #1967D2;\n",
              "      height: 32px;\n",
              "      padding: 0 0 0 0;\n",
              "      width: 32px;\n",
              "    }\n",
              "\n",
              "    .colab-df-convert:hover {\n",
              "      background-color: #E2EBFA;\n",
              "      box-shadow: 0px 1px 2px rgba(60, 64, 67, 0.3), 0px 1px 3px 1px rgba(60, 64, 67, 0.15);\n",
              "      fill: #174EA6;\n",
              "    }\n",
              "\n",
              "    [theme=dark] .colab-df-convert {\n",
              "      background-color: #3B4455;\n",
              "      fill: #D2E3FC;\n",
              "    }\n",
              "\n",
              "    [theme=dark] .colab-df-convert:hover {\n",
              "      background-color: #434B5C;\n",
              "      box-shadow: 0px 1px 3px 1px rgba(0, 0, 0, 0.15);\n",
              "      filter: drop-shadow(0px 1px 2px rgba(0, 0, 0, 0.3));\n",
              "      fill: #FFFFFF;\n",
              "    }\n",
              "  </style>\n",
              "\n",
              "      <script>\n",
              "        const buttonEl =\n",
              "          document.querySelector('#df-78bb0556-a61a-4a93-8ae2-1fdaa212f6d1 button.colab-df-convert');\n",
              "        buttonEl.style.display =\n",
              "          google.colab.kernel.accessAllowed ? 'block' : 'none';\n",
              "\n",
              "        async function convertToInteractive(key) {\n",
              "          const element = document.querySelector('#df-78bb0556-a61a-4a93-8ae2-1fdaa212f6d1');\n",
              "          const dataTable =\n",
              "            await google.colab.kernel.invokeFunction('convertToInteractive',\n",
              "                                                     [key], {});\n",
              "          if (!dataTable) return;\n",
              "\n",
              "          const docLinkHtml = 'Like what you see? Visit the ' +\n",
              "            '<a target=\"_blank\" href=https://colab.research.google.com/notebooks/data_table.ipynb>data table notebook</a>'\n",
              "            + ' to learn more about interactive tables.';\n",
              "          element.innerHTML = '';\n",
              "          dataTable['output_type'] = 'display_data';\n",
              "          await google.colab.output.renderOutput(dataTable, element);\n",
              "          const docLink = document.createElement('div');\n",
              "          docLink.innerHTML = docLinkHtml;\n",
              "          element.appendChild(docLink);\n",
              "        }\n",
              "      </script>\n",
              "    </div>\n",
              "  </div>\n",
              "  "
            ]
          },
          "metadata": {}
        }
      ]
    },
    {
      "cell_type": "code",
      "source": [
        "product.isna().sum()"
      ],
      "metadata": {
        "colab": {
          "base_uri": "https://localhost:8080/"
        },
        "id": "uXhc1fHUMyDD",
        "outputId": "f0f0c419-7a9c-42c1-9598-850ba981cd34"
      },
      "execution_count": null,
      "outputs": [
        {
          "output_type": "execute_result",
          "data": {
            "text/plain": [
              "id                      0\n",
              "gender                  0\n",
              "masterCategory          0\n",
              "subCategory             0\n",
              "articleType             0\n",
              "baseColour             15\n",
              "season                 21\n",
              "year                    1\n",
              "usage                 317\n",
              "productDisplayName      7\n",
              "dtype: int64"
            ]
          },
          "metadata": {},
          "execution_count": 41
        }
      ]
    },
    {
      "cell_type": "code",
      "source": [
        "product['season'].isna()"
      ],
      "metadata": {
        "colab": {
          "base_uri": "https://localhost:8080/"
        },
        "id": "-YOPhsoIcrsd",
        "outputId": "c6294b34-fdcc-4a74-b8eb-1a45afff0b0c"
      },
      "execution_count": null,
      "outputs": [
        {
          "output_type": "execute_result",
          "data": {
            "text/plain": [
              "0        False\n",
              "1        False\n",
              "2        False\n",
              "3        False\n",
              "4        False\n",
              "         ...  \n",
              "44441    False\n",
              "44442    False\n",
              "44443    False\n",
              "44444    False\n",
              "44445    False\n",
              "Name: season, Length: 44446, dtype: bool"
            ]
          },
          "metadata": {},
          "execution_count": 42
        }
      ]
    },
    {
      "cell_type": "code",
      "source": [
        "product.usage.unique()"
      ],
      "metadata": {
        "colab": {
          "base_uri": "https://localhost:8080/"
        },
        "id": "lXeQPRP4N2qi",
        "outputId": "683d17a1-b22f-4eb0-bf78-4a40fe490e8c"
      },
      "execution_count": null,
      "outputs": [
        {
          "output_type": "execute_result",
          "data": {
            "text/plain": [
              "array(['Casual', 'Ethnic', 'Formal', 'Sports', nan, 'Smart Casual',\n",
              "       'Travel', 'Party', 'Home'], dtype=object)"
            ]
          },
          "metadata": {},
          "execution_count": 43
        }
      ]
    },
    {
      "cell_type": "code",
      "source": [
        "print(product[product['year'].isna()])"
      ],
      "metadata": {
        "colab": {
          "base_uri": "https://localhost:8080/"
        },
        "id": "7zoRwcoaLazN",
        "outputId": "9a2d2f82-5804-466f-dfde-4cf354d51d44"
      },
      "execution_count": null,
      "outputs": [
        {
          "output_type": "stream",
          "name": "stdout",
          "text": [
            "          id gender masterCategory subCategory articleType baseColour season  \\\n",
            "21285  53781    Men        Apparel     Topwear     Tshirts       Blue    NaN   \n",
            "\n",
            "       year   usage                      productDisplayName  \n",
            "21285   NaN  Sports  Puma Men Blue Sless Round Neck T-shirt  \n"
          ]
        }
      ]
    },
    {
      "cell_type": "code",
      "source": [
        "# year (float -> int)\n",
        "# Fill NaN value in 'year' column with a specific integer value (e.g., -1)\n",
        "product['year'] = product['year'].fillna(-1).astype(int)"
      ],
      "metadata": {
        "id": "JFd351aXLMQg"
      },
      "execution_count": null,
      "outputs": []
    },
    {
      "cell_type": "code",
      "source": [
        "year_counts = product['year'].value_counts()\n",
        "\n",
        "plt.figure(figsize=(5, 3))\n",
        "year_counts.plot(kind='bar')\n",
        "plt.xlabel('Year')\n",
        "plt.ylabel('Count')\n",
        "plt.title('Count of Years')\n",
        "plt.show()"
      ],
      "metadata": {
        "colab": {
          "base_uri": "https://localhost:8080/",
          "height": 354
        },
        "id": "UxI-vt11MVNi",
        "outputId": "d5c4d731-8213-4b12-fa63-e40acbcf95db"
      },
      "execution_count": null,
      "outputs": [
        {
          "output_type": "display_data",
          "data": {
            "text/plain": [
              "<Figure size 500x300 with 1 Axes>"
            ],
            "image/png": "[encoded data removed]"
          },
          "metadata": {}
        }
      ]
    },
    {
      "cell_type": "code",
      "source": [
        "product['year'].value_counts()"
      ],
      "metadata": {
        "colab": {
          "base_uri": "https://localhost:8080/"
        },
        "id": "tlu1Xrm6xNm-",
        "outputId": "289a6372-1709-4005-fe44-3539304c3839"
      },
      "execution_count": null,
      "outputs": [
        {
          "output_type": "execute_result",
          "data": {
            "text/plain": [
              " 2012    16290\n",
              " 2011    13689\n",
              " 2016     6007\n",
              " 2017     2917\n",
              " 2015     2780\n",
              " 2013     1213\n",
              " 2010      846\n",
              " 2018      405\n",
              " 2014      236\n",
              " 2019       33\n",
              " 2009       20\n",
              " 2008        7\n",
              " 2007        2\n",
              "-1           1\n",
              "Name: year, dtype: int64"
            ]
          },
          "metadata": {},
          "execution_count": 58
        }
      ]
    },
    {
      "cell_type": "markdown",
      "source": [
        "회사의 설립이 16년에 됐기 때문에 제품 연도를 제품의 생산년도로 파악하기로 했다."
      ],
      "metadata": {
        "id": "sK-5OVKXxSFQ"
      }
    },
    {
      "cell_type": "markdown",
      "source": [
        "## click_stream"
      ],
      "metadata": {
        "id": "PyHtoU102B7k"
      }
    },
    {
      "cell_type": "code",
      "source": [
        "display(click_stream.head(10), click_stream.info())"
      ],
      "metadata": {
        "colab": {
          "base_uri": "https://localhost:8080/",
          "height": 1000
        },
        "id": "naMjh2cq2McS",
        "outputId": "7c751009-aae3-4f7f-ef15-97bfb09be361"
      },
      "execution_count": null,
      "outputs": [
        {
          "output_type": "stream",
          "name": "stdout",
          "text": [
            "<class 'pandas.core.frame.DataFrame'>\n",
            "RangeIndex: 12833602 entries, 0 to 12833601\n",
            "Data columns (total 12 columns):\n",
            " #   Column           Dtype  \n",
            "---  ------           -----  \n",
            " 0   session_id       object \n",
            " 1   event_name       object \n",
            " 2   event_time       object \n",
            " 3   event_id         object \n",
            " 4   traffic_source   object \n",
            " 5   product_id       float64\n",
            " 6   quantity         float64\n",
            " 7   item_price       float64\n",
            " 8   payment_status   object \n",
            " 9   search_keywords  object \n",
            " 10  promo_code       object \n",
            " 11  promo_amount     float64\n",
            "dtypes: float64(4), object(8)\n",
            "memory usage: 1.1+ GB\n"
          ]
        },
        {
          "output_type": "display_data",
          "data": {
            "text/plain": [
              "                             session_id   event_name  \\\n",
              "0  fb0abf9e-fd1a-44dd-b5c0-2834d5a4b81c     HOMEPAGE   \n",
              "1  fb0abf9e-fd1a-44dd-b5c0-2834d5a4b81c       SCROLL   \n",
              "2  7d440441-e67a-4d36-b324-80ffd636d166     HOMEPAGE   \n",
              "3  7d440441-e67a-4d36-b324-80ffd636d166  ADD_TO_CART   \n",
              "4  7d440441-e67a-4d36-b324-80ffd636d166      BOOKING   \n",
              "5  7d440441-e67a-4d36-b324-80ffd636d166       SEARCH   \n",
              "6  7d440441-e67a-4d36-b324-80ffd636d166     HOMEPAGE   \n",
              "7  7d440441-e67a-4d36-b324-80ffd636d166  ITEM_DETAIL   \n",
              "8  7d440441-e67a-4d36-b324-80ffd636d166       SCROLL   \n",
              "9  7d440441-e67a-4d36-b324-80ffd636d166  ITEM_DETAIL   \n",
              "\n",
              "                    event_time                              event_id  \\\n",
              "0  2019-09-06T15:54:32.821085Z  9c4388c4-c95b-4678-b5ca-e9cbc0734109   \n",
              "1  2019-09-06T16:03:57.821085Z  4690e1f5-3f99-42d3-84a5-22c4c4d8500a   \n",
              "2  2019-09-01T12:05:10.322763Z  88aeaeb5-ec98-4859-852c-8abb483faf31   \n",
              "3  2019-09-01T12:06:33.322763Z  934e306e-ecc6-472f-9ccb-12c8536910a2   \n",
              "4  2019-09-01T12:15:29.425431Z  9f4767a1-40fa-4c9c-9524-dfad18634d56   \n",
              "5  2019-09-01T12:07:00.322763Z  c952142b-4fe9-4694-ad7f-21a5d1bed9ca   \n",
              "6  2019-09-01T12:08:27.322763Z  365b3840-9647-4bf5-917f-f0bec3d05332   \n",
              "7  2019-09-01T12:09:49.322763Z  1a1e3548-108e-4520-bf04-1b01d43a72cb   \n",
              "8  2019-09-01T12:11:06.322763Z  f7246095-b094-46c1-b2ac-bcfd080146c3   \n",
              "9  2019-09-01T12:12:19.322763Z  74a000dc-b931-4c59-abcc-02e991623bc1   \n",
              "\n",
              "  traffic_source  product_id  quantity  item_price payment_status  \\\n",
              "0         MOBILE         NaN       NaN         NaN            NaN   \n",
              "1         MOBILE         NaN       NaN         NaN            NaN   \n",
              "2         MOBILE         NaN       NaN         NaN            NaN   \n",
              "3         MOBILE     15315.0       4.0    313529.0            NaN   \n",
              "4         MOBILE         NaN       NaN         NaN        Success   \n",
              "5         MOBILE         NaN       NaN         NaN            NaN   \n",
              "6         MOBILE         NaN       NaN         NaN            NaN   \n",
              "7         MOBILE         NaN       NaN         NaN            NaN   \n",
              "8         MOBILE         NaN       NaN         NaN            NaN   \n",
              "9         MOBILE         NaN       NaN         NaN            NaN   \n",
              "\n",
              "   search_keywords promo_code  promo_amount  \n",
              "0              NaN        NaN           NaN  \n",
              "1              NaN        NaN           NaN  \n",
              "2              NaN        NaN           NaN  \n",
              "3              NaN        NaN           NaN  \n",
              "4              NaN        NaN           NaN  \n",
              "5  Dress Kondangan        NaN           NaN  \n",
              "6              NaN        NaN           NaN  \n",
              "7              NaN        NaN           NaN  \n",
              "8              NaN        NaN           NaN  \n",
              "9              NaN        NaN           NaN  "
            ],
            "text/html": [
              "\n",
              "  <div id=\"df-903ec0c1-cde1-4f51-900e-6a8c7affc069\">\n",
              "    <div class=\"colab-df-container\">\n",
              "      <div>\n",
              "<style scoped>\n",
              "    .dataframe tbody tr th:only-of-type {\n",
              "        vertical-align: middle;\n",
              "    }\n",
              "\n",
              "    .dataframe tbody tr th {\n",
              "        vertical-align: top;\n",
              "    }\n",
              "\n",
              "    .dataframe thead th {\n",
              "        text-align: right;\n",
              "    }\n",
              "</style>\n",
              "<table border=\"1\" class=\"dataframe\">\n",
              "  <thead>\n",
              "    <tr style=\"text-align: right;\">\n",
              "      <th></th>\n",
              "      <th>session_id</th>\n",
              "      <th>event_name</th>\n",
              "      <th>event_time</th>\n",
              "      <th>event_id</th>\n",
              "      <th>traffic_source</th>\n",
              "      <th>product_id</th>\n",
              "      <th>quantity</th>\n",
              "      <th>item_price</th>\n",
              "      <th>payment_status</th>\n",
              "      <th>search_keywords</th>\n",
              "      <th>promo_code</th>\n",
              "      <th>promo_amount</th>\n",
              "    </tr>\n",
              "  </thead>\n",
              "  <tbody>\n",
              "    <tr>\n",
              "      <th>0</th>\n",
              "      <td>fb0abf9e-fd1a-44dd-b5c0-2834d5a4b81c</td>\n",
              "      <td>HOMEPAGE</td>\n",
              "      <td>2019-09-06T15:54:32.821085Z</td>\n",
              "      <td>9c4388c4-c95b-4678-b5ca-e9cbc0734109</td>\n",
              "      <td>MOBILE</td>\n",
              "      <td>NaN</td>\n",
              "      <td>NaN</td>\n",
              "      <td>NaN</td>\n",
              "      <td>NaN</td>\n",
              "      <td>NaN</td>\n",
              "      <td>NaN</td>\n",
              "      <td>NaN</td>\n",
              "    </tr>\n",
              "    <tr>\n",
              "      <th>1</th>\n",
              "      <td>fb0abf9e-fd1a-44dd-b5c0-2834d5a4b81c</td>\n",
              "      <td>SCROLL</td>\n",
              "      <td>2019-09-06T16:03:57.821085Z</td>\n",
              "      <td>4690e1f5-3f99-42d3-84a5-22c4c4d8500a</td>\n",
              "      <td>MOBILE</td>\n",
              "      <td>NaN</td>\n",
              "      <td>NaN</td>\n",
              "      <td>NaN</td>\n",
              "      <td>NaN</td>\n",
              "      <td>NaN</td>\n",
              "      <td>NaN</td>\n",
              "      <td>NaN</td>\n",
              "    </tr>\n",
              "    <tr>\n",
              "      <th>2</th>\n",
              "      <td>7d440441-e67a-4d36-b324-80ffd636d166</td>\n",
              "      <td>HOMEPAGE</td>\n",
              "      <td>2019-09-01T12:05:10.322763Z</td>\n",
              "      <td>88aeaeb5-ec98-4859-852c-8abb483faf31</td>\n",
              "      <td>MOBILE</td>\n",
              "      <td>NaN</td>\n",
              "      <td>NaN</td>\n",
              "      <td>NaN</td>\n",
              "      <td>NaN</td>\n",
              "      <td>NaN</td>\n",
              "      <td>NaN</td>\n",
              "      <td>NaN</td>\n",
              "    </tr>\n",
              "    <tr>\n",
              "      <th>3</th>\n",
              "      <td>7d440441-e67a-4d36-b324-80ffd636d166</td>\n",
              "      <td>ADD_TO_CART</td>\n",
              "      <td>2019-09-01T12:06:33.322763Z</td>\n",
              "      <td>934e306e-ecc6-472f-9ccb-12c8536910a2</td>\n",
              "      <td>MOBILE</td>\n",
              "      <td>15315.0</td>\n",
              "      <td>4.0</td>\n",
              "      <td>313529.0</td>\n",
              "      <td>NaN</td>\n",
              "      <td>NaN</td>\n",
              "      <td>NaN</td>\n",
              "      <td>NaN</td>\n",
              "    </tr>\n",
              "    <tr>\n",
              "      <th>4</th>\n",
              "      <td>7d440441-e67a-4d36-b324-80ffd636d166</td>\n",
              "      <td>BOOKING</td>\n",
              "      <td>2019-09-01T12:15:29.425431Z</td>\n",
              "      <td>9f4767a1-40fa-4c9c-9524-dfad18634d56</td>\n",
              "      <td>MOBILE</td>\n",
              "      <td>NaN</td>\n",
              "      <td>NaN</td>\n",
              "      <td>NaN</td>\n",
              "      <td>Success</td>\n",
              "      <td>NaN</td>\n",
              "      <td>NaN</td>\n",
              "      <td>NaN</td>\n",
              "    </tr>\n",
              "    <tr>\n",
              "      <th>5</th>\n",
              "      <td>7d440441-e67a-4d36-b324-80ffd636d166</td>\n",
              "      <td>SEARCH</td>\n",
              "      <td>2019-09-01T12:07:00.322763Z</td>\n",
              "      <td>c952142b-4fe9-4694-ad7f-21a5d1bed9ca</td>\n",
              "      <td>MOBILE</td>\n",
              "      <td>NaN</td>\n",
              "      <td>NaN</td>\n",
              "      <td>NaN</td>\n",
              "      <td>NaN</td>\n",
              "      <td>Dress Kondangan</td>\n",
              "      <td>NaN</td>\n",
              "      <td>NaN</td>\n",
              "    </tr>\n",
              "    <tr>\n",
              "      <th>6</th>\n",
              "      <td>7d440441-e67a-4d36-b324-80ffd636d166</td>\n",
              "      <td>HOMEPAGE</td>\n",
              "      <td>2019-09-01T12:08:27.322763Z</td>\n",
              "      <td>365b3840-9647-4bf5-917f-f0bec3d05332</td>\n",
              "      <td>MOBILE</td>\n",
              "      <td>NaN</td>\n",
              "      <td>NaN</td>\n",
              "      <td>NaN</td>\n",
              "      <td>NaN</td>\n",
              "      <td>NaN</td>\n",
              "      <td>NaN</td>\n",
              "      <td>NaN</td>\n",
              "    </tr>\n",
              "    <tr>\n",
              "      <th>7</th>\n",
              "      <td>7d440441-e67a-4d36-b324-80ffd636d166</td>\n",
              "      <td>ITEM_DETAIL</td>\n",
              "      <td>2019-09-01T12:09:49.322763Z</td>\n",
              "      <td>1a1e3548-108e-4520-bf04-1b01d43a72cb</td>\n",
              "      <td>MOBILE</td>\n",
              "      <td>NaN</td>\n",
              "      <td>NaN</td>\n",
              "      <td>NaN</td>\n",
              "      <td>NaN</td>\n",
              "      <td>NaN</td>\n",
              "      <td>NaN</td>\n",
              "      <td>NaN</td>\n",
              "    </tr>\n",
              "    <tr>\n",
              "      <th>8</th>\n",
              "      <td>7d440441-e67a-4d36-b324-80ffd636d166</td>\n",
              "      <td>SCROLL</td>\n",
              "      <td>2019-09-01T12:11:06.322763Z</td>\n",
              "      <td>f7246095-b094-46c1-b2ac-bcfd080146c3</td>\n",
              "      <td>MOBILE</td>\n",
              "      <td>NaN</td>\n",
              "      <td>NaN</td>\n",
              "      <td>NaN</td>\n",
              "      <td>NaN</td>\n",
              "      <td>NaN</td>\n",
              "      <td>NaN</td>\n",
              "      <td>NaN</td>\n",
              "    </tr>\n",
              "    <tr>\n",
              "      <th>9</th>\n",
              "      <td>7d440441-e67a-4d36-b324-80ffd636d166</td>\n",
              "      <td>ITEM_DETAIL</td>\n",
              "      <td>2019-09-01T12:12:19.322763Z</td>\n",
              "      <td>74a000dc-b931-4c59-abcc-02e991623bc1</td>\n",
              "      <td>MOBILE</td>\n",
              "      <td>NaN</td>\n",
              "      <td>NaN</td>\n",
              "      <td>NaN</td>\n",
              "      <td>NaN</td>\n",
              "      <td>NaN</td>\n",
              "      <td>NaN</td>\n",
              "      <td>NaN</td>\n",
              "    </tr>\n",
              "  </tbody>\n",
              "</table>\n",
              "</div>\n",
              "      <button class=\"colab-df-convert\" onclick=\"convertToInteractive('df-903ec0c1-cde1-4f51-900e-6a8c7affc069')\"\n",
              "              title=\"Convert this dataframe to an interactive table.\"\n",
              "              style=\"display:none;\">\n",
              "        \n",
              "  <svg xmlns=\"http://www.w3.org/2000/svg\" height=\"24px\"viewBox=\"0 0 24 24\"\n",
              "       width=\"24px\">\n",
              "    <path d=\"M0 0h24v24H0V0z\" fill=\"none\"/>\n",
              "    <path d=\"M18.56 5.44l.94 2.06.94-2.06 2.06-.94-2.06-.94-.94-2.06-.94 2.06-2.06.94zm-11 1L8.5 8.5l.94-2.06 2.06-.94-2.06-.94L8.5 2.5l-.94 2.06-2.06.94zm10 10l.94 2.06.94-2.06 2.06-.94-2.06-.94-.94-2.06-.94 2.06-2.06.94z\"/><path d=\"M17.41 7.96l-1.37-1.37c-.4-.4-.92-.59-1.43-.59-.52 0-1.04.2-1.43.59L10.3 9.45l-7.72 7.72c-.78.78-.78 2.05 0 2.83L4 21.41c.39.39.9.59 1.41.59.51 0 1.02-.2 1.41-.59l7.78-7.78 2.81-2.81c.8-.78.8-2.07 0-2.86zM5.41 20L4 18.59l7.72-7.72 1.47 1.35L5.41 20z\"/>\n",
              "  </svg>\n",
              "      </button>\n",
              "      \n",
              "  <style>\n",
              "    .colab-df-container {\n",
              "      display:flex;\n",
              "      flex-wrap:wrap;\n",
              "      gap: 12px;\n",
              "    }\n",
              "\n",
              "    .colab-df-convert {\n",
              "      background-color: #E8F0FE;\n",
              "      border: none;\n",
              "      border-radius: 50%;\n",
              "      cursor: pointer;\n",
              "      display: none;\n",
              "      fill: #1967D2;\n",
              "      height: 32px;\n",
              "      padding: 0 0 0 0;\n",
              "      width: 32px;\n",
              "    }\n",
              "\n",
              "    .colab-df-convert:hover {\n",
              "      background-color: #E2EBFA;\n",
              "      box-shadow: 0px 1px 2px rgba(60, 64, 67, 0.3), 0px 1px 3px 1px rgba(60, 64, 67, 0.15);\n",
              "      fill: #174EA6;\n",
              "    }\n",
              "\n",
              "    [theme=dark] .colab-df-convert {\n",
              "      background-color: #3B4455;\n",
              "      fill: #D2E3FC;\n",
              "    }\n",
              "\n",
              "    [theme=dark] .colab-df-convert:hover {\n",
              "      background-color: #434B5C;\n",
              "      box-shadow: 0px 1px 3px 1px rgba(0, 0, 0, 0.15);\n",
              "      filter: drop-shadow(0px 1px 2px rgba(0, 0, 0, 0.3));\n",
              "      fill: #FFFFFF;\n",
              "    }\n",
              "  </style>\n",
              "\n",
              "      <script>\n",
              "        const buttonEl =\n",
              "          document.querySelector('#df-903ec0c1-cde1-4f51-900e-6a8c7affc069 button.colab-df-convert');\n",
              "        buttonEl.style.display =\n",
              "          google.colab.kernel.accessAllowed ? 'block' : 'none';\n",
              "\n",
              "        async function convertToInteractive(key) {\n",
              "          const element = document.querySelector('#df-903ec0c1-cde1-4f51-900e-6a8c7affc069');\n",
              "          const dataTable =\n",
              "            await google.colab.kernel.invokeFunction('convertToInteractive',\n",
              "                                                     [key], {});\n",
              "          if (!dataTable) return;\n",
              "\n",
              "          const docLinkHtml = 'Like what you see? Visit the ' +\n",
              "            '<a target=\"_blank\" href=https://colab.research.google.com/notebooks/data_table.ipynb>data table notebook</a>'\n",
              "            + ' to learn more about interactive tables.';\n",
              "          element.innerHTML = '';\n",
              "          dataTable['output_type'] = 'display_data';\n",
              "          await google.colab.output.renderOutput(dataTable, element);\n",
              "          const docLink = document.createElement('div');\n",
              "          docLink.innerHTML = docLinkHtml;\n",
              "          element.appendChild(docLink);\n",
              "        }\n",
              "      </script>\n",
              "    </div>\n",
              "  </div>\n",
              "  "
            ]
          },
          "metadata": {}
        },
        {
          "output_type": "display_data",
          "data": {
            "text/plain": [
              "None"
            ]
          },
          "metadata": {}
        }
      ]
    },
    {
      "cell_type": "code",
      "source": [
        "click_stream.event_name.unique()"
      ],
      "metadata": {
        "colab": {
          "base_uri": "https://localhost:8080/"
        },
        "id": "LTkT1gXx426_",
        "outputId": "5c699e36-0e57-48a5-8553-a08f7f3f6270"
      },
      "execution_count": null,
      "outputs": [
        {
          "output_type": "execute_result",
          "data": {
            "text/plain": [
              "array(['HOMEPAGE', 'SCROLL', 'ADD_TO_CART', 'BOOKING', 'SEARCH',\n",
              "       'ITEM_DETAIL', 'ADD_PROMO', 'CLICK', 'PROMO_PAGE'], dtype=object)"
            ]
          },
          "metadata": {},
          "execution_count": 48
        }
      ]
    },
    {
      "cell_type": "code",
      "source": [
        "click_stream.payment_status.value_counts()"
      ],
      "metadata": {
        "colab": {
          "base_uri": "https://localhost:8080/"
        },
        "id": "G4opA-qO4nLU",
        "outputId": "a2eb07d2-6cc3-4365-ed3d-1b1503122839"
      },
      "execution_count": null,
      "outputs": [
        {
          "output_type": "execute_result",
          "data": {
            "text/plain": [
              "Success    815962\n",
              "Failed      36620\n",
              "Name: payment_status, dtype: int64"
            ]
          },
          "metadata": {},
          "execution_count": 49
        }
      ]
    },
    {
      "cell_type": "code",
      "source": [
        "click_stream.shape"
      ],
      "metadata": {
        "colab": {
          "base_uri": "https://localhost:8080/"
        },
        "id": "aa73qY_e5SaD",
        "outputId": "bddb2532-4f22-4d89-d119-204f0bc8efb7"
      },
      "execution_count": null,
      "outputs": [
        {
          "output_type": "execute_result",
          "data": {
            "text/plain": [
              "(12833602, 12)"
            ]
          },
          "metadata": {},
          "execution_count": 50
        }
      ]
    },
    {
      "cell_type": "code",
      "source": [
        "import math\n",
        "click_stream.shape[0] - click_stream['promo_code'].isna().sum()"
      ],
      "metadata": {
        "colab": {
          "base_uri": "https://localhost:8080/"
        },
        "id": "s2gxa8ME53P4",
        "outputId": "ebd9a875-0419-45ee-c9b4-1004a42b7aaa"
      },
      "execution_count": null,
      "outputs": [
        {
          "output_type": "execute_result",
          "data": {
            "text/plain": [
              "326535"
            ]
          },
          "metadata": {},
          "execution_count": 51
        }
      ]
    },
    {
      "cell_type": "code",
      "source": [
        "click_stream.isna().sum()"
      ],
      "metadata": {
        "colab": {
          "base_uri": "https://localhost:8080/"
        },
        "id": "OK509ngk3oLr",
        "outputId": "d19ccfde-e61c-4ff8-927a-da3ca05710ff"
      },
      "execution_count": null,
      "outputs": [
        {
          "output_type": "execute_result",
          "data": {
            "text/plain": [
              "session_id                0\n",
              "event_name                0\n",
              "event_time                0\n",
              "event_id                  0\n",
              "traffic_source            0\n",
              "product_id         10896445\n",
              "quantity           10896445\n",
              "item_price         10896445\n",
              "payment_status     11981020\n",
              "search_keywords    11660336\n",
              "promo_code         12507067\n",
              "promo_amount       12507067\n",
              "dtype: int64"
            ]
          },
          "metadata": {},
          "execution_count": 52
        }
      ]
    },
    {
      "cell_type": "markdown",
      "source": [
        "# EDA"
      ],
      "metadata": {
        "id": "ZCZsMDyT1jhC"
      }
    },
    {
      "cell_type": "code",
      "source": [
        "# Merge transaction and customer datasets\n",
        "merged = pd.merge(transaction, customer, on='customer_id', how='left')\n",
        "merged.head()"
      ],
      "metadata": {
        "id": "CGfRRXJKv6sz",
        "colab": {
          "base_uri": "https://localhost:8080/",
          "height": 560
        },
        "outputId": "4d7bcce5-33c1-4c64-cad4-1f887566abfb"
      },
      "execution_count": 12,
      "outputs": [
        {
          "output_type": "execute_result",
          "data": {
            "text/plain": [
              "  created_at  customer_id                            booking_id  \\\n",
              "0 2018-07-29         5868  186e2bee-0637-4710-8981-50c2d737bc42   \n",
              "1 2018-07-30         4774  caadb57b-e808-4f94-9e96-8a7d4c9898db   \n",
              "2 2018-09-15         4774  6000fffb-9c1a-4f4a-9296-bc8f6b622b50   \n",
              "3 2018-11-01         4774  f5e530a7-4350-4cd1-a3bc-525b5037bcab   \n",
              "4 2018-12-18         4774  0efc0594-dbbf-4f9a-b0b0-a488cfddf8a2   \n",
              "\n",
              "                             session_id payment_method payment_status  \\\n",
              "0  3abaa6ce-e320-4e51-9469-d9f3fa328e86     Debit Card        Success   \n",
              "1  2ee5ead1-f13e-4759-92df-7ff48475e970    Credit Card        Success   \n",
              "2  93325fb6-eb00-4268-bb0e-6471795a0ad0            OVO        Success   \n",
              "3  bcad5a61-1b67-448d-8ff4-781d67bc56e4    Credit Card        Success   \n",
              "4  df1042ab-13e6-4072-b9d2-64a81974c51a    Credit Card        Success   \n",
              "\n",
              "   promo_amount   promo_code  shipment_fee shipment_date_limit  ...  gender  \\\n",
              "0          1415  WEEKENDSERU         10000          2018-08-03  ...       F   \n",
              "1             0          NaN         10000          2018-08-03  ...       F   \n",
              "2             0          NaN         10000          2018-09-18  ...       F   \n",
              "3             0          NaN             0          2018-11-05  ...       F   \n",
              "4             0          NaN             0          2018-12-23  ...       F   \n",
              "\n",
              "   birthdate  device_type                             device_id  \\\n",
              "0 2000-08-20      Android  d1b5c84a-7718-4b7b-b5a2-cfa23d7dd836   \n",
              "1 1996-03-15      Android  cec6d891-746b-453e-a330-0f6d024929f6   \n",
              "2 1996-03-15      Android  cec6d891-746b-453e-a330-0f6d024929f6   \n",
              "3 1996-03-15      Android  cec6d891-746b-453e-a330-0f6d024929f6   \n",
              "4 1996-03-15      Android  cec6d891-746b-453e-a330-0f6d024929f6   \n",
              "\n",
              "   device_version  home_location_lat  home_location_long     home_location  \\\n",
              "0   Android 8.0.0          -6.122897          106.876500      Jakarta Raya   \n",
              "1   Android 3.2.6          -3.602334          120.363824  Sulawesi Selatan   \n",
              "2   Android 3.2.6          -3.602334          120.363824  Sulawesi Selatan   \n",
              "3   Android 3.2.6          -3.602334          120.363824  Sulawesi Selatan   \n",
              "4   Android 3.2.6          -3.602334          120.363824  Sulawesi Selatan   \n",
              "\n",
              "   home_country first_join_date  \n",
              "0     Indonesia      2018-07-28  \n",
              "1     Indonesia      2018-07-28  \n",
              "2     Indonesia      2018-07-28  \n",
              "3     Indonesia      2018-07-28  \n",
              "4     Indonesia      2018-07-28  \n",
              "\n",
              "[5 rows x 33 columns]"
            ],
            "text/html": [
              "\n",
              "  <div id=\"df-95f1db97-18f2-4e23-8224-e5c11e98333d\">\n",
              "    <div class=\"colab-df-container\">\n",
              "      <div>\n",
              "<style scoped>\n",
              "    .dataframe tbody tr th:only-of-type {\n",
              "        vertical-align: middle;\n",
              "    }\n",
              "\n",
              "    .dataframe tbody tr th {\n",
              "        vertical-align: top;\n",
              "    }\n",
              "\n",
              "    .dataframe thead th {\n",
              "        text-align: right;\n",
              "    }\n",
              "</style>\n",
              "<table border=\"1\" class=\"dataframe\">\n",
              "  <thead>\n",
              "    <tr style=\"text-align: right;\">\n",
              "      <th></th>\n",
              "      <th>created_at</th>\n",
              "      <th>customer_id</th>\n",
              "      <th>booking_id</th>\n",
              "      <th>session_id</th>\n",
              "      <th>payment_method</th>\n",
              "      <th>payment_status</th>\n",
              "      <th>promo_amount</th>\n",
              "      <th>promo_code</th>\n",
              "      <th>shipment_fee</th>\n",
              "      <th>shipment_date_limit</th>\n",
              "      <th>...</th>\n",
              "      <th>gender</th>\n",
              "      <th>birthdate</th>\n",
              "      <th>device_type</th>\n",
              "      <th>device_id</th>\n",
              "      <th>device_version</th>\n",
              "      <th>home_location_lat</th>\n",
              "      <th>home_location_long</th>\n",
              "      <th>home_location</th>\n",
              "      <th>home_country</th>\n",
              "      <th>first_join_date</th>\n",
              "    </tr>\n",
              "  </thead>\n",
              "  <tbody>\n",
              "    <tr>\n",
              "      <th>0</th>\n",
              "      <td>2018-07-29</td>\n",
              "      <td>5868</td>\n",
              "      <td>186e2bee-0637-4710-8981-50c2d737bc42</td>\n",
              "      <td>3abaa6ce-e320-4e51-9469-d9f3fa328e86</td>\n",
              "      <td>Debit Card</td>\n",
              "      <td>Success</td>\n",
              "      <td>1415</td>\n",
              "      <td>WEEKENDSERU</td>\n",
              "      <td>10000</td>\n",
              "      <td>2018-08-03</td>\n",
              "      <td>...</td>\n",
              "      <td>F</td>\n",
              "      <td>2000-08-20</td>\n",
              "      <td>Android</td>\n",
              "      <td>d1b5c84a-7718-4b7b-b5a2-cfa23d7dd836</td>\n",
              "      <td>Android 8.0.0</td>\n",
              "      <td>-6.122897</td>\n",
              "      <td>106.876500</td>\n",
              "      <td>Jakarta Raya</td>\n",
              "      <td>Indonesia</td>\n",
              "      <td>2018-07-28</td>\n",
              "    </tr>\n",
              "    <tr>\n",
              "      <th>1</th>\n",
              "      <td>2018-07-30</td>\n",
              "      <td>4774</td>\n",
              "      <td>caadb57b-e808-4f94-9e96-8a7d4c9898db</td>\n",
              "      <td>2ee5ead1-f13e-4759-92df-7ff48475e970</td>\n",
              "      <td>Credit Card</td>\n",
              "      <td>Success</td>\n",
              "      <td>0</td>\n",
              "      <td>NaN</td>\n",
              "      <td>10000</td>\n",
              "      <td>2018-08-03</td>\n",
              "      <td>...</td>\n",
              "      <td>F</td>\n",
              "      <td>1996-03-15</td>\n",
              "      <td>Android</td>\n",
              "      <td>cec6d891-746b-453e-a330-0f6d024929f6</td>\n",
              "      <td>Android 3.2.6</td>\n",
              "      <td>-3.602334</td>\n",
              "      <td>120.363824</td>\n",
              "      <td>Sulawesi Selatan</td>\n",
              "      <td>Indonesia</td>\n",
              "      <td>2018-07-28</td>\n",
              "    </tr>\n",
              "    <tr>\n",
              "      <th>2</th>\n",
              "      <td>2018-09-15</td>\n",
              "      <td>4774</td>\n",
              "      <td>6000fffb-9c1a-4f4a-9296-bc8f6b622b50</td>\n",
              "      <td>93325fb6-eb00-4268-bb0e-6471795a0ad0</td>\n",
              "      <td>OVO</td>\n",
              "      <td>Success</td>\n",
              "      <td>0</td>\n",
              "      <td>NaN</td>\n",
              "      <td>10000</td>\n",
              "      <td>2018-09-18</td>\n",
              "      <td>...</td>\n",
              "      <td>F</td>\n",
              "      <td>1996-03-15</td>\n",
              "      <td>Android</td>\n",
              "      <td>cec6d891-746b-453e-a330-0f6d024929f6</td>\n",
              "      <td>Android 3.2.6</td>\n",
              "      <td>-3.602334</td>\n",
              "      <td>120.363824</td>\n",
              "      <td>Sulawesi Selatan</td>\n",
              "      <td>Indonesia</td>\n",
              "      <td>2018-07-28</td>\n",
              "    </tr>\n",
              "    <tr>\n",
              "      <th>3</th>\n",
              "      <td>2018-11-01</td>\n",
              "      <td>4774</td>\n",
              "      <td>f5e530a7-4350-4cd1-a3bc-525b5037bcab</td>\n",
              "      <td>bcad5a61-1b67-448d-8ff4-781d67bc56e4</td>\n",
              "      <td>Credit Card</td>\n",
              "      <td>Success</td>\n",
              "      <td>0</td>\n",
              "      <td>NaN</td>\n",
              "      <td>0</td>\n",
              "      <td>2018-11-05</td>\n",
              "      <td>...</td>\n",
              "      <td>F</td>\n",
              "      <td>1996-03-15</td>\n",
              "      <td>Android</td>\n",
              "      <td>cec6d891-746b-453e-a330-0f6d024929f6</td>\n",
              "      <td>Android 3.2.6</td>\n",
              "      <td>-3.602334</td>\n",
              "      <td>120.363824</td>\n",
              "      <td>Sulawesi Selatan</td>\n",
              "      <td>Indonesia</td>\n",
              "      <td>2018-07-28</td>\n",
              "    </tr>\n",
              "    <tr>\n",
              "      <th>4</th>\n",
              "      <td>2018-12-18</td>\n",
              "      <td>4774</td>\n",
              "      <td>0efc0594-dbbf-4f9a-b0b0-a488cfddf8a2</td>\n",
              "      <td>df1042ab-13e6-4072-b9d2-64a81974c51a</td>\n",
              "      <td>Credit Card</td>\n",
              "      <td>Success</td>\n",
              "      <td>0</td>\n",
              "      <td>NaN</td>\n",
              "      <td>0</td>\n",
              "      <td>2018-12-23</td>\n",
              "      <td>...</td>\n",
              "      <td>F</td>\n",
              "      <td>1996-03-15</td>\n",
              "      <td>Android</td>\n",
              "      <td>cec6d891-746b-453e-a330-0f6d024929f6</td>\n",
              "      <td>Android 3.2.6</td>\n",
              "      <td>-3.602334</td>\n",
              "      <td>120.363824</td>\n",
              "      <td>Sulawesi Selatan</td>\n",
              "      <td>Indonesia</td>\n",
              "      <td>2018-07-28</td>\n",
              "    </tr>\n",
              "  </tbody>\n",
              "</table>\n",
              "<p>5 rows × 33 columns</p>\n",
              "</div>\n",
              "      <button class=\"colab-df-convert\" onclick=\"convertToInteractive('df-95f1db97-18f2-4e23-8224-e5c11e98333d')\"\n",
              "              title=\"Convert this dataframe to an interactive table.\"\n",
              "              style=\"display:none;\">\n",
              "        \n",
              "  <svg xmlns=\"http://www.w3.org/2000/svg\" height=\"24px\"viewBox=\"0 0 24 24\"\n",
              "       width=\"24px\">\n",
              "    <path d=\"M0 0h24v24H0V0z\" fill=\"none\"/>\n",
              "    <path d=\"M18.56 5.44l.94 2.06.94-2.06 2.06-.94-2.06-.94-.94-2.06-.94 2.06-2.06.94zm-11 1L8.5 8.5l.94-2.06 2.06-.94-2.06-.94L8.5 2.5l-.94 2.06-2.06.94zm10 10l.94 2.06.94-2.06 2.06-.94-2.06-.94-.94-2.06-.94 2.06-2.06.94z\"/><path d=\"M17.41 7.96l-1.37-1.37c-.4-.4-.92-.59-1.43-.59-.52 0-1.04.2-1.43.59L10.3 9.45l-7.72 7.72c-.78.78-.78 2.05 0 2.83L4 21.41c.39.39.9.59 1.41.59.51 0 1.02-.2 1.41-.59l7.78-7.78 2.81-2.81c.8-.78.8-2.07 0-2.86zM5.41 20L4 18.59l7.72-7.72 1.47 1.35L5.41 20z\"/>\n",
              "  </svg>\n",
              "      </button>\n",
              "      \n",
              "  <style>\n",
              "    .colab-df-container {\n",
              "      display:flex;\n",
              "      flex-wrap:wrap;\n",
              "      gap: 12px;\n",
              "    }\n",
              "\n",
              "    .colab-df-convert {\n",
              "      background-color: #E8F0FE;\n",
              "      border: none;\n",
              "      border-radius: 50%;\n",
              "      cursor: pointer;\n",
              "      display: none;\n",
              "      fill: #1967D2;\n",
              "      height: 32px;\n",
              "      padding: 0 0 0 0;\n",
              "      width: 32px;\n",
              "    }\n",
              "\n",
              "    .colab-df-convert:hover {\n",
              "      background-color: #E2EBFA;\n",
              "      box-shadow: 0px 1px 2px rgba(60, 64, 67, 0.3), 0px 1px 3px 1px rgba(60, 64, 67, 0.15);\n",
              "      fill: #174EA6;\n",
              "    }\n",
              "\n",
              "    [theme=dark] .colab-df-convert {\n",
              "      background-color: #3B4455;\n",
              "      fill: #D2E3FC;\n",
              "    }\n",
              "\n",
              "    [theme=dark] .colab-df-convert:hover {\n",
              "      background-color: #434B5C;\n",
              "      box-shadow: 0px 1px 3px 1px rgba(0, 0, 0, 0.15);\n",
              "      filter: drop-shadow(0px 1px 2px rgba(0, 0, 0, 0.3));\n",
              "      fill: #FFFFFF;\n",
              "    }\n",
              "  </style>\n",
              "\n",
              "      <script>\n",
              "        const buttonEl =\n",
              "          document.querySelector('#df-95f1db97-18f2-4e23-8224-e5c11e98333d button.colab-df-convert');\n",
              "        buttonEl.style.display =\n",
              "          google.colab.kernel.accessAllowed ? 'block' : 'none';\n",
              "\n",
              "        async function convertToInteractive(key) {\n",
              "          const element = document.querySelector('#df-95f1db97-18f2-4e23-8224-e5c11e98333d');\n",
              "          const dataTable =\n",
              "            await google.colab.kernel.invokeFunction('convertToInteractive',\n",
              "                                                     [key], {});\n",
              "          if (!dataTable) return;\n",
              "\n",
              "          const docLinkHtml = 'Like what you see? Visit the ' +\n",
              "            '<a target=\"_blank\" href=https://colab.research.google.com/notebooks/data_table.ipynb>data table notebook</a>'\n",
              "            + ' to learn more about interactive tables.';\n",
              "          element.innerHTML = '';\n",
              "          dataTable['output_type'] = 'display_data';\n",
              "          await google.colab.output.renderOutput(dataTable, element);\n",
              "          const docLink = document.createElement('div');\n",
              "          docLink.innerHTML = docLinkHtml;\n",
              "          element.appendChild(docLink);\n",
              "        }\n",
              "      </script>\n",
              "    </div>\n",
              "  </div>\n",
              "  "
            ]
          },
          "metadata": {},
          "execution_count": 12
        }
      ]
    },
    {
      "cell_type": "code",
      "source": [
        "merged.columns"
      ],
      "metadata": {
        "colab": {
          "base_uri": "https://localhost:8080/"
        },
        "id": "0OKCAKisX1OT",
        "outputId": "b2337e82-f377-419b-8eda-f16a3014582a"
      },
      "execution_count": null,
      "outputs": [
        {
          "output_type": "execute_result",
          "data": {
            "text/plain": [
              "Index(['created_at', 'customer_id', 'booking_id', 'session_id',\n",
              "       'payment_method', 'payment_status', 'promo_amount', 'promo_code',\n",
              "       'shipment_fee', 'shipment_date_limit', 'shipment_location_lat',\n",
              "       'shipment_location_long', 'total_amount', 'product_id', 'quantity',\n",
              "       'item_price', 'w_promo', 'first_name', 'last_name', 'username', 'email',\n",
              "       'gender', 'birthdate', 'device_type', 'device_id', 'device_version',\n",
              "       'home_location_lat', 'home_location_long', 'home_location',\n",
              "       'home_country', 'first_join_date', 'year_month'],\n",
              "      dtype='object')"
            ]
          },
          "metadata": {},
          "execution_count": 11
        }
      ]
    },
    {
      "cell_type": "code",
      "source": [
        "merged_new = merged[['first_join_date', 'customer_id', 'created_at', 'session_id',\n",
        "       'payment_method', 'payment_status', 'w_promo','promo_amount', 'promo_code', 'shipment_fee',\n",
        "       'quantity', 'item_price', 'total_amount', 'product_id', 'username', 'gender', 'birthdate',\n",
        "       'device_type']]"
      ],
      "metadata": {
        "id": "cYvIWZbVXy5j"
      },
      "execution_count": 14,
      "outputs": []
    },
    {
      "cell_type": "code",
      "source": [
        "# successful payment만 추출\n",
        "merged_new = merged_new[merged_new['payment_status']=='Success']"
      ],
      "metadata": {
        "id": "7kIeAgDjWWg2"
      },
      "execution_count": 15,
      "outputs": []
    },
    {
      "cell_type": "code",
      "source": [
        "merged_new.total_amount.isna().sum()"
      ],
      "metadata": {
        "colab": {
          "base_uri": "https://localhost:8080/"
        },
        "id": "1fYdlSkxZZWl",
        "outputId": "018467cb-fdf6-4cc1-8c45-cbc782a8f798"
      },
      "execution_count": null,
      "outputs": [
        {
          "output_type": "execute_result",
          "data": {
            "text/plain": [
              "0"
            ]
          },
          "metadata": {},
          "execution_count": 23
        }
      ]
    },
    {
      "cell_type": "code",
      "source": [
        "merged_new.info()"
      ],
      "metadata": {
        "colab": {
          "base_uri": "https://localhost:8080/"
        },
        "id": "RO7cWsbswh53",
        "outputId": "7715d0f1-3070-4a16-a5b2-060885d0da70"
      },
      "execution_count": null,
      "outputs": [
        {
          "output_type": "stream",
          "name": "stdout",
          "text": [
            "<class 'pandas.core.frame.DataFrame'>\n",
            "Int64Index: 1201035 entries, 0 to 1254584\n",
            "Data columns (total 19 columns):\n",
            " #   Column           Non-Null Count    Dtype         \n",
            "---  ------           --------------    -----         \n",
            " 0   first_join_date  1201035 non-null  datetime64[ns]\n",
            " 1   customer_id      1201035 non-null  int64         \n",
            " 2   created_at       1201035 non-null  datetime64[ns]\n",
            " 3   session_id       1201035 non-null  object        \n",
            " 4   payment_method   1201035 non-null  object        \n",
            " 5   payment_status   1201035 non-null  object        \n",
            " 6   w_promo          1201035 non-null  int64         \n",
            " 7   promo_amount     1201035 non-null  int64         \n",
            " 8   promo_code       1201035 non-null  object        \n",
            " 9   shipment_fee     1201035 non-null  int64         \n",
            " 10  quantity         1201035 non-null  int64         \n",
            " 11  item_price       1201035 non-null  int64         \n",
            " 12  total_amount     1201035 non-null  int64         \n",
            " 13  product_id       1201035 non-null  int64         \n",
            " 14  username         1201035 non-null  object        \n",
            " 15  gender           1201035 non-null  object        \n",
            " 16  birthdate        1201035 non-null  datetime64[ns]\n",
            " 17  device_type      1201035 non-null  object        \n",
            " 18  join_year        1201035 non-null  int64         \n",
            "dtypes: datetime64[ns](3), int64(9), object(7)\n",
            "memory usage: 183.3+ MB\n"
          ]
        }
      ]
    },
    {
      "cell_type": "code",
      "source": [
        "merged_new.head()"
      ],
      "metadata": {
        "colab": {
          "base_uri": "https://localhost:8080/",
          "height": 531
        },
        "id": "5U23lKevwbfE",
        "outputId": "351c34e7-0f79-4f92-e8dd-477096943890"
      },
      "execution_count": null,
      "outputs": [
        {
          "output_type": "execute_result",
          "data": {
            "text/plain": [
              "  first_join_date  customer_id created_at  \\\n",
              "0      2018-07-28         5868 2018-07-29   \n",
              "1      2018-07-28         4774 2018-07-30   \n",
              "2      2018-07-28         4774 2018-09-15   \n",
              "3      2018-07-28         4774 2018-11-01   \n",
              "4      2018-07-28         4774 2018-12-18   \n",
              "\n",
              "                             session_id payment_method payment_status  \\\n",
              "0  3abaa6ce-e320-4e51-9469-d9f3fa328e86     Debit Card        Success   \n",
              "1  2ee5ead1-f13e-4759-92df-7ff48475e970    Credit Card        Success   \n",
              "2  93325fb6-eb00-4268-bb0e-6471795a0ad0            OVO        Success   \n",
              "3  bcad5a61-1b67-448d-8ff4-781d67bc56e4    Credit Card        Success   \n",
              "4  df1042ab-13e6-4072-b9d2-64a81974c51a    Credit Card        Success   \n",
              "\n",
              "   w_promo  promo_amount   promo_code  shipment_fee  quantity  item_price  \\\n",
              "0        1          1415  WEEKENDSERU         10000         1      191247   \n",
              "1        0             0            0         10000         1      145526   \n",
              "2        0             0            0         10000         4      135174   \n",
              "3        0             0            0             0         1      271012   \n",
              "4        0             0            0             0         1      198753   \n",
              "\n",
              "   total_amount  product_id                              username gender  \\\n",
              "0        199832       54728  498c2a5e-bafe-42cc-94f9-2832ac5e1f6b      F   \n",
              "1        155526       16193  5009ab96-84ff-44ef-98b0-c1b492658c29      F   \n",
              "2        550696       53686  5009ab96-84ff-44ef-98b0-c1b492658c29      F   \n",
              "3        271012       20228  5009ab96-84ff-44ef-98b0-c1b492658c29      F   \n",
              "4        198753       55220  5009ab96-84ff-44ef-98b0-c1b492658c29      F   \n",
              "\n",
              "   birthdate device_type  join_year  \n",
              "0 2000-08-20     Android       2018  \n",
              "1 1996-03-15     Android       2018  \n",
              "2 1996-03-15     Android       2018  \n",
              "3 1996-03-15     Android       2018  \n",
              "4 1996-03-15     Android       2018  "
            ],
            "text/html": [
              "\n",
              "  <div id=\"df-f39dc9a8-318b-48ef-b601-8de34741fb57\">\n",
              "    <div class=\"colab-df-container\">\n",
              "      <div>\n",
              "<style scoped>\n",
              "    .dataframe tbody tr th:only-of-type {\n",
              "        vertical-align: middle;\n",
              "    }\n",
              "\n",
              "    .dataframe tbody tr th {\n",
              "        vertical-align: top;\n",
              "    }\n",
              "\n",
              "    .dataframe thead th {\n",
              "        text-align: right;\n",
              "    }\n",
              "</style>\n",
              "<table border=\"1\" class=\"dataframe\">\n",
              "  <thead>\n",
              "    <tr style=\"text-align: right;\">\n",
              "      <th></th>\n",
              "      <th>first_join_date</th>\n",
              "      <th>customer_id</th>\n",
              "      <th>created_at</th>\n",
              "      <th>session_id</th>\n",
              "      <th>payment_method</th>\n",
              "      <th>payment_status</th>\n",
              "      <th>w_promo</th>\n",
              "      <th>promo_amount</th>\n",
              "      <th>promo_code</th>\n",
              "      <th>shipment_fee</th>\n",
              "      <th>quantity</th>\n",
              "      <th>item_price</th>\n",
              "      <th>total_amount</th>\n",
              "      <th>product_id</th>\n",
              "      <th>username</th>\n",
              "      <th>gender</th>\n",
              "      <th>birthdate</th>\n",
              "      <th>device_type</th>\n",
              "      <th>join_year</th>\n",
              "    </tr>\n",
              "  </thead>\n",
              "  <tbody>\n",
              "    <tr>\n",
              "      <th>0</th>\n",
              "      <td>2018-07-28</td>\n",
              "      <td>5868</td>\n",
              "      <td>2018-07-29</td>\n",
              "      <td>3abaa6ce-e320-4e51-9469-d9f3fa328e86</td>\n",
              "      <td>Debit Card</td>\n",
              "      <td>Success</td>\n",
              "      <td>1</td>\n",
              "      <td>1415</td>\n",
              "      <td>WEEKENDSERU</td>\n",
              "      <td>10000</td>\n",
              "      <td>1</td>\n",
              "      <td>191247</td>\n",
              "      <td>199832</td>\n",
              "      <td>54728</td>\n",
              "      <td>498c2a5e-bafe-42cc-94f9-2832ac5e1f6b</td>\n",
              "      <td>F</td>\n",
              "      <td>2000-08-20</td>\n",
              "      <td>Android</td>\n",
              "      <td>2018</td>\n",
              "    </tr>\n",
              "    <tr>\n",
              "      <th>1</th>\n",
              "      <td>2018-07-28</td>\n",
              "      <td>4774</td>\n",
              "      <td>2018-07-30</td>\n",
              "      <td>2ee5ead1-f13e-4759-92df-7ff48475e970</td>\n",
              "      <td>Credit Card</td>\n",
              "      <td>Success</td>\n",
              "      <td>0</td>\n",
              "      <td>0</td>\n",
              "      <td>0</td>\n",
              "      <td>10000</td>\n",
              "      <td>1</td>\n",
              "      <td>145526</td>\n",
              "      <td>155526</td>\n",
              "      <td>16193</td>\n",
              "      <td>5009ab96-84ff-44ef-98b0-c1b492658c29</td>\n",
              "      <td>F</td>\n",
              "      <td>1996-03-15</td>\n",
              "      <td>Android</td>\n",
              "      <td>2018</td>\n",
              "    </tr>\n",
              "    <tr>\n",
              "      <th>2</th>\n",
              "      <td>2018-07-28</td>\n",
              "      <td>4774</td>\n",
              "      <td>2018-09-15</td>\n",
              "      <td>93325fb6-eb00-4268-bb0e-6471795a0ad0</td>\n",
              "      <td>OVO</td>\n",
              "      <td>Success</td>\n",
              "      <td>0</td>\n",
              "      <td>0</td>\n",
              "      <td>0</td>\n",
              "      <td>10000</td>\n",
              "      <td>4</td>\n",
              "      <td>135174</td>\n",
              "      <td>550696</td>\n",
              "      <td>53686</td>\n",
              "      <td>5009ab96-84ff-44ef-98b0-c1b492658c29</td>\n",
              "      <td>F</td>\n",
              "      <td>1996-03-15</td>\n",
              "      <td>Android</td>\n",
              "      <td>2018</td>\n",
              "    </tr>\n",
              "    <tr>\n",
              "      <th>3</th>\n",
              "      <td>2018-07-28</td>\n",
              "      <td>4774</td>\n",
              "      <td>2018-11-01</td>\n",
              "      <td>bcad5a61-1b67-448d-8ff4-781d67bc56e4</td>\n",
              "      <td>Credit Card</td>\n",
              "      <td>Success</td>\n",
              "      <td>0</td>\n",
              "      <td>0</td>\n",
              "      <td>0</td>\n",
              "      <td>0</td>\n",
              "      <td>1</td>\n",
              "      <td>271012</td>\n",
              "      <td>271012</td>\n",
              "      <td>20228</td>\n",
              "      <td>5009ab96-84ff-44ef-98b0-c1b492658c29</td>\n",
              "      <td>F</td>\n",
              "      <td>1996-03-15</td>\n",
              "      <td>Android</td>\n",
              "      <td>2018</td>\n",
              "    </tr>\n",
              "    <tr>\n",
              "      <th>4</th>\n",
              "      <td>2018-07-28</td>\n",
              "      <td>4774</td>\n",
              "      <td>2018-12-18</td>\n",
              "      <td>df1042ab-13e6-4072-b9d2-64a81974c51a</td>\n",
              "      <td>Credit Card</td>\n",
              "      <td>Success</td>\n",
              "      <td>0</td>\n",
              "      <td>0</td>\n",
              "      <td>0</td>\n",
              "      <td>0</td>\n",
              "      <td>1</td>\n",
              "      <td>198753</td>\n",
              "      <td>198753</td>\n",
              "      <td>55220</td>\n",
              "      <td>5009ab96-84ff-44ef-98b0-c1b492658c29</td>\n",
              "      <td>F</td>\n",
              "      <td>1996-03-15</td>\n",
              "      <td>Android</td>\n",
              "      <td>2018</td>\n",
              "    </tr>\n",
              "  </tbody>\n",
              "</table>\n",
              "</div>\n",
              "      <button class=\"colab-df-convert\" onclick=\"convertToInteractive('df-f39dc9a8-318b-48ef-b601-8de34741fb57')\"\n",
              "              title=\"Convert this dataframe to an interactive table.\"\n",
              "              style=\"display:none;\">\n",
              "        \n",
              "  <svg xmlns=\"http://www.w3.org/2000/svg\" height=\"24px\"viewBox=\"0 0 24 24\"\n",
              "       width=\"24px\">\n",
              "    <path d=\"M0 0h24v24H0V0z\" fill=\"none\"/>\n",
              "    <path d=\"M18.56 5.44l.94 2.06.94-2.06 2.06-.94-2.06-.94-.94-2.06-.94 2.06-2.06.94zm-11 1L8.5 8.5l.94-2.06 2.06-.94-2.06-.94L8.5 2.5l-.94 2.06-2.06.94zm10 10l.94 2.06.94-2.06 2.06-.94-2.06-.94-.94-2.06-.94 2.06-2.06.94z\"/><path d=\"M17.41 7.96l-1.37-1.37c-.4-.4-.92-.59-1.43-.59-.52 0-1.04.2-1.43.59L10.3 9.45l-7.72 7.72c-.78.78-.78 2.05 0 2.83L4 21.41c.39.39.9.59 1.41.59.51 0 1.02-.2 1.41-.59l7.78-7.78 2.81-2.81c.8-.78.8-2.07 0-2.86zM5.41 20L4 18.59l7.72-7.72 1.47 1.35L5.41 20z\"/>\n",
              "  </svg>\n",
              "      </button>\n",
              "      \n",
              "  <style>\n",
              "    .colab-df-container {\n",
              "      display:flex;\n",
              "      flex-wrap:wrap;\n",
              "      gap: 12px;\n",
              "    }\n",
              "\n",
              "    .colab-df-convert {\n",
              "      background-color: #E8F0FE;\n",
              "      border: none;\n",
              "      border-radius: 50%;\n",
              "      cursor: pointer;\n",
              "      display: none;\n",
              "      fill: #1967D2;\n",
              "      height: 32px;\n",
              "      padding: 0 0 0 0;\n",
              "      width: 32px;\n",
              "    }\n",
              "\n",
              "    .colab-df-convert:hover {\n",
              "      background-color: #E2EBFA;\n",
              "      box-shadow: 0px 1px 2px rgba(60, 64, 67, 0.3), 0px 1px 3px 1px rgba(60, 64, 67, 0.15);\n",
              "      fill: #174EA6;\n",
              "    }\n",
              "\n",
              "    [theme=dark] .colab-df-convert {\n",
              "      background-color: #3B4455;\n",
              "      fill: #D2E3FC;\n",
              "    }\n",
              "\n",
              "    [theme=dark] .colab-df-convert:hover {\n",
              "      background-color: #434B5C;\n",
              "      box-shadow: 0px 1px 3px 1px rgba(0, 0, 0, 0.15);\n",
              "      filter: drop-shadow(0px 1px 2px rgba(0, 0, 0, 0.3));\n",
              "      fill: #FFFFFF;\n",
              "    }\n",
              "  </style>\n",
              "\n",
              "      <script>\n",
              "        const buttonEl =\n",
              "          document.querySelector('#df-f39dc9a8-318b-48ef-b601-8de34741fb57 button.colab-df-convert');\n",
              "        buttonEl.style.display =\n",
              "          google.colab.kernel.accessAllowed ? 'block' : 'none';\n",
              "\n",
              "        async function convertToInteractive(key) {\n",
              "          const element = document.querySelector('#df-f39dc9a8-318b-48ef-b601-8de34741fb57');\n",
              "          const dataTable =\n",
              "            await google.colab.kernel.invokeFunction('convertToInteractive',\n",
              "                                                     [key], {});\n",
              "          if (!dataTable) return;\n",
              "\n",
              "          const docLinkHtml = 'Like what you see? Visit the ' +\n",
              "            '<a target=\"_blank\" href=https://colab.research.google.com/notebooks/data_table.ipynb>data table notebook</a>'\n",
              "            + ' to learn more about interactive tables.';\n",
              "          element.innerHTML = '';\n",
              "          dataTable['output_type'] = 'display_data';\n",
              "          await google.colab.output.renderOutput(dataTable, element);\n",
              "          const docLink = document.createElement('div');\n",
              "          docLink.innerHTML = docLinkHtml;\n",
              "          element.appendChild(docLink);\n",
              "        }\n",
              "      </script>\n",
              "    </div>\n",
              "  </div>\n",
              "  "
            ]
          },
          "metadata": {},
          "execution_count": 40
        }
      ]
    },
    {
      "cell_type": "markdown",
      "source": [
        "## total sales for new customer vs existing customer by year"
      ],
      "metadata": {
        "id": "_JQ0Ds56BaIK"
      }
    },
    {
      "cell_type": "code",
      "source": [
        "# join_year 추출\n",
        "merged_new['join_year'] = merged_new['first_join_date'].dt.year\n",
        "merged_new['created_year'] = merged_new['created_at'].dt.year\n",
        "\n",
        "# year index 생성\n",
        "sales_by_year = pd.DataFrame(index=merged_new['join_year'].sort_values().unique())\n",
        "\n",
        "# 2016\n",
        "# s_16 = merged_new[merged_new['join_year'] == 2016]\n",
        "s_16_new = merged_new[(merged_new['join_year'] == 2016) & (merged_new['created_year'] == 2016)]['total_amount'].sum()\n",
        "s_16_existing = 0\n",
        "\n",
        "#2017\n",
        "s_17_new = merged_new[(merged_new['join_year'] == 2017) & (merged_new['created_year'] == 2017)]['total_amount'].sum()\n",
        "s_17_existing = merged_new[(merged_new['created_year'] == 2017) & (merged_new['join_year'] < 2017)]['total_amount'].sum()\n",
        "# -> 이때 transaction['created_at'].dt.year 도 2017이어야함\n",
        "\n",
        "# 2018\n",
        "s_18_new = merged_new[(merged_new['join_year'] == 2018) & (merged_new['created_year'] == 2018)]['total_amount'].sum()\n",
        "s_18_existing = merged_new[(merged_new['created_year'] == 2018) & (merged_new['join_year'] < 2018)]['total_amount'].sum()\n",
        "\n",
        "# 2019\n",
        "s_19_new = merged_new[(merged_new['join_year'] == 2019) & (merged_new['created_year'] == 2019)]['total_amount'].sum()\n",
        "s_19_existing = merged_new[(merged_new['created_year'] == 2019) & (merged_new['join_year'] < 2019)]['total_amount'].sum()\n",
        "\n",
        "# 2020\n",
        "s_20_new = merged_new[(merged_new['join_year'] == 2020) & (merged_new['created_year'] == 2020)]['total_amount'].sum()\n",
        "s_20_existing = merged_new[(merged_new['created_year'] == 2020) & (merged_new['join_year'] < 2020) & (merged_new['join_year'] == 2019)]['total_amount'].sum()\n",
        "\n",
        "# 2021\n",
        "s_21_new = merged_new[(merged_new['join_year'] == 2021) & (merged_new['created_year'] == 2021)]['total_amount'].sum()\n",
        "s_21_existing = merged_new[(merged_new['created_year'] == 2021) & (merged_new['join_year'] < 2021)]['total_amount'].sum()\n",
        "\n",
        "# 2022\n",
        "s_22_new = merged_new[(merged_new['join_year'] == 2022) & (merged_new['created_year'] == 2022)]['total_amount'].sum()\n",
        "s_22_existing = merged_new[(merged_new['created_year'] == 2021) & (merged_new['join_year'] < 2022)]['total_amount'].sum()\n",
        "\n",
        "# Create a dictionary to store the data\n",
        "data = {\n",
        "    'Year': [2016, 2017, 2018, 2019, 2020, 2021, 2022],\n",
        "    'New Customers': [s_16_new, s_17_new, s_18_new, s_19_new, s_20_new, s_21_new, s_22_new],\n",
        "    'Existing Customers': [s_16_existing, s_17_existing, s_18_existing, s_19_existing, s_20_existing, s_21_existing, s_22_existing]\n",
        "}\n",
        "\n",
        "# Create a DataFrame from the data\n",
        "sales_by_year = pd.DataFrame(data)\n",
        "\n",
        "# Set the 'Year' column as the index\n",
        "sales_by_year.set_index('Year', inplace=True)\n",
        "sales_by_year"
      ],
      "metadata": {
        "colab": {
          "base_uri": "https://localhost:8080/",
          "height": 300
        },
        "id": "6IyZM0blWwxh",
        "outputId": "f8471964-10a2-4a51-f9ab-f5565e9120e9"
      },
      "execution_count": 16,
      "outputs": [
        {
          "output_type": "execute_result",
          "data": {
            "text/plain": [
              "      New Customers  Existing Customers\n",
              "Year                                   \n",
              "2016     8172407708                   0\n",
              "2017    35637685826         20121654839\n",
              "2018    43577186422         80091287655\n",
              "2019    43185849550        147411198411\n",
              "2020    63551655541         77497803488\n",
              "2021    95709427644        333674551165\n",
              "2022    61849222404        429383978809"
            ],
            "text/html": [
              "\n",
              "  <div id=\"df-d0f352bf-a71d-4e67-a355-5fa7dff0e50d\">\n",
              "    <div class=\"colab-df-container\">\n",
              "      <div>\n",
              "<style scoped>\n",
              "    .dataframe tbody tr th:only-of-type {\n",
              "        vertical-align: middle;\n",
              "    }\n",
              "\n",
              "    .dataframe tbody tr th {\n",
              "        vertical-align: top;\n",
              "    }\n",
              "\n",
              "    .dataframe thead th {\n",
              "        text-align: right;\n",
              "    }\n",
              "</style>\n",
              "<table border=\"1\" class=\"dataframe\">\n",
              "  <thead>\n",
              "    <tr style=\"text-align: right;\">\n",
              "      <th></th>\n",
              "      <th>New Customers</th>\n",
              "      <th>Existing Customers</th>\n",
              "    </tr>\n",
              "    <tr>\n",
              "      <th>Year</th>\n",
              "      <th></th>\n",
              "      <th></th>\n",
              "    </tr>\n",
              "  </thead>\n",
              "  <tbody>\n",
              "    <tr>\n",
              "      <th>2016</th>\n",
              "      <td>8172407708</td>\n",
              "      <td>0</td>\n",
              "    </tr>\n",
              "    <tr>\n",
              "      <th>2017</th>\n",
              "      <td>35637685826</td>\n",
              "      <td>20121654839</td>\n",
              "    </tr>\n",
              "    <tr>\n",
              "      <th>2018</th>\n",
              "      <td>43577186422</td>\n",
              "      <td>80091287655</td>\n",
              "    </tr>\n",
              "    <tr>\n",
              "      <th>2019</th>\n",
              "      <td>43185849550</td>\n",
              "      <td>147411198411</td>\n",
              "    </tr>\n",
              "    <tr>\n",
              "      <th>2020</th>\n",
              "      <td>63551655541</td>\n",
              "      <td>77497803488</td>\n",
              "    </tr>\n",
              "    <tr>\n",
              "      <th>2021</th>\n",
              "      <td>95709427644</td>\n",
              "      <td>333674551165</td>\n",
              "    </tr>\n",
              "    <tr>\n",
              "      <th>2022</th>\n",
              "      <td>61849222404</td>\n",
              "      <td>429383978809</td>\n",
              "    </tr>\n",
              "  </tbody>\n",
              "</table>\n",
              "</div>\n",
              "      <button class=\"colab-df-convert\" onclick=\"convertToInteractive('df-d0f352bf-a71d-4e67-a355-5fa7dff0e50d')\"\n",
              "              title=\"Convert this dataframe to an interactive table.\"\n",
              "              style=\"display:none;\">\n",
              "        \n",
              "  <svg xmlns=\"http://www.w3.org/2000/svg\" height=\"24px\"viewBox=\"0 0 24 24\"\n",
              "       width=\"24px\">\n",
              "    <path d=\"M0 0h24v24H0V0z\" fill=\"none\"/>\n",
              "    <path d=\"M18.56 5.44l.94 2.06.94-2.06 2.06-.94-2.06-.94-.94-2.06-.94 2.06-2.06.94zm-11 1L8.5 8.5l.94-2.06 2.06-.94-2.06-.94L8.5 2.5l-.94 2.06-2.06.94zm10 10l.94 2.06.94-2.06 2.06-.94-2.06-.94-.94-2.06-.94 2.06-2.06.94z\"/><path d=\"M17.41 7.96l-1.37-1.37c-.4-.4-.92-.59-1.43-.59-.52 0-1.04.2-1.43.59L10.3 9.45l-7.72 7.72c-.78.78-.78 2.05 0 2.83L4 21.41c.39.39.9.59 1.41.59.51 0 1.02-.2 1.41-.59l7.78-7.78 2.81-2.81c.8-.78.8-2.07 0-2.86zM5.41 20L4 18.59l7.72-7.72 1.47 1.35L5.41 20z\"/>\n",
              "  </svg>\n",
              "      </button>\n",
              "      \n",
              "  <style>\n",
              "    .colab-df-container {\n",
              "      display:flex;\n",
              "      flex-wrap:wrap;\n",
              "      gap: 12px;\n",
              "    }\n",
              "\n",
              "    .colab-df-convert {\n",
              "      background-color: #E8F0FE;\n",
              "      border: none;\n",
              "      border-radius: 50%;\n",
              "      cursor: pointer;\n",
              "      display: none;\n",
              "      fill: #1967D2;\n",
              "      height: 32px;\n",
              "      padding: 0 0 0 0;\n",
              "      width: 32px;\n",
              "    }\n",
              "\n",
              "    .colab-df-convert:hover {\n",
              "      background-color: #E2EBFA;\n",
              "      box-shadow: 0px 1px 2px rgba(60, 64, 67, 0.3), 0px 1px 3px 1px rgba(60, 64, 67, 0.15);\n",
              "      fill: #174EA6;\n",
              "    }\n",
              "\n",
              "    [theme=dark] .colab-df-convert {\n",
              "      background-color: #3B4455;\n",
              "      fill: #D2E3FC;\n",
              "    }\n",
              "\n",
              "    [theme=dark] .colab-df-convert:hover {\n",
              "      background-color: #434B5C;\n",
              "      box-shadow: 0px 1px 3px 1px rgba(0, 0, 0, 0.15);\n",
              "      filter: drop-shadow(0px 1px 2px rgba(0, 0, 0, 0.3));\n",
              "      fill: #FFFFFF;\n",
              "    }\n",
              "  </style>\n",
              "\n",
              "      <script>\n",
              "        const buttonEl =\n",
              "          document.querySelector('#df-d0f352bf-a71d-4e67-a355-5fa7dff0e50d button.colab-df-convert');\n",
              "        buttonEl.style.display =\n",
              "          google.colab.kernel.accessAllowed ? 'block' : 'none';\n",
              "\n",
              "        async function convertToInteractive(key) {\n",
              "          const element = document.querySelector('#df-d0f352bf-a71d-4e67-a355-5fa7dff0e50d');\n",
              "          const dataTable =\n",
              "            await google.colab.kernel.invokeFunction('convertToInteractive',\n",
              "                                                     [key], {});\n",
              "          if (!dataTable) return;\n",
              "\n",
              "          const docLinkHtml = 'Like what you see? Visit the ' +\n",
              "            '<a target=\"_blank\" href=https://colab.research.google.com/notebooks/data_table.ipynb>data table notebook</a>'\n",
              "            + ' to learn more about interactive tables.';\n",
              "          element.innerHTML = '';\n",
              "          dataTable['output_type'] = 'display_data';\n",
              "          await google.colab.output.renderOutput(dataTable, element);\n",
              "          const docLink = document.createElement('div');\n",
              "          docLink.innerHTML = docLinkHtml;\n",
              "          element.appendChild(docLink);\n",
              "        }\n",
              "      </script>\n",
              "    </div>\n",
              "  </div>\n",
              "  "
            ]
          },
          "metadata": {},
          "execution_count": 16
        }
      ]
    },
    {
      "cell_type": "code",
      "source": [
        "# total sales by summing 'New Customers' and 'Existing Customers'\n",
        "sales_by_year['Total'] = sales_by_year[['New Customers', 'Existing Customers']].sum(axis=1)\n",
        "sales_by_year"
      ],
      "metadata": {
        "colab": {
          "base_uri": "https://localhost:8080/",
          "height": 300
        },
        "id": "0pXoh1KoCfU5",
        "outputId": "c3ace557-46ea-41d3-b8f1-18f2a546f84d"
      },
      "execution_count": 17,
      "outputs": [
        {
          "output_type": "execute_result",
          "data": {
            "text/plain": [
              "      New Customers  Existing Customers         Total\n",
              "Year                                                 \n",
              "2016     8172407708                   0    8172407708\n",
              "2017    35637685826         20121654839   55759340665\n",
              "2018    43577186422         80091287655  123668474077\n",
              "2019    43185849550        147411198411  190597047961\n",
              "2020    63551655541         77497803488  141049459029\n",
              "2021    95709427644        333674551165  429383978809\n",
              "2022    61849222404        429383978809  491233201213"
            ],
            "text/html": [
              "\n",
              "  <div id=\"df-1de3e43a-b16b-408d-be2f-af849b4311fb\">\n",
              "    <div class=\"colab-df-container\">\n",
              "      <div>\n",
              "<style scoped>\n",
              "    .dataframe tbody tr th:only-of-type {\n",
              "        vertical-align: middle;\n",
              "    }\n",
              "\n",
              "    .dataframe tbody tr th {\n",
              "        vertical-align: top;\n",
              "    }\n",
              "\n",
              "    .dataframe thead th {\n",
              "        text-align: right;\n",
              "    }\n",
              "</style>\n",
              "<table border=\"1\" class=\"dataframe\">\n",
              "  <thead>\n",
              "    <tr style=\"text-align: right;\">\n",
              "      <th></th>\n",
              "      <th>New Customers</th>\n",
              "      <th>Existing Customers</th>\n",
              "      <th>Total</th>\n",
              "    </tr>\n",
              "    <tr>\n",
              "      <th>Year</th>\n",
              "      <th></th>\n",
              "      <th></th>\n",
              "      <th></th>\n",
              "    </tr>\n",
              "  </thead>\n",
              "  <tbody>\n",
              "    <tr>\n",
              "      <th>2016</th>\n",
              "      <td>8172407708</td>\n",
              "      <td>0</td>\n",
              "      <td>8172407708</td>\n",
              "    </tr>\n",
              "    <tr>\n",
              "      <th>2017</th>\n",
              "      <td>35637685826</td>\n",
              "      <td>20121654839</td>\n",
              "      <td>55759340665</td>\n",
              "    </tr>\n",
              "    <tr>\n",
              "      <th>2018</th>\n",
              "      <td>43577186422</td>\n",
              "      <td>80091287655</td>\n",
              "      <td>123668474077</td>\n",
              "    </tr>\n",
              "    <tr>\n",
              "      <th>2019</th>\n",
              "      <td>43185849550</td>\n",
              "      <td>147411198411</td>\n",
              "      <td>190597047961</td>\n",
              "    </tr>\n",
              "    <tr>\n",
              "      <th>2020</th>\n",
              "      <td>63551655541</td>\n",
              "      <td>77497803488</td>\n",
              "      <td>141049459029</td>\n",
              "    </tr>\n",
              "    <tr>\n",
              "      <th>2021</th>\n",
              "      <td>95709427644</td>\n",
              "      <td>333674551165</td>\n",
              "      <td>429383978809</td>\n",
              "    </tr>\n",
              "    <tr>\n",
              "      <th>2022</th>\n",
              "      <td>61849222404</td>\n",
              "      <td>429383978809</td>\n",
              "      <td>491233201213</td>\n",
              "    </tr>\n",
              "  </tbody>\n",
              "</table>\n",
              "</div>\n",
              "      <button class=\"colab-df-convert\" onclick=\"convertToInteractive('df-1de3e43a-b16b-408d-be2f-af849b4311fb')\"\n",
              "              title=\"Convert this dataframe to an interactive table.\"\n",
              "              style=\"display:none;\">\n",
              "        \n",
              "  <svg xmlns=\"http://www.w3.org/2000/svg\" height=\"24px\"viewBox=\"0 0 24 24\"\n",
              "       width=\"24px\">\n",
              "    <path d=\"M0 0h24v24H0V0z\" fill=\"none\"/>\n",
              "    <path d=\"M18.56 5.44l.94 2.06.94-2.06 2.06-.94-2.06-.94-.94-2.06-.94 2.06-2.06.94zm-11 1L8.5 8.5l.94-2.06 2.06-.94-2.06-.94L8.5 2.5l-.94 2.06-2.06.94zm10 10l.94 2.06.94-2.06 2.06-.94-2.06-.94-.94-2.06-.94 2.06-2.06.94z\"/><path d=\"M17.41 7.96l-1.37-1.37c-.4-.4-.92-.59-1.43-.59-.52 0-1.04.2-1.43.59L10.3 9.45l-7.72 7.72c-.78.78-.78 2.05 0 2.83L4 21.41c.39.39.9.59 1.41.59.51 0 1.02-.2 1.41-.59l7.78-7.78 2.81-2.81c.8-.78.8-2.07 0-2.86zM5.41 20L4 18.59l7.72-7.72 1.47 1.35L5.41 20z\"/>\n",
              "  </svg>\n",
              "      </button>\n",
              "      \n",
              "  <style>\n",
              "    .colab-df-container {\n",
              "      display:flex;\n",
              "      flex-wrap:wrap;\n",
              "      gap: 12px;\n",
              "    }\n",
              "\n",
              "    .colab-df-convert {\n",
              "      background-color: #E8F0FE;\n",
              "      border: none;\n",
              "      border-radius: 50%;\n",
              "      cursor: pointer;\n",
              "      display: none;\n",
              "      fill: #1967D2;\n",
              "      height: 32px;\n",
              "      padding: 0 0 0 0;\n",
              "      width: 32px;\n",
              "    }\n",
              "\n",
              "    .colab-df-convert:hover {\n",
              "      background-color: #E2EBFA;\n",
              "      box-shadow: 0px 1px 2px rgba(60, 64, 67, 0.3), 0px 1px 3px 1px rgba(60, 64, 67, 0.15);\n",
              "      fill: #174EA6;\n",
              "    }\n",
              "\n",
              "    [theme=dark] .colab-df-convert {\n",
              "      background-color: #3B4455;\n",
              "      fill: #D2E3FC;\n",
              "    }\n",
              "\n",
              "    [theme=dark] .colab-df-convert:hover {\n",
              "      background-color: #434B5C;\n",
              "      box-shadow: 0px 1px 3px 1px rgba(0, 0, 0, 0.15);\n",
              "      filter: drop-shadow(0px 1px 2px rgba(0, 0, 0, 0.3));\n",
              "      fill: #FFFFFF;\n",
              "    }\n",
              "  </style>\n",
              "\n",
              "      <script>\n",
              "        const buttonEl =\n",
              "          document.querySelector('#df-1de3e43a-b16b-408d-be2f-af849b4311fb button.colab-df-convert');\n",
              "        buttonEl.style.display =\n",
              "          google.colab.kernel.accessAllowed ? 'block' : 'none';\n",
              "\n",
              "        async function convertToInteractive(key) {\n",
              "          const element = document.querySelector('#df-1de3e43a-b16b-408d-be2f-af849b4311fb');\n",
              "          const dataTable =\n",
              "            await google.colab.kernel.invokeFunction('convertToInteractive',\n",
              "                                                     [key], {});\n",
              "          if (!dataTable) return;\n",
              "\n",
              "          const docLinkHtml = 'Like what you see? Visit the ' +\n",
              "            '<a target=\"_blank\" href=https://colab.research.google.com/notebooks/data_table.ipynb>data table notebook</a>'\n",
              "            + ' to learn more about interactive tables.';\n",
              "          element.innerHTML = '';\n",
              "          dataTable['output_type'] = 'display_data';\n",
              "          await google.colab.output.renderOutput(dataTable, element);\n",
              "          const docLink = document.createElement('div');\n",
              "          docLink.innerHTML = docLinkHtml;\n",
              "          element.appendChild(docLink);\n",
              "        }\n",
              "      </script>\n",
              "    </div>\n",
              "  </div>\n",
              "  "
            ]
          },
          "metadata": {},
          "execution_count": 17
        }
      ]
    },
    {
      "cell_type": "markdown",
      "source": [
        "2020년도 existing customers 총 매출액이 현저히 줄어듬"
      ],
      "metadata": {
        "id": "tMbmJpyCCCSD"
      }
    },
    {
      "cell_type": "code",
      "source": [
        "sales_by_year.info()"
      ],
      "metadata": {
        "colab": {
          "base_uri": "https://localhost:8080/"
        },
        "id": "WFzYNqMsD-NU",
        "outputId": "20b725c2-e512-4209-f927-08b1b4fb397a"
      },
      "execution_count": null,
      "outputs": [
        {
          "output_type": "stream",
          "name": "stdout",
          "text": [
            "<class 'pandas.core.frame.DataFrame'>\n",
            "Int64Index: 7 entries, 2016 to 2022\n",
            "Data columns (total 3 columns):\n",
            " #   Column              Non-Null Count  Dtype\n",
            "---  ------              --------------  -----\n",
            " 0   New Customers       7 non-null      int64\n",
            " 1   Existing Customers  7 non-null      int64\n",
            " 2   Total               7 non-null      int64\n",
            "dtypes: int64(3)\n",
            "memory usage: 224.0 bytes\n"
          ]
        }
      ]
    },
    {
      "cell_type": "code",
      "source": [
        "sales_by_year"
      ],
      "metadata": {
        "colab": {
          "base_uri": "https://localhost:8080/",
          "height": 300
        },
        "id": "CdHKPScDEnjh",
        "outputId": "e93c0db2-6a37-40bc-c5dc-6e6964ba93f2"
      },
      "execution_count": null,
      "outputs": [
        {
          "output_type": "execute_result",
          "data": {
            "text/plain": [
              "      New Customers  Existing Customers         Total\n",
              "Year                                                 \n",
              "2016     8172407708                   0    8172407708\n",
              "2017    35637685826         20121654839   55759340665\n",
              "2018    43577186422         80091287655  123668474077\n",
              "2019    43185849550        147411198411  190597047961\n",
              "2020    63551655541         77497803488  141049459029\n",
              "2021    95709427644        333674551165  429383978809\n",
              "2022    61849222404        429383978809  491233201213"
            ],
            "text/html": [
              "\n",
              "  <div id=\"df-4644324f-37d8-40bd-b373-59fa8ffbd581\">\n",
              "    <div class=\"colab-df-container\">\n",
              "      <div>\n",
              "<style scoped>\n",
              "    .dataframe tbody tr th:only-of-type {\n",
              "        vertical-align: middle;\n",
              "    }\n",
              "\n",
              "    .dataframe tbody tr th {\n",
              "        vertical-align: top;\n",
              "    }\n",
              "\n",
              "    .dataframe thead th {\n",
              "        text-align: right;\n",
              "    }\n",
              "</style>\n",
              "<table border=\"1\" class=\"dataframe\">\n",
              "  <thead>\n",
              "    <tr style=\"text-align: right;\">\n",
              "      <th></th>\n",
              "      <th>New Customers</th>\n",
              "      <th>Existing Customers</th>\n",
              "      <th>Total</th>\n",
              "    </tr>\n",
              "    <tr>\n",
              "      <th>Year</th>\n",
              "      <th></th>\n",
              "      <th></th>\n",
              "      <th></th>\n",
              "    </tr>\n",
              "  </thead>\n",
              "  <tbody>\n",
              "    <tr>\n",
              "      <th>2016</th>\n",
              "      <td>8172407708</td>\n",
              "      <td>0</td>\n",
              "      <td>8172407708</td>\n",
              "    </tr>\n",
              "    <tr>\n",
              "      <th>2017</th>\n",
              "      <td>35637685826</td>\n",
              "      <td>20121654839</td>\n",
              "      <td>55759340665</td>\n",
              "    </tr>\n",
              "    <tr>\n",
              "      <th>2018</th>\n",
              "      <td>43577186422</td>\n",
              "      <td>80091287655</td>\n",
              "      <td>123668474077</td>\n",
              "    </tr>\n",
              "    <tr>\n",
              "      <th>2019</th>\n",
              "      <td>43185849550</td>\n",
              "      <td>147411198411</td>\n",
              "      <td>190597047961</td>\n",
              "    </tr>\n",
              "    <tr>\n",
              "      <th>2020</th>\n",
              "      <td>63551655541</td>\n",
              "      <td>77497803488</td>\n",
              "      <td>141049459029</td>\n",
              "    </tr>\n",
              "    <tr>\n",
              "      <th>2021</th>\n",
              "      <td>95709427644</td>\n",
              "      <td>333674551165</td>\n",
              "      <td>429383978809</td>\n",
              "    </tr>\n",
              "    <tr>\n",
              "      <th>2022</th>\n",
              "      <td>61849222404</td>\n",
              "      <td>429383978809</td>\n",
              "      <td>491233201213</td>\n",
              "    </tr>\n",
              "  </tbody>\n",
              "</table>\n",
              "</div>\n",
              "      <button class=\"colab-df-convert\" onclick=\"convertToInteractive('df-4644324f-37d8-40bd-b373-59fa8ffbd581')\"\n",
              "              title=\"Convert this dataframe to an interactive table.\"\n",
              "              style=\"display:none;\">\n",
              "        \n",
              "  <svg xmlns=\"http://www.w3.org/2000/svg\" height=\"24px\"viewBox=\"0 0 24 24\"\n",
              "       width=\"24px\">\n",
              "    <path d=\"M0 0h24v24H0V0z\" fill=\"none\"/>\n",
              "    <path d=\"M18.56 5.44l.94 2.06.94-2.06 2.06-.94-2.06-.94-.94-2.06-.94 2.06-2.06.94zm-11 1L8.5 8.5l.94-2.06 2.06-.94-2.06-.94L8.5 2.5l-.94 2.06-2.06.94zm10 10l.94 2.06.94-2.06 2.06-.94-2.06-.94-.94-2.06-.94 2.06-2.06.94z\"/><path d=\"M17.41 7.96l-1.37-1.37c-.4-.4-.92-.59-1.43-.59-.52 0-1.04.2-1.43.59L10.3 9.45l-7.72 7.72c-.78.78-.78 2.05 0 2.83L4 21.41c.39.39.9.59 1.41.59.51 0 1.02-.2 1.41-.59l7.78-7.78 2.81-2.81c.8-.78.8-2.07 0-2.86zM5.41 20L4 18.59l7.72-7.72 1.47 1.35L5.41 20z\"/>\n",
              "  </svg>\n",
              "      </button>\n",
              "      \n",
              "  <style>\n",
              "    .colab-df-container {\n",
              "      display:flex;\n",
              "      flex-wrap:wrap;\n",
              "      gap: 12px;\n",
              "    }\n",
              "\n",
              "    .colab-df-convert {\n",
              "      background-color: #E8F0FE;\n",
              "      border: none;\n",
              "      border-radius: 50%;\n",
              "      cursor: pointer;\n",
              "      display: none;\n",
              "      fill: #1967D2;\n",
              "      height: 32px;\n",
              "      padding: 0 0 0 0;\n",
              "      width: 32px;\n",
              "    }\n",
              "\n",
              "    .colab-df-convert:hover {\n",
              "      background-color: #E2EBFA;\n",
              "      box-shadow: 0px 1px 2px rgba(60, 64, 67, 0.3), 0px 1px 3px 1px rgba(60, 64, 67, 0.15);\n",
              "      fill: #174EA6;\n",
              "    }\n",
              "\n",
              "    [theme=dark] .colab-df-convert {\n",
              "      background-color: #3B4455;\n",
              "      fill: #D2E3FC;\n",
              "    }\n",
              "\n",
              "    [theme=dark] .colab-df-convert:hover {\n",
              "      background-color: #434B5C;\n",
              "      box-shadow: 0px 1px 3px 1px rgba(0, 0, 0, 0.15);\n",
              "      filter: drop-shadow(0px 1px 2px rgba(0, 0, 0, 0.3));\n",
              "      fill: #FFFFFF;\n",
              "    }\n",
              "  </style>\n",
              "\n",
              "      <script>\n",
              "        const buttonEl =\n",
              "          document.querySelector('#df-4644324f-37d8-40bd-b373-59fa8ffbd581 button.colab-df-convert');\n",
              "        buttonEl.style.display =\n",
              "          google.colab.kernel.accessAllowed ? 'block' : 'none';\n",
              "\n",
              "        async function convertToInteractive(key) {\n",
              "          const element = document.querySelector('#df-4644324f-37d8-40bd-b373-59fa8ffbd581');\n",
              "          const dataTable =\n",
              "            await google.colab.kernel.invokeFunction('convertToInteractive',\n",
              "                                                     [key], {});\n",
              "          if (!dataTable) return;\n",
              "\n",
              "          const docLinkHtml = 'Like what you see? Visit the ' +\n",
              "            '<a target=\"_blank\" href=https://colab.research.google.com/notebooks/data_table.ipynb>data table notebook</a>'\n",
              "            + ' to learn more about interactive tables.';\n",
              "          element.innerHTML = '';\n",
              "          dataTable['output_type'] = 'display_data';\n",
              "          await google.colab.output.renderOutput(dataTable, element);\n",
              "          const docLink = document.createElement('div');\n",
              "          docLink.innerHTML = docLinkHtml;\n",
              "          element.appendChild(docLink);\n",
              "        }\n",
              "      </script>\n",
              "    </div>\n",
              "  </div>\n",
              "  "
            ]
          },
          "metadata": {},
          "execution_count": 29
        }
      ]
    },
    {
      "cell_type": "code",
      "source": [
        "# Plot the lines for 'New Customers', 'Existing Customers', and 'Total'\n",
        "sales_by_year.plot(kind='line', marker='o')\n",
        "\n",
        "plt.title('Sales by Year')\n",
        "plt.xlabel('Year')\n",
        "plt.ylabel('Total Sales')\n",
        "\n",
        "# Modify the y-axis tick labels to display in full numeric form\n",
        "plt.ticklabel_format(style='plain', axis='y')\n",
        "\n",
        "plt.show()"
      ],
      "metadata": {
        "colab": {
          "base_uri": "https://localhost:8080/",
          "height": 472
        },
        "id": "yAP-zI-OD5QJ",
        "outputId": "df7515c0-f46c-436b-a707-f2ed48d66bc4"
      },
      "execution_count": 18,
      "outputs": [
        {
          "output_type": "display_data",
          "data": {
            "text/plain": [
              "<Figure size 640x480 with 1 Axes>"
            ],
            "image/png": "[encoded data removed]"
          },
          "metadata": {}
        }
      ]
    },
    {
      "cell_type": "markdown",
      "source": [
        "## sales proportion for new vs existing by year"
      ],
      "metadata": {
        "id": "UpQU5w-hDqY6"
      }
    },
    {
      "cell_type": "code",
      "source": [
        "# number of customer_counts\n",
        "customer_counts = .groupby('join_year')['customer_id'].nunique()\n",
        "\n",
        "new_customers_count = customer_counts[customer_counts.index == 2016].sum()\n",
        "existing_customers_count = customer_counts[customer_counts.index < 2016].sum()"
      ],
      "metadata": {
        "id": "xT2Da5hRXETe"
      },
      "execution_count": null,
      "outputs": []
    },
    {
      "cell_type": "code",
      "source": [
        "merged_new[merged_new.duplicated(subset='customer_id', keep=False)]['customer_id'].nunique()"
      ],
      "metadata": {
        "colab": {
          "base_uri": "https://localhost:8080/"
        },
        "id": "5Fw2mC3sA6eE",
        "outputId": "a30c37ad-b5a8-4298-dd79-1d40549c8232"
      },
      "execution_count": null,
      "outputs": [
        {
          "output_type": "execute_result",
          "data": {
            "text/plain": [
              "41766"
            ]
          },
          "metadata": {},
          "execution_count": 21
        }
      ]
    },
    {
      "cell_type": "code",
      "source": [
        "customer_counts"
      ],
      "metadata": {
        "colab": {
          "base_uri": "https://localhost:8080/"
        },
        "id": "IxO0k8GDAK-G",
        "outputId": "7e00c011-8fe1-4141-a245-9f1f107fb340"
      },
      "execution_count": null,
      "outputs": [
        {
          "output_type": "execute_result",
          "data": {
            "text/plain": [
              "join_year\n",
              "2016     2478\n",
              "2017     6541\n",
              "2018     7414\n",
              "2019     8106\n",
              "2020     9205\n",
              "2021    10681\n",
              "2022     5817\n",
              "Name: customer_id, dtype: int64"
            ]
          },
          "metadata": {},
          "execution_count": 18
        }
      ]
    },
    {
      "cell_type": "code",
      "source": [
        "2016     4729\n",
        "2017    11440\n",
        "2018    13587\n",
        "2019    15303\n",
        "2020    17821\n",
        "2021    22760\n",
        "2022    14360"
      ],
      "metadata": {
        "id": "Kmx4PQ1iAkSH"
      },
      "execution_count": null,
      "outputs": []
    },
    {
      "cell_type": "code",
      "source": [
        "print(new_customers_count, existing_customers_count)"
      ],
      "metadata": {
        "colab": {
          "base_uri": "https://localhost:8080/"
        },
        "id": "nCilYMFB73Vx",
        "outputId": "7b4e7bb5-0a6e-46e9-a0e1-e51e057d9012"
      },
      "execution_count": null,
      "outputs": [
        {
          "output_type": "stream",
          "name": "stdout",
          "text": [
            "2478 0\n"
          ]
        }
      ]
    },
    {
      "cell_type": "code",
      "source": [
        "merged_new.customer_id"
      ],
      "metadata": {
        "id": "hQiVa0pv4bLp"
      },
      "execution_count": null,
      "outputs": []
    },
    {
      "cell_type": "code",
      "source": [
        "pd.options.display.float_format = '{:.2f}'.format\n",
        "\n",
        "# number of customer_counts\n",
        "customer_counts = merged_new.groupby('join_year')['customer_id'].nunique()\n",
        "\n",
        "new_customers_count = customer_counts[customer_counts.index == 2016]\n",
        "existing_customers_count = customer_counts[customer_counts.index < 2016].sum()\n",
        "\n",
        "new_16_count = s_16_new / merged_new[merged_new['join_year'] == 2016]['customer_id'].nunique()\n",
        "print(merged_new[merged_new['join_year'] == 2016]['customer_id'].nunique())\n",
        "existing_16_count = 'NA'\n",
        "\n",
        "new_17_count = s_17_new / merged_new[merged_new['join_year'] == 2017]['customer_id'].nunique()\n",
        "existing_17_count = s_16_existing / merged_new[merged_new['join_year'] < 2017]['customer_id'].nunique()\n",
        "\n",
        "new_18_count = s_18_new / merged_new[merged_new['join_year'] == 2018]['customer_id'].nunique()\n",
        "existing_18_count = s_18_existing / merged_new[merged_new['join_year'] < 2018]['customer_id'].nunique()\n",
        "\n",
        "new_19_count = s_19_new / merged_new[merged_new['join_year'] == 2019]['customer_id'].nunique()\n",
        "existing_19_count = s_19_existing / merged_new[merged_new['join_year'] < 2019]['customer_id'].nunique()\n",
        "\n",
        "new_20_count = s_20_new / merged_new[merged_new['join_year'] == 2020]['customer_id'].nunique()\n",
        "existing_20_count = s_20_existing / merged_new[merged_new['join_year'] < 2020]['customer_id'].nunique()\n",
        "\n",
        "new_21_count = s_21_new / merged_new[merged_new['join_year'] == 2021]['customer_id'].nunique()\n",
        "existing_21_count = s_21_existing / merged_new[merged_new['join_year'] < 2021]['customer_id'].nunique()\n",
        "\n",
        "new_22_count = s_22_new / merged_new[merged_new['join_year'] == 2022]['customer_id'].nunique()\n",
        "existing_22_count = s_22_existing / merged_new[merged_new['join_year'] < 2022]['customer_id'].nunique()\n",
        "\n",
        "# Create a dictionary to store the data\n",
        "data = {\n",
        "    'Year': [2016, 2017, 2018, 2019, 2020, 2021, 2022],\n",
        "    'New Customers': [new_16_count, new_17_count, new_18_count, new_19_count, new_20_count, new_21_count, new_22_count],\n",
        "    'Existing Customers': [existing_16_count, existing_17_count, existing_18_count, existing_19_count, existing_20_count, existing_21_count, existing_22_count]\n",
        "}\n",
        "\n",
        "# Create a DataFrame from the data\n",
        "avg_by_year = pd.DataFrame(data)\n",
        "\n",
        "# Set the 'Year' column as the index\n",
        "avg_by_year.set_index('Year', inplace=True)\n",
        "avg_by_year"
      ],
      "metadata": {
        "colab": {
          "base_uri": "https://localhost:8080/",
          "height": 318
        },
        "id": "iQ5fl4CgAQpm",
        "outputId": "ecc49b5b-62af-4a28-e979-16fedd5e8557"
      },
      "execution_count": 19,
      "outputs": [
        {
          "output_type": "stream",
          "name": "stdout",
          "text": [
            "2478\n"
          ]
        },
        {
          "output_type": "execute_result",
          "data": {
            "text/plain": [
              "      New Customers Existing Customers\n",
              "Year                                  \n",
              "2016     3297985.35                 NA\n",
              "2017     5448354.35               0.00\n",
              "2018     5877689.02         8880284.69\n",
              "2019     5327639.96         8970437.44\n",
              "2020     6904036.45         3158148.40\n",
              "2021     8960717.88         9888411.31\n",
              "2022    10632494.83         9665368.12"
            ],
            "text/html": [
              "\n",
              "  <div id=\"df-f7ffb587-6353-4cc1-b010-b5a3cbe4d364\">\n",
              "    <div class=\"colab-df-container\">\n",
              "      <div>\n",
              "<style scoped>\n",
              "    .dataframe tbody tr th:only-of-type {\n",
              "        vertical-align: middle;\n",
              "    }\n",
              "\n",
              "    .dataframe tbody tr th {\n",
              "        vertical-align: top;\n",
              "    }\n",
              "\n",
              "    .dataframe thead th {\n",
              "        text-align: right;\n",
              "    }\n",
              "</style>\n",
              "<table border=\"1\" class=\"dataframe\">\n",
              "  <thead>\n",
              "    <tr style=\"text-align: right;\">\n",
              "      <th></th>\n",
              "      <th>New Customers</th>\n",
              "      <th>Existing Customers</th>\n",
              "    </tr>\n",
              "    <tr>\n",
              "      <th>Year</th>\n",
              "      <th></th>\n",
              "      <th></th>\n",
              "    </tr>\n",
              "  </thead>\n",
              "  <tbody>\n",
              "    <tr>\n",
              "      <th>2016</th>\n",
              "      <td>3297985.35</td>\n",
              "      <td>NA</td>\n",
              "    </tr>\n",
              "    <tr>\n",
              "      <th>2017</th>\n",
              "      <td>5448354.35</td>\n",
              "      <td>0.00</td>\n",
              "    </tr>\n",
              "    <tr>\n",
              "      <th>2018</th>\n",
              "      <td>5877689.02</td>\n",
              "      <td>8880284.69</td>\n",
              "    </tr>\n",
              "    <tr>\n",
              "      <th>2019</th>\n",
              "      <td>5327639.96</td>\n",
              "      <td>8970437.44</td>\n",
              "    </tr>\n",
              "    <tr>\n",
              "      <th>2020</th>\n",
              "      <td>6904036.45</td>\n",
              "      <td>3158148.40</td>\n",
              "    </tr>\n",
              "    <tr>\n",
              "      <th>2021</th>\n",
              "      <td>8960717.88</td>\n",
              "      <td>9888411.31</td>\n",
              "    </tr>\n",
              "    <tr>\n",
              "      <th>2022</th>\n",
              "      <td>10632494.83</td>\n",
              "      <td>9665368.12</td>\n",
              "    </tr>\n",
              "  </tbody>\n",
              "</table>\n",
              "</div>\n",
              "      <button class=\"colab-df-convert\" onclick=\"convertToInteractive('df-f7ffb587-6353-4cc1-b010-b5a3cbe4d364')\"\n",
              "              title=\"Convert this dataframe to an interactive table.\"\n",
              "              style=\"display:none;\">\n",
              "        \n",
              "  <svg xmlns=\"http://www.w3.org/2000/svg\" height=\"24px\"viewBox=\"0 0 24 24\"\n",
              "       width=\"24px\">\n",
              "    <path d=\"M0 0h24v24H0V0z\" fill=\"none\"/>\n",
              "    <path d=\"M18.56 5.44l.94 2.06.94-2.06 2.06-.94-2.06-.94-.94-2.06-.94 2.06-2.06.94zm-11 1L8.5 8.5l.94-2.06 2.06-.94-2.06-.94L8.5 2.5l-.94 2.06-2.06.94zm10 10l.94 2.06.94-2.06 2.06-.94-2.06-.94-.94-2.06-.94 2.06-2.06.94z\"/><path d=\"M17.41 7.96l-1.37-1.37c-.4-.4-.92-.59-1.43-.59-.52 0-1.04.2-1.43.59L10.3 9.45l-7.72 7.72c-.78.78-.78 2.05 0 2.83L4 21.41c.39.39.9.59 1.41.59.51 0 1.02-.2 1.41-.59l7.78-7.78 2.81-2.81c.8-.78.8-2.07 0-2.86zM5.41 20L4 18.59l7.72-7.72 1.47 1.35L5.41 20z\"/>\n",
              "  </svg>\n",
              "      </button>\n",
              "      \n",
              "  <style>\n",
              "    .colab-df-container {\n",
              "      display:flex;\n",
              "      flex-wrap:wrap;\n",
              "      gap: 12px;\n",
              "    }\n",
              "\n",
              "    .colab-df-convert {\n",
              "      background-color: #E8F0FE;\n",
              "      border: none;\n",
              "      border-radius: 50%;\n",
              "      cursor: pointer;\n",
              "      display: none;\n",
              "      fill: #1967D2;\n",
              "      height: 32px;\n",
              "      padding: 0 0 0 0;\n",
              "      width: 32px;\n",
              "    }\n",
              "\n",
              "    .colab-df-convert:hover {\n",
              "      background-color: #E2EBFA;\n",
              "      box-shadow: 0px 1px 2px rgba(60, 64, 67, 0.3), 0px 1px 3px 1px rgba(60, 64, 67, 0.15);\n",
              "      fill: #174EA6;\n",
              "    }\n",
              "\n",
              "    [theme=dark] .colab-df-convert {\n",
              "      background-color: #3B4455;\n",
              "      fill: #D2E3FC;\n",
              "    }\n",
              "\n",
              "    [theme=dark] .colab-df-convert:hover {\n",
              "      background-color: #434B5C;\n",
              "      box-shadow: 0px 1px 3px 1px rgba(0, 0, 0, 0.15);\n",
              "      filter: drop-shadow(0px 1px 2px rgba(0, 0, 0, 0.3));\n",
              "      fill: #FFFFFF;\n",
              "    }\n",
              "  </style>\n",
              "\n",
              "      <script>\n",
              "        const buttonEl =\n",
              "          document.querySelector('#df-f7ffb587-6353-4cc1-b010-b5a3cbe4d364 button.colab-df-convert');\n",
              "        buttonEl.style.display =\n",
              "          google.colab.kernel.accessAllowed ? 'block' : 'none';\n",
              "\n",
              "        async function convertToInteractive(key) {\n",
              "          const element = document.querySelector('#df-f7ffb587-6353-4cc1-b010-b5a3cbe4d364');\n",
              "          const dataTable =\n",
              "            await google.colab.kernel.invokeFunction('convertToInteractive',\n",
              "                                                     [key], {});\n",
              "          if (!dataTable) return;\n",
              "\n",
              "          const docLinkHtml = 'Like what you see? Visit the ' +\n",
              "            '<a target=\"_blank\" href=https://colab.research.google.com/notebooks/data_table.ipynb>data table notebook</a>'\n",
              "            + ' to learn more about interactive tables.';\n",
              "          element.innerHTML = '';\n",
              "          dataTable['output_type'] = 'display_data';\n",
              "          await google.colab.output.renderOutput(dataTable, element);\n",
              "          const docLink = document.createElement('div');\n",
              "          docLink.innerHTML = docLinkHtml;\n",
              "          element.appendChild(docLink);\n",
              "        }\n",
              "      </script>\n",
              "    </div>\n",
              "  </div>\n",
              "  "
            ]
          },
          "metadata": {},
          "execution_count": 19
        }
      ]
    },
    {
      "cell_type": "code",
      "source": [
        "display(merged_new.head(), merged_new.info())"
      ],
      "metadata": {
        "colab": {
          "base_uri": "https://localhost:8080/",
          "height": 995
        },
        "id": "FKhV74Cez09c",
        "outputId": "b51901b1-afb9-47dc-92eb-2e08e7aede83"
      },
      "execution_count": null,
      "outputs": [
        {
          "output_type": "stream",
          "name": "stdout",
          "text": [
            "<class 'pandas.core.frame.DataFrame'>\n",
            "Int64Index: 1254585 entries, 0 to 1254584\n",
            "Data columns (total 18 columns):\n",
            " #   Column           Non-Null Count    Dtype         \n",
            "---  ------           --------------    -----         \n",
            " 0   first_join_date  1254585 non-null  datetime64[ns]\n",
            " 1   customer_id      1254585 non-null  int64         \n",
            " 2   created_at       1254585 non-null  datetime64[ns]\n",
            " 3   session_id       1254585 non-null  object        \n",
            " 4   payment_method   1254585 non-null  object        \n",
            " 5   payment_status   1254585 non-null  object        \n",
            " 6   w_promo          1254585 non-null  int64         \n",
            " 7   promo_amount     1254585 non-null  int64         \n",
            " 8   promo_code       1254585 non-null  object        \n",
            " 9   shipment_fee     1254585 non-null  int64         \n",
            " 10  quantity         1254585 non-null  int64         \n",
            " 11  item_price       1254585 non-null  int64         \n",
            " 12  total_amount     1254585 non-null  int64         \n",
            " 13  product_id       1254585 non-null  int64         \n",
            " 14  username         1254585 non-null  object        \n",
            " 15  gender           1254585 non-null  object        \n",
            " 16  birthdate        1254585 non-null  datetime64[ns]\n",
            " 17  device_type      1254585 non-null  object        \n",
            "dtypes: datetime64[ns](3), int64(8), object(7)\n",
            "memory usage: 181.9+ MB\n"
          ]
        },
        {
          "output_type": "display_data",
          "data": {
            "text/plain": [
              "  first_join_date  customer_id created_at  \\\n",
              "0      2018-07-28         5868 2018-07-29   \n",
              "1      2018-07-28         4774 2018-07-30   \n",
              "2      2018-07-28         4774 2018-09-15   \n",
              "3      2018-07-28         4774 2018-11-01   \n",
              "4      2018-07-28         4774 2018-12-18   \n",
              "\n",
              "                             session_id payment_method payment_status  \\\n",
              "0  3abaa6ce-e320-4e51-9469-d9f3fa328e86     Debit Card        Success   \n",
              "1  2ee5ead1-f13e-4759-92df-7ff48475e970    Credit Card        Success   \n",
              "2  93325fb6-eb00-4268-bb0e-6471795a0ad0            OVO        Success   \n",
              "3  bcad5a61-1b67-448d-8ff4-781d67bc56e4    Credit Card        Success   \n",
              "4  df1042ab-13e6-4072-b9d2-64a81974c51a    Credit Card        Success   \n",
              "\n",
              "   w_promo  promo_amount   promo_code  shipment_fee  quantity  item_price  \\\n",
              "0        1          1415  WEEKENDSERU         10000         1      191247   \n",
              "1        0             0            0         10000         1      145526   \n",
              "2        0             0            0         10000         4      135174   \n",
              "3        0             0            0             0         1      271012   \n",
              "4        0             0            0             0         1      198753   \n",
              "\n",
              "   total_amount  product_id                              username gender  \\\n",
              "0        199832       54728  498c2a5e-bafe-42cc-94f9-2832ac5e1f6b      F   \n",
              "1        155526       16193  5009ab96-84ff-44ef-98b0-c1b492658c29      F   \n",
              "2        550696       53686  5009ab96-84ff-44ef-98b0-c1b492658c29      F   \n",
              "3        271012       20228  5009ab96-84ff-44ef-98b0-c1b492658c29      F   \n",
              "4        198753       55220  5009ab96-84ff-44ef-98b0-c1b492658c29      F   \n",
              "\n",
              "   birthdate device_type  \n",
              "0 2000-08-20     Android  \n",
              "1 1996-03-15     Android  \n",
              "2 1996-03-15     Android  \n",
              "3 1996-03-15     Android  \n",
              "4 1996-03-15     Android  "
            ],
            "text/html": [
              "\n",
              "  <div id=\"df-da4c7176-e771-4c4e-9e39-14b64573adf3\">\n",
              "    <div class=\"colab-df-container\">\n",
              "      <div>\n",
              "<style scoped>\n",
              "    .dataframe tbody tr th:only-of-type {\n",
              "        vertical-align: middle;\n",
              "    }\n",
              "\n",
              "    .dataframe tbody tr th {\n",
              "        vertical-align: top;\n",
              "    }\n",
              "\n",
              "    .dataframe thead th {\n",
              "        text-align: right;\n",
              "    }\n",
              "</style>\n",
              "<table border=\"1\" class=\"dataframe\">\n",
              "  <thead>\n",
              "    <tr style=\"text-align: right;\">\n",
              "      <th></th>\n",
              "      <th>first_join_date</th>\n",
              "      <th>customer_id</th>\n",
              "      <th>created_at</th>\n",
              "      <th>session_id</th>\n",
              "      <th>payment_method</th>\n",
              "      <th>payment_status</th>\n",
              "      <th>w_promo</th>\n",
              "      <th>promo_amount</th>\n",
              "      <th>promo_code</th>\n",
              "      <th>shipment_fee</th>\n",
              "      <th>quantity</th>\n",
              "      <th>item_price</th>\n",
              "      <th>total_amount</th>\n",
              "      <th>product_id</th>\n",
              "      <th>username</th>\n",
              "      <th>gender</th>\n",
              "      <th>birthdate</th>\n",
              "      <th>device_type</th>\n",
              "    </tr>\n",
              "  </thead>\n",
              "  <tbody>\n",
              "    <tr>\n",
              "      <th>0</th>\n",
              "      <td>2018-07-28</td>\n",
              "      <td>5868</td>\n",
              "      <td>2018-07-29</td>\n",
              "      <td>3abaa6ce-e320-4e51-9469-d9f3fa328e86</td>\n",
              "      <td>Debit Card</td>\n",
              "      <td>Success</td>\n",
              "      <td>1</td>\n",
              "      <td>1415</td>\n",
              "      <td>WEEKENDSERU</td>\n",
              "      <td>10000</td>\n",
              "      <td>1</td>\n",
              "      <td>191247</td>\n",
              "      <td>199832</td>\n",
              "      <td>54728</td>\n",
              "      <td>498c2a5e-bafe-42cc-94f9-2832ac5e1f6b</td>\n",
              "      <td>F</td>\n",
              "      <td>2000-08-20</td>\n",
              "      <td>Android</td>\n",
              "    </tr>\n",
              "    <tr>\n",
              "      <th>1</th>\n",
              "      <td>2018-07-28</td>\n",
              "      <td>4774</td>\n",
              "      <td>2018-07-30</td>\n",
              "      <td>2ee5ead1-f13e-4759-92df-7ff48475e970</td>\n",
              "      <td>Credit Card</td>\n",
              "      <td>Success</td>\n",
              "      <td>0</td>\n",
              "      <td>0</td>\n",
              "      <td>0</td>\n",
              "      <td>10000</td>\n",
              "      <td>1</td>\n",
              "      <td>145526</td>\n",
              "      <td>155526</td>\n",
              "      <td>16193</td>\n",
              "      <td>5009ab96-84ff-44ef-98b0-c1b492658c29</td>\n",
              "      <td>F</td>\n",
              "      <td>1996-03-15</td>\n",
              "      <td>Android</td>\n",
              "    </tr>\n",
              "    <tr>\n",
              "      <th>2</th>\n",
              "      <td>2018-07-28</td>\n",
              "      <td>4774</td>\n",
              "      <td>2018-09-15</td>\n",
              "      <td>93325fb6-eb00-4268-bb0e-6471795a0ad0</td>\n",
              "      <td>OVO</td>\n",
              "      <td>Success</td>\n",
              "      <td>0</td>\n",
              "      <td>0</td>\n",
              "      <td>0</td>\n",
              "      <td>10000</td>\n",
              "      <td>4</td>\n",
              "      <td>135174</td>\n",
              "      <td>550696</td>\n",
              "      <td>53686</td>\n",
              "      <td>5009ab96-84ff-44ef-98b0-c1b492658c29</td>\n",
              "      <td>F</td>\n",
              "      <td>1996-03-15</td>\n",
              "      <td>Android</td>\n",
              "    </tr>\n",
              "    <tr>\n",
              "      <th>3</th>\n",
              "      <td>2018-07-28</td>\n",
              "      <td>4774</td>\n",
              "      <td>2018-11-01</td>\n",
              "      <td>bcad5a61-1b67-448d-8ff4-781d67bc56e4</td>\n",
              "      <td>Credit Card</td>\n",
              "      <td>Success</td>\n",
              "      <td>0</td>\n",
              "      <td>0</td>\n",
              "      <td>0</td>\n",
              "      <td>0</td>\n",
              "      <td>1</td>\n",
              "      <td>271012</td>\n",
              "      <td>271012</td>\n",
              "      <td>20228</td>\n",
              "      <td>5009ab96-84ff-44ef-98b0-c1b492658c29</td>\n",
              "      <td>F</td>\n",
              "      <td>1996-03-15</td>\n",
              "      <td>Android</td>\n",
              "    </tr>\n",
              "    <tr>\n",
              "      <th>4</th>\n",
              "      <td>2018-07-28</td>\n",
              "      <td>4774</td>\n",
              "      <td>2018-12-18</td>\n",
              "      <td>df1042ab-13e6-4072-b9d2-64a81974c51a</td>\n",
              "      <td>Credit Card</td>\n",
              "      <td>Success</td>\n",
              "      <td>0</td>\n",
              "      <td>0</td>\n",
              "      <td>0</td>\n",
              "      <td>0</td>\n",
              "      <td>1</td>\n",
              "      <td>198753</td>\n",
              "      <td>198753</td>\n",
              "      <td>55220</td>\n",
              "      <td>5009ab96-84ff-44ef-98b0-c1b492658c29</td>\n",
              "      <td>F</td>\n",
              "      <td>1996-03-15</td>\n",
              "      <td>Android</td>\n",
              "    </tr>\n",
              "  </tbody>\n",
              "</table>\n",
              "</div>\n",
              "      <button class=\"colab-df-convert\" onclick=\"convertToInteractive('df-da4c7176-e771-4c4e-9e39-14b64573adf3')\"\n",
              "              title=\"Convert this dataframe to an interactive table.\"\n",
              "              style=\"display:none;\">\n",
              "        \n",
              "  <svg xmlns=\"http://www.w3.org/2000/svg\" height=\"24px\"viewBox=\"0 0 24 24\"\n",
              "       width=\"24px\">\n",
              "    <path d=\"M0 0h24v24H0V0z\" fill=\"none\"/>\n",
              "    <path d=\"M18.56 5.44l.94 2.06.94-2.06 2.06-.94-2.06-.94-.94-2.06-.94 2.06-2.06.94zm-11 1L8.5 8.5l.94-2.06 2.06-.94-2.06-.94L8.5 2.5l-.94 2.06-2.06.94zm10 10l.94 2.06.94-2.06 2.06-.94-2.06-.94-.94-2.06-.94 2.06-2.06.94z\"/><path d=\"M17.41 7.96l-1.37-1.37c-.4-.4-.92-.59-1.43-.59-.52 0-1.04.2-1.43.59L10.3 9.45l-7.72 7.72c-.78.78-.78 2.05 0 2.83L4 21.41c.39.39.9.59 1.41.59.51 0 1.02-.2 1.41-.59l7.78-7.78 2.81-2.81c.8-.78.8-2.07 0-2.86zM5.41 20L4 18.59l7.72-7.72 1.47 1.35L5.41 20z\"/>\n",
              "  </svg>\n",
              "      </button>\n",
              "      \n",
              "  <style>\n",
              "    .colab-df-container {\n",
              "      display:flex;\n",
              "      flex-wrap:wrap;\n",
              "      gap: 12px;\n",
              "    }\n",
              "\n",
              "    .colab-df-convert {\n",
              "      background-color: #E8F0FE;\n",
              "      border: none;\n",
              "      border-radius: 50%;\n",
              "      cursor: pointer;\n",
              "      display: none;\n",
              "      fill: #1967D2;\n",
              "      height: 32px;\n",
              "      padding: 0 0 0 0;\n",
              "      width: 32px;\n",
              "    }\n",
              "\n",
              "    .colab-df-convert:hover {\n",
              "      background-color: #E2EBFA;\n",
              "      box-shadow: 0px 1px 2px rgba(60, 64, 67, 0.3), 0px 1px 3px 1px rgba(60, 64, 67, 0.15);\n",
              "      fill: #174EA6;\n",
              "    }\n",
              "\n",
              "    [theme=dark] .colab-df-convert {\n",
              "      background-color: #3B4455;\n",
              "      fill: #D2E3FC;\n",
              "    }\n",
              "\n",
              "    [theme=dark] .colab-df-convert:hover {\n",
              "      background-color: #434B5C;\n",
              "      box-shadow: 0px 1px 3px 1px rgba(0, 0, 0, 0.15);\n",
              "      filter: drop-shadow(0px 1px 2px rgba(0, 0, 0, 0.3));\n",
              "      fill: #FFFFFF;\n",
              "    }\n",
              "  </style>\n",
              "\n",
              "      <script>\n",
              "        const buttonEl =\n",
              "          document.querySelector('#df-da4c7176-e771-4c4e-9e39-14b64573adf3 button.colab-df-convert');\n",
              "        buttonEl.style.display =\n",
              "          google.colab.kernel.accessAllowed ? 'block' : 'none';\n",
              "\n",
              "        async function convertToInteractive(key) {\n",
              "          const element = document.querySelector('#df-da4c7176-e771-4c4e-9e39-14b64573adf3');\n",
              "          const dataTable =\n",
              "            await google.colab.kernel.invokeFunction('convertToInteractive',\n",
              "                                                     [key], {});\n",
              "          if (!dataTable) return;\n",
              "\n",
              "          const docLinkHtml = 'Like what you see? Visit the ' +\n",
              "            '<a target=\"_blank\" href=https://colab.research.google.com/notebooks/data_table.ipynb>data table notebook</a>'\n",
              "            + ' to learn more about interactive tables.';\n",
              "          element.innerHTML = '';\n",
              "          dataTable['output_type'] = 'display_data';\n",
              "          await google.colab.output.renderOutput(dataTable, element);\n",
              "          const docLink = document.createElement('div');\n",
              "          docLink.innerHTML = docLinkHtml;\n",
              "          element.appendChild(docLink);\n",
              "        }\n",
              "      </script>\n",
              "    </div>\n",
              "  </div>\n",
              "  "
            ]
          },
          "metadata": {}
        },
        {
          "output_type": "display_data",
          "data": {
            "text/plain": [
              "None"
            ]
          },
          "metadata": {}
        }
      ]
    },
    {
      "cell_type": "markdown",
      "source": [
        "## customer segmentation with promocode\n",
        "\n",
        "\"Heavy Promo Users,\" \"Occasional Promo Users,\" and \"Non-Promo Users\""
      ],
      "metadata": {
        "id": "kVAhqH-EEMaR"
      }
    },
    {
      "cell_type": "code",
      "source": [
        "merged_promo = merged[['customer_id', 'w_promo']]\n",
        "\n",
        "# 고객별 프로모션 사용한 transaction 수\n",
        "# the count of transactions with promotions for each customer)\n",
        "promo_counts = merged_promo.groupby('customer_id')['w_promo'].sum().reset_index(name='promo_count')\n",
        "\n",
        "# 고객별 전체 transaction 수\n",
        "# the total count of transactions (both with promotions and non-promotions) for each customer\n",
        "total_counts = merged_promo.groupby('customer_id')['w_promo'].count().reset_index(name='total_count')\n",
        "\n",
        "# merge the two\n",
        "merged_counts = promo_counts.merge(total_counts, on='customer_id', how='outer')\n",
        "\n",
        "# ratio\n",
        "merged_counts['promo_ratio'] = merged_counts['promo_count'] / merged_counts['total_count']\n",
        "\n",
        "merged_counts.head()"
      ],
      "metadata": {
        "colab": {
          "base_uri": "https://localhost:8080/",
          "height": 206
        },
        "id": "Y1Bu8kDhAVXA",
        "outputId": "e1228cf2-67e9-438f-84f7-c693cff5ac38"
      },
      "execution_count": 22,
      "outputs": [
        {
          "output_type": "execute_result",
          "data": {
            "text/plain": [
              "   customer_id  promo_count  total_count  promo_ratio\n",
              "0            3           37           69         0.54\n",
              "1            8            1            8         0.12\n",
              "2            9            0            8         0.00\n",
              "3           11            1            1         1.00\n",
              "4           15            4            9         0.44"
            ],
            "text/html": [
              "\n",
              "  <div id=\"df-367fb41f-1431-4bbb-97ae-3cd7aca5bb6d\">\n",
              "    <div class=\"colab-df-container\">\n",
              "      <div>\n",
              "<style scoped>\n",
              "    .dataframe tbody tr th:only-of-type {\n",
              "        vertical-align: middle;\n",
              "    }\n",
              "\n",
              "    .dataframe tbody tr th {\n",
              "        vertical-align: top;\n",
              "    }\n",
              "\n",
              "    .dataframe thead th {\n",
              "        text-align: right;\n",
              "    }\n",
              "</style>\n",
              "<table border=\"1\" class=\"dataframe\">\n",
              "  <thead>\n",
              "    <tr style=\"text-align: right;\">\n",
              "      <th></th>\n",
              "      <th>customer_id</th>\n",
              "      <th>promo_count</th>\n",
              "      <th>total_count</th>\n",
              "      <th>promo_ratio</th>\n",
              "    </tr>\n",
              "  </thead>\n",
              "  <tbody>\n",
              "    <tr>\n",
              "      <th>0</th>\n",
              "      <td>3</td>\n",
              "      <td>37</td>\n",
              "      <td>69</td>\n",
              "      <td>0.54</td>\n",
              "    </tr>\n",
              "    <tr>\n",
              "      <th>1</th>\n",
              "      <td>8</td>\n",
              "      <td>1</td>\n",
              "      <td>8</td>\n",
              "      <td>0.12</td>\n",
              "    </tr>\n",
              "    <tr>\n",
              "      <th>2</th>\n",
              "      <td>9</td>\n",
              "      <td>0</td>\n",
              "      <td>8</td>\n",
              "      <td>0.00</td>\n",
              "    </tr>\n",
              "    <tr>\n",
              "      <th>3</th>\n",
              "      <td>11</td>\n",
              "      <td>1</td>\n",
              "      <td>1</td>\n",
              "      <td>1.00</td>\n",
              "    </tr>\n",
              "    <tr>\n",
              "      <th>4</th>\n",
              "      <td>15</td>\n",
              "      <td>4</td>\n",
              "      <td>9</td>\n",
              "      <td>0.44</td>\n",
              "    </tr>\n",
              "  </tbody>\n",
              "</table>\n",
              "</div>\n",
              "      <button class=\"colab-df-convert\" onclick=\"convertToInteractive('df-367fb41f-1431-4bbb-97ae-3cd7aca5bb6d')\"\n",
              "              title=\"Convert this dataframe to an interactive table.\"\n",
              "              style=\"display:none;\">\n",
              "        \n",
              "  <svg xmlns=\"http://www.w3.org/2000/svg\" height=\"24px\"viewBox=\"0 0 24 24\"\n",
              "       width=\"24px\">\n",
              "    <path d=\"M0 0h24v24H0V0z\" fill=\"none\"/>\n",
              "    <path d=\"M18.56 5.44l.94 2.06.94-2.06 2.06-.94-2.06-.94-.94-2.06-.94 2.06-2.06.94zm-11 1L8.5 8.5l.94-2.06 2.06-.94-2.06-.94L8.5 2.5l-.94 2.06-2.06.94zm10 10l.94 2.06.94-2.06 2.06-.94-2.06-.94-.94-2.06-.94 2.06-2.06.94z\"/><path d=\"M17.41 7.96l-1.37-1.37c-.4-.4-.92-.59-1.43-.59-.52 0-1.04.2-1.43.59L10.3 9.45l-7.72 7.72c-.78.78-.78 2.05 0 2.83L4 21.41c.39.39.9.59 1.41.59.51 0 1.02-.2 1.41-.59l7.78-7.78 2.81-2.81c.8-.78.8-2.07 0-2.86zM5.41 20L4 18.59l7.72-7.72 1.47 1.35L5.41 20z\"/>\n",
              "  </svg>\n",
              "      </button>\n",
              "      \n",
              "  <style>\n",
              "    .colab-df-container {\n",
              "      display:flex;\n",
              "      flex-wrap:wrap;\n",
              "      gap: 12px;\n",
              "    }\n",
              "\n",
              "    .colab-df-convert {\n",
              "      background-color: #E8F0FE;\n",
              "      border: none;\n",
              "      border-radius: 50%;\n",
              "      cursor: pointer;\n",
              "      display: none;\n",
              "      fill: #1967D2;\n",
              "      height: 32px;\n",
              "      padding: 0 0 0 0;\n",
              "      width: 32px;\n",
              "    }\n",
              "\n",
              "    .colab-df-convert:hover {\n",
              "      background-color: #E2EBFA;\n",
              "      box-shadow: 0px 1px 2px rgba(60, 64, 67, 0.3), 0px 1px 3px 1px rgba(60, 64, 67, 0.15);\n",
              "      fill: #174EA6;\n",
              "    }\n",
              "\n",
              "    [theme=dark] .colab-df-convert {\n",
              "      background-color: #3B4455;\n",
              "      fill: #D2E3FC;\n",
              "    }\n",
              "\n",
              "    [theme=dark] .colab-df-convert:hover {\n",
              "      background-color: #434B5C;\n",
              "      box-shadow: 0px 1px 3px 1px rgba(0, 0, 0, 0.15);\n",
              "      filter: drop-shadow(0px 1px 2px rgba(0, 0, 0, 0.3));\n",
              "      fill: #FFFFFF;\n",
              "    }\n",
              "  </style>\n",
              "\n",
              "      <script>\n",
              "        const buttonEl =\n",
              "          document.querySelector('#df-367fb41f-1431-4bbb-97ae-3cd7aca5bb6d button.colab-df-convert');\n",
              "        buttonEl.style.display =\n",
              "          google.colab.kernel.accessAllowed ? 'block' : 'none';\n",
              "\n",
              "        async function convertToInteractive(key) {\n",
              "          const element = document.querySelector('#df-367fb41f-1431-4bbb-97ae-3cd7aca5bb6d');\n",
              "          const dataTable =\n",
              "            await google.colab.kernel.invokeFunction('convertToInteractive',\n",
              "                                                     [key], {});\n",
              "          if (!dataTable) return;\n",
              "\n",
              "          const docLinkHtml = 'Like what you see? Visit the ' +\n",
              "            '<a target=\"_blank\" href=https://colab.research.google.com/notebooks/data_table.ipynb>data table notebook</a>'\n",
              "            + ' to learn more about interactive tables.';\n",
              "          element.innerHTML = '';\n",
              "          dataTable['output_type'] = 'display_data';\n",
              "          await google.colab.output.renderOutput(dataTable, element);\n",
              "          const docLink = document.createElement('div');\n",
              "          docLink.innerHTML = docLinkHtml;\n",
              "          element.appendChild(docLink);\n",
              "        }\n",
              "      </script>\n",
              "    </div>\n",
              "  </div>\n",
              "  "
            ]
          },
          "metadata": {},
          "execution_count": 22
        }
      ]
    },
    {
      "cell_type": "code",
      "source": [
        "# average promo_ratio\n",
        "merged_counts['promo_ratio'].sum()/merged_counts.shape[0]"
      ],
      "metadata": {
        "colab": {
          "base_uri": "https://localhost:8080/"
        },
        "id": "jUc2h6VsPWIv",
        "outputId": "2a8dae10-a7c4-44ea-a29c-31551a1929cf"
      },
      "execution_count": 27,
      "outputs": [
        {
          "output_type": "execute_result",
          "data": {
            "text/plain": [
              "0.35991994358029367"
            ]
          },
          "metadata": {},
          "execution_count": 27
        }
      ]
    },
    {
      "cell_type": "markdown",
      "source": [
        "### K-Means Clustering"
      ],
      "metadata": {
        "id": "dhmsmERJMB1f"
      }
    },
    {
      "cell_type": "code",
      "source": [
        "# non-promo count by subtracting the promo count from the total count\n",
        "non_promo_count = merged_counts['total_count'] - merged_counts['promo_count']\n",
        "\n",
        "# the data for clustering\n",
        "data = pd.DataFrame({'promo_count': merged_counts['promo_count'], 'non_promo_count': non_promo_count})\n",
        "\n",
        "# k-means clustering\n",
        "k = 3  # Number of clusters\n",
        "kmeans = KMeans(n_clusters=k)\n",
        "kmeans.fit(data)\n",
        "\n",
        "# Assign cluster labels to each data point\n",
        "cluster_labels = kmeans.labels_\n",
        "\n",
        "# clustering scatter plot\n",
        "sns.scatterplot(x=merged_counts['promo_count'], y=non_promo_count, hue=cluster_labels, palette='Set1')\n",
        "plt.xlabel('Promo Usage Count')\n",
        "plt.ylabel('Non-Promo Count')\n",
        "plt.title('Clustering Scatter Plot')\n",
        "\n",
        "# Display the plot\n",
        "plt.show()"
      ],
      "metadata": {
        "colab": {
          "base_uri": "https://localhost:8080/",
          "height": 528
        },
        "id": "6X4Emc2vQ2zS",
        "outputId": "a5342d8b-6663-42bd-8f4a-2937c67907b8"
      },
      "execution_count": 28,
      "outputs": [
        {
          "output_type": "stream",
          "name": "stderr",
          "text": [
            "/usr/local/lib/python3.10/dist-packages/sklearn/cluster/_kmeans.py:870: FutureWarning: The default value of `n_init` will change from 10 to 'auto' in 1.4. Set the value of `n_init` explicitly to suppress the warning\n",
            "  warnings.warn(\n"
          ]
        },
        {
          "output_type": "display_data",
          "data": {
            "text/plain": [
              "<Figure size 640x480 with 1 Axes>"
            ],
            "image/png": "[encoded data removed]"
          },
          "metadata": {}
        }
      ]
    },
    {
      "cell_type": "code",
      "source": [
        "# Select the promo_ratio column for clustering\n",
        "X = merged_counts[['promo_ratio']]\n",
        "\n",
        "# Perform k-means clustering with k=3\n",
        "k = 3\n",
        "kmeans = KMeans(n_clusters=k, random_state=42)\n",
        "kmeans.fit(X)\n",
        "\n",
        "# Add the cluster labels to the merged_counts DataFrame\n",
        "merged_counts['cluster'] = kmeans.labels_"
      ],
      "metadata": {
        "colab": {
          "base_uri": "https://localhost:8080/"
        },
        "id": "IF_hVihkLMre",
        "outputId": "466eeffe-42c7-41f2-a2d4-3e478dcb1c77"
      },
      "execution_count": 25,
      "outputs": [
        {
          "output_type": "stream",
          "name": "stderr",
          "text": [
            "/usr/local/lib/python3.10/dist-packages/sklearn/cluster/_kmeans.py:870: FutureWarning: The default value of `n_init` will change from 10 to 'auto' in 1.4. Set the value of `n_init` explicitly to suppress the warning\n",
            "  warnings.warn(\n"
          ]
        }
      ]
    },
    {
      "cell_type": "code",
      "source": [
        "# Assign cluster labels to segment names\n",
        "segment_names = {\n",
        "    0: \"Non-Promo Users\",\n",
        "    1: \"Occasional Promo Users\",\n",
        "    2: \"Heavy Promo Users\"\n",
        "}\n",
        "\n",
        "# Assign segment names to each customer\n",
        "merged_counts['segment'] = merged_counts['cluster'].map(segment_names)\n",
        "\n",
        "# Plot the clusters\n",
        "plt.scatter(merged_counts['customer_id'], merged_counts['promo_ratio'], c=merged_counts['cluster'], cmap='viridis')\n",
        "plt.xlabel('Customer ID')\n",
        "plt.ylabel('Promo Ratio')\n",
        "plt.title('Promotional Behavior Clustering')\n",
        "plt.xticks(rotation=90)\n",
        "\n",
        "# Annotate segment names on the plot\n",
        "for i, txt in enumerate(merged_counts['segment']):\n",
        "    plt.annotate(txt, (merged_counts['customer_id'][i], merged_counts['promo_ratio'][i]), xytext=(5,-5), textcoords='offset points')\n",
        "\n",
        "plt.show()\n"
      ],
      "metadata": {
        "colab": {
          "base_uri": "https://localhost:8080/",
          "height": 510
        },
        "id": "XlP_2VvhLlA_",
        "outputId": "3c0c85a9-b97d-4dce-f831-8d8111955204"
      },
      "execution_count": 26,
      "outputs": [
        {
          "output_type": "display_data",
          "data": {
            "text/plain": [
              "<Figure size 640x480 with 1 Axes>"
            ],
            "image/png": "[encoded data removed]"
          },
          "metadata": {}
        }
      ]
    },
    {
      "cell_type": "markdown",
      "source": [
        "## promo_code Mapping"
      ],
      "metadata": {
        "id": "oZvqiyytEwWG"
      }
    },
    {
      "cell_type": "code",
      "source": [
        "promo_code_mapping = {0: 0, 'AZ2022': 1, 'BUYMORE': 2, 'WEEKENDSERU': 3, 'XX2022': 4, 'LIBURDONG': 5, 'WEEKENDMANTAP': 6, 'SC2022': 7, 'STARTUP': 8}\n",
        "\n",
        "# Apply the mapping to the promo_code column\n",
        "merged_new['promo_code'] = merged_new['promo_code'].map(promo_code_mapping)"
      ],
      "metadata": {
        "id": "pVBy7vZNXpO4"
      },
      "execution_count": 20,
      "outputs": []
    },
    {
      "cell_type": "code",
      "source": [
        "len(merged_new[merged_new['first_join_date'].dt.date == merged_new['created_at'].dt.date])"
      ],
      "metadata": {
        "colab": {
          "base_uri": "https://localhost:8080/"
        },
        "id": "jg6O5xXxZk6r",
        "outputId": "f26d71d5-e524-4cbd-e9e4-a46edbff302a"
      },
      "execution_count": null,
      "outputs": [
        {
          "output_type": "execute_result",
          "data": {
            "text/plain": [
              "35291"
            ]
          },
          "metadata": {},
          "execution_count": 24
        }
      ]
    },
    {
      "cell_type": "markdown",
      "source": [
        "## relationship bet promo usage and new customer influx"
      ],
      "metadata": {
        "id": "FzTAEJ9FE44o"
      }
    },
    {
      "cell_type": "code",
      "source": [
        "len(merged_new[merged_new['w_promo'] == 1])"
      ],
      "metadata": {
        "colab": {
          "base_uri": "https://localhost:8080/"
        },
        "id": "zAYl-Ph5Znpw",
        "outputId": "ee7d03c2-642f-472d-d54a-5b0cd707c98a"
      },
      "execution_count": null,
      "outputs": [
        {
          "output_type": "execute_result",
          "data": {
            "text/plain": [
              "481139"
            ]
          },
          "metadata": {},
          "execution_count": 25
        }
      ]
    },
    {
      "cell_type": "code",
      "source": [
        "promo_date = merged_new.groupby('promo_code')['created_at'].agg(['min', 'max'])\n",
        "\n",
        "# the date range for each promo_code\n",
        "print(promo_date)"
      ],
      "metadata": {
        "colab": {
          "base_uri": "https://localhost:8080/"
        },
        "id": "rKr3EqUgbLQf",
        "outputId": "ca659522-f76c-45c9-f50b-2eaecf2298c7"
      },
      "execution_count": null,
      "outputs": [
        {
          "output_type": "stream",
          "name": "stdout",
          "text": [
            "                  min        max\n",
            "promo_code                      \n",
            "0          2016-06-30 2022-07-31\n",
            "1          2016-07-04 2022-07-29\n",
            "2          2016-07-04 2022-07-29\n",
            "3          2016-07-02 2022-07-31\n",
            "4          2016-07-01 2022-07-29\n",
            "5          2016-07-09 2022-07-31\n",
            "6          2016-07-03 2022-07-31\n",
            "7          2016-07-04 2022-07-29\n",
            "8          2016-07-12 2022-07-29\n"
          ]
        }
      ]
    },
    {
      "cell_type": "code",
      "source": [
        "promo_month = merged_new[merged_new['payment_status'] == 'Success'].groupby('promo_code')['created_at'].apply(lambda x: x.dt.month.unique())\n",
        "\n",
        "# Print the unique months for each promo_code\n",
        "print(promo_month)"
      ],
      "metadata": {
        "colab": {
          "base_uri": "https://localhost:8080/"
        },
        "id": "kuLeD4YdceB9",
        "outputId": "9f9f60f7-b1b8-4b2d-f7fe-27f9c1bcac0b"
      },
      "execution_count": null,
      "outputs": [
        {
          "output_type": "stream",
          "name": "stdout",
          "text": [
            "promo_code\n",
            "0    [7, 9, 11, 12, 3, 5, 2, 8, 10, 1, 4, 6]\n",
            "1    [6, 4, 7, 12, 3, 10, 2, 9, 1, 5, 11, 8]\n",
            "2    [2, 8, 11, 1, 7, 10, 3, 6, 12, 9, 4, 5]\n",
            "3    [7, 8, 10, 9, 1, 11, 2, 3, 5, 6, 12, 4]\n",
            "4    [6, 12, 1, 8, 9, 4, 5, 3, 10, 11, 7, 2]\n",
            "5    [12, 4, 11, 5, 2, 9, 8, 7, 1, 6, 10, 3]\n",
            "6    [2, 7, 4, 1, 3, 6, 9, 10, 8, 11, 12, 5]\n",
            "7    [12, 1, 7, 6, 11, 2, 4, 10, 8, 3, 9, 5]\n",
            "8    [4, 7, 3, 1, 6, 8, 12, 2, 9, 11, 10, 5]\n",
            "Name: created_at, dtype: object\n"
          ]
        }
      ]
    },
    {
      "cell_type": "markdown",
      "source": [
        "\n",
        "\n",
        "> promocode 이름에 의미없음 -> 연도, 월 상관없이 사용됐기 때문.\n",
        "\n"
      ],
      "metadata": {
        "id": "Pv4TmyFQFOO3"
      }
    },
    {
      "cell_type": "markdown",
      "source": [
        "## customer influx by promo"
      ],
      "metadata": {
        "id": "4zpY48fSIvA9"
      }
    },
    {
      "cell_type": "code",
      "source": [
        "# total: 1254585 rows\n",
        "# first_join_date와 created_at 의 날짜가 동일한 row 수 추출\n",
        "matching_dates_promo = merged_new[(merged_new['first_join_date'].dt.date == merged_new['created_at'].dt.date) & (merged_new['w_promo'] == 1)]\n",
        "count_matching = len(matching_dates_promo)\n",
        "count_matching / merged_new.shape[0]"
      ],
      "metadata": {
        "colab": {
          "base_uri": "https://localhost:8080/"
        },
        "id": "nwDIV6BBZwYR",
        "outputId": "af4a977f-b78a-41df-ce61-626f45c0b1d8"
      },
      "execution_count": null,
      "outputs": [
        {
          "output_type": "execute_result",
          "data": {
            "text/plain": [
              "0.009974613119079217"
            ]
          },
          "metadata": {},
          "execution_count": 28
        }
      ]
    },
    {
      "cell_type": "code",
      "source": [
        "# first created_at( merged_new.shape[0] proportionfirst_transaction)에서 promo가 사용된 결제의 비율\n",
        "first_transaction = merged_new.groupby('customer_id')['created_at'].min()\n",
        "completed_promo_transactions = merged_new[merged_new['w_promo'] == 1]\n",
        "customers_completed_promo = first_transaction[first_transaction.isin(completed_promo_transactions['created_at'])]\n",
        "proportion = len(customers_completed_promo) /"
      ],
      "metadata": {
        "colab": {
          "base_uri": "https://localhost:8080/"
        },
        "id": "8o8hA7dobPCw",
        "outputId": "bf8ad955-9243-484e-d8c3-72750b7cf721"
      },
      "execution_count": null,
      "outputs": [
        {
          "output_type": "execute_result",
          "data": {
            "text/plain": [
              "0.040414957934296995"
            ]
          },
          "metadata": {},
          "execution_count": 32
        }
      ]
    },
    {
      "cell_type": "markdown",
      "source": [
        "Only 4% 만이 promo_code 로 인해 가입했다 말할수 있음!"
      ],
      "metadata": {
        "id": "Zvt33_jaIg5s"
      }
    },
    {
      "cell_type": "code",
      "source": [
        "# first_join_date와 created_at 의 날짜가 동일하고 w_promo가 1인 row 수 추출\n",
        "matching = merged_new[merged_new['first_join_date'].dt.date == merged_new['created_at'].dt.date]\n",
        "matching_promo = matching[matching['w_promo'] == 1]\n",
        "new_customers_promo = len(matching_promo) / len(matching)\n",
        "new_customers_promo"
      ],
      "metadata": {
        "colab": {
          "base_uri": "https://localhost:8080/"
        },
        "id": "M94lRgF_Xtgy",
        "outputId": "ce48f046-f6af-440d-c63b-7b608ede153a"
      },
      "execution_count": null,
      "outputs": [
        {
          "output_type": "execute_result",
          "data": {
            "text/plain": [
              "0.35459465586126776"
            ]
          },
          "metadata": {},
          "execution_count": 23
        }
      ]
    },
    {
      "cell_type": "code",
      "source": [
        "199832 - 191247\t- 10000 - 1415"
      ],
      "metadata": {
        "colab": {
          "base_uri": "https://localhost:8080/"
        },
        "id": "Th0mka_XnyUa",
        "outputId": "bb051fa8-7734-40e1-c4d8-b8bcd90efb37"
      },
      "execution_count": null,
      "outputs": [
        {
          "output_type": "execute_result",
          "data": {
            "text/plain": [
              "-2830"
            ]
          },
          "metadata": {},
          "execution_count": 116
        }
      ]
    },
    {
      "cell_type": "code",
      "source": [
        "promo_by_customer"
      ],
      "metadata": {
        "id": "qn-6D2wkwwfv"
      },
      "execution_count": null,
      "outputs": []
    },
    {
      "cell_type": "code",
      "source": [
        "863863-(98088+443219+134257)-(11701*3)"
      ],
      "metadata": {
        "colab": {
          "base_uri": "https://localhost:8080/"
        },
        "id": "Kx0stGqshkBz",
        "outputId": "dbc8a9a1-b158-479f-9588-51fe6c4f1620"
      },
      "execution_count": null,
      "outputs": [
        {
          "output_type": "execute_result",
          "data": {
            "text/plain": [
              "153196"
            ]
          },
          "metadata": {},
          "execution_count": 89
        }
      ]
    },
    {
      "cell_type": "code",
      "source": [
        "268925-4146"
      ],
      "metadata": {
        "colab": {
          "base_uri": "https://localhost:8080/"
        },
        "id": "dF5-cNcPh8-u",
        "outputId": "2d2ba7c8-5e8c-461a-823a-a3c0c551f885"
      },
      "execution_count": null,
      "outputs": [
        {
          "output_type": "execute_result",
          "data": {
            "text/plain": [
              "264779"
            ]
          },
          "metadata": {},
          "execution_count": 91
        }
      ]
    },
    {
      "cell_type": "code",
      "source": [
        "transaction['discount'] = transaction['total_amount'] // transaction['promo_amount']"
      ],
      "metadata": {
        "id": "a2tCAx67fVEy"
      },
      "execution_count": null,
      "outputs": []
    },
    {
      "cell_type": "code",
      "source": [
        "test_ttl['item_price'].sum() + shipment_fee - promo_amount"
      ],
      "metadata": {
        "colab": {
          "base_uri": "https://localhost:8080/"
        },
        "id": "Mg4U_v6bpoRS",
        "outputId": "a5a4e3a0-ef0e-4cb3-883e-2efac9b30b2b"
      },
      "execution_count": null,
      "outputs": [
        {
          "output_type": "execute_result",
          "data": {
            "text/plain": [
              "1294812"
            ]
          },
          "metadata": {},
          "execution_count": 118
        }
      ]
    },
    {
      "cell_type": "code",
      "source": [
        "1294812 + 10000 - 9072"
      ],
      "metadata": {
        "colab": {
          "base_uri": "https://localhost:8080/"
        },
        "id": "k9CNXQKvps4y",
        "outputId": "585c5f9a-e555-4377-e8b6-5a4c0d644451"
      },
      "execution_count": null,
      "outputs": [
        {
          "output_type": "execute_result",
          "data": {
            "text/plain": [
              "1295740"
            ]
          },
          "metadata": {},
          "execution_count": 119
        }
      ]
    },
    {
      "cell_type": "code",
      "source": [
        "test_ttl = merged_new[(merged_new['customer_id'] == 4774) & (merged_new['created_at'] == '2019-08-10')]\n",
        "test_ttl\n",
        "test_ttl['item_price'] - test_ttl['promo_amount'] + test_ttl['shipment_fee']"
      ],
      "metadata": {
        "colab": {
          "base_uri": "https://localhost:8080/",
          "height": 614
        },
        "id": "vOI2ksYbkJVi",
        "outputId": "8d83f67d-9ae3-4ca1-fd93-12eb22c92bc0"
      },
      "execution_count": null,
      "outputs": [
        {
          "output_type": "execute_result",
          "data": {
            "text/plain": [
              "   first_join_date  customer_id created_at payment_method payment_status  \\\n",
              "9       2018-07-28         4774 2019-08-10    Credit Card        Success   \n",
              "10      2018-07-28         4774 2019-08-10    Credit Card        Success   \n",
              "11      2018-07-28         4774 2019-08-10    Credit Card        Success   \n",
              "12      2018-07-28         4774 2019-08-10    Credit Card        Success   \n",
              "13      2018-07-28         4774 2019-08-10    Credit Card        Success   \n",
              "14      2018-07-28         4774 2019-08-10    Credit Card        Success   \n",
              "\n",
              "    promo_amount  promo_code  shipment_fee  quantity  item_price  \\\n",
              "9           9072           3         10000         1      292052   \n",
              "10          9072           3         10000         1      241945   \n",
              "11          9072           3         10000         1      297248   \n",
              "12          9072           3         10000         1      191138   \n",
              "13          9072           3         10000         1       78559   \n",
              "14          9072           3         10000         1      193870   \n",
              "\n",
              "    total_amount  product_id                              username gender  \\\n",
              "9        1295740       53051  5009ab96-84ff-44ef-98b0-c1b492658c29      F   \n",
              "10       1295740       46352  5009ab96-84ff-44ef-98b0-c1b492658c29      F   \n",
              "11       1295740        6352  5009ab96-84ff-44ef-98b0-c1b492658c29      F   \n",
              "12       1295740       26620  5009ab96-84ff-44ef-98b0-c1b492658c29      F   \n",
              "13       1295740       22849  5009ab96-84ff-44ef-98b0-c1b492658c29      F   \n",
              "14       1295740       56247  5009ab96-84ff-44ef-98b0-c1b492658c29      F   \n",
              "\n",
              "    birthdate device_type  \n",
              "9  1996-03-15     Android  \n",
              "10 1996-03-15     Android  \n",
              "11 1996-03-15     Android  \n",
              "12 1996-03-15     Android  \n",
              "13 1996-03-15     Android  \n",
              "14 1996-03-15     Android  "
            ],
            "text/html": [
              "\n",
              "  <div id=\"df-9a4c27b1-f6d9-4a2c-9773-f942ed17db40\">\n",
              "    <div class=\"colab-df-container\">\n",
              "      <div>\n",
              "<style scoped>\n",
              "    .dataframe tbody tr th:only-of-type {\n",
              "        vertical-align: middle;\n",
              "    }\n",
              "\n",
              "    .dataframe tbody tr th {\n",
              "        vertical-align: top;\n",
              "    }\n",
              "\n",
              "    .dataframe thead th {\n",
              "        text-align: right;\n",
              "    }\n",
              "</style>\n",
              "<table border=\"1\" class=\"dataframe\">\n",
              "  <thead>\n",
              "    <tr style=\"text-align: right;\">\n",
              "      <th></th>\n",
              "      <th>first_join_date</th>\n",
              "      <th>customer_id</th>\n",
              "      <th>created_at</th>\n",
              "      <th>payment_method</th>\n",
              "      <th>payment_status</th>\n",
              "      <th>promo_amount</th>\n",
              "      <th>promo_code</th>\n",
              "      <th>shipment_fee</th>\n",
              "      <th>quantity</th>\n",
              "      <th>item_price</th>\n",
              "      <th>total_amount</th>\n",
              "      <th>product_id</th>\n",
              "      <th>username</th>\n",
              "      <th>gender</th>\n",
              "      <th>birthdate</th>\n",
              "      <th>device_type</th>\n",
              "    </tr>\n",
              "  </thead>\n",
              "  <tbody>\n",
              "    <tr>\n",
              "      <th>9</th>\n",
              "      <td>2018-07-28</td>\n",
              "      <td>4774</td>\n",
              "      <td>2019-08-10</td>\n",
              "      <td>Credit Card</td>\n",
              "      <td>Success</td>\n",
              "      <td>9072</td>\n",
              "      <td>3</td>\n",
              "      <td>10000</td>\n",
              "      <td>1</td>\n",
              "      <td>292052</td>\n",
              "      <td>1295740</td>\n",
              "      <td>53051</td>\n",
              "      <td>5009ab96-84ff-44ef-98b0-c1b492658c29</td>\n",
              "      <td>F</td>\n",
              "      <td>1996-03-15</td>\n",
              "      <td>Android</td>\n",
              "    </tr>\n",
              "    <tr>\n",
              "      <th>10</th>\n",
              "      <td>2018-07-28</td>\n",
              "      <td>4774</td>\n",
              "      <td>2019-08-10</td>\n",
              "      <td>Credit Card</td>\n",
              "      <td>Success</td>\n",
              "      <td>9072</td>\n",
              "      <td>3</td>\n",
              "      <td>10000</td>\n",
              "      <td>1</td>\n",
              "      <td>241945</td>\n",
              "      <td>1295740</td>\n",
              "      <td>46352</td>\n",
              "      <td>5009ab96-84ff-44ef-98b0-c1b492658c29</td>\n",
              "      <td>F</td>\n",
              "      <td>1996-03-15</td>\n",
              "      <td>Android</td>\n",
              "    </tr>\n",
              "    <tr>\n",
              "      <th>11</th>\n",
              "      <td>2018-07-28</td>\n",
              "      <td>4774</td>\n",
              "      <td>2019-08-10</td>\n",
              "      <td>Credit Card</td>\n",
              "      <td>Success</td>\n",
              "      <td>9072</td>\n",
              "      <td>3</td>\n",
              "      <td>10000</td>\n",
              "      <td>1</td>\n",
              "      <td>297248</td>\n",
              "      <td>1295740</td>\n",
              "      <td>6352</td>\n",
              "      <td>5009ab96-84ff-44ef-98b0-c1b492658c29</td>\n",
              "      <td>F</td>\n",
              "      <td>1996-03-15</td>\n",
              "      <td>Android</td>\n",
              "    </tr>\n",
              "    <tr>\n",
              "      <th>12</th>\n",
              "      <td>2018-07-28</td>\n",
              "      <td>4774</td>\n",
              "      <td>2019-08-10</td>\n",
              "      <td>Credit Card</td>\n",
              "      <td>Success</td>\n",
              "      <td>9072</td>\n",
              "      <td>3</td>\n",
              "      <td>10000</td>\n",
              "      <td>1</td>\n",
              "      <td>191138</td>\n",
              "      <td>1295740</td>\n",
              "      <td>26620</td>\n",
              "      <td>5009ab96-84ff-44ef-98b0-c1b492658c29</td>\n",
              "      <td>F</td>\n",
              "      <td>1996-03-15</td>\n",
              "      <td>Android</td>\n",
              "    </tr>\n",
              "    <tr>\n",
              "      <th>13</th>\n",
              "      <td>2018-07-28</td>\n",
              "      <td>4774</td>\n",
              "      <td>2019-08-10</td>\n",
              "      <td>Credit Card</td>\n",
              "      <td>Success</td>\n",
              "      <td>9072</td>\n",
              "      <td>3</td>\n",
              "      <td>10000</td>\n",
              "      <td>1</td>\n",
              "      <td>78559</td>\n",
              "      <td>1295740</td>\n",
              "      <td>22849</td>\n",
              "      <td>5009ab96-84ff-44ef-98b0-c1b492658c29</td>\n",
              "      <td>F</td>\n",
              "      <td>1996-03-15</td>\n",
              "      <td>Android</td>\n",
              "    </tr>\n",
              "    <tr>\n",
              "      <th>14</th>\n",
              "      <td>2018-07-28</td>\n",
              "      <td>4774</td>\n",
              "      <td>2019-08-10</td>\n",
              "      <td>Credit Card</td>\n",
              "      <td>Success</td>\n",
              "      <td>9072</td>\n",
              "      <td>3</td>\n",
              "      <td>10000</td>\n",
              "      <td>1</td>\n",
              "      <td>193870</td>\n",
              "      <td>1295740</td>\n",
              "      <td>56247</td>\n",
              "      <td>5009ab96-84ff-44ef-98b0-c1b492658c29</td>\n",
              "      <td>F</td>\n",
              "      <td>1996-03-15</td>\n",
              "      <td>Android</td>\n",
              "    </tr>\n",
              "  </tbody>\n",
              "</table>\n",
              "</div>\n",
              "      <button class=\"colab-df-convert\" onclick=\"convertToInteractive('df-9a4c27b1-f6d9-4a2c-9773-f942ed17db40')\"\n",
              "              title=\"Convert this dataframe to an interactive table.\"\n",
              "              style=\"display:none;\">\n",
              "        \n",
              "  <svg xmlns=\"http://www.w3.org/2000/svg\" height=\"24px\"viewBox=\"0 0 24 24\"\n",
              "       width=\"24px\">\n",
              "    <path d=\"M0 0h24v24H0V0z\" fill=\"none\"/>\n",
              "    <path d=\"M18.56 5.44l.94 2.06.94-2.06 2.06-.94-2.06-.94-.94-2.06-.94 2.06-2.06.94zm-11 1L8.5 8.5l.94-2.06 2.06-.94-2.06-.94L8.5 2.5l-.94 2.06-2.06.94zm10 10l.94 2.06.94-2.06 2.06-.94-2.06-.94-.94-2.06-.94 2.06-2.06.94z\"/><path d=\"M17.41 7.96l-1.37-1.37c-.4-.4-.92-.59-1.43-.59-.52 0-1.04.2-1.43.59L10.3 9.45l-7.72 7.72c-.78.78-.78 2.05 0 2.83L4 21.41c.39.39.9.59 1.41.59.51 0 1.02-.2 1.41-.59l7.78-7.78 2.81-2.81c.8-.78.8-2.07 0-2.86zM5.41 20L4 18.59l7.72-7.72 1.47 1.35L5.41 20z\"/>\n",
              "  </svg>\n",
              "      </button>\n",
              "      \n",
              "  <style>\n",
              "    .colab-df-container {\n",
              "      display:flex;\n",
              "      flex-wrap:wrap;\n",
              "      gap: 12px;\n",
              "    }\n",
              "\n",
              "    .colab-df-convert {\n",
              "      background-color: #E8F0FE;\n",
              "      border: none;\n",
              "      border-radius: 50%;\n",
              "      cursor: pointer;\n",
              "      display: none;\n",
              "      fill: #1967D2;\n",
              "      height: 32px;\n",
              "      padding: 0 0 0 0;\n",
              "      width: 32px;\n",
              "    }\n",
              "\n",
              "    .colab-df-convert:hover {\n",
              "      background-color: #E2EBFA;\n",
              "      box-shadow: 0px 1px 2px rgba(60, 64, 67, 0.3), 0px 1px 3px 1px rgba(60, 64, 67, 0.15);\n",
              "      fill: #174EA6;\n",
              "    }\n",
              "\n",
              "    [theme=dark] .colab-df-convert {\n",
              "      background-color: #3B4455;\n",
              "      fill: #D2E3FC;\n",
              "    }\n",
              "\n",
              "    [theme=dark] .colab-df-convert:hover {\n",
              "      background-color: #434B5C;\n",
              "      box-shadow: 0px 1px 3px 1px rgba(0, 0, 0, 0.15);\n",
              "      filter: drop-shadow(0px 1px 2px rgba(0, 0, 0, 0.3));\n",
              "      fill: #FFFFFF;\n",
              "    }\n",
              "  </style>\n",
              "\n",
              "      <script>\n",
              "        const buttonEl =\n",
              "          document.querySelector('#df-9a4c27b1-f6d9-4a2c-9773-f942ed17db40 button.colab-df-convert');\n",
              "        buttonEl.style.display =\n",
              "          google.colab.kernel.accessAllowed ? 'block' : 'none';\n",
              "\n",
              "        async function convertToInteractive(key) {\n",
              "          const element = document.querySelector('#df-9a4c27b1-f6d9-4a2c-9773-f942ed17db40');\n",
              "          const dataTable =\n",
              "            await google.colab.kernel.invokeFunction('convertToInteractive',\n",
              "                                                     [key], {});\n",
              "          if (!dataTable) return;\n",
              "\n",
              "          const docLinkHtml = 'Like what you see? Visit the ' +\n",
              "            '<a target=\"_blank\" href=https://colab.research.google.com/notebooks/data_table.ipynb>data table notebook</a>'\n",
              "            + ' to learn more about interactive tables.';\n",
              "          element.innerHTML = '';\n",
              "          dataTable['output_type'] = 'display_data';\n",
              "          await google.colab.output.renderOutput(dataTable, element);\n",
              "          const docLink = document.createElement('div');\n",
              "          docLink.innerHTML = docLinkHtml;\n",
              "          element.appendChild(docLink);\n",
              "        }\n",
              "      </script>\n",
              "    </div>\n",
              "  </div>\n",
              "  "
            ]
          },
          "metadata": {},
          "execution_count": 115
        }
      ]
    },
    {
      "cell_type": "code",
      "source": [
        "total_price = test_ttl['item_price'].sum()\n",
        "print(total_price)\n",
        "9072*\n",
        "ttl_aft_promo = total_price - test_ttl['promo_amount'].sum()\n",
        "ttl_aft_promo"
      ],
      "metadata": {
        "colab": {
          "base_uri": "https://localhost:8080/"
        },
        "id": "Ldz1YBB9lwVJ",
        "outputId": "ebfd8653-d6f4-4e8a-878c-0a11a0e01fb6"
      },
      "execution_count": null,
      "outputs": [
        {
          "output_type": "stream",
          "name": "stdout",
          "text": [
            "1294812\n"
          ]
        },
        {
          "output_type": "execute_result",
          "data": {
            "text/plain": [
              "1240380"
            ]
          },
          "metadata": {},
          "execution_count": 114
        }
      ]
    },
    {
      "cell_type": "code",
      "source": [
        "promo_rate = merged_new[(merged_new['payment_status'] == 'Success') & (merged_new['promo_code'] != 0)]\n",
        "\n",
        "promo_rate"
      ],
      "metadata": {
        "colab": {
          "base_uri": "https://localhost:8080/",
          "height": 1000
        },
        "id": "mukg-9ASb70y",
        "outputId": "06ef30a6-7916-4052-9f9c-b4251f9c4f14"
      },
      "execution_count": null,
      "outputs": [
        {
          "output_type": "execute_result",
          "data": {
            "text/plain": [
              "        first_join_date  customer_id created_at payment_method payment_status  \\\n",
              "0            2018-07-28         5868 2018-07-29     Debit Card        Success   \n",
              "5            2018-07-28         4774 2019-02-03     Debit Card        Success   \n",
              "8            2018-07-28         4774 2019-06-24    Credit Card        Success   \n",
              "9            2018-07-28         4774 2019-08-10    Credit Card        Success   \n",
              "10           2018-07-28         4774 2019-08-10    Credit Card        Success   \n",
              "...                 ...          ...        ...            ...            ...   \n",
              "1254575      2022-05-06        99675 2022-07-07    Credit Card        Success   \n",
              "1254581      2021-12-08        34829 2021-12-09            OVO        Success   \n",
              "1254582      2021-12-08        99645 2021-12-11    Credit Card        Success   \n",
              "1254583      2019-12-18        87319 2019-12-18    Credit Card        Success   \n",
              "1254584      2019-12-18        58180 2019-12-19          Gopay        Success   \n",
              "\n",
              "         promo_amount  promo_code  shipment_fee  quantity  item_price  \\\n",
              "0                1415           3         10000         1      191247   \n",
              "5                6369           6          5000         1      183234   \n",
              "8                4019           1         10000         1      364776   \n",
              "9                9072           3         10000         1      292052   \n",
              "10               9072           3         10000         1      241945   \n",
              "...               ...         ...           ...       ...         ...   \n",
              "1254575          3388           4             0         1      488722   \n",
              "1254581          5010           1         10000         1      354213   \n",
              "1254582          2181           3          5000         4      288835   \n",
              "1254583          4503           1             0         1      188646   \n",
              "1254584          4724           2         10000         1      360687   \n",
              "\n",
              "         total_amount  product_id                              username  \\\n",
              "0              199832       54728  498c2a5e-bafe-42cc-94f9-2832ac5e1f6b   \n",
              "5              181865       59620  5009ab96-84ff-44ef-98b0-c1b492658c29   \n",
              "8              370757       12282  5009ab96-84ff-44ef-98b0-c1b492658c29   \n",
              "9             1295740       53051  5009ab96-84ff-44ef-98b0-c1b492658c29   \n",
              "10            1295740       46352  5009ab96-84ff-44ef-98b0-c1b492658c29   \n",
              "...               ...         ...                                   ...   \n",
              "1254575        485334       35318  b12282d0-f890-41b3-977e-43a7f89b95c1   \n",
              "1254581        359203       19394  46d47eaa-4d8a-4f17-b083-48c2ad4fe947   \n",
              "1254582       1158159       13079  f09d115a-a950-451e-9c4f-de117a2657f4   \n",
              "1254583        184143       11312  57561022-e2f9-42de-a46b-428cce52e5dc   \n",
              "1254584        365963       47433  1cac640c-6099-40a3-b275-74337a8e1bd8   \n",
              "\n",
              "        gender  birthdate device_type  \n",
              "0            F 2000-08-20     Android  \n",
              "5            F 1996-03-15     Android  \n",
              "8            F 1996-03-15     Android  \n",
              "9            F 1996-03-15     Android  \n",
              "10           F 1996-03-15     Android  \n",
              "...        ...        ...         ...  \n",
              "1254575      F 1991-08-17         iOS  \n",
              "1254581      F 2006-04-21     Android  \n",
              "1254582      F 1991-03-17     Android  \n",
              "1254583      F 2007-10-26         iOS  \n",
              "1254584      F 2003-11-04     Android  \n",
              "\n",
              "[460971 rows x 16 columns]"
            ],
            "text/html": [
              "\n",
              "  <div id=\"df-ec563173-aa90-481c-bfa0-204f24503a0a\">\n",
              "    <div class=\"colab-df-container\">\n",
              "      <div>\n",
              "<style scoped>\n",
              "    .dataframe tbody tr th:only-of-type {\n",
              "        vertical-align: middle;\n",
              "    }\n",
              "\n",
              "    .dataframe tbody tr th {\n",
              "        vertical-align: top;\n",
              "    }\n",
              "\n",
              "    .dataframe thead th {\n",
              "        text-align: right;\n",
              "    }\n",
              "</style>\n",
              "<table border=\"1\" class=\"dataframe\">\n",
              "  <thead>\n",
              "    <tr style=\"text-align: right;\">\n",
              "      <th></th>\n",
              "      <th>first_join_date</th>\n",
              "      <th>customer_id</th>\n",
              "      <th>created_at</th>\n",
              "      <th>payment_method</th>\n",
              "      <th>payment_status</th>\n",
              "      <th>promo_amount</th>\n",
              "      <th>promo_code</th>\n",
              "      <th>shipment_fee</th>\n",
              "      <th>quantity</th>\n",
              "      <th>item_price</th>\n",
              "      <th>total_amount</th>\n",
              "      <th>product_id</th>\n",
              "      <th>username</th>\n",
              "      <th>gender</th>\n",
              "      <th>birthdate</th>\n",
              "      <th>device_type</th>\n",
              "    </tr>\n",
              "  </thead>\n",
              "  <tbody>\n",
              "    <tr>\n",
              "      <th>0</th>\n",
              "      <td>2018-07-28</td>\n",
              "      <td>5868</td>\n",
              "      <td>2018-07-29</td>\n",
              "      <td>Debit Card</td>\n",
              "      <td>Success</td>\n",
              "      <td>1415</td>\n",
              "      <td>3</td>\n",
              "      <td>10000</td>\n",
              "      <td>1</td>\n",
              "      <td>191247</td>\n",
              "      <td>199832</td>\n",
              "      <td>54728</td>\n",
              "      <td>498c2a5e-bafe-42cc-94f9-2832ac5e1f6b</td>\n",
              "      <td>F</td>\n",
              "      <td>2000-08-20</td>\n",
              "      <td>Android</td>\n",
              "    </tr>\n",
              "    <tr>\n",
              "      <th>5</th>\n",
              "      <td>2018-07-28</td>\n",
              "      <td>4774</td>\n",
              "      <td>2019-02-03</td>\n",
              "      <td>Debit Card</td>\n",
              "      <td>Success</td>\n",
              "      <td>6369</td>\n",
              "      <td>6</td>\n",
              "      <td>5000</td>\n",
              "      <td>1</td>\n",
              "      <td>183234</td>\n",
              "      <td>181865</td>\n",
              "      <td>59620</td>\n",
              "      <td>5009ab96-84ff-44ef-98b0-c1b492658c29</td>\n",
              "      <td>F</td>\n",
              "      <td>1996-03-15</td>\n",
              "      <td>Android</td>\n",
              "    </tr>\n",
              "    <tr>\n",
              "      <th>8</th>\n",
              "      <td>2018-07-28</td>\n",
              "      <td>4774</td>\n",
              "      <td>2019-06-24</td>\n",
              "      <td>Credit Card</td>\n",
              "      <td>Success</td>\n",
              "      <td>4019</td>\n",
              "      <td>1</td>\n",
              "      <td>10000</td>\n",
              "      <td>1</td>\n",
              "      <td>364776</td>\n",
              "      <td>370757</td>\n",
              "      <td>12282</td>\n",
              "      <td>5009ab96-84ff-44ef-98b0-c1b492658c29</td>\n",
              "      <td>F</td>\n",
              "      <td>1996-03-15</td>\n",
              "      <td>Android</td>\n",
              "    </tr>\n",
              "    <tr>\n",
              "      <th>9</th>\n",
              "      <td>2018-07-28</td>\n",
              "      <td>4774</td>\n",
              "      <td>2019-08-10</td>\n",
              "      <td>Credit Card</td>\n",
              "      <td>Success</td>\n",
              "      <td>9072</td>\n",
              "      <td>3</td>\n",
              "      <td>10000</td>\n",
              "      <td>1</td>\n",
              "      <td>292052</td>\n",
              "      <td>1295740</td>\n",
              "      <td>53051</td>\n",
              "      <td>5009ab96-84ff-44ef-98b0-c1b492658c29</td>\n",
              "      <td>F</td>\n",
              "      <td>1996-03-15</td>\n",
              "      <td>Android</td>\n",
              "    </tr>\n",
              "    <tr>\n",
              "      <th>10</th>\n",
              "      <td>2018-07-28</td>\n",
              "      <td>4774</td>\n",
              "      <td>2019-08-10</td>\n",
              "      <td>Credit Card</td>\n",
              "      <td>Success</td>\n",
              "      <td>9072</td>\n",
              "      <td>3</td>\n",
              "      <td>10000</td>\n",
              "      <td>1</td>\n",
              "      <td>241945</td>\n",
              "      <td>1295740</td>\n",
              "      <td>46352</td>\n",
              "      <td>5009ab96-84ff-44ef-98b0-c1b492658c29</td>\n",
              "      <td>F</td>\n",
              "      <td>1996-03-15</td>\n",
              "      <td>Android</td>\n",
              "    </tr>\n",
              "    <tr>\n",
              "      <th>...</th>\n",
              "      <td>...</td>\n",
              "      <td>...</td>\n",
              "      <td>...</td>\n",
              "      <td>...</td>\n",
              "      <td>...</td>\n",
              "      <td>...</td>\n",
              "      <td>...</td>\n",
              "      <td>...</td>\n",
              "      <td>...</td>\n",
              "      <td>...</td>\n",
              "      <td>...</td>\n",
              "      <td>...</td>\n",
              "      <td>...</td>\n",
              "      <td>...</td>\n",
              "      <td>...</td>\n",
              "      <td>...</td>\n",
              "    </tr>\n",
              "    <tr>\n",
              "      <th>1254575</th>\n",
              "      <td>2022-05-06</td>\n",
              "      <td>99675</td>\n",
              "      <td>2022-07-07</td>\n",
              "      <td>Credit Card</td>\n",
              "      <td>Success</td>\n",
              "      <td>3388</td>\n",
              "      <td>4</td>\n",
              "      <td>0</td>\n",
              "      <td>1</td>\n",
              "      <td>488722</td>\n",
              "      <td>485334</td>\n",
              "      <td>35318</td>\n",
              "      <td>b12282d0-f890-41b3-977e-43a7f89b95c1</td>\n",
              "      <td>F</td>\n",
              "      <td>1991-08-17</td>\n",
              "      <td>iOS</td>\n",
              "    </tr>\n",
              "    <tr>\n",
              "      <th>1254581</th>\n",
              "      <td>2021-12-08</td>\n",
              "      <td>34829</td>\n",
              "      <td>2021-12-09</td>\n",
              "      <td>OVO</td>\n",
              "      <td>Success</td>\n",
              "      <td>5010</td>\n",
              "      <td>1</td>\n",
              "      <td>10000</td>\n",
              "      <td>1</td>\n",
              "      <td>354213</td>\n",
              "      <td>359203</td>\n",
              "      <td>19394</td>\n",
              "      <td>46d47eaa-4d8a-4f17-b083-48c2ad4fe947</td>\n",
              "      <td>F</td>\n",
              "      <td>2006-04-21</td>\n",
              "      <td>Android</td>\n",
              "    </tr>\n",
              "    <tr>\n",
              "      <th>1254582</th>\n",
              "      <td>2021-12-08</td>\n",
              "      <td>99645</td>\n",
              "      <td>2021-12-11</td>\n",
              "      <td>Credit Card</td>\n",
              "      <td>Success</td>\n",
              "      <td>2181</td>\n",
              "      <td>3</td>\n",
              "      <td>5000</td>\n",
              "      <td>4</td>\n",
              "      <td>288835</td>\n",
              "      <td>1158159</td>\n",
              "      <td>13079</td>\n",
              "      <td>f09d115a-a950-451e-9c4f-de117a2657f4</td>\n",
              "      <td>F</td>\n",
              "      <td>1991-03-17</td>\n",
              "      <td>Android</td>\n",
              "    </tr>\n",
              "    <tr>\n",
              "      <th>1254583</th>\n",
              "      <td>2019-12-18</td>\n",
              "      <td>87319</td>\n",
              "      <td>2019-12-18</td>\n",
              "      <td>Credit Card</td>\n",
              "      <td>Success</td>\n",
              "      <td>4503</td>\n",
              "      <td>1</td>\n",
              "      <td>0</td>\n",
              "      <td>1</td>\n",
              "      <td>188646</td>\n",
              "      <td>184143</td>\n",
              "      <td>11312</td>\n",
              "      <td>57561022-e2f9-42de-a46b-428cce52e5dc</td>\n",
              "      <td>F</td>\n",
              "      <td>2007-10-26</td>\n",
              "      <td>iOS</td>\n",
              "    </tr>\n",
              "    <tr>\n",
              "      <th>1254584</th>\n",
              "      <td>2019-12-18</td>\n",
              "      <td>58180</td>\n",
              "      <td>2019-12-19</td>\n",
              "      <td>Gopay</td>\n",
              "      <td>Success</td>\n",
              "      <td>4724</td>\n",
              "      <td>2</td>\n",
              "      <td>10000</td>\n",
              "      <td>1</td>\n",
              "      <td>360687</td>\n",
              "      <td>365963</td>\n",
              "      <td>47433</td>\n",
              "      <td>1cac640c-6099-40a3-b275-74337a8e1bd8</td>\n",
              "      <td>F</td>\n",
              "      <td>2003-11-04</td>\n",
              "      <td>Android</td>\n",
              "    </tr>\n",
              "  </tbody>\n",
              "</table>\n",
              "<p>460971 rows × 16 columns</p>\n",
              "</div>\n",
              "      <button class=\"colab-df-convert\" onclick=\"convertToInteractive('df-ec563173-aa90-481c-bfa0-204f24503a0a')\"\n",
              "              title=\"Convert this dataframe to an interactive table.\"\n",
              "              style=\"display:none;\">\n",
              "        \n",
              "  <svg xmlns=\"http://www.w3.org/2000/svg\" height=\"24px\"viewBox=\"0 0 24 24\"\n",
              "       width=\"24px\">\n",
              "    <path d=\"M0 0h24v24H0V0z\" fill=\"none\"/>\n",
              "    <path d=\"M18.56 5.44l.94 2.06.94-2.06 2.06-.94-2.06-.94-.94-2.06-.94 2.06-2.06.94zm-11 1L8.5 8.5l.94-2.06 2.06-.94-2.06-.94L8.5 2.5l-.94 2.06-2.06.94zm10 10l.94 2.06.94-2.06 2.06-.94-2.06-.94-.94-2.06-.94 2.06-2.06.94z\"/><path d=\"M17.41 7.96l-1.37-1.37c-.4-.4-.92-.59-1.43-.59-.52 0-1.04.2-1.43.59L10.3 9.45l-7.72 7.72c-.78.78-.78 2.05 0 2.83L4 21.41c.39.39.9.59 1.41.59.51 0 1.02-.2 1.41-.59l7.78-7.78 2.81-2.81c.8-.78.8-2.07 0-2.86zM5.41 20L4 18.59l7.72-7.72 1.47 1.35L5.41 20z\"/>\n",
              "  </svg>\n",
              "      </button>\n",
              "      \n",
              "  <style>\n",
              "    .colab-df-container {\n",
              "      display:flex;\n",
              "      flex-wrap:wrap;\n",
              "      gap: 12px;\n",
              "    }\n",
              "\n",
              "    .colab-df-convert {\n",
              "      background-color: #E8F0FE;\n",
              "      border: none;\n",
              "      border-radius: 50%;\n",
              "      cursor: pointer;\n",
              "      display: none;\n",
              "      fill: #1967D2;\n",
              "      height: 32px;\n",
              "      padding: 0 0 0 0;\n",
              "      width: 32px;\n",
              "    }\n",
              "\n",
              "    .colab-df-convert:hover {\n",
              "      background-color: #E2EBFA;\n",
              "      box-shadow: 0px 1px 2px rgba(60, 64, 67, 0.3), 0px 1px 3px 1px rgba(60, 64, 67, 0.15);\n",
              "      fill: #174EA6;\n",
              "    }\n",
              "\n",
              "    [theme=dark] .colab-df-convert {\n",
              "      background-color: #3B4455;\n",
              "      fill: #D2E3FC;\n",
              "    }\n",
              "\n",
              "    [theme=dark] .colab-df-convert:hover {\n",
              "      background-color: #434B5C;\n",
              "      box-shadow: 0px 1px 3px 1px rgba(0, 0, 0, 0.15);\n",
              "      filter: drop-shadow(0px 1px 2px rgba(0, 0, 0, 0.3));\n",
              "      fill: #FFFFFF;\n",
              "    }\n",
              "  </style>\n",
              "\n",
              "      <script>\n",
              "        const buttonEl =\n",
              "          document.querySelector('#df-ec563173-aa90-481c-bfa0-204f24503a0a button.colab-df-convert');\n",
              "        buttonEl.style.display =\n",
              "          google.colab.kernel.accessAllowed ? 'block' : 'none';\n",
              "\n",
              "        async function convertToInteractive(key) {\n",
              "          const element = document.querySelector('#df-ec563173-aa90-481c-bfa0-204f24503a0a');\n",
              "          const dataTable =\n",
              "            await google.colab.kernel.invokeFunction('convertToInteractive',\n",
              "                                                     [key], {});\n",
              "          if (!dataTable) return;\n",
              "\n",
              "          const docLinkHtml = 'Like what you see? Visit the ' +\n",
              "            '<a target=\"_blank\" href=https://colab.research.google.com/notebooks/data_table.ipynb>data table notebook</a>'\n",
              "            + ' to learn more about interactive tables.';\n",
              "          element.innerHTML = '';\n",
              "          dataTable['output_type'] = 'display_data';\n",
              "          await google.colab.output.renderOutput(dataTable, element);\n",
              "          const docLink = document.createElement('div');\n",
              "          docLink.innerHTML = docLinkHtml;\n",
              "          element.appendChild(docLink);\n",
              "        }\n",
              "      </script>\n",
              "    </div>\n",
              "  </div>\n",
              "  "
            ]
          },
          "metadata": {},
          "execution_count": 104
        }
      ]
    },
    {
      "cell_type": "code",
      "source": [
        "# check the num of new join during promo period\n"
      ],
      "metadata": {
        "colab": {
          "base_uri": "https://localhost:8080/"
        },
        "id": "MEbVs4iFahgR",
        "outputId": "3b7bb6da-21b9-47a9-9017-fd37f81e79c1"
      },
      "execution_count": null,
      "outputs": [
        {
          "output_type": "execute_result",
          "data": {
            "text/plain": [
              "0          3\n",
              "5          6\n",
              "8          1\n",
              "9          3\n",
              "10         3\n",
              "          ..\n",
              "1254575    4\n",
              "1254581    1\n",
              "1254582    3\n",
              "1254583    1\n",
              "1254584    2\n",
              "Name: promo_code, Length: 481139, dtype: int64"
            ]
          },
          "metadata": {},
          "execution_count": 52
        }
      ]
    },
    {
      "cell_type": "code",
      "source": [
        "# Convert 'created_at' and 'first_join_date' to datetime\n",
        "merged['created_at'] = pd.to_datetime(merged['created_at'])\n",
        "merged['first_join_date'] = pd.to_datetime(merged['first_join_date'])\n",
        "\n",
        "# Calculate tenure in days\n",
        "merged['tenure'] = (merged['created_at'] - merged['first_join_date']).dt.days"
      ],
      "metadata": {
        "id": "bDgXoi_Xy_zl"
      },
      "execution_count": null,
      "outputs": []
    },
    {
      "cell_type": "code",
      "source": [
        "transaction_re = transaction.to_csv('preprocessed_transaction.csv', index=False)"
      ],
      "metadata": {
        "id": "ZRjZfQMFJQMI"
      },
      "execution_count": null,
      "outputs": []
    },
    {
      "cell_type": "code",
      "source": [
        "merged['tenure'].value_counts()\n",
        "# 2022"
      ],
      "metadata": {
        "colab": {
          "base_uri": "https://localhost:8080/",
          "height": 169
        },
        "id": "qNnFP20Tz89Q",
        "outputId": "1868a474-6d2f-452c-e35d-e76eef135b45"
      },
      "execution_count": null,
      "outputs": [
        {
          "output_type": "error",
          "ename": "NameError",
          "evalue": "ignored",
          "traceback": [
            "\u001b[0;31m---------------------------------------------------------------------------\u001b[0m",
            "\u001b[0;31mNameError\u001b[0m                                 Traceback (most recent call last)",
            "\u001b[0;32m<ipython-input-2-162fe5b757be>\u001b[0m in \u001b[0;36m<cell line: 1>\u001b[0;34m()\u001b[0m\n\u001b[0;32m----> 1\u001b[0;31m \u001b[0mmerged\u001b[0m\u001b[0;34m[\u001b[0m\u001b[0;34m'tenure'\u001b[0m\u001b[0;34m]\u001b[0m\u001b[0;34m.\u001b[0m\u001b[0mvalue_counts\u001b[0m\u001b[0;34m(\u001b[0m\u001b[0;34m)\u001b[0m\u001b[0;34m\u001b[0m\u001b[0;34m\u001b[0m\u001b[0m\n\u001b[0m",
            "\u001b[0;31mNameError\u001b[0m: name 'merged' is not defined"
          ]
        }
      ]
    },
    {
      "cell_type": "code",
      "source": [
        "# Calculate the proportion of transactions with promotions\n",
        "total_transactions = len(transaction)\n",
        "promotions_count = transaction['promo_code'].notnull().sum()\n",
        "promotions_proportion = promotions_count / total_transactions\n",
        "\n",
        "# Calculate the proportion of transactions without promotions\n",
        "no_promotions_count = total_transactions - promotions_count\n",
        "no_promotions_proportion = no_promotions_count / total_transactions\n",
        "\n",
        "print(\"Proportion of transactions with promotions:\", promotions_proportion.round(2))\n",
        "print(\"Proportion of transactions without promotions:\", no_promotions_proportion.round(2))"
      ],
      "metadata": {
        "colab": {
          "base_uri": "https://localhost:8080/"
        },
        "id": "mZ4SwLOl1ulW",
        "outputId": "48382ad4-b1bc-4b9a-d658-e946fa803ec8"
      },
      "execution_count": null,
      "outputs": [
        {
          "output_type": "stream",
          "name": "stdout",
          "text": [
            "Proportion of transactions with promotions: 0.38\n",
            "Proportion of transactions without promotions: 0.62\n"
          ]
        }
      ]
    },
    {
      "cell_type": "code",
      "source": [
        "# Identify customers who have churned (not made any recent transactions)\n",
        "churned_customers = customer[~customer['customer_id'].isin(transaction['customer_id'])]\n",
        "\n",
        "# Analyze their promotional behavior\n",
        "churned_promotions_count = churned_customers['promo_code'].notnull().sum()\n",
        "churned_no_promotions_count = len(churned_customers) - churned_promotions_count\n",
        "\n",
        "print(\"Churned customers using promotions:\", churned_promotions_count)\n",
        "print(\"Churned customers not using promotions:\", churned_no_promotions_count)"
      ],
      "metadata": {
        "colab": {
          "base_uri": "https://localhost:8080/",
          "height": 514
        },
        "id": "cqklB0YN195R",
        "outputId": "6f62ac50-25c1-46ab-e2b3-0afd5717ef48"
      },
      "execution_count": null,
      "outputs": [
        {
          "output_type": "error",
          "ename": "KeyError",
          "evalue": "ignored",
          "traceback": [
            "\u001b[0;31m---------------------------------------------------------------------------\u001b[0m",
            "\u001b[0;31mKeyError\u001b[0m                                  Traceback (most recent call last)",
            "\u001b[0;32m/usr/local/lib/python3.10/dist-packages/pandas/core/indexes/base.py\u001b[0m in \u001b[0;36mget_loc\u001b[0;34m(self, key, method, tolerance)\u001b[0m\n\u001b[1;32m   3801\u001b[0m             \u001b[0;32mtry\u001b[0m\u001b[0;34m:\u001b[0m\u001b[0;34m\u001b[0m\u001b[0;34m\u001b[0m\u001b[0m\n\u001b[0;32m-> 3802\u001b[0;31m                 \u001b[0;32mreturn\u001b[0m \u001b[0mself\u001b[0m\u001b[0;34m.\u001b[0m\u001b[0m_engine\u001b[0m\u001b[0;34m.\u001b[0m\u001b[0mget_loc\u001b[0m\u001b[0;34m(\u001b[0m\u001b[0mcasted_key\u001b[0m\u001b[0;34m)\u001b[0m\u001b[0;34m\u001b[0m\u001b[0;34m\u001b[0m\u001b[0m\n\u001b[0m\u001b[1;32m   3803\u001b[0m             \u001b[0;32mexcept\u001b[0m \u001b[0mKeyError\u001b[0m \u001b[0;32mas\u001b[0m \u001b[0merr\u001b[0m\u001b[0;34m:\u001b[0m\u001b[0;34m\u001b[0m\u001b[0;34m\u001b[0m\u001b[0m\n",
            "\u001b[0;32m/usr/local/lib/python3.10/dist-packages/pandas/_libs/index.pyx\u001b[0m in \u001b[0;36mpandas._libs.index.IndexEngine.get_loc\u001b[0;34m()\u001b[0m\n",
            "\u001b[0;32m/usr/local/lib/python3.10/dist-packages/pandas/_libs/index.pyx\u001b[0m in \u001b[0;36mpandas._libs.index.IndexEngine.get_loc\u001b[0;34m()\u001b[0m\n",
            "\u001b[0;32mpandas/_libs/hashtable_class_helper.pxi\u001b[0m in \u001b[0;36mpandas._libs.hashtable.PyObjectHashTable.get_item\u001b[0;34m()\u001b[0m\n",
            "\u001b[0;32mpandas/_libs/hashtable_class_helper.pxi\u001b[0m in \u001b[0;36mpandas._libs.hashtable.PyObjectHashTable.get_item\u001b[0;34m()\u001b[0m\n",
            "\u001b[0;31mKeyError\u001b[0m: 'promo_code'",
            "\nThe above exception was the direct cause of the following exception:\n",
            "\u001b[0;31mKeyError\u001b[0m                                  Traceback (most recent call last)",
            "\u001b[0;32m<ipython-input-23-e24db3a856ae>\u001b[0m in \u001b[0;36m<cell line: 5>\u001b[0;34m()\u001b[0m\n\u001b[1;32m      3\u001b[0m \u001b[0;34m\u001b[0m\u001b[0m\n\u001b[1;32m      4\u001b[0m \u001b[0;31m# Analyze their promotional behavior\u001b[0m\u001b[0;34m\u001b[0m\u001b[0;34m\u001b[0m\u001b[0m\n\u001b[0;32m----> 5\u001b[0;31m \u001b[0mchurned_promotions_count\u001b[0m \u001b[0;34m=\u001b[0m \u001b[0mchurned_customers\u001b[0m\u001b[0;34m[\u001b[0m\u001b[0;34m'promo_code'\u001b[0m\u001b[0;34m]\u001b[0m\u001b[0;34m.\u001b[0m\u001b[0mnotnull\u001b[0m\u001b[0;34m(\u001b[0m\u001b[0;34m)\u001b[0m\u001b[0;34m.\u001b[0m\u001b[0msum\u001b[0m\u001b[0;34m(\u001b[0m\u001b[0;34m)\u001b[0m\u001b[0;34m\u001b[0m\u001b[0;34m\u001b[0m\u001b[0m\n\u001b[0m\u001b[1;32m      6\u001b[0m \u001b[0mchurned_no_promotions_count\u001b[0m \u001b[0;34m=\u001b[0m \u001b[0mlen\u001b[0m\u001b[0;34m(\u001b[0m\u001b[0mchurned_customers\u001b[0m\u001b[0;34m)\u001b[0m \u001b[0;34m-\u001b[0m \u001b[0mchurned_promotions_count\u001b[0m\u001b[0;34m\u001b[0m\u001b[0;34m\u001b[0m\u001b[0m\n\u001b[1;32m      7\u001b[0m \u001b[0;34m\u001b[0m\u001b[0m\n",
            "\u001b[0;32m/usr/local/lib/python3.10/dist-packages/pandas/core/frame.py\u001b[0m in \u001b[0;36m__getitem__\u001b[0;34m(self, key)\u001b[0m\n\u001b[1;32m   3805\u001b[0m             \u001b[0;32mif\u001b[0m \u001b[0mself\u001b[0m\u001b[0;34m.\u001b[0m\u001b[0mcolumns\u001b[0m\u001b[0;34m.\u001b[0m\u001b[0mnlevels\u001b[0m \u001b[0;34m>\u001b[0m \u001b[0;36m1\u001b[0m\u001b[0;34m:\u001b[0m\u001b[0;34m\u001b[0m\u001b[0;34m\u001b[0m\u001b[0m\n\u001b[1;32m   3806\u001b[0m                 \u001b[0;32mreturn\u001b[0m \u001b[0mself\u001b[0m\u001b[0;34m.\u001b[0m\u001b[0m_getitem_multilevel\u001b[0m\u001b[0;34m(\u001b[0m\u001b[0mkey\u001b[0m\u001b[0;34m)\u001b[0m\u001b[0;34m\u001b[0m\u001b[0;34m\u001b[0m\u001b[0m\n\u001b[0;32m-> 3807\u001b[0;31m             \u001b[0mindexer\u001b[0m \u001b[0;34m=\u001b[0m \u001b[0mself\u001b[0m\u001b[0;34m.\u001b[0m\u001b[0mcolumns\u001b[0m\u001b[0;34m.\u001b[0m\u001b[0mget_loc\u001b[0m\u001b[0;34m(\u001b[0m\u001b[0mkey\u001b[0m\u001b[0;34m)\u001b[0m\u001b[0;34m\u001b[0m\u001b[0;34m\u001b[0m\u001b[0m\n\u001b[0m\u001b[1;32m   3808\u001b[0m             \u001b[0;32mif\u001b[0m \u001b[0mis_integer\u001b[0m\u001b[0;34m(\u001b[0m\u001b[0mindexer\u001b[0m\u001b[0;34m)\u001b[0m\u001b[0;34m:\u001b[0m\u001b[0;34m\u001b[0m\u001b[0;34m\u001b[0m\u001b[0m\n\u001b[1;32m   3809\u001b[0m                 \u001b[0mindexer\u001b[0m \u001b[0;34m=\u001b[0m \u001b[0;34m[\u001b[0m\u001b[0mindexer\u001b[0m\u001b[0;34m]\u001b[0m\u001b[0;34m\u001b[0m\u001b[0;34m\u001b[0m\u001b[0m\n",
            "\u001b[0;32m/usr/local/lib/python3.10/dist-packages/pandas/core/indexes/base.py\u001b[0m in \u001b[0;36mget_loc\u001b[0;34m(self, key, method, tolerance)\u001b[0m\n\u001b[1;32m   3802\u001b[0m                 \u001b[0;32mreturn\u001b[0m \u001b[0mself\u001b[0m\u001b[0;34m.\u001b[0m\u001b[0m_engine\u001b[0m\u001b[0;34m.\u001b[0m\u001b[0mget_loc\u001b[0m\u001b[0;34m(\u001b[0m\u001b[0mcasted_key\u001b[0m\u001b[0;34m)\u001b[0m\u001b[0;34m\u001b[0m\u001b[0;34m\u001b[0m\u001b[0m\n\u001b[1;32m   3803\u001b[0m             \u001b[0;32mexcept\u001b[0m \u001b[0mKeyError\u001b[0m \u001b[0;32mas\u001b[0m \u001b[0merr\u001b[0m\u001b[0;34m:\u001b[0m\u001b[0;34m\u001b[0m\u001b[0;34m\u001b[0m\u001b[0m\n\u001b[0;32m-> 3804\u001b[0;31m                 \u001b[0;32mraise\u001b[0m \u001b[0mKeyError\u001b[0m\u001b[0;34m(\u001b[0m\u001b[0mkey\u001b[0m\u001b[0;34m)\u001b[0m \u001b[0;32mfrom\u001b[0m \u001b[0merr\u001b[0m\u001b[0;34m\u001b[0m\u001b[0;34m\u001b[0m\u001b[0m\n\u001b[0m\u001b[1;32m   3805\u001b[0m             \u001b[0;32mexcept\u001b[0m \u001b[0mTypeError\u001b[0m\u001b[0;34m:\u001b[0m\u001b[0;34m\u001b[0m\u001b[0;34m\u001b[0m\u001b[0m\n\u001b[1;32m   3806\u001b[0m                 \u001b[0;31m# If we have a listlike key, _check_indexing_error will raise\u001b[0m\u001b[0;34m\u001b[0m\u001b[0;34m\u001b[0m\u001b[0m\n",
            "\u001b[0;31mKeyError\u001b[0m: 'promo_code'"
          ]
        }
      ]
    },
    {
      "cell_type": "code",
      "source": [],
      "metadata": {
        "id": "LJmIAbMl2dXq"
      },
      "execution_count": null,
      "outputs": []
    }
  ]
}